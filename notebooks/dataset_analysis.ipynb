{
 "cells": [
  {
   "cell_type": "code",
   "execution_count": 1,
   "metadata": {},
   "outputs": [],
   "source": [
    "# Basic imports\n",
    "import pandas as pd\n",
    "import numpy as np\n",
    "import logging\n",
    "import warnings\n",
    "import os\n",
    "from collections import Counter\n",
    "from sklearn.decomposition import PCA\n",
    "import matplotlib.pyplot as plt\n",
    "# PyTorch imports\n",
    "import torch\n",
    "\n",
    "# PyTorch Tabular and Model imports (replace with correct imports based on your package structure)\n",
    "from pytorch_tabular import TabularModel\n",
    "from pytorch_tabular.models.category_embedding import CategoryEmbeddingModel\n",
    "\n",
    "from pytorch_tabular.categorical_encoders import CategoricalEmbeddingTransformer\n",
    "import sys\n",
    "sys.path.append('../')\n",
    "from src.data.process_data import load_dataset, split_dataset\n",
    "\n",
    "# Suppress common warnings\n",
    "logging.getLogger(\"pytorch_lightning\").setLevel(logging.ERROR)\n",
    "warnings.filterwarnings(\"ignore\", category=UserWarning)\n",
    "warnings.filterwarnings(\"ignore\", category=FutureWarning)\n",
    "warnings.filterwarnings(\"ignore\", category=pd.errors.PerformanceWarning)\n"
   ]
  },
  {
   "cell_type": "code",
   "execution_count": 2,
   "metadata": {},
   "outputs": [],
   "source": [
    "# Define the file paths to your datasets\n",
    "\n",
    "data_path = '../data/'\n",
    "drug_syn_path = os.path.join(data_path, 'drug_synergy.csv')\n",
    "cell_lines_path = os.path.join(data_path, 'cell_lines.csv')\n",
    "drug_portfolio_path = os.path.join(data_path, 'drug_portfolio.csv')\n",
    "\n",
    "full_dataset_df, column_type_dict = load_dataset(drug_syn_path, cell_lines_path, drug_portfolio_path)\n",
    "\n",
    "# Split the dataset into training, testing, and leaderboard sets\n",
    "datasets = split_dataset(full_dataset_df)\n",
    "\n",
    "categorical_cols = column_type_dict['categorical']['col_names']\n",
    "continuous_cols = column_type_dict['numerical']['col_names']"
   ]
  },
  {
   "cell_type": "code",
   "execution_count": 3,
   "metadata": {},
   "outputs": [
    {
     "name": "stdout",
     "output_type": "stream",
     "text": [
      "3475\n",
      "Index(['Cell line name', 'Compound A', 'Compound B',\n",
      "       'GDSC tissue descriptor 2', 'MSI', 'Growth properties',\n",
      "       'Putative target_A', 'Function_A', 'Pathway_A', 'Putative target_B',\n",
      "       'Function_B', 'Pathway_B', 'Max. conc. A', 'IC50 A', 'H A', 'Einf A',\n",
      "       'Max. conc. B', 'IC50 B', 'H B', 'Einf B', 'Synergy score',\n",
      "       'Combination ID', 'Dataset'],\n",
      "      dtype='object')\n",
      "12 8\n",
      "['Cell line name', 'Compound A', 'Compound B', 'GDSC tissue descriptor 2', 'MSI', 'Growth properties', 'Putative target_A', 'Function_A', 'Pathway_A', 'Putative target_B', 'Function_B', 'Pathway_B']\n",
      "['Max. conc. A', 'IC50 A', 'H A', 'Einf A', 'Max. conc. B', 'IC50 B', 'H B', 'Einf B']\n",
      "Counter({'train': 1795, 'test': 1089, 'LB': 591})\n",
      "167\n",
      "85\n",
      "Counter({'breast': 1942, 'lung_NSCLC_adenocarcinoma': 550, 'Bladder': 465, 'large_intestine': 191, 'lung_NSCLC_squamous_cell_carcinoma': 137, 'melanoma': 72, 'lung_small_cell_carcinoma': 45, 'lung_NSCLC_large cell': 38, 'stomach': 22, 'prostate': 7, 'myeloma': 6})\n"
     ]
    }
   ],
   "source": [
    "print(len(full_dataset_df))\n",
    "print(full_dataset_df.columns)\n",
    "print(len(categorical_cols), len(continuous_cols))\n",
    "print(categorical_cols)\n",
    "print(continuous_cols)\n",
    "print(Counter(full_dataset_df['Dataset']))\n",
    "print(len(Counter(full_dataset_df['Combination ID'])))\n",
    "print(len(Counter(full_dataset_df['Cell line name'])))\n",
    "print(Counter(full_dataset_df['GDSC tissue descriptor 2']))"
   ]
  },
  {
   "cell_type": "code",
   "execution_count": 4,
   "metadata": {},
   "outputs": [
    {
     "name": "stdout",
     "output_type": "stream",
     "text": [
      "Counter({'breast': 34, 'lung_NSCLC': 21, 'urogenital_system': 14, 'large_intestine': 10, 'skin': 2, 'digestive_system': 2, 'lung_SCLC': 1, 'myeloma': 1})\n",
      "85\n"
     ]
    }
   ],
   "source": [
    "cell_lines_df = pd.read_csv(cell_lines_path)\n",
    "# drop duplicates\n",
    "cell_lines_df = cell_lines_df[cell_lines_df['AZ-DREAM ']==1]\n",
    "cell_lines_df = cell_lines_df.drop_duplicates()\n",
    "print(Counter(cell_lines_df['GDSC tissue descriptor 1']))\n",
    "print(len(cell_lines_df['Cell line name'].unique()))"
   ]
  },
  {
   "cell_type": "code",
   "execution_count": 5,
   "metadata": {},
   "outputs": [
    {
     "name": "stdout",
     "output_type": "stream",
     "text": [
      "118\n",
      "Index(['Drug name', 'Challenge drug name', 'Putative target', 'Function',\n",
      "       'Pathway', 'HBA', 'HBD', 'Molecular weight', 'cLogP', 'Lipinski',\n",
      "       'SMILES'],\n",
      "      dtype='object')\n",
      "118\n"
     ]
    }
   ],
   "source": [
    "drug_portfolio_df = pd.read_csv(drug_portfolio_path, sep='\\t')\n",
    "print(len(drug_portfolio_df))\n",
    "print(drug_portfolio_df.columns)\n",
    "print(len(drug_portfolio_df['Challenge drug name'].unique()))"
   ]
  },
  {
   "cell_type": "code",
   "execution_count": null,
   "metadata": {},
   "outputs": [],
   "source": []
  }
 ],
 "metadata": {
  "kernelspec": {
   "display_name": "cat_drug_synergy",
   "language": "python",
   "name": "python3"
  },
  "language_info": {
   "codemirror_mode": {
    "name": "ipython",
    "version": 3
   },
   "file_extension": ".py",
   "mimetype": "text/x-python",
   "name": "python",
   "nbconvert_exporter": "python",
   "pygments_lexer": "ipython3",
   "version": "3.12.6"
  }
 },
 "nbformat": 4,
 "nbformat_minor": 2
}
