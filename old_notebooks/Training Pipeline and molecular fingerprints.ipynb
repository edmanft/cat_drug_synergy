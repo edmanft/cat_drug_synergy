{
  "nbformat": 4,
  "nbformat_minor": 0,
  "metadata": {
    "colab": {
      "name": "Copy of Word_embeddings.ipynb",
      "provenance": [],
      "toc_visible": true,
      "mount_file_id": "https://github.com/edmanft/Drug_Synergy/blob/main/Word_embeddings_colaboratory_commutative.ipynb",
      "authorship_tag": "ABX9TyPdKMpjQ8/b6R6LV5cHCSvW",
      "include_colab_link": true
    },
    "kernelspec": {
      "name": "python3",
      "display_name": "Python 3"
    },
    "language_info": {
      "name": "python"
    }
  },
  "cells": [
    {
      "cell_type": "markdown",
      "metadata": {
        "id": "view-in-github",
        "colab_type": "text"
      },
      "source": [
        "<a href=\"https://colab.research.google.com/github/edmanft/Drug_Synergy/blob/main/Training%20Pipeline%20and%20molecular%20fingerprints.ipynb\" target=\"_parent\"><img src=\"https://colab.research.google.com/assets/colab-badge.svg\" alt=\"Open In Colab\"/></a>"
      ]
    },
    {
      "cell_type": "markdown",
      "source": [
        "\n",
        "\n",
        "\n",
        "\n",
        "# Loading packages"
      ],
      "metadata": {
        "id": "RgzUTT93a4-h"
      }
    },
    {
      "cell_type": "code",
      "source": [
        "!pip install fastai --upgrade\n",
        "!pip install dtreeviz\n",
        "!pip install fastbook"
      ],
      "metadata": {
        "colab": {
          "base_uri": "https://localhost:8080/"
        },
        "id": "Dl-h3Pk5X0v7",
        "outputId": "dc5b675c-f373-41c1-9d0c-db9d6dee8b65"
      },
      "execution_count": 1,
      "outputs": [
        {
          "output_type": "stream",
          "name": "stdout",
          "text": [
            "Looking in indexes: https://pypi.org/simple, https://us-python.pkg.dev/colab-wheels/public/simple/\n",
            "Requirement already satisfied: fastai in /usr/local/lib/python3.7/dist-packages (1.0.61)\n",
            "Collecting fastai\n",
            "  Downloading fastai-2.6.3-py3-none-any.whl (197 kB)\n",
            "\u001b[K     |████████████████████████████████| 197 kB 16.8 MB/s \n",
            "\u001b[?25hCollecting fastdownload<2,>=0.0.5\n",
            "  Downloading fastdownload-0.0.6-py3-none-any.whl (12 kB)\n",
            "Requirement already satisfied: pillow>6.0.0 in /usr/local/lib/python3.7/dist-packages (from fastai) (7.1.2)\n",
            "Requirement already satisfied: requests in /usr/local/lib/python3.7/dist-packages (from fastai) (2.23.0)\n",
            "Requirement already satisfied: pyyaml in /usr/local/lib/python3.7/dist-packages (from fastai) (3.13)\n",
            "Requirement already satisfied: pip in /usr/local/lib/python3.7/dist-packages (from fastai) (21.1.3)\n",
            "Requirement already satisfied: scipy in /usr/local/lib/python3.7/dist-packages (from fastai) (1.4.1)\n",
            "Requirement already satisfied: torch<1.12,>=1.7.0 in /usr/local/lib/python3.7/dist-packages (from fastai) (1.11.0+cu113)\n",
            "Requirement already satisfied: fastprogress>=0.2.4 in /usr/local/lib/python3.7/dist-packages (from fastai) (1.0.2)\n",
            "Requirement already satisfied: pandas in /usr/local/lib/python3.7/dist-packages (from fastai) (1.3.5)\n",
            "Requirement already satisfied: spacy<4 in /usr/local/lib/python3.7/dist-packages (from fastai) (2.2.4)\n",
            "Collecting fastcore<1.5,>=1.3.27\n",
            "  Downloading fastcore-1.4.3-py3-none-any.whl (59 kB)\n",
            "\u001b[K     |████████████████████████████████| 59 kB 4.1 MB/s \n",
            "\u001b[?25hRequirement already satisfied: packaging in /usr/local/lib/python3.7/dist-packages (from fastai) (21.3)\n",
            "Requirement already satisfied: scikit-learn in /usr/local/lib/python3.7/dist-packages (from fastai) (1.0.2)\n",
            "Requirement already satisfied: matplotlib in /usr/local/lib/python3.7/dist-packages (from fastai) (3.2.2)\n",
            "Requirement already satisfied: torchvision>=0.8.2 in /usr/local/lib/python3.7/dist-packages (from fastai) (0.12.0+cu113)\n",
            "Requirement already satisfied: murmurhash<1.1.0,>=0.28.0 in /usr/local/lib/python3.7/dist-packages (from spacy<4->fastai) (1.0.7)\n",
            "Requirement already satisfied: thinc==7.4.0 in /usr/local/lib/python3.7/dist-packages (from spacy<4->fastai) (7.4.0)\n",
            "Requirement already satisfied: wasabi<1.1.0,>=0.4.0 in /usr/local/lib/python3.7/dist-packages (from spacy<4->fastai) (0.9.1)\n",
            "Requirement already satisfied: srsly<1.1.0,>=1.0.2 in /usr/local/lib/python3.7/dist-packages (from spacy<4->fastai) (1.0.5)\n",
            "Requirement already satisfied: blis<0.5.0,>=0.4.0 in /usr/local/lib/python3.7/dist-packages (from spacy<4->fastai) (0.4.1)\n",
            "Requirement already satisfied: catalogue<1.1.0,>=0.0.7 in /usr/local/lib/python3.7/dist-packages (from spacy<4->fastai) (1.0.0)\n",
            "Requirement already satisfied: tqdm<5.0.0,>=4.38.0 in /usr/local/lib/python3.7/dist-packages (from spacy<4->fastai) (4.64.0)\n",
            "Requirement already satisfied: cymem<2.1.0,>=2.0.2 in /usr/local/lib/python3.7/dist-packages (from spacy<4->fastai) (2.0.6)\n",
            "Requirement already satisfied: setuptools in /usr/local/lib/python3.7/dist-packages (from spacy<4->fastai) (57.4.0)\n",
            "Requirement already satisfied: numpy>=1.15.0 in /usr/local/lib/python3.7/dist-packages (from spacy<4->fastai) (1.21.6)\n",
            "Requirement already satisfied: plac<1.2.0,>=0.9.6 in /usr/local/lib/python3.7/dist-packages (from spacy<4->fastai) (1.1.3)\n",
            "Requirement already satisfied: preshed<3.1.0,>=3.0.2 in /usr/local/lib/python3.7/dist-packages (from spacy<4->fastai) (3.0.6)\n",
            "Requirement already satisfied: importlib-metadata>=0.20 in /usr/local/lib/python3.7/dist-packages (from catalogue<1.1.0,>=0.0.7->spacy<4->fastai) (4.11.3)\n",
            "Requirement already satisfied: typing-extensions>=3.6.4 in /usr/local/lib/python3.7/dist-packages (from importlib-metadata>=0.20->catalogue<1.1.0,>=0.0.7->spacy<4->fastai) (4.2.0)\n",
            "Requirement already satisfied: zipp>=0.5 in /usr/local/lib/python3.7/dist-packages (from importlib-metadata>=0.20->catalogue<1.1.0,>=0.0.7->spacy<4->fastai) (3.8.0)\n",
            "Requirement already satisfied: chardet<4,>=3.0.2 in /usr/local/lib/python3.7/dist-packages (from requests->fastai) (3.0.4)\n",
            "Requirement already satisfied: idna<3,>=2.5 in /usr/local/lib/python3.7/dist-packages (from requests->fastai) (2.10)\n",
            "Requirement already satisfied: urllib3!=1.25.0,!=1.25.1,<1.26,>=1.21.1 in /usr/local/lib/python3.7/dist-packages (from requests->fastai) (1.24.3)\n",
            "Requirement already satisfied: certifi>=2017.4.17 in /usr/local/lib/python3.7/dist-packages (from requests->fastai) (2022.5.18.1)\n",
            "Requirement already satisfied: cycler>=0.10 in /usr/local/lib/python3.7/dist-packages (from matplotlib->fastai) (0.11.0)\n",
            "Requirement already satisfied: python-dateutil>=2.1 in /usr/local/lib/python3.7/dist-packages (from matplotlib->fastai) (2.8.2)\n",
            "Requirement already satisfied: pyparsing!=2.0.4,!=2.1.2,!=2.1.6,>=2.0.1 in /usr/local/lib/python3.7/dist-packages (from matplotlib->fastai) (3.0.9)\n",
            "Requirement already satisfied: kiwisolver>=1.0.1 in /usr/local/lib/python3.7/dist-packages (from matplotlib->fastai) (1.4.2)\n",
            "Requirement already satisfied: six>=1.5 in /usr/local/lib/python3.7/dist-packages (from python-dateutil>=2.1->matplotlib->fastai) (1.15.0)\n",
            "Requirement already satisfied: pytz>=2017.3 in /usr/local/lib/python3.7/dist-packages (from pandas->fastai) (2022.1)\n",
            "Requirement already satisfied: threadpoolctl>=2.0.0 in /usr/local/lib/python3.7/dist-packages (from scikit-learn->fastai) (3.1.0)\n",
            "Requirement already satisfied: joblib>=0.11 in /usr/local/lib/python3.7/dist-packages (from scikit-learn->fastai) (1.1.0)\n",
            "Installing collected packages: fastcore, fastdownload, fastai\n",
            "  Attempting uninstall: fastai\n",
            "    Found existing installation: fastai 1.0.61\n",
            "    Uninstalling fastai-1.0.61:\n",
            "      Successfully uninstalled fastai-1.0.61\n",
            "Successfully installed fastai-2.6.3 fastcore-1.4.3 fastdownload-0.0.6\n",
            "Looking in indexes: https://pypi.org/simple, https://us-python.pkg.dev/colab-wheels/public/simple/\n",
            "Collecting dtreeviz\n",
            "  Downloading dtreeviz-1.3.6.tar.gz (61 kB)\n",
            "\u001b[K     |████████████████████████████████| 61 kB 30 kB/s \n",
            "\u001b[?25hRequirement already satisfied: graphviz>=0.9 in /usr/local/lib/python3.7/dist-packages (from dtreeviz) (0.10.1)\n",
            "Requirement already satisfied: pandas in /usr/local/lib/python3.7/dist-packages (from dtreeviz) (1.3.5)\n",
            "Requirement already satisfied: numpy in /usr/local/lib/python3.7/dist-packages (from dtreeviz) (1.21.6)\n",
            "Requirement already satisfied: scikit-learn in /usr/local/lib/python3.7/dist-packages (from dtreeviz) (1.0.2)\n",
            "Requirement already satisfied: matplotlib in /usr/local/lib/python3.7/dist-packages (from dtreeviz) (3.2.2)\n",
            "Collecting colour\n",
            "  Downloading colour-0.1.5-py2.py3-none-any.whl (23 kB)\n",
            "Requirement already satisfied: pytest in /usr/local/lib/python3.7/dist-packages (from dtreeviz) (3.6.4)\n",
            "Requirement already satisfied: cycler>=0.10 in /usr/local/lib/python3.7/dist-packages (from matplotlib->dtreeviz) (0.11.0)\n",
            "Requirement already satisfied: python-dateutil>=2.1 in /usr/local/lib/python3.7/dist-packages (from matplotlib->dtreeviz) (2.8.2)\n",
            "Requirement already satisfied: pyparsing!=2.0.4,!=2.1.2,!=2.1.6,>=2.0.1 in /usr/local/lib/python3.7/dist-packages (from matplotlib->dtreeviz) (3.0.9)\n",
            "Requirement already satisfied: kiwisolver>=1.0.1 in /usr/local/lib/python3.7/dist-packages (from matplotlib->dtreeviz) (1.4.2)\n",
            "Requirement already satisfied: typing-extensions in /usr/local/lib/python3.7/dist-packages (from kiwisolver>=1.0.1->matplotlib->dtreeviz) (4.2.0)\n",
            "Requirement already satisfied: six>=1.5 in /usr/local/lib/python3.7/dist-packages (from python-dateutil>=2.1->matplotlib->dtreeviz) (1.15.0)\n",
            "Requirement already satisfied: pytz>=2017.3 in /usr/local/lib/python3.7/dist-packages (from pandas->dtreeviz) (2022.1)\n",
            "Requirement already satisfied: setuptools in /usr/local/lib/python3.7/dist-packages (from pytest->dtreeviz) (57.4.0)\n",
            "Requirement already satisfied: pluggy<0.8,>=0.5 in /usr/local/lib/python3.7/dist-packages (from pytest->dtreeviz) (0.7.1)\n",
            "Requirement already satisfied: py>=1.5.0 in /usr/local/lib/python3.7/dist-packages (from pytest->dtreeviz) (1.11.0)\n",
            "Requirement already satisfied: atomicwrites>=1.0 in /usr/local/lib/python3.7/dist-packages (from pytest->dtreeviz) (1.4.0)\n",
            "Requirement already satisfied: more-itertools>=4.0.0 in /usr/local/lib/python3.7/dist-packages (from pytest->dtreeviz) (8.13.0)\n",
            "Requirement already satisfied: attrs>=17.4.0 in /usr/local/lib/python3.7/dist-packages (from pytest->dtreeviz) (21.4.0)\n",
            "Requirement already satisfied: threadpoolctl>=2.0.0 in /usr/local/lib/python3.7/dist-packages (from scikit-learn->dtreeviz) (3.1.0)\n",
            "Requirement already satisfied: scipy>=1.1.0 in /usr/local/lib/python3.7/dist-packages (from scikit-learn->dtreeviz) (1.4.1)\n",
            "Requirement already satisfied: joblib>=0.11 in /usr/local/lib/python3.7/dist-packages (from scikit-learn->dtreeviz) (1.1.0)\n",
            "Building wheels for collected packages: dtreeviz\n",
            "  Building wheel for dtreeviz (setup.py) ... \u001b[?25l\u001b[?25hdone\n",
            "  Created wheel for dtreeviz: filename=dtreeviz-1.3.6-py3-none-any.whl size=67326 sha256=0f465d59db73656f0e1af91dc28ba8186d7bd280432a104d73ecadce7c92cfd3\n",
            "  Stored in directory: /root/.cache/pip/wheels/33/76/fe/99227ff871766e7284bb88d3d28e2f4886b8ec04d669033478\n",
            "Successfully built dtreeviz\n",
            "Installing collected packages: colour, dtreeviz\n",
            "Successfully installed colour-0.1.5 dtreeviz-1.3.6\n",
            "Looking in indexes: https://pypi.org/simple, https://us-python.pkg.dev/colab-wheels/public/simple/\n",
            "Collecting fastbook\n",
            "  Downloading fastbook-0.0.26-py3-none-any.whl (719 kB)\n",
            "\u001b[K     |████████████████████████████████| 719 kB 32.5 MB/s \n",
            "\u001b[?25hRequirement already satisfied: pandas in /usr/local/lib/python3.7/dist-packages (from fastbook) (1.3.5)\n",
            "Requirement already satisfied: graphviz in /usr/local/lib/python3.7/dist-packages (from fastbook) (0.10.1)\n",
            "Requirement already satisfied: pip in /usr/local/lib/python3.7/dist-packages (from fastbook) (21.1.3)\n",
            "Collecting transformers\n",
            "  Downloading transformers-4.19.2-py3-none-any.whl (4.2 MB)\n",
            "\u001b[K     |████████████████████████████████| 4.2 MB 53.3 MB/s \n",
            "\u001b[?25hRequirement already satisfied: packaging in /usr/local/lib/python3.7/dist-packages (from fastbook) (21.3)\n",
            "Collecting datasets\n",
            "  Downloading datasets-2.2.2-py3-none-any.whl (346 kB)\n",
            "\u001b[K     |████████████████████████████████| 346 kB 59.7 MB/s \n",
            "\u001b[?25hCollecting sentencepiece\n",
            "  Downloading sentencepiece-0.1.96-cp37-cp37m-manylinux_2_17_x86_64.manylinux2014_x86_64.whl (1.2 MB)\n",
            "\u001b[K     |████████████████████████████████| 1.2 MB 53.5 MB/s \n",
            "\u001b[?25hRequirement already satisfied: requests in /usr/local/lib/python3.7/dist-packages (from fastbook) (2.23.0)\n",
            "Requirement already satisfied: fastai>=2.6 in /usr/local/lib/python3.7/dist-packages (from fastbook) (2.6.3)\n",
            "Requirement already satisfied: torchvision>=0.8.2 in /usr/local/lib/python3.7/dist-packages (from fastai>=2.6->fastbook) (0.12.0+cu113)\n",
            "Requirement already satisfied: matplotlib in /usr/local/lib/python3.7/dist-packages (from fastai>=2.6->fastbook) (3.2.2)\n",
            "Requirement already satisfied: fastcore<1.5,>=1.3.27 in /usr/local/lib/python3.7/dist-packages (from fastai>=2.6->fastbook) (1.4.3)\n",
            "Requirement already satisfied: fastprogress>=0.2.4 in /usr/local/lib/python3.7/dist-packages (from fastai>=2.6->fastbook) (1.0.2)\n",
            "Requirement already satisfied: torch<1.12,>=1.7.0 in /usr/local/lib/python3.7/dist-packages (from fastai>=2.6->fastbook) (1.11.0+cu113)\n",
            "Requirement already satisfied: scikit-learn in /usr/local/lib/python3.7/dist-packages (from fastai>=2.6->fastbook) (1.0.2)\n",
            "Requirement already satisfied: scipy in /usr/local/lib/python3.7/dist-packages (from fastai>=2.6->fastbook) (1.4.1)\n",
            "Requirement already satisfied: pillow>6.0.0 in /usr/local/lib/python3.7/dist-packages (from fastai>=2.6->fastbook) (7.1.2)\n",
            "Requirement already satisfied: pyyaml in /usr/local/lib/python3.7/dist-packages (from fastai>=2.6->fastbook) (3.13)\n",
            "Requirement already satisfied: spacy<4 in /usr/local/lib/python3.7/dist-packages (from fastai>=2.6->fastbook) (2.2.4)\n",
            "Requirement already satisfied: fastdownload<2,>=0.0.5 in /usr/local/lib/python3.7/dist-packages (from fastai>=2.6->fastbook) (0.0.6)\n",
            "Requirement already satisfied: tqdm<5.0.0,>=4.38.0 in /usr/local/lib/python3.7/dist-packages (from spacy<4->fastai>=2.6->fastbook) (4.64.0)\n",
            "Requirement already satisfied: murmurhash<1.1.0,>=0.28.0 in /usr/local/lib/python3.7/dist-packages (from spacy<4->fastai>=2.6->fastbook) (1.0.7)\n",
            "Requirement already satisfied: catalogue<1.1.0,>=0.0.7 in /usr/local/lib/python3.7/dist-packages (from spacy<4->fastai>=2.6->fastbook) (1.0.0)\n",
            "Requirement already satisfied: thinc==7.4.0 in /usr/local/lib/python3.7/dist-packages (from spacy<4->fastai>=2.6->fastbook) (7.4.0)\n",
            "Requirement already satisfied: cymem<2.1.0,>=2.0.2 in /usr/local/lib/python3.7/dist-packages (from spacy<4->fastai>=2.6->fastbook) (2.0.6)\n",
            "Requirement already satisfied: preshed<3.1.0,>=3.0.2 in /usr/local/lib/python3.7/dist-packages (from spacy<4->fastai>=2.6->fastbook) (3.0.6)\n",
            "Requirement already satisfied: plac<1.2.0,>=0.9.6 in /usr/local/lib/python3.7/dist-packages (from spacy<4->fastai>=2.6->fastbook) (1.1.3)\n",
            "Requirement already satisfied: setuptools in /usr/local/lib/python3.7/dist-packages (from spacy<4->fastai>=2.6->fastbook) (57.4.0)\n",
            "Requirement already satisfied: blis<0.5.0,>=0.4.0 in /usr/local/lib/python3.7/dist-packages (from spacy<4->fastai>=2.6->fastbook) (0.4.1)\n",
            "Requirement already satisfied: srsly<1.1.0,>=1.0.2 in /usr/local/lib/python3.7/dist-packages (from spacy<4->fastai>=2.6->fastbook) (1.0.5)\n",
            "Requirement already satisfied: numpy>=1.15.0 in /usr/local/lib/python3.7/dist-packages (from spacy<4->fastai>=2.6->fastbook) (1.21.6)\n",
            "Requirement already satisfied: wasabi<1.1.0,>=0.4.0 in /usr/local/lib/python3.7/dist-packages (from spacy<4->fastai>=2.6->fastbook) (0.9.1)\n",
            "Requirement already satisfied: importlib-metadata>=0.20 in /usr/local/lib/python3.7/dist-packages (from catalogue<1.1.0,>=0.0.7->spacy<4->fastai>=2.6->fastbook) (4.11.3)\n",
            "Requirement already satisfied: typing-extensions>=3.6.4 in /usr/local/lib/python3.7/dist-packages (from importlib-metadata>=0.20->catalogue<1.1.0,>=0.0.7->spacy<4->fastai>=2.6->fastbook) (4.2.0)\n",
            "Requirement already satisfied: zipp>=0.5 in /usr/local/lib/python3.7/dist-packages (from importlib-metadata>=0.20->catalogue<1.1.0,>=0.0.7->spacy<4->fastai>=2.6->fastbook) (3.8.0)\n",
            "Requirement already satisfied: idna<3,>=2.5 in /usr/local/lib/python3.7/dist-packages (from requests->fastbook) (2.10)\n",
            "Requirement already satisfied: certifi>=2017.4.17 in /usr/local/lib/python3.7/dist-packages (from requests->fastbook) (2022.5.18.1)\n",
            "Requirement already satisfied: chardet<4,>=3.0.2 in /usr/local/lib/python3.7/dist-packages (from requests->fastbook) (3.0.4)\n",
            "Requirement already satisfied: urllib3!=1.25.0,!=1.25.1,<1.26,>=1.21.1 in /usr/local/lib/python3.7/dist-packages (from requests->fastbook) (1.24.3)\n",
            "Collecting xxhash\n",
            "  Downloading xxhash-3.0.0-cp37-cp37m-manylinux_2_17_x86_64.manylinux2014_x86_64.whl (212 kB)\n",
            "\u001b[K     |████████████████████████████████| 212 kB 59.1 MB/s \n",
            "\u001b[?25hCollecting responses<0.19\n",
            "  Downloading responses-0.18.0-py3-none-any.whl (38 kB)\n",
            "Requirement already satisfied: pyarrow>=6.0.0 in /usr/local/lib/python3.7/dist-packages (from datasets->fastbook) (6.0.1)\n",
            "Requirement already satisfied: multiprocess in /usr/local/lib/python3.7/dist-packages (from datasets->fastbook) (0.70.12.2)\n",
            "Collecting fsspec[http]>=2021.05.0\n",
            "  Downloading fsspec-2022.5.0-py3-none-any.whl (140 kB)\n",
            "\u001b[K     |████████████████████████████████| 140 kB 60.8 MB/s \n",
            "\u001b[?25hCollecting huggingface-hub<1.0.0,>=0.1.0\n",
            "  Downloading huggingface_hub-0.7.0-py3-none-any.whl (86 kB)\n",
            "\u001b[K     |████████████████████████████████| 86 kB 6.0 MB/s \n",
            "\u001b[?25hCollecting aiohttp\n",
            "  Downloading aiohttp-3.8.1-cp37-cp37m-manylinux_2_5_x86_64.manylinux1_x86_64.manylinux_2_12_x86_64.manylinux2010_x86_64.whl (1.1 MB)\n",
            "\u001b[K     |████████████████████████████████| 1.1 MB 62.4 MB/s \n",
            "\u001b[?25hCollecting dill<0.3.5\n",
            "  Downloading dill-0.3.4-py2.py3-none-any.whl (86 kB)\n",
            "\u001b[K     |████████████████████████████████| 86 kB 7.3 MB/s \n",
            "\u001b[?25hCollecting pyyaml\n",
            "  Downloading PyYAML-6.0-cp37-cp37m-manylinux_2_5_x86_64.manylinux1_x86_64.manylinux_2_12_x86_64.manylinux2010_x86_64.whl (596 kB)\n",
            "\u001b[K     |████████████████████████████████| 596 kB 61.0 MB/s \n",
            "\u001b[?25hRequirement already satisfied: filelock in /usr/local/lib/python3.7/dist-packages (from huggingface-hub<1.0.0,>=0.1.0->datasets->fastbook) (3.7.0)\n",
            "Requirement already satisfied: pyparsing!=3.0.5,>=2.0.2 in /usr/local/lib/python3.7/dist-packages (from packaging->fastbook) (3.0.9)\n",
            "Collecting urllib3!=1.25.0,!=1.25.1,<1.26,>=1.21.1\n",
            "  Downloading urllib3-1.25.11-py2.py3-none-any.whl (127 kB)\n",
            "\u001b[K     |████████████████████████████████| 127 kB 63.4 MB/s \n",
            "\u001b[?25hCollecting async-timeout<5.0,>=4.0.0a3\n",
            "  Downloading async_timeout-4.0.2-py3-none-any.whl (5.8 kB)\n",
            "Requirement already satisfied: attrs>=17.3.0 in /usr/local/lib/python3.7/dist-packages (from aiohttp->datasets->fastbook) (21.4.0)\n",
            "Collecting aiosignal>=1.1.2\n",
            "  Downloading aiosignal-1.2.0-py3-none-any.whl (8.2 kB)\n",
            "Collecting asynctest==0.13.0\n",
            "  Downloading asynctest-0.13.0-py3-none-any.whl (26 kB)\n",
            "Collecting yarl<2.0,>=1.0\n",
            "  Downloading yarl-1.7.2-cp37-cp37m-manylinux_2_5_x86_64.manylinux1_x86_64.manylinux_2_12_x86_64.manylinux2010_x86_64.whl (271 kB)\n",
            "\u001b[K     |████████████████████████████████| 271 kB 62.3 MB/s \n",
            "\u001b[?25hRequirement already satisfied: charset-normalizer<3.0,>=2.0 in /usr/local/lib/python3.7/dist-packages (from aiohttp->datasets->fastbook) (2.0.12)\n",
            "Collecting multidict<7.0,>=4.5\n",
            "  Downloading multidict-6.0.2-cp37-cp37m-manylinux_2_17_x86_64.manylinux2014_x86_64.whl (94 kB)\n",
            "\u001b[K     |████████████████████████████████| 94 kB 4.5 MB/s \n",
            "\u001b[?25hCollecting frozenlist>=1.1.1\n",
            "  Downloading frozenlist-1.3.0-cp37-cp37m-manylinux_2_5_x86_64.manylinux1_x86_64.manylinux_2_17_x86_64.manylinux2014_x86_64.whl (144 kB)\n",
            "\u001b[K     |████████████████████████████████| 144 kB 61.8 MB/s \n",
            "\u001b[?25hRequirement already satisfied: kiwisolver>=1.0.1 in /usr/local/lib/python3.7/dist-packages (from matplotlib->fastai>=2.6->fastbook) (1.4.2)\n",
            "Requirement already satisfied: cycler>=0.10 in /usr/local/lib/python3.7/dist-packages (from matplotlib->fastai>=2.6->fastbook) (0.11.0)\n",
            "Requirement already satisfied: python-dateutil>=2.1 in /usr/local/lib/python3.7/dist-packages (from matplotlib->fastai>=2.6->fastbook) (2.8.2)\n",
            "Requirement already satisfied: six>=1.5 in /usr/local/lib/python3.7/dist-packages (from python-dateutil>=2.1->matplotlib->fastai>=2.6->fastbook) (1.15.0)\n",
            "Requirement already satisfied: pytz>=2017.3 in /usr/local/lib/python3.7/dist-packages (from pandas->fastbook) (2022.1)\n",
            "Requirement already satisfied: threadpoolctl>=2.0.0 in /usr/local/lib/python3.7/dist-packages (from scikit-learn->fastai>=2.6->fastbook) (3.1.0)\n",
            "Requirement already satisfied: joblib>=0.11 in /usr/local/lib/python3.7/dist-packages (from scikit-learn->fastai>=2.6->fastbook) (1.1.0)\n",
            "Collecting tokenizers!=0.11.3,<0.13,>=0.11.1\n",
            "  Downloading tokenizers-0.12.1-cp37-cp37m-manylinux_2_12_x86_64.manylinux2010_x86_64.whl (6.6 MB)\n",
            "\u001b[K     |████████████████████████████████| 6.6 MB 64.0 MB/s \n",
            "\u001b[?25hRequirement already satisfied: regex!=2019.12.17 in /usr/local/lib/python3.7/dist-packages (from transformers->fastbook) (2019.12.20)\n",
            "Installing collected packages: multidict, frozenlist, yarl, urllib3, asynctest, async-timeout, aiosignal, pyyaml, fsspec, dill, aiohttp, xxhash, tokenizers, responses, huggingface-hub, transformers, sentencepiece, datasets, fastbook\n",
            "  Attempting uninstall: urllib3\n",
            "    Found existing installation: urllib3 1.24.3\n",
            "    Uninstalling urllib3-1.24.3:\n",
            "      Successfully uninstalled urllib3-1.24.3\n",
            "  Attempting uninstall: pyyaml\n",
            "    Found existing installation: PyYAML 3.13\n",
            "    Uninstalling PyYAML-3.13:\n",
            "      Successfully uninstalled PyYAML-3.13\n",
            "  Attempting uninstall: dill\n",
            "    Found existing installation: dill 0.3.5.1\n",
            "    Uninstalling dill-0.3.5.1:\n",
            "      Successfully uninstalled dill-0.3.5.1\n",
            "\u001b[31mERROR: pip's dependency resolver does not currently take into account all the packages that are installed. This behaviour is the source of the following dependency conflicts.\n",
            "datascience 0.10.6 requires folium==0.2.1, but you have folium 0.8.3 which is incompatible.\u001b[0m\n",
            "Successfully installed aiohttp-3.8.1 aiosignal-1.2.0 async-timeout-4.0.2 asynctest-0.13.0 datasets-2.2.2 dill-0.3.4 fastbook-0.0.26 frozenlist-1.3.0 fsspec-2022.5.0 huggingface-hub-0.7.0 multidict-6.0.2 pyyaml-6.0 responses-0.18.0 sentencepiece-0.1.96 tokenizers-0.12.1 transformers-4.19.2 urllib3-1.25.11 xxhash-3.0.0 yarl-1.7.2\n"
          ]
        }
      ]
    },
    {
      "cell_type": "code",
      "execution_count": 2,
      "metadata": {
        "colab": {
          "base_uri": "https://localhost:8080/"
        },
        "id": "hbEoSe-AXiTd",
        "outputId": "06714d77-c152-4757-d972-5d5f4c5e7e39"
      },
      "outputs": [
        {
          "output_type": "stream",
          "name": "stdout",
          "text": [
            "Mounted at /content/gdrive\n"
          ]
        }
      ],
      "source": [
        "import fastbook\n",
        "fastbook.setup_book()"
      ]
    },
    {
      "cell_type": "code",
      "source": [
        "from fastbook import *\n",
        "\n",
        "from pandas.api.types import is_string_dtype, is_numeric_dtype, is_categorical_dtype\n",
        "from fastai.tabular.all import *\n",
        "from sklearn.ensemble import RandomForestRegressor\n",
        "from sklearn.tree import DecisionTreeRegressor\n",
        "from sklearn.svm import SVR\n",
        "\n",
        "from dtreeviz.trees import *\n",
        "from IPython.display import Image, display_svg, SVG\n",
        "from collections import Counter\n",
        "import seaborn as sns\n",
        "import xgboost\n",
        "from xgboost import XGBRegressor\n",
        "\n",
        "pd.options.display.max_rows = 20\n",
        "pd.options.display.max_columns = 8"
      ],
      "metadata": {
        "id": "zBZBhbi7X5Zk"
      },
      "execution_count": 3,
      "outputs": []
    },
    {
      "cell_type": "markdown",
      "source": [
        "# Loading Data 1"
      ],
      "metadata": {
        "id": "vSlhUWpYbBRx"
      }
    },
    {
      "cell_type": "code",
      "source": [
        "\n",
        "\n",
        "def from_csv_to_data(path, dep_var):\n",
        "\n",
        "  df_drug_comb = pd.read_csv(path, index_col = 0)\n",
        "  df_drug_comb = df_drug_comb[df_drug_comb[\"QA\"] == 1]\n",
        "  df_drug_comb.drop(['QA','Challenge'], axis = 1, inplace = True)\n",
        "  procs = [Categorify, FillMissing]\n",
        "  # We shuffle the data\n",
        "  df_drug_comb = df_drug_comb.sample(frac=1).reset_index(drop=True)\n",
        "  dataset_size = df_drug_comb.shape[0]\n",
        "  complete_list = np.arange(dataset_size, dtype = int)\n",
        "  mask_train = df_drug_comb[\"Dataset\"]==\"train\"\n",
        "  train_idx = complete_list[mask_train]\n",
        "\n",
        "  test_idx = complete_list[~mask_train]\n",
        "\n",
        "\n",
        "\n",
        "  splits = (list(train_idx),list(test_idx))\n",
        "\n",
        "  df_drug_comb.drop(['Dataset'], axis = 1, inplace = True)\n",
        "  df_nocomb = df_drug_comb.drop(['Combination ID'], axis = 1)\n",
        "  cont,cat = cont_cat_split(df_nocomb, 1, dep_var=dep_var)\n",
        "  to = TabularPandas(df_nocomb, procs, cat, cont, y_names=dep_var, splits=splits)\n",
        "  xs,y = to.train.xs,to.train.y\n",
        "  valid_xs,valid_y = to.valid.xs,to.valid.y\n",
        "  return xs,y, valid_xs,valid_y"
      ],
      "metadata": {
        "id": "dbcVPp4oY5xW"
      },
      "execution_count": 4,
      "outputs": []
    },
    {
      "cell_type": "code",
      "source": [
        "path = \"/content/gdrive/MyDrive/archivos_tfm/drug_comb_commutative.csv\"\n",
        "dep_var = 'Synergy score'\n",
        "xs,y, valid_xs,valid_y = from_csv_to_data(path, dep_var)"
      ],
      "metadata": {
        "id": "TR638Ru-ePtb"
      },
      "execution_count": null,
      "outputs": []
    },
    {
      "cell_type": "markdown",
      "source": [
        "## Minimum model"
      ],
      "metadata": {
        "id": "hHGJ2ZFGtd5d"
      }
    },
    {
      "cell_type": "code",
      "source": [
        "def from_csv_to_data_minimum(path, dep_var):\n",
        "  \"This is for the dataset where we have already removed QA and challenge\"\n",
        "  df_drug_comb = pd.read_csv(path, index_col = 0, header = 0)\n",
        "  \n",
        "  procs = [Categorify, FillMissing]\n",
        "  # We shuffle the data\n",
        "  df_drug_comb = df_drug_comb.sample(frac=1).reset_index(drop=True)\n",
        "  dataset_size = df_drug_comb.shape[0]\n",
        "  complete_list = np.arange(dataset_size, dtype = int)\n",
        "  mask_train = df_drug_comb[\"Dataset\"]==\"train\"\n",
        "  train_idx = complete_list[mask_train]\n",
        "\n",
        "  test_idx = complete_list[~mask_train]\n",
        "\n",
        "\n",
        "\n",
        "  splits = (list(train_idx),list(test_idx))\n",
        "\n",
        "  df_drug_comb.drop(['Dataset'], axis = 1, inplace = True)\n",
        "  test_df = df_drug_comb.iloc[test_idx]\n",
        "  df_nocomb = df_drug_comb.drop(['Combination ID', \"Challenge\"], axis = 1)\n",
        "  cont,cat = cont_cat_split(df_nocomb, 1, dep_var=dep_var)\n",
        "  to = TabularPandas(df_nocomb, procs, cat, cont, y_names=dep_var, splits=splits)\n",
        "  xs,y = to.train.xs,to.train.y\n",
        "  valid_xs,valid_y = to.valid.xs,to.valid.y\n",
        "  return xs,y, valid_xs,valid_y, test_df, df_nocomb, splits"
      ],
      "metadata": {
        "id": "L2crArb0fpEM"
      },
      "execution_count": 26,
      "outputs": []
    },
    {
      "cell_type": "code",
      "source": [
        "\"We put the minimum information: cell lines and compound names\"\n",
        "path = \"/content/gdrive/MyDrive/archivos_tfm/dminimum_without_smiles.csv\"\n",
        "dep_var = 'Synergy score'\n",
        "xs_min,y_min, valid_xs_min,valid_y_min, test_df_min, df_nocomb_min, splits_min = from_csv_to_data_minimum(path, dep_var)"
      ],
      "metadata": {
        "id": "ctTRs05dfBhe"
      },
      "execution_count": null,
      "outputs": []
    },
    {
      "cell_type": "code",
      "source": [
        "\"We create permutated xs_valid_min_perm\"\n",
        "valid_xs_min_perm = pd.DataFrame()\n",
        "valid_xs_min_perm[['Cell line name', \n",
        "                   'Compound A', 'Compound B']] = valid_xs_min[['Cell line name', 'Compound B', 'Compound A']]"
      ],
      "metadata": {
        "id": "OOC4RiZigXgy"
      },
      "execution_count": null,
      "outputs": []
    },
    {
      "cell_type": "markdown",
      "source": [
        "## Minimum model + Molecular Fingerprints\n",
        "\n",
        "We are going to add molecular fingerprints to see how the prediction improves"
      ],
      "metadata": {
        "id": "HXU87Bt4thMF"
      }
    },
    {
      "cell_type": "code",
      "source": [
        "path = \"/content/gdrive/MyDrive/archivos_tfm/dminimum_w_smiles.csv\"\n",
        "dep_var = 'Synergy score'\n",
        "xs_min_sm,y_min_sm, valid_xs_min_sm,valid_y_min_sm, test_df_min_sm, df_nocomb_min_sm, splits_min_sm = from_csv_to_data_minimum(path, dep_var)"
      ],
      "metadata": {
        "id": "UIA39z6gwiDI",
        "outputId": "4415a5d5-393f-408e-c5f0-93ced68ee262",
        "colab": {
          "base_uri": "https://localhost:8080/"
        }
      },
      "execution_count": null,
      "outputs": [
        {
          "output_type": "stream",
          "name": "stderr",
          "text": [
            "/usr/local/lib/python3.7/dist-packages/pandas/core/indexing.py:1667: PerformanceWarning: DataFrame is highly fragmented.  This is usually the result of calling `frame.insert` many times, which has poor performance.  Consider joining all columns at once using pd.concat(axis=1) instead.  To get a de-fragmented frame, use `newframe = frame.copy()`\n",
            "  self.obj[key] = value\n"
          ]
        }
      ]
    },
    {
      "cell_type": "code",
      "source": [
        "xs_min_sm.drop(['Drug_A_SMILES','Drug_B_SMILES'], axis = 1, inplace = True)\n",
        "valid_xs_min_sm.drop(['Drug_A_SMILES','Drug_B_SMILES'], axis = 1, inplace = True)\n"
      ],
      "metadata": {
        "id": "Is0e6OuWwvSo",
        "outputId": "ae3c00d3-c5f0-4474-eac2-314ec2c517fe",
        "colab": {
          "base_uri": "https://localhost:8080/",
          "height": 433
        }
      },
      "execution_count": null,
      "outputs": [
        {
          "output_type": "error",
          "ename": "SettingWithCopyError",
          "evalue": "ignored",
          "traceback": [
            "\u001b[0;31m---------------------------------------------------------------------------\u001b[0m",
            "\u001b[0;31mSettingWithCopyError\u001b[0m                      Traceback (most recent call last)",
            "\u001b[0;32m<ipython-input-129-efaf2423dc38>\u001b[0m in \u001b[0;36m<module>\u001b[0;34m()\u001b[0m\n\u001b[1;32m      1\u001b[0m \u001b[0mxs_min_sm\u001b[0m\u001b[0;34m.\u001b[0m\u001b[0mdrop\u001b[0m\u001b[0;34m(\u001b[0m\u001b[0;34m[\u001b[0m\u001b[0;34m'Drug_A_SMILES'\u001b[0m\u001b[0;34m,\u001b[0m\u001b[0;34m'Drug_B_SMILES'\u001b[0m\u001b[0;34m]\u001b[0m\u001b[0;34m,\u001b[0m \u001b[0maxis\u001b[0m \u001b[0;34m=\u001b[0m \u001b[0;36m1\u001b[0m\u001b[0;34m,\u001b[0m \u001b[0minplace\u001b[0m \u001b[0;34m=\u001b[0m \u001b[0;32mTrue\u001b[0m\u001b[0;34m)\u001b[0m\u001b[0;34m\u001b[0m\u001b[0;34m\u001b[0m\u001b[0m\n\u001b[0;32m----> 2\u001b[0;31m \u001b[0mvalid_xs_min_sm\u001b[0m\u001b[0;34m.\u001b[0m\u001b[0mdrop\u001b[0m\u001b[0;34m(\u001b[0m\u001b[0;34m[\u001b[0m\u001b[0;34m'Drug_A_SMILES'\u001b[0m\u001b[0;34m,\u001b[0m\u001b[0;34m'Drug_B_SMILES'\u001b[0m\u001b[0;34m]\u001b[0m\u001b[0;34m,\u001b[0m \u001b[0maxis\u001b[0m \u001b[0;34m=\u001b[0m \u001b[0;36m1\u001b[0m\u001b[0;34m,\u001b[0m \u001b[0minplace\u001b[0m \u001b[0;34m=\u001b[0m \u001b[0;32mTrue\u001b[0m\u001b[0;34m)\u001b[0m\u001b[0;34m\u001b[0m\u001b[0;34m\u001b[0m\u001b[0m\n\u001b[0m",
            "\u001b[0;32m/usr/local/lib/python3.7/dist-packages/pandas/util/_decorators.py\u001b[0m in \u001b[0;36mwrapper\u001b[0;34m(*args, **kwargs)\u001b[0m\n\u001b[1;32m    309\u001b[0m                     \u001b[0mstacklevel\u001b[0m\u001b[0;34m=\u001b[0m\u001b[0mstacklevel\u001b[0m\u001b[0;34m,\u001b[0m\u001b[0;34m\u001b[0m\u001b[0;34m\u001b[0m\u001b[0m\n\u001b[1;32m    310\u001b[0m                 )\n\u001b[0;32m--> 311\u001b[0;31m             \u001b[0;32mreturn\u001b[0m \u001b[0mfunc\u001b[0m\u001b[0;34m(\u001b[0m\u001b[0;34m*\u001b[0m\u001b[0margs\u001b[0m\u001b[0;34m,\u001b[0m \u001b[0;34m**\u001b[0m\u001b[0mkwargs\u001b[0m\u001b[0;34m)\u001b[0m\u001b[0;34m\u001b[0m\u001b[0;34m\u001b[0m\u001b[0m\n\u001b[0m\u001b[1;32m    312\u001b[0m \u001b[0;34m\u001b[0m\u001b[0m\n\u001b[1;32m    313\u001b[0m         \u001b[0;32mreturn\u001b[0m \u001b[0mwrapper\u001b[0m\u001b[0;34m\u001b[0m\u001b[0;34m\u001b[0m\u001b[0m\n",
            "\u001b[0;32m/usr/local/lib/python3.7/dist-packages/pandas/core/frame.py\u001b[0m in \u001b[0;36mdrop\u001b[0;34m(self, labels, axis, index, columns, level, inplace, errors)\u001b[0m\n\u001b[1;32m   4911\u001b[0m             \u001b[0mlevel\u001b[0m\u001b[0;34m=\u001b[0m\u001b[0mlevel\u001b[0m\u001b[0;34m,\u001b[0m\u001b[0;34m\u001b[0m\u001b[0;34m\u001b[0m\u001b[0m\n\u001b[1;32m   4912\u001b[0m             \u001b[0minplace\u001b[0m\u001b[0;34m=\u001b[0m\u001b[0minplace\u001b[0m\u001b[0;34m,\u001b[0m\u001b[0;34m\u001b[0m\u001b[0;34m\u001b[0m\u001b[0m\n\u001b[0;32m-> 4913\u001b[0;31m             \u001b[0merrors\u001b[0m\u001b[0;34m=\u001b[0m\u001b[0merrors\u001b[0m\u001b[0;34m,\u001b[0m\u001b[0;34m\u001b[0m\u001b[0;34m\u001b[0m\u001b[0m\n\u001b[0m\u001b[1;32m   4914\u001b[0m         )\n\u001b[1;32m   4915\u001b[0m \u001b[0;34m\u001b[0m\u001b[0m\n",
            "\u001b[0;32m/usr/local/lib/python3.7/dist-packages/pandas/core/generic.py\u001b[0m in \u001b[0;36mdrop\u001b[0;34m(self, labels, axis, index, columns, level, inplace, errors)\u001b[0m\n\u001b[1;32m   4151\u001b[0m \u001b[0;34m\u001b[0m\u001b[0m\n\u001b[1;32m   4152\u001b[0m         \u001b[0;32mif\u001b[0m \u001b[0minplace\u001b[0m\u001b[0;34m:\u001b[0m\u001b[0;34m\u001b[0m\u001b[0;34m\u001b[0m\u001b[0m\n\u001b[0;32m-> 4153\u001b[0;31m             \u001b[0mself\u001b[0m\u001b[0;34m.\u001b[0m\u001b[0m_update_inplace\u001b[0m\u001b[0;34m(\u001b[0m\u001b[0mobj\u001b[0m\u001b[0;34m)\u001b[0m\u001b[0;34m\u001b[0m\u001b[0;34m\u001b[0m\u001b[0m\n\u001b[0m\u001b[1;32m   4154\u001b[0m         \u001b[0;32melse\u001b[0m\u001b[0;34m:\u001b[0m\u001b[0;34m\u001b[0m\u001b[0;34m\u001b[0m\u001b[0m\n\u001b[1;32m   4155\u001b[0m             \u001b[0;32mreturn\u001b[0m \u001b[0mobj\u001b[0m\u001b[0;34m\u001b[0m\u001b[0;34m\u001b[0m\u001b[0m\n",
            "\u001b[0;32m/usr/local/lib/python3.7/dist-packages/pandas/core/generic.py\u001b[0m in \u001b[0;36m_update_inplace\u001b[0;34m(self, result, verify_is_copy)\u001b[0m\n\u001b[1;32m   4237\u001b[0m         \u001b[0mself\u001b[0m\u001b[0;34m.\u001b[0m\u001b[0m_clear_item_cache\u001b[0m\u001b[0;34m(\u001b[0m\u001b[0;34m)\u001b[0m\u001b[0;34m\u001b[0m\u001b[0;34m\u001b[0m\u001b[0m\n\u001b[1;32m   4238\u001b[0m         \u001b[0mself\u001b[0m\u001b[0;34m.\u001b[0m\u001b[0m_mgr\u001b[0m \u001b[0;34m=\u001b[0m \u001b[0mresult\u001b[0m\u001b[0;34m.\u001b[0m\u001b[0m_mgr\u001b[0m\u001b[0;34m\u001b[0m\u001b[0;34m\u001b[0m\u001b[0m\n\u001b[0;32m-> 4239\u001b[0;31m         \u001b[0mself\u001b[0m\u001b[0;34m.\u001b[0m\u001b[0m_maybe_update_cacher\u001b[0m\u001b[0;34m(\u001b[0m\u001b[0mverify_is_copy\u001b[0m\u001b[0;34m=\u001b[0m\u001b[0mverify_is_copy\u001b[0m\u001b[0;34m)\u001b[0m\u001b[0;34m\u001b[0m\u001b[0;34m\u001b[0m\u001b[0m\n\u001b[0m\u001b[1;32m   4240\u001b[0m \u001b[0;34m\u001b[0m\u001b[0m\n\u001b[1;32m   4241\u001b[0m     \u001b[0;34m@\u001b[0m\u001b[0mfinal\u001b[0m\u001b[0;34m\u001b[0m\u001b[0;34m\u001b[0m\u001b[0m\n",
            "\u001b[0;32m/usr/local/lib/python3.7/dist-packages/pandas/core/generic.py\u001b[0m in \u001b[0;36m_maybe_update_cacher\u001b[0;34m(self, clear, verify_is_copy)\u001b[0m\n\u001b[1;32m   3508\u001b[0m \u001b[0;34m\u001b[0m\u001b[0m\n\u001b[1;32m   3509\u001b[0m         \u001b[0;32mif\u001b[0m \u001b[0mverify_is_copy\u001b[0m\u001b[0;34m:\u001b[0m\u001b[0;34m\u001b[0m\u001b[0;34m\u001b[0m\u001b[0m\n\u001b[0;32m-> 3510\u001b[0;31m             \u001b[0mself\u001b[0m\u001b[0;34m.\u001b[0m\u001b[0m_check_setitem_copy\u001b[0m\u001b[0;34m(\u001b[0m\u001b[0mstacklevel\u001b[0m\u001b[0;34m=\u001b[0m\u001b[0;36m5\u001b[0m\u001b[0;34m,\u001b[0m \u001b[0mt\u001b[0m\u001b[0;34m=\u001b[0m\u001b[0;34m\"referent\"\u001b[0m\u001b[0;34m)\u001b[0m\u001b[0;34m\u001b[0m\u001b[0;34m\u001b[0m\u001b[0m\n\u001b[0m\u001b[1;32m   3511\u001b[0m \u001b[0;34m\u001b[0m\u001b[0m\n\u001b[1;32m   3512\u001b[0m         \u001b[0;32mif\u001b[0m \u001b[0mclear\u001b[0m\u001b[0;34m:\u001b[0m\u001b[0;34m\u001b[0m\u001b[0;34m\u001b[0m\u001b[0m\n",
            "\u001b[0;32m/usr/local/lib/python3.7/dist-packages/pandas/core/generic.py\u001b[0m in \u001b[0;36m_check_setitem_copy\u001b[0;34m(self, stacklevel, t, force)\u001b[0m\n\u001b[1;32m   3931\u001b[0m \u001b[0;34m\u001b[0m\u001b[0m\n\u001b[1;32m   3932\u001b[0m         \u001b[0;32mif\u001b[0m \u001b[0mvalue\u001b[0m \u001b[0;34m==\u001b[0m \u001b[0;34m\"raise\"\u001b[0m\u001b[0;34m:\u001b[0m\u001b[0;34m\u001b[0m\u001b[0;34m\u001b[0m\u001b[0m\n\u001b[0;32m-> 3933\u001b[0;31m             \u001b[0;32mraise\u001b[0m \u001b[0mcom\u001b[0m\u001b[0;34m.\u001b[0m\u001b[0mSettingWithCopyError\u001b[0m\u001b[0;34m(\u001b[0m\u001b[0mt\u001b[0m\u001b[0;34m)\u001b[0m\u001b[0;34m\u001b[0m\u001b[0;34m\u001b[0m\u001b[0m\n\u001b[0m\u001b[1;32m   3934\u001b[0m         \u001b[0;32melif\u001b[0m \u001b[0mvalue\u001b[0m \u001b[0;34m==\u001b[0m \u001b[0;34m\"warn\"\u001b[0m\u001b[0;34m:\u001b[0m\u001b[0;34m\u001b[0m\u001b[0;34m\u001b[0m\u001b[0m\n\u001b[1;32m   3935\u001b[0m             \u001b[0mwarnings\u001b[0m\u001b[0;34m.\u001b[0m\u001b[0mwarn\u001b[0m\u001b[0;34m(\u001b[0m\u001b[0mt\u001b[0m\u001b[0;34m,\u001b[0m \u001b[0mcom\u001b[0m\u001b[0;34m.\u001b[0m\u001b[0mSettingWithCopyWarning\u001b[0m\u001b[0;34m,\u001b[0m \u001b[0mstacklevel\u001b[0m\u001b[0;34m=\u001b[0m\u001b[0mstacklevel\u001b[0m\u001b[0;34m)\u001b[0m\u001b[0;34m\u001b[0m\u001b[0;34m\u001b[0m\u001b[0m\n",
            "\u001b[0;31mSettingWithCopyError\u001b[0m: \nA value is trying to be set on a copy of a slice from a DataFrame\n\nSee the caveats in the documentation: https://pandas.pydata.org/pandas-docs/stable/user_guide/indexing.html#returning-a-view-versus-a-copy"
          ]
        }
      ]
    },
    {
      "cell_type": "code",
      "source": [
        "valid_xs_min_sm.head(10)"
      ],
      "metadata": {
        "id": "-d-zVz3A-bkM",
        "outputId": "0a35f0f8-a23b-45e0-c643-c54e699347e6",
        "colab": {
          "base_uri": "https://localhost:8080/",
          "height": 491
        }
      },
      "execution_count": null,
      "outputs": [
        {
          "output_type": "execute_result",
          "data": {
            "text/plain": [
              "    Cell line name  Compound A  Compound B  Drug_A_FPT1_na  ...  \\\n",
              "0                5          40           1               1  ...   \n",
              "2               15          41          16               1  ...   \n",
              "8               81          43           9               1  ...   \n",
              "10              43          13           3               1  ...   \n",
              "19              74          40          38               1  ...   \n",
              "22               7          49          27               1  ...   \n",
              "30              66          68          12               1  ...   \n",
              "31              42          32           2               1  ...   \n",
              "32              16          65           6               1  ...   \n",
              "34              19          43           9               1  ...   \n",
              "\n",
              "    Drug_B_FPT163  Drug_B_FPT164  Drug_B_FPT165  Drug_B_FPT166  \n",
              "0             1.0            1.0            1.0            0.0  \n",
              "2             1.0            1.0            1.0            0.0  \n",
              "8             1.0            1.0            1.0            0.0  \n",
              "10            1.0            1.0            1.0            0.0  \n",
              "19            1.0            1.0            1.0            0.0  \n",
              "22            1.0            1.0            1.0            0.0  \n",
              "30            1.0            1.0            1.0            0.0  \n",
              "31            1.0            1.0            1.0            0.0  \n",
              "32            1.0            1.0            1.0            0.0  \n",
              "34            1.0            1.0            1.0            0.0  \n",
              "\n",
              "[10 rows x 667 columns]"
            ],
            "text/html": [
              "\n",
              "  <div id=\"df-7fc9a7a7-b82f-4ee7-ab5d-92085c31cca1\">\n",
              "    <div class=\"colab-df-container\">\n",
              "      <div>\n",
              "<style scoped>\n",
              "    .dataframe tbody tr th:only-of-type {\n",
              "        vertical-align: middle;\n",
              "    }\n",
              "\n",
              "    .dataframe tbody tr th {\n",
              "        vertical-align: top;\n",
              "    }\n",
              "\n",
              "    .dataframe thead th {\n",
              "        text-align: right;\n",
              "    }\n",
              "</style>\n",
              "<table border=\"1\" class=\"dataframe\">\n",
              "  <thead>\n",
              "    <tr style=\"text-align: right;\">\n",
              "      <th></th>\n",
              "      <th>Cell line name</th>\n",
              "      <th>Compound A</th>\n",
              "      <th>Compound B</th>\n",
              "      <th>Drug_A_FPT1_na</th>\n",
              "      <th>...</th>\n",
              "      <th>Drug_B_FPT163</th>\n",
              "      <th>Drug_B_FPT164</th>\n",
              "      <th>Drug_B_FPT165</th>\n",
              "      <th>Drug_B_FPT166</th>\n",
              "    </tr>\n",
              "  </thead>\n",
              "  <tbody>\n",
              "    <tr>\n",
              "      <th>0</th>\n",
              "      <td>5</td>\n",
              "      <td>40</td>\n",
              "      <td>1</td>\n",
              "      <td>1</td>\n",
              "      <td>...</td>\n",
              "      <td>1.0</td>\n",
              "      <td>1.0</td>\n",
              "      <td>1.0</td>\n",
              "      <td>0.0</td>\n",
              "    </tr>\n",
              "    <tr>\n",
              "      <th>2</th>\n",
              "      <td>15</td>\n",
              "      <td>41</td>\n",
              "      <td>16</td>\n",
              "      <td>1</td>\n",
              "      <td>...</td>\n",
              "      <td>1.0</td>\n",
              "      <td>1.0</td>\n",
              "      <td>1.0</td>\n",
              "      <td>0.0</td>\n",
              "    </tr>\n",
              "    <tr>\n",
              "      <th>8</th>\n",
              "      <td>81</td>\n",
              "      <td>43</td>\n",
              "      <td>9</td>\n",
              "      <td>1</td>\n",
              "      <td>...</td>\n",
              "      <td>1.0</td>\n",
              "      <td>1.0</td>\n",
              "      <td>1.0</td>\n",
              "      <td>0.0</td>\n",
              "    </tr>\n",
              "    <tr>\n",
              "      <th>10</th>\n",
              "      <td>43</td>\n",
              "      <td>13</td>\n",
              "      <td>3</td>\n",
              "      <td>1</td>\n",
              "      <td>...</td>\n",
              "      <td>1.0</td>\n",
              "      <td>1.0</td>\n",
              "      <td>1.0</td>\n",
              "      <td>0.0</td>\n",
              "    </tr>\n",
              "    <tr>\n",
              "      <th>19</th>\n",
              "      <td>74</td>\n",
              "      <td>40</td>\n",
              "      <td>38</td>\n",
              "      <td>1</td>\n",
              "      <td>...</td>\n",
              "      <td>1.0</td>\n",
              "      <td>1.0</td>\n",
              "      <td>1.0</td>\n",
              "      <td>0.0</td>\n",
              "    </tr>\n",
              "    <tr>\n",
              "      <th>22</th>\n",
              "      <td>7</td>\n",
              "      <td>49</td>\n",
              "      <td>27</td>\n",
              "      <td>1</td>\n",
              "      <td>...</td>\n",
              "      <td>1.0</td>\n",
              "      <td>1.0</td>\n",
              "      <td>1.0</td>\n",
              "      <td>0.0</td>\n",
              "    </tr>\n",
              "    <tr>\n",
              "      <th>30</th>\n",
              "      <td>66</td>\n",
              "      <td>68</td>\n",
              "      <td>12</td>\n",
              "      <td>1</td>\n",
              "      <td>...</td>\n",
              "      <td>1.0</td>\n",
              "      <td>1.0</td>\n",
              "      <td>1.0</td>\n",
              "      <td>0.0</td>\n",
              "    </tr>\n",
              "    <tr>\n",
              "      <th>31</th>\n",
              "      <td>42</td>\n",
              "      <td>32</td>\n",
              "      <td>2</td>\n",
              "      <td>1</td>\n",
              "      <td>...</td>\n",
              "      <td>1.0</td>\n",
              "      <td>1.0</td>\n",
              "      <td>1.0</td>\n",
              "      <td>0.0</td>\n",
              "    </tr>\n",
              "    <tr>\n",
              "      <th>32</th>\n",
              "      <td>16</td>\n",
              "      <td>65</td>\n",
              "      <td>6</td>\n",
              "      <td>1</td>\n",
              "      <td>...</td>\n",
              "      <td>1.0</td>\n",
              "      <td>1.0</td>\n",
              "      <td>1.0</td>\n",
              "      <td>0.0</td>\n",
              "    </tr>\n",
              "    <tr>\n",
              "      <th>34</th>\n",
              "      <td>19</td>\n",
              "      <td>43</td>\n",
              "      <td>9</td>\n",
              "      <td>1</td>\n",
              "      <td>...</td>\n",
              "      <td>1.0</td>\n",
              "      <td>1.0</td>\n",
              "      <td>1.0</td>\n",
              "      <td>0.0</td>\n",
              "    </tr>\n",
              "  </tbody>\n",
              "</table>\n",
              "<p>10 rows × 667 columns</p>\n",
              "</div>\n",
              "      <button class=\"colab-df-convert\" onclick=\"convertToInteractive('df-7fc9a7a7-b82f-4ee7-ab5d-92085c31cca1')\"\n",
              "              title=\"Convert this dataframe to an interactive table.\"\n",
              "              style=\"display:none;\">\n",
              "        \n",
              "  <svg xmlns=\"http://www.w3.org/2000/svg\" height=\"24px\"viewBox=\"0 0 24 24\"\n",
              "       width=\"24px\">\n",
              "    <path d=\"M0 0h24v24H0V0z\" fill=\"none\"/>\n",
              "    <path d=\"M18.56 5.44l.94 2.06.94-2.06 2.06-.94-2.06-.94-.94-2.06-.94 2.06-2.06.94zm-11 1L8.5 8.5l.94-2.06 2.06-.94-2.06-.94L8.5 2.5l-.94 2.06-2.06.94zm10 10l.94 2.06.94-2.06 2.06-.94-2.06-.94-.94-2.06-.94 2.06-2.06.94z\"/><path d=\"M17.41 7.96l-1.37-1.37c-.4-.4-.92-.59-1.43-.59-.52 0-1.04.2-1.43.59L10.3 9.45l-7.72 7.72c-.78.78-.78 2.05 0 2.83L4 21.41c.39.39.9.59 1.41.59.51 0 1.02-.2 1.41-.59l7.78-7.78 2.81-2.81c.8-.78.8-2.07 0-2.86zM5.41 20L4 18.59l7.72-7.72 1.47 1.35L5.41 20z\"/>\n",
              "  </svg>\n",
              "      </button>\n",
              "      \n",
              "  <style>\n",
              "    .colab-df-container {\n",
              "      display:flex;\n",
              "      flex-wrap:wrap;\n",
              "      gap: 12px;\n",
              "    }\n",
              "\n",
              "    .colab-df-convert {\n",
              "      background-color: #E8F0FE;\n",
              "      border: none;\n",
              "      border-radius: 50%;\n",
              "      cursor: pointer;\n",
              "      display: none;\n",
              "      fill: #1967D2;\n",
              "      height: 32px;\n",
              "      padding: 0 0 0 0;\n",
              "      width: 32px;\n",
              "    }\n",
              "\n",
              "    .colab-df-convert:hover {\n",
              "      background-color: #E2EBFA;\n",
              "      box-shadow: 0px 1px 2px rgba(60, 64, 67, 0.3), 0px 1px 3px 1px rgba(60, 64, 67, 0.15);\n",
              "      fill: #174EA6;\n",
              "    }\n",
              "\n",
              "    [theme=dark] .colab-df-convert {\n",
              "      background-color: #3B4455;\n",
              "      fill: #D2E3FC;\n",
              "    }\n",
              "\n",
              "    [theme=dark] .colab-df-convert:hover {\n",
              "      background-color: #434B5C;\n",
              "      box-shadow: 0px 1px 3px 1px rgba(0, 0, 0, 0.15);\n",
              "      filter: drop-shadow(0px 1px 2px rgba(0, 0, 0, 0.3));\n",
              "      fill: #FFFFFF;\n",
              "    }\n",
              "  </style>\n",
              "\n",
              "      <script>\n",
              "        const buttonEl =\n",
              "          document.querySelector('#df-7fc9a7a7-b82f-4ee7-ab5d-92085c31cca1 button.colab-df-convert');\n",
              "        buttonEl.style.display =\n",
              "          google.colab.kernel.accessAllowed ? 'block' : 'none';\n",
              "\n",
              "        async function convertToInteractive(key) {\n",
              "          const element = document.querySelector('#df-7fc9a7a7-b82f-4ee7-ab5d-92085c31cca1');\n",
              "          const dataTable =\n",
              "            await google.colab.kernel.invokeFunction('convertToInteractive',\n",
              "                                                     [key], {});\n",
              "          if (!dataTable) return;\n",
              "\n",
              "          const docLinkHtml = 'Like what you see? Visit the ' +\n",
              "            '<a target=\"_blank\" href=https://colab.research.google.com/notebooks/data_table.ipynb>data table notebook</a>'\n",
              "            + ' to learn more about interactive tables.';\n",
              "          element.innerHTML = '';\n",
              "          dataTable['output_type'] = 'display_data';\n",
              "          await google.colab.output.renderOutput(dataTable, element);\n",
              "          const docLink = document.createElement('div');\n",
              "          docLink.innerHTML = docLinkHtml;\n",
              "          element.appendChild(docLink);\n",
              "        }\n",
              "      </script>\n",
              "    </div>\n",
              "  </div>\n",
              "  "
            ]
          },
          "metadata": {},
          "execution_count": 164
        }
      ]
    },
    {
      "cell_type": "code",
      "source": [
        "\"We check the columns, it is a pain in the ass to do the permutation\"\n",
        "columns = valid_xs_min_sm.columns\n",
        "print(list(columns)[3:169])\n",
        "print(list(columns)[169:168*2-1])\n",
        "print(list(columns)[168*2-1:167*3])\n",
        "print(list(columns)[167*3:167*4])"
      ],
      "metadata": {
        "id": "EH07pL0E428d",
        "outputId": "b5b0c3c4-831b-4392-986a-690f74413ad1",
        "colab": {
          "base_uri": "https://localhost:8080/"
        }
      },
      "execution_count": null,
      "outputs": [
        {
          "output_type": "stream",
          "name": "stdout",
          "text": [
            "['Drug_A_FPT1_na', 'Drug_A_FPT2_na', 'Drug_A_FPT3_na', 'Drug_A_FPT4_na', 'Drug_A_FPT5_na', 'Drug_A_FPT6_na', 'Drug_A_FPT7_na', 'Drug_A_FPT8_na', 'Drug_A_FPT9_na', 'Drug_A_FPT10_na', 'Drug_A_FPT11_na', 'Drug_A_FPT12_na', 'Drug_A_FPT13_na', 'Drug_A_FPT14_na', 'Drug_A_FPT15_na', 'Drug_A_FPT16_na', 'Drug_A_FPT17_na', 'Drug_A_FPT18_na', 'Drug_A_FPT19_na', 'Drug_A_FPT20_na', 'Drug_A_FPT21_na', 'Drug_A_FPT22_na', 'Drug_A_FPT23_na', 'Drug_A_FPT24_na', 'Drug_A_FPT25_na', 'Drug_A_FPT26_na', 'Drug_A_FPT27_na', 'Drug_A_FPT28_na', 'Drug_A_FPT29_na', 'Drug_A_FPT30_na', 'Drug_A_FPT31_na', 'Drug_A_FPT32_na', 'Drug_A_FPT33_na', 'Drug_A_FPT34_na', 'Drug_A_FPT35_na', 'Drug_A_FPT36_na', 'Drug_A_FPT37_na', 'Drug_A_FPT38_na', 'Drug_A_FPT39_na', 'Drug_A_FPT40_na', 'Drug_A_FPT41_na', 'Drug_A_FPT42_na', 'Drug_A_FPT43_na', 'Drug_A_FPT44_na', 'Drug_A_FPT45_na', 'Drug_A_FPT46_na', 'Drug_A_FPT47_na', 'Drug_A_FPT48_na', 'Drug_A_FPT49_na', 'Drug_A_FPT50_na', 'Drug_A_FPT51_na', 'Drug_A_FPT52_na', 'Drug_A_FPT53_na', 'Drug_A_FPT54_na', 'Drug_A_FPT55_na', 'Drug_A_FPT56_na', 'Drug_A_FPT57_na', 'Drug_A_FPT58_na', 'Drug_A_FPT59_na', 'Drug_A_FPT60_na', 'Drug_A_FPT61_na', 'Drug_A_FPT62_na', 'Drug_A_FPT63_na', 'Drug_A_FPT64_na', 'Drug_A_FPT65_na', 'Drug_A_FPT66_na', 'Drug_A_FPT67_na', 'Drug_A_FPT68_na', 'Drug_A_FPT69_na', 'Drug_A_FPT70_na', 'Drug_A_FPT71_na', 'Drug_A_FPT72_na', 'Drug_A_FPT73_na', 'Drug_A_FPT74_na', 'Drug_A_FPT75_na', 'Drug_A_FPT76_na', 'Drug_A_FPT77_na', 'Drug_A_FPT78_na', 'Drug_A_FPT79_na', 'Drug_A_FPT80_na', 'Drug_A_FPT81_na', 'Drug_A_FPT82_na', 'Drug_A_FPT83_na', 'Drug_A_FPT84_na', 'Drug_A_FPT85_na', 'Drug_A_FPT86_na', 'Drug_A_FPT87_na', 'Drug_A_FPT88_na', 'Drug_A_FPT89_na', 'Drug_A_FPT90_na', 'Drug_A_FPT91_na', 'Drug_A_FPT92_na', 'Drug_A_FPT93_na', 'Drug_A_FPT94_na', 'Drug_A_FPT95_na', 'Drug_A_FPT96_na', 'Drug_A_FPT97_na', 'Drug_A_FPT98_na', 'Drug_A_FPT99_na', 'Drug_A_FPT100_na', 'Drug_A_FPT101_na', 'Drug_A_FPT102_na', 'Drug_A_FPT103_na', 'Drug_A_FPT104_na', 'Drug_A_FPT105_na', 'Drug_A_FPT106_na', 'Drug_A_FPT107_na', 'Drug_A_FPT108_na', 'Drug_A_FPT109_na', 'Drug_A_FPT110_na', 'Drug_A_FPT111_na', 'Drug_A_FPT112_na', 'Drug_A_FPT113_na', 'Drug_A_FPT114_na', 'Drug_A_FPT115_na', 'Drug_A_FPT116_na', 'Drug_A_FPT117_na', 'Drug_A_FPT118_na', 'Drug_A_FPT119_na', 'Drug_A_FPT120_na', 'Drug_A_FPT121_na', 'Drug_A_FPT122_na', 'Drug_A_FPT123_na', 'Drug_A_FPT124_na', 'Drug_A_FPT125_na', 'Drug_A_FPT126_na', 'Drug_A_FPT127_na', 'Drug_A_FPT128_na', 'Drug_A_FPT129_na', 'Drug_A_FPT130_na', 'Drug_A_FPT131_na', 'Drug_A_FPT132_na', 'Drug_A_FPT133_na', 'Drug_A_FPT134_na', 'Drug_A_FPT135_na', 'Drug_A_FPT136_na', 'Drug_A_FPT137_na', 'Drug_A_FPT138_na', 'Drug_A_FPT139_na', 'Drug_A_FPT140_na', 'Drug_A_FPT141_na', 'Drug_A_FPT142_na', 'Drug_A_FPT143_na', 'Drug_A_FPT144_na', 'Drug_A_FPT145_na', 'Drug_A_FPT146_na', 'Drug_A_FPT147_na', 'Drug_A_FPT148_na', 'Drug_A_FPT149_na', 'Drug_A_FPT150_na', 'Drug_A_FPT151_na', 'Drug_A_FPT152_na', 'Drug_A_FPT153_na', 'Drug_A_FPT154_na', 'Drug_A_FPT155_na', 'Drug_A_FPT156_na', 'Drug_A_FPT157_na', 'Drug_A_FPT158_na', 'Drug_A_FPT159_na', 'Drug_A_FPT160_na', 'Drug_A_FPT161_na', 'Drug_A_FPT162_na', 'Drug_A_FPT163_na', 'Drug_A_FPT164_na', 'Drug_A_FPT165_na', 'Drug_A_FPT166_na']\n",
            "['Drug_B_FPT1_na', 'Drug_B_FPT2_na', 'Drug_B_FPT3_na', 'Drug_B_FPT4_na', 'Drug_B_FPT5_na', 'Drug_B_FPT6_na', 'Drug_B_FPT7_na', 'Drug_B_FPT8_na', 'Drug_B_FPT9_na', 'Drug_B_FPT10_na', 'Drug_B_FPT11_na', 'Drug_B_FPT12_na', 'Drug_B_FPT13_na', 'Drug_B_FPT14_na', 'Drug_B_FPT15_na', 'Drug_B_FPT16_na', 'Drug_B_FPT17_na', 'Drug_B_FPT18_na', 'Drug_B_FPT19_na', 'Drug_B_FPT20_na', 'Drug_B_FPT21_na', 'Drug_B_FPT22_na', 'Drug_B_FPT23_na', 'Drug_B_FPT24_na', 'Drug_B_FPT25_na', 'Drug_B_FPT26_na', 'Drug_B_FPT27_na', 'Drug_B_FPT28_na', 'Drug_B_FPT29_na', 'Drug_B_FPT30_na', 'Drug_B_FPT31_na', 'Drug_B_FPT32_na', 'Drug_B_FPT33_na', 'Drug_B_FPT34_na', 'Drug_B_FPT35_na', 'Drug_B_FPT36_na', 'Drug_B_FPT37_na', 'Drug_B_FPT38_na', 'Drug_B_FPT39_na', 'Drug_B_FPT40_na', 'Drug_B_FPT41_na', 'Drug_B_FPT42_na', 'Drug_B_FPT43_na', 'Drug_B_FPT44_na', 'Drug_B_FPT45_na', 'Drug_B_FPT46_na', 'Drug_B_FPT47_na', 'Drug_B_FPT48_na', 'Drug_B_FPT49_na', 'Drug_B_FPT50_na', 'Drug_B_FPT51_na', 'Drug_B_FPT52_na', 'Drug_B_FPT53_na', 'Drug_B_FPT54_na', 'Drug_B_FPT55_na', 'Drug_B_FPT56_na', 'Drug_B_FPT57_na', 'Drug_B_FPT58_na', 'Drug_B_FPT59_na', 'Drug_B_FPT60_na', 'Drug_B_FPT61_na', 'Drug_B_FPT62_na', 'Drug_B_FPT63_na', 'Drug_B_FPT64_na', 'Drug_B_FPT65_na', 'Drug_B_FPT66_na', 'Drug_B_FPT67_na', 'Drug_B_FPT68_na', 'Drug_B_FPT69_na', 'Drug_B_FPT70_na', 'Drug_B_FPT71_na', 'Drug_B_FPT72_na', 'Drug_B_FPT73_na', 'Drug_B_FPT74_na', 'Drug_B_FPT75_na', 'Drug_B_FPT76_na', 'Drug_B_FPT77_na', 'Drug_B_FPT78_na', 'Drug_B_FPT79_na', 'Drug_B_FPT80_na', 'Drug_B_FPT81_na', 'Drug_B_FPT82_na', 'Drug_B_FPT83_na', 'Drug_B_FPT84_na', 'Drug_B_FPT85_na', 'Drug_B_FPT86_na', 'Drug_B_FPT87_na', 'Drug_B_FPT88_na', 'Drug_B_FPT89_na', 'Drug_B_FPT90_na', 'Drug_B_FPT91_na', 'Drug_B_FPT92_na', 'Drug_B_FPT93_na', 'Drug_B_FPT94_na', 'Drug_B_FPT95_na', 'Drug_B_FPT96_na', 'Drug_B_FPT97_na', 'Drug_B_FPT98_na', 'Drug_B_FPT99_na', 'Drug_B_FPT100_na', 'Drug_B_FPT101_na', 'Drug_B_FPT102_na', 'Drug_B_FPT103_na', 'Drug_B_FPT104_na', 'Drug_B_FPT105_na', 'Drug_B_FPT106_na', 'Drug_B_FPT107_na', 'Drug_B_FPT108_na', 'Drug_B_FPT109_na', 'Drug_B_FPT110_na', 'Drug_B_FPT111_na', 'Drug_B_FPT112_na', 'Drug_B_FPT113_na', 'Drug_B_FPT114_na', 'Drug_B_FPT115_na', 'Drug_B_FPT116_na', 'Drug_B_FPT117_na', 'Drug_B_FPT118_na', 'Drug_B_FPT119_na', 'Drug_B_FPT120_na', 'Drug_B_FPT121_na', 'Drug_B_FPT122_na', 'Drug_B_FPT123_na', 'Drug_B_FPT124_na', 'Drug_B_FPT125_na', 'Drug_B_FPT126_na', 'Drug_B_FPT127_na', 'Drug_B_FPT128_na', 'Drug_B_FPT129_na', 'Drug_B_FPT130_na', 'Drug_B_FPT131_na', 'Drug_B_FPT132_na', 'Drug_B_FPT133_na', 'Drug_B_FPT134_na', 'Drug_B_FPT135_na', 'Drug_B_FPT136_na', 'Drug_B_FPT137_na', 'Drug_B_FPT138_na', 'Drug_B_FPT139_na', 'Drug_B_FPT140_na', 'Drug_B_FPT141_na', 'Drug_B_FPT142_na', 'Drug_B_FPT143_na', 'Drug_B_FPT144_na', 'Drug_B_FPT145_na', 'Drug_B_FPT146_na', 'Drug_B_FPT147_na', 'Drug_B_FPT148_na', 'Drug_B_FPT149_na', 'Drug_B_FPT150_na', 'Drug_B_FPT151_na', 'Drug_B_FPT152_na', 'Drug_B_FPT153_na', 'Drug_B_FPT154_na', 'Drug_B_FPT155_na', 'Drug_B_FPT156_na', 'Drug_B_FPT157_na', 'Drug_B_FPT158_na', 'Drug_B_FPT159_na', 'Drug_B_FPT160_na', 'Drug_B_FPT161_na', 'Drug_B_FPT162_na', 'Drug_B_FPT163_na', 'Drug_B_FPT164_na', 'Drug_B_FPT165_na', 'Drug_B_FPT166_na']\n",
            "['Drug_A_FPT1', 'Drug_A_FPT2', 'Drug_A_FPT3', 'Drug_A_FPT4', 'Drug_A_FPT5', 'Drug_A_FPT6', 'Drug_A_FPT7', 'Drug_A_FPT8', 'Drug_A_FPT9', 'Drug_A_FPT10', 'Drug_A_FPT11', 'Drug_A_FPT12', 'Drug_A_FPT13', 'Drug_A_FPT14', 'Drug_A_FPT15', 'Drug_A_FPT16', 'Drug_A_FPT17', 'Drug_A_FPT18', 'Drug_A_FPT19', 'Drug_A_FPT20', 'Drug_A_FPT21', 'Drug_A_FPT22', 'Drug_A_FPT23', 'Drug_A_FPT24', 'Drug_A_FPT25', 'Drug_A_FPT26', 'Drug_A_FPT27', 'Drug_A_FPT28', 'Drug_A_FPT29', 'Drug_A_FPT30', 'Drug_A_FPT31', 'Drug_A_FPT32', 'Drug_A_FPT33', 'Drug_A_FPT34', 'Drug_A_FPT35', 'Drug_A_FPT36', 'Drug_A_FPT37', 'Drug_A_FPT38', 'Drug_A_FPT39', 'Drug_A_FPT40', 'Drug_A_FPT41', 'Drug_A_FPT42', 'Drug_A_FPT43', 'Drug_A_FPT44', 'Drug_A_FPT45', 'Drug_A_FPT46', 'Drug_A_FPT47', 'Drug_A_FPT48', 'Drug_A_FPT49', 'Drug_A_FPT50', 'Drug_A_FPT51', 'Drug_A_FPT52', 'Drug_A_FPT53', 'Drug_A_FPT54', 'Drug_A_FPT55', 'Drug_A_FPT56', 'Drug_A_FPT57', 'Drug_A_FPT58', 'Drug_A_FPT59', 'Drug_A_FPT60', 'Drug_A_FPT61', 'Drug_A_FPT62', 'Drug_A_FPT63', 'Drug_A_FPT64', 'Drug_A_FPT65', 'Drug_A_FPT66', 'Drug_A_FPT67', 'Drug_A_FPT68', 'Drug_A_FPT69', 'Drug_A_FPT70', 'Drug_A_FPT71', 'Drug_A_FPT72', 'Drug_A_FPT73', 'Drug_A_FPT74', 'Drug_A_FPT75', 'Drug_A_FPT76', 'Drug_A_FPT77', 'Drug_A_FPT78', 'Drug_A_FPT79', 'Drug_A_FPT80', 'Drug_A_FPT81', 'Drug_A_FPT82', 'Drug_A_FPT83', 'Drug_A_FPT84', 'Drug_A_FPT85', 'Drug_A_FPT86', 'Drug_A_FPT87', 'Drug_A_FPT88', 'Drug_A_FPT89', 'Drug_A_FPT90', 'Drug_A_FPT91', 'Drug_A_FPT92', 'Drug_A_FPT93', 'Drug_A_FPT94', 'Drug_A_FPT95', 'Drug_A_FPT96', 'Drug_A_FPT97', 'Drug_A_FPT98', 'Drug_A_FPT99', 'Drug_A_FPT100', 'Drug_A_FPT101', 'Drug_A_FPT102', 'Drug_A_FPT103', 'Drug_A_FPT104', 'Drug_A_FPT105', 'Drug_A_FPT106', 'Drug_A_FPT107', 'Drug_A_FPT108', 'Drug_A_FPT109', 'Drug_A_FPT110', 'Drug_A_FPT111', 'Drug_A_FPT112', 'Drug_A_FPT113', 'Drug_A_FPT114', 'Drug_A_FPT115', 'Drug_A_FPT116', 'Drug_A_FPT117', 'Drug_A_FPT118', 'Drug_A_FPT119', 'Drug_A_FPT120', 'Drug_A_FPT121', 'Drug_A_FPT122', 'Drug_A_FPT123', 'Drug_A_FPT124', 'Drug_A_FPT125', 'Drug_A_FPT126', 'Drug_A_FPT127', 'Drug_A_FPT128', 'Drug_A_FPT129', 'Drug_A_FPT130', 'Drug_A_FPT131', 'Drug_A_FPT132', 'Drug_A_FPT133', 'Drug_A_FPT134', 'Drug_A_FPT135', 'Drug_A_FPT136', 'Drug_A_FPT137', 'Drug_A_FPT138', 'Drug_A_FPT139', 'Drug_A_FPT140', 'Drug_A_FPT141', 'Drug_A_FPT142', 'Drug_A_FPT143', 'Drug_A_FPT144', 'Drug_A_FPT145', 'Drug_A_FPT146', 'Drug_A_FPT147', 'Drug_A_FPT148', 'Drug_A_FPT149', 'Drug_A_FPT150', 'Drug_A_FPT151', 'Drug_A_FPT152', 'Drug_A_FPT153', 'Drug_A_FPT154', 'Drug_A_FPT155', 'Drug_A_FPT156', 'Drug_A_FPT157', 'Drug_A_FPT158', 'Drug_A_FPT159', 'Drug_A_FPT160', 'Drug_A_FPT161', 'Drug_A_FPT162', 'Drug_A_FPT163', 'Drug_A_FPT164', 'Drug_A_FPT165', 'Drug_A_FPT166']\n",
            "['Drug_B_FPT1', 'Drug_B_FPT2', 'Drug_B_FPT3', 'Drug_B_FPT4', 'Drug_B_FPT5', 'Drug_B_FPT6', 'Drug_B_FPT7', 'Drug_B_FPT8', 'Drug_B_FPT9', 'Drug_B_FPT10', 'Drug_B_FPT11', 'Drug_B_FPT12', 'Drug_B_FPT13', 'Drug_B_FPT14', 'Drug_B_FPT15', 'Drug_B_FPT16', 'Drug_B_FPT17', 'Drug_B_FPT18', 'Drug_B_FPT19', 'Drug_B_FPT20', 'Drug_B_FPT21', 'Drug_B_FPT22', 'Drug_B_FPT23', 'Drug_B_FPT24', 'Drug_B_FPT25', 'Drug_B_FPT26', 'Drug_B_FPT27', 'Drug_B_FPT28', 'Drug_B_FPT29', 'Drug_B_FPT30', 'Drug_B_FPT31', 'Drug_B_FPT32', 'Drug_B_FPT33', 'Drug_B_FPT34', 'Drug_B_FPT35', 'Drug_B_FPT36', 'Drug_B_FPT37', 'Drug_B_FPT38', 'Drug_B_FPT39', 'Drug_B_FPT40', 'Drug_B_FPT41', 'Drug_B_FPT42', 'Drug_B_FPT43', 'Drug_B_FPT44', 'Drug_B_FPT45', 'Drug_B_FPT46', 'Drug_B_FPT47', 'Drug_B_FPT48', 'Drug_B_FPT49', 'Drug_B_FPT50', 'Drug_B_FPT51', 'Drug_B_FPT52', 'Drug_B_FPT53', 'Drug_B_FPT54', 'Drug_B_FPT55', 'Drug_B_FPT56', 'Drug_B_FPT57', 'Drug_B_FPT58', 'Drug_B_FPT59', 'Drug_B_FPT60', 'Drug_B_FPT61', 'Drug_B_FPT62', 'Drug_B_FPT63', 'Drug_B_FPT64', 'Drug_B_FPT65', 'Drug_B_FPT66', 'Drug_B_FPT67', 'Drug_B_FPT68', 'Drug_B_FPT69', 'Drug_B_FPT70', 'Drug_B_FPT71', 'Drug_B_FPT72', 'Drug_B_FPT73', 'Drug_B_FPT74', 'Drug_B_FPT75', 'Drug_B_FPT76', 'Drug_B_FPT77', 'Drug_B_FPT78', 'Drug_B_FPT79', 'Drug_B_FPT80', 'Drug_B_FPT81', 'Drug_B_FPT82', 'Drug_B_FPT83', 'Drug_B_FPT84', 'Drug_B_FPT85', 'Drug_B_FPT86', 'Drug_B_FPT87', 'Drug_B_FPT88', 'Drug_B_FPT89', 'Drug_B_FPT90', 'Drug_B_FPT91', 'Drug_B_FPT92', 'Drug_B_FPT93', 'Drug_B_FPT94', 'Drug_B_FPT95', 'Drug_B_FPT96', 'Drug_B_FPT97', 'Drug_B_FPT98', 'Drug_B_FPT99', 'Drug_B_FPT100', 'Drug_B_FPT101', 'Drug_B_FPT102', 'Drug_B_FPT103', 'Drug_B_FPT104', 'Drug_B_FPT105', 'Drug_B_FPT106', 'Drug_B_FPT107', 'Drug_B_FPT108', 'Drug_B_FPT109', 'Drug_B_FPT110', 'Drug_B_FPT111', 'Drug_B_FPT112', 'Drug_B_FPT113', 'Drug_B_FPT114', 'Drug_B_FPT115', 'Drug_B_FPT116', 'Drug_B_FPT117', 'Drug_B_FPT118', 'Drug_B_FPT119', 'Drug_B_FPT120', 'Drug_B_FPT121', 'Drug_B_FPT122', 'Drug_B_FPT123', 'Drug_B_FPT124', 'Drug_B_FPT125', 'Drug_B_FPT126', 'Drug_B_FPT127', 'Drug_B_FPT128', 'Drug_B_FPT129', 'Drug_B_FPT130', 'Drug_B_FPT131', 'Drug_B_FPT132', 'Drug_B_FPT133', 'Drug_B_FPT134', 'Drug_B_FPT135', 'Drug_B_FPT136', 'Drug_B_FPT137', 'Drug_B_FPT138', 'Drug_B_FPT139', 'Drug_B_FPT140', 'Drug_B_FPT141', 'Drug_B_FPT142', 'Drug_B_FPT143', 'Drug_B_FPT144', 'Drug_B_FPT145', 'Drug_B_FPT146', 'Drug_B_FPT147', 'Drug_B_FPT148', 'Drug_B_FPT149', 'Drug_B_FPT150', 'Drug_B_FPT151', 'Drug_B_FPT152', 'Drug_B_FPT153', 'Drug_B_FPT154', 'Drug_B_FPT155', 'Drug_B_FPT156', 'Drug_B_FPT157', 'Drug_B_FPT158', 'Drug_B_FPT159', 'Drug_B_FPT160', 'Drug_B_FPT161', 'Drug_B_FPT162', 'Drug_B_FPT163', 'Drug_B_FPT164', 'Drug_B_FPT165', 'Drug_B_FPT166']\n"
          ]
        }
      ]
    },
    {
      "cell_type": "code",
      "source": [
        "columns_perm = ['Cell line name','Compound B', 'Compound A']+ list(columns)[169:168*2-1]+list(columns)[3:169]+ list(columns)[167*3:167*4]+ list(columns)[168*2-1:167*3]\n",
        "print(len(columns_perm))"
      ],
      "metadata": {
        "id": "V4DWJ5Cp76ps",
        "outputId": "d173ed98-09dd-4f61-e4d7-402dc24460a8",
        "colab": {
          "base_uri": "https://localhost:8080/"
        }
      },
      "execution_count": null,
      "outputs": [
        {
          "output_type": "stream",
          "name": "stdout",
          "text": [
            "667\n"
          ]
        }
      ]
    },
    {
      "cell_type": "code",
      "source": [
        "valid_xs_min_sm_perm = pd.DataFrame()\n",
        "valid_xs_min_sm_perm[columns] = valid_xs_min_sm[columns_perm]\n",
        "valid_xs_min_sm_perm.head(10)"
      ],
      "metadata": {
        "id": "Dezh6I23-JeO",
        "outputId": "0018a8ca-6589-47ee-b7b9-6a69e9c4bf28",
        "colab": {
          "base_uri": "https://localhost:8080/",
          "height": 527
        }
      },
      "execution_count": null,
      "outputs": [
        {
          "output_type": "stream",
          "name": "stderr",
          "text": [
            "/usr/local/lib/python3.7/dist-packages/pandas/core/frame.py:3641: PerformanceWarning: DataFrame is highly fragmented.  This is usually the result of calling `frame.insert` many times, which has poor performance.  Consider joining all columns at once using pd.concat(axis=1) instead.  To get a de-fragmented frame, use `newframe = frame.copy()`\n",
            "  self[k1] = value[k2]\n"
          ]
        },
        {
          "output_type": "execute_result",
          "data": {
            "text/plain": [
              "    Cell line name  Compound A  Compound B  Drug_A_FPT1_na  ...  \\\n",
              "0                5           1          40               2  ...   \n",
              "2               15          16          41               2  ...   \n",
              "8               81           9          43               1  ...   \n",
              "10              43           3          13               1  ...   \n",
              "19              74          38          40               1  ...   \n",
              "22               7          27          49               1  ...   \n",
              "30              66          12          68               2  ...   \n",
              "31              42           2          32               2  ...   \n",
              "32              16           6          65               2  ...   \n",
              "34              19           9          43               1  ...   \n",
              "\n",
              "    Drug_B_FPT163  Drug_B_FPT164  Drug_B_FPT165  Drug_B_FPT166  \n",
              "0             1.0            1.0            1.0            0.0  \n",
              "2             1.0            1.0            1.0            0.0  \n",
              "8             1.0            1.0            1.0            0.0  \n",
              "10            1.0            1.0            1.0            0.0  \n",
              "19            1.0            1.0            1.0            0.0  \n",
              "22            1.0            1.0            1.0            0.0  \n",
              "30            1.0            1.0            1.0            0.0  \n",
              "31            1.0            1.0            1.0            0.0  \n",
              "32            1.0            1.0            1.0            0.0  \n",
              "34            1.0            1.0            1.0            0.0  \n",
              "\n",
              "[10 rows x 667 columns]"
            ],
            "text/html": [
              "\n",
              "  <div id=\"df-6cc4e119-40ef-47d4-aaae-b0e92344ebac\">\n",
              "    <div class=\"colab-df-container\">\n",
              "      <div>\n",
              "<style scoped>\n",
              "    .dataframe tbody tr th:only-of-type {\n",
              "        vertical-align: middle;\n",
              "    }\n",
              "\n",
              "    .dataframe tbody tr th {\n",
              "        vertical-align: top;\n",
              "    }\n",
              "\n",
              "    .dataframe thead th {\n",
              "        text-align: right;\n",
              "    }\n",
              "</style>\n",
              "<table border=\"1\" class=\"dataframe\">\n",
              "  <thead>\n",
              "    <tr style=\"text-align: right;\">\n",
              "      <th></th>\n",
              "      <th>Cell line name</th>\n",
              "      <th>Compound A</th>\n",
              "      <th>Compound B</th>\n",
              "      <th>Drug_A_FPT1_na</th>\n",
              "      <th>...</th>\n",
              "      <th>Drug_B_FPT163</th>\n",
              "      <th>Drug_B_FPT164</th>\n",
              "      <th>Drug_B_FPT165</th>\n",
              "      <th>Drug_B_FPT166</th>\n",
              "    </tr>\n",
              "  </thead>\n",
              "  <tbody>\n",
              "    <tr>\n",
              "      <th>0</th>\n",
              "      <td>5</td>\n",
              "      <td>1</td>\n",
              "      <td>40</td>\n",
              "      <td>2</td>\n",
              "      <td>...</td>\n",
              "      <td>1.0</td>\n",
              "      <td>1.0</td>\n",
              "      <td>1.0</td>\n",
              "      <td>0.0</td>\n",
              "    </tr>\n",
              "    <tr>\n",
              "      <th>2</th>\n",
              "      <td>15</td>\n",
              "      <td>16</td>\n",
              "      <td>41</td>\n",
              "      <td>2</td>\n",
              "      <td>...</td>\n",
              "      <td>1.0</td>\n",
              "      <td>1.0</td>\n",
              "      <td>1.0</td>\n",
              "      <td>0.0</td>\n",
              "    </tr>\n",
              "    <tr>\n",
              "      <th>8</th>\n",
              "      <td>81</td>\n",
              "      <td>9</td>\n",
              "      <td>43</td>\n",
              "      <td>1</td>\n",
              "      <td>...</td>\n",
              "      <td>1.0</td>\n",
              "      <td>1.0</td>\n",
              "      <td>1.0</td>\n",
              "      <td>0.0</td>\n",
              "    </tr>\n",
              "    <tr>\n",
              "      <th>10</th>\n",
              "      <td>43</td>\n",
              "      <td>3</td>\n",
              "      <td>13</td>\n",
              "      <td>1</td>\n",
              "      <td>...</td>\n",
              "      <td>1.0</td>\n",
              "      <td>1.0</td>\n",
              "      <td>1.0</td>\n",
              "      <td>0.0</td>\n",
              "    </tr>\n",
              "    <tr>\n",
              "      <th>19</th>\n",
              "      <td>74</td>\n",
              "      <td>38</td>\n",
              "      <td>40</td>\n",
              "      <td>1</td>\n",
              "      <td>...</td>\n",
              "      <td>1.0</td>\n",
              "      <td>1.0</td>\n",
              "      <td>1.0</td>\n",
              "      <td>0.0</td>\n",
              "    </tr>\n",
              "    <tr>\n",
              "      <th>22</th>\n",
              "      <td>7</td>\n",
              "      <td>27</td>\n",
              "      <td>49</td>\n",
              "      <td>1</td>\n",
              "      <td>...</td>\n",
              "      <td>1.0</td>\n",
              "      <td>1.0</td>\n",
              "      <td>1.0</td>\n",
              "      <td>0.0</td>\n",
              "    </tr>\n",
              "    <tr>\n",
              "      <th>30</th>\n",
              "      <td>66</td>\n",
              "      <td>12</td>\n",
              "      <td>68</td>\n",
              "      <td>2</td>\n",
              "      <td>...</td>\n",
              "      <td>1.0</td>\n",
              "      <td>1.0</td>\n",
              "      <td>1.0</td>\n",
              "      <td>0.0</td>\n",
              "    </tr>\n",
              "    <tr>\n",
              "      <th>31</th>\n",
              "      <td>42</td>\n",
              "      <td>2</td>\n",
              "      <td>32</td>\n",
              "      <td>2</td>\n",
              "      <td>...</td>\n",
              "      <td>1.0</td>\n",
              "      <td>1.0</td>\n",
              "      <td>1.0</td>\n",
              "      <td>0.0</td>\n",
              "    </tr>\n",
              "    <tr>\n",
              "      <th>32</th>\n",
              "      <td>16</td>\n",
              "      <td>6</td>\n",
              "      <td>65</td>\n",
              "      <td>2</td>\n",
              "      <td>...</td>\n",
              "      <td>1.0</td>\n",
              "      <td>1.0</td>\n",
              "      <td>1.0</td>\n",
              "      <td>0.0</td>\n",
              "    </tr>\n",
              "    <tr>\n",
              "      <th>34</th>\n",
              "      <td>19</td>\n",
              "      <td>9</td>\n",
              "      <td>43</td>\n",
              "      <td>1</td>\n",
              "      <td>...</td>\n",
              "      <td>1.0</td>\n",
              "      <td>1.0</td>\n",
              "      <td>1.0</td>\n",
              "      <td>0.0</td>\n",
              "    </tr>\n",
              "  </tbody>\n",
              "</table>\n",
              "<p>10 rows × 667 columns</p>\n",
              "</div>\n",
              "      <button class=\"colab-df-convert\" onclick=\"convertToInteractive('df-6cc4e119-40ef-47d4-aaae-b0e92344ebac')\"\n",
              "              title=\"Convert this dataframe to an interactive table.\"\n",
              "              style=\"display:none;\">\n",
              "        \n",
              "  <svg xmlns=\"http://www.w3.org/2000/svg\" height=\"24px\"viewBox=\"0 0 24 24\"\n",
              "       width=\"24px\">\n",
              "    <path d=\"M0 0h24v24H0V0z\" fill=\"none\"/>\n",
              "    <path d=\"M18.56 5.44l.94 2.06.94-2.06 2.06-.94-2.06-.94-.94-2.06-.94 2.06-2.06.94zm-11 1L8.5 8.5l.94-2.06 2.06-.94-2.06-.94L8.5 2.5l-.94 2.06-2.06.94zm10 10l.94 2.06.94-2.06 2.06-.94-2.06-.94-.94-2.06-.94 2.06-2.06.94z\"/><path d=\"M17.41 7.96l-1.37-1.37c-.4-.4-.92-.59-1.43-.59-.52 0-1.04.2-1.43.59L10.3 9.45l-7.72 7.72c-.78.78-.78 2.05 0 2.83L4 21.41c.39.39.9.59 1.41.59.51 0 1.02-.2 1.41-.59l7.78-7.78 2.81-2.81c.8-.78.8-2.07 0-2.86zM5.41 20L4 18.59l7.72-7.72 1.47 1.35L5.41 20z\"/>\n",
              "  </svg>\n",
              "      </button>\n",
              "      \n",
              "  <style>\n",
              "    .colab-df-container {\n",
              "      display:flex;\n",
              "      flex-wrap:wrap;\n",
              "      gap: 12px;\n",
              "    }\n",
              "\n",
              "    .colab-df-convert {\n",
              "      background-color: #E8F0FE;\n",
              "      border: none;\n",
              "      border-radius: 50%;\n",
              "      cursor: pointer;\n",
              "      display: none;\n",
              "      fill: #1967D2;\n",
              "      height: 32px;\n",
              "      padding: 0 0 0 0;\n",
              "      width: 32px;\n",
              "    }\n",
              "\n",
              "    .colab-df-convert:hover {\n",
              "      background-color: #E2EBFA;\n",
              "      box-shadow: 0px 1px 2px rgba(60, 64, 67, 0.3), 0px 1px 3px 1px rgba(60, 64, 67, 0.15);\n",
              "      fill: #174EA6;\n",
              "    }\n",
              "\n",
              "    [theme=dark] .colab-df-convert {\n",
              "      background-color: #3B4455;\n",
              "      fill: #D2E3FC;\n",
              "    }\n",
              "\n",
              "    [theme=dark] .colab-df-convert:hover {\n",
              "      background-color: #434B5C;\n",
              "      box-shadow: 0px 1px 3px 1px rgba(0, 0, 0, 0.15);\n",
              "      filter: drop-shadow(0px 1px 2px rgba(0, 0, 0, 0.3));\n",
              "      fill: #FFFFFF;\n",
              "    }\n",
              "  </style>\n",
              "\n",
              "      <script>\n",
              "        const buttonEl =\n",
              "          document.querySelector('#df-6cc4e119-40ef-47d4-aaae-b0e92344ebac button.colab-df-convert');\n",
              "        buttonEl.style.display =\n",
              "          google.colab.kernel.accessAllowed ? 'block' : 'none';\n",
              "\n",
              "        async function convertToInteractive(key) {\n",
              "          const element = document.querySelector('#df-6cc4e119-40ef-47d4-aaae-b0e92344ebac');\n",
              "          const dataTable =\n",
              "            await google.colab.kernel.invokeFunction('convertToInteractive',\n",
              "                                                     [key], {});\n",
              "          if (!dataTable) return;\n",
              "\n",
              "          const docLinkHtml = 'Like what you see? Visit the ' +\n",
              "            '<a target=\"_blank\" href=https://colab.research.google.com/notebooks/data_table.ipynb>data table notebook</a>'\n",
              "            + ' to learn more about interactive tables.';\n",
              "          element.innerHTML = '';\n",
              "          dataTable['output_type'] = 'display_data';\n",
              "          await google.colab.output.renderOutput(dataTable, element);\n",
              "          const docLink = document.createElement('div');\n",
              "          docLink.innerHTML = docLinkHtml;\n",
              "          element.appendChild(docLink);\n",
              "        }\n",
              "      </script>\n",
              "    </div>\n",
              "  </div>\n",
              "  "
            ]
          },
          "metadata": {},
          "execution_count": 163
        }
      ]
    },
    {
      "cell_type": "markdown",
      "source": [
        "# Loading Data 2\n",
        "We use the reduced dataset where the only drug combinations included are the ones with 2 smiles codes. In that we we don't have so many nan comlumns."
      ],
      "metadata": {
        "id": "UC_47m6y3zKG"
      }
    },
    {
      "cell_type": "code",
      "source": [
        "path = \"/content/gdrive/MyDrive/archivos_tfm/smiles/dataset_selected_comb_smiles.csv\"\n",
        "df_drug_comb = pd.read_csv(path, index_col = 0)\n",
        "df_drug_comb = df_drug_comb[df_drug_comb[\"QA\"] == 1]\n",
        "df_drug_comb.drop(['QA','Challenge'], axis = 1, inplace = True)\n",
        "print(list(df_drug_comb.columns))\n"
      ],
      "metadata": {
        "id": "NBN-9mQR3yhu",
        "outputId": "2434b7b6-a866-4011-e07e-8e5388d8726b",
        "colab": {
          "base_uri": "https://localhost:8080/"
        }
      },
      "execution_count": 13,
      "outputs": [
        {
          "output_type": "stream",
          "name": "stdout",
          "text": [
            "['Cell line name', 'Compound A', 'Compound B', 'Max. conc. A', 'Max. conc. B', 'IC50 A', 'H A', 'Einf A', 'IC50 B', 'H B', 'Einf B', 'Synergy score', 'Combination ID', 'Dataset', 'Drug_A_SMILES', 'Drug_A_FPT1', 'Drug_A_FPT2', 'Drug_A_FPT3', 'Drug_A_FPT4', 'Drug_A_FPT5', 'Drug_A_FPT6', 'Drug_A_FPT7', 'Drug_A_FPT8', 'Drug_A_FPT9', 'Drug_A_FPT10', 'Drug_A_FPT11', 'Drug_A_FPT12', 'Drug_A_FPT13', 'Drug_A_FPT14', 'Drug_A_FPT15', 'Drug_A_FPT16', 'Drug_A_FPT17', 'Drug_A_FPT18', 'Drug_A_FPT19', 'Drug_A_FPT20', 'Drug_A_FPT21', 'Drug_A_FPT22', 'Drug_A_FPT23', 'Drug_A_FPT24', 'Drug_A_FPT25', 'Drug_A_FPT26', 'Drug_A_FPT27', 'Drug_A_FPT28', 'Drug_A_FPT29', 'Drug_A_FPT30', 'Drug_A_FPT31', 'Drug_A_FPT32', 'Drug_A_FPT33', 'Drug_A_FPT34', 'Drug_A_FPT35', 'Drug_A_FPT36', 'Drug_A_FPT37', 'Drug_A_FPT38', 'Drug_A_FPT39', 'Drug_A_FPT40', 'Drug_A_FPT41', 'Drug_A_FPT42', 'Drug_A_FPT43', 'Drug_A_FPT44', 'Drug_A_FPT45', 'Drug_A_FPT46', 'Drug_A_FPT47', 'Drug_A_FPT48', 'Drug_A_FPT49', 'Drug_A_FPT50', 'Drug_A_FPT51', 'Drug_A_FPT52', 'Drug_A_FPT53', 'Drug_A_FPT54', 'Drug_A_FPT55', 'Drug_A_FPT56', 'Drug_A_FPT57', 'Drug_A_FPT58', 'Drug_A_FPT59', 'Drug_A_FPT60', 'Drug_A_FPT61', 'Drug_A_FPT62', 'Drug_A_FPT63', 'Drug_A_FPT64', 'Drug_A_FPT65', 'Drug_A_FPT66', 'Drug_A_FPT67', 'Drug_A_FPT68', 'Drug_A_FPT69', 'Drug_A_FPT70', 'Drug_A_FPT71', 'Drug_A_FPT72', 'Drug_A_FPT73', 'Drug_A_FPT74', 'Drug_A_FPT75', 'Drug_A_FPT76', 'Drug_A_FPT77', 'Drug_A_FPT78', 'Drug_A_FPT79', 'Drug_A_FPT80', 'Drug_A_FPT81', 'Drug_A_FPT82', 'Drug_A_FPT83', 'Drug_A_FPT84', 'Drug_A_FPT85', 'Drug_A_FPT86', 'Drug_A_FPT87', 'Drug_A_FPT88', 'Drug_A_FPT89', 'Drug_A_FPT90', 'Drug_A_FPT91', 'Drug_A_FPT92', 'Drug_A_FPT93', 'Drug_A_FPT94', 'Drug_A_FPT95', 'Drug_A_FPT96', 'Drug_A_FPT97', 'Drug_A_FPT98', 'Drug_A_FPT99', 'Drug_A_FPT100', 'Drug_A_FPT101', 'Drug_A_FPT102', 'Drug_A_FPT103', 'Drug_A_FPT104', 'Drug_A_FPT105', 'Drug_A_FPT106', 'Drug_A_FPT107', 'Drug_A_FPT108', 'Drug_A_FPT109', 'Drug_A_FPT110', 'Drug_A_FPT111', 'Drug_A_FPT112', 'Drug_A_FPT113', 'Drug_A_FPT114', 'Drug_A_FPT115', 'Drug_A_FPT116', 'Drug_A_FPT117', 'Drug_A_FPT118', 'Drug_A_FPT119', 'Drug_A_FPT120', 'Drug_A_FPT121', 'Drug_A_FPT122', 'Drug_A_FPT123', 'Drug_A_FPT124', 'Drug_A_FPT125', 'Drug_A_FPT126', 'Drug_A_FPT127', 'Drug_A_FPT128', 'Drug_A_FPT129', 'Drug_A_FPT130', 'Drug_A_FPT131', 'Drug_A_FPT132', 'Drug_A_FPT133', 'Drug_A_FPT134', 'Drug_A_FPT135', 'Drug_A_FPT136', 'Drug_A_FPT137', 'Drug_A_FPT138', 'Drug_A_FPT139', 'Drug_A_FPT140', 'Drug_A_FPT141', 'Drug_A_FPT142', 'Drug_A_FPT143', 'Drug_A_FPT144', 'Drug_A_FPT145', 'Drug_A_FPT146', 'Drug_A_FPT147', 'Drug_A_FPT148', 'Drug_A_FPT149', 'Drug_A_FPT150', 'Drug_A_FPT151', 'Drug_A_FPT152', 'Drug_A_FPT153', 'Drug_A_FPT154', 'Drug_A_FPT155', 'Drug_A_FPT156', 'Drug_A_FPT157', 'Drug_A_FPT158', 'Drug_A_FPT159', 'Drug_A_FPT160', 'Drug_A_FPT161', 'Drug_A_FPT162', 'Drug_A_FPT163', 'Drug_A_FPT164', 'Drug_A_FPT165', 'Drug_A_FPT166', 'Drug_B_SMILES', 'Drug_B_FPT1', 'Drug_B_FPT2', 'Drug_B_FPT3', 'Drug_B_FPT4', 'Drug_B_FPT5', 'Drug_B_FPT6', 'Drug_B_FPT7', 'Drug_B_FPT8', 'Drug_B_FPT9', 'Drug_B_FPT10', 'Drug_B_FPT11', 'Drug_B_FPT12', 'Drug_B_FPT13', 'Drug_B_FPT14', 'Drug_B_FPT15', 'Drug_B_FPT16', 'Drug_B_FPT17', 'Drug_B_FPT18', 'Drug_B_FPT19', 'Drug_B_FPT20', 'Drug_B_FPT21', 'Drug_B_FPT22', 'Drug_B_FPT23', 'Drug_B_FPT24', 'Drug_B_FPT25', 'Drug_B_FPT26', 'Drug_B_FPT27', 'Drug_B_FPT28', 'Drug_B_FPT29', 'Drug_B_FPT30', 'Drug_B_FPT31', 'Drug_B_FPT32', 'Drug_B_FPT33', 'Drug_B_FPT34', 'Drug_B_FPT35', 'Drug_B_FPT36', 'Drug_B_FPT37', 'Drug_B_FPT38', 'Drug_B_FPT39', 'Drug_B_FPT40', 'Drug_B_FPT41', 'Drug_B_FPT42', 'Drug_B_FPT43', 'Drug_B_FPT44', 'Drug_B_FPT45', 'Drug_B_FPT46', 'Drug_B_FPT47', 'Drug_B_FPT48', 'Drug_B_FPT49', 'Drug_B_FPT50', 'Drug_B_FPT51', 'Drug_B_FPT52', 'Drug_B_FPT53', 'Drug_B_FPT54', 'Drug_B_FPT55', 'Drug_B_FPT56', 'Drug_B_FPT57', 'Drug_B_FPT58', 'Drug_B_FPT59', 'Drug_B_FPT60', 'Drug_B_FPT61', 'Drug_B_FPT62', 'Drug_B_FPT63', 'Drug_B_FPT64', 'Drug_B_FPT65', 'Drug_B_FPT66', 'Drug_B_FPT67', 'Drug_B_FPT68', 'Drug_B_FPT69', 'Drug_B_FPT70', 'Drug_B_FPT71', 'Drug_B_FPT72', 'Drug_B_FPT73', 'Drug_B_FPT74', 'Drug_B_FPT75', 'Drug_B_FPT76', 'Drug_B_FPT77', 'Drug_B_FPT78', 'Drug_B_FPT79', 'Drug_B_FPT80', 'Drug_B_FPT81', 'Drug_B_FPT82', 'Drug_B_FPT83', 'Drug_B_FPT84', 'Drug_B_FPT85', 'Drug_B_FPT86', 'Drug_B_FPT87', 'Drug_B_FPT88', 'Drug_B_FPT89', 'Drug_B_FPT90', 'Drug_B_FPT91', 'Drug_B_FPT92', 'Drug_B_FPT93', 'Drug_B_FPT94', 'Drug_B_FPT95', 'Drug_B_FPT96', 'Drug_B_FPT97', 'Drug_B_FPT98', 'Drug_B_FPT99', 'Drug_B_FPT100', 'Drug_B_FPT101', 'Drug_B_FPT102', 'Drug_B_FPT103', 'Drug_B_FPT104', 'Drug_B_FPT105', 'Drug_B_FPT106', 'Drug_B_FPT107', 'Drug_B_FPT108', 'Drug_B_FPT109', 'Drug_B_FPT110', 'Drug_B_FPT111', 'Drug_B_FPT112', 'Drug_B_FPT113', 'Drug_B_FPT114', 'Drug_B_FPT115', 'Drug_B_FPT116', 'Drug_B_FPT117', 'Drug_B_FPT118', 'Drug_B_FPT119', 'Drug_B_FPT120', 'Drug_B_FPT121', 'Drug_B_FPT122', 'Drug_B_FPT123', 'Drug_B_FPT124', 'Drug_B_FPT125', 'Drug_B_FPT126', 'Drug_B_FPT127', 'Drug_B_FPT128', 'Drug_B_FPT129', 'Drug_B_FPT130', 'Drug_B_FPT131', 'Drug_B_FPT132', 'Drug_B_FPT133', 'Drug_B_FPT134', 'Drug_B_FPT135', 'Drug_B_FPT136', 'Drug_B_FPT137', 'Drug_B_FPT138', 'Drug_B_FPT139', 'Drug_B_FPT140', 'Drug_B_FPT141', 'Drug_B_FPT142', 'Drug_B_FPT143', 'Drug_B_FPT144', 'Drug_B_FPT145', 'Drug_B_FPT146', 'Drug_B_FPT147', 'Drug_B_FPT148', 'Drug_B_FPT149', 'Drug_B_FPT150', 'Drug_B_FPT151', 'Drug_B_FPT152', 'Drug_B_FPT153', 'Drug_B_FPT154', 'Drug_B_FPT155', 'Drug_B_FPT156', 'Drug_B_FPT157', 'Drug_B_FPT158', 'Drug_B_FPT159', 'Drug_B_FPT160', 'Drug_B_FPT161', 'Drug_B_FPT162', 'Drug_B_FPT163', 'Drug_B_FPT164', 'Drug_B_FPT165', 'Drug_B_FPT166']\n"
          ]
        }
      ]
    },
    {
      "cell_type": "code",
      "source": [
        "dep_var = 'Synergy score'\n",
        "xs,y, valid_xs,valid_y, test_df, df_nocomb, splits = from_csv_to_data_minimum(path, dep_var)"
      ],
      "metadata": {
        "id": "EMnvSem84e0k"
      },
      "execution_count": 33,
      "outputs": []
    },
    {
      "cell_type": "code",
      "source": [
        "xs.drop(['Drug_A_SMILES','Drug_B_SMILES'], axis = 1, inplace = True)\n",
        "valid_xs.drop(['Drug_A_SMILES','Drug_B_SMILES'], axis = 1, inplace = True)"
      ],
      "metadata": {
        "id": "Uy7XQDFD63o9",
        "outputId": "58016cea-4533-4ff9-b95e-461507920029",
        "colab": {
          "base_uri": "https://localhost:8080/",
          "height": 433
        }
      },
      "execution_count": 34,
      "outputs": [
        {
          "output_type": "error",
          "ename": "SettingWithCopyError",
          "evalue": "ignored",
          "traceback": [
            "\u001b[0;31m---------------------------------------------------------------------------\u001b[0m",
            "\u001b[0;31mSettingWithCopyError\u001b[0m                      Traceback (most recent call last)",
            "\u001b[0;32m<ipython-input-34-40501fb06f36>\u001b[0m in \u001b[0;36m<module>\u001b[0;34m()\u001b[0m\n\u001b[0;32m----> 1\u001b[0;31m \u001b[0mxs\u001b[0m\u001b[0;34m.\u001b[0m\u001b[0mdrop\u001b[0m\u001b[0;34m(\u001b[0m\u001b[0;34m[\u001b[0m\u001b[0;34m'Drug_A_SMILES'\u001b[0m\u001b[0;34m,\u001b[0m\u001b[0;34m'Drug_B_SMILES'\u001b[0m\u001b[0;34m]\u001b[0m\u001b[0;34m,\u001b[0m \u001b[0maxis\u001b[0m \u001b[0;34m=\u001b[0m \u001b[0;36m1\u001b[0m\u001b[0;34m,\u001b[0m \u001b[0minplace\u001b[0m \u001b[0;34m=\u001b[0m \u001b[0;32mTrue\u001b[0m\u001b[0;34m)\u001b[0m\u001b[0;34m\u001b[0m\u001b[0;34m\u001b[0m\u001b[0m\n\u001b[0m\u001b[1;32m      2\u001b[0m \u001b[0mvalid_xs\u001b[0m\u001b[0;34m.\u001b[0m\u001b[0mdrop\u001b[0m\u001b[0;34m(\u001b[0m\u001b[0;34m[\u001b[0m\u001b[0;34m'Drug_A_SMILES'\u001b[0m\u001b[0;34m,\u001b[0m\u001b[0;34m'Drug_B_SMILES'\u001b[0m\u001b[0;34m]\u001b[0m\u001b[0;34m,\u001b[0m \u001b[0maxis\u001b[0m \u001b[0;34m=\u001b[0m \u001b[0;36m1\u001b[0m\u001b[0;34m,\u001b[0m \u001b[0minplace\u001b[0m \u001b[0;34m=\u001b[0m \u001b[0;32mTrue\u001b[0m\u001b[0;34m)\u001b[0m\u001b[0;34m\u001b[0m\u001b[0;34m\u001b[0m\u001b[0m\n",
            "\u001b[0;32m/usr/local/lib/python3.7/dist-packages/pandas/util/_decorators.py\u001b[0m in \u001b[0;36mwrapper\u001b[0;34m(*args, **kwargs)\u001b[0m\n\u001b[1;32m    309\u001b[0m                     \u001b[0mstacklevel\u001b[0m\u001b[0;34m=\u001b[0m\u001b[0mstacklevel\u001b[0m\u001b[0;34m,\u001b[0m\u001b[0;34m\u001b[0m\u001b[0;34m\u001b[0m\u001b[0m\n\u001b[1;32m    310\u001b[0m                 )\n\u001b[0;32m--> 311\u001b[0;31m             \u001b[0;32mreturn\u001b[0m \u001b[0mfunc\u001b[0m\u001b[0;34m(\u001b[0m\u001b[0;34m*\u001b[0m\u001b[0margs\u001b[0m\u001b[0;34m,\u001b[0m \u001b[0;34m**\u001b[0m\u001b[0mkwargs\u001b[0m\u001b[0;34m)\u001b[0m\u001b[0;34m\u001b[0m\u001b[0;34m\u001b[0m\u001b[0m\n\u001b[0m\u001b[1;32m    312\u001b[0m \u001b[0;34m\u001b[0m\u001b[0m\n\u001b[1;32m    313\u001b[0m         \u001b[0;32mreturn\u001b[0m \u001b[0mwrapper\u001b[0m\u001b[0;34m\u001b[0m\u001b[0;34m\u001b[0m\u001b[0m\n",
            "\u001b[0;32m/usr/local/lib/python3.7/dist-packages/pandas/core/frame.py\u001b[0m in \u001b[0;36mdrop\u001b[0;34m(self, labels, axis, index, columns, level, inplace, errors)\u001b[0m\n\u001b[1;32m   4911\u001b[0m             \u001b[0mlevel\u001b[0m\u001b[0;34m=\u001b[0m\u001b[0mlevel\u001b[0m\u001b[0;34m,\u001b[0m\u001b[0;34m\u001b[0m\u001b[0;34m\u001b[0m\u001b[0m\n\u001b[1;32m   4912\u001b[0m             \u001b[0minplace\u001b[0m\u001b[0;34m=\u001b[0m\u001b[0minplace\u001b[0m\u001b[0;34m,\u001b[0m\u001b[0;34m\u001b[0m\u001b[0;34m\u001b[0m\u001b[0m\n\u001b[0;32m-> 4913\u001b[0;31m             \u001b[0merrors\u001b[0m\u001b[0;34m=\u001b[0m\u001b[0merrors\u001b[0m\u001b[0;34m,\u001b[0m\u001b[0;34m\u001b[0m\u001b[0;34m\u001b[0m\u001b[0m\n\u001b[0m\u001b[1;32m   4914\u001b[0m         )\n\u001b[1;32m   4915\u001b[0m \u001b[0;34m\u001b[0m\u001b[0m\n",
            "\u001b[0;32m/usr/local/lib/python3.7/dist-packages/pandas/core/generic.py\u001b[0m in \u001b[0;36mdrop\u001b[0;34m(self, labels, axis, index, columns, level, inplace, errors)\u001b[0m\n\u001b[1;32m   4151\u001b[0m \u001b[0;34m\u001b[0m\u001b[0m\n\u001b[1;32m   4152\u001b[0m         \u001b[0;32mif\u001b[0m \u001b[0minplace\u001b[0m\u001b[0;34m:\u001b[0m\u001b[0;34m\u001b[0m\u001b[0;34m\u001b[0m\u001b[0m\n\u001b[0;32m-> 4153\u001b[0;31m             \u001b[0mself\u001b[0m\u001b[0;34m.\u001b[0m\u001b[0m_update_inplace\u001b[0m\u001b[0;34m(\u001b[0m\u001b[0mobj\u001b[0m\u001b[0;34m)\u001b[0m\u001b[0;34m\u001b[0m\u001b[0;34m\u001b[0m\u001b[0m\n\u001b[0m\u001b[1;32m   4154\u001b[0m         \u001b[0;32melse\u001b[0m\u001b[0;34m:\u001b[0m\u001b[0;34m\u001b[0m\u001b[0;34m\u001b[0m\u001b[0m\n\u001b[1;32m   4155\u001b[0m             \u001b[0;32mreturn\u001b[0m \u001b[0mobj\u001b[0m\u001b[0;34m\u001b[0m\u001b[0;34m\u001b[0m\u001b[0m\n",
            "\u001b[0;32m/usr/local/lib/python3.7/dist-packages/pandas/core/generic.py\u001b[0m in \u001b[0;36m_update_inplace\u001b[0;34m(self, result, verify_is_copy)\u001b[0m\n\u001b[1;32m   4237\u001b[0m         \u001b[0mself\u001b[0m\u001b[0;34m.\u001b[0m\u001b[0m_clear_item_cache\u001b[0m\u001b[0;34m(\u001b[0m\u001b[0;34m)\u001b[0m\u001b[0;34m\u001b[0m\u001b[0;34m\u001b[0m\u001b[0m\n\u001b[1;32m   4238\u001b[0m         \u001b[0mself\u001b[0m\u001b[0;34m.\u001b[0m\u001b[0m_mgr\u001b[0m \u001b[0;34m=\u001b[0m \u001b[0mresult\u001b[0m\u001b[0;34m.\u001b[0m\u001b[0m_mgr\u001b[0m\u001b[0;34m\u001b[0m\u001b[0;34m\u001b[0m\u001b[0m\n\u001b[0;32m-> 4239\u001b[0;31m         \u001b[0mself\u001b[0m\u001b[0;34m.\u001b[0m\u001b[0m_maybe_update_cacher\u001b[0m\u001b[0;34m(\u001b[0m\u001b[0mverify_is_copy\u001b[0m\u001b[0;34m=\u001b[0m\u001b[0mverify_is_copy\u001b[0m\u001b[0;34m)\u001b[0m\u001b[0;34m\u001b[0m\u001b[0;34m\u001b[0m\u001b[0m\n\u001b[0m\u001b[1;32m   4240\u001b[0m \u001b[0;34m\u001b[0m\u001b[0m\n\u001b[1;32m   4241\u001b[0m     \u001b[0;34m@\u001b[0m\u001b[0mfinal\u001b[0m\u001b[0;34m\u001b[0m\u001b[0;34m\u001b[0m\u001b[0m\n",
            "\u001b[0;32m/usr/local/lib/python3.7/dist-packages/pandas/core/generic.py\u001b[0m in \u001b[0;36m_maybe_update_cacher\u001b[0;34m(self, clear, verify_is_copy)\u001b[0m\n\u001b[1;32m   3508\u001b[0m \u001b[0;34m\u001b[0m\u001b[0m\n\u001b[1;32m   3509\u001b[0m         \u001b[0;32mif\u001b[0m \u001b[0mverify_is_copy\u001b[0m\u001b[0;34m:\u001b[0m\u001b[0;34m\u001b[0m\u001b[0;34m\u001b[0m\u001b[0m\n\u001b[0;32m-> 3510\u001b[0;31m             \u001b[0mself\u001b[0m\u001b[0;34m.\u001b[0m\u001b[0m_check_setitem_copy\u001b[0m\u001b[0;34m(\u001b[0m\u001b[0mstacklevel\u001b[0m\u001b[0;34m=\u001b[0m\u001b[0;36m5\u001b[0m\u001b[0;34m,\u001b[0m \u001b[0mt\u001b[0m\u001b[0;34m=\u001b[0m\u001b[0;34m\"referent\"\u001b[0m\u001b[0;34m)\u001b[0m\u001b[0;34m\u001b[0m\u001b[0;34m\u001b[0m\u001b[0m\n\u001b[0m\u001b[1;32m   3511\u001b[0m \u001b[0;34m\u001b[0m\u001b[0m\n\u001b[1;32m   3512\u001b[0m         \u001b[0;32mif\u001b[0m \u001b[0mclear\u001b[0m\u001b[0;34m:\u001b[0m\u001b[0;34m\u001b[0m\u001b[0;34m\u001b[0m\u001b[0m\n",
            "\u001b[0;32m/usr/local/lib/python3.7/dist-packages/pandas/core/generic.py\u001b[0m in \u001b[0;36m_check_setitem_copy\u001b[0;34m(self, stacklevel, t, force)\u001b[0m\n\u001b[1;32m   3931\u001b[0m \u001b[0;34m\u001b[0m\u001b[0m\n\u001b[1;32m   3932\u001b[0m         \u001b[0;32mif\u001b[0m \u001b[0mvalue\u001b[0m \u001b[0;34m==\u001b[0m \u001b[0;34m\"raise\"\u001b[0m\u001b[0;34m:\u001b[0m\u001b[0;34m\u001b[0m\u001b[0;34m\u001b[0m\u001b[0m\n\u001b[0;32m-> 3933\u001b[0;31m             \u001b[0;32mraise\u001b[0m \u001b[0mcom\u001b[0m\u001b[0;34m.\u001b[0m\u001b[0mSettingWithCopyError\u001b[0m\u001b[0;34m(\u001b[0m\u001b[0mt\u001b[0m\u001b[0;34m)\u001b[0m\u001b[0;34m\u001b[0m\u001b[0;34m\u001b[0m\u001b[0m\n\u001b[0m\u001b[1;32m   3934\u001b[0m         \u001b[0;32melif\u001b[0m \u001b[0mvalue\u001b[0m \u001b[0;34m==\u001b[0m \u001b[0;34m\"warn\"\u001b[0m\u001b[0;34m:\u001b[0m\u001b[0;34m\u001b[0m\u001b[0;34m\u001b[0m\u001b[0m\n\u001b[1;32m   3935\u001b[0m             \u001b[0mwarnings\u001b[0m\u001b[0;34m.\u001b[0m\u001b[0mwarn\u001b[0m\u001b[0;34m(\u001b[0m\u001b[0mt\u001b[0m\u001b[0;34m,\u001b[0m \u001b[0mcom\u001b[0m\u001b[0;34m.\u001b[0m\u001b[0mSettingWithCopyWarning\u001b[0m\u001b[0;34m,\u001b[0m \u001b[0mstacklevel\u001b[0m\u001b[0;34m=\u001b[0m\u001b[0mstacklevel\u001b[0m\u001b[0;34m)\u001b[0m\u001b[0;34m\u001b[0m\u001b[0;34m\u001b[0m\u001b[0m\n",
            "\u001b[0;31mSettingWithCopyError\u001b[0m: \nA value is trying to be set on a copy of a slice from a DataFrame\n\nSee the caveats in the documentation: https://pandas.pydata.org/pandas-docs/stable/user_guide/indexing.html#returning-a-view-versus-a-copy"
          ]
        }
      ]
    },
    {
      "cell_type": "code",
      "source": [
        "columns = list(test_df.columns)"
      ],
      "metadata": {
        "id": "I9v7JN5i7sEc"
      },
      "execution_count": 44,
      "outputs": []
    },
    {
      "cell_type": "markdown",
      "source": [
        "We create a minimum model and a minimum + smiles model. \n",
        "Minimum model:"
      ],
      "metadata": {
        "id": "hp_yEvKD574S"
      }
    },
    {
      "cell_type": "code",
      "source": [
        "xs_min = xs[['Cell line name', 'Compound A', 'Compound B']].copy()\n",
        "valid_xs_min = valid_xs[['Cell line name', 'Compound A', 'Compound B']].copy()\n",
        "valid_xs_min_perm = pd.DataFrame()\n",
        "\n",
        "valid_xs_min_perm[['Cell line name', \n",
        "                   'Compound A', \n",
        "                   'Compound B']] = valid_xs[['Cell line name', \n",
        "                                              'Compound B', 'Compound A']].copy()"
      ],
      "metadata": {
        "id": "-3Mur8AN5tiq"
      },
      "execution_count": 75,
      "outputs": []
    },
    {
      "cell_type": "markdown",
      "source": [
        "Minimum + smiles"
      ],
      "metadata": {
        "id": "NySJTZGa8YWM"
      }
    },
    {
      "cell_type": "code",
      "source": [
        "\"First we create the columns\"\n",
        "column_1 = ['Cell line name', 'Compound A', 'Compound B']\n",
        "columns_2 = columns[16:182]\n",
        "columns_3 = columns[183:]\n",
        "columns_selected = column_1 + columns_2 + columns_3\n",
        "columns_perm = ['Cell line name', 'Compound B', 'Compound A'] + columns_3 + columns_2\n",
        "\n",
        "xs_min_sm = xs[columns_selected].copy()\n",
        "valid_xs_min_sm = valid_xs[columns_selected].copy()\n",
        "valid_xs_min_sm_perm = pd.DataFrame()\n",
        "valid_xs_min_sm_perm[columns_selected] = valid_xs[columns_perm].copy()"
      ],
      "metadata": {
        "id": "mfQo456F88Mh",
        "outputId": "88e8ba74-a862-441d-f3ef-a586735fe566",
        "colab": {
          "base_uri": "https://localhost:8080/"
        }
      },
      "execution_count": 76,
      "outputs": [
        {
          "output_type": "stream",
          "name": "stderr",
          "text": [
            "/usr/local/lib/python3.7/dist-packages/pandas/core/frame.py:3641: PerformanceWarning: DataFrame is highly fragmented.  This is usually the result of calling `frame.insert` many times, which has poor performance.  Consider joining all columns at once using pd.concat(axis=1) instead.  To get a de-fragmented frame, use `newframe = frame.copy()`\n",
            "  self[k1] = value[k2]\n"
          ]
        }
      ]
    },
    {
      "cell_type": "code",
      "source": [
        "valid_xs_min_sm"
      ],
      "metadata": {
        "id": "lRnGR7um-0C4",
        "outputId": "4c0e06cd-9c02-4f3a-d28d-a9d16101d181",
        "colab": {
          "base_uri": "https://localhost:8080/",
          "height": 522
        }
      },
      "execution_count": 78,
      "outputs": [
        {
          "output_type": "execute_result",
          "data": {
            "text/plain": [
              "      Cell line name  Compound A  Compound B  Drug_A_FPT1  ...  Drug_B_FPT163  \\\n",
              "1                  2          22          15            1  ...              1   \n",
              "2                 11          29          25            1  ...              1   \n",
              "9                  7          25           3            1  ...              1   \n",
              "14                45          26          13            1  ...              1   \n",
              "18                17           9           3            1  ...              1   \n",
              "...              ...         ...         ...          ...  ...            ...   \n",
              "2712              21          27           5            1  ...              1   \n",
              "2713              40          17           8            1  ...              1   \n",
              "2716              33          29           9            1  ...              1   \n",
              "2718              48          19          11            1  ...              1   \n",
              "2725              27          22          14            1  ...              1   \n",
              "\n",
              "      Drug_B_FPT164  Drug_B_FPT165  Drug_B_FPT166  \n",
              "1                 1              1              1  \n",
              "2                 1              1              1  \n",
              "9                 1              1              1  \n",
              "14                1              1              1  \n",
              "18                1              1              1  \n",
              "...             ...            ...            ...  \n",
              "2712              1              1              1  \n",
              "2713              1              1              1  \n",
              "2716              1              1              1  \n",
              "2718              1              1              1  \n",
              "2725              1              1              1  \n",
              "\n",
              "[764 rows x 335 columns]"
            ],
            "text/html": [
              "\n",
              "  <div id=\"df-0c7af086-212c-429d-8acb-373a8e0d68e5\">\n",
              "    <div class=\"colab-df-container\">\n",
              "      <div>\n",
              "<style scoped>\n",
              "    .dataframe tbody tr th:only-of-type {\n",
              "        vertical-align: middle;\n",
              "    }\n",
              "\n",
              "    .dataframe tbody tr th {\n",
              "        vertical-align: top;\n",
              "    }\n",
              "\n",
              "    .dataframe thead th {\n",
              "        text-align: right;\n",
              "    }\n",
              "</style>\n",
              "<table border=\"1\" class=\"dataframe\">\n",
              "  <thead>\n",
              "    <tr style=\"text-align: right;\">\n",
              "      <th></th>\n",
              "      <th>Cell line name</th>\n",
              "      <th>Compound A</th>\n",
              "      <th>Compound B</th>\n",
              "      <th>Drug_A_FPT1</th>\n",
              "      <th>...</th>\n",
              "      <th>Drug_B_FPT163</th>\n",
              "      <th>Drug_B_FPT164</th>\n",
              "      <th>Drug_B_FPT165</th>\n",
              "      <th>Drug_B_FPT166</th>\n",
              "    </tr>\n",
              "  </thead>\n",
              "  <tbody>\n",
              "    <tr>\n",
              "      <th>1</th>\n",
              "      <td>2</td>\n",
              "      <td>22</td>\n",
              "      <td>15</td>\n",
              "      <td>1</td>\n",
              "      <td>...</td>\n",
              "      <td>1</td>\n",
              "      <td>1</td>\n",
              "      <td>1</td>\n",
              "      <td>1</td>\n",
              "    </tr>\n",
              "    <tr>\n",
              "      <th>2</th>\n",
              "      <td>11</td>\n",
              "      <td>29</td>\n",
              "      <td>25</td>\n",
              "      <td>1</td>\n",
              "      <td>...</td>\n",
              "      <td>1</td>\n",
              "      <td>1</td>\n",
              "      <td>1</td>\n",
              "      <td>1</td>\n",
              "    </tr>\n",
              "    <tr>\n",
              "      <th>9</th>\n",
              "      <td>7</td>\n",
              "      <td>25</td>\n",
              "      <td>3</td>\n",
              "      <td>1</td>\n",
              "      <td>...</td>\n",
              "      <td>1</td>\n",
              "      <td>1</td>\n",
              "      <td>1</td>\n",
              "      <td>1</td>\n",
              "    </tr>\n",
              "    <tr>\n",
              "      <th>14</th>\n",
              "      <td>45</td>\n",
              "      <td>26</td>\n",
              "      <td>13</td>\n",
              "      <td>1</td>\n",
              "      <td>...</td>\n",
              "      <td>1</td>\n",
              "      <td>1</td>\n",
              "      <td>1</td>\n",
              "      <td>1</td>\n",
              "    </tr>\n",
              "    <tr>\n",
              "      <th>18</th>\n",
              "      <td>17</td>\n",
              "      <td>9</td>\n",
              "      <td>3</td>\n",
              "      <td>1</td>\n",
              "      <td>...</td>\n",
              "      <td>1</td>\n",
              "      <td>1</td>\n",
              "      <td>1</td>\n",
              "      <td>1</td>\n",
              "    </tr>\n",
              "    <tr>\n",
              "      <th>...</th>\n",
              "      <td>...</td>\n",
              "      <td>...</td>\n",
              "      <td>...</td>\n",
              "      <td>...</td>\n",
              "      <td>...</td>\n",
              "      <td>...</td>\n",
              "      <td>...</td>\n",
              "      <td>...</td>\n",
              "      <td>...</td>\n",
              "    </tr>\n",
              "    <tr>\n",
              "      <th>2712</th>\n",
              "      <td>21</td>\n",
              "      <td>27</td>\n",
              "      <td>5</td>\n",
              "      <td>1</td>\n",
              "      <td>...</td>\n",
              "      <td>1</td>\n",
              "      <td>1</td>\n",
              "      <td>1</td>\n",
              "      <td>1</td>\n",
              "    </tr>\n",
              "    <tr>\n",
              "      <th>2713</th>\n",
              "      <td>40</td>\n",
              "      <td>17</td>\n",
              "      <td>8</td>\n",
              "      <td>1</td>\n",
              "      <td>...</td>\n",
              "      <td>1</td>\n",
              "      <td>1</td>\n",
              "      <td>1</td>\n",
              "      <td>1</td>\n",
              "    </tr>\n",
              "    <tr>\n",
              "      <th>2716</th>\n",
              "      <td>33</td>\n",
              "      <td>29</td>\n",
              "      <td>9</td>\n",
              "      <td>1</td>\n",
              "      <td>...</td>\n",
              "      <td>1</td>\n",
              "      <td>1</td>\n",
              "      <td>1</td>\n",
              "      <td>1</td>\n",
              "    </tr>\n",
              "    <tr>\n",
              "      <th>2718</th>\n",
              "      <td>48</td>\n",
              "      <td>19</td>\n",
              "      <td>11</td>\n",
              "      <td>1</td>\n",
              "      <td>...</td>\n",
              "      <td>1</td>\n",
              "      <td>1</td>\n",
              "      <td>1</td>\n",
              "      <td>1</td>\n",
              "    </tr>\n",
              "    <tr>\n",
              "      <th>2725</th>\n",
              "      <td>27</td>\n",
              "      <td>22</td>\n",
              "      <td>14</td>\n",
              "      <td>1</td>\n",
              "      <td>...</td>\n",
              "      <td>1</td>\n",
              "      <td>1</td>\n",
              "      <td>1</td>\n",
              "      <td>1</td>\n",
              "    </tr>\n",
              "  </tbody>\n",
              "</table>\n",
              "<p>764 rows × 335 columns</p>\n",
              "</div>\n",
              "      <button class=\"colab-df-convert\" onclick=\"convertToInteractive('df-0c7af086-212c-429d-8acb-373a8e0d68e5')\"\n",
              "              title=\"Convert this dataframe to an interactive table.\"\n",
              "              style=\"display:none;\">\n",
              "        \n",
              "  <svg xmlns=\"http://www.w3.org/2000/svg\" height=\"24px\"viewBox=\"0 0 24 24\"\n",
              "       width=\"24px\">\n",
              "    <path d=\"M0 0h24v24H0V0z\" fill=\"none\"/>\n",
              "    <path d=\"M18.56 5.44l.94 2.06.94-2.06 2.06-.94-2.06-.94-.94-2.06-.94 2.06-2.06.94zm-11 1L8.5 8.5l.94-2.06 2.06-.94-2.06-.94L8.5 2.5l-.94 2.06-2.06.94zm10 10l.94 2.06.94-2.06 2.06-.94-2.06-.94-.94-2.06-.94 2.06-2.06.94z\"/><path d=\"M17.41 7.96l-1.37-1.37c-.4-.4-.92-.59-1.43-.59-.52 0-1.04.2-1.43.59L10.3 9.45l-7.72 7.72c-.78.78-.78 2.05 0 2.83L4 21.41c.39.39.9.59 1.41.59.51 0 1.02-.2 1.41-.59l7.78-7.78 2.81-2.81c.8-.78.8-2.07 0-2.86zM5.41 20L4 18.59l7.72-7.72 1.47 1.35L5.41 20z\"/>\n",
              "  </svg>\n",
              "      </button>\n",
              "      \n",
              "  <style>\n",
              "    .colab-df-container {\n",
              "      display:flex;\n",
              "      flex-wrap:wrap;\n",
              "      gap: 12px;\n",
              "    }\n",
              "\n",
              "    .colab-df-convert {\n",
              "      background-color: #E8F0FE;\n",
              "      border: none;\n",
              "      border-radius: 50%;\n",
              "      cursor: pointer;\n",
              "      display: none;\n",
              "      fill: #1967D2;\n",
              "      height: 32px;\n",
              "      padding: 0 0 0 0;\n",
              "      width: 32px;\n",
              "    }\n",
              "\n",
              "    .colab-df-convert:hover {\n",
              "      background-color: #E2EBFA;\n",
              "      box-shadow: 0px 1px 2px rgba(60, 64, 67, 0.3), 0px 1px 3px 1px rgba(60, 64, 67, 0.15);\n",
              "      fill: #174EA6;\n",
              "    }\n",
              "\n",
              "    [theme=dark] .colab-df-convert {\n",
              "      background-color: #3B4455;\n",
              "      fill: #D2E3FC;\n",
              "    }\n",
              "\n",
              "    [theme=dark] .colab-df-convert:hover {\n",
              "      background-color: #434B5C;\n",
              "      box-shadow: 0px 1px 3px 1px rgba(0, 0, 0, 0.15);\n",
              "      filter: drop-shadow(0px 1px 2px rgba(0, 0, 0, 0.3));\n",
              "      fill: #FFFFFF;\n",
              "    }\n",
              "  </style>\n",
              "\n",
              "      <script>\n",
              "        const buttonEl =\n",
              "          document.querySelector('#df-0c7af086-212c-429d-8acb-373a8e0d68e5 button.colab-df-convert');\n",
              "        buttonEl.style.display =\n",
              "          google.colab.kernel.accessAllowed ? 'block' : 'none';\n",
              "\n",
              "        async function convertToInteractive(key) {\n",
              "          const element = document.querySelector('#df-0c7af086-212c-429d-8acb-373a8e0d68e5');\n",
              "          const dataTable =\n",
              "            await google.colab.kernel.invokeFunction('convertToInteractive',\n",
              "                                                     [key], {});\n",
              "          if (!dataTable) return;\n",
              "\n",
              "          const docLinkHtml = 'Like what you see? Visit the ' +\n",
              "            '<a target=\"_blank\" href=https://colab.research.google.com/notebooks/data_table.ipynb>data table notebook</a>'\n",
              "            + ' to learn more about interactive tables.';\n",
              "          element.innerHTML = '';\n",
              "          dataTable['output_type'] = 'display_data';\n",
              "          await google.colab.output.renderOutput(dataTable, element);\n",
              "          const docLink = document.createElement('div');\n",
              "          docLink.innerHTML = docLinkHtml;\n",
              "          element.appendChild(docLink);\n",
              "        }\n",
              "      </script>\n",
              "    </div>\n",
              "  </div>\n",
              "  "
            ]
          },
          "metadata": {},
          "execution_count": 78
        }
      ]
    },
    {
      "cell_type": "markdown",
      "source": [
        "# Evaluating functions"
      ],
      "metadata": {
        "id": "n8bo_pM2egbt"
      }
    },
    {
      "cell_type": "code",
      "source": [
        "def weighted_pearson(df_dc_test, y_pred):\n",
        "    \n",
        "    \n",
        "    \"\"\"\n",
        "    Computes the weighted Pearson correlation coefficient and a DataFrame of\n",
        "    the individual Pearson coefficients of each combination\n",
        "    \n",
        "    INPUTS:\n",
        "    df_dc_test: dataset used for inference. We only use the combination\n",
        "                    id and the observed synergy.\n",
        "    y_pred: predictions of the model\"\"\"\n",
        "\n",
        "    y_obs = np.asarray(df_dc_test[\"Synergy score\"])\n",
        "    \n",
        "    cl_count = Counter(df_dc_test[\"Combination ID\"])\n",
        "\n",
        "    id_list = list(cl_count.keys())\n",
        "\n",
        "    rho_list = list()\n",
        "    \n",
        "    numerator = 0\n",
        "    denominator = 0\n",
        "\n",
        "\n",
        "    for ids in id_list:\n",
        "        \n",
        "        \"We compute the appropiate mask, since combinations are not\"\n",
        "        \"grouped in the dataset\"\n",
        "        condition = df_dc_test[\"Combination ID\"] == ids\n",
        "        \n",
        "        pearson = np.corrcoef(y_pred[condition], y_obs[condition])\n",
        "        \"pearson is a correlation matrix, we want an off-diagonal term\"\n",
        "        rho_list.append(pearson[0,1])\n",
        "        \n",
        "        \"Number of times each drug combination appears\"\n",
        "        rep =  np.sum(condition)\n",
        "        \n",
        "       \n",
        "        \"np.sqrt(rep-1) is the relative weight of the drug pair\"\n",
        "        \n",
        "        numerator = numerator + np.sqrt(rep-1)*pearson[0,1]\n",
        "        denominator = denominator + np.sqrt(rep-1)\n",
        "        \n",
        "    weighted_pear = numerator / denominator\n",
        "    \n",
        "    \n",
        "    pear_weights_df = pd.DataFrame({\"Combination ID\" : id_list ,\n",
        "                                    \"n_cl\" : list(cl_count.values()),\n",
        "                                \"Pearson coefficient\" : rho_list })\n",
        "    \n",
        "    return weighted_pear, pear_weights_df"
      ],
      "metadata": {
        "id": "50fimoT4efxi"
      },
      "execution_count": 20,
      "outputs": []
    },
    {
      "cell_type": "code",
      "source": [
        "def nan_weighted_pearson(df_dc_test, y_pred):\n",
        "    \n",
        "    \n",
        "    \"\"\"\n",
        "    Computes the weighted Pearson correlation coefficient and a DataFrame of\n",
        "    the individual Pearson coefficients of each combination, \n",
        "    setting nan's to 0.\n",
        "    \n",
        "    INPUTS:\n",
        "    df_dc_test: dataset used for inference. We only use the combination\n",
        "                    id and the observed synergy.\n",
        "    y_pred: predictions of the model\"\"\"\n",
        "\n",
        "    y_obs = np.asarray(df_dc_test[\"Synergy score\"])\n",
        "    \n",
        "    cl_count = Counter(df_dc_test[\"Combination ID\"])\n",
        "\n",
        "    id_list = list(cl_count.keys())\n",
        "\n",
        "    rho_list = list()\n",
        "    \n",
        "    numerator = 0\n",
        "    denominator = 0\n",
        "\n",
        "\n",
        "    for ids in id_list:\n",
        "        \n",
        "        \"We compute the appropiate mask, since combinations are not\"\n",
        "        \"grouped in the dataset\"\n",
        "        condition = df_dc_test[\"Combination ID\"] == ids\n",
        "        \n",
        "        pearson = np.corrcoef(y_pred[condition], y_obs[condition])\n",
        "        \"pearson is a correlation matrix, we want an off-diagonal term\"\n",
        "        if np.isnan(pearson[0,1]):\n",
        "          rho_i = 0\n",
        "        else: \n",
        "          rho_i = pearson[0,1]\n",
        "        rho_list.append(rho_i)\n",
        "        \n",
        "        \"Number of times each drug combination appears\"\n",
        "        rep =  np.sum(condition)\n",
        "        \n",
        "       \n",
        "        \"np.sqrt(rep-1) is the relative weight of the drug pair\"\n",
        "        \n",
        "        numerator = numerator + np.sqrt(rep-1)*rho_i\n",
        "        denominator = denominator + np.sqrt(rep-1)\n",
        "        \n",
        "    weighted_pear = numerator / denominator\n",
        "    \n",
        "    \n",
        "    pear_weights_df = pd.DataFrame({\"Combination ID\" : id_list ,\n",
        "                                    \"n_cl\" : list(cl_count.values()),\n",
        "                                \"Pearson coefficient\" : rho_list })\n",
        "    \n",
        "    return weighted_pear, pear_weights_df"
      ],
      "metadata": {
        "id": "BEqvaLJcer0q"
      },
      "execution_count": 21,
      "outputs": []
    },
    {
      "cell_type": "code",
      "source": [
        "def wpc_score(df_dc_test, y_pred):\n",
        "    \n",
        "    \n",
        "    \"\"\"\n",
        "    Computes the weighted Pearson correlation coefficient and a DataFrame of\n",
        "    the individual Pearson coefficients of each combination, \n",
        "    setting nan's to 0.\n",
        "    \n",
        "    INPUTS:\n",
        "    df_dc_test: dataset used for inference. We only use the combination\n",
        "                    id and the observed synergy.\n",
        "    y_pred: predictions of the model\"\"\"\n",
        "\n",
        "    y_obs = np.asarray(df_dc_test[\"Synergy score\"])\n",
        "    \n",
        "    cl_count = Counter(df_dc_test[\"Combination ID\"])\n",
        "\n",
        "    id_list = list(cl_count.keys())\n",
        "\n",
        "    rho_list = list()\n",
        "    \n",
        "    numerator = 0\n",
        "    denominator = 0\n",
        "\n",
        "\n",
        "    for ids in id_list:\n",
        "        \n",
        "        \"We compute the appropiate mask, since combinations are not\"\n",
        "        \"grouped in the dataset\"\n",
        "        condition = df_dc_test[\"Combination ID\"] == ids\n",
        "        \n",
        "        pearson = np.corrcoef(y_pred[condition], y_obs[condition])\n",
        "        \"pearson is a correlation matrix, we want an off-diagonal term\"\n",
        "        if np.isnan(pearson[0,1]):\n",
        "          rho_i = 0\n",
        "        else: \n",
        "          rho_i = pearson[0,1]\n",
        "        \n",
        "        \n",
        "        \"Number of times each drug combination appears\"\n",
        "        rep =  np.sum(condition)\n",
        "        \n",
        "       \n",
        "        \"np.sqrt(rep-1) is the relative weight of the drug pair\"\n",
        "        \n",
        "        numerator = numerator + np.sqrt(rep-1)*rho_i\n",
        "        denominator = denominator + np.sqrt(rep-1)\n",
        "        \n",
        "    weighted_pear = numerator / denominator\n",
        "    \n",
        "    \n",
        "    \n",
        "    return weighted_pear"
      ],
      "metadata": {
        "id": "tQvJM7b0evxK"
      },
      "execution_count": 22,
      "outputs": []
    },
    {
      "cell_type": "markdown",
      "source": [
        "# Baseline model: mean and median"
      ],
      "metadata": {
        "id": "y6ktNAlyhbnK"
      }
    },
    {
      "cell_type": "markdown",
      "source": [
        "  Let's see how good it performs a model whose only information is the mean or the median of the train set."
      ],
      "metadata": {
        "id": "bUXc3HsciFpi"
      }
    },
    {
      "cell_type": "code",
      "source": [
        "mean = np.mean(y)\n",
        "median = np.median(y)\n",
        "print(f\" Median = {median} \\n Mean = {mean}\")"
      ],
      "metadata": {
        "colab": {
          "base_uri": "https://localhost:8080/"
        },
        "id": "4TGVdEKPhmGl",
        "outputId": "1f3c23c0-6f90-4d38-ef6e-90b05719d54b"
      },
      "execution_count": null,
      "outputs": [
        {
          "output_type": "stream",
          "name": "stdout",
          "text": [
            " Median = 9.755132675170898 \n",
            " Mean = 12.747145652770996\n"
          ]
        }
      ]
    },
    {
      "cell_type": "markdown",
      "source": [
        "We create our metrics"
      ],
      "metadata": {
        "id": "rXq3_BXXi_DE"
      }
    },
    {
      "cell_type": "code",
      "source": [
        "def r_mse(pred,y): return round(math.sqrt(((pred-y)**2).mean()), 6)\n",
        "def m_rmse(m, xs, y): return r_mse(m.predict(xs), y)"
      ],
      "metadata": {
        "id": "JUOxhFTbi-BK"
      },
      "execution_count": null,
      "outputs": []
    },
    {
      "cell_type": "code",
      "source": [
        "error_mean = r_mse(mean, valid_y)\n",
        "error_median = r_mse(median, valid_y)\n",
        "print(f\" Error Median = {error_median} \\n Error Mean = {error_mean}\")"
      ],
      "metadata": {
        "colab": {
          "base_uri": "https://localhost:8080/"
        },
        "id": "XQL79-SFi3_u",
        "outputId": "08d9b61a-9542-4939-ae28-c48716d3b2a5"
      },
      "execution_count": null,
      "outputs": [
        {
          "output_type": "stream",
          "name": "stdout",
          "text": [
            " Error Median = 28.099112 \n",
            " Error Mean = 27.98169\n"
          ]
        }
      ]
    },
    {
      "cell_type": "markdown",
      "source": [
        "However, we now know that the correct metric is going to be a weighted Pearson correlation coefficient, which takes into account the number of cell lines used per drug pair experiment. It will give 0 for uncorrelated data.\n",
        "\n",
        "What we want to measure is if the experimental and predicted synergy scores are correlated for every drug pair."
      ],
      "metadata": {
        "id": "7VjlAOOhShYj"
      }
    },
    {
      "cell_type": "code",
      "source": [
        "def weighted_pearson(df_dc_test, y_pred):\n",
        "    \n",
        "    \n",
        "    \"\"\"\n",
        "    Computes the weighted Pearson correlation coefficient and a DataFrame of\n",
        "    the individual Pearson coefficients of each combination\n",
        "    \n",
        "    INPUTS:\n",
        "    df_dc_test: dataset used for inference. We only use the combination\n",
        "                    id and the observed synergy.\n",
        "    y_pred: predictions of the model\"\"\"\n",
        "\n",
        "    y_obs = np.asarray(df_dc_test[\"Synergy score\"])\n",
        "    \n",
        "    cl_count = Counter(df_dc_test[\"Combination ID\"])\n",
        "\n",
        "    id_list = list(cl_count.keys())\n",
        "\n",
        "    rho_list = list()\n",
        "    \n",
        "    numerator = 0\n",
        "    denominator = 0\n",
        "\n",
        "\n",
        "    for ids in id_list:\n",
        "        \n",
        "        \"We compute the appropiate mask, since combinations are not\"\n",
        "        \"grouped in the dataset\"\n",
        "        condition = df_dc_test[\"Combination ID\"] == ids\n",
        "        \n",
        "        pearson = np.corrcoef(y_pred[condition], y_obs[condition])\n",
        "        \"pearson is a correlation matrix, we want an off-diagonal term\"\n",
        "        rho_list.append(pearson[0,1])\n",
        "        \n",
        "        \"Number of times each drug combination appears\"\n",
        "        rep =  np.sum(condition)\n",
        "        \n",
        "       \n",
        "        \"np.sqrt(rep-1) is the relative weight of the drug pair\"\n",
        "        \n",
        "        numerator = numerator + np.sqrt(rep-1)*pearson[0,1]\n",
        "        denominator = denominator + np.sqrt(rep-1)\n",
        "        \n",
        "    weighted_pear = numerator / denominator\n",
        "    \n",
        "    \n",
        "    pear_weights_df = pd.DataFrame({\"Combination ID\" : id_list ,\n",
        "                                    \"n_cl\" : list(cl_count.values()),\n",
        "                                \"Pearson coefficient\" : rho_list })\n",
        "    \n",
        "    return weighted_pear, pear_weights_df"
      ],
      "metadata": {
        "id": "oJfJXt4xKAJ0"
      },
      "execution_count": null,
      "outputs": []
    },
    {
      "cell_type": "markdown",
      "source": [
        "We make a function that accounts for possible values of nan's in the dataset and sets them to 0.\n"
      ],
      "metadata": {
        "id": "iZzBjwyAiMXE"
      }
    },
    {
      "cell_type": "code",
      "source": [
        "def nan_weighted_pearson(df_dc_test, y_pred):\n",
        "    \n",
        "    \n",
        "    \"\"\"\n",
        "    Computes the weighted Pearson correlation coefficient and a DataFrame of\n",
        "    the individual Pearson coefficients of each combination, \n",
        "    setting nan's to 0.\n",
        "    \n",
        "    INPUTS:\n",
        "    df_dc_test: dataset used for inference. We only use the combination\n",
        "                    id and the observed synergy.\n",
        "    y_pred: predictions of the model\"\"\"\n",
        "\n",
        "    y_obs = np.asarray(df_dc_test[\"Synergy score\"])\n",
        "    \n",
        "    cl_count = Counter(df_dc_test[\"Combination ID\"])\n",
        "\n",
        "    id_list = list(cl_count.keys())\n",
        "\n",
        "    rho_list = list()\n",
        "    \n",
        "    numerator = 0\n",
        "    denominator = 0\n",
        "\n",
        "\n",
        "    for ids in id_list:\n",
        "        \n",
        "        \"We compute the appropiate mask, since combinations are not\"\n",
        "        \"grouped in the dataset\"\n",
        "        condition = df_dc_test[\"Combination ID\"] == ids\n",
        "        \n",
        "        pearson = np.corrcoef(y_pred[condition], y_obs[condition])\n",
        "        \"pearson is a correlation matrix, we want an off-diagonal term\"\n",
        "        if np.isnan(pearson[0,1]):\n",
        "          rho_i = 0\n",
        "        else: \n",
        "          rho_i = pearson[0,1]\n",
        "        rho_list.append(rho_i)\n",
        "        \n",
        "        \"Number of times each drug combination appears\"\n",
        "        rep =  np.sum(condition)\n",
        "        \n",
        "       \n",
        "        \"np.sqrt(rep-1) is the relative weight of the drug pair\"\n",
        "        \n",
        "        numerator = numerator + np.sqrt(rep-1)*rho_i\n",
        "        denominator = denominator + np.sqrt(rep-1)\n",
        "        \n",
        "    weighted_pear = numerator / denominator\n",
        "    \n",
        "    \n",
        "    pear_weights_df = pd.DataFrame({\"Combination ID\" : id_list ,\n",
        "                                    \"n_cl\" : list(cl_count.values()),\n",
        "                                \"Pearson coefficient\" : rho_list })\n",
        "    \n",
        "    return weighted_pear, pear_weights_df"
      ],
      "metadata": {
        "id": "2T4kogQ_iaQc"
      },
      "execution_count": null,
      "outputs": []
    },
    {
      "cell_type": "markdown",
      "source": [
        "And one that only gives metric for fast training:"
      ],
      "metadata": {
        "id": "KO592Uhtq1PV"
      }
    },
    {
      "cell_type": "code",
      "source": [
        "def wpc_score(df_dc_test, y_pred):\n",
        "    \n",
        "    \n",
        "    \"\"\"\n",
        "    Computes the weighted Pearson correlation coefficient and a DataFrame of\n",
        "    the individual Pearson coefficients of each combination, \n",
        "    setting nan's to 0.\n",
        "    \n",
        "    INPUTS:\n",
        "    df_dc_test: dataset used for inference. We only use the combination\n",
        "                    id and the observed synergy.\n",
        "    y_pred: predictions of the model\"\"\"\n",
        "\n",
        "    y_obs = np.asarray(df_dc_test[\"Synergy score\"])\n",
        "    \n",
        "    cl_count = Counter(df_dc_test[\"Combination ID\"])\n",
        "\n",
        "    id_list = list(cl_count.keys())\n",
        "\n",
        "    rho_list = list()\n",
        "    \n",
        "    numerator = 0\n",
        "    denominator = 0\n",
        "\n",
        "\n",
        "    for ids in id_list:\n",
        "        \n",
        "        \"We compute the appropiate mask, since combinations are not\"\n",
        "        \"grouped in the dataset\"\n",
        "        condition = df_dc_test[\"Combination ID\"] == ids\n",
        "        \n",
        "        pearson = np.corrcoef(y_pred[condition], y_obs[condition])\n",
        "        \"pearson is a correlation matrix, we want an off-diagonal term\"\n",
        "        if np.isnan(pearson[0,1]):\n",
        "          rho_i = 0\n",
        "        else: \n",
        "          rho_i = pearson[0,1]\n",
        "        \n",
        "        \n",
        "        \"Number of times each drug combination appears\"\n",
        "        rep =  np.sum(condition)\n",
        "        \n",
        "       \n",
        "        \"np.sqrt(rep-1) is the relative weight of the drug pair\"\n",
        "        \n",
        "        numerator = numerator + np.sqrt(rep-1)*rho_i\n",
        "        denominator = denominator + np.sqrt(rep-1)\n",
        "        \n",
        "    weighted_pear = numerator / denominator\n",
        "    \n",
        "    \n",
        "    \n",
        "    return weighted_pear"
      ],
      "metadata": {
        "id": "islIw6uaq0l-"
      },
      "execution_count": null,
      "outputs": []
    },
    {
      "cell_type": "code",
      "source": [
        "test_df = df_drug_comb.iloc[test_idx]\n",
        "test_df"
      ],
      "metadata": {
        "colab": {
          "base_uri": "https://localhost:8080/",
          "height": 539
        },
        "id": "uPbu8whvKufF",
        "outputId": "f36ae76a-12be-4ed5-8159-2a61433d1c20"
      },
      "execution_count": null,
      "outputs": [
        {
          "output_type": "execute_result",
          "data": {
            "text/plain": [
              "     Cell line name  Compound A     Compound B  Max. conc. A  ...        H B  \\\n",
              "5           HT-1197        FGFR            AKT           3.0  ...   2.531000   \n",
              "11           BT-549    PIK3CA_4            AKT           1.0  ...   1.182479   \n",
              "12          UM-UC-3      HDAC_4            AKT           3.0  ...  10.000000   \n",
              "14             SW48     MAP2K_1         IGFR_4           3.0  ...   0.499136   \n",
              "17          HCC1143       ATR_4            AKT           1.0  ...   1.159155   \n",
              "...             ...         ...            ...           ...  ...        ...   \n",
              "5256        MFM-223         AKT         ADAM17           1.0  ...   0.000000   \n",
              "5260        HCC1806      MTOR_1           FASN           1.0  ...  10.000000   \n",
              "5261            RKO         TKI        MAP2K_1           3.0  ...   0.969392   \n",
              "5262        CAL-120  TNKS_PARP6  PIK3CB_PIK3CD           1.0  ...  10.000000   \n",
              "5265      NCI-H1975      TOP2_2            IAP           3.0  ...   0.493178   \n",
              "\n",
              "          Einf B  Synergy score            Combination ID  \n",
              "5      58.538453      -3.891046                  AKT.FGFR  \n",
              "11     34.658416      12.835160              AKT.PIK3CA_4  \n",
              "12     85.598780       3.115130                AKT.HDAC_4  \n",
              "14      0.000000      35.711340            IGFR_4.MAP2K_1  \n",
              "17     69.527524     -35.352060                 AKT.ATR_4  \n",
              "...          ...            ...                       ...  \n",
              "5256  100.000000      38.850700                ADAM17.AKT  \n",
              "5260   75.080116     -50.139620               FASN.MTOR_1  \n",
              "5261    0.000000      11.056320               MAP2K_1.TKI  \n",
              "5262   70.299621      14.689200  PIK3CB_PIK3CD.TNKS_PARP6  \n",
              "5265   71.768277      46.534060                IAP.TOP2_2  \n",
              "\n",
              "[1680 rows x 13 columns]"
            ],
            "text/html": [
              "\n",
              "  <div id=\"df-29ec8508-3fb7-4120-aa0b-72290aaedc0d\">\n",
              "    <div class=\"colab-df-container\">\n",
              "      <div>\n",
              "<style scoped>\n",
              "    .dataframe tbody tr th:only-of-type {\n",
              "        vertical-align: middle;\n",
              "    }\n",
              "\n",
              "    .dataframe tbody tr th {\n",
              "        vertical-align: top;\n",
              "    }\n",
              "\n",
              "    .dataframe thead th {\n",
              "        text-align: right;\n",
              "    }\n",
              "</style>\n",
              "<table border=\"1\" class=\"dataframe\">\n",
              "  <thead>\n",
              "    <tr style=\"text-align: right;\">\n",
              "      <th></th>\n",
              "      <th>Cell line name</th>\n",
              "      <th>Compound A</th>\n",
              "      <th>Compound B</th>\n",
              "      <th>Max. conc. A</th>\n",
              "      <th>...</th>\n",
              "      <th>H B</th>\n",
              "      <th>Einf B</th>\n",
              "      <th>Synergy score</th>\n",
              "      <th>Combination ID</th>\n",
              "    </tr>\n",
              "  </thead>\n",
              "  <tbody>\n",
              "    <tr>\n",
              "      <th>5</th>\n",
              "      <td>HT-1197</td>\n",
              "      <td>FGFR</td>\n",
              "      <td>AKT</td>\n",
              "      <td>3.0</td>\n",
              "      <td>...</td>\n",
              "      <td>2.531000</td>\n",
              "      <td>58.538453</td>\n",
              "      <td>-3.891046</td>\n",
              "      <td>AKT.FGFR</td>\n",
              "    </tr>\n",
              "    <tr>\n",
              "      <th>11</th>\n",
              "      <td>BT-549</td>\n",
              "      <td>PIK3CA_4</td>\n",
              "      <td>AKT</td>\n",
              "      <td>1.0</td>\n",
              "      <td>...</td>\n",
              "      <td>1.182479</td>\n",
              "      <td>34.658416</td>\n",
              "      <td>12.835160</td>\n",
              "      <td>AKT.PIK3CA_4</td>\n",
              "    </tr>\n",
              "    <tr>\n",
              "      <th>12</th>\n",
              "      <td>UM-UC-3</td>\n",
              "      <td>HDAC_4</td>\n",
              "      <td>AKT</td>\n",
              "      <td>3.0</td>\n",
              "      <td>...</td>\n",
              "      <td>10.000000</td>\n",
              "      <td>85.598780</td>\n",
              "      <td>3.115130</td>\n",
              "      <td>AKT.HDAC_4</td>\n",
              "    </tr>\n",
              "    <tr>\n",
              "      <th>14</th>\n",
              "      <td>SW48</td>\n",
              "      <td>MAP2K_1</td>\n",
              "      <td>IGFR_4</td>\n",
              "      <td>3.0</td>\n",
              "      <td>...</td>\n",
              "      <td>0.499136</td>\n",
              "      <td>0.000000</td>\n",
              "      <td>35.711340</td>\n",
              "      <td>IGFR_4.MAP2K_1</td>\n",
              "    </tr>\n",
              "    <tr>\n",
              "      <th>17</th>\n",
              "      <td>HCC1143</td>\n",
              "      <td>ATR_4</td>\n",
              "      <td>AKT</td>\n",
              "      <td>1.0</td>\n",
              "      <td>...</td>\n",
              "      <td>1.159155</td>\n",
              "      <td>69.527524</td>\n",
              "      <td>-35.352060</td>\n",
              "      <td>AKT.ATR_4</td>\n",
              "    </tr>\n",
              "    <tr>\n",
              "      <th>...</th>\n",
              "      <td>...</td>\n",
              "      <td>...</td>\n",
              "      <td>...</td>\n",
              "      <td>...</td>\n",
              "      <td>...</td>\n",
              "      <td>...</td>\n",
              "      <td>...</td>\n",
              "      <td>...</td>\n",
              "      <td>...</td>\n",
              "    </tr>\n",
              "    <tr>\n",
              "      <th>5256</th>\n",
              "      <td>MFM-223</td>\n",
              "      <td>AKT</td>\n",
              "      <td>ADAM17</td>\n",
              "      <td>1.0</td>\n",
              "      <td>...</td>\n",
              "      <td>0.000000</td>\n",
              "      <td>100.000000</td>\n",
              "      <td>38.850700</td>\n",
              "      <td>ADAM17.AKT</td>\n",
              "    </tr>\n",
              "    <tr>\n",
              "      <th>5260</th>\n",
              "      <td>HCC1806</td>\n",
              "      <td>MTOR_1</td>\n",
              "      <td>FASN</td>\n",
              "      <td>1.0</td>\n",
              "      <td>...</td>\n",
              "      <td>10.000000</td>\n",
              "      <td>75.080116</td>\n",
              "      <td>-50.139620</td>\n",
              "      <td>FASN.MTOR_1</td>\n",
              "    </tr>\n",
              "    <tr>\n",
              "      <th>5261</th>\n",
              "      <td>RKO</td>\n",
              "      <td>TKI</td>\n",
              "      <td>MAP2K_1</td>\n",
              "      <td>3.0</td>\n",
              "      <td>...</td>\n",
              "      <td>0.969392</td>\n",
              "      <td>0.000000</td>\n",
              "      <td>11.056320</td>\n",
              "      <td>MAP2K_1.TKI</td>\n",
              "    </tr>\n",
              "    <tr>\n",
              "      <th>5262</th>\n",
              "      <td>CAL-120</td>\n",
              "      <td>TNKS_PARP6</td>\n",
              "      <td>PIK3CB_PIK3CD</td>\n",
              "      <td>1.0</td>\n",
              "      <td>...</td>\n",
              "      <td>10.000000</td>\n",
              "      <td>70.299621</td>\n",
              "      <td>14.689200</td>\n",
              "      <td>PIK3CB_PIK3CD.TNKS_PARP6</td>\n",
              "    </tr>\n",
              "    <tr>\n",
              "      <th>5265</th>\n",
              "      <td>NCI-H1975</td>\n",
              "      <td>TOP2_2</td>\n",
              "      <td>IAP</td>\n",
              "      <td>3.0</td>\n",
              "      <td>...</td>\n",
              "      <td>0.493178</td>\n",
              "      <td>71.768277</td>\n",
              "      <td>46.534060</td>\n",
              "      <td>IAP.TOP2_2</td>\n",
              "    </tr>\n",
              "  </tbody>\n",
              "</table>\n",
              "<p>1680 rows × 13 columns</p>\n",
              "</div>\n",
              "      <button class=\"colab-df-convert\" onclick=\"convertToInteractive('df-29ec8508-3fb7-4120-aa0b-72290aaedc0d')\"\n",
              "              title=\"Convert this dataframe to an interactive table.\"\n",
              "              style=\"display:none;\">\n",
              "        \n",
              "  <svg xmlns=\"http://www.w3.org/2000/svg\" height=\"24px\"viewBox=\"0 0 24 24\"\n",
              "       width=\"24px\">\n",
              "    <path d=\"M0 0h24v24H0V0z\" fill=\"none\"/>\n",
              "    <path d=\"M18.56 5.44l.94 2.06.94-2.06 2.06-.94-2.06-.94-.94-2.06-.94 2.06-2.06.94zm-11 1L8.5 8.5l.94-2.06 2.06-.94-2.06-.94L8.5 2.5l-.94 2.06-2.06.94zm10 10l.94 2.06.94-2.06 2.06-.94-2.06-.94-.94-2.06-.94 2.06-2.06.94z\"/><path d=\"M17.41 7.96l-1.37-1.37c-.4-.4-.92-.59-1.43-.59-.52 0-1.04.2-1.43.59L10.3 9.45l-7.72 7.72c-.78.78-.78 2.05 0 2.83L4 21.41c.39.39.9.59 1.41.59.51 0 1.02-.2 1.41-.59l7.78-7.78 2.81-2.81c.8-.78.8-2.07 0-2.86zM5.41 20L4 18.59l7.72-7.72 1.47 1.35L5.41 20z\"/>\n",
              "  </svg>\n",
              "      </button>\n",
              "      \n",
              "  <style>\n",
              "    .colab-df-container {\n",
              "      display:flex;\n",
              "      flex-wrap:wrap;\n",
              "      gap: 12px;\n",
              "    }\n",
              "\n",
              "    .colab-df-convert {\n",
              "      background-color: #E8F0FE;\n",
              "      border: none;\n",
              "      border-radius: 50%;\n",
              "      cursor: pointer;\n",
              "      display: none;\n",
              "      fill: #1967D2;\n",
              "      height: 32px;\n",
              "      padding: 0 0 0 0;\n",
              "      width: 32px;\n",
              "    }\n",
              "\n",
              "    .colab-df-convert:hover {\n",
              "      background-color: #E2EBFA;\n",
              "      box-shadow: 0px 1px 2px rgba(60, 64, 67, 0.3), 0px 1px 3px 1px rgba(60, 64, 67, 0.15);\n",
              "      fill: #174EA6;\n",
              "    }\n",
              "\n",
              "    [theme=dark] .colab-df-convert {\n",
              "      background-color: #3B4455;\n",
              "      fill: #D2E3FC;\n",
              "    }\n",
              "\n",
              "    [theme=dark] .colab-df-convert:hover {\n",
              "      background-color: #434B5C;\n",
              "      box-shadow: 0px 1px 3px 1px rgba(0, 0, 0, 0.15);\n",
              "      filter: drop-shadow(0px 1px 2px rgba(0, 0, 0, 0.3));\n",
              "      fill: #FFFFFF;\n",
              "    }\n",
              "  </style>\n",
              "\n",
              "      <script>\n",
              "        const buttonEl =\n",
              "          document.querySelector('#df-29ec8508-3fb7-4120-aa0b-72290aaedc0d button.colab-df-convert');\n",
              "        buttonEl.style.display =\n",
              "          google.colab.kernel.accessAllowed ? 'block' : 'none';\n",
              "\n",
              "        async function convertToInteractive(key) {\n",
              "          const element = document.querySelector('#df-29ec8508-3fb7-4120-aa0b-72290aaedc0d');\n",
              "          const dataTable =\n",
              "            await google.colab.kernel.invokeFunction('convertToInteractive',\n",
              "                                                     [key], {});\n",
              "          if (!dataTable) return;\n",
              "\n",
              "          const docLinkHtml = 'Like what you see? Visit the ' +\n",
              "            '<a target=\"_blank\" href=https://colab.research.google.com/notebooks/data_table.ipynb>data table notebook</a>'\n",
              "            + ' to learn more about interactive tables.';\n",
              "          element.innerHTML = '';\n",
              "          dataTable['output_type'] = 'display_data';\n",
              "          await google.colab.output.renderOutput(dataTable, element);\n",
              "          const docLink = document.createElement('div');\n",
              "          docLink.innerHTML = docLinkHtml;\n",
              "          element.appendChild(docLink);\n",
              "        }\n",
              "      </script>\n",
              "    </div>\n",
              "  </div>\n",
              "  "
            ]
          },
          "metadata": {},
          "execution_count": 44
        }
      ]
    },
    {
      "cell_type": "markdown",
      "source": [
        "**Sanity check:** we try the metric by predicting values around the mean of the synergy score of the train split. As this values are random, statistically they will be uncorrelated with the experimental values. We should obtain a weighted Pearson score close to 0."
      ],
      "metadata": {
        "id": "ylLB1aNsKYM0"
      }
    },
    {
      "cell_type": "code",
      "source": [
        "n_exp = len(test_idx)\n",
        "y_pred = np.ones(n_exp)* mean  + np.random.random(n_exp)*1000\n",
        "weighted_pear, pear_weights_df = weighted_pearson(test_df, y_pred)\n",
        "print(\"Weighted Pearson: \", weighted_pear)"
      ],
      "metadata": {
        "colab": {
          "base_uri": "https://localhost:8080/"
        },
        "id": "Iivs-KUfLKdP",
        "outputId": "2211a869-0a53-42cf-ccb9-8e6c04bbc255"
      },
      "execution_count": null,
      "outputs": [
        {
          "output_type": "stream",
          "name": "stdout",
          "text": [
            "Weighted Pearson:  0.020216299872922252\n"
          ]
        }
      ]
    },
    {
      "cell_type": "markdown",
      "source": [
        "It's very small and oscillates around 0. "
      ],
      "metadata": {
        "id": "hHllP7g1N-is"
      }
    },
    {
      "cell_type": "markdown",
      "source": [
        "\n",
        "\n",
        "\n",
        "# Decision Trees\n"
      ],
      "metadata": {
        "id": "7QyARb9HbHrh"
      }
    },
    {
      "cell_type": "code",
      "source": [
        "# Now that we have preprocessed our dataset, we build the tree\n",
        "\n",
        "\n",
        "\n",
        "Tree = DecisionTreeRegressor(max_leaf_nodes=4)\n",
        "Tree.fit(xs, y);"
      ],
      "metadata": {
        "id": "TR2cdnjfcASV"
      },
      "execution_count": null,
      "outputs": []
    },
    {
      "cell_type": "code",
      "source": [
        "draw_tree(Tree, xs, size=10, leaves_parallel=True, precision=2)\n"
      ],
      "metadata": {
        "colab": {
          "base_uri": "https://localhost:8080/",
          "height": 603
        },
        "id": "cr-4OZjzcAWQ",
        "outputId": "feefe2e9-0fe1-4d9f-d391-d4cff9f6ffb7"
      },
      "execution_count": null,
      "outputs": [
        {
          "output_type": "execute_result",
          "data": {
            "text/plain": [
              "<graphviz.files.Source at 0x7f302ad11510>"
            ],
            "image/svg+xml": "<?xml version=\"1.0\" encoding=\"UTF-8\" standalone=\"no\"?>\n<!DOCTYPE svg PUBLIC \"-//W3C//DTD SVG 1.1//EN\"\n \"http://www.w3.org/Graphics/SVG/1.1/DTD/svg11.dtd\">\n<!-- Generated by graphviz version 2.40.1 (20161225.0304)\n -->\n<!-- Title: Tree Pages: 1 -->\n<svg width=\"720pt\" height=\"436pt\"\n viewBox=\"0.00 0.00 720.00 435.73\" xmlns=\"http://www.w3.org/2000/svg\" xmlns:xlink=\"http://www.w3.org/1999/xlink\">\n<g id=\"graph0\" class=\"graph\" transform=\"scale(.9863 .9863) rotate(0) translate(4 437.7823)\">\n<title>Tree</title>\n<polygon fill=\"#ffffff\" stroke=\"transparent\" points=\"-4,4 -4,-437.7823 726,-437.7823 726,4 -4,4\"/>\n<!-- 0 -->\n<g id=\"node1\" class=\"node\">\n<title>0</title>\n<path fill=\"#f4c8a9\" stroke=\"#000000\" d=\"M622,-428C622,-428 477,-428 477,-428 471,-428 465,-422 465,-416 465,-416 465,-372 465,-372 465,-366 471,-360 477,-360 477,-360 622,-360 622,-360 628,-360 634,-366 634,-372 634,-372 634,-416 634,-416 634,-422 628,-428 622,-428\"/>\n<text text-anchor=\"start\" x=\"505\" y=\"-412.8\" font-family=\"Helvetica,sans-Serif\" font-size=\"14.00\" fill=\"#000000\">Einf A ≤ 80.57</text>\n<text text-anchor=\"start\" x=\"473\" y=\"-397.8\" font-family=\"Helvetica,sans-Serif\" font-size=\"14.00\" fill=\"#000000\">squared_error = 759.62</text>\n<text text-anchor=\"start\" x=\"497.5\" y=\"-382.8\" font-family=\"Helvetica,sans-Serif\" font-size=\"14.00\" fill=\"#000000\">samples = 1795</text>\n<text text-anchor=\"start\" x=\"505.5\" y=\"-367.8\" font-family=\"Helvetica,sans-Serif\" font-size=\"14.00\" fill=\"#000000\">value = 12.75</text>\n</g>\n<!-- 1 -->\n<g id=\"node2\" class=\"node\">\n<title>1</title>\n<path fill=\"#f0b78d\" stroke=\"#000000\" d=\"M531,-307C531,-307 386,-307 386,-307 380,-307 374,-301 374,-295 374,-295 374,-251 374,-251 374,-245 380,-239 386,-239 386,-239 531,-239 531,-239 537,-239 543,-245 543,-251 543,-251 543,-295 543,-295 543,-301 537,-307 531,-307\"/>\n<text text-anchor=\"start\" x=\"424.5\" y=\"-291.8\" font-family=\"Helvetica,sans-Serif\" font-size=\"14.00\" fill=\"#000000\">H B ≤ 2.96</text>\n<text text-anchor=\"start\" x=\"382\" y=\"-276.8\" font-family=\"Helvetica,sans-Serif\" font-size=\"14.00\" fill=\"#000000\">squared_error = 781.18</text>\n<text text-anchor=\"start\" x=\"406.5\" y=\"-261.8\" font-family=\"Helvetica,sans-Serif\" font-size=\"14.00\" fill=\"#000000\">samples = 1353</text>\n<text text-anchor=\"start\" x=\"414.5\" y=\"-246.8\" font-family=\"Helvetica,sans-Serif\" font-size=\"14.00\" fill=\"#000000\">value = 15.31</text>\n</g>\n<!-- 0&#45;&gt;1 -->\n<g id=\"edge1\" class=\"edge\">\n<title>0&#45;&gt;1</title>\n<path fill=\"none\" stroke=\"#000000\" d=\"M523.9093,-359.9728C513.5383,-346.1828 501.4484,-330.1072 490.5039,-315.5546\"/>\n<polygon fill=\"#000000\" stroke=\"#000000\" points=\"493.0218,-313.0795 484.214,-307.1911 487.4273,-317.2869 493.0218,-313.0795\"/>\n<text text-anchor=\"middle\" x=\"480.7111\" y=\"-328.2445\" font-family=\"Helvetica,sans-Serif\" font-size=\"14.00\" fill=\"#000000\">True</text>\n</g>\n<!-- 2 -->\n<g id=\"node7\" class=\"node\">\n<title>2</title>\n<path fill=\"#ffffff\" stroke=\"#000000\" d=\"M710,-57.5C710,-57.5 573,-57.5 573,-57.5 567,-57.5 561,-51.5 561,-45.5 561,-45.5 561,-16.5 561,-16.5 561,-10.5 567,-4.5 573,-4.5 573,-4.5 710,-4.5 710,-4.5 716,-4.5 722,-10.5 722,-16.5 722,-16.5 722,-45.5 722,-45.5 722,-51.5 716,-57.5 710,-57.5\"/>\n<text text-anchor=\"start\" x=\"569\" y=\"-42.3\" font-family=\"Helvetica,sans-Serif\" font-size=\"14.00\" fill=\"#000000\">squared_error = 612.3</text>\n<text text-anchor=\"start\" x=\"593.5\" y=\"-27.3\" font-family=\"Helvetica,sans-Serif\" font-size=\"14.00\" fill=\"#000000\">samples = 442</text>\n<text text-anchor=\"start\" x=\"601.5\" y=\"-12.3\" font-family=\"Helvetica,sans-Serif\" font-size=\"14.00\" fill=\"#000000\">value = 4.92</text>\n</g>\n<!-- 0&#45;&gt;2 -->\n<g id=\"edge6\" class=\"edge\">\n<title>0&#45;&gt;2</title>\n<path fill=\"none\" stroke=\"#000000\" d=\"M558.1551,-359.8498C575.5072,-291.3848 614.4093,-137.8904 632.2454,-67.5156\"/>\n<polygon fill=\"#000000\" stroke=\"#000000\" points=\"635.6549,-68.309 634.719,-57.7556 628.8694,-66.5892 635.6549,-68.309\"/>\n<text text-anchor=\"middle\" x=\"647.5119\" y=\"-75.5344\" font-family=\"Helvetica,sans-Serif\" font-size=\"14.00\" fill=\"#000000\">False</text>\n</g>\n<!-- 3 -->\n<g id=\"node3\" class=\"node\">\n<title>3</title>\n<path fill=\"#eca36f\" stroke=\"#000000\" d=\"M340,-186C340,-186 203,-186 203,-186 197,-186 191,-180 191,-174 191,-174 191,-130 191,-130 191,-124 197,-118 203,-118 203,-118 340,-118 340,-118 346,-118 352,-124 352,-130 352,-130 352,-174 352,-174 352,-180 346,-186 340,-186\"/>\n<text text-anchor=\"start\" x=\"212.5\" y=\"-170.8\" font-family=\"Helvetica,sans-Serif\" font-size=\"14.00\" fill=\"#000000\">Max. conc. A ≤ 2.0</text>\n<text text-anchor=\"start\" x=\"199\" y=\"-155.8\" font-family=\"Helvetica,sans-Serif\" font-size=\"14.00\" fill=\"#000000\">squared_error = 785.0</text>\n<text text-anchor=\"start\" x=\"219.5\" y=\"-140.8\" font-family=\"Helvetica,sans-Serif\" font-size=\"14.00\" fill=\"#000000\">samples = 1048</text>\n<text text-anchor=\"start\" x=\"231.5\" y=\"-125.8\" font-family=\"Helvetica,sans-Serif\" font-size=\"14.00\" fill=\"#000000\">value = 18.1</text>\n</g>\n<!-- 1&#45;&gt;3 -->\n<g id=\"edge2\" class=\"edge\">\n<title>1&#45;&gt;3</title>\n<path fill=\"none\" stroke=\"#000000\" d=\"M405.9124,-238.9728C383.2065,-224.2806 356.4908,-206.994 332.8841,-191.7191\"/>\n<polygon fill=\"#000000\" stroke=\"#000000\" points=\"334.6379,-188.6851 324.3408,-186.1911 330.8351,-194.5621 334.6379,-188.6851\"/>\n</g>\n<!-- 4 -->\n<g id=\"node6\" class=\"node\">\n<title>4</title>\n<path fill=\"#fefaf6\" stroke=\"#000000\" d=\"M531,-57.5C531,-57.5 386,-57.5 386,-57.5 380,-57.5 374,-51.5 374,-45.5 374,-45.5 374,-16.5 374,-16.5 374,-10.5 380,-4.5 386,-4.5 386,-4.5 531,-4.5 531,-4.5 537,-4.5 543,-10.5 543,-16.5 543,-16.5 543,-45.5 543,-45.5 543,-51.5 537,-57.5 531,-57.5\"/>\n<text text-anchor=\"start\" x=\"382\" y=\"-42.3\" font-family=\"Helvetica,sans-Serif\" font-size=\"14.00\" fill=\"#000000\">squared_error = 648.99</text>\n<text text-anchor=\"start\" x=\"410.5\" y=\"-27.3\" font-family=\"Helvetica,sans-Serif\" font-size=\"14.00\" fill=\"#000000\">samples = 305</text>\n<text text-anchor=\"start\" x=\"422.5\" y=\"-12.3\" font-family=\"Helvetica,sans-Serif\" font-size=\"14.00\" fill=\"#000000\">value = 5.7</text>\n</g>\n<!-- 1&#45;&gt;4 -->\n<g id=\"edge5\" class=\"edge\">\n<title>1&#45;&gt;4</title>\n<path fill=\"none\" stroke=\"#000000\" d=\"M458.5,-238.8406C458.5,-193.6342 458.5,-114.2477 458.5,-67.7687\"/>\n<polygon fill=\"#000000\" stroke=\"#000000\" points=\"462.0001,-67.5379 458.5,-57.538 455.0001,-67.538 462.0001,-67.5379\"/>\n</g>\n<!-- 5 -->\n<g id=\"node4\" class=\"node\">\n<title>5</title>\n<path fill=\"#f0b78e\" stroke=\"#000000\" d=\"M157,-57.5C157,-57.5 12,-57.5 12,-57.5 6,-57.5 0,-51.5 0,-45.5 0,-45.5 0,-16.5 0,-16.5 0,-10.5 6,-4.5 12,-4.5 12,-4.5 157,-4.5 157,-4.5 163,-4.5 169,-10.5 169,-16.5 169,-16.5 169,-45.5 169,-45.5 169,-51.5 163,-57.5 157,-57.5\"/>\n<text text-anchor=\"start\" x=\"8\" y=\"-42.3\" font-family=\"Helvetica,sans-Serif\" font-size=\"14.00\" fill=\"#000000\">squared_error = 693.69</text>\n<text text-anchor=\"start\" x=\"36.5\" y=\"-27.3\" font-family=\"Helvetica,sans-Serif\" font-size=\"14.00\" fill=\"#000000\">samples = 660</text>\n<text text-anchor=\"start\" x=\"40.5\" y=\"-12.3\" font-family=\"Helvetica,sans-Serif\" font-size=\"14.00\" fill=\"#000000\">value = 15.22</text>\n</g>\n<!-- 3&#45;&gt;5 -->\n<g id=\"edge3\" class=\"edge\">\n<title>3&#45;&gt;5</title>\n<path fill=\"none\" stroke=\"#000000\" d=\"M218.9124,-117.9728C192.4162,-100.8281 160.4599,-80.1505 134.3554,-63.2594\"/>\n<polygon fill=\"#000000\" stroke=\"#000000\" points=\"136.0403,-60.1808 125.7432,-57.6868 132.2375,-66.0578 136.0403,-60.1808\"/>\n</g>\n<!-- 6 -->\n<g id=\"node5\" class=\"node\">\n<title>6</title>\n<path fill=\"#e58139\" stroke=\"#000000\" d=\"M344,-57.5C344,-57.5 199,-57.5 199,-57.5 193,-57.5 187,-51.5 187,-45.5 187,-45.5 187,-16.5 187,-16.5 187,-10.5 193,-4.5 199,-4.5 199,-4.5 344,-4.5 344,-4.5 350,-4.5 356,-10.5 356,-16.5 356,-16.5 356,-45.5 356,-45.5 356,-51.5 350,-57.5 344,-57.5\"/>\n<text text-anchor=\"start\" x=\"195\" y=\"-42.3\" font-family=\"Helvetica,sans-Serif\" font-size=\"14.00\" fill=\"#000000\">squared_error = 902.22</text>\n<text text-anchor=\"start\" x=\"223.5\" y=\"-27.3\" font-family=\"Helvetica,sans-Serif\" font-size=\"14.00\" fill=\"#000000\">samples = 388</text>\n<text text-anchor=\"start\" x=\"231.5\" y=\"-12.3\" font-family=\"Helvetica,sans-Serif\" font-size=\"14.00\" fill=\"#000000\">value = 23.0</text>\n</g>\n<!-- 3&#45;&gt;6 -->\n<g id=\"edge4\" class=\"edge\">\n<title>3&#45;&gt;6</title>\n<path fill=\"none\" stroke=\"#000000\" d=\"M271.5,-117.9728C271.5,-102.3763 271.5,-83.8561 271.5,-67.9225\"/>\n<polygon fill=\"#000000\" stroke=\"#000000\" points=\"275.0001,-67.882 271.5,-57.882 268.0001,-67.882 275.0001,-67.882\"/>\n</g>\n</g>\n</svg>\n"
          },
          "metadata": {},
          "execution_count": 35
        }
      ]
    },
    {
      "cell_type": "code",
      "source": [
        "\n",
        "samp_idx = np.random.permutation(len(y))[:500]\n",
        "dtreeviz(Tree, xs.iloc[samp_idx], y.iloc[samp_idx], xs.columns, dep_var,\n",
        "        fontname='DejaVu Sans', scale=1.6, label_fontsize=10,\n",
        "        orientation='LR')"
      ],
      "metadata": {
        "colab": {
          "base_uri": "https://localhost:8080/",
          "height": 407
        },
        "id": "BNZrcNgkcAby",
        "outputId": "355d4a3a-9373-496e-8897-ea66d7bbdfd3"
      },
      "execution_count": null,
      "outputs": [
        {
          "output_type": "stream",
          "name": "stderr",
          "text": [
            "/usr/local/lib/python3.7/dist-packages/sklearn/base.py:451: UserWarning: X does not have valid feature names, but DecisionTreeRegressor was fitted with feature names\n",
            "  \"X does not have valid feature names, but\"\n"
          ]
        },
        {
          "output_type": "execute_result",
          "data": {
            "text/plain": [
              "<dtreeviz.trees.DTreeViz at 0x7f302a6281d0>"
            ],
            "image/svg+xml": "<svg xmlns=\"http://www.w3.org/2000/svg\" xmlns:xlink=\"http://www.w3.org/1999/xlink\" height=\"331.20000000000005\" viewBox=\"0.0 0.0 955.2 331.20000000000005\" width=\"955.2\">\n<g class=\"graph\" id=\"graph0\" transform=\"scale(1.6 1.6) rotate(0) translate(4 203)\">\n<title>G</title>\n<polygon fill=\"#ffffff\" points=\"-4,4 -4,-203 593,-203 593,4 -4,4\" stroke=\"transparent\" />\n\n<g class=\"node\" id=\"node1\">\n<title>node3</title>\n<svg height=\"66px\" preserveAspectRatio=\"xMinYMin meet\" version=\"1.1\" viewBox=\"0 0 182.47 88.216625\" width=\"137px\" x=\"342.5\" y=\"-174\">\n <defs>\n  <style type=\"text/css\">\n*{stroke-linecap:butt;stroke-linejoin:round;}\n  </style>\n </defs>\n <g id=\"figure_1\">\n  <g id=\"patch_1\">\n   <path d=\"M 0 88.216625  L 182.47 88.216625  L 182.47 -0  L 0 -0  z \" style=\"fill:#ffffff;\" />\n  </g>\n  <g id=\"axes_1\">\n   <g id=\"patch_2\">\n    <path d=\"M 28.97375 59.796  L 168.47375 59.796  L 168.47375 -0  L 28.97375 -0  z \" style=\"fill:#ffffff;\" />\n   </g>\n   <g id=\"PathCollection_1\">\n    <defs>\n     <path d=\"M 0 1.118034  C 0.296506 1.118034 0.580908 1.000231 0.790569 0.790569  C 1.000231 0.580908 1.118034 0.296506 1.118034 0  C 1.118034 -0.296506 1.000231 -0.580908 0.790569 -0.790569  C 0.580908 -1.000231 0.296506 -1.118034 0 -1.118034  C -0.296506 -1.118034 -0.580908 -1.000231 -0.790569 -0.790569  C -1.000231 -0.580908 -1.118034 -0.296506 -1.118034 0  C -1.118034 0.296506 -1.000231 0.580908 -0.790569 0.790569  C -0.580908 1.000231 -0.296506 1.118034 0 1.118034  z \" id=\"md2a15d687c\" style=\"stroke:#4575b4;stroke-opacity:0.7;stroke-width:0.3;\" />\n    </defs>\n    <g clip-path=\"url(#pfa32e5266a)\">\n     <use style=\"fill:#4575b4;fill-opacity:0.7;stroke:#4575b4;stroke-opacity:0.7;stroke-width:0.3;\" x=\"70.794446\" y=\"27.626122\" xlink:href=\"#md2a15d687c\" />\n     <use style=\"fill:#4575b4;fill-opacity:0.7;stroke:#4575b4;stroke-opacity:0.7;stroke-width:0.3;\" x=\"29.071429\" y=\"34.767084\" xlink:href=\"#md2a15d687c\" />\n     <use style=\"fill:#4575b4;fill-opacity:0.7;stroke:#4575b4;stroke-opacity:0.7;stroke-width:0.3;\" x=\"70.794446\" y=\"34.60737\" xlink:href=\"#md2a15d687c\" />\n     <use style=\"fill:#4575b4;fill-opacity:0.7;stroke:#4575b4;stroke-opacity:0.7;stroke-width:0.3;\" x=\"42.886074\" y=\"20.748473\" xlink:href=\"#md2a15d687c\" />\n     <use style=\"fill:#4575b4;fill-opacity:0.7;stroke:#4575b4;stroke-opacity:0.7;stroke-width:0.3;\" x=\"70.794446\" y=\"26.692467\" xlink:href=\"#md2a15d687c\" />\n     <use style=\"fill:#4575b4;fill-opacity:0.7;stroke:#4575b4;stroke-opacity:0.7;stroke-width:0.3;\" x=\"42.886074\" y=\"53.300005\" xlink:href=\"#md2a15d687c\" />\n     <use style=\"fill:#4575b4;fill-opacity:0.7;stroke:#4575b4;stroke-opacity:0.7;stroke-width:0.3;\" x=\"42.886074\" y=\"29.522798\" xlink:href=\"#md2a15d687c\" />\n     <use style=\"fill:#4575b4;fill-opacity:0.7;stroke:#4575b4;stroke-opacity:0.7;stroke-width:0.3;\" x=\"42.886074\" y=\"31.130695\" xlink:href=\"#md2a15d687c\" />\n     <use style=\"fill:#4575b4;fill-opacity:0.7;stroke:#4575b4;stroke-opacity:0.7;stroke-width:0.3;\" x=\"30.327306\" y=\"37.458687\" xlink:href=\"#md2a15d687c\" />\n     <use style=\"fill:#4575b4;fill-opacity:0.7;stroke:#4575b4;stroke-opacity:0.7;stroke-width:0.3;\" x=\"42.886074\" y=\"28.979365\" xlink:href=\"#md2a15d687c\" />\n     <use style=\"fill:#4575b4;fill-opacity:0.7;stroke:#4575b4;stroke-opacity:0.7;stroke-width:0.3;\" x=\"30.327306\" y=\"32.114084\" xlink:href=\"#md2a15d687c\" />\n     <use style=\"fill:#4575b4;fill-opacity:0.7;stroke:#4575b4;stroke-opacity:0.7;stroke-width:0.3;\" x=\"42.886074\" y=\"23.54522\" xlink:href=\"#md2a15d687c\" />\n     <use style=\"fill:#4575b4;fill-opacity:0.7;stroke:#4575b4;stroke-opacity:0.7;stroke-width:0.3;\" x=\"42.886074\" y=\"29.782956\" xlink:href=\"#md2a15d687c\" />\n     <use style=\"fill:#4575b4;fill-opacity:0.7;stroke:#4575b4;stroke-opacity:0.7;stroke-width:0.3;\" x=\"29.071429\" y=\"29.801089\" xlink:href=\"#md2a15d687c\" />\n     <use style=\"fill:#4575b4;fill-opacity:0.7;stroke:#4575b4;stroke-opacity:0.7;stroke-width:0.3;\" x=\"70.794446\" y=\"19.676976\" xlink:href=\"#md2a15d687c\" />\n     <use style=\"fill:#4575b4;fill-opacity:0.7;stroke:#4575b4;stroke-opacity:0.7;stroke-width:0.3;\" x=\"70.794446\" y=\"37.801814\" xlink:href=\"#md2a15d687c\" />\n     <use style=\"fill:#4575b4;fill-opacity:0.7;stroke:#4575b4;stroke-opacity:0.7;stroke-width:0.3;\" x=\"29.350513\" y=\"25.946965\" xlink:href=\"#md2a15d687c\" />\n     <use style=\"fill:#4575b4;fill-opacity:0.7;stroke:#4575b4;stroke-opacity:0.7;stroke-width:0.3;\" x=\"70.794446\" y=\"17.559135\" xlink:href=\"#md2a15d687c\" />\n     <use style=\"fill:#4575b4;fill-opacity:0.7;stroke:#4575b4;stroke-opacity:0.7;stroke-width:0.3;\" x=\"42.886074\" y=\"38.632447\" xlink:href=\"#md2a15d687c\" />\n     <use style=\"fill:#4575b4;fill-opacity:0.7;stroke:#4575b4;stroke-opacity:0.7;stroke-width:0.3;\" x=\"42.886074\" y=\"32.622295\" xlink:href=\"#md2a15d687c\" />\n     <use style=\"fill:#4575b4;fill-opacity:0.7;stroke:#4575b4;stroke-opacity:0.7;stroke-width:0.3;\" x=\"29.350513\" y=\"32.807461\" xlink:href=\"#md2a15d687c\" />\n     <use style=\"fill:#4575b4;fill-opacity:0.7;stroke:#4575b4;stroke-opacity:0.7;stroke-width:0.3;\" x=\"42.886074\" y=\"33.791372\" xlink:href=\"#md2a15d687c\" />\n     <use style=\"fill:#4575b4;fill-opacity:0.7;stroke:#4575b4;stroke-opacity:0.7;stroke-width:0.3;\" x=\"42.886074\" y=\"22.82621\" xlink:href=\"#md2a15d687c\" />\n     <use style=\"fill:#4575b4;fill-opacity:0.7;stroke:#4575b4;stroke-opacity:0.7;stroke-width:0.3;\" x=\"70.794446\" y=\"26.913879\" xlink:href=\"#md2a15d687c\" />\n     <use style=\"fill:#4575b4;fill-opacity:0.7;stroke:#4575b4;stroke-opacity:0.7;stroke-width:0.3;\" x=\"42.886074\" y=\"31.369647\" xlink:href=\"#md2a15d687c\" />\n     <use style=\"fill:#4575b4;fill-opacity:0.7;stroke:#4575b4;stroke-opacity:0.7;stroke-width:0.3;\" x=\"70.794446\" y=\"17.543138\" xlink:href=\"#md2a15d687c\" />\n     <use style=\"fill:#4575b4;fill-opacity:0.7;stroke:#4575b4;stroke-opacity:0.7;stroke-width:0.3;\" x=\"70.794446\" y=\"31.430699\" xlink:href=\"#md2a15d687c\" />\n     <use style=\"fill:#4575b4;fill-opacity:0.7;stroke:#4575b4;stroke-opacity:0.7;stroke-width:0.3;\" x=\"70.794446\" y=\"25.270643\" xlink:href=\"#md2a15d687c\" />\n     <use style=\"fill:#4575b4;fill-opacity:0.7;stroke:#4575b4;stroke-opacity:0.7;stroke-width:0.3;\" x=\"33.118143\" y=\"34.639182\" xlink:href=\"#md2a15d687c\" />\n     <use style=\"fill:#4575b4;fill-opacity:0.7;stroke:#4575b4;stroke-opacity:0.7;stroke-width:0.3;\" x=\"42.886074\" y=\"30.093297\" xlink:href=\"#md2a15d687c\" />\n     <use style=\"fill:#4575b4;fill-opacity:0.7;stroke:#4575b4;stroke-opacity:0.7;stroke-width:0.3;\" x=\"70.794446\" y=\"45.633632\" xlink:href=\"#md2a15d687c\" />\n     <use style=\"fill:#4575b4;fill-opacity:0.7;stroke:#4575b4;stroke-opacity:0.7;stroke-width:0.3;\" x=\"70.794446\" y=\"36.49383\" xlink:href=\"#md2a15d687c\" />\n     <use style=\"fill:#4575b4;fill-opacity:0.7;stroke:#4575b4;stroke-opacity:0.7;stroke-width:0.3;\" x=\"70.794446\" y=\"26.905596\" xlink:href=\"#md2a15d687c\" />\n     <use style=\"fill:#4575b4;fill-opacity:0.7;stroke:#4575b4;stroke-opacity:0.7;stroke-width:0.3;\" x=\"70.794446\" y=\"27.818952\" xlink:href=\"#md2a15d687c\" />\n     <use style=\"fill:#4575b4;fill-opacity:0.7;stroke:#4575b4;stroke-opacity:0.7;stroke-width:0.3;\" x=\"33.118143\" y=\"34.4833\" xlink:href=\"#md2a15d687c\" />\n     <use style=\"fill:#4575b4;fill-opacity:0.7;stroke:#4575b4;stroke-opacity:0.7;stroke-width:0.3;\" x=\"70.794446\" y=\"22.156438\" xlink:href=\"#md2a15d687c\" />\n     <use style=\"fill:#4575b4;fill-opacity:0.7;stroke:#4575b4;stroke-opacity:0.7;stroke-width:0.3;\" x=\"42.886074\" y=\"32.85681\" xlink:href=\"#md2a15d687c\" />\n     <use style=\"fill:#4575b4;fill-opacity:0.7;stroke:#4575b4;stroke-opacity:0.7;stroke-width:0.3;\" x=\"30.327306\" y=\"21.639601\" xlink:href=\"#md2a15d687c\" />\n     <use style=\"fill:#4575b4;fill-opacity:0.7;stroke:#4575b4;stroke-opacity:0.7;stroke-width:0.3;\" x=\"70.794446\" y=\"28.614034\" xlink:href=\"#md2a15d687c\" />\n     <use style=\"fill:#4575b4;fill-opacity:0.7;stroke:#4575b4;stroke-opacity:0.7;stroke-width:0.3;\" x=\"70.794446\" y=\"32.291944\" xlink:href=\"#md2a15d687c\" />\n     <use style=\"fill:#4575b4;fill-opacity:0.7;stroke:#4575b4;stroke-opacity:0.7;stroke-width:0.3;\" x=\"29.350513\" y=\"19.153392\" xlink:href=\"#md2a15d687c\" />\n     <use style=\"fill:#4575b4;fill-opacity:0.7;stroke:#4575b4;stroke-opacity:0.7;stroke-width:0.3;\" x=\"70.794446\" y=\"38.144777\" xlink:href=\"#md2a15d687c\" />\n     <use style=\"fill:#4575b4;fill-opacity:0.7;stroke:#4575b4;stroke-opacity:0.7;stroke-width:0.3;\" x=\"42.886074\" y=\"25.18866\" xlink:href=\"#md2a15d687c\" />\n     <use style=\"fill:#4575b4;fill-opacity:0.7;stroke:#4575b4;stroke-opacity:0.7;stroke-width:0.3;\" x=\"42.886074\" y=\"31.033577\" xlink:href=\"#md2a15d687c\" />\n     <use style=\"fill:#4575b4;fill-opacity:0.7;stroke:#4575b4;stroke-opacity:0.7;stroke-width:0.3;\" x=\"28.97375\" y=\"23.171542\" xlink:href=\"#md2a15d687c\" />\n     <use style=\"fill:#4575b4;fill-opacity:0.7;stroke:#4575b4;stroke-opacity:0.7;stroke-width:0.3;\" x=\"42.886074\" y=\"25.97765\" xlink:href=\"#md2a15d687c\" />\n     <use style=\"fill:#4575b4;fill-opacity:0.7;stroke:#4575b4;stroke-opacity:0.7;stroke-width:0.3;\" x=\"42.886074\" y=\"36.685195\" xlink:href=\"#md2a15d687c\" />\n     <use style=\"fill:#4575b4;fill-opacity:0.7;stroke:#4575b4;stroke-opacity:0.7;stroke-width:0.3;\" x=\"42.886074\" y=\"32.989582\" xlink:href=\"#md2a15d687c\" />\n     <use style=\"fill:#4575b4;fill-opacity:0.7;stroke:#4575b4;stroke-opacity:0.7;stroke-width:0.3;\" x=\"42.886074\" y=\"26.259798\" xlink:href=\"#md2a15d687c\" />\n     <use style=\"fill:#4575b4;fill-opacity:0.7;stroke:#4575b4;stroke-opacity:0.7;stroke-width:0.3;\" x=\"42.886074\" y=\"32.834033\" xlink:href=\"#md2a15d687c\" />\n     <use style=\"fill:#4575b4;fill-opacity:0.7;stroke:#4575b4;stroke-opacity:0.7;stroke-width:0.3;\" x=\"70.794446\" y=\"39.555633\" xlink:href=\"#md2a15d687c\" />\n     <use style=\"fill:#4575b4;fill-opacity:0.7;stroke:#4575b4;stroke-opacity:0.7;stroke-width:0.3;\" x=\"42.886074\" y=\"11.161824\" xlink:href=\"#md2a15d687c\" />\n     <use style=\"fill:#4575b4;fill-opacity:0.7;stroke:#4575b4;stroke-opacity:0.7;stroke-width:0.3;\" x=\"70.794446\" y=\"25.487154\" xlink:href=\"#md2a15d687c\" />\n     <use style=\"fill:#4575b4;fill-opacity:0.7;stroke:#4575b4;stroke-opacity:0.7;stroke-width:0.3;\" x=\"70.794446\" y=\"20.216202\" xlink:href=\"#md2a15d687c\" />\n     <use style=\"fill:#4575b4;fill-opacity:0.7;stroke:#4575b4;stroke-opacity:0.7;stroke-width:0.3;\" x=\"70.794446\" y=\"30.820447\" xlink:href=\"#md2a15d687c\" />\n     <use style=\"fill:#4575b4;fill-opacity:0.7;stroke:#4575b4;stroke-opacity:0.7;stroke-width:0.3;\" x=\"42.886074\" y=\"33.238434\" xlink:href=\"#md2a15d687c\" />\n     <use style=\"fill:#4575b4;fill-opacity:0.7;stroke:#4575b4;stroke-opacity:0.7;stroke-width:0.3;\" x=\"29.350513\" y=\"40.505492\" xlink:href=\"#md2a15d687c\" />\n     <use style=\"fill:#4575b4;fill-opacity:0.7;stroke:#4575b4;stroke-opacity:0.7;stroke-width:0.3;\" x=\"29.350513\" y=\"32.521857\" xlink:href=\"#md2a15d687c\" />\n     <use style=\"fill:#4575b4;fill-opacity:0.7;stroke:#4575b4;stroke-opacity:0.7;stroke-width:0.3;\" x=\"70.794446\" y=\"30.801182\" xlink:href=\"#md2a15d687c\" />\n     <use style=\"fill:#4575b4;fill-opacity:0.7;stroke:#4575b4;stroke-opacity:0.7;stroke-width:0.3;\" x=\"70.794446\" y=\"27.174735\" xlink:href=\"#md2a15d687c\" />\n     <use style=\"fill:#4575b4;fill-opacity:0.7;stroke:#4575b4;stroke-opacity:0.7;stroke-width:0.3;\" x=\"70.794446\" y=\"23.362763\" xlink:href=\"#md2a15d687c\" />\n     <use style=\"fill:#4575b4;fill-opacity:0.7;stroke:#4575b4;stroke-opacity:0.7;stroke-width:0.3;\" x=\"42.886074\" y=\"24.267024\" xlink:href=\"#md2a15d687c\" />\n     <use style=\"fill:#4575b4;fill-opacity:0.7;stroke:#4575b4;stroke-opacity:0.7;stroke-width:0.3;\" x=\"42.886074\" y=\"35.743555\" xlink:href=\"#md2a15d687c\" />\n     <use style=\"fill:#4575b4;fill-opacity:0.7;stroke:#4575b4;stroke-opacity:0.7;stroke-width:0.3;\" x=\"70.794446\" y=\"29.92385\" xlink:href=\"#md2a15d687c\" />\n     <use style=\"fill:#4575b4;fill-opacity:0.7;stroke:#4575b4;stroke-opacity:0.7;stroke-width:0.3;\" x=\"42.886074\" y=\"30.750268\" xlink:href=\"#md2a15d687c\" />\n     <use style=\"fill:#4575b4;fill-opacity:0.7;stroke:#4575b4;stroke-opacity:0.7;stroke-width:0.3;\" x=\"33.118143\" y=\"29.189742\" xlink:href=\"#md2a15d687c\" />\n     <use style=\"fill:#4575b4;fill-opacity:0.7;stroke:#4575b4;stroke-opacity:0.7;stroke-width:0.3;\" x=\"70.794446\" y=\"26.355763\" xlink:href=\"#md2a15d687c\" />\n     <use style=\"fill:#4575b4;fill-opacity:0.7;stroke:#4575b4;stroke-opacity:0.7;stroke-width:0.3;\" x=\"70.794446\" y=\"12.597995\" xlink:href=\"#md2a15d687c\" />\n     <use style=\"fill:#4575b4;fill-opacity:0.7;stroke:#4575b4;stroke-opacity:0.7;stroke-width:0.3;\" x=\"42.886074\" y=\"28.604807\" xlink:href=\"#md2a15d687c\" />\n     <use style=\"fill:#4575b4;fill-opacity:0.7;stroke:#4575b4;stroke-opacity:0.7;stroke-width:0.3;\" x=\"70.794446\" y=\"25.118853\" xlink:href=\"#md2a15d687c\" />\n     <use style=\"fill:#4575b4;fill-opacity:0.7;stroke:#4575b4;stroke-opacity:0.7;stroke-width:0.3;\" x=\"70.794446\" y=\"17.046882\" xlink:href=\"#md2a15d687c\" />\n     <use style=\"fill:#4575b4;fill-opacity:0.7;stroke:#4575b4;stroke-opacity:0.7;stroke-width:0.3;\" x=\"30.327306\" y=\"29.520473\" xlink:href=\"#md2a15d687c\" />\n     <use style=\"fill:#4575b4;fill-opacity:0.7;stroke:#4575b4;stroke-opacity:0.7;stroke-width:0.3;\" x=\"42.886074\" y=\"31.410466\" xlink:href=\"#md2a15d687c\" />\n     <use style=\"fill:#4575b4;fill-opacity:0.7;stroke:#4575b4;stroke-opacity:0.7;stroke-width:0.3;\" x=\"42.886074\" y=\"28.62624\" xlink:href=\"#md2a15d687c\" />\n     <use style=\"fill:#4575b4;fill-opacity:0.7;stroke:#4575b4;stroke-opacity:0.7;stroke-width:0.3;\" x=\"42.886074\" y=\"20.828393\" xlink:href=\"#md2a15d687c\" />\n     <use style=\"fill:#4575b4;fill-opacity:0.7;stroke:#4575b4;stroke-opacity:0.7;stroke-width:0.3;\" x=\"168.47375\" y=\"30.38307\" xlink:href=\"#md2a15d687c\" />\n     <use style=\"fill:#4575b4;fill-opacity:0.7;stroke:#4575b4;stroke-opacity:0.7;stroke-width:0.3;\" x=\"70.794446\" y=\"26.594425\" xlink:href=\"#md2a15d687c\" />\n     <use style=\"fill:#4575b4;fill-opacity:0.7;stroke:#4575b4;stroke-opacity:0.7;stroke-width:0.3;\" x=\"42.886074\" y=\"32.300767\" xlink:href=\"#md2a15d687c\" />\n     <use style=\"fill:#4575b4;fill-opacity:0.7;stroke:#4575b4;stroke-opacity:0.7;stroke-width:0.3;\" x=\"42.886074\" y=\"32.958508\" xlink:href=\"#md2a15d687c\" />\n     <use style=\"fill:#4575b4;fill-opacity:0.7;stroke:#4575b4;stroke-opacity:0.7;stroke-width:0.3;\" x=\"70.794446\" y=\"29.921122\" xlink:href=\"#md2a15d687c\" />\n     <use style=\"fill:#4575b4;fill-opacity:0.7;stroke:#4575b4;stroke-opacity:0.7;stroke-width:0.3;\" x=\"70.794446\" y=\"13.244189\" xlink:href=\"#md2a15d687c\" />\n     <use style=\"fill:#4575b4;fill-opacity:0.7;stroke:#4575b4;stroke-opacity:0.7;stroke-width:0.3;\" x=\"70.794446\" y=\"34.285314\" xlink:href=\"#md2a15d687c\" />\n     <use style=\"fill:#4575b4;fill-opacity:0.7;stroke:#4575b4;stroke-opacity:0.7;stroke-width:0.3;\" x=\"42.886074\" y=\"37.650581\" xlink:href=\"#md2a15d687c\" />\n     <use style=\"fill:#4575b4;fill-opacity:0.7;stroke:#4575b4;stroke-opacity:0.7;stroke-width:0.3;\" x=\"42.886074\" y=\"34.185039\" xlink:href=\"#md2a15d687c\" />\n     <use style=\"fill:#4575b4;fill-opacity:0.7;stroke:#4575b4;stroke-opacity:0.7;stroke-width:0.3;\" x=\"42.886074\" y=\"33.662861\" xlink:href=\"#md2a15d687c\" />\n     <use style=\"fill:#4575b4;fill-opacity:0.7;stroke:#4575b4;stroke-opacity:0.7;stroke-width:0.3;\" x=\"42.886074\" y=\"32.914837\" xlink:href=\"#md2a15d687c\" />\n     <use style=\"fill:#4575b4;fill-opacity:0.7;stroke:#4575b4;stroke-opacity:0.7;stroke-width:0.3;\" x=\"70.794446\" y=\"17.337948\" xlink:href=\"#md2a15d687c\" />\n     <use style=\"fill:#4575b4;fill-opacity:0.7;stroke:#4575b4;stroke-opacity:0.7;stroke-width:0.3;\" x=\"42.886074\" y=\"30.309985\" xlink:href=\"#md2a15d687c\" />\n     <use style=\"fill:#4575b4;fill-opacity:0.7;stroke:#4575b4;stroke-opacity:0.7;stroke-width:0.3;\" x=\"70.794446\" y=\"23.393748\" xlink:href=\"#md2a15d687c\" />\n     <use style=\"fill:#4575b4;fill-opacity:0.7;stroke:#4575b4;stroke-opacity:0.7;stroke-width:0.3;\" x=\"33.118143\" y=\"22.025394\" xlink:href=\"#md2a15d687c\" />\n     <use style=\"fill:#4575b4;fill-opacity:0.7;stroke:#4575b4;stroke-opacity:0.7;stroke-width:0.3;\" x=\"42.886074\" y=\"33.292268\" xlink:href=\"#md2a15d687c\" />\n     <use style=\"fill:#4575b4;fill-opacity:0.7;stroke:#4575b4;stroke-opacity:0.7;stroke-width:0.3;\" x=\"42.886074\" y=\"26.93347\" xlink:href=\"#md2a15d687c\" />\n     <use style=\"fill:#4575b4;fill-opacity:0.7;stroke:#4575b4;stroke-opacity:0.7;stroke-width:0.3;\" x=\"42.886074\" y=\"35.068715\" xlink:href=\"#md2a15d687c\" />\n     <use style=\"fill:#4575b4;fill-opacity:0.7;stroke:#4575b4;stroke-opacity:0.7;stroke-width:0.3;\" x=\"42.886074\" y=\"25.173832\" xlink:href=\"#md2a15d687c\" />\n     <use style=\"fill:#4575b4;fill-opacity:0.7;stroke:#4575b4;stroke-opacity:0.7;stroke-width:0.3;\" x=\"168.47375\" y=\"18.430642\" xlink:href=\"#md2a15d687c\" />\n     <use style=\"fill:#4575b4;fill-opacity:0.7;stroke:#4575b4;stroke-opacity:0.7;stroke-width:0.3;\" x=\"30.327306\" y=\"24.744397\" xlink:href=\"#md2a15d687c\" />\n     <use style=\"fill:#4575b4;fill-opacity:0.7;stroke:#4575b4;stroke-opacity:0.7;stroke-width:0.3;\" x=\"42.886074\" y=\"30.094132\" xlink:href=\"#md2a15d687c\" />\n     <use style=\"fill:#4575b4;fill-opacity:0.7;stroke:#4575b4;stroke-opacity:0.7;stroke-width:0.3;\" x=\"70.794446\" y=\"26.889546\" xlink:href=\"#md2a15d687c\" />\n     <use style=\"fill:#4575b4;fill-opacity:0.7;stroke:#4575b4;stroke-opacity:0.7;stroke-width:0.3;\" x=\"30.327306\" y=\"27.333801\" xlink:href=\"#md2a15d687c\" />\n     <use style=\"fill:#4575b4;fill-opacity:0.7;stroke:#4575b4;stroke-opacity:0.7;stroke-width:0.3;\" x=\"70.794446\" y=\"35.420967\" xlink:href=\"#md2a15d687c\" />\n     <use style=\"fill:#4575b4;fill-opacity:0.7;stroke:#4575b4;stroke-opacity:0.7;stroke-width:0.3;\" x=\"42.886074\" y=\"33.232644\" xlink:href=\"#md2a15d687c\" />\n     <use style=\"fill:#4575b4;fill-opacity:0.7;stroke:#4575b4;stroke-opacity:0.7;stroke-width:0.3;\" x=\"42.886074\" y=\"34.247953\" xlink:href=\"#md2a15d687c\" />\n     <use style=\"fill:#4575b4;fill-opacity:0.7;stroke:#4575b4;stroke-opacity:0.7;stroke-width:0.3;\" x=\"42.886074\" y=\"28.303478\" xlink:href=\"#md2a15d687c\" />\n     <use style=\"fill:#4575b4;fill-opacity:0.7;stroke:#4575b4;stroke-opacity:0.7;stroke-width:0.3;\" x=\"70.794446\" y=\"30.134448\" xlink:href=\"#md2a15d687c\" />\n     <use style=\"fill:#4575b4;fill-opacity:0.7;stroke:#4575b4;stroke-opacity:0.7;stroke-width:0.3;\" x=\"42.886074\" y=\"32.238305\" xlink:href=\"#md2a15d687c\" />\n     <use style=\"fill:#4575b4;fill-opacity:0.7;stroke:#4575b4;stroke-opacity:0.7;stroke-width:0.3;\" x=\"168.47375\" y=\"31.25987\" xlink:href=\"#md2a15d687c\" />\n     <use style=\"fill:#4575b4;fill-opacity:0.7;stroke:#4575b4;stroke-opacity:0.7;stroke-width:0.3;\" x=\"42.886074\" y=\"35.498589\" xlink:href=\"#md2a15d687c\" />\n     <use style=\"fill:#4575b4;fill-opacity:0.7;stroke:#4575b4;stroke-opacity:0.7;stroke-width:0.3;\" x=\"29.350513\" y=\"31.887337\" xlink:href=\"#md2a15d687c\" />\n     <use style=\"fill:#4575b4;fill-opacity:0.7;stroke:#4575b4;stroke-opacity:0.7;stroke-width:0.3;\" x=\"30.327306\" y=\"26.38984\" xlink:href=\"#md2a15d687c\" />\n     <use style=\"fill:#4575b4;fill-opacity:0.7;stroke:#4575b4;stroke-opacity:0.7;stroke-width:0.3;\" x=\"42.886074\" y=\"33.941041\" xlink:href=\"#md2a15d687c\" />\n     <use style=\"fill:#4575b4;fill-opacity:0.7;stroke:#4575b4;stroke-opacity:0.7;stroke-width:0.3;\" x=\"42.886074\" y=\"21.23067\" xlink:href=\"#md2a15d687c\" />\n     <use style=\"fill:#4575b4;fill-opacity:0.7;stroke:#4575b4;stroke-opacity:0.7;stroke-width:0.3;\" x=\"42.886074\" y=\"32.629068\" xlink:href=\"#md2a15d687c\" />\n     <use style=\"fill:#4575b4;fill-opacity:0.7;stroke:#4575b4;stroke-opacity:0.7;stroke-width:0.3;\" x=\"42.886074\" y=\"32.390141\" xlink:href=\"#md2a15d687c\" />\n     <use style=\"fill:#4575b4;fill-opacity:0.7;stroke:#4575b4;stroke-opacity:0.7;stroke-width:0.3;\" x=\"42.886074\" y=\"40.106926\" xlink:href=\"#md2a15d687c\" />\n     <use style=\"fill:#4575b4;fill-opacity:0.7;stroke:#4575b4;stroke-opacity:0.7;stroke-width:0.3;\" x=\"29.350513\" y=\"32.504112\" xlink:href=\"#md2a15d687c\" />\n     <use style=\"fill:#4575b4;fill-opacity:0.7;stroke:#4575b4;stroke-opacity:0.7;stroke-width:0.3;\" x=\"42.886074\" y=\"22.851536\" xlink:href=\"#md2a15d687c\" />\n     <use style=\"fill:#4575b4;fill-opacity:0.7;stroke:#4575b4;stroke-opacity:0.7;stroke-width:0.3;\" x=\"42.886074\" y=\"26.102872\" xlink:href=\"#md2a15d687c\" />\n     <use style=\"fill:#4575b4;fill-opacity:0.7;stroke:#4575b4;stroke-opacity:0.7;stroke-width:0.3;\" x=\"42.886074\" y=\"44.520373\" xlink:href=\"#md2a15d687c\" />\n     <use style=\"fill:#4575b4;fill-opacity:0.7;stroke:#4575b4;stroke-opacity:0.7;stroke-width:0.3;\" x=\"30.327306\" y=\"33.382387\" xlink:href=\"#md2a15d687c\" />\n     <use style=\"fill:#4575b4;fill-opacity:0.7;stroke:#4575b4;stroke-opacity:0.7;stroke-width:0.3;\" x=\"70.794446\" y=\"37.864082\" xlink:href=\"#md2a15d687c\" />\n     <use style=\"fill:#4575b4;fill-opacity:0.7;stroke:#4575b4;stroke-opacity:0.7;stroke-width:0.3;\" x=\"42.886074\" y=\"24.489688\" xlink:href=\"#md2a15d687c\" />\n     <use style=\"fill:#4575b4;fill-opacity:0.7;stroke:#4575b4;stroke-opacity:0.7;stroke-width:0.3;\" x=\"30.327306\" y=\"31.765008\" xlink:href=\"#md2a15d687c\" />\n     <use style=\"fill:#4575b4;fill-opacity:0.7;stroke:#4575b4;stroke-opacity:0.7;stroke-width:0.3;\" x=\"42.886074\" y=\"32.325462\" xlink:href=\"#md2a15d687c\" />\n     <use style=\"fill:#4575b4;fill-opacity:0.7;stroke:#4575b4;stroke-opacity:0.7;stroke-width:0.3;\" x=\"42.886074\" y=\"20.727892\" xlink:href=\"#md2a15d687c\" />\n     <use style=\"fill:#4575b4;fill-opacity:0.7;stroke:#4575b4;stroke-opacity:0.7;stroke-width:0.3;\" x=\"42.886074\" y=\"25.004166\" xlink:href=\"#md2a15d687c\" />\n     <use style=\"fill:#4575b4;fill-opacity:0.7;stroke:#4575b4;stroke-opacity:0.7;stroke-width:0.3;\" x=\"70.794446\" y=\"29.091666\" xlink:href=\"#md2a15d687c\" />\n     <use style=\"fill:#4575b4;fill-opacity:0.7;stroke:#4575b4;stroke-opacity:0.7;stroke-width:0.3;\" x=\"70.794446\" y=\"20.964781\" xlink:href=\"#md2a15d687c\" />\n     <use style=\"fill:#4575b4;fill-opacity:0.7;stroke:#4575b4;stroke-opacity:0.7;stroke-width:0.3;\" x=\"70.794446\" y=\"26.838839\" xlink:href=\"#md2a15d687c\" />\n     <use style=\"fill:#4575b4;fill-opacity:0.7;stroke:#4575b4;stroke-opacity:0.7;stroke-width:0.3;\" x=\"42.886074\" y=\"27.050011\" xlink:href=\"#md2a15d687c\" />\n     <use style=\"fill:#4575b4;fill-opacity:0.7;stroke:#4575b4;stroke-opacity:0.7;stroke-width:0.3;\" x=\"30.327306\" y=\"31.145314\" xlink:href=\"#md2a15d687c\" />\n     <use style=\"fill:#4575b4;fill-opacity:0.7;stroke:#4575b4;stroke-opacity:0.7;stroke-width:0.3;\" x=\"42.886074\" y=\"25.41965\" xlink:href=\"#md2a15d687c\" />\n     <use style=\"fill:#4575b4;fill-opacity:0.7;stroke:#4575b4;stroke-opacity:0.7;stroke-width:0.3;\" x=\"70.794446\" y=\"19.119576\" xlink:href=\"#md2a15d687c\" />\n     <use style=\"fill:#4575b4;fill-opacity:0.7;stroke:#4575b4;stroke-opacity:0.7;stroke-width:0.3;\" x=\"70.794446\" y=\"21.331596\" xlink:href=\"#md2a15d687c\" />\n     <use style=\"fill:#4575b4;fill-opacity:0.7;stroke:#4575b4;stroke-opacity:0.7;stroke-width:0.3;\" x=\"29.071429\" y=\"43.038958\" xlink:href=\"#md2a15d687c\" />\n     <use style=\"fill:#4575b4;fill-opacity:0.7;stroke:#4575b4;stroke-opacity:0.7;stroke-width:0.3;\" x=\"42.886074\" y=\"27.775201\" xlink:href=\"#md2a15d687c\" />\n     <use style=\"fill:#4575b4;fill-opacity:0.7;stroke:#4575b4;stroke-opacity:0.7;stroke-width:0.3;\" x=\"30.327306\" y=\"30.273052\" xlink:href=\"#md2a15d687c\" />\n     <use style=\"fill:#4575b4;fill-opacity:0.7;stroke:#4575b4;stroke-opacity:0.7;stroke-width:0.3;\" x=\"42.886074\" y=\"30.704433\" xlink:href=\"#md2a15d687c\" />\n     <use style=\"fill:#4575b4;fill-opacity:0.7;stroke:#4575b4;stroke-opacity:0.7;stroke-width:0.3;\" x=\"42.886074\" y=\"33.606887\" xlink:href=\"#md2a15d687c\" />\n     <use style=\"fill:#4575b4;fill-opacity:0.7;stroke:#4575b4;stroke-opacity:0.7;stroke-width:0.3;\" x=\"42.886074\" y=\"37.388669\" xlink:href=\"#md2a15d687c\" />\n     <use style=\"fill:#4575b4;fill-opacity:0.7;stroke:#4575b4;stroke-opacity:0.7;stroke-width:0.3;\" x=\"70.794446\" y=\"33.133326\" xlink:href=\"#md2a15d687c\" />\n     <use style=\"fill:#4575b4;fill-opacity:0.7;stroke:#4575b4;stroke-opacity:0.7;stroke-width:0.3;\" x=\"70.794446\" y=\"22.067877\" xlink:href=\"#md2a15d687c\" />\n     <use style=\"fill:#4575b4;fill-opacity:0.7;stroke:#4575b4;stroke-opacity:0.7;stroke-width:0.3;\" x=\"29.350513\" y=\"35.539441\" xlink:href=\"#md2a15d687c\" />\n     <use style=\"fill:#4575b4;fill-opacity:0.7;stroke:#4575b4;stroke-opacity:0.7;stroke-width:0.3;\" x=\"29.071429\" y=\"30.721827\" xlink:href=\"#md2a15d687c\" />\n     <use style=\"fill:#4575b4;fill-opacity:0.7;stroke:#4575b4;stroke-opacity:0.7;stroke-width:0.3;\" x=\"29.350513\" y=\"31.970399\" xlink:href=\"#md2a15d687c\" />\n     <use style=\"fill:#4575b4;fill-opacity:0.7;stroke:#4575b4;stroke-opacity:0.7;stroke-width:0.3;\" x=\"42.886074\" y=\"32.607875\" xlink:href=\"#md2a15d687c\" />\n     <use style=\"fill:#4575b4;fill-opacity:0.7;stroke:#4575b4;stroke-opacity:0.7;stroke-width:0.3;\" x=\"42.886074\" y=\"28.461087\" xlink:href=\"#md2a15d687c\" />\n     <use style=\"fill:#4575b4;fill-opacity:0.7;stroke:#4575b4;stroke-opacity:0.7;stroke-width:0.3;\" x=\"42.886074\" y=\"33.759865\" xlink:href=\"#md2a15d687c\" />\n     <use style=\"fill:#4575b4;fill-opacity:0.7;stroke:#4575b4;stroke-opacity:0.7;stroke-width:0.3;\" x=\"70.794446\" y=\"26.200324\" xlink:href=\"#md2a15d687c\" />\n     <use style=\"fill:#4575b4;fill-opacity:0.7;stroke:#4575b4;stroke-opacity:0.7;stroke-width:0.3;\" x=\"70.794446\" y=\"27.286524\" xlink:href=\"#md2a15d687c\" />\n     <use style=\"fill:#4575b4;fill-opacity:0.7;stroke:#4575b4;stroke-opacity:0.7;stroke-width:0.3;\" x=\"42.886074\" y=\"31.638298\" xlink:href=\"#md2a15d687c\" />\n     <use style=\"fill:#4575b4;fill-opacity:0.7;stroke:#4575b4;stroke-opacity:0.7;stroke-width:0.3;\" x=\"42.886074\" y=\"27.316271\" xlink:href=\"#md2a15d687c\" />\n     <use style=\"fill:#4575b4;fill-opacity:0.7;stroke:#4575b4;stroke-opacity:0.7;stroke-width:0.3;\" x=\"30.327306\" y=\"31.198048\" xlink:href=\"#md2a15d687c\" />\n     <use style=\"fill:#4575b4;fill-opacity:0.7;stroke:#4575b4;stroke-opacity:0.7;stroke-width:0.3;\" x=\"42.886074\" y=\"32.947326\" xlink:href=\"#md2a15d687c\" />\n     <use style=\"fill:#4575b4;fill-opacity:0.7;stroke:#4575b4;stroke-opacity:0.7;stroke-width:0.3;\" x=\"42.886074\" y=\"26.511306\" xlink:href=\"#md2a15d687c\" />\n     <use style=\"fill:#4575b4;fill-opacity:0.7;stroke:#4575b4;stroke-opacity:0.7;stroke-width:0.3;\" x=\"42.886074\" y=\"33.388524\" xlink:href=\"#md2a15d687c\" />\n     <use style=\"fill:#4575b4;fill-opacity:0.7;stroke:#4575b4;stroke-opacity:0.7;stroke-width:0.3;\" x=\"42.886074\" y=\"27.115261\" xlink:href=\"#md2a15d687c\" />\n     <use style=\"fill:#4575b4;fill-opacity:0.7;stroke:#4575b4;stroke-opacity:0.7;stroke-width:0.3;\" x=\"42.886074\" y=\"30.509722\" xlink:href=\"#md2a15d687c\" />\n     <use style=\"fill:#4575b4;fill-opacity:0.7;stroke:#4575b4;stroke-opacity:0.7;stroke-width:0.3;\" x=\"42.886074\" y=\"33.212216\" xlink:href=\"#md2a15d687c\" />\n     <use style=\"fill:#4575b4;fill-opacity:0.7;stroke:#4575b4;stroke-opacity:0.7;stroke-width:0.3;\" x=\"42.886074\" y=\"27.028003\" xlink:href=\"#md2a15d687c\" />\n     <use style=\"fill:#4575b4;fill-opacity:0.7;stroke:#4575b4;stroke-opacity:0.7;stroke-width:0.3;\" x=\"30.327306\" y=\"28.723419\" xlink:href=\"#md2a15d687c\" />\n     <use style=\"fill:#4575b4;fill-opacity:0.7;stroke:#4575b4;stroke-opacity:0.7;stroke-width:0.3;\" x=\"33.118143\" y=\"24.445331\" xlink:href=\"#md2a15d687c\" />\n     <use style=\"fill:#4575b4;fill-opacity:0.7;stroke:#4575b4;stroke-opacity:0.7;stroke-width:0.3;\" x=\"70.794446\" y=\"35.460996\" xlink:href=\"#md2a15d687c\" />\n     <use style=\"fill:#4575b4;fill-opacity:0.7;stroke:#4575b4;stroke-opacity:0.7;stroke-width:0.3;\" x=\"33.118143\" y=\"38.428192\" xlink:href=\"#md2a15d687c\" />\n     <use style=\"fill:#4575b4;fill-opacity:0.7;stroke:#4575b4;stroke-opacity:0.7;stroke-width:0.3;\" x=\"70.794446\" y=\"35.635981\" xlink:href=\"#md2a15d687c\" />\n     <use style=\"fill:#4575b4;fill-opacity:0.7;stroke:#4575b4;stroke-opacity:0.7;stroke-width:0.3;\" x=\"42.886074\" y=\"14.086432\" xlink:href=\"#md2a15d687c\" />\n     <use style=\"fill:#4575b4;fill-opacity:0.7;stroke:#4575b4;stroke-opacity:0.7;stroke-width:0.3;\" x=\"42.886074\" y=\"30.492229\" xlink:href=\"#md2a15d687c\" />\n     <use style=\"fill:#4575b4;fill-opacity:0.7;stroke:#4575b4;stroke-opacity:0.7;stroke-width:0.3;\" x=\"70.794446\" y=\"21.209466\" xlink:href=\"#md2a15d687c\" />\n     <use style=\"fill:#4575b4;fill-opacity:0.7;stroke:#4575b4;stroke-opacity:0.7;stroke-width:0.3;\" x=\"30.327306\" y=\"28.94709\" xlink:href=\"#md2a15d687c\" />\n     <use style=\"fill:#4575b4;fill-opacity:0.7;stroke:#4575b4;stroke-opacity:0.7;stroke-width:0.3;\" x=\"42.886074\" y=\"29.692265\" xlink:href=\"#md2a15d687c\" />\n     <use style=\"fill:#4575b4;fill-opacity:0.7;stroke:#4575b4;stroke-opacity:0.7;stroke-width:0.3;\" x=\"30.327306\" y=\"37.125248\" xlink:href=\"#md2a15d687c\" />\n     <use style=\"fill:#4575b4;fill-opacity:0.7;stroke:#4575b4;stroke-opacity:0.7;stroke-width:0.3;\" x=\"42.886074\" y=\"18.759301\" xlink:href=\"#md2a15d687c\" />\n     <use style=\"fill:#4575b4;fill-opacity:0.7;stroke:#4575b4;stroke-opacity:0.7;stroke-width:0.3;\" x=\"42.886074\" y=\"34.698782\" xlink:href=\"#md2a15d687c\" />\n     <use style=\"fill:#4575b4;fill-opacity:0.7;stroke:#4575b4;stroke-opacity:0.7;stroke-width:0.3;\" x=\"42.886074\" y=\"34.953014\" xlink:href=\"#md2a15d687c\" />\n     <use style=\"fill:#4575b4;fill-opacity:0.7;stroke:#4575b4;stroke-opacity:0.7;stroke-width:0.3;\" x=\"42.886074\" y=\"29.731739\" xlink:href=\"#md2a15d687c\" />\n     <use style=\"fill:#4575b4;fill-opacity:0.7;stroke:#4575b4;stroke-opacity:0.7;stroke-width:0.3;\" x=\"42.886074\" y=\"28.604325\" xlink:href=\"#md2a15d687c\" />\n     <use style=\"fill:#4575b4;fill-opacity:0.7;stroke:#4575b4;stroke-opacity:0.7;stroke-width:0.3;\" x=\"42.886074\" y=\"30.124269\" xlink:href=\"#md2a15d687c\" />\n     <use style=\"fill:#4575b4;fill-opacity:0.7;stroke:#4575b4;stroke-opacity:0.7;stroke-width:0.3;\" x=\"42.886074\" y=\"33.598719\" xlink:href=\"#md2a15d687c\" />\n     <use style=\"fill:#4575b4;fill-opacity:0.7;stroke:#4575b4;stroke-opacity:0.7;stroke-width:0.3;\" x=\"42.886074\" y=\"36.760107\" xlink:href=\"#md2a15d687c\" />\n     <use style=\"fill:#4575b4;fill-opacity:0.7;stroke:#4575b4;stroke-opacity:0.7;stroke-width:0.3;\" x=\"70.794446\" y=\"24.000774\" xlink:href=\"#md2a15d687c\" />\n     <use style=\"fill:#4575b4;fill-opacity:0.7;stroke:#4575b4;stroke-opacity:0.7;stroke-width:0.3;\" x=\"42.886074\" y=\"29.327966\" xlink:href=\"#md2a15d687c\" />\n     <use style=\"fill:#4575b4;fill-opacity:0.7;stroke:#4575b4;stroke-opacity:0.7;stroke-width:0.3;\" x=\"42.886074\" y=\"36.077709\" xlink:href=\"#md2a15d687c\" />\n     <use style=\"fill:#4575b4;fill-opacity:0.7;stroke:#4575b4;stroke-opacity:0.7;stroke-width:0.3;\" x=\"70.794446\" y=\"32.406255\" xlink:href=\"#md2a15d687c\" />\n     <use style=\"fill:#4575b4;fill-opacity:0.7;stroke:#4575b4;stroke-opacity:0.7;stroke-width:0.3;\" x=\"30.327306\" y=\"31.46237\" xlink:href=\"#md2a15d687c\" />\n     <use style=\"fill:#4575b4;fill-opacity:0.7;stroke:#4575b4;stroke-opacity:0.7;stroke-width:0.3;\" x=\"42.886074\" y=\"31.458445\" xlink:href=\"#md2a15d687c\" />\n     <use style=\"fill:#4575b4;fill-opacity:0.7;stroke:#4575b4;stroke-opacity:0.7;stroke-width:0.3;\" x=\"42.886074\" y=\"36.435507\" xlink:href=\"#md2a15d687c\" />\n     <use style=\"fill:#4575b4;fill-opacity:0.7;stroke:#4575b4;stroke-opacity:0.7;stroke-width:0.3;\" x=\"70.794446\" y=\"31.612087\" xlink:href=\"#md2a15d687c\" />\n     <use style=\"fill:#4575b4;fill-opacity:0.7;stroke:#4575b4;stroke-opacity:0.7;stroke-width:0.3;\" x=\"42.886074\" y=\"31.574569\" xlink:href=\"#md2a15d687c\" />\n     <use style=\"fill:#4575b4;fill-opacity:0.7;stroke:#4575b4;stroke-opacity:0.7;stroke-width:0.3;\" x=\"70.794446\" y=\"28.500074\" xlink:href=\"#md2a15d687c\" />\n     <use style=\"fill:#4575b4;fill-opacity:0.7;stroke:#4575b4;stroke-opacity:0.7;stroke-width:0.3;\" x=\"42.886074\" y=\"29.767783\" xlink:href=\"#md2a15d687c\" />\n     <use style=\"fill:#4575b4;fill-opacity:0.7;stroke:#4575b4;stroke-opacity:0.7;stroke-width:0.3;\" x=\"42.886074\" y=\"25.655891\" xlink:href=\"#md2a15d687c\" />\n     <use style=\"fill:#4575b4;fill-opacity:0.7;stroke:#4575b4;stroke-opacity:0.7;stroke-width:0.3;\" x=\"70.794446\" y=\"21.721494\" xlink:href=\"#md2a15d687c\" />\n     <use style=\"fill:#4575b4;fill-opacity:0.7;stroke:#4575b4;stroke-opacity:0.7;stroke-width:0.3;\" x=\"168.47375\" y=\"31.29209\" xlink:href=\"#md2a15d687c\" />\n     <use style=\"fill:#4575b4;fill-opacity:0.7;stroke:#4575b4;stroke-opacity:0.7;stroke-width:0.3;\" x=\"42.886074\" y=\"35.720646\" xlink:href=\"#md2a15d687c\" />\n     <use style=\"fill:#4575b4;fill-opacity:0.7;stroke:#4575b4;stroke-opacity:0.7;stroke-width:0.3;\" x=\"70.794446\" y=\"30.643896\" xlink:href=\"#md2a15d687c\" />\n     <use style=\"fill:#4575b4;fill-opacity:0.7;stroke:#4575b4;stroke-opacity:0.7;stroke-width:0.3;\" x=\"42.886074\" y=\"36.118439\" xlink:href=\"#md2a15d687c\" />\n     <use style=\"fill:#4575b4;fill-opacity:0.7;stroke:#4575b4;stroke-opacity:0.7;stroke-width:0.3;\" x=\"70.794446\" y=\"19.8715\" xlink:href=\"#md2a15d687c\" />\n     <use style=\"fill:#4575b4;fill-opacity:0.7;stroke:#4575b4;stroke-opacity:0.7;stroke-width:0.3;\" x=\"42.886074\" y=\"13.861009\" xlink:href=\"#md2a15d687c\" />\n     <use style=\"fill:#4575b4;fill-opacity:0.7;stroke:#4575b4;stroke-opacity:0.7;stroke-width:0.3;\" x=\"42.886074\" y=\"33.388819\" xlink:href=\"#md2a15d687c\" />\n     <use style=\"fill:#4575b4;fill-opacity:0.7;stroke:#4575b4;stroke-opacity:0.7;stroke-width:0.3;\" x=\"30.327306\" y=\"25.499339\" xlink:href=\"#md2a15d687c\" />\n     <use style=\"fill:#4575b4;fill-opacity:0.7;stroke:#4575b4;stroke-opacity:0.7;stroke-width:0.3;\" x=\"70.794446\" y=\"36.492756\" xlink:href=\"#md2a15d687c\" />\n     <use style=\"fill:#4575b4;fill-opacity:0.7;stroke:#4575b4;stroke-opacity:0.7;stroke-width:0.3;\" x=\"42.886074\" y=\"36.80048\" xlink:href=\"#md2a15d687c\" />\n     <use style=\"fill:#4575b4;fill-opacity:0.7;stroke:#4575b4;stroke-opacity:0.7;stroke-width:0.3;\" x=\"30.327306\" y=\"30.558477\" xlink:href=\"#md2a15d687c\" />\n     <use style=\"fill:#4575b4;fill-opacity:0.7;stroke:#4575b4;stroke-opacity:0.7;stroke-width:0.3;\" x=\"42.886074\" y=\"26.0941\" xlink:href=\"#md2a15d687c\" />\n     <use style=\"fill:#4575b4;fill-opacity:0.7;stroke:#4575b4;stroke-opacity:0.7;stroke-width:0.3;\" x=\"42.886074\" y=\"31.256322\" xlink:href=\"#md2a15d687c\" />\n     <use style=\"fill:#4575b4;fill-opacity:0.7;stroke:#4575b4;stroke-opacity:0.7;stroke-width:0.3;\" x=\"70.794446\" y=\"30.529889\" xlink:href=\"#md2a15d687c\" />\n     <use style=\"fill:#4575b4;fill-opacity:0.7;stroke:#4575b4;stroke-opacity:0.7;stroke-width:0.3;\" x=\"70.794446\" y=\"47.405209\" xlink:href=\"#md2a15d687c\" />\n     <use style=\"fill:#4575b4;fill-opacity:0.7;stroke:#4575b4;stroke-opacity:0.7;stroke-width:0.3;\" x=\"70.794446\" y=\"30.300096\" xlink:href=\"#md2a15d687c\" />\n     <use style=\"fill:#4575b4;fill-opacity:0.7;stroke:#4575b4;stroke-opacity:0.7;stroke-width:0.3;\" x=\"70.794446\" y=\"15.558874\" xlink:href=\"#md2a15d687c\" />\n     <use style=\"fill:#4575b4;fill-opacity:0.7;stroke:#4575b4;stroke-opacity:0.7;stroke-width:0.3;\" x=\"42.886074\" y=\"34.816163\" xlink:href=\"#md2a15d687c\" />\n     <use style=\"fill:#4575b4;fill-opacity:0.7;stroke:#4575b4;stroke-opacity:0.7;stroke-width:0.3;\" x=\"70.794446\" y=\"23.732396\" xlink:href=\"#md2a15d687c\" />\n     <use style=\"fill:#4575b4;fill-opacity:0.7;stroke:#4575b4;stroke-opacity:0.7;stroke-width:0.3;\" x=\"70.794446\" y=\"27.61857\" xlink:href=\"#md2a15d687c\" />\n     <use style=\"fill:#4575b4;fill-opacity:0.7;stroke:#4575b4;stroke-opacity:0.7;stroke-width:0.3;\" x=\"29.350513\" y=\"33.30119\" xlink:href=\"#md2a15d687c\" />\n     <use style=\"fill:#4575b4;fill-opacity:0.7;stroke:#4575b4;stroke-opacity:0.7;stroke-width:0.3;\" x=\"42.886074\" y=\"29.082085\" xlink:href=\"#md2a15d687c\" />\n     <use style=\"fill:#4575b4;fill-opacity:0.7;stroke:#4575b4;stroke-opacity:0.7;stroke-width:0.3;\" x=\"70.794446\" y=\"27.519342\" xlink:href=\"#md2a15d687c\" />\n     <use style=\"fill:#4575b4;fill-opacity:0.7;stroke:#4575b4;stroke-opacity:0.7;stroke-width:0.3;\" x=\"70.794446\" y=\"23.64576\" xlink:href=\"#md2a15d687c\" />\n     <use style=\"fill:#4575b4;fill-opacity:0.7;stroke:#4575b4;stroke-opacity:0.7;stroke-width:0.3;\" x=\"70.794446\" y=\"32.771354\" xlink:href=\"#md2a15d687c\" />\n     <use style=\"fill:#4575b4;fill-opacity:0.7;stroke:#4575b4;stroke-opacity:0.7;stroke-width:0.3;\" x=\"70.794446\" y=\"37.156636\" xlink:href=\"#md2a15d687c\" />\n     <use style=\"fill:#4575b4;fill-opacity:0.7;stroke:#4575b4;stroke-opacity:0.7;stroke-width:0.3;\" x=\"42.886074\" y=\"30.834741\" xlink:href=\"#md2a15d687c\" />\n     <use style=\"fill:#4575b4;fill-opacity:0.7;stroke:#4575b4;stroke-opacity:0.7;stroke-width:0.3;\" x=\"33.118143\" y=\"30.531233\" xlink:href=\"#md2a15d687c\" />\n     <use style=\"fill:#4575b4;fill-opacity:0.7;stroke:#4575b4;stroke-opacity:0.7;stroke-width:0.3;\" x=\"42.886074\" y=\"28.506734\" xlink:href=\"#md2a15d687c\" />\n     <use style=\"fill:#4575b4;fill-opacity:0.7;stroke:#4575b4;stroke-opacity:0.7;stroke-width:0.3;\" x=\"42.886074\" y=\"25.890586\" xlink:href=\"#md2a15d687c\" />\n     <use style=\"fill:#4575b4;fill-opacity:0.7;stroke:#4575b4;stroke-opacity:0.7;stroke-width:0.3;\" x=\"29.071429\" y=\"26.178306\" xlink:href=\"#md2a15d687c\" />\n     <use style=\"fill:#4575b4;fill-opacity:0.7;stroke:#4575b4;stroke-opacity:0.7;stroke-width:0.3;\" x=\"42.886074\" y=\"32.74556\" xlink:href=\"#md2a15d687c\" />\n     <use style=\"fill:#4575b4;fill-opacity:0.7;stroke:#4575b4;stroke-opacity:0.7;stroke-width:0.3;\" x=\"168.47375\" y=\"34.30727\" xlink:href=\"#md2a15d687c\" />\n     <use style=\"fill:#4575b4;fill-opacity:0.7;stroke:#4575b4;stroke-opacity:0.7;stroke-width:0.3;\" x=\"70.794446\" y=\"29.426337\" xlink:href=\"#md2a15d687c\" />\n     <use style=\"fill:#4575b4;fill-opacity:0.7;stroke:#4575b4;stroke-opacity:0.7;stroke-width:0.3;\" x=\"30.327306\" y=\"0.991204\" xlink:href=\"#md2a15d687c\" />\n     <use style=\"fill:#4575b4;fill-opacity:0.7;stroke:#4575b4;stroke-opacity:0.7;stroke-width:0.3;\" x=\"42.886074\" y=\"29.770937\" xlink:href=\"#md2a15d687c\" />\n     <use style=\"fill:#4575b4;fill-opacity:0.7;stroke:#4575b4;stroke-opacity:0.7;stroke-width:0.3;\" x=\"70.794446\" y=\"21.965477\" xlink:href=\"#md2a15d687c\" />\n     <use style=\"fill:#4575b4;fill-opacity:0.7;stroke:#4575b4;stroke-opacity:0.7;stroke-width:0.3;\" x=\"42.886074\" y=\"35.504003\" xlink:href=\"#md2a15d687c\" />\n     <use style=\"fill:#4575b4;fill-opacity:0.7;stroke:#4575b4;stroke-opacity:0.7;stroke-width:0.3;\" x=\"42.886074\" y=\"28.380243\" xlink:href=\"#md2a15d687c\" />\n     <use style=\"fill:#4575b4;fill-opacity:0.7;stroke:#4575b4;stroke-opacity:0.7;stroke-width:0.3;\" x=\"42.886074\" y=\"28.870425\" xlink:href=\"#md2a15d687c\" />\n     <use style=\"fill:#4575b4;fill-opacity:0.7;stroke:#4575b4;stroke-opacity:0.7;stroke-width:0.3;\" x=\"42.886074\" y=\"31.479727\" xlink:href=\"#md2a15d687c\" />\n     <use style=\"fill:#4575b4;fill-opacity:0.7;stroke:#4575b4;stroke-opacity:0.7;stroke-width:0.3;\" x=\"30.327306\" y=\"32.837008\" xlink:href=\"#md2a15d687c\" />\n     <use style=\"fill:#4575b4;fill-opacity:0.7;stroke:#4575b4;stroke-opacity:0.7;stroke-width:0.3;\" x=\"70.794446\" y=\"41.515746\" xlink:href=\"#md2a15d687c\" />\n     <use style=\"fill:#4575b4;fill-opacity:0.7;stroke:#4575b4;stroke-opacity:0.7;stroke-width:0.3;\" x=\"70.794446\" y=\"19.4743\" xlink:href=\"#md2a15d687c\" />\n     <use style=\"fill:#4575b4;fill-opacity:0.7;stroke:#4575b4;stroke-opacity:0.7;stroke-width:0.3;\" x=\"29.071429\" y=\"30.177244\" xlink:href=\"#md2a15d687c\" />\n     <use style=\"fill:#4575b4;fill-opacity:0.7;stroke:#4575b4;stroke-opacity:0.7;stroke-width:0.3;\" x=\"70.794446\" y=\"33.285492\" xlink:href=\"#md2a15d687c\" />\n     <use style=\"fill:#4575b4;fill-opacity:0.7;stroke:#4575b4;stroke-opacity:0.7;stroke-width:0.3;\" x=\"29.350513\" y=\"59.045573\" xlink:href=\"#md2a15d687c\" />\n     <use style=\"fill:#4575b4;fill-opacity:0.7;stroke:#4575b4;stroke-opacity:0.7;stroke-width:0.3;\" x=\"42.886074\" y=\"30.152209\" xlink:href=\"#md2a15d687c\" />\n     <use style=\"fill:#4575b4;fill-opacity:0.7;stroke:#4575b4;stroke-opacity:0.7;stroke-width:0.3;\" x=\"70.794446\" y=\"28.151253\" xlink:href=\"#md2a15d687c\" />\n     <use style=\"fill:#4575b4;fill-opacity:0.7;stroke:#4575b4;stroke-opacity:0.7;stroke-width:0.3;\" x=\"42.886074\" y=\"30.792374\" xlink:href=\"#md2a15d687c\" />\n     <use style=\"fill:#4575b4;fill-opacity:0.7;stroke:#4575b4;stroke-opacity:0.7;stroke-width:0.3;\" x=\"42.886074\" y=\"26.695338\" xlink:href=\"#md2a15d687c\" />\n     <use style=\"fill:#4575b4;fill-opacity:0.7;stroke:#4575b4;stroke-opacity:0.7;stroke-width:0.3;\" x=\"42.886074\" y=\"34.021657\" xlink:href=\"#md2a15d687c\" />\n     <use style=\"fill:#4575b4;fill-opacity:0.7;stroke:#4575b4;stroke-opacity:0.7;stroke-width:0.3;\" x=\"42.886074\" y=\"41.127282\" xlink:href=\"#md2a15d687c\" />\n     <use style=\"fill:#4575b4;fill-opacity:0.7;stroke:#4575b4;stroke-opacity:0.7;stroke-width:0.3;\" x=\"70.794446\" y=\"21.367131\" xlink:href=\"#md2a15d687c\" />\n     <use style=\"fill:#4575b4;fill-opacity:0.7;stroke:#4575b4;stroke-opacity:0.7;stroke-width:0.3;\" x=\"42.886074\" y=\"29.041374\" xlink:href=\"#md2a15d687c\" />\n     <use style=\"fill:#4575b4;fill-opacity:0.7;stroke:#4575b4;stroke-opacity:0.7;stroke-width:0.3;\" x=\"70.794446\" y=\"41.012718\" xlink:href=\"#md2a15d687c\" />\n     <use style=\"fill:#4575b4;fill-opacity:0.7;stroke:#4575b4;stroke-opacity:0.7;stroke-width:0.3;\" x=\"42.886074\" y=\"26.111022\" xlink:href=\"#md2a15d687c\" />\n     <use style=\"fill:#4575b4;fill-opacity:0.7;stroke:#4575b4;stroke-opacity:0.7;stroke-width:0.3;\" x=\"42.886074\" y=\"23.627804\" xlink:href=\"#md2a15d687c\" />\n     <use style=\"fill:#4575b4;fill-opacity:0.7;stroke:#4575b4;stroke-opacity:0.7;stroke-width:0.3;\" x=\"70.794446\" y=\"37.035875\" xlink:href=\"#md2a15d687c\" />\n     <use style=\"fill:#4575b4;fill-opacity:0.7;stroke:#4575b4;stroke-opacity:0.7;stroke-width:0.3;\" x=\"42.886074\" y=\"29.973013\" xlink:href=\"#md2a15d687c\" />\n     <use style=\"fill:#4575b4;fill-opacity:0.7;stroke:#4575b4;stroke-opacity:0.7;stroke-width:0.3;\" x=\"42.886074\" y=\"30.494903\" xlink:href=\"#md2a15d687c\" />\n     <use style=\"fill:#4575b4;fill-opacity:0.7;stroke:#4575b4;stroke-opacity:0.7;stroke-width:0.3;\" x=\"42.886074\" y=\"39.158238\" xlink:href=\"#md2a15d687c\" />\n     <use style=\"fill:#4575b4;fill-opacity:0.7;stroke:#4575b4;stroke-opacity:0.7;stroke-width:0.3;\" x=\"42.886074\" y=\"28.136026\" xlink:href=\"#md2a15d687c\" />\n     <use style=\"fill:#4575b4;fill-opacity:0.7;stroke:#4575b4;stroke-opacity:0.7;stroke-width:0.3;\" x=\"70.794446\" y=\"37.547637\" xlink:href=\"#md2a15d687c\" />\n     <use style=\"fill:#4575b4;fill-opacity:0.7;stroke:#4575b4;stroke-opacity:0.7;stroke-width:0.3;\" x=\"29.350513\" y=\"28.04251\" xlink:href=\"#md2a15d687c\" />\n     <use style=\"fill:#4575b4;fill-opacity:0.7;stroke:#4575b4;stroke-opacity:0.7;stroke-width:0.3;\" x=\"70.794446\" y=\"13.421347\" xlink:href=\"#md2a15d687c\" />\n     <use style=\"fill:#4575b4;fill-opacity:0.7;stroke:#4575b4;stroke-opacity:0.7;stroke-width:0.3;\" x=\"70.794446\" y=\"35.616382\" xlink:href=\"#md2a15d687c\" />\n     <use style=\"fill:#4575b4;fill-opacity:0.7;stroke:#4575b4;stroke-opacity:0.7;stroke-width:0.3;\" x=\"168.47375\" y=\"36.20957\" xlink:href=\"#md2a15d687c\" />\n     <use style=\"fill:#4575b4;fill-opacity:0.7;stroke:#4575b4;stroke-opacity:0.7;stroke-width:0.3;\" x=\"70.794446\" y=\"29.860944\" xlink:href=\"#md2a15d687c\" />\n     <use style=\"fill:#4575b4;fill-opacity:0.7;stroke:#4575b4;stroke-opacity:0.7;stroke-width:0.3;\" x=\"30.327306\" y=\"33.603893\" xlink:href=\"#md2a15d687c\" />\n     <use style=\"fill:#4575b4;fill-opacity:0.7;stroke:#4575b4;stroke-opacity:0.7;stroke-width:0.3;\" x=\"70.794446\" y=\"31.026879\" xlink:href=\"#md2a15d687c\" />\n     <use style=\"fill:#4575b4;fill-opacity:0.7;stroke:#4575b4;stroke-opacity:0.7;stroke-width:0.3;\" x=\"42.886074\" y=\"28.732262\" xlink:href=\"#md2a15d687c\" />\n     <use style=\"fill:#4575b4;fill-opacity:0.7;stroke:#4575b4;stroke-opacity:0.7;stroke-width:0.3;\" x=\"42.886074\" y=\"34.258404\" xlink:href=\"#md2a15d687c\" />\n     <use style=\"fill:#4575b4;fill-opacity:0.7;stroke:#4575b4;stroke-opacity:0.7;stroke-width:0.3;\" x=\"42.886074\" y=\"29.100365\" xlink:href=\"#md2a15d687c\" />\n     <use style=\"fill:#4575b4;fill-opacity:0.7;stroke:#4575b4;stroke-opacity:0.7;stroke-width:0.3;\" x=\"30.327306\" y=\"30.084442\" xlink:href=\"#md2a15d687c\" />\n     <use style=\"fill:#4575b4;fill-opacity:0.7;stroke:#4575b4;stroke-opacity:0.7;stroke-width:0.3;\" x=\"42.886074\" y=\"45.89407\" xlink:href=\"#md2a15d687c\" />\n     <use style=\"fill:#4575b4;fill-opacity:0.7;stroke:#4575b4;stroke-opacity:0.7;stroke-width:0.3;\" x=\"29.350513\" y=\"33.972058\" xlink:href=\"#md2a15d687c\" />\n     <use style=\"fill:#4575b4;fill-opacity:0.7;stroke:#4575b4;stroke-opacity:0.7;stroke-width:0.3;\" x=\"29.350513\" y=\"28.829394\" xlink:href=\"#md2a15d687c\" />\n     <use style=\"fill:#4575b4;fill-opacity:0.7;stroke:#4575b4;stroke-opacity:0.7;stroke-width:0.3;\" x=\"42.886074\" y=\"29.516721\" xlink:href=\"#md2a15d687c\" />\n     <use style=\"fill:#4575b4;fill-opacity:0.7;stroke:#4575b4;stroke-opacity:0.7;stroke-width:0.3;\" x=\"70.794446\" y=\"31.833649\" xlink:href=\"#md2a15d687c\" />\n     <use style=\"fill:#4575b4;fill-opacity:0.7;stroke:#4575b4;stroke-opacity:0.7;stroke-width:0.3;\" x=\"42.886074\" y=\"31.669609\" xlink:href=\"#md2a15d687c\" />\n     <use style=\"fill:#4575b4;fill-opacity:0.7;stroke:#4575b4;stroke-opacity:0.7;stroke-width:0.3;\" x=\"70.794446\" y=\"27.452506\" xlink:href=\"#md2a15d687c\" />\n     <use style=\"fill:#4575b4;fill-opacity:0.7;stroke:#4575b4;stroke-opacity:0.7;stroke-width:0.3;\" x=\"70.794446\" y=\"36.788164\" xlink:href=\"#md2a15d687c\" />\n     <use style=\"fill:#4575b4;fill-opacity:0.7;stroke:#4575b4;stroke-opacity:0.7;stroke-width:0.3;\" x=\"42.886074\" y=\"25.788881\" xlink:href=\"#md2a15d687c\" />\n     <use style=\"fill:#4575b4;fill-opacity:0.7;stroke:#4575b4;stroke-opacity:0.7;stroke-width:0.3;\" x=\"42.886074\" y=\"27.889913\" xlink:href=\"#md2a15d687c\" />\n     <use style=\"fill:#4575b4;fill-opacity:0.7;stroke:#4575b4;stroke-opacity:0.7;stroke-width:0.3;\" x=\"70.794446\" y=\"27.309052\" xlink:href=\"#md2a15d687c\" />\n     <use style=\"fill:#4575b4;fill-opacity:0.7;stroke:#4575b4;stroke-opacity:0.7;stroke-width:0.3;\" x=\"29.071429\" y=\"38.030868\" xlink:href=\"#md2a15d687c\" />\n     <use style=\"fill:#4575b4;fill-opacity:0.7;stroke:#4575b4;stroke-opacity:0.7;stroke-width:0.3;\" x=\"70.794446\" y=\"32.781774\" xlink:href=\"#md2a15d687c\" />\n     <use style=\"fill:#4575b4;fill-opacity:0.7;stroke:#4575b4;stroke-opacity:0.7;stroke-width:0.3;\" x=\"29.071429\" y=\"30.865289\" xlink:href=\"#md2a15d687c\" />\n     <use style=\"fill:#4575b4;fill-opacity:0.7;stroke:#4575b4;stroke-opacity:0.7;stroke-width:0.3;\" x=\"42.886074\" y=\"33.831601\" xlink:href=\"#md2a15d687c\" />\n     <use style=\"fill:#4575b4;fill-opacity:0.7;stroke:#4575b4;stroke-opacity:0.7;stroke-width:0.3;\" x=\"70.794446\" y=\"22.434542\" xlink:href=\"#md2a15d687c\" />\n     <use style=\"fill:#4575b4;fill-opacity:0.7;stroke:#4575b4;stroke-opacity:0.7;stroke-width:0.3;\" x=\"70.794446\" y=\"30.349238\" xlink:href=\"#md2a15d687c\" />\n     <use style=\"fill:#4575b4;fill-opacity:0.7;stroke:#4575b4;stroke-opacity:0.7;stroke-width:0.3;\" x=\"42.886074\" y=\"29.682095\" xlink:href=\"#md2a15d687c\" />\n     <use style=\"fill:#4575b4;fill-opacity:0.7;stroke:#4575b4;stroke-opacity:0.7;stroke-width:0.3;\" x=\"30.327306\" y=\"28.081494\" xlink:href=\"#md2a15d687c\" />\n     <use style=\"fill:#4575b4;fill-opacity:0.7;stroke:#4575b4;stroke-opacity:0.7;stroke-width:0.3;\" x=\"42.886074\" y=\"14.476677\" xlink:href=\"#md2a15d687c\" />\n     <use style=\"fill:#4575b4;fill-opacity:0.7;stroke:#4575b4;stroke-opacity:0.7;stroke-width:0.3;\" x=\"30.327306\" y=\"25.692214\" xlink:href=\"#md2a15d687c\" />\n     <use style=\"fill:#4575b4;fill-opacity:0.7;stroke:#4575b4;stroke-opacity:0.7;stroke-width:0.3;\" x=\"42.886074\" y=\"27.197408\" xlink:href=\"#md2a15d687c\" />\n     <use style=\"fill:#4575b4;fill-opacity:0.7;stroke:#4575b4;stroke-opacity:0.7;stroke-width:0.3;\" x=\"70.794446\" y=\"33.872403\" xlink:href=\"#md2a15d687c\" />\n     <use style=\"fill:#4575b4;fill-opacity:0.7;stroke:#4575b4;stroke-opacity:0.7;stroke-width:0.3;\" x=\"42.886074\" y=\"29.978374\" xlink:href=\"#md2a15d687c\" />\n     <use style=\"fill:#4575b4;fill-opacity:0.7;stroke:#4575b4;stroke-opacity:0.7;stroke-width:0.3;\" x=\"70.794446\" y=\"30.838031\" xlink:href=\"#md2a15d687c\" />\n     <use style=\"fill:#4575b4;fill-opacity:0.7;stroke:#4575b4;stroke-opacity:0.7;stroke-width:0.3;\" x=\"70.794446\" y=\"22.402908\" xlink:href=\"#md2a15d687c\" />\n     <use style=\"fill:#4575b4;fill-opacity:0.7;stroke:#4575b4;stroke-opacity:0.7;stroke-width:0.3;\" x=\"70.794446\" y=\"33.217301\" xlink:href=\"#md2a15d687c\" />\n     <use style=\"fill:#4575b4;fill-opacity:0.7;stroke:#4575b4;stroke-opacity:0.7;stroke-width:0.3;\" x=\"42.886074\" y=\"27.679854\" xlink:href=\"#md2a15d687c\" />\n     <use style=\"fill:#4575b4;fill-opacity:0.7;stroke:#4575b4;stroke-opacity:0.7;stroke-width:0.3;\" x=\"42.886074\" y=\"30.131971\" xlink:href=\"#md2a15d687c\" />\n     <use style=\"fill:#4575b4;fill-opacity:0.7;stroke:#4575b4;stroke-opacity:0.7;stroke-width:0.3;\" x=\"42.886074\" y=\"23.641567\" xlink:href=\"#md2a15d687c\" />\n     <use style=\"fill:#4575b4;fill-opacity:0.7;stroke:#4575b4;stroke-opacity:0.7;stroke-width:0.3;\" x=\"70.794446\" y=\"27.788991\" xlink:href=\"#md2a15d687c\" />\n    </g>\n   </g>\n   <g id=\"patch_3\">\n    <path d=\"M 56.84026 59.796  L 54.32926 65.7756  L 59.35126 65.7756  z \" style=\"fill:#444443;\" />\n   </g>\n   <g id=\"matplotlib.axis_1\">\n    <g id=\"xtick_1\">\n     <g id=\"line2d_1\">\n      <defs>\n       <path d=\"M 0 0  L 0 3.5  \" id=\"mfc657ffe4d\" style=\"stroke:#444443;stroke-width:0.3;\" />\n      </defs>\n      <g>\n       <use style=\"fill:#444443;stroke:#444443;stroke-width:0.3;\" x=\"28.97375\" y=\"59.796\" xlink:href=\"#mfc657ffe4d\" />\n      </g>\n     </g>\n     <g id=\"text_1\">\n      \n      <defs>\n       <path d=\"M 31.78125 66.40625  Q 24.171875 66.40625 20.328125 58.90625  Q 16.5 51.421875 16.5 36.375  Q 16.5 21.390625 20.328125 13.890625  Q 24.171875 6.390625 31.78125 6.390625  Q 39.453125 6.390625 43.28125 13.890625  Q 47.125 21.390625 47.125 36.375  Q 47.125 51.421875 43.28125 58.90625  Q 39.453125 66.40625 31.78125 66.40625  z M 31.78125 74.21875  Q 44.046875 74.21875 50.515625 64.515625  Q 56.984375 54.828125 56.984375 36.375  Q 56.984375 17.96875 50.515625 8.265625  Q 44.046875 -1.421875 31.78125 -1.421875  Q 19.53125 -1.421875 13.0625 8.265625  Q 6.59375 17.96875 6.59375 36.375  Q 6.59375 54.828125 13.0625 64.515625  Q 19.53125 74.21875 31.78125 74.21875  z \" id=\"DejaVuSans-48\" />\n       <path d=\"M 10.6875 12.40625  L 21 12.40625  L 21 0  L 10.6875 0  z \" id=\"DejaVuSans-46\" />\n       <path d=\"M 40.578125 39.3125  Q 47.65625 37.796875 51.625 33  Q 55.609375 28.21875 55.609375 21.1875  Q 55.609375 10.40625 48.1875 4.484375  Q 40.765625 -1.421875 27.09375 -1.421875  Q 22.515625 -1.421875 17.65625 -0.515625  Q 12.796875 0.390625 7.625 2.203125  L 7.625 11.71875  Q 11.71875 9.328125 16.59375 8.109375  Q 21.484375 6.890625 26.8125 6.890625  Q 36.078125 6.890625 40.9375 10.546875  Q 45.796875 14.203125 45.796875 21.1875  Q 45.796875 27.640625 41.28125 31.265625  Q 36.765625 34.90625 28.71875 34.90625  L 20.21875 34.90625  L 20.21875 43.015625  L 29.109375 43.015625  Q 36.375 43.015625 40.234375 45.921875  Q 44.09375 48.828125 44.09375 54.296875  Q 44.09375 59.90625 40.109375 62.90625  Q 36.140625 65.921875 28.71875 65.921875  Q 24.65625 65.921875 20.015625 65.03125  Q 15.375 64.15625 9.8125 62.3125  L 9.8125 71.09375  Q 15.4375 72.65625 20.34375 73.4375  Q 25.25 74.21875 29.59375 74.21875  Q 40.828125 74.21875 47.359375 69.109375  Q 53.90625 64.015625 53.90625 55.328125  Q 53.90625 49.265625 50.4375 45.09375  Q 46.96875 40.921875 40.578125 39.3125  z \" id=\"DejaVuSans-51\" />\n      </defs>\n      <g style=\"fill:#444443;\" transform=\"translate(17.5225 72.87475)scale(0.08 -0.08)\">\n       <use xlink:href=\"#DejaVuSans-48\" />\n       <use x=\"63.623047\" xlink:href=\"#DejaVuSans-46\" />\n       <use x=\"95.410156\" xlink:href=\"#DejaVuSans-48\" />\n       <use x=\"159.033203\" xlink:href=\"#DejaVuSans-48\" />\n       <use x=\"222.65625\" xlink:href=\"#DejaVuSans-51\" />\n      </g>\n     </g>\n    </g>\n    <g id=\"xtick_2\">\n     <g id=\"line2d_2\">\n      <g>\n       <use style=\"fill:#444443;stroke:#444443;stroke-width:0.3;\" x=\"168.47375\" y=\"59.796\" xlink:href=\"#mfc657ffe4d\" />\n      </g>\n     </g>\n     <g id=\"text_2\">\n      \n      <defs>\n       <path d=\"M 12.40625 8.296875  L 28.515625 8.296875  L 28.515625 63.921875  L 10.984375 60.40625  L 10.984375 69.390625  L 28.421875 72.90625  L 38.28125 72.90625  L 38.28125 8.296875  L 54.390625 8.296875  L 54.390625 0  L 12.40625 0  z \" id=\"DejaVuSans-49\" />\n      </defs>\n      <g style=\"fill:#444443;\" transform=\"translate(154.4775 72.87475)scale(0.08 -0.08)\">\n       <use xlink:href=\"#DejaVuSans-49\" />\n       <use x=\"63.623047\" xlink:href=\"#DejaVuSans-48\" />\n       <use x=\"127.246094\" xlink:href=\"#DejaVuSans-46\" />\n       <use x=\"159.033203\" xlink:href=\"#DejaVuSans-48\" />\n       <use x=\"222.65625\" xlink:href=\"#DejaVuSans-48\" />\n       <use x=\"286.279297\" xlink:href=\"#DejaVuSans-48\" />\n      </g>\n     </g>\n    </g>\n    <g id=\"xtick_3\">\n     <g id=\"line2d_3\">\n      <g>\n       <use style=\"fill:#444443;stroke:#444443;stroke-width:0.3;\" x=\"56.84026\" y=\"59.796\" xlink:href=\"#mfc657ffe4d\" />\n      </g>\n     </g>\n     <g id=\"text_3\">\n      \n      <defs>\n       <path d=\"M 19.1875 8.296875  L 53.609375 8.296875  L 53.609375 0  L 7.328125 0  L 7.328125 8.296875  Q 12.9375 14.109375 22.625 23.890625  Q 32.328125 33.6875 34.8125 36.53125  Q 39.546875 41.84375 41.421875 45.53125  Q 43.3125 49.21875 43.3125 52.78125  Q 43.3125 58.59375 39.234375 62.25  Q 35.15625 65.921875 28.609375 65.921875  Q 23.96875 65.921875 18.8125 64.3125  Q 13.671875 62.703125 7.8125 59.421875  L 7.8125 69.390625  Q 13.765625 71.78125 18.9375 73  Q 24.125 74.21875 28.421875 74.21875  Q 39.75 74.21875 46.484375 68.546875  Q 53.21875 62.890625 53.21875 53.421875  Q 53.21875 48.921875 51.53125 44.890625  Q 49.859375 40.875 45.40625 35.40625  Q 44.1875 33.984375 37.640625 27.21875  Q 31.109375 20.453125 19.1875 8.296875  z \" id=\"DejaVuSans-50\" />\n      </defs>\n      <g style=\"fill:#444443;\" transform=\"translate(45.38901 72.87475)scale(0.08 -0.08)\">\n       <use xlink:href=\"#DejaVuSans-50\" />\n       <use x=\"63.623047\" xlink:href=\"#DejaVuSans-46\" />\n       <use x=\"95.410156\" xlink:href=\"#DejaVuSans-48\" />\n       <use x=\"159.033203\" xlink:href=\"#DejaVuSans-48\" />\n       <use x=\"222.65625\" xlink:href=\"#DejaVuSans-48\" />\n      </g>\n     </g>\n    </g>\n    <g id=\"text_4\">\n     \n     <defs>\n      <path d=\"M 9.8125 72.90625  L 24.515625 72.90625  L 43.109375 23.296875  L 61.8125 72.90625  L 76.515625 72.90625  L 76.515625 0  L 66.890625 0  L 66.890625 64.015625  L 48.09375 14.015625  L 38.1875 14.015625  L 19.390625 64.015625  L 19.390625 0  L 9.8125 0  z \" id=\"DejaVuSans-77\" />\n      <path d=\"M 34.28125 27.484375  Q 23.390625 27.484375 19.1875 25  Q 14.984375 22.515625 14.984375 16.5  Q 14.984375 11.71875 18.140625 8.90625  Q 21.296875 6.109375 26.703125 6.109375  Q 34.1875 6.109375 38.703125 11.40625  Q 43.21875 16.703125 43.21875 25.484375  L 43.21875 27.484375  z M 52.203125 31.203125  L 52.203125 0  L 43.21875 0  L 43.21875 8.296875  Q 40.140625 3.328125 35.546875 0.953125  Q 30.953125 -1.421875 24.3125 -1.421875  Q 15.921875 -1.421875 10.953125 3.296875  Q 6 8.015625 6 15.921875  Q 6 25.140625 12.171875 29.828125  Q 18.359375 34.515625 30.609375 34.515625  L 43.21875 34.515625  L 43.21875 35.40625  Q 43.21875 41.609375 39.140625 45  Q 35.0625 48.390625 27.6875 48.390625  Q 23 48.390625 18.546875 47.265625  Q 14.109375 46.140625 10.015625 43.890625  L 10.015625 52.203125  Q 14.9375 54.109375 19.578125 55.046875  Q 24.21875 56 28.609375 56  Q 40.484375 56 46.34375 49.84375  Q 52.203125 43.703125 52.203125 31.203125  z \" id=\"DejaVuSans-97\" />\n      <path d=\"M 54.890625 54.6875  L 35.109375 28.078125  L 55.90625 0  L 45.3125 0  L 29.390625 21.484375  L 13.484375 0  L 2.875 0  L 24.125 28.609375  L 4.6875 54.6875  L 15.28125 54.6875  L 29.78125 35.203125  L 44.28125 54.6875  z \" id=\"DejaVuSans-120\" />\n      <path id=\"DejaVuSans-32\" />\n      <path d=\"M 48.78125 52.59375  L 48.78125 44.1875  Q 44.96875 46.296875 41.140625 47.34375  Q 37.3125 48.390625 33.40625 48.390625  Q 24.65625 48.390625 19.8125 42.84375  Q 14.984375 37.3125 14.984375 27.296875  Q 14.984375 17.28125 19.8125 11.734375  Q 24.65625 6.203125 33.40625 6.203125  Q 37.3125 6.203125 41.140625 7.25  Q 44.96875 8.296875 48.78125 10.40625  L 48.78125 2.09375  Q 45.015625 0.34375 40.984375 -0.53125  Q 36.96875 -1.421875 32.421875 -1.421875  Q 20.0625 -1.421875 12.78125 6.34375  Q 5.515625 14.109375 5.515625 27.296875  Q 5.515625 40.671875 12.859375 48.328125  Q 20.21875 56 33.015625 56  Q 37.15625 56 41.109375 55.140625  Q 45.0625 54.296875 48.78125 52.59375  z \" id=\"DejaVuSans-99\" />\n      <path d=\"M 30.609375 48.390625  Q 23.390625 48.390625 19.1875 42.75  Q 14.984375 37.109375 14.984375 27.296875  Q 14.984375 17.484375 19.15625 11.84375  Q 23.34375 6.203125 30.609375 6.203125  Q 37.796875 6.203125 41.984375 11.859375  Q 46.1875 17.53125 46.1875 27.296875  Q 46.1875 37.015625 41.984375 42.703125  Q 37.796875 48.390625 30.609375 48.390625  z M 30.609375 56  Q 42.328125 56 49.015625 48.375  Q 55.71875 40.765625 55.71875 27.296875  Q 55.71875 13.875 49.015625 6.21875  Q 42.328125 -1.421875 30.609375 -1.421875  Q 18.84375 -1.421875 12.171875 6.21875  Q 5.515625 13.875 5.515625 27.296875  Q 5.515625 40.765625 12.171875 48.375  Q 18.84375 56 30.609375 56  z \" id=\"DejaVuSans-111\" />\n      <path d=\"M 54.890625 33.015625  L 54.890625 0  L 45.90625 0  L 45.90625 32.71875  Q 45.90625 40.484375 42.875 44.328125  Q 39.84375 48.1875 33.796875 48.1875  Q 26.515625 48.1875 22.3125 43.546875  Q 18.109375 38.921875 18.109375 30.90625  L 18.109375 0  L 9.078125 0  L 9.078125 54.6875  L 18.109375 54.6875  L 18.109375 46.1875  Q 21.34375 51.125 25.703125 53.5625  Q 30.078125 56 35.796875 56  Q 45.21875 56 50.046875 50.171875  Q 54.890625 44.34375 54.890625 33.015625  z \" id=\"DejaVuSans-110\" />\n      <path d=\"M 34.1875 63.1875  L 20.796875 26.90625  L 47.609375 26.90625  z M 28.609375 72.90625  L 39.796875 72.90625  L 67.578125 0  L 57.328125 0  L 50.6875 18.703125  L 17.828125 18.703125  L 11.1875 0  L 0.78125 0  z \" id=\"DejaVuSans-65\" />\n     </defs>\n     <g style=\"fill:#444443;\" transform=\"translate(66.883125 86.136937)scale(0.1 -0.1)\">\n      <use xlink:href=\"#DejaVuSans-77\" />\n      <use x=\"86.279297\" xlink:href=\"#DejaVuSans-97\" />\n      <use x=\"147.558594\" xlink:href=\"#DejaVuSans-120\" />\n      <use x=\"206.738281\" xlink:href=\"#DejaVuSans-46\" />\n      <use x=\"238.525391\" xlink:href=\"#DejaVuSans-32\" />\n      <use x=\"270.3125\" xlink:href=\"#DejaVuSans-99\" />\n      <use x=\"325.292969\" xlink:href=\"#DejaVuSans-111\" />\n      <use x=\"386.474609\" xlink:href=\"#DejaVuSans-110\" />\n      <use x=\"449.853516\" xlink:href=\"#DejaVuSans-99\" />\n      <use x=\"504.833984\" xlink:href=\"#DejaVuSans-46\" />\n      <use x=\"536.621094\" xlink:href=\"#DejaVuSans-32\" />\n      <use x=\"568.408203\" xlink:href=\"#DejaVuSans-65\" />\n     </g>\n    </g>\n   </g>\n   <g id=\"matplotlib.axis_2\">\n    <g id=\"ytick_1\">\n     <g id=\"line2d_4\">\n      <defs>\n       <path d=\"M 0 0  L -3.5 0  \" id=\"m083aba9ff1\" style=\"stroke:#444443;stroke-width:0.3;\" />\n      </defs>\n      <g>\n       <use style=\"fill:#444443;stroke:#444443;stroke-width:0.3;\" x=\"28.97375\" y=\"58.654943\" xlink:href=\"#m083aba9ff1\" />\n      </g>\n     </g>\n     <g id=\"text_5\">\n      \n      <defs>\n       <path d=\"M 10.59375 35.5  L 73.1875 35.5  L 73.1875 27.203125  L 10.59375 27.203125  z \" id=\"DejaVuSans-8722\" />\n      </defs>\n      <g style=\"fill:#444443;\" transform=\"translate(0 61.694318)scale(0.08 -0.08)\">\n       <use xlink:href=\"#DejaVuSans-8722\" />\n       <use x=\"83.789062\" xlink:href=\"#DejaVuSans-49\" />\n       <use x=\"147.412109\" xlink:href=\"#DejaVuSans-48\" />\n       <use x=\"211.035156\" xlink:href=\"#DejaVuSans-48\" />\n      </g>\n     </g>\n    </g>\n    <g id=\"ytick_2\">\n     <g id=\"line2d_5\">\n      <g>\n       <use style=\"fill:#444443;stroke:#444443;stroke-width:0.3;\" x=\"28.97375\" y=\"34.031334\" xlink:href=\"#m083aba9ff1\" />\n      </g>\n     </g>\n     <g id=\"text_6\">\n      \n      <g style=\"fill:#444443;\" transform=\"translate(16.88375 37.070709)scale(0.08 -0.08)\">\n       <use xlink:href=\"#DejaVuSans-48\" />\n      </g>\n     </g>\n    </g>\n    <g id=\"ytick_3\">\n     <g id=\"line2d_6\">\n      <g>\n       <use style=\"fill:#444443;stroke:#444443;stroke-width:0.3;\" x=\"28.97375\" y=\"9.407725\" xlink:href=\"#m083aba9ff1\" />\n      </g>\n     </g>\n     <g id=\"text_7\">\n      \n      <g style=\"fill:#444443;\" transform=\"translate(6.70375 12.4471)scale(0.08 -0.08)\">\n       <use xlink:href=\"#DejaVuSans-49\" />\n       <use x=\"63.623047\" xlink:href=\"#DejaVuSans-48\" />\n       <use x=\"127.246094\" xlink:href=\"#DejaVuSans-48\" />\n      </g>\n     </g>\n    </g>\n   </g>\n   <g id=\"line2d_7\">\n    <path clip-path=\"url(#pfa32e5266a)\" d=\"M 28.97375 30.422775  L 56.84026 30.422775  \" style=\"fill:none;stroke:#444443;stroke-dasharray:3.7,1.6;stroke-dashoffset:0;\" />\n   </g>\n   <g id=\"line2d_8\">\n    <path clip-path=\"url(#pfa32e5266a)\" d=\"M 56.84026 59.796  L 56.84026 -0  \" style=\"fill:none;stroke:#444443;stroke-dasharray:3.7,1.6;stroke-dashoffset:0;\" />\n   </g>\n   <g id=\"line2d_9\">\n    <path clip-path=\"url(#pfa32e5266a)\" d=\"M 56.84026 28.492305  L 168.47375 28.492305  \" style=\"fill:none;stroke:#444443;stroke-dasharray:3.7,1.6;stroke-dashoffset:0;\" />\n   </g>\n   <g id=\"patch_4\">\n    <path d=\"M 28.97375 59.796  L 28.97375 -0  \" style=\"fill:none;stroke:#000000;stroke-linecap:square;stroke-linejoin:miter;stroke-width:0.3;\" />\n   </g>\n   <g id=\"patch_5\">\n    <path d=\"M 28.97375 59.796  L 168.47375 59.796  \" style=\"fill:none;stroke:#000000;stroke-linecap:square;stroke-linejoin:miter;stroke-width:0.3;\" />\n   </g>\n  </g>\n </g>\n <defs>\n  <clipPath id=\"pfa32e5266a\">\n   <rect height=\"59.796\" width=\"139.5\" x=\"28.97375\" y=\"-0\" />\n  </clipPath>\n </defs>\n</svg></g>\n\n<g class=\"node\" id=\"node4\">\n<title>leaf5</title>\n<polygon fill=\"none\" points=\"589,-199 500,-199 500,-141 589,-141 589,-199\" stroke=\"#444443\" stroke-width=\"0\" />\n<svg height=\"50px\" preserveAspectRatio=\"xMinYMin meet\" version=\"1.1\" viewBox=\"0 0 108.0125 66.113937\" width=\"81px\" x=\"504.5\" y=\"-195\">\n <defs>\n  <style type=\"text/css\">\n*{stroke-linecap:butt;stroke-linejoin:round;}\n  </style>\n </defs>\n <g id=\"figure_1\">\n  <g id=\"patch_1\">\n   <path d=\"M 0 66.113937  L 108.0125 66.113937  L 108.0125 0  L 0 0  z \" style=\"fill:#ffffff;\" />\n  </g>\n  <g id=\"axes_1\">\n   <g id=\"patch_2\">\n    <path d=\"M 32.58125 43.488  L 74.43125 43.488  L 74.43125 -0  L 32.58125 -0  z \" style=\"fill:#ffffff;\" />\n   </g>\n   <g id=\"PathCollection_1\">\n    <defs>\n     <path d=\"M 0 1.118034  C 0.296506 1.118034 0.580908 1.000231 0.790569 0.790569  C 1.000231 0.580908 1.118034 0.296506 1.118034 0  C 1.118034 -0.296506 1.000231 -0.580908 0.790569 -0.790569  C 0.580908 -1.000231 0.296506 -1.118034 0 -1.118034  C -0.296506 -1.118034 -0.580908 -1.000231 -0.790569 -0.790569  C -1.000231 -0.580908 -1.118034 -0.296506 -1.118034 0  C -1.118034 0.296506 -1.000231 0.580908 -0.790569 0.790569  C -0.580908 1.000231 -0.296506 1.118034 0 1.118034  z \" id=\"m6155c7df75\" style=\"stroke:#4575b4;stroke-opacity:0.7;stroke-width:0.3;\" />\n    </defs>\n    <g clip-path=\"url(#pc9f21786a9)\">\n     <use style=\"fill:#4575b4;fill-opacity:0.7;stroke:#4575b4;stroke-opacity:0.7;stroke-width:0.3;\" x=\"57.845469\" y=\"25.285152\" xlink:href=\"#m6155c7df75\" />\n     <use style=\"fill:#4575b4;fill-opacity:0.7;stroke:#4575b4;stroke-opacity:0.7;stroke-width:0.3;\" x=\"49.799489\" y=\"15.089798\" xlink:href=\"#m6155c7df75\" />\n     <use style=\"fill:#4575b4;fill-opacity:0.7;stroke:#4575b4;stroke-opacity:0.7;stroke-width:0.3;\" x=\"52.282536\" y=\"38.76364\" xlink:href=\"#m6155c7df75\" />\n     <use style=\"fill:#4575b4;fill-opacity:0.7;stroke:#4575b4;stroke-opacity:0.7;stroke-width:0.3;\" x=\"52.9997\" y=\"21.471126\" xlink:href=\"#m6155c7df75\" />\n     <use style=\"fill:#4575b4;fill-opacity:0.7;stroke:#4575b4;stroke-opacity:0.7;stroke-width:0.3;\" x=\"48.833148\" y=\"22.640505\" xlink:href=\"#m6155c7df75\" />\n     <use style=\"fill:#4575b4;fill-opacity:0.7;stroke:#4575b4;stroke-opacity:0.7;stroke-width:0.3;\" x=\"55.486087\" y=\"27.242681\" xlink:href=\"#m6155c7df75\" />\n     <use style=\"fill:#4575b4;fill-opacity:0.7;stroke:#4575b4;stroke-opacity:0.7;stroke-width:0.3;\" x=\"51.08233\" y=\"21.075902\" xlink:href=\"#m6155c7df75\" />\n     <use style=\"fill:#4575b4;fill-opacity:0.7;stroke:#4575b4;stroke-opacity:0.7;stroke-width:0.3;\" x=\"52.852083\" y=\"23.355698\" xlink:href=\"#m6155c7df75\" />\n     <use style=\"fill:#4575b4;fill-opacity:0.7;stroke:#4575b4;stroke-opacity:0.7;stroke-width:0.3;\" x=\"51.993124\" y=\"17.123796\" xlink:href=\"#m6155c7df75\" />\n     <use style=\"fill:#4575b4;fill-opacity:0.7;stroke:#4575b4;stroke-opacity:0.7;stroke-width:0.3;\" x=\"50.863545\" y=\"21.660332\" xlink:href=\"#m6155c7df75\" />\n     <use style=\"fill:#4575b4;fill-opacity:0.7;stroke:#4575b4;stroke-opacity:0.7;stroke-width:0.3;\" x=\"53.482663\" y=\"21.673519\" xlink:href=\"#m6155c7df75\" />\n     <use style=\"fill:#4575b4;fill-opacity:0.7;stroke:#4575b4;stroke-opacity:0.7;stroke-width:0.3;\" x=\"52.784389\" y=\"18.87052\" xlink:href=\"#m6155c7df75\" />\n     <use style=\"fill:#4575b4;fill-opacity:0.7;stroke:#4575b4;stroke-opacity:0.7;stroke-width:0.3;\" x=\"52.26127\" y=\"28.096325\" xlink:href=\"#m6155c7df75\" />\n     <use style=\"fill:#4575b4;fill-opacity:0.7;stroke:#4575b4;stroke-opacity:0.7;stroke-width:0.3;\" x=\"51.06736\" y=\"23.725305\" xlink:href=\"#m6155c7df75\" />\n     <use style=\"fill:#4575b4;fill-opacity:0.7;stroke:#4575b4;stroke-opacity:0.7;stroke-width:0.3;\" x=\"54.576019\" y=\"23.859972\" xlink:href=\"#m6155c7df75\" />\n     <use style=\"fill:#4575b4;fill-opacity:0.7;stroke:#4575b4;stroke-opacity:0.7;stroke-width:0.3;\" x=\"59.042561\" y=\"24.575543\" xlink:href=\"#m6155c7df75\" />\n     <use style=\"fill:#4575b4;fill-opacity:0.7;stroke:#4575b4;stroke-opacity:0.7;stroke-width:0.3;\" x=\"53.974592\" y=\"16.60088\" xlink:href=\"#m6155c7df75\" />\n     <use style=\"fill:#4575b4;fill-opacity:0.7;stroke:#4575b4;stroke-opacity:0.7;stroke-width:0.3;\" x=\"56.841254\" y=\"22.814289\" xlink:href=\"#m6155c7df75\" />\n     <use style=\"fill:#4575b4;fill-opacity:0.7;stroke:#4575b4;stroke-opacity:0.7;stroke-width:0.3;\" x=\"48.851787\" y=\"25.192132\" xlink:href=\"#m6155c7df75\" />\n     <use style=\"fill:#4575b4;fill-opacity:0.7;stroke:#4575b4;stroke-opacity:0.7;stroke-width:0.3;\" x=\"54.034435\" y=\"21.886034\" xlink:href=\"#m6155c7df75\" />\n     <use style=\"fill:#4575b4;fill-opacity:0.7;stroke:#4575b4;stroke-opacity:0.7;stroke-width:0.3;\" x=\"49.832261\" y=\"25.078763\" xlink:href=\"#m6155c7df75\" />\n     <use style=\"fill:#4575b4;fill-opacity:0.7;stroke:#4575b4;stroke-opacity:0.7;stroke-width:0.3;\" x=\"48.561505\" y=\"23.895862\" xlink:href=\"#m6155c7df75\" />\n     <use style=\"fill:#4575b4;fill-opacity:0.7;stroke:#4575b4;stroke-opacity:0.7;stroke-width:0.3;\" x=\"51.030835\" y=\"15.737892\" xlink:href=\"#m6155c7df75\" />\n     <use style=\"fill:#4575b4;fill-opacity:0.7;stroke:#4575b4;stroke-opacity:0.7;stroke-width:0.3;\" x=\"57.496729\" y=\"13.929739\" xlink:href=\"#m6155c7df75\" />\n     <use style=\"fill:#4575b4;fill-opacity:0.7;stroke:#4575b4;stroke-opacity:0.7;stroke-width:0.3;\" x=\"56.686903\" y=\"18.319026\" xlink:href=\"#m6155c7df75\" />\n     <use style=\"fill:#4575b4;fill-opacity:0.7;stroke:#4575b4;stroke-opacity:0.7;stroke-width:0.3;\" x=\"54.31983\" y=\"22.569874\" xlink:href=\"#m6155c7df75\" />\n     <use style=\"fill:#4575b4;fill-opacity:0.7;stroke:#4575b4;stroke-opacity:0.7;stroke-width:0.3;\" x=\"48.374769\" y=\"16.852031\" xlink:href=\"#m6155c7df75\" />\n     <use style=\"fill:#4575b4;fill-opacity:0.7;stroke:#4575b4;stroke-opacity:0.7;stroke-width:0.3;\" x=\"52.849102\" y=\"18.892837\" xlink:href=\"#m6155c7df75\" />\n     <use style=\"fill:#4575b4;fill-opacity:0.7;stroke:#4575b4;stroke-opacity:0.7;stroke-width:0.3;\" x=\"54.516342\" y=\"26.680142\" xlink:href=\"#m6155c7df75\" />\n     <use style=\"fill:#4575b4;fill-opacity:0.7;stroke:#4575b4;stroke-opacity:0.7;stroke-width:0.3;\" x=\"54.093945\" y=\"23.992423\" xlink:href=\"#m6155c7df75\" />\n     <use style=\"fill:#4575b4;fill-opacity:0.7;stroke:#4575b4;stroke-opacity:0.7;stroke-width:0.3;\" x=\"47.333229\" y=\"19.098035\" xlink:href=\"#m6155c7df75\" />\n     <use style=\"fill:#4575b4;fill-opacity:0.7;stroke:#4575b4;stroke-opacity:0.7;stroke-width:0.3;\" x=\"50.525466\" y=\"23.879297\" xlink:href=\"#m6155c7df75\" />\n     <use style=\"fill:#4575b4;fill-opacity:0.7;stroke:#4575b4;stroke-opacity:0.7;stroke-width:0.3;\" x=\"53.291718\" y=\"8.11769\" xlink:href=\"#m6155c7df75\" />\n     <use style=\"fill:#4575b4;fill-opacity:0.7;stroke:#4575b4;stroke-opacity:0.7;stroke-width:0.3;\" x=\"55.301752\" y=\"24.173407\" xlink:href=\"#m6155c7df75\" />\n     <use style=\"fill:#4575b4;fill-opacity:0.7;stroke:#4575b4;stroke-opacity:0.7;stroke-width:0.3;\" x=\"46.153614\" y=\"29.458539\" xlink:href=\"#m6155c7df75\" />\n     <use style=\"fill:#4575b4;fill-opacity:0.7;stroke:#4575b4;stroke-opacity:0.7;stroke-width:0.3;\" x=\"52.963459\" y=\"23.65226\" xlink:href=\"#m6155c7df75\" />\n     <use style=\"fill:#4575b4;fill-opacity:0.7;stroke:#4575b4;stroke-opacity:0.7;stroke-width:0.3;\" x=\"53.985177\" y=\"17.648745\" xlink:href=\"#m6155c7df75\" />\n     <use style=\"fill:#4575b4;fill-opacity:0.7;stroke:#4575b4;stroke-opacity:0.7;stroke-width:0.3;\" x=\"56.350751\" y=\"25.995312\" xlink:href=\"#m6155c7df75\" />\n     <use style=\"fill:#4575b4;fill-opacity:0.7;stroke:#4575b4;stroke-opacity:0.7;stroke-width:0.3;\" x=\"55.825937\" y=\"22.363831\" xlink:href=\"#m6155c7df75\" />\n     <use style=\"fill:#4575b4;fill-opacity:0.7;stroke:#4575b4;stroke-opacity:0.7;stroke-width:0.3;\" x=\"55.456699\" y=\"21.228903\" xlink:href=\"#m6155c7df75\" />\n     <use style=\"fill:#4575b4;fill-opacity:0.7;stroke:#4575b4;stroke-opacity:0.7;stroke-width:0.3;\" x=\"50.828049\" y=\"20.803496\" xlink:href=\"#m6155c7df75\" />\n     <use style=\"fill:#4575b4;fill-opacity:0.7;stroke:#4575b4;stroke-opacity:0.7;stroke-width:0.3;\" x=\"47.118259\" y=\"21.469435\" xlink:href=\"#m6155c7df75\" />\n     <use style=\"fill:#4575b4;fill-opacity:0.7;stroke:#4575b4;stroke-opacity:0.7;stroke-width:0.3;\" x=\"52.190309\" y=\"22.843975\" xlink:href=\"#m6155c7df75\" />\n     <use style=\"fill:#4575b4;fill-opacity:0.7;stroke:#4575b4;stroke-opacity:0.7;stroke-width:0.3;\" x=\"56.859713\" y=\"20.819084\" xlink:href=\"#m6155c7df75\" />\n     <use style=\"fill:#4575b4;fill-opacity:0.7;stroke:#4575b4;stroke-opacity:0.7;stroke-width:0.3;\" x=\"58.171536\" y=\"15.147922\" xlink:href=\"#m6155c7df75\" />\n     <use style=\"fill:#4575b4;fill-opacity:0.7;stroke:#4575b4;stroke-opacity:0.7;stroke-width:0.3;\" x=\"55.885168\" y=\"23.491467\" xlink:href=\"#m6155c7df75\" />\n     <use style=\"fill:#4575b4;fill-opacity:0.7;stroke:#4575b4;stroke-opacity:0.7;stroke-width:0.3;\" x=\"54.943683\" y=\"23.969824\" xlink:href=\"#m6155c7df75\" />\n     <use style=\"fill:#4575b4;fill-opacity:0.7;stroke:#4575b4;stroke-opacity:0.7;stroke-width:0.3;\" x=\"54.777284\" y=\"27.382241\" xlink:href=\"#m6155c7df75\" />\n     <use style=\"fill:#4575b4;fill-opacity:0.7;stroke:#4575b4;stroke-opacity:0.7;stroke-width:0.3;\" x=\"51.644364\" y=\"24.861847\" xlink:href=\"#m6155c7df75\" />\n     <use style=\"fill:#4575b4;fill-opacity:0.7;stroke:#4575b4;stroke-opacity:0.7;stroke-width:0.3;\" x=\"53.070808\" y=\"24.482081\" xlink:href=\"#m6155c7df75\" />\n     <use style=\"fill:#4575b4;fill-opacity:0.7;stroke:#4575b4;stroke-opacity:0.7;stroke-width:0.3;\" x=\"59.094295\" y=\"23.938063\" xlink:href=\"#m6155c7df75\" />\n     <use style=\"fill:#4575b4;fill-opacity:0.7;stroke:#4575b4;stroke-opacity:0.7;stroke-width:0.3;\" x=\"50.350566\" y=\"22.043625\" xlink:href=\"#m6155c7df75\" />\n     <use style=\"fill:#4575b4;fill-opacity:0.7;stroke:#4575b4;stroke-opacity:0.7;stroke-width:0.3;\" x=\"58.912529\" y=\"16.018468\" xlink:href=\"#m6155c7df75\" />\n     <use style=\"fill:#4575b4;fill-opacity:0.7;stroke:#4575b4;stroke-opacity:0.7;stroke-width:0.3;\" x=\"52.4281\" y=\"24.212558\" xlink:href=\"#m6155c7df75\" />\n     <use style=\"fill:#4575b4;fill-opacity:0.7;stroke:#4575b4;stroke-opacity:0.7;stroke-width:0.3;\" x=\"57.943797\" y=\"19.587978\" xlink:href=\"#m6155c7df75\" />\n     <use style=\"fill:#4575b4;fill-opacity:0.7;stroke:#4575b4;stroke-opacity:0.7;stroke-width:0.3;\" x=\"48.796233\" y=\"25.50452\" xlink:href=\"#m6155c7df75\" />\n     <use style=\"fill:#4575b4;fill-opacity:0.7;stroke:#4575b4;stroke-opacity:0.7;stroke-width:0.3;\" x=\"55.467857\" y=\"18.308242\" xlink:href=\"#m6155c7df75\" />\n     <use style=\"fill:#4575b4;fill-opacity:0.7;stroke:#4575b4;stroke-opacity:0.7;stroke-width:0.3;\" x=\"51.039544\" y=\"17.995925\" xlink:href=\"#m6155c7df75\" />\n     <use style=\"fill:#4575b4;fill-opacity:0.7;stroke:#4575b4;stroke-opacity:0.7;stroke-width:0.3;\" x=\"48.767935\" y=\"21.886641\" xlink:href=\"#m6155c7df75\" />\n     <use style=\"fill:#4575b4;fill-opacity:0.7;stroke:#4575b4;stroke-opacity:0.7;stroke-width:0.3;\" x=\"54.237902\" y=\"19.879128\" xlink:href=\"#m6155c7df75\" />\n     <use style=\"fill:#4575b4;fill-opacity:0.7;stroke:#4575b4;stroke-opacity:0.7;stroke-width:0.3;\" x=\"56.885962\" y=\"24.169196\" xlink:href=\"#m6155c7df75\" />\n     <use style=\"fill:#4575b4;fill-opacity:0.7;stroke:#4575b4;stroke-opacity:0.7;stroke-width:0.3;\" x=\"50.677386\" y=\"24.907602\" xlink:href=\"#m6155c7df75\" />\n     <use style=\"fill:#4575b4;fill-opacity:0.7;stroke:#4575b4;stroke-opacity:0.7;stroke-width:0.3;\" x=\"48.487545\" y=\"20.584348\" xlink:href=\"#m6155c7df75\" />\n     <use style=\"fill:#4575b4;fill-opacity:0.7;stroke:#4575b4;stroke-opacity:0.7;stroke-width:0.3;\" x=\"53.198754\" y=\"23.44604\" xlink:href=\"#m6155c7df75\" />\n     <use style=\"fill:#4575b4;fill-opacity:0.7;stroke:#4575b4;stroke-opacity:0.7;stroke-width:0.3;\" x=\"53.213517\" y=\"25.817155\" xlink:href=\"#m6155c7df75\" />\n     <use style=\"fill:#4575b4;fill-opacity:0.7;stroke:#4575b4;stroke-opacity:0.7;stroke-width:0.3;\" x=\"55.342024\" y=\"23.190791\" xlink:href=\"#m6155c7df75\" />\n     <use style=\"fill:#4575b4;fill-opacity:0.7;stroke:#4575b4;stroke-opacity:0.7;stroke-width:0.3;\" x=\"56.685493\" y=\"19.192611\" xlink:href=\"#m6155c7df75\" />\n     <use style=\"fill:#4575b4;fill-opacity:0.7;stroke:#4575b4;stroke-opacity:0.7;stroke-width:0.3;\" x=\"53.307328\" y=\"24.684393\" xlink:href=\"#m6155c7df75\" />\n     <use style=\"fill:#4575b4;fill-opacity:0.7;stroke:#4575b4;stroke-opacity:0.7;stroke-width:0.3;\" x=\"59.718475\" y=\"15.440487\" xlink:href=\"#m6155c7df75\" />\n     <use style=\"fill:#4575b4;fill-opacity:0.7;stroke:#4575b4;stroke-opacity:0.7;stroke-width:0.3;\" x=\"54.256988\" y=\"23.730232\" xlink:href=\"#m6155c7df75\" />\n     <use style=\"fill:#4575b4;fill-opacity:0.7;stroke:#4575b4;stroke-opacity:0.7;stroke-width:0.3;\" x=\"52.346414\" y=\"23.556466\" xlink:href=\"#m6155c7df75\" />\n     <use style=\"fill:#4575b4;fill-opacity:0.7;stroke:#4575b4;stroke-opacity:0.7;stroke-width:0.3;\" x=\"48.110722\" y=\"29.168674\" xlink:href=\"#m6155c7df75\" />\n     <use style=\"fill:#4575b4;fill-opacity:0.7;stroke:#4575b4;stroke-opacity:0.7;stroke-width:0.3;\" x=\"52.626866\" y=\"23.639354\" xlink:href=\"#m6155c7df75\" />\n     <use style=\"fill:#4575b4;fill-opacity:0.7;stroke:#4575b4;stroke-opacity:0.7;stroke-width:0.3;\" x=\"52.380027\" y=\"16.619299\" xlink:href=\"#m6155c7df75\" />\n     <use style=\"fill:#4575b4;fill-opacity:0.7;stroke:#4575b4;stroke-opacity:0.7;stroke-width:0.3;\" x=\"56.72135\" y=\"18.983907\" xlink:href=\"#m6155c7df75\" />\n     <use style=\"fill:#4575b4;fill-opacity:0.7;stroke:#4575b4;stroke-opacity:0.7;stroke-width:0.3;\" x=\"55.054645\" y=\"32.378453\" xlink:href=\"#m6155c7df75\" />\n     <use style=\"fill:#4575b4;fill-opacity:0.7;stroke:#4575b4;stroke-opacity:0.7;stroke-width:0.3;\" x=\"49.557722\" y=\"24.278099\" xlink:href=\"#m6155c7df75\" />\n     <use style=\"fill:#4575b4;fill-opacity:0.7;stroke:#4575b4;stroke-opacity:0.7;stroke-width:0.3;\" x=\"54.082958\" y=\"17.810682\" xlink:href=\"#m6155c7df75\" />\n     <use style=\"fill:#4575b4;fill-opacity:0.7;stroke:#4575b4;stroke-opacity:0.7;stroke-width:0.3;\" x=\"55.754536\" y=\"23.101824\" xlink:href=\"#m6155c7df75\" />\n     <use style=\"fill:#4575b4;fill-opacity:0.7;stroke:#4575b4;stroke-opacity:0.7;stroke-width:0.3;\" x=\"58.622099\" y=\"23.509427\" xlink:href=\"#m6155c7df75\" />\n     <use style=\"fill:#4575b4;fill-opacity:0.7;stroke:#4575b4;stroke-opacity:0.7;stroke-width:0.3;\" x=\"56.477613\" y=\"15.074831\" xlink:href=\"#m6155c7df75\" />\n     <use style=\"fill:#4575b4;fill-opacity:0.7;stroke:#4575b4;stroke-opacity:0.7;stroke-width:0.3;\" x=\"56.053565\" y=\"18.184848\" xlink:href=\"#m6155c7df75\" />\n     <use style=\"fill:#4575b4;fill-opacity:0.7;stroke:#4575b4;stroke-opacity:0.7;stroke-width:0.3;\" x=\"53.707418\" y=\"19.672735\" xlink:href=\"#m6155c7df75\" />\n     <use style=\"fill:#4575b4;fill-opacity:0.7;stroke:#4575b4;stroke-opacity:0.7;stroke-width:0.3;\" x=\"54.806319\" y=\"22.651137\" xlink:href=\"#m6155c7df75\" />\n     <use style=\"fill:#4575b4;fill-opacity:0.7;stroke:#4575b4;stroke-opacity:0.7;stroke-width:0.3;\" x=\"57.689592\" y=\"18.487018\" xlink:href=\"#m6155c7df75\" />\n     <use style=\"fill:#4575b4;fill-opacity:0.7;stroke:#4575b4;stroke-opacity:0.7;stroke-width:0.3;\" x=\"49.044111\" y=\"31.30106\" xlink:href=\"#m6155c7df75\" />\n     <use style=\"fill:#4575b4;fill-opacity:0.7;stroke:#4575b4;stroke-opacity:0.7;stroke-width:0.3;\" x=\"52.336327\" y=\"20.200146\" xlink:href=\"#m6155c7df75\" />\n     <use style=\"fill:#4575b4;fill-opacity:0.7;stroke:#4575b4;stroke-opacity:0.7;stroke-width:0.3;\" x=\"50.91969\" y=\"22.016765\" xlink:href=\"#m6155c7df75\" />\n     <use style=\"fill:#4575b4;fill-opacity:0.7;stroke:#4575b4;stroke-opacity:0.7;stroke-width:0.3;\" x=\"54.775655\" y=\"22.330497\" xlink:href=\"#m6155c7df75\" />\n     <use style=\"fill:#4575b4;fill-opacity:0.7;stroke:#4575b4;stroke-opacity:0.7;stroke-width:0.3;\" x=\"57.625034\" y=\"24.441372\" xlink:href=\"#m6155c7df75\" />\n     <use style=\"fill:#4575b4;fill-opacity:0.7;stroke:#4575b4;stroke-opacity:0.7;stroke-width:0.3;\" x=\"51.50758\" y=\"27.19176\" xlink:href=\"#m6155c7df75\" />\n     <use style=\"fill:#4575b4;fill-opacity:0.7;stroke:#4575b4;stroke-opacity:0.7;stroke-width:0.3;\" x=\"45.503511\" y=\"25.846866\" xlink:href=\"#m6155c7df75\" />\n     <use style=\"fill:#4575b4;fill-opacity:0.7;stroke:#4575b4;stroke-opacity:0.7;stroke-width:0.3;\" x=\"52.126135\" y=\"22.343147\" xlink:href=\"#m6155c7df75\" />\n     <use style=\"fill:#4575b4;fill-opacity:0.7;stroke:#4575b4;stroke-opacity:0.7;stroke-width:0.3;\" x=\"56.56456\" y=\"23.251199\" xlink:href=\"#m6155c7df75\" />\n     <use style=\"fill:#4575b4;fill-opacity:0.7;stroke:#4575b4;stroke-opacity:0.7;stroke-width:0.3;\" x=\"55.306235\" y=\"23.714818\" xlink:href=\"#m6155c7df75\" />\n     <use style=\"fill:#4575b4;fill-opacity:0.7;stroke:#4575b4;stroke-opacity:0.7;stroke-width:0.3;\" x=\"54.939818\" y=\"20.698972\" xlink:href=\"#m6155c7df75\" />\n     <use style=\"fill:#4575b4;fill-opacity:0.7;stroke:#4575b4;stroke-opacity:0.7;stroke-width:0.3;\" x=\"52.568832\" y=\"24.552629\" xlink:href=\"#m6155c7df75\" />\n     <use style=\"fill:#4575b4;fill-opacity:0.7;stroke:#4575b4;stroke-opacity:0.7;stroke-width:0.3;\" x=\"49.224055\" y=\"23.009671\" xlink:href=\"#m6155c7df75\" />\n     <use style=\"fill:#4575b4;fill-opacity:0.7;stroke:#4575b4;stroke-opacity:0.7;stroke-width:0.3;\" x=\"55.231455\" y=\"19.866379\" xlink:href=\"#m6155c7df75\" />\n     <use style=\"fill:#4575b4;fill-opacity:0.7;stroke:#4575b4;stroke-opacity:0.7;stroke-width:0.3;\" x=\"50.713075\" y=\"22.689489\" xlink:href=\"#m6155c7df75\" />\n     <use style=\"fill:#4575b4;fill-opacity:0.7;stroke:#4575b4;stroke-opacity:0.7;stroke-width:0.3;\" x=\"60.818606\" y=\"23.961692\" xlink:href=\"#m6155c7df75\" />\n     <use style=\"fill:#4575b4;fill-opacity:0.7;stroke:#4575b4;stroke-opacity:0.7;stroke-width:0.3;\" x=\"55.416308\" y=\"19.28095\" xlink:href=\"#m6155c7df75\" />\n     <use style=\"fill:#4575b4;fill-opacity:0.7;stroke:#4575b4;stroke-opacity:0.7;stroke-width:0.3;\" x=\"51.562239\" y=\"24.282563\" xlink:href=\"#m6155c7df75\" />\n     <use style=\"fill:#4575b4;fill-opacity:0.7;stroke:#4575b4;stroke-opacity:0.7;stroke-width:0.3;\" x=\"51.459332\" y=\"19.72019\" xlink:href=\"#m6155c7df75\" />\n     <use style=\"fill:#4575b4;fill-opacity:0.7;stroke:#4575b4;stroke-opacity:0.7;stroke-width:0.3;\" x=\"53.195073\" y=\"22.188889\" xlink:href=\"#m6155c7df75\" />\n     <use style=\"fill:#4575b4;fill-opacity:0.7;stroke:#4575b4;stroke-opacity:0.7;stroke-width:0.3;\" x=\"52.704398\" y=\"24.154339\" xlink:href=\"#m6155c7df75\" />\n     <use style=\"fill:#4575b4;fill-opacity:0.7;stroke:#4575b4;stroke-opacity:0.7;stroke-width:0.3;\" x=\"57.245409\" y=\"19.656729\" xlink:href=\"#m6155c7df75\" />\n     <use style=\"fill:#4575b4;fill-opacity:0.7;stroke:#4575b4;stroke-opacity:0.7;stroke-width:0.3;\" x=\"54.130371\" y=\"20.88976\" xlink:href=\"#m6155c7df75\" />\n     <use style=\"fill:#4575b4;fill-opacity:0.7;stroke:#4575b4;stroke-opacity:0.7;stroke-width:0.3;\" x=\"51.056747\" y=\"17.778422\" xlink:href=\"#m6155c7df75\" />\n     <use style=\"fill:#4575b4;fill-opacity:0.7;stroke:#4575b4;stroke-opacity:0.7;stroke-width:0.3;\" x=\"59.835445\" y=\"27.947776\" xlink:href=\"#m6155c7df75\" />\n     <use style=\"fill:#4575b4;fill-opacity:0.7;stroke:#4575b4;stroke-opacity:0.7;stroke-width:0.3;\" x=\"53.671334\" y=\"10.244678\" xlink:href=\"#m6155c7df75\" />\n     <use style=\"fill:#4575b4;fill-opacity:0.7;stroke:#4575b4;stroke-opacity:0.7;stroke-width:0.3;\" x=\"56.080325\" y=\"22.176167\" xlink:href=\"#m6155c7df75\" />\n     <use style=\"fill:#4575b4;fill-opacity:0.7;stroke:#4575b4;stroke-opacity:0.7;stroke-width:0.3;\" x=\"51.469908\" y=\"21.052429\" xlink:href=\"#m6155c7df75\" />\n     <use style=\"fill:#4575b4;fill-opacity:0.7;stroke:#4575b4;stroke-opacity:0.7;stroke-width:0.3;\" x=\"54.721961\" y=\"21.594374\" xlink:href=\"#m6155c7df75\" />\n     <use style=\"fill:#4575b4;fill-opacity:0.7;stroke:#4575b4;stroke-opacity:0.7;stroke-width:0.3;\" x=\"54.547846\" y=\"27.000181\" xlink:href=\"#m6155c7df75\" />\n     <use style=\"fill:#4575b4;fill-opacity:0.7;stroke:#4575b4;stroke-opacity:0.7;stroke-width:0.3;\" x=\"47.179704\" y=\"13.643128\" xlink:href=\"#m6155c7df75\" />\n     <use style=\"fill:#4575b4;fill-opacity:0.7;stroke:#4575b4;stroke-opacity:0.7;stroke-width:0.3;\" x=\"60.253391\" y=\"25.235478\" xlink:href=\"#m6155c7df75\" />\n     <use style=\"fill:#4575b4;fill-opacity:0.7;stroke:#4575b4;stroke-opacity:0.7;stroke-width:0.3;\" x=\"57.827328\" y=\"25.420374\" xlink:href=\"#m6155c7df75\" />\n     <use style=\"fill:#4575b4;fill-opacity:0.7;stroke:#4575b4;stroke-opacity:0.7;stroke-width:0.3;\" x=\"52.17644\" y=\"21.623083\" xlink:href=\"#m6155c7df75\" />\n     <use style=\"fill:#4575b4;fill-opacity:0.7;stroke:#4575b4;stroke-opacity:0.7;stroke-width:0.3;\" x=\"49.815851\" y=\"20.803145\" xlink:href=\"#m6155c7df75\" />\n     <use style=\"fill:#4575b4;fill-opacity:0.7;stroke:#4575b4;stroke-opacity:0.7;stroke-width:0.3;\" x=\"54.669886\" y=\"21.908559\" xlink:href=\"#m6155c7df75\" />\n     <use style=\"fill:#4575b4;fill-opacity:0.7;stroke:#4575b4;stroke-opacity:0.7;stroke-width:0.3;\" x=\"53.796514\" y=\"24.435432\" xlink:href=\"#m6155c7df75\" />\n     <use style=\"fill:#4575b4;fill-opacity:0.7;stroke:#4575b4;stroke-opacity:0.7;stroke-width:0.3;\" x=\"54.69703\" y=\"26.734624\" xlink:href=\"#m6155c7df75\" />\n     <use style=\"fill:#4575b4;fill-opacity:0.7;stroke:#4575b4;stroke-opacity:0.7;stroke-width:0.3;\" x=\"54.147651\" y=\"21.32943\" xlink:href=\"#m6155c7df75\" />\n     <use style=\"fill:#4575b4;fill-opacity:0.7;stroke:#4575b4;stroke-opacity:0.7;stroke-width:0.3;\" x=\"55.201145\" y=\"26.238334\" xlink:href=\"#m6155c7df75\" />\n     <use style=\"fill:#4575b4;fill-opacity:0.7;stroke:#4575b4;stroke-opacity:0.7;stroke-width:0.3;\" x=\"58.351829\" y=\"22.881724\" xlink:href=\"#m6155c7df75\" />\n     <use style=\"fill:#4575b4;fill-opacity:0.7;stroke:#4575b4;stroke-opacity:0.7;stroke-width:0.3;\" x=\"55.40826\" y=\"22.878869\" xlink:href=\"#m6155c7df75\" />\n     <use style=\"fill:#4575b4;fill-opacity:0.7;stroke:#4575b4;stroke-opacity:0.7;stroke-width:0.3;\" x=\"49.992003\" y=\"26.49855\" xlink:href=\"#m6155c7df75\" />\n     <use style=\"fill:#4575b4;fill-opacity:0.7;stroke:#4575b4;stroke-opacity:0.7;stroke-width:0.3;\" x=\"58.06811\" y=\"22.963323\" xlink:href=\"#m6155c7df75\" />\n     <use style=\"fill:#4575b4;fill-opacity:0.7;stroke:#4575b4;stroke-opacity:0.7;stroke-width:0.3;\" x=\"58.999028\" y=\"21.649297\" xlink:href=\"#m6155c7df75\" />\n     <use style=\"fill:#4575b4;fill-opacity:0.7;stroke:#4575b4;stroke-opacity:0.7;stroke-width:0.3;\" x=\"64.059336\" y=\"18.65883\" xlink:href=\"#m6155c7df75\" />\n     <use style=\"fill:#4575b4;fill-opacity:0.7;stroke:#4575b4;stroke-opacity:0.7;stroke-width:0.3;\" x=\"49.744792\" y=\"25.978652\" xlink:href=\"#m6155c7df75\" />\n     <use style=\"fill:#4575b4;fill-opacity:0.7;stroke:#4575b4;stroke-opacity:0.7;stroke-width:0.3;\" x=\"54.319419\" y=\"26.267956\" xlink:href=\"#m6155c7df75\" />\n     <use style=\"fill:#4575b4;fill-opacity:0.7;stroke:#4575b4;stroke-opacity:0.7;stroke-width:0.3;\" x=\"46.535384\" y=\"10.080734\" xlink:href=\"#m6155c7df75\" />\n     <use style=\"fill:#4575b4;fill-opacity:0.7;stroke:#4575b4;stroke-opacity:0.7;stroke-width:0.3;\" x=\"55.358193\" y=\"24.282778\" xlink:href=\"#m6155c7df75\" />\n     <use style=\"fill:#4575b4;fill-opacity:0.7;stroke:#4575b4;stroke-opacity:0.7;stroke-width:0.3;\" x=\"51.670875\" y=\"18.544974\" xlink:href=\"#m6155c7df75\" />\n     <use style=\"fill:#4575b4;fill-opacity:0.7;stroke:#4575b4;stroke-opacity:0.7;stroke-width:0.3;\" x=\"59.945947\" y=\"26.763986\" xlink:href=\"#m6155c7df75\" />\n     <use style=\"fill:#4575b4;fill-opacity:0.7;stroke:#4575b4;stroke-opacity:0.7;stroke-width:0.3;\" x=\"50.912839\" y=\"22.224347\" xlink:href=\"#m6155c7df75\" />\n     <use style=\"fill:#4575b4;fill-opacity:0.7;stroke:#4575b4;stroke-opacity:0.7;stroke-width:0.3;\" x=\"47.850865\" y=\"18.977527\" xlink:href=\"#m6155c7df75\" />\n     <use style=\"fill:#4575b4;fill-opacity:0.7;stroke:#4575b4;stroke-opacity:0.7;stroke-width:0.3;\" x=\"51.928459\" y=\"22.731871\" xlink:href=\"#m6155c7df75\" />\n     <use style=\"fill:#4575b4;fill-opacity:0.7;stroke:#4575b4;stroke-opacity:0.7;stroke-width:0.3;\" x=\"46.892317\" y=\"25.320846\" xlink:href=\"#m6155c7df75\" />\n     <use style=\"fill:#4575b4;fill-opacity:0.7;stroke:#4575b4;stroke-opacity:0.7;stroke-width:0.3;\" x=\"56.020931\" y=\"24.219047\" xlink:href=\"#m6155c7df75\" />\n     <use style=\"fill:#4575b4;fill-opacity:0.7;stroke:#4575b4;stroke-opacity:0.7;stroke-width:0.3;\" x=\"46.592352\" y=\"21.150607\" xlink:href=\"#m6155c7df75\" />\n     <use style=\"fill:#4575b4;fill-opacity:0.7;stroke:#4575b4;stroke-opacity:0.7;stroke-width:0.3;\" x=\"53.601526\" y=\"22.425266\" xlink:href=\"#m6155c7df75\" />\n     <use style=\"fill:#4575b4;fill-opacity:0.7;stroke:#4575b4;stroke-opacity:0.7;stroke-width:0.3;\" x=\"46.549736\" y=\"22.204533\" xlink:href=\"#m6155c7df75\" />\n     <use style=\"fill:#4575b4;fill-opacity:0.7;stroke:#4575b4;stroke-opacity:0.7;stroke-width:0.3;\" x=\"52.433893\" y=\"20.73217\" xlink:href=\"#m6155c7df75\" />\n     <use style=\"fill:#4575b4;fill-opacity:0.7;stroke:#4575b4;stroke-opacity:0.7;stroke-width:0.3;\" x=\"59.00828\" y=\"18.829517\" xlink:href=\"#m6155c7df75\" />\n     <use style=\"fill:#4575b4;fill-opacity:0.7;stroke:#4575b4;stroke-opacity:0.7;stroke-width:0.3;\" x=\"54.713699\" y=\"19.038768\" xlink:href=\"#m6155c7df75\" />\n     <use style=\"fill:#4575b4;fill-opacity:0.7;stroke:#4575b4;stroke-opacity:0.7;stroke-width:0.3;\" x=\"50.615273\" y=\"23.814953\" xlink:href=\"#m6155c7df75\" />\n     <use style=\"fill:#4575b4;fill-opacity:0.7;stroke:#4575b4;stroke-opacity:0.7;stroke-width:0.3;\" x=\"53.401781\" y=\"0.720876\" xlink:href=\"#m6155c7df75\" />\n     <use style=\"fill:#4575b4;fill-opacity:0.7;stroke:#4575b4;stroke-opacity:0.7;stroke-width:0.3;\" x=\"53.56657\" y=\"21.651591\" xlink:href=\"#m6155c7df75\" />\n     <use style=\"fill:#4575b4;fill-opacity:0.7;stroke:#4575b4;stroke-opacity:0.7;stroke-width:0.3;\" x=\"55.088616\" y=\"25.821093\" xlink:href=\"#m6155c7df75\" />\n     <use style=\"fill:#4575b4;fill-opacity:0.7;stroke:#4575b4;stroke-opacity:0.7;stroke-width:0.3;\" x=\"48.930008\" y=\"20.640176\" xlink:href=\"#m6155c7df75\" />\n     <use style=\"fill:#4575b4;fill-opacity:0.7;stroke:#4575b4;stroke-opacity:0.7;stroke-width:0.3;\" x=\"55.490165\" y=\"20.996673\" xlink:href=\"#m6155c7df75\" />\n     <use style=\"fill:#4575b4;fill-opacity:0.7;stroke:#4575b4;stroke-opacity:0.7;stroke-width:0.3;\" x=\"44.451947\" y=\"22.894347\" xlink:href=\"#m6155c7df75\" />\n     <use style=\"fill:#4575b4;fill-opacity:0.7;stroke:#4575b4;stroke-opacity:0.7;stroke-width:0.3;\" x=\"51.397397\" y=\"23.88146\" xlink:href=\"#m6155c7df75\" />\n     <use style=\"fill:#4575b4;fill-opacity:0.7;stroke:#4575b4;stroke-opacity:0.7;stroke-width:0.3;\" x=\"51.871509\" y=\"21.947087\" xlink:href=\"#m6155c7df75\" />\n     <use style=\"fill:#4575b4;fill-opacity:0.7;stroke:#4575b4;stroke-opacity:0.7;stroke-width:0.3;\" x=\"55.626628\" y=\"42.942235\" xlink:href=\"#m6155c7df75\" />\n     <use style=\"fill:#4575b4;fill-opacity:0.7;stroke:#4575b4;stroke-opacity:0.7;stroke-width:0.3;\" x=\"53.582018\" y=\"21.928879\" xlink:href=\"#m6155c7df75\" />\n     <use style=\"fill:#4575b4;fill-opacity:0.7;stroke:#4575b4;stroke-opacity:0.7;stroke-width:0.3;\" x=\"48.800425\" y=\"22.394454\" xlink:href=\"#m6155c7df75\" />\n     <use style=\"fill:#4575b4;fill-opacity:0.7;stroke:#4575b4;stroke-opacity:0.7;stroke-width:0.3;\" x=\"50.208493\" y=\"19.414791\" xlink:href=\"#m6155c7df75\" />\n     <use style=\"fill:#4575b4;fill-opacity:0.7;stroke:#4575b4;stroke-opacity:0.7;stroke-width:0.3;\" x=\"54.171431\" y=\"24.743023\" xlink:href=\"#m6155c7df75\" />\n     <use style=\"fill:#4575b4;fill-opacity:0.7;stroke:#4575b4;stroke-opacity:0.7;stroke-width:0.3;\" x=\"53.241533\" y=\"29.91075\" xlink:href=\"#m6155c7df75\" />\n     <use style=\"fill:#4575b4;fill-opacity:0.7;stroke:#4575b4;stroke-opacity:0.7;stroke-width:0.3;\" x=\"51.567342\" y=\"21.120999\" xlink:href=\"#m6155c7df75\" />\n     <use style=\"fill:#4575b4;fill-opacity:0.7;stroke:#4575b4;stroke-opacity:0.7;stroke-width:0.3;\" x=\"51.896418\" y=\"18.989834\" xlink:href=\"#m6155c7df75\" />\n     <use style=\"fill:#4575b4;fill-opacity:0.7;stroke:#4575b4;stroke-opacity:0.7;stroke-width:0.3;\" x=\"55.83702\" y=\"17.183858\" xlink:href=\"#m6155c7df75\" />\n     <use style=\"fill:#4575b4;fill-opacity:0.7;stroke:#4575b4;stroke-opacity:0.7;stroke-width:0.3;\" x=\"51.773015\" y=\"21.798555\" xlink:href=\"#m6155c7df75\" />\n     <use style=\"fill:#4575b4;fill-opacity:0.7;stroke:#4575b4;stroke-opacity:0.7;stroke-width:0.3;\" x=\"53.211321\" y=\"22.178112\" xlink:href=\"#m6155c7df75\" />\n     <use style=\"fill:#4575b4;fill-opacity:0.7;stroke:#4575b4;stroke-opacity:0.7;stroke-width:0.3;\" x=\"60.771198\" y=\"28.478718\" xlink:href=\"#m6155c7df75\" />\n     <use style=\"fill:#4575b4;fill-opacity:0.7;stroke:#4575b4;stroke-opacity:0.7;stroke-width:0.3;\" x=\"48.739761\" y=\"20.462564\" xlink:href=\"#m6155c7df75\" />\n     <use style=\"fill:#4575b4;fill-opacity:0.7;stroke:#4575b4;stroke-opacity:0.7;stroke-width:0.3;\" x=\"47.306281\" y=\"20.394553\" xlink:href=\"#m6155c7df75\" />\n     <use style=\"fill:#4575b4;fill-opacity:0.7;stroke:#4575b4;stroke-opacity:0.7;stroke-width:0.3;\" x=\"56.129708\" y=\"24.439195\" xlink:href=\"#m6155c7df75\" />\n     <use style=\"fill:#4575b4;fill-opacity:0.7;stroke:#4575b4;stroke-opacity:0.7;stroke-width:0.3;\" x=\"51.234153\" y=\"20.89619\" xlink:href=\"#m6155c7df75\" />\n     <use style=\"fill:#4575b4;fill-opacity:0.7;stroke:#4575b4;stroke-opacity:0.7;stroke-width:0.3;\" x=\"52.440791\" y=\"24.915203\" xlink:href=\"#m6155c7df75\" />\n     <use style=\"fill:#4575b4;fill-opacity:0.7;stroke:#4575b4;stroke-opacity:0.7;stroke-width:0.3;\" x=\"50.890938\" y=\"21.163902\" xlink:href=\"#m6155c7df75\" />\n     <use style=\"fill:#4575b4;fill-opacity:0.7;stroke:#4575b4;stroke-opacity:0.7;stroke-width:0.3;\" x=\"52.636439\" y=\"21.879595\" xlink:href=\"#m6155c7df75\" />\n     <use style=\"fill:#4575b4;fill-opacity:0.7;stroke:#4575b4;stroke-opacity:0.7;stroke-width:0.3;\" x=\"58.858156\" y=\"33.377506\" xlink:href=\"#m6155c7df75\" />\n     <use style=\"fill:#4575b4;fill-opacity:0.7;stroke:#4575b4;stroke-opacity:0.7;stroke-width:0.3;\" x=\"56.191776\" y=\"24.706951\" xlink:href=\"#m6155c7df75\" />\n     <use style=\"fill:#4575b4;fill-opacity:0.7;stroke:#4575b4;stroke-opacity:0.7;stroke-width:0.3;\" x=\"56.392974\" y=\"20.966832\" xlink:href=\"#m6155c7df75\" />\n     <use style=\"fill:#4575b4;fill-opacity:0.7;stroke:#4575b4;stroke-opacity:0.7;stroke-width:0.3;\" x=\"48.764722\" y=\"21.466706\" xlink:href=\"#m6155c7df75\" />\n     <use style=\"fill:#4575b4;fill-opacity:0.7;stroke:#4575b4;stroke-opacity:0.7;stroke-width:0.3;\" x=\"49.652187\" y=\"23.032443\" xlink:href=\"#m6155c7df75\" />\n     <use style=\"fill:#4575b4;fill-opacity:0.7;stroke:#4575b4;stroke-opacity:0.7;stroke-width:0.3;\" x=\"44.001015\" y=\"18.75555\" xlink:href=\"#m6155c7df75\" />\n     <use style=\"fill:#4575b4;fill-opacity:0.7;stroke:#4575b4;stroke-opacity:0.7;stroke-width:0.3;\" x=\"50.796443\" y=\"20.283573\" xlink:href=\"#m6155c7df75\" />\n     <use style=\"fill:#4575b4;fill-opacity:0.7;stroke:#4575b4;stroke-opacity:0.7;stroke-width:0.3;\" x=\"56.709292\" y=\"27.658813\" xlink:href=\"#m6155c7df75\" />\n     <use style=\"fill:#4575b4;fill-opacity:0.7;stroke:#4575b4;stroke-opacity:0.7;stroke-width:0.3;\" x=\"55.236987\" y=\"22.447483\" xlink:href=\"#m6155c7df75\" />\n     <use style=\"fill:#4575b4;fill-opacity:0.7;stroke:#4575b4;stroke-opacity:0.7;stroke-width:0.3;\" x=\"52.764624\" y=\"24.6048\" xlink:href=\"#m6155c7df75\" />\n     <use style=\"fill:#4575b4;fill-opacity:0.7;stroke:#4575b4;stroke-opacity:0.7;stroke-width:0.3;\" x=\"53.431589\" y=\"21.586978\" xlink:href=\"#m6155c7df75\" />\n     <use style=\"fill:#4575b4;fill-opacity:0.7;stroke:#4575b4;stroke-opacity:0.7;stroke-width:0.3;\" x=\"51.199861\" y=\"20.422905\" xlink:href=\"#m6155c7df75\" />\n     <use style=\"fill:#4575b4;fill-opacity:0.7;stroke:#4575b4;stroke-opacity:0.7;stroke-width:0.3;\" x=\"54.191783\" y=\"10.528492\" xlink:href=\"#m6155c7df75\" />\n     <use style=\"fill:#4575b4;fill-opacity:0.7;stroke:#4575b4;stroke-opacity:0.7;stroke-width:0.3;\" x=\"56.07041\" y=\"18.685246\" xlink:href=\"#m6155c7df75\" />\n     <use style=\"fill:#4575b4;fill-opacity:0.7;stroke:#4575b4;stroke-opacity:0.7;stroke-width:0.3;\" x=\"48.096261\" y=\"19.779933\" xlink:href=\"#m6155c7df75\" />\n     <use style=\"fill:#4575b4;fill-opacity:0.7;stroke:#4575b4;stroke-opacity:0.7;stroke-width:0.3;\" x=\"54.50947\" y=\"21.802454\" xlink:href=\"#m6155c7df75\" />\n     <use style=\"fill:#4575b4;fill-opacity:0.7;stroke:#4575b4;stroke-opacity:0.7;stroke-width:0.3;\" x=\"56.628042\" y=\"20.130803\" xlink:href=\"#m6155c7df75\" />\n     <use style=\"fill:#4575b4;fill-opacity:0.7;stroke:#4575b4;stroke-opacity:0.7;stroke-width:0.3;\" x=\"52.116494\" y=\"21.914161\" xlink:href=\"#m6155c7df75\" />\n     <use style=\"fill:#4575b4;fill-opacity:0.7;stroke:#4575b4;stroke-opacity:0.7;stroke-width:0.3;\" x=\"55.852196\" y=\"17.193867\" xlink:href=\"#m6155c7df75\" />\n    </g>\n   </g>\n   <g id=\"matplotlib.axis_1\" />\n   <g id=\"matplotlib.axis_2\">\n    <g id=\"ytick_1\">\n     <g id=\"line2d_1\">\n      <defs>\n       <path d=\"M 0 0  L -3.5 0  \" id=\"m3ac96398d2\" style=\"stroke:#444443;stroke-width:0.3;\" />\n      </defs>\n      <g>\n       <use style=\"fill:#444443;stroke:#444443;stroke-width:0.3;\" x=\"32.58125\" y=\"42.65814\" xlink:href=\"#m3ac96398d2\" />\n      </g>\n     </g>\n     <g id=\"text_1\">\n      \n      <defs>\n       <path d=\"M 10.59375 35.5  L 73.1875 35.5  L 73.1875 27.203125  L 10.59375 27.203125  z \" id=\"DejaVuSans-8722\" />\n       <path d=\"M 12.40625 8.296875  L 28.515625 8.296875  L 28.515625 63.921875  L 10.984375 60.40625  L 10.984375 69.390625  L 28.421875 72.90625  L 38.28125 72.90625  L 38.28125 8.296875  L 54.390625 8.296875  L 54.390625 0  L 12.40625 0  z \" id=\"DejaVuSans-49\" />\n       <path d=\"M 31.78125 66.40625  Q 24.171875 66.40625 20.328125 58.90625  Q 16.5 51.421875 16.5 36.375  Q 16.5 21.390625 20.328125 13.890625  Q 24.171875 6.390625 31.78125 6.390625  Q 39.453125 6.390625 43.28125 13.890625  Q 47.125 21.390625 47.125 36.375  Q 47.125 51.421875 43.28125 58.90625  Q 39.453125 66.40625 31.78125 66.40625  z M 31.78125 74.21875  Q 44.046875 74.21875 50.515625 64.515625  Q 56.984375 54.828125 56.984375 36.375  Q 56.984375 17.96875 50.515625 8.265625  Q 44.046875 -1.421875 31.78125 -1.421875  Q 19.53125 -1.421875 13.0625 8.265625  Q 6.59375 17.96875 6.59375 36.375  Q 6.59375 54.828125 13.0625 64.515625  Q 19.53125 74.21875 31.78125 74.21875  z \" id=\"DejaVuSans-48\" />\n      </defs>\n      <g style=\"fill:#444443;\" transform=\"translate(3.6075 45.697515)scale(0.08 -0.08)\">\n       <use xlink:href=\"#DejaVuSans-8722\" />\n       <use x=\"83.789062\" xlink:href=\"#DejaVuSans-49\" />\n       <use x=\"147.412109\" xlink:href=\"#DejaVuSans-48\" />\n       <use x=\"211.035156\" xlink:href=\"#DejaVuSans-48\" />\n      </g>\n     </g>\n    </g>\n    <g id=\"ytick_2\">\n     <g id=\"line2d_2\">\n      <g>\n       <use style=\"fill:#444443;stroke:#444443;stroke-width:0.3;\" x=\"32.58125\" y=\"24.750061\" xlink:href=\"#m3ac96398d2\" />\n      </g>\n     </g>\n     <g id=\"text_2\">\n      \n      <g style=\"fill:#444443;\" transform=\"translate(20.49125 27.789436)scale(0.08 -0.08)\">\n       <use xlink:href=\"#DejaVuSans-48\" />\n      </g>\n     </g>\n    </g>\n    <g id=\"ytick_3\">\n     <g id=\"line2d_3\">\n      <g>\n       <use style=\"fill:#444443;stroke:#444443;stroke-width:0.3;\" x=\"32.58125\" y=\"6.841982\" xlink:href=\"#m3ac96398d2\" />\n      </g>\n     </g>\n     <g id=\"text_3\">\n      \n      <g style=\"fill:#444443;\" transform=\"translate(10.31125 9.881357)scale(0.08 -0.08)\">\n       <use xlink:href=\"#DejaVuSans-49\" />\n       <use x=\"63.623047\" xlink:href=\"#DejaVuSans-48\" />\n       <use x=\"127.246094\" xlink:href=\"#DejaVuSans-48\" />\n      </g>\n     </g>\n    </g>\n   </g>\n   <g id=\"line2d_4\">\n    <path clip-path=\"url(#pc9f21786a9)\" d=\"M 32.58125 22.125655  L 109.0125 22.125655  \" style=\"fill:none;stroke:#444443;stroke-dasharray:3.7,1.6;stroke-dashoffset:0;\" />\n   </g>\n   <g id=\"patch_3\">\n    <path d=\"M 32.58125 43.488  L 32.58125 -0  \" style=\"fill:none;stroke:#000000;stroke-linecap:square;stroke-linejoin:miter;stroke-width:0.3;\" />\n   </g>\n   <g id=\"text_4\">\n    \n    <defs>\n     <path d=\"M 53.515625 70.515625  L 53.515625 60.890625  Q 47.90625 63.578125 42.921875 64.890625  Q 37.9375 66.21875 33.296875 66.21875  Q 25.25 66.21875 20.875 63.09375  Q 16.5 59.96875 16.5 54.203125  Q 16.5 49.359375 19.40625 46.890625  Q 22.3125 44.4375 30.421875 42.921875  L 36.375 41.703125  Q 47.40625 39.59375 52.65625 34.296875  Q 57.90625 29 57.90625 20.125  Q 57.90625 9.515625 50.796875 4.046875  Q 43.703125 -1.421875 29.984375 -1.421875  Q 24.8125 -1.421875 18.96875 -0.25  Q 13.140625 0.921875 6.890625 3.21875  L 6.890625 13.375  Q 12.890625 10.015625 18.65625 8.296875  Q 24.421875 6.59375 29.984375 6.59375  Q 38.421875 6.59375 43.015625 9.90625  Q 47.609375 13.234375 47.609375 19.390625  Q 47.609375 24.75 44.3125 27.78125  Q 41.015625 30.8125 33.5 32.328125  L 27.484375 33.5  Q 16.453125 35.6875 11.515625 40.375  Q 6.59375 45.0625 6.59375 53.421875  Q 6.59375 63.09375 13.40625 68.65625  Q 20.21875 74.21875 32.171875 74.21875  Q 37.3125 74.21875 42.625 73.28125  Q 47.953125 72.359375 53.515625 70.515625  z \" id=\"DejaVuSans-83\" />\n     <path d=\"M 32.171875 -5.078125  Q 28.375 -14.84375 24.75 -17.8125  Q 21.140625 -20.796875 15.09375 -20.796875  L 7.90625 -20.796875  L 7.90625 -13.28125  L 13.1875 -13.28125  Q 16.890625 -13.28125 18.9375 -11.515625  Q 21 -9.765625 23.484375 -3.21875  L 25.09375 0.875  L 2.984375 54.6875  L 12.5 54.6875  L 29.59375 11.921875  L 46.6875 54.6875  L 56.203125 54.6875  z \" id=\"DejaVuSans-121\" />\n     <path d=\"M 54.890625 33.015625  L 54.890625 0  L 45.90625 0  L 45.90625 32.71875  Q 45.90625 40.484375 42.875 44.328125  Q 39.84375 48.1875 33.796875 48.1875  Q 26.515625 48.1875 22.3125 43.546875  Q 18.109375 38.921875 18.109375 30.90625  L 18.109375 0  L 9.078125 0  L 9.078125 54.6875  L 18.109375 54.6875  L 18.109375 46.1875  Q 21.34375 51.125 25.703125 53.5625  Q 30.078125 56 35.796875 56  Q 45.21875 56 50.046875 50.171875  Q 54.890625 44.34375 54.890625 33.015625  z \" id=\"DejaVuSans-110\" />\n     <path d=\"M 56.203125 29.59375  L 56.203125 25.203125  L 14.890625 25.203125  Q 15.484375 15.921875 20.484375 11.0625  Q 25.484375 6.203125 34.421875 6.203125  Q 39.59375 6.203125 44.453125 7.46875  Q 49.3125 8.734375 54.109375 11.28125  L 54.109375 2.78125  Q 49.265625 0.734375 44.1875 -0.34375  Q 39.109375 -1.421875 33.890625 -1.421875  Q 20.796875 -1.421875 13.15625 6.1875  Q 5.515625 13.8125 5.515625 26.8125  Q 5.515625 40.234375 12.765625 48.109375  Q 20.015625 56 32.328125 56  Q 43.359375 56 49.78125 48.890625  Q 56.203125 41.796875 56.203125 29.59375  z M 47.21875 32.234375  Q 47.125 39.59375 43.09375 43.984375  Q 39.0625 48.390625 32.421875 48.390625  Q 24.90625 48.390625 20.390625 44.140625  Q 15.875 39.890625 15.1875 32.171875  z \" id=\"DejaVuSans-101\" />\n     <path d=\"M 41.109375 46.296875  Q 39.59375 47.171875 37.8125 47.578125  Q 36.03125 48 33.890625 48  Q 26.265625 48 22.1875 43.046875  Q 18.109375 38.09375 18.109375 28.8125  L 18.109375 0  L 9.078125 0  L 9.078125 54.6875  L 18.109375 54.6875  L 18.109375 46.1875  Q 20.953125 51.171875 25.484375 53.578125  Q 30.03125 56 36.53125 56  Q 37.453125 56 38.578125 55.875  Q 39.703125 55.765625 41.0625 55.515625  z \" id=\"DejaVuSans-114\" />\n     <path d=\"M 45.40625 27.984375  Q 45.40625 37.75 41.375 43.109375  Q 37.359375 48.484375 30.078125 48.484375  Q 22.859375 48.484375 18.828125 43.109375  Q 14.796875 37.75 14.796875 27.984375  Q 14.796875 18.265625 18.828125 12.890625  Q 22.859375 7.515625 30.078125 7.515625  Q 37.359375 7.515625 41.375 12.890625  Q 45.40625 18.265625 45.40625 27.984375  z M 54.390625 6.78125  Q 54.390625 -7.171875 48.1875 -13.984375  Q 42 -20.796875 29.203125 -20.796875  Q 24.46875 -20.796875 20.265625 -20.09375  Q 16.0625 -19.390625 12.109375 -17.921875  L 12.109375 -9.1875  Q 16.0625 -11.328125 19.921875 -12.34375  Q 23.78125 -13.375 27.78125 -13.375  Q 36.625 -13.375 41.015625 -8.765625  Q 45.40625 -4.15625 45.40625 5.171875  L 45.40625 9.625  Q 42.625 4.78125 38.28125 2.390625  Q 33.9375 0 27.875 0  Q 17.828125 0 11.671875 7.65625  Q 5.515625 15.328125 5.515625 27.984375  Q 5.515625 40.671875 11.671875 48.328125  Q 17.828125 56 27.875 56  Q 33.9375 56 38.28125 53.609375  Q 42.625 51.21875 45.40625 46.390625  L 45.40625 54.6875  L 54.390625 54.6875  z \" id=\"DejaVuSans-103\" />\n     <path id=\"DejaVuSans-32\" />\n     <path d=\"M 44.28125 53.078125  L 44.28125 44.578125  Q 40.484375 46.53125 36.375 47.5  Q 32.28125 48.484375 27.875 48.484375  Q 21.1875 48.484375 17.84375 46.4375  Q 14.5 44.390625 14.5 40.28125  Q 14.5 37.15625 16.890625 35.375  Q 19.28125 33.59375 26.515625 31.984375  L 29.59375 31.296875  Q 39.15625 29.25 43.1875 25.515625  Q 47.21875 21.78125 47.21875 15.09375  Q 47.21875 7.46875 41.1875 3.015625  Q 35.15625 -1.421875 24.609375 -1.421875  Q 20.21875 -1.421875 15.453125 -0.5625  Q 10.6875 0.296875 5.421875 2  L 5.421875 11.28125  Q 10.40625 8.6875 15.234375 7.390625  Q 20.0625 6.109375 24.8125 6.109375  Q 31.15625 6.109375 34.5625 8.28125  Q 37.984375 10.453125 37.984375 14.40625  Q 37.984375 18.0625 35.515625 20.015625  Q 33.0625 21.96875 24.703125 23.78125  L 21.578125 24.515625  Q 13.234375 26.265625 9.515625 29.90625  Q 5.8125 33.546875 5.8125 39.890625  Q 5.8125 47.609375 11.28125 51.796875  Q 16.75 56 26.8125 56  Q 31.78125 56 36.171875 55.265625  Q 40.578125 54.546875 44.28125 53.078125  z \" id=\"DejaVuSans-115\" />\n     <path d=\"M 48.78125 52.59375  L 48.78125 44.1875  Q 44.96875 46.296875 41.140625 47.34375  Q 37.3125 48.390625 33.40625 48.390625  Q 24.65625 48.390625 19.8125 42.84375  Q 14.984375 37.3125 14.984375 27.296875  Q 14.984375 17.28125 19.8125 11.734375  Q 24.65625 6.203125 33.40625 6.203125  Q 37.3125 6.203125 41.140625 7.25  Q 44.96875 8.296875 48.78125 10.40625  L 48.78125 2.09375  Q 45.015625 0.34375 40.984375 -0.53125  Q 36.96875 -1.421875 32.421875 -1.421875  Q 20.0625 -1.421875 12.78125 6.34375  Q 5.515625 14.109375 5.515625 27.296875  Q 5.515625 40.671875 12.859375 48.328125  Q 20.21875 56 33.015625 56  Q 37.15625 56 41.109375 55.140625  Q 45.0625 54.296875 48.78125 52.59375  z \" id=\"DejaVuSans-99\" />\n     <path d=\"M 30.609375 48.390625  Q 23.390625 48.390625 19.1875 42.75  Q 14.984375 37.109375 14.984375 27.296875  Q 14.984375 17.484375 19.15625 11.84375  Q 23.34375 6.203125 30.609375 6.203125  Q 37.796875 6.203125 41.984375 11.859375  Q 46.1875 17.53125 46.1875 27.296875  Q 46.1875 37.015625 41.984375 42.703125  Q 37.796875 48.390625 30.609375 48.390625  z M 30.609375 56  Q 42.328125 56 49.015625 48.375  Q 55.71875 40.765625 55.71875 27.296875  Q 55.71875 13.875 49.015625 6.21875  Q 42.328125 -1.421875 30.609375 -1.421875  Q 18.84375 -1.421875 12.171875 6.21875  Q 5.515625 13.875 5.515625 27.296875  Q 5.515625 40.765625 12.171875 48.375  Q 18.84375 56 30.609375 56  z \" id=\"DejaVuSans-111\" />\n     <path d=\"M 10.59375 45.40625  L 73.1875 45.40625  L 73.1875 37.203125  L 10.59375 37.203125  z M 10.59375 25.484375  L 73.1875 25.484375  L 73.1875 17.1875  L 10.59375 17.1875  z \" id=\"DejaVuSans-61\" />\n     <path d=\"M 37.796875 64.3125  L 12.890625 25.390625  L 37.796875 25.390625  z M 35.203125 72.90625  L 47.609375 72.90625  L 47.609375 25.390625  L 58.015625 25.390625  L 58.015625 17.1875  L 47.609375 17.1875  L 47.609375 0  L 37.796875 0  L 37.796875 17.1875  L 4.890625 17.1875  L 4.890625 26.703125  z \" id=\"DejaVuSans-52\" />\n     <path d=\"M 10.6875 12.40625  L 21 12.40625  L 21 0  L 10.6875 0  z \" id=\"DejaVuSans-46\" />\n     <path d=\"M 33.015625 40.375  Q 26.375 40.375 22.484375 35.828125  Q 18.609375 31.296875 18.609375 23.390625  Q 18.609375 15.53125 22.484375 10.953125  Q 26.375 6.390625 33.015625 6.390625  Q 39.65625 6.390625 43.53125 10.953125  Q 47.40625 15.53125 47.40625 23.390625  Q 47.40625 31.296875 43.53125 35.828125  Q 39.65625 40.375 33.015625 40.375  z M 52.59375 71.296875  L 52.59375 62.3125  Q 48.875 64.0625 45.09375 64.984375  Q 41.3125 65.921875 37.59375 65.921875  Q 27.828125 65.921875 22.671875 59.328125  Q 17.53125 52.734375 16.796875 39.40625  Q 19.671875 43.65625 24.015625 45.921875  Q 28.375 48.1875 33.59375 48.1875  Q 44.578125 48.1875 50.953125 41.515625  Q 57.328125 34.859375 57.328125 23.390625  Q 57.328125 12.15625 50.6875 5.359375  Q 44.046875 -1.421875 33.015625 -1.421875  Q 20.359375 -1.421875 13.671875 8.265625  Q 6.984375 17.96875 6.984375 36.375  Q 6.984375 53.65625 15.1875 63.9375  Q 23.390625 74.21875 37.203125 74.21875  Q 40.921875 74.21875 44.703125 73.484375  Q 48.484375 72.75 52.59375 71.296875  z \" id=\"DejaVuSans-54\" />\n     <path d=\"M 10.796875 72.90625  L 49.515625 72.90625  L 49.515625 64.59375  L 19.828125 64.59375  L 19.828125 46.734375  Q 21.96875 47.46875 24.109375 47.828125  Q 26.265625 48.1875 28.421875 48.1875  Q 40.625 48.1875 47.75 41.5  Q 54.890625 34.8125 54.890625 23.390625  Q 54.890625 11.625 47.5625 5.09375  Q 40.234375 -1.421875 26.90625 -1.421875  Q 22.3125 -1.421875 17.546875 -0.640625  Q 12.796875 0.140625 7.71875 1.703125  L 7.71875 11.625  Q 12.109375 9.234375 16.796875 8.0625  Q 21.484375 6.890625 26.703125 6.890625  Q 35.15625 6.890625 40.078125 11.328125  Q 45.015625 15.765625 45.015625 23.390625  Q 45.015625 31 40.078125 35.4375  Q 35.15625 39.890625 26.703125 39.890625  Q 22.75 39.890625 18.8125 39.015625  Q 14.890625 38.140625 10.796875 36.28125  z \" id=\"DejaVuSans-53\" />\n    </defs>\n    <g style=\"fill:#444443;\" transform=\"translate(0 52.836437)scale(0.1 -0.1)\">\n     <use xlink:href=\"#DejaVuSans-83\" />\n     <use x=\"63.476562\" xlink:href=\"#DejaVuSans-121\" />\n     <use x=\"122.65625\" xlink:href=\"#DejaVuSans-110\" />\n     <use x=\"186.035156\" xlink:href=\"#DejaVuSans-101\" />\n     <use x=\"247.558594\" xlink:href=\"#DejaVuSans-114\" />\n     <use x=\"286.921875\" xlink:href=\"#DejaVuSans-103\" />\n     <use x=\"350.398438\" xlink:href=\"#DejaVuSans-121\" />\n     <use x=\"409.578125\" xlink:href=\"#DejaVuSans-32\" />\n     <use x=\"441.365234\" xlink:href=\"#DejaVuSans-115\" />\n     <use x=\"493.464844\" xlink:href=\"#DejaVuSans-99\" />\n     <use x=\"548.445312\" xlink:href=\"#DejaVuSans-111\" />\n     <use x=\"609.626953\" xlink:href=\"#DejaVuSans-114\" />\n     <use x=\"648.490234\" xlink:href=\"#DejaVuSans-101\" />\n     <use x=\"710.013672\" xlink:href=\"#DejaVuSans-61\" />\n     <use x=\"793.802734\" xlink:href=\"#DejaVuSans-49\" />\n     <use x=\"857.425781\" xlink:href=\"#DejaVuSans-52\" />\n     <use x=\"921.048828\" xlink:href=\"#DejaVuSans-46\" />\n     <use x=\"952.835938\" xlink:href=\"#DejaVuSans-54\" />\n     <use x=\"1016.458984\" xlink:href=\"#DejaVuSans-53\" />\n    </g>\n    \n    <defs>\n     <path d=\"M 10.984375 1.515625  L 10.984375 10.5  Q 14.703125 8.734375 18.5 7.8125  Q 22.3125 6.890625 25.984375 6.890625  Q 35.75 6.890625 40.890625 13.453125  Q 46.046875 20.015625 46.78125 33.40625  Q 43.953125 29.203125 39.59375 26.953125  Q 35.25 24.703125 29.984375 24.703125  Q 19.046875 24.703125 12.671875 31.3125  Q 6.296875 37.9375 6.296875 49.421875  Q 6.296875 60.640625 12.9375 67.421875  Q 19.578125 74.21875 30.609375 74.21875  Q 43.265625 74.21875 49.921875 64.515625  Q 56.59375 54.828125 56.59375 36.375  Q 56.59375 19.140625 48.40625 8.859375  Q 40.234375 -1.421875 26.421875 -1.421875  Q 22.703125 -1.421875 18.890625 -0.6875  Q 15.09375 0.046875 10.984375 1.515625  z M 30.609375 32.421875  Q 37.25 32.421875 41.125 36.953125  Q 45.015625 41.5 45.015625 49.421875  Q 45.015625 57.28125 41.125 61.84375  Q 37.25 66.40625 30.609375 66.40625  Q 23.96875 66.40625 20.09375 61.84375  Q 16.21875 57.28125 16.21875 49.421875  Q 16.21875 41.5 20.09375 36.953125  Q 23.96875 32.421875 30.609375 32.421875  z \" id=\"DejaVuSans-57\" />\n    </defs>\n    <g style=\"fill:#444443;\" transform=\"translate(37.103906 64.03425)scale(0.1 -0.1)\">\n     <use xlink:href=\"#DejaVuSans-110\" />\n     <use x=\"63.378906\" xlink:href=\"#DejaVuSans-61\" />\n     <use x=\"147.167969\" xlink:href=\"#DejaVuSans-49\" />\n     <use x=\"210.791016\" xlink:href=\"#DejaVuSans-57\" />\n     <use x=\"274.414062\" xlink:href=\"#DejaVuSans-53\" />\n    </g>\n   </g>\n  </g>\n </g>\n <defs>\n  <clipPath id=\"pc9f21786a9\">\n   <rect height=\"43.488\" width=\"41.85\" x=\"32.58125\" y=\"-0\" />\n  </clipPath>\n </defs>\n</svg></g>\n\n<g class=\"edge\" id=\"edge1\">\n<title>node3-&gt;leaf5</title>\n<path d=\"M483.3819,-156.773C487.6175,-157.6896 491.8214,-158.5994 495.9253,-159.4876\" fill=\"none\" stroke=\"#444443\" stroke-width=\".3\" />\n<polygon fill=\"#444443\" points=\"495.7877,-160.8901 499.9934,-160.368 496.38,-158.1535 495.7877,-160.8901\" stroke=\"#444443\" stroke-width=\".3\" />\n</g>\n\n<g class=\"node\" id=\"node5\">\n<title>leaf6</title>\n<polygon fill=\"none\" points=\"589,-127 500,-127 500,-69 589,-69 589,-127\" stroke=\"#444443\" stroke-width=\"0\" />\n<svg height=\"50px\" preserveAspectRatio=\"xMinYMin meet\" version=\"1.1\" viewBox=\"0 0 108.0125 66.113937\" width=\"81px\" x=\"504.5\" y=\"-123\">\n <defs>\n  <style type=\"text/css\">\n*{stroke-linecap:butt;stroke-linejoin:round;}\n  </style>\n </defs>\n <g id=\"figure_1\">\n  <g id=\"patch_1\">\n   <path d=\"M 0 66.113937  L 108.0125 66.113937  L 108.0125 0  L 0 0  z \" style=\"fill:#ffffff;\" />\n  </g>\n  <g id=\"axes_1\">\n   <g id=\"patch_2\">\n    <path d=\"M 32.58125 43.488  L 74.43125 43.488  L 74.43125 -0  L 32.58125 -0  z \" style=\"fill:#ffffff;\" />\n   </g>\n   <g id=\"PathCollection_1\">\n    <defs>\n     <path d=\"M 0 1.118034  C 0.296506 1.118034 0.580908 1.000231 0.790569 0.790569  C 1.000231 0.580908 1.118034 0.296506 1.118034 0  C 1.118034 -0.296506 1.000231 -0.580908 0.790569 -0.790569  C 0.580908 -1.000231 0.296506 -1.118034 0 -1.118034  C -0.296506 -1.118034 -0.580908 -1.000231 -0.790569 -0.790569  C -1.000231 -0.580908 -1.118034 -0.296506 -1.118034 0  C -1.118034 0.296506 -1.000231 0.580908 -0.790569 0.790569  C -0.580908 1.000231 -0.296506 1.118034 0 1.118034  z \" id=\"me966b3d293\" style=\"stroke:#4575b4;stroke-opacity:0.7;stroke-width:0.3;\" />\n    </defs>\n    <g clip-path=\"url(#p2051b28b1b)\">\n     <use style=\"fill:#4575b4;fill-opacity:0.7;stroke:#4575b4;stroke-opacity:0.7;stroke-width:0.3;\" x=\"62.929713\" y=\"20.091725\" xlink:href=\"#me966b3d293\" />\n     <use style=\"fill:#4575b4;fill-opacity:0.7;stroke:#4575b4;stroke-opacity:0.7;stroke-width:0.3;\" x=\"53.15691\" y=\"25.168996\" xlink:href=\"#me966b3d293\" />\n     <use style=\"fill:#4575b4;fill-opacity:0.7;stroke:#4575b4;stroke-opacity:0.7;stroke-width:0.3;\" x=\"54.823042\" y=\"19.412703\" xlink:href=\"#me966b3d293\" />\n     <use style=\"fill:#4575b4;fill-opacity:0.7;stroke:#4575b4;stroke-opacity:0.7;stroke-width:0.3;\" x=\"51.035235\" y=\"14.310528\" xlink:href=\"#me966b3d293\" />\n     <use style=\"fill:#4575b4;fill-opacity:0.7;stroke:#4575b4;stroke-opacity:0.7;stroke-width:0.3;\" x=\"54.113079\" y=\"27.492229\" xlink:href=\"#me966b3d293\" />\n     <use style=\"fill:#4575b4;fill-opacity:0.7;stroke:#4575b4;stroke-opacity:0.7;stroke-width:0.3;\" x=\"55.047239\" y=\"12.77028\" xlink:href=\"#me966b3d293\" />\n     <use style=\"fill:#4575b4;fill-opacity:0.7;stroke:#4575b4;stroke-opacity:0.7;stroke-width:0.3;\" x=\"54.158582\" y=\"19.573731\" xlink:href=\"#me966b3d293\" />\n     <use style=\"fill:#4575b4;fill-opacity:0.7;stroke:#4575b4;stroke-opacity:0.7;stroke-width:0.3;\" x=\"50.09231\" y=\"12.758646\" xlink:href=\"#me966b3d293\" />\n     <use style=\"fill:#4575b4;fill-opacity:0.7;stroke:#4575b4;stroke-opacity:0.7;stroke-width:0.3;\" x=\"54.197149\" y=\"22.85869\" xlink:href=\"#me966b3d293\" />\n     <use style=\"fill:#4575b4;fill-opacity:0.7;stroke:#4575b4;stroke-opacity:0.7;stroke-width:0.3;\" x=\"58.401682\" y=\"18.378649\" xlink:href=\"#me966b3d293\" />\n     <use style=\"fill:#4575b4;fill-opacity:0.7;stroke:#4575b4;stroke-opacity:0.7;stroke-width:0.3;\" x=\"55.008283\" y=\"33.188096\" xlink:href=\"#me966b3d293\" />\n     <use style=\"fill:#4575b4;fill-opacity:0.7;stroke:#4575b4;stroke-opacity:0.7;stroke-width:0.3;\" x=\"56.726983\" y=\"26.540967\" xlink:href=\"#me966b3d293\" />\n     <use style=\"fill:#4575b4;fill-opacity:0.7;stroke:#4575b4;stroke-opacity:0.7;stroke-width:0.3;\" x=\"52.712734\" y=\"19.567706\" xlink:href=\"#me966b3d293\" />\n     <use style=\"fill:#4575b4;fill-opacity:0.7;stroke:#4575b4;stroke-opacity:0.7;stroke-width:0.3;\" x=\"56.016916\" y=\"20.231965\" xlink:href=\"#me966b3d293\" />\n     <use style=\"fill:#4575b4;fill-opacity:0.7;stroke:#4575b4;stroke-opacity:0.7;stroke-width:0.3;\" x=\"54.441239\" y=\"16.113773\" xlink:href=\"#me966b3d293\" />\n     <use style=\"fill:#4575b4;fill-opacity:0.7;stroke:#4575b4;stroke-opacity:0.7;stroke-width:0.3;\" x=\"50.322601\" y=\"20.810207\" xlink:href=\"#me966b3d293\" />\n     <use style=\"fill:#4575b4;fill-opacity:0.7;stroke:#4575b4;stroke-opacity:0.7;stroke-width:0.3;\" x=\"54.572658\" y=\"23.48505\" xlink:href=\"#me966b3d293\" />\n     <use style=\"fill:#4575b4;fill-opacity:0.7;stroke:#4575b4;stroke-opacity:0.7;stroke-width:0.3;\" x=\"50.18605\" y=\"27.741656\" xlink:href=\"#me966b3d293\" />\n     <use style=\"fill:#4575b4;fill-opacity:0.7;stroke:#4575b4;stroke-opacity:0.7;stroke-width:0.3;\" x=\"51.387367\" y=\"28.767733\" xlink:href=\"#me966b3d293\" />\n     <use style=\"fill:#4575b4;fill-opacity:0.7;stroke:#4575b4;stroke-opacity:0.7;stroke-width:0.3;\" x=\"54.140121\" y=\"18.536112\" xlink:href=\"#me966b3d293\" />\n     <use style=\"fill:#4575b4;fill-opacity:0.7;stroke:#4575b4;stroke-opacity:0.7;stroke-width:0.3;\" x=\"54.501424\" y=\"14.702692\" xlink:href=\"#me966b3d293\" />\n     <use style=\"fill:#4575b4;fill-opacity:0.7;stroke:#4575b4;stroke-opacity:0.7;stroke-width:0.3;\" x=\"49.5247\" y=\"22.414871\" xlink:href=\"#me966b3d293\" />\n     <use style=\"fill:#4575b4;fill-opacity:0.7;stroke:#4575b4;stroke-opacity:0.7;stroke-width:0.3;\" x=\"57.034994\" y=\"22.400859\" xlink:href=\"#me966b3d293\" />\n     <use style=\"fill:#4575b4;fill-opacity:0.7;stroke:#4575b4;stroke-opacity:0.7;stroke-width:0.3;\" x=\"55.421327\" y=\"19.763443\" xlink:href=\"#me966b3d293\" />\n     <use style=\"fill:#4575b4;fill-opacity:0.7;stroke:#4575b4;stroke-opacity:0.7;stroke-width:0.3;\" x=\"51.146819\" y=\"16.991101\" xlink:href=\"#me966b3d293\" />\n     <use style=\"fill:#4575b4;fill-opacity:0.7;stroke:#4575b4;stroke-opacity:0.7;stroke-width:0.3;\" x=\"48.358416\" y=\"21.7628\" xlink:href=\"#me966b3d293\" />\n     <use style=\"fill:#4575b4;fill-opacity:0.7;stroke:#4575b4;stroke-opacity:0.7;stroke-width:0.3;\" x=\"53.021109\" y=\"19.167828\" xlink:href=\"#me966b3d293\" />\n     <use style=\"fill:#4575b4;fill-opacity:0.7;stroke:#4575b4;stroke-opacity:0.7;stroke-width:0.3;\" x=\"52.01323\" y=\"9.162178\" xlink:href=\"#me966b3d293\" />\n     <use style=\"fill:#4575b4;fill-opacity:0.7;stroke:#4575b4;stroke-opacity:0.7;stroke-width:0.3;\" x=\"53.885044\" y=\"18.268257\" xlink:href=\"#me966b3d293\" />\n     <use style=\"fill:#4575b4;fill-opacity:0.7;stroke:#4575b4;stroke-opacity:0.7;stroke-width:0.3;\" x=\"52.290535\" y=\"12.397733\" xlink:href=\"#me966b3d293\" />\n     <use style=\"fill:#4575b4;fill-opacity:0.7;stroke:#4575b4;stroke-opacity:0.7;stroke-width:0.3;\" x=\"46.785284\" y=\"22.096778\" xlink:href=\"#me966b3d293\" />\n     <use style=\"fill:#4575b4;fill-opacity:0.7;stroke:#4575b4;stroke-opacity:0.7;stroke-width:0.3;\" x=\"52.206064\" y=\"19.3414\" xlink:href=\"#me966b3d293\" />\n     <use style=\"fill:#4575b4;fill-opacity:0.7;stroke:#4575b4;stroke-opacity:0.7;stroke-width:0.3;\" x=\"52.483037\" y=\"21.760816\" xlink:href=\"#me966b3d293\" />\n     <use style=\"fill:#4575b4;fill-opacity:0.7;stroke:#4575b4;stroke-opacity:0.7;stroke-width:0.3;\" x=\"55.627747\" y=\"9.632137\" xlink:href=\"#me966b3d293\" />\n     <use style=\"fill:#4575b4;fill-opacity:0.7;stroke:#4575b4;stroke-opacity:0.7;stroke-width:0.3;\" x=\"51.168677\" y=\"24.934774\" xlink:href=\"#me966b3d293\" />\n     <use style=\"fill:#4575b4;fill-opacity:0.7;stroke:#4575b4;stroke-opacity:0.7;stroke-width:0.3;\" x=\"59.126453\" y=\"12.609417\" xlink:href=\"#me966b3d293\" />\n     <use style=\"fill:#4575b4;fill-opacity:0.7;stroke:#4575b4;stroke-opacity:0.7;stroke-width:0.3;\" x=\"47.106077\" y=\"17.013635\" xlink:href=\"#me966b3d293\" />\n     <use style=\"fill:#4575b4;fill-opacity:0.7;stroke:#4575b4;stroke-opacity:0.7;stroke-width:0.3;\" x=\"57.896039\" y=\"13.404104\" xlink:href=\"#me966b3d293\" />\n     <use style=\"fill:#4575b4;fill-opacity:0.7;stroke:#4575b4;stroke-opacity:0.7;stroke-width:0.3;\" x=\"52.75523\" y=\"19.556034\" xlink:href=\"#me966b3d293\" />\n     <use style=\"fill:#4575b4;fill-opacity:0.7;stroke:#4575b4;stroke-opacity:0.7;stroke-width:0.3;\" x=\"56.38414\" y=\"25.760703\" xlink:href=\"#me966b3d293\" />\n     <use style=\"fill:#4575b4;fill-opacity:0.7;stroke:#4575b4;stroke-opacity:0.7;stroke-width:0.3;\" x=\"53.773425\" y=\"21.915962\" xlink:href=\"#me966b3d293\" />\n     <use style=\"fill:#4575b4;fill-opacity:0.7;stroke:#4575b4;stroke-opacity:0.7;stroke-width:0.3;\" x=\"57.321482\" y=\"22.734451\" xlink:href=\"#me966b3d293\" />\n     <use style=\"fill:#4575b4;fill-opacity:0.7;stroke:#4575b4;stroke-opacity:0.7;stroke-width:0.3;\" x=\"52.209362\" y=\"27.537514\" xlink:href=\"#me966b3d293\" />\n     <use style=\"fill:#4575b4;fill-opacity:0.7;stroke:#4575b4;stroke-opacity:0.7;stroke-width:0.3;\" x=\"49.828069\" y=\"21.157575\" xlink:href=\"#me966b3d293\" />\n     <use style=\"fill:#4575b4;fill-opacity:0.7;stroke:#4575b4;stroke-opacity:0.7;stroke-width:0.3;\" x=\"58.262098\" y=\"15.247114\" xlink:href=\"#me966b3d293\" />\n     <use style=\"fill:#4575b4;fill-opacity:0.7;stroke:#4575b4;stroke-opacity:0.7;stroke-width:0.3;\" x=\"53.126317\" y=\"19.519156\" xlink:href=\"#me966b3d293\" />\n     <use style=\"fill:#4575b4;fill-opacity:0.7;stroke:#4575b4;stroke-opacity:0.7;stroke-width:0.3;\" x=\"54.248028\" y=\"13.905146\" xlink:href=\"#me966b3d293\" />\n     <use style=\"fill:#4575b4;fill-opacity:0.7;stroke:#4575b4;stroke-opacity:0.7;stroke-width:0.3;\" x=\"57.640199\" y=\"15.513888\" xlink:href=\"#me966b3d293\" />\n     <use style=\"fill:#4575b4;fill-opacity:0.7;stroke:#4575b4;stroke-opacity:0.7;stroke-width:0.3;\" x=\"50.051264\" y=\"24.096965\" xlink:href=\"#me966b3d293\" />\n     <use style=\"fill:#4575b4;fill-opacity:0.7;stroke:#4575b4;stroke-opacity:0.7;stroke-width:0.3;\" x=\"55.499954\" y=\"16.049365\" xlink:href=\"#me966b3d293\" />\n     <use style=\"fill:#4575b4;fill-opacity:0.7;stroke:#4575b4;stroke-opacity:0.7;stroke-width:0.3;\" x=\"51.531282\" y=\"19.054781\" xlink:href=\"#me966b3d293\" />\n     <use style=\"fill:#4575b4;fill-opacity:0.7;stroke:#4575b4;stroke-opacity:0.7;stroke-width:0.3;\" x=\"53.063747\" y=\"19.844744\" xlink:href=\"#me966b3d293\" />\n     <use style=\"fill:#4575b4;fill-opacity:0.7;stroke:#4575b4;stroke-opacity:0.7;stroke-width:0.3;\" x=\"53.74824\" y=\"25.789815\" xlink:href=\"#me966b3d293\" />\n     <use style=\"fill:#4575b4;fill-opacity:0.7;stroke:#4575b4;stroke-opacity:0.7;stroke-width:0.3;\" x=\"48.483507\" y=\"25.917077\" xlink:href=\"#me966b3d293\" />\n     <use style=\"fill:#4575b4;fill-opacity:0.7;stroke:#4575b4;stroke-opacity:0.7;stroke-width:0.3;\" x=\"50.898704\" y=\"15.425066\" xlink:href=\"#me966b3d293\" />\n     <use style=\"fill:#4575b4;fill-opacity:0.7;stroke:#4575b4;stroke-opacity:0.7;stroke-width:0.3;\" x=\"58.029642\" y=\"17.455108\" xlink:href=\"#me966b3d293\" />\n     <use style=\"fill:#4575b4;fill-opacity:0.7;stroke:#4575b4;stroke-opacity:0.7;stroke-width:0.3;\" x=\"56.473218\" y=\"23.568186\" xlink:href=\"#me966b3d293\" />\n     <use style=\"fill:#4575b4;fill-opacity:0.7;stroke:#4575b4;stroke-opacity:0.7;stroke-width:0.3;\" x=\"53.296533\" y=\"22.990608\" xlink:href=\"#me966b3d293\" />\n     <use style=\"fill:#4575b4;fill-opacity:0.7;stroke:#4575b4;stroke-opacity:0.7;stroke-width:0.3;\" x=\"54.320227\" y=\"20.727326\" xlink:href=\"#me966b3d293\" />\n     <use style=\"fill:#4575b4;fill-opacity:0.7;stroke:#4575b4;stroke-opacity:0.7;stroke-width:0.3;\" x=\"52.521126\" y=\"15.79745\" xlink:href=\"#me966b3d293\" />\n     <use style=\"fill:#4575b4;fill-opacity:0.7;stroke:#4575b4;stroke-opacity:0.7;stroke-width:0.3;\" x=\"58.048091\" y=\"22.757884\" xlink:href=\"#me966b3d293\" />\n     <use style=\"fill:#4575b4;fill-opacity:0.7;stroke:#4575b4;stroke-opacity:0.7;stroke-width:0.3;\" x=\"52.83547\" y=\"22.28647\" xlink:href=\"#me966b3d293\" />\n     <use style=\"fill:#4575b4;fill-opacity:0.7;stroke:#4575b4;stroke-opacity:0.7;stroke-width:0.3;\" x=\"54.282457\" y=\"14.452\" xlink:href=\"#me966b3d293\" />\n     <use style=\"fill:#4575b4;fill-opacity:0.7;stroke:#4575b4;stroke-opacity:0.7;stroke-width:0.3;\" x=\"57.343159\" y=\"26.540186\" xlink:href=\"#me966b3d293\" />\n     <use style=\"fill:#4575b4;fill-opacity:0.7;stroke:#4575b4;stroke-opacity:0.7;stroke-width:0.3;\" x=\"50.90361\" y=\"22.203555\" xlink:href=\"#me966b3d293\" />\n     <use style=\"fill:#4575b4;fill-opacity:0.7;stroke:#4575b4;stroke-opacity:0.7;stroke-width:0.3;\" x=\"58.725076\" y=\"34.476516\" xlink:href=\"#me966b3d293\" />\n     <use style=\"fill:#4575b4;fill-opacity:0.7;stroke:#4575b4;stroke-opacity:0.7;stroke-width:0.3;\" x=\"48.382265\" y=\"22.036434\" xlink:href=\"#me966b3d293\" />\n     <use style=\"fill:#4575b4;fill-opacity:0.7;stroke:#4575b4;stroke-opacity:0.7;stroke-width:0.3;\" x=\"58.962292\" y=\"11.315545\" xlink:href=\"#me966b3d293\" />\n     <use style=\"fill:#4575b4;fill-opacity:0.7;stroke:#4575b4;stroke-opacity:0.7;stroke-width:0.3;\" x=\"52.258532\" y=\"17.259925\" xlink:href=\"#me966b3d293\" />\n     <use style=\"fill:#4575b4;fill-opacity:0.7;stroke:#4575b4;stroke-opacity:0.7;stroke-width:0.3;\" x=\"52.693695\" y=\"20.086233\" xlink:href=\"#me966b3d293\" />\n     <use style=\"fill:#4575b4;fill-opacity:0.7;stroke:#4575b4;stroke-opacity:0.7;stroke-width:0.3;\" x=\"47.178496\" y=\"20.014067\" xlink:href=\"#me966b3d293\" />\n     <use style=\"fill:#4575b4;fill-opacity:0.7;stroke:#4575b4;stroke-opacity:0.7;stroke-width:0.3;\" x=\"51.983597\" y=\"17.196917\" xlink:href=\"#me966b3d293\" />\n     <use style=\"fill:#4575b4;fill-opacity:0.7;stroke:#4575b4;stroke-opacity:0.7;stroke-width:0.3;\" x=\"50.024978\" y=\"23.833712\" xlink:href=\"#me966b3d293\" />\n     <use style=\"fill:#4575b4;fill-opacity:0.7;stroke:#4575b4;stroke-opacity:0.7;stroke-width:0.3;\" x=\"51.47185\" y=\"27.023008\" xlink:href=\"#me966b3d293\" />\n     <use style=\"fill:#4575b4;fill-opacity:0.7;stroke:#4575b4;stroke-opacity:0.7;stroke-width:0.3;\" x=\"53.046533\" y=\"24.950741\" xlink:href=\"#me966b3d293\" />\n     <use style=\"fill:#4575b4;fill-opacity:0.7;stroke:#4575b4;stroke-opacity:0.7;stroke-width:0.3;\" x=\"56.712936\" y=\"21.400973\" xlink:href=\"#me966b3d293\" />\n     <use style=\"fill:#4575b4;fill-opacity:0.7;stroke:#4575b4;stroke-opacity:0.7;stroke-width:0.3;\" x=\"54.201306\" y=\"15.974892\" xlink:href=\"#me966b3d293\" />\n     <use style=\"fill:#4575b4;fill-opacity:0.7;stroke:#4575b4;stroke-opacity:0.7;stroke-width:0.3;\" x=\"54.536351\" y=\"30.19327\" xlink:href=\"#me966b3d293\" />\n     <use style=\"fill:#4575b4;fill-opacity:0.7;stroke:#4575b4;stroke-opacity:0.7;stroke-width:0.3;\" x=\"49.838451\" y=\"14.163127\" xlink:href=\"#me966b3d293\" />\n     <use style=\"fill:#4575b4;fill-opacity:0.7;stroke:#4575b4;stroke-opacity:0.7;stroke-width:0.3;\" x=\"50.557485\" y=\"24.207631\" xlink:href=\"#me966b3d293\" />\n     <use style=\"fill:#4575b4;fill-opacity:0.7;stroke:#4575b4;stroke-opacity:0.7;stroke-width:0.3;\" x=\"59.528381\" y=\"20.473638\" xlink:href=\"#me966b3d293\" />\n     <use style=\"fill:#4575b4;fill-opacity:0.7;stroke:#4575b4;stroke-opacity:0.7;stroke-width:0.3;\" x=\"51.044797\" y=\"15.539731\" xlink:href=\"#me966b3d293\" />\n     <use style=\"fill:#4575b4;fill-opacity:0.7;stroke:#4575b4;stroke-opacity:0.7;stroke-width:0.3;\" x=\"59.051235\" y=\"29.827431\" xlink:href=\"#me966b3d293\" />\n     <use style=\"fill:#4575b4;fill-opacity:0.7;stroke:#4575b4;stroke-opacity:0.7;stroke-width:0.3;\" x=\"52.692481\" y=\"26.935182\" xlink:href=\"#me966b3d293\" />\n     <use style=\"fill:#4575b4;fill-opacity:0.7;stroke:#4575b4;stroke-opacity:0.7;stroke-width:0.3;\" x=\"53.51391\" y=\"27.307372\" xlink:href=\"#me966b3d293\" />\n     <use style=\"fill:#4575b4;fill-opacity:0.7;stroke:#4575b4;stroke-opacity:0.7;stroke-width:0.3;\" x=\"57.089833\" y=\"9.76098\" xlink:href=\"#me966b3d293\" />\n     <use style=\"fill:#4575b4;fill-opacity:0.7;stroke:#4575b4;stroke-opacity:0.7;stroke-width:0.3;\" x=\"57.764546\" y=\"25.902823\" xlink:href=\"#me966b3d293\" />\n     <use style=\"fill:#4575b4;fill-opacity:0.7;stroke:#4575b4;stroke-opacity:0.7;stroke-width:0.3;\" x=\"53.13525\" y=\"26.334233\" xlink:href=\"#me966b3d293\" />\n     <use style=\"fill:#4575b4;fill-opacity:0.7;stroke:#4575b4;stroke-opacity:0.7;stroke-width:0.3;\" x=\"52.206412\" y=\"21.71705\" xlink:href=\"#me966b3d293\" />\n     <use style=\"fill:#4575b4;fill-opacity:0.7;stroke:#4575b4;stroke-opacity:0.7;stroke-width:0.3;\" x=\"53.319028\" y=\"22.565003\" xlink:href=\"#me966b3d293\" />\n     <use style=\"fill:#4575b4;fill-opacity:0.7;stroke:#4575b4;stroke-opacity:0.7;stroke-width:0.3;\" x=\"54.637732\" y=\"23.151745\" xlink:href=\"#me966b3d293\" />\n     <use style=\"fill:#4575b4;fill-opacity:0.7;stroke:#4575b4;stroke-opacity:0.7;stroke-width:0.3;\" x=\"56.490335\" y=\"19.965459\" xlink:href=\"#me966b3d293\" />\n     <use style=\"fill:#4575b4;fill-opacity:0.7;stroke:#4575b4;stroke-opacity:0.7;stroke-width:0.3;\" x=\"53.520412\" y=\"26.755028\" xlink:href=\"#me966b3d293\" />\n     <use style=\"fill:#4575b4;fill-opacity:0.7;stroke:#4575b4;stroke-opacity:0.7;stroke-width:0.3;\" x=\"55.578281\" y=\"19.861128\" xlink:href=\"#me966b3d293\" />\n     <use style=\"fill:#4575b4;fill-opacity:0.7;stroke:#4575b4;stroke-opacity:0.7;stroke-width:0.3;\" x=\"58.991478\" y=\"23.84129\" xlink:href=\"#me966b3d293\" />\n     <use style=\"fill:#4575b4;fill-opacity:0.7;stroke:#4575b4;stroke-opacity:0.7;stroke-width:0.3;\" x=\"54.782875\" y=\"16.316031\" xlink:href=\"#me966b3d293\" />\n     <use style=\"fill:#4575b4;fill-opacity:0.7;stroke:#4575b4;stroke-opacity:0.7;stroke-width:0.3;\" x=\"54.549664\" y=\"22.072173\" xlink:href=\"#me966b3d293\" />\n     <use style=\"fill:#4575b4;fill-opacity:0.7;stroke:#4575b4;stroke-opacity:0.7;stroke-width:0.3;\" x=\"48.420937\" y=\"24.634475\" xlink:href=\"#me966b3d293\" />\n     <use style=\"fill:#4575b4;fill-opacity:0.7;stroke:#4575b4;stroke-opacity:0.7;stroke-width:0.3;\" x=\"44.698566\" y=\"22.427659\" xlink:href=\"#me966b3d293\" />\n     <use style=\"fill:#4575b4;fill-opacity:0.7;stroke:#4575b4;stroke-opacity:0.7;stroke-width:0.3;\" x=\"54.806532\" y=\"16.293024\" xlink:href=\"#me966b3d293\" />\n     <use style=\"fill:#4575b4;fill-opacity:0.7;stroke:#4575b4;stroke-opacity:0.7;stroke-width:0.3;\" x=\"53.188778\" y=\"24.158037\" xlink:href=\"#me966b3d293\" />\n     <use style=\"fill:#4575b4;fill-opacity:0.7;stroke:#4575b4;stroke-opacity:0.7;stroke-width:0.3;\" x=\"51.782758\" y=\"20.210175\" xlink:href=\"#me966b3d293\" />\n    </g>\n   </g>\n   <g id=\"matplotlib.axis_1\" />\n   <g id=\"matplotlib.axis_2\">\n    <g id=\"ytick_1\">\n     <g id=\"line2d_1\">\n      <defs>\n       <path d=\"M 0 0  L -3.5 0  \" id=\"m5b96ed3e18\" style=\"stroke:#444443;stroke-width:0.3;\" />\n      </defs>\n      <g>\n       <use style=\"fill:#444443;stroke:#444443;stroke-width:0.3;\" x=\"32.58125\" y=\"42.65814\" xlink:href=\"#m5b96ed3e18\" />\n      </g>\n     </g>\n     <g id=\"text_1\">\n      \n      <defs>\n       <path d=\"M 10.59375 35.5  L 73.1875 35.5  L 73.1875 27.203125  L 10.59375 27.203125  z \" id=\"DejaVuSans-8722\" />\n       <path d=\"M 12.40625 8.296875  L 28.515625 8.296875  L 28.515625 63.921875  L 10.984375 60.40625  L 10.984375 69.390625  L 28.421875 72.90625  L 38.28125 72.90625  L 38.28125 8.296875  L 54.390625 8.296875  L 54.390625 0  L 12.40625 0  z \" id=\"DejaVuSans-49\" />\n       <path d=\"M 31.78125 66.40625  Q 24.171875 66.40625 20.328125 58.90625  Q 16.5 51.421875 16.5 36.375  Q 16.5 21.390625 20.328125 13.890625  Q 24.171875 6.390625 31.78125 6.390625  Q 39.453125 6.390625 43.28125 13.890625  Q 47.125 21.390625 47.125 36.375  Q 47.125 51.421875 43.28125 58.90625  Q 39.453125 66.40625 31.78125 66.40625  z M 31.78125 74.21875  Q 44.046875 74.21875 50.515625 64.515625  Q 56.984375 54.828125 56.984375 36.375  Q 56.984375 17.96875 50.515625 8.265625  Q 44.046875 -1.421875 31.78125 -1.421875  Q 19.53125 -1.421875 13.0625 8.265625  Q 6.59375 17.96875 6.59375 36.375  Q 6.59375 54.828125 13.0625 64.515625  Q 19.53125 74.21875 31.78125 74.21875  z \" id=\"DejaVuSans-48\" />\n      </defs>\n      <g style=\"fill:#444443;\" transform=\"translate(3.6075 45.697515)scale(0.08 -0.08)\">\n       <use xlink:href=\"#DejaVuSans-8722\" />\n       <use x=\"83.789062\" xlink:href=\"#DejaVuSans-49\" />\n       <use x=\"147.412109\" xlink:href=\"#DejaVuSans-48\" />\n       <use x=\"211.035156\" xlink:href=\"#DejaVuSans-48\" />\n      </g>\n     </g>\n    </g>\n    <g id=\"ytick_2\">\n     <g id=\"line2d_2\">\n      <g>\n       <use style=\"fill:#444443;stroke:#444443;stroke-width:0.3;\" x=\"32.58125\" y=\"24.750061\" xlink:href=\"#m5b96ed3e18\" />\n      </g>\n     </g>\n     <g id=\"text_2\">\n      \n      <g style=\"fill:#444443;\" transform=\"translate(20.49125 27.789436)scale(0.08 -0.08)\">\n       <use xlink:href=\"#DejaVuSans-48\" />\n      </g>\n     </g>\n    </g>\n    <g id=\"ytick_3\">\n     <g id=\"line2d_3\">\n      <g>\n       <use style=\"fill:#444443;stroke:#444443;stroke-width:0.3;\" x=\"32.58125\" y=\"6.841982\" xlink:href=\"#m5b96ed3e18\" />\n      </g>\n     </g>\n     <g id=\"text_3\">\n      \n      <g style=\"fill:#444443;\" transform=\"translate(10.31125 9.881357)scale(0.08 -0.08)\">\n       <use xlink:href=\"#DejaVuSans-49\" />\n       <use x=\"63.623047\" xlink:href=\"#DejaVuSans-48\" />\n       <use x=\"127.246094\" xlink:href=\"#DejaVuSans-48\" />\n      </g>\n     </g>\n    </g>\n   </g>\n   <g id=\"line2d_4\">\n    <path clip-path=\"url(#p2051b28b1b)\" d=\"M 32.58125 20.721677  L 109.0125 20.721677  \" style=\"fill:none;stroke:#444443;stroke-dasharray:3.7,1.6;stroke-dashoffset:0;\" />\n   </g>\n   <g id=\"patch_3\">\n    <path d=\"M 32.58125 43.488  L 32.58125 -0  \" style=\"fill:none;stroke:#000000;stroke-linecap:square;stroke-linejoin:miter;stroke-width:0.3;\" />\n   </g>\n   <g id=\"text_4\">\n    \n    <defs>\n     <path d=\"M 53.515625 70.515625  L 53.515625 60.890625  Q 47.90625 63.578125 42.921875 64.890625  Q 37.9375 66.21875 33.296875 66.21875  Q 25.25 66.21875 20.875 63.09375  Q 16.5 59.96875 16.5 54.203125  Q 16.5 49.359375 19.40625 46.890625  Q 22.3125 44.4375 30.421875 42.921875  L 36.375 41.703125  Q 47.40625 39.59375 52.65625 34.296875  Q 57.90625 29 57.90625 20.125  Q 57.90625 9.515625 50.796875 4.046875  Q 43.703125 -1.421875 29.984375 -1.421875  Q 24.8125 -1.421875 18.96875 -0.25  Q 13.140625 0.921875 6.890625 3.21875  L 6.890625 13.375  Q 12.890625 10.015625 18.65625 8.296875  Q 24.421875 6.59375 29.984375 6.59375  Q 38.421875 6.59375 43.015625 9.90625  Q 47.609375 13.234375 47.609375 19.390625  Q 47.609375 24.75 44.3125 27.78125  Q 41.015625 30.8125 33.5 32.328125  L 27.484375 33.5  Q 16.453125 35.6875 11.515625 40.375  Q 6.59375 45.0625 6.59375 53.421875  Q 6.59375 63.09375 13.40625 68.65625  Q 20.21875 74.21875 32.171875 74.21875  Q 37.3125 74.21875 42.625 73.28125  Q 47.953125 72.359375 53.515625 70.515625  z \" id=\"DejaVuSans-83\" />\n     <path d=\"M 32.171875 -5.078125  Q 28.375 -14.84375 24.75 -17.8125  Q 21.140625 -20.796875 15.09375 -20.796875  L 7.90625 -20.796875  L 7.90625 -13.28125  L 13.1875 -13.28125  Q 16.890625 -13.28125 18.9375 -11.515625  Q 21 -9.765625 23.484375 -3.21875  L 25.09375 0.875  L 2.984375 54.6875  L 12.5 54.6875  L 29.59375 11.921875  L 46.6875 54.6875  L 56.203125 54.6875  z \" id=\"DejaVuSans-121\" />\n     <path d=\"M 54.890625 33.015625  L 54.890625 0  L 45.90625 0  L 45.90625 32.71875  Q 45.90625 40.484375 42.875 44.328125  Q 39.84375 48.1875 33.796875 48.1875  Q 26.515625 48.1875 22.3125 43.546875  Q 18.109375 38.921875 18.109375 30.90625  L 18.109375 0  L 9.078125 0  L 9.078125 54.6875  L 18.109375 54.6875  L 18.109375 46.1875  Q 21.34375 51.125 25.703125 53.5625  Q 30.078125 56 35.796875 56  Q 45.21875 56 50.046875 50.171875  Q 54.890625 44.34375 54.890625 33.015625  z \" id=\"DejaVuSans-110\" />\n     <path d=\"M 56.203125 29.59375  L 56.203125 25.203125  L 14.890625 25.203125  Q 15.484375 15.921875 20.484375 11.0625  Q 25.484375 6.203125 34.421875 6.203125  Q 39.59375 6.203125 44.453125 7.46875  Q 49.3125 8.734375 54.109375 11.28125  L 54.109375 2.78125  Q 49.265625 0.734375 44.1875 -0.34375  Q 39.109375 -1.421875 33.890625 -1.421875  Q 20.796875 -1.421875 13.15625 6.1875  Q 5.515625 13.8125 5.515625 26.8125  Q 5.515625 40.234375 12.765625 48.109375  Q 20.015625 56 32.328125 56  Q 43.359375 56 49.78125 48.890625  Q 56.203125 41.796875 56.203125 29.59375  z M 47.21875 32.234375  Q 47.125 39.59375 43.09375 43.984375  Q 39.0625 48.390625 32.421875 48.390625  Q 24.90625 48.390625 20.390625 44.140625  Q 15.875 39.890625 15.1875 32.171875  z \" id=\"DejaVuSans-101\" />\n     <path d=\"M 41.109375 46.296875  Q 39.59375 47.171875 37.8125 47.578125  Q 36.03125 48 33.890625 48  Q 26.265625 48 22.1875 43.046875  Q 18.109375 38.09375 18.109375 28.8125  L 18.109375 0  L 9.078125 0  L 9.078125 54.6875  L 18.109375 54.6875  L 18.109375 46.1875  Q 20.953125 51.171875 25.484375 53.578125  Q 30.03125 56 36.53125 56  Q 37.453125 56 38.578125 55.875  Q 39.703125 55.765625 41.0625 55.515625  z \" id=\"DejaVuSans-114\" />\n     <path d=\"M 45.40625 27.984375  Q 45.40625 37.75 41.375 43.109375  Q 37.359375 48.484375 30.078125 48.484375  Q 22.859375 48.484375 18.828125 43.109375  Q 14.796875 37.75 14.796875 27.984375  Q 14.796875 18.265625 18.828125 12.890625  Q 22.859375 7.515625 30.078125 7.515625  Q 37.359375 7.515625 41.375 12.890625  Q 45.40625 18.265625 45.40625 27.984375  z M 54.390625 6.78125  Q 54.390625 -7.171875 48.1875 -13.984375  Q 42 -20.796875 29.203125 -20.796875  Q 24.46875 -20.796875 20.265625 -20.09375  Q 16.0625 -19.390625 12.109375 -17.921875  L 12.109375 -9.1875  Q 16.0625 -11.328125 19.921875 -12.34375  Q 23.78125 -13.375 27.78125 -13.375  Q 36.625 -13.375 41.015625 -8.765625  Q 45.40625 -4.15625 45.40625 5.171875  L 45.40625 9.625  Q 42.625 4.78125 38.28125 2.390625  Q 33.9375 0 27.875 0  Q 17.828125 0 11.671875 7.65625  Q 5.515625 15.328125 5.515625 27.984375  Q 5.515625 40.671875 11.671875 48.328125  Q 17.828125 56 27.875 56  Q 33.9375 56 38.28125 53.609375  Q 42.625 51.21875 45.40625 46.390625  L 45.40625 54.6875  L 54.390625 54.6875  z \" id=\"DejaVuSans-103\" />\n     <path id=\"DejaVuSans-32\" />\n     <path d=\"M 44.28125 53.078125  L 44.28125 44.578125  Q 40.484375 46.53125 36.375 47.5  Q 32.28125 48.484375 27.875 48.484375  Q 21.1875 48.484375 17.84375 46.4375  Q 14.5 44.390625 14.5 40.28125  Q 14.5 37.15625 16.890625 35.375  Q 19.28125 33.59375 26.515625 31.984375  L 29.59375 31.296875  Q 39.15625 29.25 43.1875 25.515625  Q 47.21875 21.78125 47.21875 15.09375  Q 47.21875 7.46875 41.1875 3.015625  Q 35.15625 -1.421875 24.609375 -1.421875  Q 20.21875 -1.421875 15.453125 -0.5625  Q 10.6875 0.296875 5.421875 2  L 5.421875 11.28125  Q 10.40625 8.6875 15.234375 7.390625  Q 20.0625 6.109375 24.8125 6.109375  Q 31.15625 6.109375 34.5625 8.28125  Q 37.984375 10.453125 37.984375 14.40625  Q 37.984375 18.0625 35.515625 20.015625  Q 33.0625 21.96875 24.703125 23.78125  L 21.578125 24.515625  Q 13.234375 26.265625 9.515625 29.90625  Q 5.8125 33.546875 5.8125 39.890625  Q 5.8125 47.609375 11.28125 51.796875  Q 16.75 56 26.8125 56  Q 31.78125 56 36.171875 55.265625  Q 40.578125 54.546875 44.28125 53.078125  z \" id=\"DejaVuSans-115\" />\n     <path d=\"M 48.78125 52.59375  L 48.78125 44.1875  Q 44.96875 46.296875 41.140625 47.34375  Q 37.3125 48.390625 33.40625 48.390625  Q 24.65625 48.390625 19.8125 42.84375  Q 14.984375 37.3125 14.984375 27.296875  Q 14.984375 17.28125 19.8125 11.734375  Q 24.65625 6.203125 33.40625 6.203125  Q 37.3125 6.203125 41.140625 7.25  Q 44.96875 8.296875 48.78125 10.40625  L 48.78125 2.09375  Q 45.015625 0.34375 40.984375 -0.53125  Q 36.96875 -1.421875 32.421875 -1.421875  Q 20.0625 -1.421875 12.78125 6.34375  Q 5.515625 14.109375 5.515625 27.296875  Q 5.515625 40.671875 12.859375 48.328125  Q 20.21875 56 33.015625 56  Q 37.15625 56 41.109375 55.140625  Q 45.0625 54.296875 48.78125 52.59375  z \" id=\"DejaVuSans-99\" />\n     <path d=\"M 30.609375 48.390625  Q 23.390625 48.390625 19.1875 42.75  Q 14.984375 37.109375 14.984375 27.296875  Q 14.984375 17.484375 19.15625 11.84375  Q 23.34375 6.203125 30.609375 6.203125  Q 37.796875 6.203125 41.984375 11.859375  Q 46.1875 17.53125 46.1875 27.296875  Q 46.1875 37.015625 41.984375 42.703125  Q 37.796875 48.390625 30.609375 48.390625  z M 30.609375 56  Q 42.328125 56 49.015625 48.375  Q 55.71875 40.765625 55.71875 27.296875  Q 55.71875 13.875 49.015625 6.21875  Q 42.328125 -1.421875 30.609375 -1.421875  Q 18.84375 -1.421875 12.171875 6.21875  Q 5.515625 13.875 5.515625 27.296875  Q 5.515625 40.765625 12.171875 48.375  Q 18.84375 56 30.609375 56  z \" id=\"DejaVuSans-111\" />\n     <path d=\"M 10.59375 45.40625  L 73.1875 45.40625  L 73.1875 37.203125  L 10.59375 37.203125  z M 10.59375 25.484375  L 73.1875 25.484375  L 73.1875 17.1875  L 10.59375 17.1875  z \" id=\"DejaVuSans-61\" />\n     <path d=\"M 19.1875 8.296875  L 53.609375 8.296875  L 53.609375 0  L 7.328125 0  L 7.328125 8.296875  Q 12.9375 14.109375 22.625 23.890625  Q 32.328125 33.6875 34.8125 36.53125  Q 39.546875 41.84375 41.421875 45.53125  Q 43.3125 49.21875 43.3125 52.78125  Q 43.3125 58.59375 39.234375 62.25  Q 35.15625 65.921875 28.609375 65.921875  Q 23.96875 65.921875 18.8125 64.3125  Q 13.671875 62.703125 7.8125 59.421875  L 7.8125 69.390625  Q 13.765625 71.78125 18.9375 73  Q 24.125 74.21875 28.421875 74.21875  Q 39.75 74.21875 46.484375 68.546875  Q 53.21875 62.890625 53.21875 53.421875  Q 53.21875 48.921875 51.53125 44.890625  Q 49.859375 40.875 45.40625 35.40625  Q 44.1875 33.984375 37.640625 27.21875  Q 31.109375 20.453125 19.1875 8.296875  z \" id=\"DejaVuSans-50\" />\n     <path d=\"M 10.6875 12.40625  L 21 12.40625  L 21 0  L 10.6875 0  z \" id=\"DejaVuSans-46\" />\n     <path d=\"M 37.796875 64.3125  L 12.890625 25.390625  L 37.796875 25.390625  z M 35.203125 72.90625  L 47.609375 72.90625  L 47.609375 25.390625  L 58.015625 25.390625  L 58.015625 17.1875  L 47.609375 17.1875  L 47.609375 0  L 37.796875 0  L 37.796875 17.1875  L 4.890625 17.1875  L 4.890625 26.703125  z \" id=\"DejaVuSans-52\" />\n     <path d=\"M 10.984375 1.515625  L 10.984375 10.5  Q 14.703125 8.734375 18.5 7.8125  Q 22.3125 6.890625 25.984375 6.890625  Q 35.75 6.890625 40.890625 13.453125  Q 46.046875 20.015625 46.78125 33.40625  Q 43.953125 29.203125 39.59375 26.953125  Q 35.25 24.703125 29.984375 24.703125  Q 19.046875 24.703125 12.671875 31.3125  Q 6.296875 37.9375 6.296875 49.421875  Q 6.296875 60.640625 12.9375 67.421875  Q 19.578125 74.21875 30.609375 74.21875  Q 43.265625 74.21875 49.921875 64.515625  Q 56.59375 54.828125 56.59375 36.375  Q 56.59375 19.140625 48.40625 8.859375  Q 40.234375 -1.421875 26.421875 -1.421875  Q 22.703125 -1.421875 18.890625 -0.6875  Q 15.09375 0.046875 10.984375 1.515625  z M 30.609375 32.421875  Q 37.25 32.421875 41.125 36.953125  Q 45.015625 41.5 45.015625 49.421875  Q 45.015625 57.28125 41.125 61.84375  Q 37.25 66.40625 30.609375 66.40625  Q 23.96875 66.40625 20.09375 61.84375  Q 16.21875 57.28125 16.21875 49.421875  Q 16.21875 41.5 20.09375 36.953125  Q 23.96875 32.421875 30.609375 32.421875  z \" id=\"DejaVuSans-57\" />\n    </defs>\n    <g style=\"fill:#444443;\" transform=\"translate(0 52.836437)scale(0.1 -0.1)\">\n     <use xlink:href=\"#DejaVuSans-83\" />\n     <use x=\"63.476562\" xlink:href=\"#DejaVuSans-121\" />\n     <use x=\"122.65625\" xlink:href=\"#DejaVuSans-110\" />\n     <use x=\"186.035156\" xlink:href=\"#DejaVuSans-101\" />\n     <use x=\"247.558594\" xlink:href=\"#DejaVuSans-114\" />\n     <use x=\"286.921875\" xlink:href=\"#DejaVuSans-103\" />\n     <use x=\"350.398438\" xlink:href=\"#DejaVuSans-121\" />\n     <use x=\"409.578125\" xlink:href=\"#DejaVuSans-32\" />\n     <use x=\"441.365234\" xlink:href=\"#DejaVuSans-115\" />\n     <use x=\"493.464844\" xlink:href=\"#DejaVuSans-99\" />\n     <use x=\"548.445312\" xlink:href=\"#DejaVuSans-111\" />\n     <use x=\"609.626953\" xlink:href=\"#DejaVuSans-114\" />\n     <use x=\"648.490234\" xlink:href=\"#DejaVuSans-101\" />\n     <use x=\"710.013672\" xlink:href=\"#DejaVuSans-61\" />\n     <use x=\"793.802734\" xlink:href=\"#DejaVuSans-50\" />\n     <use x=\"857.425781\" xlink:href=\"#DejaVuSans-50\" />\n     <use x=\"921.048828\" xlink:href=\"#DejaVuSans-46\" />\n     <use x=\"952.835938\" xlink:href=\"#DejaVuSans-52\" />\n     <use x=\"1016.458984\" xlink:href=\"#DejaVuSans-57\" />\n    </g>\n    \n    <g style=\"fill:#444443;\" transform=\"translate(37.103906 64.03425)scale(0.1 -0.1)\">\n     <use xlink:href=\"#DejaVuSans-110\" />\n     <use x=\"63.378906\" xlink:href=\"#DejaVuSans-61\" />\n     <use x=\"147.167969\" xlink:href=\"#DejaVuSans-49\" />\n     <use x=\"210.791016\" xlink:href=\"#DejaVuSans-48\" />\n     <use x=\"274.414062\" xlink:href=\"#DejaVuSans-50\" />\n    </g>\n   </g>\n  </g>\n </g>\n <defs>\n  <clipPath id=\"p2051b28b1b\">\n   <rect height=\"43.488\" width=\"41.85\" x=\"32.58125\" y=\"-0\" />\n  </clipPath>\n </defs>\n</svg></g>\n\n<g class=\"edge\" id=\"edge2\">\n<title>node3-&gt;leaf6</title>\n<path d=\"M483.3819,-117.6125C487.7057,-116.225 491.9965,-114.8481 496.1817,-113.5051\" fill=\"none\" stroke=\"#444443\" stroke-width=\".3\" />\n<polygon fill=\"#444443\" points=\"496.6125,-114.8373 499.9934,-112.282 495.7569,-112.1712 496.6125,-114.8373\" stroke=\"#444443\" stroke-width=\".3\" />\n</g>\n\n<g class=\"node\" id=\"node6\">\n<title>leaf4</title>\n<polygon fill=\"none\" points=\"452.5,-90 368.5,-90 368.5,-32 452.5,-32 452.5,-90\" stroke=\"#444443\" stroke-width=\"0\" />\n<svg height=\"50px\" preserveAspectRatio=\"xMinYMin meet\" version=\"1.1\" viewBox=\"0 0 101.65 66.113937\" width=\"76px\" x=\"372.5\" y=\"-86\">\n <defs>\n  <style type=\"text/css\">\n*{stroke-linecap:butt;stroke-linejoin:round;}\n  </style>\n </defs>\n <g id=\"figure_1\">\n  <g id=\"patch_1\">\n   <path d=\"M -0 66.113937  L 101.65 66.113937  L 101.65 0  L -0 0  z \" style=\"fill:#ffffff;\" />\n  </g>\n  <g id=\"axes_1\">\n   <g id=\"patch_2\">\n    <path d=\"M 29.4 43.488  L 71.25 43.488  L 71.25 -0  L 29.4 -0  z \" style=\"fill:#ffffff;\" />\n   </g>\n   <g id=\"PathCollection_1\">\n    <defs>\n     <path d=\"M 0 1.118034  C 0.296506 1.118034 0.580908 1.000231 0.790569 0.790569  C 1.000231 0.580908 1.118034 0.296506 1.118034 0  C 1.118034 -0.296506 1.000231 -0.580908 0.790569 -0.790569  C 0.580908 -1.000231 0.296506 -1.118034 0 -1.118034  C -0.296506 -1.118034 -0.580908 -1.000231 -0.790569 -0.790569  C -1.000231 -0.580908 -1.118034 -0.296506 -1.118034 0  C -1.118034 0.296506 -1.000231 0.580908 -0.790569 0.790569  C -0.580908 1.000231 -0.296506 1.118034 0 1.118034  z \" id=\"m0917eb4461\" style=\"stroke:#4575b4;stroke-opacity:0.7;stroke-width:0.3;\" />\n    </defs>\n    <g clip-path=\"url(#p08f8445706)\">\n     <use style=\"fill:#4575b4;fill-opacity:0.7;stroke:#4575b4;stroke-opacity:0.7;stroke-width:0.3;\" x=\"51.140339\" y=\"20.940185\" xlink:href=\"#m0917eb4461\" />\n     <use style=\"fill:#4575b4;fill-opacity:0.7;stroke:#4575b4;stroke-opacity:0.7;stroke-width:0.3;\" x=\"50.122768\" y=\"24.952949\" xlink:href=\"#m0917eb4461\" />\n     <use style=\"fill:#4575b4;fill-opacity:0.7;stroke:#4575b4;stroke-opacity:0.7;stroke-width:0.3;\" x=\"54.100808\" y=\"23.070952\" xlink:href=\"#m0917eb4461\" />\n     <use style=\"fill:#4575b4;fill-opacity:0.7;stroke:#4575b4;stroke-opacity:0.7;stroke-width:0.3;\" x=\"50.613299\" y=\"26.368733\" xlink:href=\"#m0917eb4461\" />\n     <use style=\"fill:#4575b4;fill-opacity:0.7;stroke:#4575b4;stroke-opacity:0.7;stroke-width:0.3;\" x=\"47.824301\" y=\"32.81588\" xlink:href=\"#m0917eb4461\" />\n     <use style=\"fill:#4575b4;fill-opacity:0.7;stroke:#4575b4;stroke-opacity:0.7;stroke-width:0.3;\" x=\"53.640077\" y=\"22.50387\" xlink:href=\"#m0917eb4461\" />\n     <use style=\"fill:#4575b4;fill-opacity:0.7;stroke:#4575b4;stroke-opacity:0.7;stroke-width:0.3;\" x=\"49.598045\" y=\"28.297748\" xlink:href=\"#m0917eb4461\" />\n     <use style=\"fill:#4575b4;fill-opacity:0.7;stroke:#4575b4;stroke-opacity:0.7;stroke-width:0.3;\" x=\"52.087845\" y=\"21.810382\" xlink:href=\"#m0917eb4461\" />\n     <use style=\"fill:#4575b4;fill-opacity:0.7;stroke:#4575b4;stroke-opacity:0.7;stroke-width:0.3;\" x=\"48.726629\" y=\"21.968809\" xlink:href=\"#m0917eb4461\" />\n     <use style=\"fill:#4575b4;fill-opacity:0.7;stroke:#4575b4;stroke-opacity:0.7;stroke-width:0.3;\" x=\"48.14938\" y=\"23.381081\" xlink:href=\"#m0917eb4461\" />\n     <use style=\"fill:#4575b4;fill-opacity:0.7;stroke:#4575b4;stroke-opacity:0.7;stroke-width:0.3;\" x=\"50.606795\" y=\"27.398976\" xlink:href=\"#m0917eb4461\" />\n     <use style=\"fill:#4575b4;fill-opacity:0.7;stroke:#4575b4;stroke-opacity:0.7;stroke-width:0.3;\" x=\"50.36795\" y=\"23.60649\" xlink:href=\"#m0917eb4461\" />\n     <use style=\"fill:#4575b4;fill-opacity:0.7;stroke:#4575b4;stroke-opacity:0.7;stroke-width:0.3;\" x=\"51.931461\" y=\"24.607077\" xlink:href=\"#m0917eb4461\" />\n     <use style=\"fill:#4575b4;fill-opacity:0.7;stroke:#4575b4;stroke-opacity:0.7;stroke-width:0.3;\" x=\"49.425574\" y=\"11.82402\" xlink:href=\"#m0917eb4461\" />\n     <use style=\"fill:#4575b4;fill-opacity:0.7;stroke:#4575b4;stroke-opacity:0.7;stroke-width:0.3;\" x=\"44.176867\" y=\"26.427135\" xlink:href=\"#m0917eb4461\" />\n     <use style=\"fill:#4575b4;fill-opacity:0.7;stroke:#4575b4;stroke-opacity:0.7;stroke-width:0.3;\" x=\"48.876073\" y=\"23.483895\" xlink:href=\"#m0917eb4461\" />\n     <use style=\"fill:#4575b4;fill-opacity:0.7;stroke:#4575b4;stroke-opacity:0.7;stroke-width:0.3;\" x=\"52.982704\" y=\"29.071705\" xlink:href=\"#m0917eb4461\" />\n     <use style=\"fill:#4575b4;fill-opacity:0.7;stroke:#4575b4;stroke-opacity:0.7;stroke-width:0.3;\" x=\"49.329385\" y=\"24.033232\" xlink:href=\"#m0917eb4461\" />\n     <use style=\"fill:#4575b4;fill-opacity:0.7;stroke:#4575b4;stroke-opacity:0.7;stroke-width:0.3;\" x=\"49.500108\" y=\"28.323634\" xlink:href=\"#m0917eb4461\" />\n     <use style=\"fill:#4575b4;fill-opacity:0.7;stroke:#4575b4;stroke-opacity:0.7;stroke-width:0.3;\" x=\"53.627389\" y=\"24.682755\" xlink:href=\"#m0917eb4461\" />\n     <use style=\"fill:#4575b4;fill-opacity:0.7;stroke:#4575b4;stroke-opacity:0.7;stroke-width:0.3;\" x=\"47.941314\" y=\"29.202907\" xlink:href=\"#m0917eb4461\" />\n     <use style=\"fill:#4575b4;fill-opacity:0.7;stroke:#4575b4;stroke-opacity:0.7;stroke-width:0.3;\" x=\"45.159695\" y=\"24.585692\" xlink:href=\"#m0917eb4461\" />\n     <use style=\"fill:#4575b4;fill-opacity:0.7;stroke:#4575b4;stroke-opacity:0.7;stroke-width:0.3;\" x=\"49.787207\" y=\"22.338781\" xlink:href=\"#m0917eb4461\" />\n     <use style=\"fill:#4575b4;fill-opacity:0.7;stroke:#4575b4;stroke-opacity:0.7;stroke-width:0.3;\" x=\"48.703986\" y=\"19.210664\" xlink:href=\"#m0917eb4461\" />\n     <use style=\"fill:#4575b4;fill-opacity:0.7;stroke:#4575b4;stroke-opacity:0.7;stroke-width:0.3;\" x=\"47.090007\" y=\"18.661671\" xlink:href=\"#m0917eb4461\" />\n     <use style=\"fill:#4575b4;fill-opacity:0.7;stroke:#4575b4;stroke-opacity:0.7;stroke-width:0.3;\" x=\"49.737833\" y=\"24.431331\" xlink:href=\"#m0917eb4461\" />\n     <use style=\"fill:#4575b4;fill-opacity:0.7;stroke:#4575b4;stroke-opacity:0.7;stroke-width:0.3;\" x=\"51.970561\" y=\"23.265255\" xlink:href=\"#m0917eb4461\" />\n     <use style=\"fill:#4575b4;fill-opacity:0.7;stroke:#4575b4;stroke-opacity:0.7;stroke-width:0.3;\" x=\"50.293902\" y=\"20.497261\" xlink:href=\"#m0917eb4461\" />\n     <use style=\"fill:#4575b4;fill-opacity:0.7;stroke:#4575b4;stroke-opacity:0.7;stroke-width:0.3;\" x=\"51.352773\" y=\"20.832531\" xlink:href=\"#m0917eb4461\" />\n     <use style=\"fill:#4575b4;fill-opacity:0.7;stroke:#4575b4;stroke-opacity:0.7;stroke-width:0.3;\" x=\"56.396289\" y=\"23.573918\" xlink:href=\"#m0917eb4461\" />\n     <use style=\"fill:#4575b4;fill-opacity:0.7;stroke:#4575b4;stroke-opacity:0.7;stroke-width:0.3;\" x=\"49.177042\" y=\"29.875663\" xlink:href=\"#m0917eb4461\" />\n     <use style=\"fill:#4575b4;fill-opacity:0.7;stroke:#4575b4;stroke-opacity:0.7;stroke-width:0.3;\" x=\"51.256911\" y=\"24.491297\" xlink:href=\"#m0917eb4461\" />\n     <use style=\"fill:#4575b4;fill-opacity:0.7;stroke:#4575b4;stroke-opacity:0.7;stroke-width:0.3;\" x=\"48.620154\" y=\"25.639773\" xlink:href=\"#m0917eb4461\" />\n     <use style=\"fill:#4575b4;fill-opacity:0.7;stroke:#4575b4;stroke-opacity:0.7;stroke-width:0.3;\" x=\"47.491388\" y=\"22.297713\" xlink:href=\"#m0917eb4461\" />\n     <use style=\"fill:#4575b4;fill-opacity:0.7;stroke:#4575b4;stroke-opacity:0.7;stroke-width:0.3;\" x=\"48.366729\" y=\"21.492146\" xlink:href=\"#m0917eb4461\" />\n     <use style=\"fill:#4575b4;fill-opacity:0.7;stroke:#4575b4;stroke-opacity:0.7;stroke-width:0.3;\" x=\"48.722116\" y=\"19.118668\" xlink:href=\"#m0917eb4461\" />\n     <use style=\"fill:#4575b4;fill-opacity:0.7;stroke:#4575b4;stroke-opacity:0.7;stroke-width:0.3;\" x=\"51.528525\" y=\"24.595898\" xlink:href=\"#m0917eb4461\" />\n     <use style=\"fill:#4575b4;fill-opacity:0.7;stroke:#4575b4;stroke-opacity:0.7;stroke-width:0.3;\" x=\"58.189706\" y=\"18.941024\" xlink:href=\"#m0917eb4461\" />\n     <use style=\"fill:#4575b4;fill-opacity:0.7;stroke:#4575b4;stroke-opacity:0.7;stroke-width:0.3;\" x=\"47.927687\" y=\"28.531755\" xlink:href=\"#m0917eb4461\" />\n     <use style=\"fill:#4575b4;fill-opacity:0.7;stroke:#4575b4;stroke-opacity:0.7;stroke-width:0.3;\" x=\"48.930138\" y=\"25.009224\" xlink:href=\"#m0917eb4461\" />\n     <use style=\"fill:#4575b4;fill-opacity:0.7;stroke:#4575b4;stroke-opacity:0.7;stroke-width:0.3;\" x=\"50.113664\" y=\"21.925498\" xlink:href=\"#m0917eb4461\" />\n     <use style=\"fill:#4575b4;fill-opacity:0.7;stroke:#4575b4;stroke-opacity:0.7;stroke-width:0.3;\" x=\"51.650135\" y=\"27.939648\" xlink:href=\"#m0917eb4461\" />\n     <use style=\"fill:#4575b4;fill-opacity:0.7;stroke:#4575b4;stroke-opacity:0.7;stroke-width:0.3;\" x=\"51.207368\" y=\"23.079632\" xlink:href=\"#m0917eb4461\" />\n     <use style=\"fill:#4575b4;fill-opacity:0.7;stroke:#4575b4;stroke-opacity:0.7;stroke-width:0.3;\" x=\"54.624153\" y=\"30.643633\" xlink:href=\"#m0917eb4461\" />\n     <use style=\"fill:#4575b4;fill-opacity:0.7;stroke:#4575b4;stroke-opacity:0.7;stroke-width:0.3;\" x=\"42.201439\" y=\"16.425875\" xlink:href=\"#m0917eb4461\" />\n     <use style=\"fill:#4575b4;fill-opacity:0.7;stroke:#4575b4;stroke-opacity:0.7;stroke-width:0.3;\" x=\"42.333559\" y=\"21.863841\" xlink:href=\"#m0917eb4461\" />\n     <use style=\"fill:#4575b4;fill-opacity:0.7;stroke:#4575b4;stroke-opacity:0.7;stroke-width:0.3;\" x=\"48.6648\" y=\"24.808712\" xlink:href=\"#m0917eb4461\" />\n     <use style=\"fill:#4575b4;fill-opacity:0.7;stroke:#4575b4;stroke-opacity:0.7;stroke-width:0.3;\" x=\"53.998761\" y=\"27.641449\" xlink:href=\"#m0917eb4461\" />\n     <use style=\"fill:#4575b4;fill-opacity:0.7;stroke:#4575b4;stroke-opacity:0.7;stroke-width:0.3;\" x=\"45.08321\" y=\"30.492523\" xlink:href=\"#m0917eb4461\" />\n     <use style=\"fill:#4575b4;fill-opacity:0.7;stroke:#4575b4;stroke-opacity:0.7;stroke-width:0.3;\" x=\"40.255447\" y=\"27.522207\" xlink:href=\"#m0917eb4461\" />\n     <use style=\"fill:#4575b4;fill-opacity:0.7;stroke:#4575b4;stroke-opacity:0.7;stroke-width:0.3;\" x=\"52.237309\" y=\"25.217331\" xlink:href=\"#m0917eb4461\" />\n     <use style=\"fill:#4575b4;fill-opacity:0.7;stroke:#4575b4;stroke-opacity:0.7;stroke-width:0.3;\" x=\"51.140764\" y=\"25.777701\" xlink:href=\"#m0917eb4461\" />\n     <use style=\"fill:#4575b4;fill-opacity:0.7;stroke:#4575b4;stroke-opacity:0.7;stroke-width:0.3;\" x=\"46.674982\" y=\"20.099999\" xlink:href=\"#m0917eb4461\" />\n     <use style=\"fill:#4575b4;fill-opacity:0.7;stroke:#4575b4;stroke-opacity:0.7;stroke-width:0.3;\" x=\"47.025413\" y=\"21.802214\" xlink:href=\"#m0917eb4461\" />\n     <use style=\"fill:#4575b4;fill-opacity:0.7;stroke:#4575b4;stroke-opacity:0.7;stroke-width:0.3;\" x=\"47.078298\" y=\"28.488781\" xlink:href=\"#m0917eb4461\" />\n     <use style=\"fill:#4575b4;fill-opacity:0.7;stroke:#4575b4;stroke-opacity:0.7;stroke-width:0.3;\" x=\"50.695072\" y=\"29.48325\" xlink:href=\"#m0917eb4461\" />\n     <use style=\"fill:#4575b4;fill-opacity:0.7;stroke:#4575b4;stroke-opacity:0.7;stroke-width:0.3;\" x=\"48.228096\" y=\"20.529026\" xlink:href=\"#m0917eb4461\" />\n     <use style=\"fill:#4575b4;fill-opacity:0.7;stroke:#4575b4;stroke-opacity:0.7;stroke-width:0.3;\" x=\"51.979126\" y=\"25.356118\" xlink:href=\"#m0917eb4461\" />\n     <use style=\"fill:#4575b4;fill-opacity:0.7;stroke:#4575b4;stroke-opacity:0.7;stroke-width:0.3;\" x=\"40.76771\" y=\"22.96464\" xlink:href=\"#m0917eb4461\" />\n     <use style=\"fill:#4575b4;fill-opacity:0.7;stroke:#4575b4;stroke-opacity:0.7;stroke-width:0.3;\" x=\"47.45626\" y=\"21.063457\" xlink:href=\"#m0917eb4461\" />\n     <use style=\"fill:#4575b4;fill-opacity:0.7;stroke:#4575b4;stroke-opacity:0.7;stroke-width:0.3;\" x=\"46.554971\" y=\"8.047475\" xlink:href=\"#m0917eb4461\" />\n     <use style=\"fill:#4575b4;fill-opacity:0.7;stroke:#4575b4;stroke-opacity:0.7;stroke-width:0.3;\" x=\"49.466771\" y=\"24.825524\" xlink:href=\"#m0917eb4461\" />\n     <use style=\"fill:#4575b4;fill-opacity:0.7;stroke:#4575b4;stroke-opacity:0.7;stroke-width:0.3;\" x=\"48.523616\" y=\"30.315231\" xlink:href=\"#m0917eb4461\" />\n     <use style=\"fill:#4575b4;fill-opacity:0.7;stroke:#4575b4;stroke-opacity:0.7;stroke-width:0.3;\" x=\"52.996181\" y=\"23.399676\" xlink:href=\"#m0917eb4461\" />\n     <use style=\"fill:#4575b4;fill-opacity:0.7;stroke:#4575b4;stroke-opacity:0.7;stroke-width:0.3;\" x=\"44.09994\" y=\"22.254278\" xlink:href=\"#m0917eb4461\" />\n     <use style=\"fill:#4575b4;fill-opacity:0.7;stroke:#4575b4;stroke-opacity:0.7;stroke-width:0.3;\" x=\"50.477305\" y=\"28.366024\" xlink:href=\"#m0917eb4461\" />\n     <use style=\"fill:#4575b4;fill-opacity:0.7;stroke:#4575b4;stroke-opacity:0.7;stroke-width:0.3;\" x=\"52.19431\" y=\"15.703881\" xlink:href=\"#m0917eb4461\" />\n     <use style=\"fill:#4575b4;fill-opacity:0.7;stroke:#4575b4;stroke-opacity:0.7;stroke-width:0.3;\" x=\"56.541056\" y=\"25.155347\" xlink:href=\"#m0917eb4461\" />\n     <use style=\"fill:#4575b4;fill-opacity:0.7;stroke:#4575b4;stroke-opacity:0.7;stroke-width:0.3;\" x=\"48.712048\" y=\"19.716567\" xlink:href=\"#m0917eb4461\" />\n     <use style=\"fill:#4575b4;fill-opacity:0.7;stroke:#4575b4;stroke-opacity:0.7;stroke-width:0.3;\" x=\"51.411287\" y=\"25.774472\" xlink:href=\"#m0917eb4461\" />\n     <use style=\"fill:#4575b4;fill-opacity:0.7;stroke:#4575b4;stroke-opacity:0.7;stroke-width:0.3;\" x=\"44.285667\" y=\"21.981296\" xlink:href=\"#m0917eb4461\" />\n     <use style=\"fill:#4575b4;fill-opacity:0.7;stroke:#4575b4;stroke-opacity:0.7;stroke-width:0.3;\" x=\"42.316731\" y=\"25.267388\" xlink:href=\"#m0917eb4461\" />\n     <use style=\"fill:#4575b4;fill-opacity:0.7;stroke:#4575b4;stroke-opacity:0.7;stroke-width:0.3;\" x=\"53.153305\" y=\"24.709089\" xlink:href=\"#m0917eb4461\" />\n     <use style=\"fill:#4575b4;fill-opacity:0.7;stroke:#4575b4;stroke-opacity:0.7;stroke-width:0.3;\" x=\"50.306384\" y=\"16.069465\" xlink:href=\"#m0917eb4461\" />\n     <use style=\"fill:#4575b4;fill-opacity:0.7;stroke:#4575b4;stroke-opacity:0.7;stroke-width:0.3;\" x=\"54.27066\" y=\"24.086099\" xlink:href=\"#m0917eb4461\" />\n     <use style=\"fill:#4575b4;fill-opacity:0.7;stroke:#4575b4;stroke-opacity:0.7;stroke-width:0.3;\" x=\"45.726847\" y=\"22.089553\" xlink:href=\"#m0917eb4461\" />\n     <use style=\"fill:#4575b4;fill-opacity:0.7;stroke:#4575b4;stroke-opacity:0.7;stroke-width:0.3;\" x=\"52.065632\" y=\"24.378992\" xlink:href=\"#m0917eb4461\" />\n     <use style=\"fill:#4575b4;fill-opacity:0.7;stroke:#4575b4;stroke-opacity:0.7;stroke-width:0.3;\" x=\"56.581802\" y=\"22.954117\" xlink:href=\"#m0917eb4461\" />\n     <use style=\"fill:#4575b4;fill-opacity:0.7;stroke:#4575b4;stroke-opacity:0.7;stroke-width:0.3;\" x=\"51.730174\" y=\"23.818307\" xlink:href=\"#m0917eb4461\" />\n     <use style=\"fill:#4575b4;fill-opacity:0.7;stroke:#4575b4;stroke-opacity:0.7;stroke-width:0.3;\" x=\"51.250995\" y=\"18.617371\" xlink:href=\"#m0917eb4461\" />\n     <use style=\"fill:#4575b4;fill-opacity:0.7;stroke:#4575b4;stroke-opacity:0.7;stroke-width:0.3;\" x=\"50.353646\" y=\"25.018189\" xlink:href=\"#m0917eb4461\" />\n     <use style=\"fill:#4575b4;fill-opacity:0.7;stroke:#4575b4;stroke-opacity:0.7;stroke-width:0.3;\" x=\"45.065689\" y=\"21.445694\" xlink:href=\"#m0917eb4461\" />\n    </g>\n   </g>\n   <g id=\"matplotlib.axis_1\" />\n   <g id=\"matplotlib.axis_2\">\n    <g id=\"ytick_1\">\n     <g id=\"line2d_1\">\n      <defs>\n       <path d=\"M 0 0  L -3.5 0  \" id=\"m3f1dcb8c7a\" style=\"stroke:#444443;stroke-width:0.3;\" />\n      </defs>\n      <g>\n       <use style=\"fill:#444443;stroke:#444443;stroke-width:0.3;\" x=\"29.4\" y=\"42.65814\" xlink:href=\"#m3f1dcb8c7a\" />\n      </g>\n     </g>\n     <g id=\"text_1\">\n      \n      <defs>\n       <path d=\"M 10.59375 35.5  L 73.1875 35.5  L 73.1875 27.203125  L 10.59375 27.203125  z \" id=\"DejaVuSans-8722\" />\n       <path d=\"M 12.40625 8.296875  L 28.515625 8.296875  L 28.515625 63.921875  L 10.984375 60.40625  L 10.984375 69.390625  L 28.421875 72.90625  L 38.28125 72.90625  L 38.28125 8.296875  L 54.390625 8.296875  L 54.390625 0  L 12.40625 0  z \" id=\"DejaVuSans-49\" />\n       <path d=\"M 31.78125 66.40625  Q 24.171875 66.40625 20.328125 58.90625  Q 16.5 51.421875 16.5 36.375  Q 16.5 21.390625 20.328125 13.890625  Q 24.171875 6.390625 31.78125 6.390625  Q 39.453125 6.390625 43.28125 13.890625  Q 47.125 21.390625 47.125 36.375  Q 47.125 51.421875 43.28125 58.90625  Q 39.453125 66.40625 31.78125 66.40625  z M 31.78125 74.21875  Q 44.046875 74.21875 50.515625 64.515625  Q 56.984375 54.828125 56.984375 36.375  Q 56.984375 17.96875 50.515625 8.265625  Q 44.046875 -1.421875 31.78125 -1.421875  Q 19.53125 -1.421875 13.0625 8.265625  Q 6.59375 17.96875 6.59375 36.375  Q 6.59375 54.828125 13.0625 64.515625  Q 19.53125 74.21875 31.78125 74.21875  z \" id=\"DejaVuSans-48\" />\n      </defs>\n      <g style=\"fill:#444443;\" transform=\"translate(0.42625 45.697515)scale(0.08 -0.08)\">\n       <use xlink:href=\"#DejaVuSans-8722\" />\n       <use x=\"83.789062\" xlink:href=\"#DejaVuSans-49\" />\n       <use x=\"147.412109\" xlink:href=\"#DejaVuSans-48\" />\n       <use x=\"211.035156\" xlink:href=\"#DejaVuSans-48\" />\n      </g>\n     </g>\n    </g>\n    <g id=\"ytick_2\">\n     <g id=\"line2d_2\">\n      <g>\n       <use style=\"fill:#444443;stroke:#444443;stroke-width:0.3;\" x=\"29.4\" y=\"24.750061\" xlink:href=\"#m3f1dcb8c7a\" />\n      </g>\n     </g>\n     <g id=\"text_2\">\n      \n      <g style=\"fill:#444443;\" transform=\"translate(17.31 27.789436)scale(0.08 -0.08)\">\n       <use xlink:href=\"#DejaVuSans-48\" />\n      </g>\n     </g>\n    </g>\n    <g id=\"ytick_3\">\n     <g id=\"line2d_3\">\n      <g>\n       <use style=\"fill:#444443;stroke:#444443;stroke-width:0.3;\" x=\"29.4\" y=\"6.841982\" xlink:href=\"#m3f1dcb8c7a\" />\n      </g>\n     </g>\n     <g id=\"text_3\">\n      \n      <g style=\"fill:#444443;\" transform=\"translate(7.13 9.881357)scale(0.08 -0.08)\">\n       <use xlink:href=\"#DejaVuSans-49\" />\n       <use x=\"63.623047\" xlink:href=\"#DejaVuSans-48\" />\n       <use x=\"127.246094\" xlink:href=\"#DejaVuSans-48\" />\n      </g>\n     </g>\n    </g>\n   </g>\n   <g id=\"line2d_4\">\n    <path clip-path=\"url(#p08f8445706)\" d=\"M 29.4 23.698564  L 102.65 23.698564  \" style=\"fill:none;stroke:#444443;stroke-dasharray:3.7,1.6;stroke-dashoffset:0;\" />\n   </g>\n   <g id=\"patch_3\">\n    <path d=\"M 29.4 43.488  L 29.4 -0  \" style=\"fill:none;stroke:#000000;stroke-linecap:square;stroke-linejoin:miter;stroke-width:0.3;\" />\n   </g>\n   <g id=\"text_4\">\n    \n    <defs>\n     <path d=\"M 53.515625 70.515625  L 53.515625 60.890625  Q 47.90625 63.578125 42.921875 64.890625  Q 37.9375 66.21875 33.296875 66.21875  Q 25.25 66.21875 20.875 63.09375  Q 16.5 59.96875 16.5 54.203125  Q 16.5 49.359375 19.40625 46.890625  Q 22.3125 44.4375 30.421875 42.921875  L 36.375 41.703125  Q 47.40625 39.59375 52.65625 34.296875  Q 57.90625 29 57.90625 20.125  Q 57.90625 9.515625 50.796875 4.046875  Q 43.703125 -1.421875 29.984375 -1.421875  Q 24.8125 -1.421875 18.96875 -0.25  Q 13.140625 0.921875 6.890625 3.21875  L 6.890625 13.375  Q 12.890625 10.015625 18.65625 8.296875  Q 24.421875 6.59375 29.984375 6.59375  Q 38.421875 6.59375 43.015625 9.90625  Q 47.609375 13.234375 47.609375 19.390625  Q 47.609375 24.75 44.3125 27.78125  Q 41.015625 30.8125 33.5 32.328125  L 27.484375 33.5  Q 16.453125 35.6875 11.515625 40.375  Q 6.59375 45.0625 6.59375 53.421875  Q 6.59375 63.09375 13.40625 68.65625  Q 20.21875 74.21875 32.171875 74.21875  Q 37.3125 74.21875 42.625 73.28125  Q 47.953125 72.359375 53.515625 70.515625  z \" id=\"DejaVuSans-83\" />\n     <path d=\"M 32.171875 -5.078125  Q 28.375 -14.84375 24.75 -17.8125  Q 21.140625 -20.796875 15.09375 -20.796875  L 7.90625 -20.796875  L 7.90625 -13.28125  L 13.1875 -13.28125  Q 16.890625 -13.28125 18.9375 -11.515625  Q 21 -9.765625 23.484375 -3.21875  L 25.09375 0.875  L 2.984375 54.6875  L 12.5 54.6875  L 29.59375 11.921875  L 46.6875 54.6875  L 56.203125 54.6875  z \" id=\"DejaVuSans-121\" />\n     <path d=\"M 54.890625 33.015625  L 54.890625 0  L 45.90625 0  L 45.90625 32.71875  Q 45.90625 40.484375 42.875 44.328125  Q 39.84375 48.1875 33.796875 48.1875  Q 26.515625 48.1875 22.3125 43.546875  Q 18.109375 38.921875 18.109375 30.90625  L 18.109375 0  L 9.078125 0  L 9.078125 54.6875  L 18.109375 54.6875  L 18.109375 46.1875  Q 21.34375 51.125 25.703125 53.5625  Q 30.078125 56 35.796875 56  Q 45.21875 56 50.046875 50.171875  Q 54.890625 44.34375 54.890625 33.015625  z \" id=\"DejaVuSans-110\" />\n     <path d=\"M 56.203125 29.59375  L 56.203125 25.203125  L 14.890625 25.203125  Q 15.484375 15.921875 20.484375 11.0625  Q 25.484375 6.203125 34.421875 6.203125  Q 39.59375 6.203125 44.453125 7.46875  Q 49.3125 8.734375 54.109375 11.28125  L 54.109375 2.78125  Q 49.265625 0.734375 44.1875 -0.34375  Q 39.109375 -1.421875 33.890625 -1.421875  Q 20.796875 -1.421875 13.15625 6.1875  Q 5.515625 13.8125 5.515625 26.8125  Q 5.515625 40.234375 12.765625 48.109375  Q 20.015625 56 32.328125 56  Q 43.359375 56 49.78125 48.890625  Q 56.203125 41.796875 56.203125 29.59375  z M 47.21875 32.234375  Q 47.125 39.59375 43.09375 43.984375  Q 39.0625 48.390625 32.421875 48.390625  Q 24.90625 48.390625 20.390625 44.140625  Q 15.875 39.890625 15.1875 32.171875  z \" id=\"DejaVuSans-101\" />\n     <path d=\"M 41.109375 46.296875  Q 39.59375 47.171875 37.8125 47.578125  Q 36.03125 48 33.890625 48  Q 26.265625 48 22.1875 43.046875  Q 18.109375 38.09375 18.109375 28.8125  L 18.109375 0  L 9.078125 0  L 9.078125 54.6875  L 18.109375 54.6875  L 18.109375 46.1875  Q 20.953125 51.171875 25.484375 53.578125  Q 30.03125 56 36.53125 56  Q 37.453125 56 38.578125 55.875  Q 39.703125 55.765625 41.0625 55.515625  z \" id=\"DejaVuSans-114\" />\n     <path d=\"M 45.40625 27.984375  Q 45.40625 37.75 41.375 43.109375  Q 37.359375 48.484375 30.078125 48.484375  Q 22.859375 48.484375 18.828125 43.109375  Q 14.796875 37.75 14.796875 27.984375  Q 14.796875 18.265625 18.828125 12.890625  Q 22.859375 7.515625 30.078125 7.515625  Q 37.359375 7.515625 41.375 12.890625  Q 45.40625 18.265625 45.40625 27.984375  z M 54.390625 6.78125  Q 54.390625 -7.171875 48.1875 -13.984375  Q 42 -20.796875 29.203125 -20.796875  Q 24.46875 -20.796875 20.265625 -20.09375  Q 16.0625 -19.390625 12.109375 -17.921875  L 12.109375 -9.1875  Q 16.0625 -11.328125 19.921875 -12.34375  Q 23.78125 -13.375 27.78125 -13.375  Q 36.625 -13.375 41.015625 -8.765625  Q 45.40625 -4.15625 45.40625 5.171875  L 45.40625 9.625  Q 42.625 4.78125 38.28125 2.390625  Q 33.9375 0 27.875 0  Q 17.828125 0 11.671875 7.65625  Q 5.515625 15.328125 5.515625 27.984375  Q 5.515625 40.671875 11.671875 48.328125  Q 17.828125 56 27.875 56  Q 33.9375 56 38.28125 53.609375  Q 42.625 51.21875 45.40625 46.390625  L 45.40625 54.6875  L 54.390625 54.6875  z \" id=\"DejaVuSans-103\" />\n     <path id=\"DejaVuSans-32\" />\n     <path d=\"M 44.28125 53.078125  L 44.28125 44.578125  Q 40.484375 46.53125 36.375 47.5  Q 32.28125 48.484375 27.875 48.484375  Q 21.1875 48.484375 17.84375 46.4375  Q 14.5 44.390625 14.5 40.28125  Q 14.5 37.15625 16.890625 35.375  Q 19.28125 33.59375 26.515625 31.984375  L 29.59375 31.296875  Q 39.15625 29.25 43.1875 25.515625  Q 47.21875 21.78125 47.21875 15.09375  Q 47.21875 7.46875 41.1875 3.015625  Q 35.15625 -1.421875 24.609375 -1.421875  Q 20.21875 -1.421875 15.453125 -0.5625  Q 10.6875 0.296875 5.421875 2  L 5.421875 11.28125  Q 10.40625 8.6875 15.234375 7.390625  Q 20.0625 6.109375 24.8125 6.109375  Q 31.15625 6.109375 34.5625 8.28125  Q 37.984375 10.453125 37.984375 14.40625  Q 37.984375 18.0625 35.515625 20.015625  Q 33.0625 21.96875 24.703125 23.78125  L 21.578125 24.515625  Q 13.234375 26.265625 9.515625 29.90625  Q 5.8125 33.546875 5.8125 39.890625  Q 5.8125 47.609375 11.28125 51.796875  Q 16.75 56 26.8125 56  Q 31.78125 56 36.171875 55.265625  Q 40.578125 54.546875 44.28125 53.078125  z \" id=\"DejaVuSans-115\" />\n     <path d=\"M 48.78125 52.59375  L 48.78125 44.1875  Q 44.96875 46.296875 41.140625 47.34375  Q 37.3125 48.390625 33.40625 48.390625  Q 24.65625 48.390625 19.8125 42.84375  Q 14.984375 37.3125 14.984375 27.296875  Q 14.984375 17.28125 19.8125 11.734375  Q 24.65625 6.203125 33.40625 6.203125  Q 37.3125 6.203125 41.140625 7.25  Q 44.96875 8.296875 48.78125 10.40625  L 48.78125 2.09375  Q 45.015625 0.34375 40.984375 -0.53125  Q 36.96875 -1.421875 32.421875 -1.421875  Q 20.0625 -1.421875 12.78125 6.34375  Q 5.515625 14.109375 5.515625 27.296875  Q 5.515625 40.671875 12.859375 48.328125  Q 20.21875 56 33.015625 56  Q 37.15625 56 41.109375 55.140625  Q 45.0625 54.296875 48.78125 52.59375  z \" id=\"DejaVuSans-99\" />\n     <path d=\"M 30.609375 48.390625  Q 23.390625 48.390625 19.1875 42.75  Q 14.984375 37.109375 14.984375 27.296875  Q 14.984375 17.484375 19.15625 11.84375  Q 23.34375 6.203125 30.609375 6.203125  Q 37.796875 6.203125 41.984375 11.859375  Q 46.1875 17.53125 46.1875 27.296875  Q 46.1875 37.015625 41.984375 42.703125  Q 37.796875 48.390625 30.609375 48.390625  z M 30.609375 56  Q 42.328125 56 49.015625 48.375  Q 55.71875 40.765625 55.71875 27.296875  Q 55.71875 13.875 49.015625 6.21875  Q 42.328125 -1.421875 30.609375 -1.421875  Q 18.84375 -1.421875 12.171875 6.21875  Q 5.515625 13.875 5.515625 27.296875  Q 5.515625 40.765625 12.171875 48.375  Q 18.84375 56 30.609375 56  z \" id=\"DejaVuSans-111\" />\n     <path d=\"M 10.59375 45.40625  L 73.1875 45.40625  L 73.1875 37.203125  L 10.59375 37.203125  z M 10.59375 25.484375  L 73.1875 25.484375  L 73.1875 17.1875  L 10.59375 17.1875  z \" id=\"DejaVuSans-61\" />\n     <path d=\"M 10.796875 72.90625  L 49.515625 72.90625  L 49.515625 64.59375  L 19.828125 64.59375  L 19.828125 46.734375  Q 21.96875 47.46875 24.109375 47.828125  Q 26.265625 48.1875 28.421875 48.1875  Q 40.625 48.1875 47.75 41.5  Q 54.890625 34.8125 54.890625 23.390625  Q 54.890625 11.625 47.5625 5.09375  Q 40.234375 -1.421875 26.90625 -1.421875  Q 22.3125 -1.421875 17.546875 -0.640625  Q 12.796875 0.140625 7.71875 1.703125  L 7.71875 11.625  Q 12.109375 9.234375 16.796875 8.0625  Q 21.484375 6.890625 26.703125 6.890625  Q 35.15625 6.890625 40.078125 11.328125  Q 45.015625 15.765625 45.015625 23.390625  Q 45.015625 31 40.078125 35.4375  Q 35.15625 39.890625 26.703125 39.890625  Q 22.75 39.890625 18.8125 39.015625  Q 14.890625 38.140625 10.796875 36.28125  z \" id=\"DejaVuSans-53\" />\n     <path d=\"M 10.6875 12.40625  L 21 12.40625  L 21 0  L 10.6875 0  z \" id=\"DejaVuSans-46\" />\n     <path d=\"M 31.78125 34.625  Q 24.75 34.625 20.71875 30.859375  Q 16.703125 27.09375 16.703125 20.515625  Q 16.703125 13.921875 20.71875 10.15625  Q 24.75 6.390625 31.78125 6.390625  Q 38.8125 6.390625 42.859375 10.171875  Q 46.921875 13.96875 46.921875 20.515625  Q 46.921875 27.09375 42.890625 30.859375  Q 38.875 34.625 31.78125 34.625  z M 21.921875 38.8125  Q 15.578125 40.375 12.03125 44.71875  Q 8.5 49.078125 8.5 55.328125  Q 8.5 64.0625 14.71875 69.140625  Q 20.953125 74.21875 31.78125 74.21875  Q 42.671875 74.21875 48.875 69.140625  Q 55.078125 64.0625 55.078125 55.328125  Q 55.078125 49.078125 51.53125 44.71875  Q 48 40.375 41.703125 38.8125  Q 48.828125 37.15625 52.796875 32.3125  Q 56.78125 27.484375 56.78125 20.515625  Q 56.78125 9.90625 50.3125 4.234375  Q 43.84375 -1.421875 31.78125 -1.421875  Q 19.734375 -1.421875 13.25 4.234375  Q 6.78125 9.90625 6.78125 20.515625  Q 6.78125 27.484375 10.78125 32.3125  Q 14.796875 37.15625 21.921875 38.8125  z M 18.3125 54.390625  Q 18.3125 48.734375 21.84375 45.5625  Q 25.390625 42.390625 31.78125 42.390625  Q 38.140625 42.390625 41.71875 45.5625  Q 45.3125 48.734375 45.3125 54.390625  Q 45.3125 60.0625 41.71875 63.234375  Q 38.140625 66.40625 31.78125 66.40625  Q 25.390625 66.40625 21.84375 63.234375  Q 18.3125 60.0625 18.3125 54.390625  z \" id=\"DejaVuSans-56\" />\n     <path d=\"M 8.203125 72.90625  L 55.078125 72.90625  L 55.078125 68.703125  L 28.609375 0  L 18.3125 0  L 43.21875 64.59375  L 8.203125 64.59375  z \" id=\"DejaVuSans-55\" />\n    </defs>\n    <g style=\"fill:#444443;\" transform=\"translate(0 52.836437)scale(0.1 -0.1)\">\n     <use xlink:href=\"#DejaVuSans-83\" />\n     <use x=\"63.476562\" xlink:href=\"#DejaVuSans-121\" />\n     <use x=\"122.65625\" xlink:href=\"#DejaVuSans-110\" />\n     <use x=\"186.035156\" xlink:href=\"#DejaVuSans-101\" />\n     <use x=\"247.558594\" xlink:href=\"#DejaVuSans-114\" />\n     <use x=\"286.921875\" xlink:href=\"#DejaVuSans-103\" />\n     <use x=\"350.398438\" xlink:href=\"#DejaVuSans-121\" />\n     <use x=\"409.578125\" xlink:href=\"#DejaVuSans-32\" />\n     <use x=\"441.365234\" xlink:href=\"#DejaVuSans-115\" />\n     <use x=\"493.464844\" xlink:href=\"#DejaVuSans-99\" />\n     <use x=\"548.445312\" xlink:href=\"#DejaVuSans-111\" />\n     <use x=\"609.626953\" xlink:href=\"#DejaVuSans-114\" />\n     <use x=\"648.490234\" xlink:href=\"#DejaVuSans-101\" />\n     <use x=\"710.013672\" xlink:href=\"#DejaVuSans-61\" />\n     <use x=\"793.802734\" xlink:href=\"#DejaVuSans-53\" />\n     <use x=\"857.425781\" xlink:href=\"#DejaVuSans-46\" />\n     <use x=\"889.212891\" xlink:href=\"#DejaVuSans-56\" />\n     <use x=\"952.835938\" xlink:href=\"#DejaVuSans-55\" />\n    </g>\n    \n    <defs>\n     <path d=\"M 19.1875 8.296875  L 53.609375 8.296875  L 53.609375 0  L 7.328125 0  L 7.328125 8.296875  Q 12.9375 14.109375 22.625 23.890625  Q 32.328125 33.6875 34.8125 36.53125  Q 39.546875 41.84375 41.421875 45.53125  Q 43.3125 49.21875 43.3125 52.78125  Q 43.3125 58.59375 39.234375 62.25  Q 35.15625 65.921875 28.609375 65.921875  Q 23.96875 65.921875 18.8125 64.3125  Q 13.671875 62.703125 7.8125 59.421875  L 7.8125 69.390625  Q 13.765625 71.78125 18.9375 73  Q 24.125 74.21875 28.421875 74.21875  Q 39.75 74.21875 46.484375 68.546875  Q 53.21875 62.890625 53.21875 53.421875  Q 53.21875 48.921875 51.53125 44.890625  Q 49.859375 40.875 45.40625 35.40625  Q 44.1875 33.984375 37.640625 27.21875  Q 31.109375 20.453125 19.1875 8.296875  z \" id=\"DejaVuSans-50\" />\n    </defs>\n    <g style=\"fill:#444443;\" transform=\"translate(37.103906 64.03425)scale(0.1 -0.1)\">\n     <use xlink:href=\"#DejaVuSans-110\" />\n     <use x=\"63.378906\" xlink:href=\"#DejaVuSans-61\" />\n     <use x=\"147.167969\" xlink:href=\"#DejaVuSans-56\" />\n     <use x=\"210.791016\" xlink:href=\"#DejaVuSans-50\" />\n    </g>\n   </g>\n  </g>\n </g>\n <defs>\n  <clipPath id=\"p08f8445706\">\n   <rect height=\"43.488\" width=\"41.85\" x=\"29.4\" y=\"-0\" />\n  </clipPath>\n </defs>\n</svg></g>\n\n\n<g class=\"node\" id=\"node2\">\n<title>node1</title>\n<svg height=\"66px\" preserveAspectRatio=\"xMinYMin meet\" version=\"1.1\" viewBox=\"0 0 179.925 88.216625\" width=\"135px\" x=\"182.5\" y=\"-142\">\n <defs>\n  <style type=\"text/css\">\n*{stroke-linecap:butt;stroke-linejoin:round;}\n  </style>\n </defs>\n <g id=\"figure_1\">\n  <g id=\"patch_1\">\n   <path d=\"M 0 88.216625  L 179.925 88.216625  L 179.925 -0  L 0 -0  z \" style=\"fill:#ffffff;\" />\n  </g>\n  <g id=\"axes_1\">\n   <g id=\"patch_2\">\n    <path d=\"M 28.97375 59.796  L 168.47375 59.796  L 168.47375 -0  L 28.97375 -0  z \" style=\"fill:#ffffff;\" />\n   </g>\n   <g id=\"PathCollection_1\">\n    <defs>\n     <path d=\"M 0 1.118034  C 0.296506 1.118034 0.580908 1.000231 0.790569 0.790569  C 1.000231 0.580908 1.118034 0.296506 1.118034 0  C 1.118034 -0.296506 1.000231 -0.580908 0.790569 -0.790569  C 0.580908 -1.000231 0.296506 -1.118034 0 -1.118034  C -0.296506 -1.118034 -0.580908 -1.000231 -0.790569 -0.790569  C -1.000231 -0.580908 -1.118034 -0.296506 -1.118034 0  C -1.118034 0.296506 -1.000231 0.580908 -0.790569 0.790569  C -0.580908 1.000231 -0.296506 1.118034 0 1.118034  z \" id=\"m8636eb68e5\" style=\"stroke:#4575b4;stroke-opacity:0.7;stroke-width:0.3;\" />\n    </defs>\n    <g clip-path=\"url(#p01d74db712)\">\n     <use style=\"fill:#4575b4;fill-opacity:0.7;stroke:#4575b4;stroke-opacity:0.7;stroke-width:0.3;\" x=\"33.343921\" y=\"27.626122\" xlink:href=\"#m8636eb68e5\" />\n     <use style=\"fill:#4575b4;fill-opacity:0.7;stroke:#4575b4;stroke-opacity:0.7;stroke-width:0.3;\" x=\"168.47375\" y=\"28.792755\" xlink:href=\"#m8636eb68e5\" />\n     <use style=\"fill:#4575b4;fill-opacity:0.7;stroke:#4575b4;stroke-opacity:0.7;stroke-width:0.3;\" x=\"168.47375\" y=\"34.310305\" xlink:href=\"#m8636eb68e5\" />\n     <use style=\"fill:#4575b4;fill-opacity:0.7;stroke:#4575b4;stroke-opacity:0.7;stroke-width:0.3;\" x=\"168.47375\" y=\"31.722559\" xlink:href=\"#m8636eb68e5\" />\n     <use style=\"fill:#4575b4;fill-opacity:0.7;stroke:#4575b4;stroke-opacity:0.7;stroke-width:0.3;\" x=\"51.548306\" y=\"34.767084\" xlink:href=\"#m8636eb68e5\" />\n     <use style=\"fill:#4575b4;fill-opacity:0.7;stroke:#4575b4;stroke-opacity:0.7;stroke-width:0.3;\" x=\"168.47375\" y=\"36.257008\" xlink:href=\"#m8636eb68e5\" />\n     <use style=\"fill:#4575b4;fill-opacity:0.7;stroke:#4575b4;stroke-opacity:0.7;stroke-width:0.3;\" x=\"168.47375\" y=\"45.121835\" xlink:href=\"#m8636eb68e5\" />\n     <use style=\"fill:#4575b4;fill-opacity:0.7;stroke:#4575b4;stroke-opacity:0.7;stroke-width:0.3;\" x=\"168.47375\" y=\"30.942822\" xlink:href=\"#m8636eb68e5\" />\n     <use style=\"fill:#4575b4;fill-opacity:0.7;stroke:#4575b4;stroke-opacity:0.7;stroke-width:0.3;\" x=\"168.47375\" y=\"38.909404\" xlink:href=\"#m8636eb68e5\" />\n     <use style=\"fill:#4575b4;fill-opacity:0.7;stroke:#4575b4;stroke-opacity:0.7;stroke-width:0.3;\" x=\"40.065036\" y=\"34.60737\" xlink:href=\"#m8636eb68e5\" />\n     <use style=\"fill:#4575b4;fill-opacity:0.7;stroke:#4575b4;stroke-opacity:0.7;stroke-width:0.3;\" x=\"31.944849\" y=\"20.748473\" xlink:href=\"#m8636eb68e5\" />\n     <use style=\"fill:#4575b4;fill-opacity:0.7;stroke:#4575b4;stroke-opacity:0.7;stroke-width:0.3;\" x=\"34.989273\" y=\"26.692467\" xlink:href=\"#m8636eb68e5\" />\n     <use style=\"fill:#4575b4;fill-opacity:0.7;stroke:#4575b4;stroke-opacity:0.7;stroke-width:0.3;\" x=\"30.36875\" y=\"53.300005\" xlink:href=\"#m8636eb68e5\" />\n     <use style=\"fill:#4575b4;fill-opacity:0.7;stroke:#4575b4;stroke-opacity:0.7;stroke-width:0.3;\" x=\"168.47375\" y=\"29.989275\" xlink:href=\"#m8636eb68e5\" />\n     <use style=\"fill:#4575b4;fill-opacity:0.7;stroke:#4575b4;stroke-opacity:0.7;stroke-width:0.3;\" x=\"40.800377\" y=\"29.522798\" xlink:href=\"#m8636eb68e5\" />\n     <use style=\"fill:#4575b4;fill-opacity:0.7;stroke:#4575b4;stroke-opacity:0.7;stroke-width:0.3;\" x=\"168.47375\" y=\"30.207112\" xlink:href=\"#m8636eb68e5\" />\n     <use style=\"fill:#4575b4;fill-opacity:0.7;stroke:#4575b4;stroke-opacity:0.7;stroke-width:0.3;\" x=\"49.998284\" y=\"31.130695\" xlink:href=\"#m8636eb68e5\" />\n     <use style=\"fill:#4575b4;fill-opacity:0.7;stroke:#4575b4;stroke-opacity:0.7;stroke-width:0.3;\" x=\"45.540125\" y=\"37.458687\" xlink:href=\"#m8636eb68e5\" />\n     <use style=\"fill:#4575b4;fill-opacity:0.7;stroke:#4575b4;stroke-opacity:0.7;stroke-width:0.3;\" x=\"48.69913\" y=\"28.979365\" xlink:href=\"#m8636eb68e5\" />\n     <use style=\"fill:#4575b4;fill-opacity:0.7;stroke:#4575b4;stroke-opacity:0.7;stroke-width:0.3;\" x=\"117.024052\" y=\"32.148986\" xlink:href=\"#m8636eb68e5\" />\n     <use style=\"fill:#4575b4;fill-opacity:0.7;stroke:#4575b4;stroke-opacity:0.7;stroke-width:0.3;\" x=\"34.0929\" y=\"32.114084\" xlink:href=\"#m8636eb68e5\" />\n     <use style=\"fill:#4575b4;fill-opacity:0.7;stroke:#4575b4;stroke-opacity:0.7;stroke-width:0.3;\" x=\"52.740384\" y=\"23.54522\" xlink:href=\"#m8636eb68e5\" />\n     <use style=\"fill:#4575b4;fill-opacity:0.7;stroke:#4575b4;stroke-opacity:0.7;stroke-width:0.3;\" x=\"49.215432\" y=\"29.782956\" xlink:href=\"#m8636eb68e5\" />\n     <use style=\"fill:#4575b4;fill-opacity:0.7;stroke:#4575b4;stroke-opacity:0.7;stroke-width:0.3;\" x=\"168.47375\" y=\"37.673592\" xlink:href=\"#m8636eb68e5\" />\n     <use style=\"fill:#4575b4;fill-opacity:0.7;stroke:#4575b4;stroke-opacity:0.7;stroke-width:0.3;\" x=\"28.97375\" y=\"29.801089\" xlink:href=\"#m8636eb68e5\" />\n     <use style=\"fill:#4575b4;fill-opacity:0.7;stroke:#4575b4;stroke-opacity:0.7;stroke-width:0.3;\" x=\"34.818831\" y=\"19.676976\" xlink:href=\"#m8636eb68e5\" />\n     <use style=\"fill:#4575b4;fill-opacity:0.7;stroke:#4575b4;stroke-opacity:0.7;stroke-width:0.3;\" x=\"51.087316\" y=\"37.801814\" xlink:href=\"#m8636eb68e5\" />\n     <use style=\"fill:#4575b4;fill-opacity:0.7;stroke:#4575b4;stroke-opacity:0.7;stroke-width:0.3;\" x=\"49.859813\" y=\"25.946965\" xlink:href=\"#m8636eb68e5\" />\n     <use style=\"fill:#4575b4;fill-opacity:0.7;stroke:#4575b4;stroke-opacity:0.7;stroke-width:0.3;\" x=\"168.47375\" y=\"32.458924\" xlink:href=\"#m8636eb68e5\" />\n     <use style=\"fill:#4575b4;fill-opacity:0.7;stroke:#4575b4;stroke-opacity:0.7;stroke-width:0.3;\" x=\"66.670427\" y=\"17.559135\" xlink:href=\"#m8636eb68e5\" />\n     <use style=\"fill:#4575b4;fill-opacity:0.7;stroke:#4575b4;stroke-opacity:0.7;stroke-width:0.3;\" x=\"34.894639\" y=\"38.632447\" xlink:href=\"#m8636eb68e5\" />\n     <use style=\"fill:#4575b4;fill-opacity:0.7;stroke:#4575b4;stroke-opacity:0.7;stroke-width:0.3;\" x=\"35.272711\" y=\"32.622295\" xlink:href=\"#m8636eb68e5\" />\n     <use style=\"fill:#4575b4;fill-opacity:0.7;stroke:#4575b4;stroke-opacity:0.7;stroke-width:0.3;\" x=\"42.36972\" y=\"32.807461\" xlink:href=\"#m8636eb68e5\" />\n     <use style=\"fill:#4575b4;fill-opacity:0.7;stroke:#4575b4;stroke-opacity:0.7;stroke-width:0.3;\" x=\"43.16798\" y=\"33.791372\" xlink:href=\"#m8636eb68e5\" />\n     <use style=\"fill:#4575b4;fill-opacity:0.7;stroke:#4575b4;stroke-opacity:0.7;stroke-width:0.3;\" x=\"41.821503\" y=\"22.82621\" xlink:href=\"#m8636eb68e5\" />\n     <use style=\"fill:#4575b4;fill-opacity:0.7;stroke:#4575b4;stroke-opacity:0.7;stroke-width:0.3;\" x=\"38.115536\" y=\"26.913879\" xlink:href=\"#m8636eb68e5\" />\n     <use style=\"fill:#4575b4;fill-opacity:0.7;stroke:#4575b4;stroke-opacity:0.7;stroke-width:0.3;\" x=\"45.698491\" y=\"31.369647\" xlink:href=\"#m8636eb68e5\" />\n     <use style=\"fill:#4575b4;fill-opacity:0.7;stroke:#4575b4;stroke-opacity:0.7;stroke-width:0.3;\" x=\"41.694445\" y=\"17.543138\" xlink:href=\"#m8636eb68e5\" />\n     <use style=\"fill:#4575b4;fill-opacity:0.7;stroke:#4575b4;stroke-opacity:0.7;stroke-width:0.3;\" x=\"35.67755\" y=\"31.430699\" xlink:href=\"#m8636eb68e5\" />\n     <use style=\"fill:#4575b4;fill-opacity:0.7;stroke:#4575b4;stroke-opacity:0.7;stroke-width:0.3;\" x=\"30.36875\" y=\"25.270643\" xlink:href=\"#m8636eb68e5\" />\n     <use style=\"fill:#4575b4;fill-opacity:0.7;stroke:#4575b4;stroke-opacity:0.7;stroke-width:0.3;\" x=\"168.47375\" y=\"33.834732\" xlink:href=\"#m8636eb68e5\" />\n     <use style=\"fill:#4575b4;fill-opacity:0.7;stroke:#4575b4;stroke-opacity:0.7;stroke-width:0.3;\" x=\"43.470491\" y=\"34.639182\" xlink:href=\"#m8636eb68e5\" />\n     <use style=\"fill:#4575b4;fill-opacity:0.7;stroke:#4575b4;stroke-opacity:0.7;stroke-width:0.3;\" x=\"39.524338\" y=\"30.093297\" xlink:href=\"#m8636eb68e5\" />\n     <use style=\"fill:#4575b4;fill-opacity:0.7;stroke:#4575b4;stroke-opacity:0.7;stroke-width:0.3;\" x=\"168.47375\" y=\"16.258028\" xlink:href=\"#m8636eb68e5\" />\n     <use style=\"fill:#4575b4;fill-opacity:0.7;stroke:#4575b4;stroke-opacity:0.7;stroke-width:0.3;\" x=\"57.377161\" y=\"45.633632\" xlink:href=\"#m8636eb68e5\" />\n     <use style=\"fill:#4575b4;fill-opacity:0.7;stroke:#4575b4;stroke-opacity:0.7;stroke-width:0.3;\" x=\"48.84907\" y=\"36.49383\" xlink:href=\"#m8636eb68e5\" />\n     <use style=\"fill:#4575b4;fill-opacity:0.7;stroke:#4575b4;stroke-opacity:0.7;stroke-width:0.3;\" x=\"64.28814\" y=\"26.905596\" xlink:href=\"#m8636eb68e5\" />\n     <use style=\"fill:#4575b4;fill-opacity:0.7;stroke:#4575b4;stroke-opacity:0.7;stroke-width:0.3;\" x=\"65.556946\" y=\"27.818952\" xlink:href=\"#m8636eb68e5\" />\n     <use style=\"fill:#4575b4;fill-opacity:0.7;stroke:#4575b4;stroke-opacity:0.7;stroke-width:0.3;\" x=\"34.468069\" y=\"34.4833\" xlink:href=\"#m8636eb68e5\" />\n     <use style=\"fill:#4575b4;fill-opacity:0.7;stroke:#4575b4;stroke-opacity:0.7;stroke-width:0.3;\" x=\"168.47375\" y=\"36.33731\" xlink:href=\"#m8636eb68e5\" />\n     <use style=\"fill:#4575b4;fill-opacity:0.7;stroke:#4575b4;stroke-opacity:0.7;stroke-width:0.3;\" x=\"50.490192\" y=\"22.156438\" xlink:href=\"#m8636eb68e5\" />\n     <use style=\"fill:#4575b4;fill-opacity:0.7;stroke:#4575b4;stroke-opacity:0.7;stroke-width:0.3;\" x=\"28.97375\" y=\"32.85681\" xlink:href=\"#m8636eb68e5\" />\n     <use style=\"fill:#4575b4;fill-opacity:0.7;stroke:#4575b4;stroke-opacity:0.7;stroke-width:0.3;\" x=\"31.209321\" y=\"21.639601\" xlink:href=\"#m8636eb68e5\" />\n     <use style=\"fill:#4575b4;fill-opacity:0.7;stroke:#4575b4;stroke-opacity:0.7;stroke-width:0.3;\" x=\"61.562463\" y=\"28.614034\" xlink:href=\"#m8636eb68e5\" />\n     <use style=\"fill:#4575b4;fill-opacity:0.7;stroke:#4575b4;stroke-opacity:0.7;stroke-width:0.3;\" x=\"28.97375\" y=\"32.291944\" xlink:href=\"#m8636eb68e5\" />\n     <use style=\"fill:#4575b4;fill-opacity:0.7;stroke:#4575b4;stroke-opacity:0.7;stroke-width:0.3;\" x=\"37.656339\" y=\"19.153392\" xlink:href=\"#m8636eb68e5\" />\n     <use style=\"fill:#4575b4;fill-opacity:0.7;stroke:#4575b4;stroke-opacity:0.7;stroke-width:0.3;\" x=\"38.279279\" y=\"38.144777\" xlink:href=\"#m8636eb68e5\" />\n     <use style=\"fill:#4575b4;fill-opacity:0.7;stroke:#4575b4;stroke-opacity:0.7;stroke-width:0.3;\" x=\"61.926663\" y=\"25.18866\" xlink:href=\"#m8636eb68e5\" />\n     <use style=\"fill:#4575b4;fill-opacity:0.7;stroke:#4575b4;stroke-opacity:0.7;stroke-width:0.3;\" x=\"28.97375\" y=\"31.033577\" xlink:href=\"#m8636eb68e5\" />\n     <use style=\"fill:#4575b4;fill-opacity:0.7;stroke:#4575b4;stroke-opacity:0.7;stroke-width:0.3;\" x=\"38.987099\" y=\"23.171542\" xlink:href=\"#m8636eb68e5\" />\n     <use style=\"fill:#4575b4;fill-opacity:0.7;stroke:#4575b4;stroke-opacity:0.7;stroke-width:0.3;\" x=\"41.162333\" y=\"25.97765\" xlink:href=\"#m8636eb68e5\" />\n     <use style=\"fill:#4575b4;fill-opacity:0.7;stroke:#4575b4;stroke-opacity:0.7;stroke-width:0.3;\" x=\"168.47375\" y=\"32.290356\" xlink:href=\"#m8636eb68e5\" />\n     <use style=\"fill:#4575b4;fill-opacity:0.7;stroke:#4575b4;stroke-opacity:0.7;stroke-width:0.3;\" x=\"45.608272\" y=\"36.685195\" xlink:href=\"#m8636eb68e5\" />\n     <use style=\"fill:#4575b4;fill-opacity:0.7;stroke:#4575b4;stroke-opacity:0.7;stroke-width:0.3;\" x=\"28.97375\" y=\"32.989582\" xlink:href=\"#m8636eb68e5\" />\n     <use style=\"fill:#4575b4;fill-opacity:0.7;stroke:#4575b4;stroke-opacity:0.7;stroke-width:0.3;\" x=\"47.632463\" y=\"26.259798\" xlink:href=\"#m8636eb68e5\" />\n     <use style=\"fill:#4575b4;fill-opacity:0.7;stroke:#4575b4;stroke-opacity:0.7;stroke-width:0.3;\" x=\"61.151343\" y=\"32.834033\" xlink:href=\"#m8636eb68e5\" />\n     <use style=\"fill:#4575b4;fill-opacity:0.7;stroke:#4575b4;stroke-opacity:0.7;stroke-width:0.3;\" x=\"30.36875\" y=\"39.555633\" xlink:href=\"#m8636eb68e5\" />\n     <use style=\"fill:#4575b4;fill-opacity:0.7;stroke:#4575b4;stroke-opacity:0.7;stroke-width:0.3;\" x=\"28.97375\" y=\"11.161824\" xlink:href=\"#m8636eb68e5\" />\n     <use style=\"fill:#4575b4;fill-opacity:0.7;stroke:#4575b4;stroke-opacity:0.7;stroke-width:0.3;\" x=\"40.056424\" y=\"25.487154\" xlink:href=\"#m8636eb68e5\" />\n     <use style=\"fill:#4575b4;fill-opacity:0.7;stroke:#4575b4;stroke-opacity:0.7;stroke-width:0.3;\" x=\"50.317725\" y=\"20.216202\" xlink:href=\"#m8636eb68e5\" />\n     <use style=\"fill:#4575b4;fill-opacity:0.7;stroke:#4575b4;stroke-opacity:0.7;stroke-width:0.3;\" x=\"38.747885\" y=\"30.820447\" xlink:href=\"#m8636eb68e5\" />\n     <use style=\"fill:#4575b4;fill-opacity:0.7;stroke:#4575b4;stroke-opacity:0.7;stroke-width:0.3;\" x=\"43.863956\" y=\"33.238434\" xlink:href=\"#m8636eb68e5\" />\n     <use style=\"fill:#4575b4;fill-opacity:0.7;stroke:#4575b4;stroke-opacity:0.7;stroke-width:0.3;\" x=\"28.97375\" y=\"40.505492\" xlink:href=\"#m8636eb68e5\" />\n     <use style=\"fill:#4575b4;fill-opacity:0.7;stroke:#4575b4;stroke-opacity:0.7;stroke-width:0.3;\" x=\"168.47375\" y=\"39.973594\" xlink:href=\"#m8636eb68e5\" />\n     <use style=\"fill:#4575b4;fill-opacity:0.7;stroke:#4575b4;stroke-opacity:0.7;stroke-width:0.3;\" x=\"40.855945\" y=\"32.521857\" xlink:href=\"#m8636eb68e5\" />\n     <use style=\"fill:#4575b4;fill-opacity:0.7;stroke:#4575b4;stroke-opacity:0.7;stroke-width:0.3;\" x=\"46.505175\" y=\"30.801182\" xlink:href=\"#m8636eb68e5\" />\n     <use style=\"fill:#4575b4;fill-opacity:0.7;stroke:#4575b4;stroke-opacity:0.7;stroke-width:0.3;\" x=\"66.2986\" y=\"27.174735\" xlink:href=\"#m8636eb68e5\" />\n     <use style=\"fill:#4575b4;fill-opacity:0.7;stroke:#4575b4;stroke-opacity:0.7;stroke-width:0.3;\" x=\"33.544296\" y=\"23.362763\" xlink:href=\"#m8636eb68e5\" />\n     <use style=\"fill:#4575b4;fill-opacity:0.7;stroke:#4575b4;stroke-opacity:0.7;stroke-width:0.3;\" x=\"58.302321\" y=\"24.267024\" xlink:href=\"#m8636eb68e5\" />\n     <use style=\"fill:#4575b4;fill-opacity:0.7;stroke:#4575b4;stroke-opacity:0.7;stroke-width:0.3;\" x=\"28.97375\" y=\"35.743555\" xlink:href=\"#m8636eb68e5\" />\n     <use style=\"fill:#4575b4;fill-opacity:0.7;stroke:#4575b4;stroke-opacity:0.7;stroke-width:0.3;\" x=\"31.900802\" y=\"29.92385\" xlink:href=\"#m8636eb68e5\" />\n     <use style=\"fill:#4575b4;fill-opacity:0.7;stroke:#4575b4;stroke-opacity:0.7;stroke-width:0.3;\" x=\"45.919216\" y=\"30.750268\" xlink:href=\"#m8636eb68e5\" />\n     <use style=\"fill:#4575b4;fill-opacity:0.7;stroke:#4575b4;stroke-opacity:0.7;stroke-width:0.3;\" x=\"58.027206\" y=\"29.189742\" xlink:href=\"#m8636eb68e5\" />\n     <use style=\"fill:#4575b4;fill-opacity:0.7;stroke:#4575b4;stroke-opacity:0.7;stroke-width:0.3;\" x=\"101.004287\" y=\"33.045694\" xlink:href=\"#m8636eb68e5\" />\n     <use style=\"fill:#4575b4;fill-opacity:0.7;stroke:#4575b4;stroke-opacity:0.7;stroke-width:0.3;\" x=\"168.47375\" y=\"38.944997\" xlink:href=\"#m8636eb68e5\" />\n     <use style=\"fill:#4575b4;fill-opacity:0.7;stroke:#4575b4;stroke-opacity:0.7;stroke-width:0.3;\" x=\"60.787442\" y=\"26.355763\" xlink:href=\"#m8636eb68e5\" />\n     <use style=\"fill:#4575b4;fill-opacity:0.7;stroke:#4575b4;stroke-opacity:0.7;stroke-width:0.3;\" x=\"43.913011\" y=\"12.597995\" xlink:href=\"#m8636eb68e5\" />\n     <use style=\"fill:#4575b4;fill-opacity:0.7;stroke:#4575b4;stroke-opacity:0.7;stroke-width:0.3;\" x=\"48.767676\" y=\"28.604807\" xlink:href=\"#m8636eb68e5\" />\n     <use style=\"fill:#4575b4;fill-opacity:0.7;stroke:#4575b4;stroke-opacity:0.7;stroke-width:0.3;\" x=\"31.67751\" y=\"25.118853\" xlink:href=\"#m8636eb68e5\" />\n     <use style=\"fill:#4575b4;fill-opacity:0.7;stroke:#4575b4;stroke-opacity:0.7;stroke-width:0.3;\" x=\"54.473009\" y=\"17.046882\" xlink:href=\"#m8636eb68e5\" />\n     <use style=\"fill:#4575b4;fill-opacity:0.7;stroke:#4575b4;stroke-opacity:0.7;stroke-width:0.3;\" x=\"37.900599\" y=\"29.520473\" xlink:href=\"#m8636eb68e5\" />\n     <use style=\"fill:#4575b4;fill-opacity:0.7;stroke:#4575b4;stroke-opacity:0.7;stroke-width:0.3;\" x=\"36.293957\" y=\"31.410466\" xlink:href=\"#m8636eb68e5\" />\n     <use style=\"fill:#4575b4;fill-opacity:0.7;stroke:#4575b4;stroke-opacity:0.7;stroke-width:0.3;\" x=\"40.68191\" y=\"28.62624\" xlink:href=\"#m8636eb68e5\" />\n     <use style=\"fill:#4575b4;fill-opacity:0.7;stroke:#4575b4;stroke-opacity:0.7;stroke-width:0.3;\" x=\"48.136546\" y=\"20.828393\" xlink:href=\"#m8636eb68e5\" />\n     <use style=\"fill:#4575b4;fill-opacity:0.7;stroke:#4575b4;stroke-opacity:0.7;stroke-width:0.3;\" x=\"40.022942\" y=\"30.38307\" xlink:href=\"#m8636eb68e5\" />\n     <use style=\"fill:#4575b4;fill-opacity:0.7;stroke:#4575b4;stroke-opacity:0.7;stroke-width:0.3;\" x=\"32.326616\" y=\"26.594425\" xlink:href=\"#m8636eb68e5\" />\n     <use style=\"fill:#4575b4;fill-opacity:0.7;stroke:#4575b4;stroke-opacity:0.7;stroke-width:0.3;\" x=\"28.97375\" y=\"32.300767\" xlink:href=\"#m8636eb68e5\" />\n     <use style=\"fill:#4575b4;fill-opacity:0.7;stroke:#4575b4;stroke-opacity:0.7;stroke-width:0.3;\" x=\"168.47375\" y=\"33.938788\" xlink:href=\"#m8636eb68e5\" />\n     <use style=\"fill:#4575b4;fill-opacity:0.7;stroke:#4575b4;stroke-opacity:0.7;stroke-width:0.3;\" x=\"40.81344\" y=\"32.958508\" xlink:href=\"#m8636eb68e5\" />\n     <use style=\"fill:#4575b4;fill-opacity:0.7;stroke:#4575b4;stroke-opacity:0.7;stroke-width:0.3;\" x=\"42.316927\" y=\"29.921122\" xlink:href=\"#m8636eb68e5\" />\n     <use style=\"fill:#4575b4;fill-opacity:0.7;stroke:#4575b4;stroke-opacity:0.7;stroke-width:0.3;\" x=\"42.284815\" y=\"13.244189\" xlink:href=\"#m8636eb68e5\" />\n     <use style=\"fill:#4575b4;fill-opacity:0.7;stroke:#4575b4;stroke-opacity:0.7;stroke-width:0.3;\" x=\"28.97375\" y=\"34.285314\" xlink:href=\"#m8636eb68e5\" />\n     <use style=\"fill:#4575b4;fill-opacity:0.7;stroke:#4575b4;stroke-opacity:0.7;stroke-width:0.3;\" x=\"38.231821\" y=\"37.650581\" xlink:href=\"#m8636eb68e5\" />\n     <use style=\"fill:#4575b4;fill-opacity:0.7;stroke:#4575b4;stroke-opacity:0.7;stroke-width:0.3;\" x=\"168.47375\" y=\"40.153997\" xlink:href=\"#m8636eb68e5\" />\n     <use style=\"fill:#4575b4;fill-opacity:0.7;stroke:#4575b4;stroke-opacity:0.7;stroke-width:0.3;\" x=\"84.973552\" y=\"33.805327\" xlink:href=\"#m8636eb68e5\" />\n     <use style=\"fill:#4575b4;fill-opacity:0.7;stroke:#4575b4;stroke-opacity:0.7;stroke-width:0.3;\" x=\"28.97375\" y=\"34.185039\" xlink:href=\"#m8636eb68e5\" />\n     <use style=\"fill:#4575b4;fill-opacity:0.7;stroke:#4575b4;stroke-opacity:0.7;stroke-width:0.3;\" x=\"168.47375\" y=\"30.715824\" xlink:href=\"#m8636eb68e5\" />\n     <use style=\"fill:#4575b4;fill-opacity:0.7;stroke:#4575b4;stroke-opacity:0.7;stroke-width:0.3;\" x=\"38.311066\" y=\"33.662861\" xlink:href=\"#m8636eb68e5\" />\n     <use style=\"fill:#4575b4;fill-opacity:0.7;stroke:#4575b4;stroke-opacity:0.7;stroke-width:0.3;\" x=\"30.36875\" y=\"32.914837\" xlink:href=\"#m8636eb68e5\" />\n     <use style=\"fill:#4575b4;fill-opacity:0.7;stroke:#4575b4;stroke-opacity:0.7;stroke-width:0.3;\" x=\"168.47375\" y=\"26.414663\" xlink:href=\"#m8636eb68e5\" />\n     <use style=\"fill:#4575b4;fill-opacity:0.7;stroke:#4575b4;stroke-opacity:0.7;stroke-width:0.3;\" x=\"168.47375\" y=\"25.659797\" xlink:href=\"#m8636eb68e5\" />\n     <use style=\"fill:#4575b4;fill-opacity:0.7;stroke:#4575b4;stroke-opacity:0.7;stroke-width:0.3;\" x=\"30.36875\" y=\"17.337948\" xlink:href=\"#m8636eb68e5\" />\n     <use style=\"fill:#4575b4;fill-opacity:0.7;stroke:#4575b4;stroke-opacity:0.7;stroke-width:0.3;\" x=\"70.194509\" y=\"30.309985\" xlink:href=\"#m8636eb68e5\" />\n     <use style=\"fill:#4575b4;fill-opacity:0.7;stroke:#4575b4;stroke-opacity:0.7;stroke-width:0.3;\" x=\"92.230732\" y=\"33.593079\" xlink:href=\"#m8636eb68e5\" />\n     <use style=\"fill:#4575b4;fill-opacity:0.7;stroke:#4575b4;stroke-opacity:0.7;stroke-width:0.3;\" x=\"44.423619\" y=\"23.393748\" xlink:href=\"#m8636eb68e5\" />\n     <use style=\"fill:#4575b4;fill-opacity:0.7;stroke:#4575b4;stroke-opacity:0.7;stroke-width:0.3;\" x=\"51.905267\" y=\"22.025394\" xlink:href=\"#m8636eb68e5\" />\n     <use style=\"fill:#4575b4;fill-opacity:0.7;stroke:#4575b4;stroke-opacity:0.7;stroke-width:0.3;\" x=\"76.288434\" y=\"31.989726\" xlink:href=\"#m8636eb68e5\" />\n     <use style=\"fill:#4575b4;fill-opacity:0.7;stroke:#4575b4;stroke-opacity:0.7;stroke-width:0.3;\" x=\"168.47375\" y=\"28.183734\" xlink:href=\"#m8636eb68e5\" />\n     <use style=\"fill:#4575b4;fill-opacity:0.7;stroke:#4575b4;stroke-opacity:0.7;stroke-width:0.3;\" x=\"75.443044\" y=\"28.64473\" xlink:href=\"#m8636eb68e5\" />\n     <use style=\"fill:#4575b4;fill-opacity:0.7;stroke:#4575b4;stroke-opacity:0.7;stroke-width:0.3;\" x=\"168.47375\" y=\"32.414138\" xlink:href=\"#m8636eb68e5\" />\n     <use style=\"fill:#4575b4;fill-opacity:0.7;stroke:#4575b4;stroke-opacity:0.7;stroke-width:0.3;\" x=\"30.36875\" y=\"33.292268\" xlink:href=\"#m8636eb68e5\" />\n     <use style=\"fill:#4575b4;fill-opacity:0.7;stroke:#4575b4;stroke-opacity:0.7;stroke-width:0.3;\" x=\"60.50201\" y=\"26.93347\" xlink:href=\"#m8636eb68e5\" />\n     <use style=\"fill:#4575b4;fill-opacity:0.7;stroke:#4575b4;stroke-opacity:0.7;stroke-width:0.3;\" x=\"28.97375\" y=\"35.068715\" xlink:href=\"#m8636eb68e5\" />\n     <use style=\"fill:#4575b4;fill-opacity:0.7;stroke:#4575b4;stroke-opacity:0.7;stroke-width:0.3;\" x=\"168.47375\" y=\"41.079037\" xlink:href=\"#m8636eb68e5\" />\n     <use style=\"fill:#4575b4;fill-opacity:0.7;stroke:#4575b4;stroke-opacity:0.7;stroke-width:0.3;\" x=\"35.652546\" y=\"25.173832\" xlink:href=\"#m8636eb68e5\" />\n     <use style=\"fill:#4575b4;fill-opacity:0.7;stroke:#4575b4;stroke-opacity:0.7;stroke-width:0.3;\" x=\"41.581746\" y=\"18.430642\" xlink:href=\"#m8636eb68e5\" />\n     <use style=\"fill:#4575b4;fill-opacity:0.7;stroke:#4575b4;stroke-opacity:0.7;stroke-width:0.3;\" x=\"39.842893\" y=\"24.744397\" xlink:href=\"#m8636eb68e5\" />\n     <use style=\"fill:#4575b4;fill-opacity:0.7;stroke:#4575b4;stroke-opacity:0.7;stroke-width:0.3;\" x=\"37.331086\" y=\"30.094132\" xlink:href=\"#m8636eb68e5\" />\n     <use style=\"fill:#4575b4;fill-opacity:0.7;stroke:#4575b4;stroke-opacity:0.7;stroke-width:0.3;\" x=\"33.156221\" y=\"26.889546\" xlink:href=\"#m8636eb68e5\" />\n     <use style=\"fill:#4575b4;fill-opacity:0.7;stroke:#4575b4;stroke-opacity:0.7;stroke-width:0.3;\" x=\"37.016988\" y=\"27.333801\" xlink:href=\"#m8636eb68e5\" />\n     <use style=\"fill:#4575b4;fill-opacity:0.7;stroke:#4575b4;stroke-opacity:0.7;stroke-width:0.3;\" x=\"50.266657\" y=\"35.420967\" xlink:href=\"#m8636eb68e5\" />\n     <use style=\"fill:#4575b4;fill-opacity:0.7;stroke:#4575b4;stroke-opacity:0.7;stroke-width:0.3;\" x=\"28.97375\" y=\"33.232644\" xlink:href=\"#m8636eb68e5\" />\n     <use style=\"fill:#4575b4;fill-opacity:0.7;stroke:#4575b4;stroke-opacity:0.7;stroke-width:0.3;\" x=\"55.77615\" y=\"34.247953\" xlink:href=\"#m8636eb68e5\" />\n     <use style=\"fill:#4575b4;fill-opacity:0.7;stroke:#4575b4;stroke-opacity:0.7;stroke-width:0.3;\" x=\"30.36875\" y=\"28.303478\" xlink:href=\"#m8636eb68e5\" />\n     <use style=\"fill:#4575b4;fill-opacity:0.7;stroke:#4575b4;stroke-opacity:0.7;stroke-width:0.3;\" x=\"34.10054\" y=\"30.134448\" xlink:href=\"#m8636eb68e5\" />\n     <use style=\"fill:#4575b4;fill-opacity:0.7;stroke:#4575b4;stroke-opacity:0.7;stroke-width:0.3;\" x=\"47.714341\" y=\"32.238305\" xlink:href=\"#m8636eb68e5\" />\n     <use style=\"fill:#4575b4;fill-opacity:0.7;stroke:#4575b4;stroke-opacity:0.7;stroke-width:0.3;\" x=\"36.302074\" y=\"31.25987\" xlink:href=\"#m8636eb68e5\" />\n     <use style=\"fill:#4575b4;fill-opacity:0.7;stroke:#4575b4;stroke-opacity:0.7;stroke-width:0.3;\" x=\"30.36875\" y=\"35.498589\" xlink:href=\"#m8636eb68e5\" />\n     <use style=\"fill:#4575b4;fill-opacity:0.7;stroke:#4575b4;stroke-opacity:0.7;stroke-width:0.3;\" x=\"54.277261\" y=\"31.887337\" xlink:href=\"#m8636eb68e5\" />\n     <use style=\"fill:#4575b4;fill-opacity:0.7;stroke:#4575b4;stroke-opacity:0.7;stroke-width:0.3;\" x=\"35.586111\" y=\"26.38984\" xlink:href=\"#m8636eb68e5\" />\n     <use style=\"fill:#4575b4;fill-opacity:0.7;stroke:#4575b4;stroke-opacity:0.7;stroke-width:0.3;\" x=\"64.576219\" y=\"33.941041\" xlink:href=\"#m8636eb68e5\" />\n     <use style=\"fill:#4575b4;fill-opacity:0.7;stroke:#4575b4;stroke-opacity:0.7;stroke-width:0.3;\" x=\"98.978038\" y=\"33.675533\" xlink:href=\"#m8636eb68e5\" />\n     <use style=\"fill:#4575b4;fill-opacity:0.7;stroke:#4575b4;stroke-opacity:0.7;stroke-width:0.3;\" x=\"46.764235\" y=\"21.23067\" xlink:href=\"#m8636eb68e5\" />\n     <use style=\"fill:#4575b4;fill-opacity:0.7;stroke:#4575b4;stroke-opacity:0.7;stroke-width:0.3;\" x=\"70.751075\" y=\"35.254688\" xlink:href=\"#m8636eb68e5\" />\n     <use style=\"fill:#4575b4;fill-opacity:0.7;stroke:#4575b4;stroke-opacity:0.7;stroke-width:0.3;\" x=\"28.97375\" y=\"32.629068\" xlink:href=\"#m8636eb68e5\" />\n     <use style=\"fill:#4575b4;fill-opacity:0.7;stroke:#4575b4;stroke-opacity:0.7;stroke-width:0.3;\" x=\"42.338336\" y=\"32.390141\" xlink:href=\"#m8636eb68e5\" />\n     <use style=\"fill:#4575b4;fill-opacity:0.7;stroke:#4575b4;stroke-opacity:0.7;stroke-width:0.3;\" x=\"35.94472\" y=\"40.106926\" xlink:href=\"#m8636eb68e5\" />\n     <use style=\"fill:#4575b4;fill-opacity:0.7;stroke:#4575b4;stroke-opacity:0.7;stroke-width:0.3;\" x=\"30.36875\" y=\"32.504112\" xlink:href=\"#m8636eb68e5\" />\n     <use style=\"fill:#4575b4;fill-opacity:0.7;stroke:#4575b4;stroke-opacity:0.7;stroke-width:0.3;\" x=\"52.587732\" y=\"22.851536\" xlink:href=\"#m8636eb68e5\" />\n     <use style=\"fill:#4575b4;fill-opacity:0.7;stroke:#4575b4;stroke-opacity:0.7;stroke-width:0.3;\" x=\"59.849864\" y=\"26.102872\" xlink:href=\"#m8636eb68e5\" />\n     <use style=\"fill:#4575b4;fill-opacity:0.7;stroke:#4575b4;stroke-opacity:0.7;stroke-width:0.3;\" x=\"168.47375\" y=\"30.659355\" xlink:href=\"#m8636eb68e5\" />\n     <use style=\"fill:#4575b4;fill-opacity:0.7;stroke:#4575b4;stroke-opacity:0.7;stroke-width:0.3;\" x=\"41.037275\" y=\"44.520373\" xlink:href=\"#m8636eb68e5\" />\n     <use style=\"fill:#4575b4;fill-opacity:0.7;stroke:#4575b4;stroke-opacity:0.7;stroke-width:0.3;\" x=\"28.97375\" y=\"33.382387\" xlink:href=\"#m8636eb68e5\" />\n     <use style=\"fill:#4575b4;fill-opacity:0.7;stroke:#4575b4;stroke-opacity:0.7;stroke-width:0.3;\" x=\"33.957912\" y=\"37.864082\" xlink:href=\"#m8636eb68e5\" />\n     <use style=\"fill:#4575b4;fill-opacity:0.7;stroke:#4575b4;stroke-opacity:0.7;stroke-width:0.3;\" x=\"168.47375\" y=\"29.551701\" xlink:href=\"#m8636eb68e5\" />\n     <use style=\"fill:#4575b4;fill-opacity:0.7;stroke:#4575b4;stroke-opacity:0.7;stroke-width:0.3;\" x=\"39.833124\" y=\"24.489688\" xlink:href=\"#m8636eb68e5\" />\n     <use style=\"fill:#4575b4;fill-opacity:0.7;stroke:#4575b4;stroke-opacity:0.7;stroke-width:0.3;\" x=\"47.444927\" y=\"31.765008\" xlink:href=\"#m8636eb68e5\" />\n     <use style=\"fill:#4575b4;fill-opacity:0.7;stroke:#4575b4;stroke-opacity:0.7;stroke-width:0.3;\" x=\"28.97375\" y=\"32.325462\" xlink:href=\"#m8636eb68e5\" />\n     <use style=\"fill:#4575b4;fill-opacity:0.7;stroke:#4575b4;stroke-opacity:0.7;stroke-width:0.3;\" x=\"41.130167\" y=\"20.727892\" xlink:href=\"#m8636eb68e5\" />\n     <use style=\"fill:#4575b4;fill-opacity:0.7;stroke:#4575b4;stroke-opacity:0.7;stroke-width:0.3;\" x=\"28.97375\" y=\"25.004166\" xlink:href=\"#m8636eb68e5\" />\n     <use style=\"fill:#4575b4;fill-opacity:0.7;stroke:#4575b4;stroke-opacity:0.7;stroke-width:0.3;\" x=\"168.47375\" y=\"26.288169\" xlink:href=\"#m8636eb68e5\" />\n     <use style=\"fill:#4575b4;fill-opacity:0.7;stroke:#4575b4;stroke-opacity:0.7;stroke-width:0.3;\" x=\"28.97375\" y=\"29.091666\" xlink:href=\"#m8636eb68e5\" />\n     <use style=\"fill:#4575b4;fill-opacity:0.7;stroke:#4575b4;stroke-opacity:0.7;stroke-width:0.3;\" x=\"78.543055\" y=\"33.81936\" xlink:href=\"#m8636eb68e5\" />\n     <use style=\"fill:#4575b4;fill-opacity:0.7;stroke:#4575b4;stroke-opacity:0.7;stroke-width:0.3;\" x=\"57.880741\" y=\"20.964781\" xlink:href=\"#m8636eb68e5\" />\n     <use style=\"fill:#4575b4;fill-opacity:0.7;stroke:#4575b4;stroke-opacity:0.7;stroke-width:0.3;\" x=\"49.39213\" y=\"26.838839\" xlink:href=\"#m8636eb68e5\" />\n     <use style=\"fill:#4575b4;fill-opacity:0.7;stroke:#4575b4;stroke-opacity:0.7;stroke-width:0.3;\" x=\"49.713592\" y=\"27.050011\" xlink:href=\"#m8636eb68e5\" />\n     <use style=\"fill:#4575b4;fill-opacity:0.7;stroke:#4575b4;stroke-opacity:0.7;stroke-width:0.3;\" x=\"168.47375\" y=\"26.043908\" xlink:href=\"#m8636eb68e5\" />\n     <use style=\"fill:#4575b4;fill-opacity:0.7;stroke:#4575b4;stroke-opacity:0.7;stroke-width:0.3;\" x=\"39.947894\" y=\"31.145314\" xlink:href=\"#m8636eb68e5\" />\n     <use style=\"fill:#4575b4;fill-opacity:0.7;stroke:#4575b4;stroke-opacity:0.7;stroke-width:0.3;\" x=\"48.471581\" y=\"25.41965\" xlink:href=\"#m8636eb68e5\" />\n     <use style=\"fill:#4575b4;fill-opacity:0.7;stroke:#4575b4;stroke-opacity:0.7;stroke-width:0.3;\" x=\"45.647794\" y=\"19.119576\" xlink:href=\"#m8636eb68e5\" />\n     <use style=\"fill:#4575b4;fill-opacity:0.7;stroke:#4575b4;stroke-opacity:0.7;stroke-width:0.3;\" x=\"38.573693\" y=\"21.331596\" xlink:href=\"#m8636eb68e5\" />\n     <use style=\"fill:#4575b4;fill-opacity:0.7;stroke:#4575b4;stroke-opacity:0.7;stroke-width:0.3;\" x=\"56.380585\" y=\"43.038958\" xlink:href=\"#m8636eb68e5\" />\n     <use style=\"fill:#4575b4;fill-opacity:0.7;stroke:#4575b4;stroke-opacity:0.7;stroke-width:0.3;\" x=\"40.449528\" y=\"27.775201\" xlink:href=\"#m8636eb68e5\" />\n     <use style=\"fill:#4575b4;fill-opacity:0.7;stroke:#4575b4;stroke-opacity:0.7;stroke-width:0.3;\" x=\"28.97375\" y=\"30.273052\" xlink:href=\"#m8636eb68e5\" />\n     <use style=\"fill:#4575b4;fill-opacity:0.7;stroke:#4575b4;stroke-opacity:0.7;stroke-width:0.3;\" x=\"42.675723\" y=\"30.704433\" xlink:href=\"#m8636eb68e5\" />\n     <use style=\"fill:#4575b4;fill-opacity:0.7;stroke:#4575b4;stroke-opacity:0.7;stroke-width:0.3;\" x=\"45.925354\" y=\"33.606887\" xlink:href=\"#m8636eb68e5\" />\n     <use style=\"fill:#4575b4;fill-opacity:0.7;stroke:#4575b4;stroke-opacity:0.7;stroke-width:0.3;\" x=\"39.007402\" y=\"37.388669\" xlink:href=\"#m8636eb68e5\" />\n     <use style=\"fill:#4575b4;fill-opacity:0.7;stroke:#4575b4;stroke-opacity:0.7;stroke-width:0.3;\" x=\"31.453057\" y=\"33.133326\" xlink:href=\"#m8636eb68e5\" />\n     <use style=\"fill:#4575b4;fill-opacity:0.7;stroke:#4575b4;stroke-opacity:0.7;stroke-width:0.3;\" x=\"35.524457\" y=\"22.067877\" xlink:href=\"#m8636eb68e5\" />\n     <use style=\"fill:#4575b4;fill-opacity:0.7;stroke:#4575b4;stroke-opacity:0.7;stroke-width:0.3;\" x=\"46.394386\" y=\"35.539441\" xlink:href=\"#m8636eb68e5\" />\n     <use style=\"fill:#4575b4;fill-opacity:0.7;stroke:#4575b4;stroke-opacity:0.7;stroke-width:0.3;\" x=\"39.658926\" y=\"30.721827\" xlink:href=\"#m8636eb68e5\" />\n     <use style=\"fill:#4575b4;fill-opacity:0.7;stroke:#4575b4;stroke-opacity:0.7;stroke-width:0.3;\" x=\"51.183811\" y=\"31.970399\" xlink:href=\"#m8636eb68e5\" />\n     <use style=\"fill:#4575b4;fill-opacity:0.7;stroke:#4575b4;stroke-opacity:0.7;stroke-width:0.3;\" x=\"168.47375\" y=\"39.231163\" xlink:href=\"#m8636eb68e5\" />\n     <use style=\"fill:#4575b4;fill-opacity:0.7;stroke:#4575b4;stroke-opacity:0.7;stroke-width:0.3;\" x=\"34.364174\" y=\"32.607875\" xlink:href=\"#m8636eb68e5\" />\n     <use style=\"fill:#4575b4;fill-opacity:0.7;stroke:#4575b4;stroke-opacity:0.7;stroke-width:0.3;\" x=\"36.863589\" y=\"28.461087\" xlink:href=\"#m8636eb68e5\" />\n     <use style=\"fill:#4575b4;fill-opacity:0.7;stroke:#4575b4;stroke-opacity:0.7;stroke-width:0.3;\" x=\"28.97375\" y=\"33.759865\" xlink:href=\"#m8636eb68e5\" />\n     <use style=\"fill:#4575b4;fill-opacity:0.7;stroke:#4575b4;stroke-opacity:0.7;stroke-width:0.3;\" x=\"79.761287\" y=\"34.387683\" xlink:href=\"#m8636eb68e5\" />\n     <use style=\"fill:#4575b4;fill-opacity:0.7;stroke:#4575b4;stroke-opacity:0.7;stroke-width:0.3;\" x=\"44.069179\" y=\"26.200324\" xlink:href=\"#m8636eb68e5\" />\n     <use style=\"fill:#4575b4;fill-opacity:0.7;stroke:#4575b4;stroke-opacity:0.7;stroke-width:0.3;\" x=\"37.920639\" y=\"27.286524\" xlink:href=\"#m8636eb68e5\" />\n     <use style=\"fill:#4575b4;fill-opacity:0.7;stroke:#4575b4;stroke-opacity:0.7;stroke-width:0.3;\" x=\"30.36875\" y=\"31.638298\" xlink:href=\"#m8636eb68e5\" />\n     <use style=\"fill:#4575b4;fill-opacity:0.7;stroke:#4575b4;stroke-opacity:0.7;stroke-width:0.3;\" x=\"168.47375\" y=\"30.14756\" xlink:href=\"#m8636eb68e5\" />\n     <use style=\"fill:#4575b4;fill-opacity:0.7;stroke:#4575b4;stroke-opacity:0.7;stroke-width:0.3;\" x=\"40.261128\" y=\"27.316271\" xlink:href=\"#m8636eb68e5\" />\n     <use style=\"fill:#4575b4;fill-opacity:0.7;stroke:#4575b4;stroke-opacity:0.7;stroke-width:0.3;\" x=\"46.19081\" y=\"31.198048\" xlink:href=\"#m8636eb68e5\" />\n     <use style=\"fill:#4575b4;fill-opacity:0.7;stroke:#4575b4;stroke-opacity:0.7;stroke-width:0.3;\" x=\"30.36875\" y=\"32.947326\" xlink:href=\"#m8636eb68e5\" />\n     <use style=\"fill:#4575b4;fill-opacity:0.7;stroke:#4575b4;stroke-opacity:0.7;stroke-width:0.3;\" x=\"42.128086\" y=\"26.511306\" xlink:href=\"#m8636eb68e5\" />\n     <use style=\"fill:#4575b4;fill-opacity:0.7;stroke:#4575b4;stroke-opacity:0.7;stroke-width:0.3;\" x=\"49.069499\" y=\"33.388524\" xlink:href=\"#m8636eb68e5\" />\n     <use style=\"fill:#4575b4;fill-opacity:0.7;stroke:#4575b4;stroke-opacity:0.7;stroke-width:0.3;\" x=\"35.108438\" y=\"27.115261\" xlink:href=\"#m8636eb68e5\" />\n     <use style=\"fill:#4575b4;fill-opacity:0.7;stroke:#4575b4;stroke-opacity:0.7;stroke-width:0.3;\" x=\"35.27459\" y=\"30.509722\" xlink:href=\"#m8636eb68e5\" />\n     <use style=\"fill:#4575b4;fill-opacity:0.7;stroke:#4575b4;stroke-opacity:0.7;stroke-width:0.3;\" x=\"42.522866\" y=\"33.212216\" xlink:href=\"#m8636eb68e5\" />\n     <use style=\"fill:#4575b4;fill-opacity:0.7;stroke:#4575b4;stroke-opacity:0.7;stroke-width:0.3;\" x=\"28.97375\" y=\"27.028003\" xlink:href=\"#m8636eb68e5\" />\n     <use style=\"fill:#4575b4;fill-opacity:0.7;stroke:#4575b4;stroke-opacity:0.7;stroke-width:0.3;\" x=\"45.569009\" y=\"28.723419\" xlink:href=\"#m8636eb68e5\" />\n     <use style=\"fill:#4575b4;fill-opacity:0.7;stroke:#4575b4;stroke-opacity:0.7;stroke-width:0.3;\" x=\"71.407778\" y=\"38.417016\" xlink:href=\"#m8636eb68e5\" />\n     <use style=\"fill:#4575b4;fill-opacity:0.7;stroke:#4575b4;stroke-opacity:0.7;stroke-width:0.3;\" x=\"39.741199\" y=\"24.445331\" xlink:href=\"#m8636eb68e5\" />\n     <use style=\"fill:#4575b4;fill-opacity:0.7;stroke:#4575b4;stroke-opacity:0.7;stroke-width:0.3;\" x=\"63.574007\" y=\"35.460996\" xlink:href=\"#m8636eb68e5\" />\n     <use style=\"fill:#4575b4;fill-opacity:0.7;stroke:#4575b4;stroke-opacity:0.7;stroke-width:0.3;\" x=\"51.494981\" y=\"38.428192\" xlink:href=\"#m8636eb68e5\" />\n     <use style=\"fill:#4575b4;fill-opacity:0.7;stroke:#4575b4;stroke-opacity:0.7;stroke-width:0.3;\" x=\"56.360785\" y=\"35.635981\" xlink:href=\"#m8636eb68e5\" />\n     <use style=\"fill:#4575b4;fill-opacity:0.7;stroke:#4575b4;stroke-opacity:0.7;stroke-width:0.3;\" x=\"28.97375\" y=\"14.086432\" xlink:href=\"#m8636eb68e5\" />\n     <use style=\"fill:#4575b4;fill-opacity:0.7;stroke:#4575b4;stroke-opacity:0.7;stroke-width:0.3;\" x=\"55.901846\" y=\"30.492229\" xlink:href=\"#m8636eb68e5\" />\n     <use style=\"fill:#4575b4;fill-opacity:0.7;stroke:#4575b4;stroke-opacity:0.7;stroke-width:0.3;\" x=\"168.47222\" y=\"31.734494\" xlink:href=\"#m8636eb68e5\" />\n     <use style=\"fill:#4575b4;fill-opacity:0.7;stroke:#4575b4;stroke-opacity:0.7;stroke-width:0.3;\" x=\"34.671173\" y=\"21.209466\" xlink:href=\"#m8636eb68e5\" />\n     <use style=\"fill:#4575b4;fill-opacity:0.7;stroke:#4575b4;stroke-opacity:0.7;stroke-width:0.3;\" x=\"36.478051\" y=\"28.94709\" xlink:href=\"#m8636eb68e5\" />\n     <use style=\"fill:#4575b4;fill-opacity:0.7;stroke:#4575b4;stroke-opacity:0.7;stroke-width:0.3;\" x=\"168.47375\" y=\"42.134996\" xlink:href=\"#m8636eb68e5\" />\n     <use style=\"fill:#4575b4;fill-opacity:0.7;stroke:#4575b4;stroke-opacity:0.7;stroke-width:0.3;\" x=\"168.47375\" y=\"22.585579\" xlink:href=\"#m8636eb68e5\" />\n     <use style=\"fill:#4575b4;fill-opacity:0.7;stroke:#4575b4;stroke-opacity:0.7;stroke-width:0.3;\" x=\"168.47375\" y=\"30.062781\" xlink:href=\"#m8636eb68e5\" />\n     <use style=\"fill:#4575b4;fill-opacity:0.7;stroke:#4575b4;stroke-opacity:0.7;stroke-width:0.3;\" x=\"51.867954\" y=\"29.692265\" xlink:href=\"#m8636eb68e5\" />\n     <use style=\"fill:#4575b4;fill-opacity:0.7;stroke:#4575b4;stroke-opacity:0.7;stroke-width:0.3;\" x=\"168.47375\" y=\"34.111979\" xlink:href=\"#m8636eb68e5\" />\n     <use style=\"fill:#4575b4;fill-opacity:0.7;stroke:#4575b4;stroke-opacity:0.7;stroke-width:0.3;\" x=\"51.368098\" y=\"37.125248\" xlink:href=\"#m8636eb68e5\" />\n     <use style=\"fill:#4575b4;fill-opacity:0.7;stroke:#4575b4;stroke-opacity:0.7;stroke-width:0.3;\" x=\"50.499624\" y=\"18.759301\" xlink:href=\"#m8636eb68e5\" />\n     <use style=\"fill:#4575b4;fill-opacity:0.7;stroke:#4575b4;stroke-opacity:0.7;stroke-width:0.3;\" x=\"42.197472\" y=\"34.698782\" xlink:href=\"#m8636eb68e5\" />\n     <use style=\"fill:#4575b4;fill-opacity:0.7;stroke:#4575b4;stroke-opacity:0.7;stroke-width:0.3;\" x=\"67.118185\" y=\"34.953014\" xlink:href=\"#m8636eb68e5\" />\n     <use style=\"fill:#4575b4;fill-opacity:0.7;stroke:#4575b4;stroke-opacity:0.7;stroke-width:0.3;\" x=\"37.937977\" y=\"29.731739\" xlink:href=\"#m8636eb68e5\" />\n     <use style=\"fill:#4575b4;fill-opacity:0.7;stroke:#4575b4;stroke-opacity:0.7;stroke-width:0.3;\" x=\"168.47375\" y=\"38.006993\" xlink:href=\"#m8636eb68e5\" />\n     <use style=\"fill:#4575b4;fill-opacity:0.7;stroke:#4575b4;stroke-opacity:0.7;stroke-width:0.3;\" x=\"39.259183\" y=\"28.604325\" xlink:href=\"#m8636eb68e5\" />\n     <use style=\"fill:#4575b4;fill-opacity:0.7;stroke:#4575b4;stroke-opacity:0.7;stroke-width:0.3;\" x=\"46.949681\" y=\"30.124269\" xlink:href=\"#m8636eb68e5\" />\n     <use style=\"fill:#4575b4;fill-opacity:0.7;stroke:#4575b4;stroke-opacity:0.7;stroke-width:0.3;\" x=\"30.36875\" y=\"33.598719\" xlink:href=\"#m8636eb68e5\" />\n     <use style=\"fill:#4575b4;fill-opacity:0.7;stroke:#4575b4;stroke-opacity:0.7;stroke-width:0.3;\" x=\"168.47375\" y=\"41.927219\" xlink:href=\"#m8636eb68e5\" />\n     <use style=\"fill:#4575b4;fill-opacity:0.7;stroke:#4575b4;stroke-opacity:0.7;stroke-width:0.3;\" x=\"28.97375\" y=\"36.760107\" xlink:href=\"#m8636eb68e5\" />\n     <use style=\"fill:#4575b4;fill-opacity:0.7;stroke:#4575b4;stroke-opacity:0.7;stroke-width:0.3;\" x=\"168.47375\" y=\"37.843034\" xlink:href=\"#m8636eb68e5\" />\n     <use style=\"fill:#4575b4;fill-opacity:0.7;stroke:#4575b4;stroke-opacity:0.7;stroke-width:0.3;\" x=\"30.36875\" y=\"24.000774\" xlink:href=\"#m8636eb68e5\" />\n     <use style=\"fill:#4575b4;fill-opacity:0.7;stroke:#4575b4;stroke-opacity:0.7;stroke-width:0.3;\" x=\"50.254522\" y=\"29.327966\" xlink:href=\"#m8636eb68e5\" />\n     <use style=\"fill:#4575b4;fill-opacity:0.7;stroke:#4575b4;stroke-opacity:0.7;stroke-width:0.3;\" x=\"30.36875\" y=\"36.077709\" xlink:href=\"#m8636eb68e5\" />\n     <use style=\"fill:#4575b4;fill-opacity:0.7;stroke:#4575b4;stroke-opacity:0.7;stroke-width:0.3;\" x=\"168.47375\" y=\"34.67383\" xlink:href=\"#m8636eb68e5\" />\n     <use style=\"fill:#4575b4;fill-opacity:0.7;stroke:#4575b4;stroke-opacity:0.7;stroke-width:0.3;\" x=\"38.848997\" y=\"32.406255\" xlink:href=\"#m8636eb68e5\" />\n     <use style=\"fill:#4575b4;fill-opacity:0.7;stroke:#4575b4;stroke-opacity:0.7;stroke-width:0.3;\" x=\"36.498577\" y=\"31.46237\" xlink:href=\"#m8636eb68e5\" />\n     <use style=\"fill:#4575b4;fill-opacity:0.7;stroke:#4575b4;stroke-opacity:0.7;stroke-width:0.3;\" x=\"168.47375\" y=\"35.444339\" xlink:href=\"#m8636eb68e5\" />\n     <use style=\"fill:#4575b4;fill-opacity:0.7;stroke:#4575b4;stroke-opacity:0.7;stroke-width:0.3;\" x=\"35.483642\" y=\"31.458445\" xlink:href=\"#m8636eb68e5\" />\n     <use style=\"fill:#4575b4;fill-opacity:0.7;stroke:#4575b4;stroke-opacity:0.7;stroke-width:0.3;\" x=\"168.47375\" y=\"27.637499\" xlink:href=\"#m8636eb68e5\" />\n     <use style=\"fill:#4575b4;fill-opacity:0.7;stroke:#4575b4;stroke-opacity:0.7;stroke-width:0.3;\" x=\"35.158229\" y=\"36.435507\" xlink:href=\"#m8636eb68e5\" />\n     <use style=\"fill:#4575b4;fill-opacity:0.7;stroke:#4575b4;stroke-opacity:0.7;stroke-width:0.3;\" x=\"33.643857\" y=\"31.612087\" xlink:href=\"#m8636eb68e5\" />\n     <use style=\"fill:#4575b4;fill-opacity:0.7;stroke:#4575b4;stroke-opacity:0.7;stroke-width:0.3;\" x=\"168.47375\" y=\"29.978044\" xlink:href=\"#m8636eb68e5\" />\n     <use style=\"fill:#4575b4;fill-opacity:0.7;stroke:#4575b4;stroke-opacity:0.7;stroke-width:0.3;\" x=\"60.387249\" y=\"31.574569\" xlink:href=\"#m8636eb68e5\" />\n     <use style=\"fill:#4575b4;fill-opacity:0.7;stroke:#4575b4;stroke-opacity:0.7;stroke-width:0.3;\" x=\"45.333503\" y=\"28.500074\" xlink:href=\"#m8636eb68e5\" />\n     <use style=\"fill:#4575b4;fill-opacity:0.7;stroke:#4575b4;stroke-opacity:0.7;stroke-width:0.3;\" x=\"168.47375\" y=\"39.172074\" xlink:href=\"#m8636eb68e5\" />\n     <use style=\"fill:#4575b4;fill-opacity:0.7;stroke:#4575b4;stroke-opacity:0.7;stroke-width:0.3;\" x=\"37.608261\" y=\"29.767783\" xlink:href=\"#m8636eb68e5\" />\n     <use style=\"fill:#4575b4;fill-opacity:0.7;stroke:#4575b4;stroke-opacity:0.7;stroke-width:0.3;\" x=\"28.97375\" y=\"25.655891\" xlink:href=\"#m8636eb68e5\" />\n     <use style=\"fill:#4575b4;fill-opacity:0.7;stroke:#4575b4;stroke-opacity:0.7;stroke-width:0.3;\" x=\"52.136454\" y=\"21.721494\" xlink:href=\"#m8636eb68e5\" />\n     <use style=\"fill:#4575b4;fill-opacity:0.7;stroke:#4575b4;stroke-opacity:0.7;stroke-width:0.3;\" x=\"69.18504\" y=\"31.29209\" xlink:href=\"#m8636eb68e5\" />\n     <use style=\"fill:#4575b4;fill-opacity:0.7;stroke:#4575b4;stroke-opacity:0.7;stroke-width:0.3;\" x=\"31.979418\" y=\"35.720646\" xlink:href=\"#m8636eb68e5\" />\n     <use style=\"fill:#4575b4;fill-opacity:0.7;stroke:#4575b4;stroke-opacity:0.7;stroke-width:0.3;\" x=\"168.47375\" y=\"40.539469\" xlink:href=\"#m8636eb68e5\" />\n     <use style=\"fill:#4575b4;fill-opacity:0.7;stroke:#4575b4;stroke-opacity:0.7;stroke-width:0.3;\" x=\"60.702185\" y=\"30.643896\" xlink:href=\"#m8636eb68e5\" />\n     <use style=\"fill:#4575b4;fill-opacity:0.7;stroke:#4575b4;stroke-opacity:0.7;stroke-width:0.3;\" x=\"28.97375\" y=\"36.118439\" xlink:href=\"#m8636eb68e5\" />\n     <use style=\"fill:#4575b4;fill-opacity:0.7;stroke:#4575b4;stroke-opacity:0.7;stroke-width:0.3;\" x=\"34.621865\" y=\"19.8715\" xlink:href=\"#m8636eb68e5\" />\n     <use style=\"fill:#4575b4;fill-opacity:0.7;stroke:#4575b4;stroke-opacity:0.7;stroke-width:0.3;\" x=\"45.898899\" y=\"13.861009\" xlink:href=\"#m8636eb68e5\" />\n     <use style=\"fill:#4575b4;fill-opacity:0.7;stroke:#4575b4;stroke-opacity:0.7;stroke-width:0.3;\" x=\"41.432777\" y=\"33.388819\" xlink:href=\"#m8636eb68e5\" />\n     <use style=\"fill:#4575b4;fill-opacity:0.7;stroke:#4575b4;stroke-opacity:0.7;stroke-width:0.3;\" x=\"58.172586\" y=\"25.499339\" xlink:href=\"#m8636eb68e5\" />\n     <use style=\"fill:#4575b4;fill-opacity:0.7;stroke:#4575b4;stroke-opacity:0.7;stroke-width:0.3;\" x=\"88.47252\" y=\"28.227411\" xlink:href=\"#m8636eb68e5\" />\n     <use style=\"fill:#4575b4;fill-opacity:0.7;stroke:#4575b4;stroke-opacity:0.7;stroke-width:0.3;\" x=\"28.97375\" y=\"36.492756\" xlink:href=\"#m8636eb68e5\" />\n     <use style=\"fill:#4575b4;fill-opacity:0.7;stroke:#4575b4;stroke-opacity:0.7;stroke-width:0.3;\" x=\"28.97375\" y=\"36.80048\" xlink:href=\"#m8636eb68e5\" />\n     <use style=\"fill:#4575b4;fill-opacity:0.7;stroke:#4575b4;stroke-opacity:0.7;stroke-width:0.3;\" x=\"30.870558\" y=\"30.558477\" xlink:href=\"#m8636eb68e5\" />\n     <use style=\"fill:#4575b4;fill-opacity:0.7;stroke:#4575b4;stroke-opacity:0.7;stroke-width:0.3;\" x=\"85.27606\" y=\"34.864663\" xlink:href=\"#m8636eb68e5\" />\n     <use style=\"fill:#4575b4;fill-opacity:0.7;stroke:#4575b4;stroke-opacity:0.7;stroke-width:0.3;\" x=\"85.516399\" y=\"31.57638\" xlink:href=\"#m8636eb68e5\" />\n     <use style=\"fill:#4575b4;fill-opacity:0.7;stroke:#4575b4;stroke-opacity:0.7;stroke-width:0.3;\" x=\"37.203644\" y=\"26.0941\" xlink:href=\"#m8636eb68e5\" />\n     <use style=\"fill:#4575b4;fill-opacity:0.7;stroke:#4575b4;stroke-opacity:0.7;stroke-width:0.3;\" x=\"42.497533\" y=\"31.256322\" xlink:href=\"#m8636eb68e5\" />\n     <use style=\"fill:#4575b4;fill-opacity:0.7;stroke:#4575b4;stroke-opacity:0.7;stroke-width:0.3;\" x=\"34.923264\" y=\"30.529889\" xlink:href=\"#m8636eb68e5\" />\n     <use style=\"fill:#4575b4;fill-opacity:0.7;stroke:#4575b4;stroke-opacity:0.7;stroke-width:0.3;\" x=\"36.82504\" y=\"47.405209\" xlink:href=\"#m8636eb68e5\" />\n     <use style=\"fill:#4575b4;fill-opacity:0.7;stroke:#4575b4;stroke-opacity:0.7;stroke-width:0.3;\" x=\"65.818714\" y=\"30.300096\" xlink:href=\"#m8636eb68e5\" />\n     <use style=\"fill:#4575b4;fill-opacity:0.7;stroke:#4575b4;stroke-opacity:0.7;stroke-width:0.3;\" x=\"168.47375\" y=\"28.962254\" xlink:href=\"#m8636eb68e5\" />\n     <use style=\"fill:#4575b4;fill-opacity:0.7;stroke:#4575b4;stroke-opacity:0.7;stroke-width:0.3;\" x=\"42.120795\" y=\"15.558874\" xlink:href=\"#m8636eb68e5\" />\n     <use style=\"fill:#4575b4;fill-opacity:0.7;stroke:#4575b4;stroke-opacity:0.7;stroke-width:0.3;\" x=\"168.47375\" y=\"11.065278\" xlink:href=\"#m8636eb68e5\" />\n     <use style=\"fill:#4575b4;fill-opacity:0.7;stroke:#4575b4;stroke-opacity:0.7;stroke-width:0.3;\" x=\"28.97375\" y=\"34.816163\" xlink:href=\"#m8636eb68e5\" />\n     <use style=\"fill:#4575b4;fill-opacity:0.7;stroke:#4575b4;stroke-opacity:0.7;stroke-width:0.3;\" x=\"44.333562\" y=\"23.732396\" xlink:href=\"#m8636eb68e5\" />\n     <use style=\"fill:#4575b4;fill-opacity:0.7;stroke:#4575b4;stroke-opacity:0.7;stroke-width:0.3;\" x=\"42.821191\" y=\"27.61857\" xlink:href=\"#m8636eb68e5\" />\n     <use style=\"fill:#4575b4;fill-opacity:0.7;stroke:#4575b4;stroke-opacity:0.7;stroke-width:0.3;\" x=\"152.514723\" y=\"34.135096\" xlink:href=\"#m8636eb68e5\" />\n     <use style=\"fill:#4575b4;fill-opacity:0.7;stroke:#4575b4;stroke-opacity:0.7;stroke-width:0.3;\" x=\"43.965517\" y=\"33.30119\" xlink:href=\"#m8636eb68e5\" />\n     <use style=\"fill:#4575b4;fill-opacity:0.7;stroke:#4575b4;stroke-opacity:0.7;stroke-width:0.3;\" x=\"40.91741\" y=\"29.082085\" xlink:href=\"#m8636eb68e5\" />\n     <use style=\"fill:#4575b4;fill-opacity:0.7;stroke:#4575b4;stroke-opacity:0.7;stroke-width:0.3;\" x=\"34.880269\" y=\"27.519342\" xlink:href=\"#m8636eb68e5\" />\n     <use style=\"fill:#4575b4;fill-opacity:0.7;stroke:#4575b4;stroke-opacity:0.7;stroke-width:0.3;\" x=\"42.60795\" y=\"23.64576\" xlink:href=\"#m8636eb68e5\" />\n     <use style=\"fill:#4575b4;fill-opacity:0.7;stroke:#4575b4;stroke-opacity:0.7;stroke-width:0.3;\" x=\"37.142638\" y=\"32.771354\" xlink:href=\"#m8636eb68e5\" />\n     <use style=\"fill:#4575b4;fill-opacity:0.7;stroke:#4575b4;stroke-opacity:0.7;stroke-width:0.3;\" x=\"168.47375\" y=\"41.683443\" xlink:href=\"#m8636eb68e5\" />\n     <use style=\"fill:#4575b4;fill-opacity:0.7;stroke:#4575b4;stroke-opacity:0.7;stroke-width:0.3;\" x=\"41.603424\" y=\"37.156636\" xlink:href=\"#m8636eb68e5\" />\n     <use style=\"fill:#4575b4;fill-opacity:0.7;stroke:#4575b4;stroke-opacity:0.7;stroke-width:0.3;\" x=\"28.97375\" y=\"30.834741\" xlink:href=\"#m8636eb68e5\" />\n     <use style=\"fill:#4575b4;fill-opacity:0.7;stroke:#4575b4;stroke-opacity:0.7;stroke-width:0.3;\" x=\"65.825449\" y=\"30.531233\" xlink:href=\"#m8636eb68e5\" />\n     <use style=\"fill:#4575b4;fill-opacity:0.7;stroke:#4575b4;stroke-opacity:0.7;stroke-width:0.3;\" x=\"46.29059\" y=\"28.506734\" xlink:href=\"#m8636eb68e5\" />\n     <use style=\"fill:#4575b4;fill-opacity:0.7;stroke:#4575b4;stroke-opacity:0.7;stroke-width:0.3;\" x=\"36.737625\" y=\"25.890586\" xlink:href=\"#m8636eb68e5\" />\n     <use style=\"fill:#4575b4;fill-opacity:0.7;stroke:#4575b4;stroke-opacity:0.7;stroke-width:0.3;\" x=\"36.378222\" y=\"26.178306\" xlink:href=\"#m8636eb68e5\" />\n     <use style=\"fill:#4575b4;fill-opacity:0.7;stroke:#4575b4;stroke-opacity:0.7;stroke-width:0.3;\" x=\"168.47375\" y=\"32.174554\" xlink:href=\"#m8636eb68e5\" />\n     <use style=\"fill:#4575b4;fill-opacity:0.7;stroke:#4575b4;stroke-opacity:0.7;stroke-width:0.3;\" x=\"47.616386\" y=\"32.74556\" xlink:href=\"#m8636eb68e5\" />\n     <use style=\"fill:#4575b4;fill-opacity:0.7;stroke:#4575b4;stroke-opacity:0.7;stroke-width:0.3;\" x=\"31.696416\" y=\"34.30727\" xlink:href=\"#m8636eb68e5\" />\n     <use style=\"fill:#4575b4;fill-opacity:0.7;stroke:#4575b4;stroke-opacity:0.7;stroke-width:0.3;\" x=\"39.219605\" y=\"29.426337\" xlink:href=\"#m8636eb68e5\" />\n     <use style=\"fill:#4575b4;fill-opacity:0.7;stroke:#4575b4;stroke-opacity:0.7;stroke-width:0.3;\" x=\"42.663312\" y=\"0.991204\" xlink:href=\"#m8636eb68e5\" />\n     <use style=\"fill:#4575b4;fill-opacity:0.7;stroke:#4575b4;stroke-opacity:0.7;stroke-width:0.3;\" x=\"48.163554\" y=\"29.770937\" xlink:href=\"#m8636eb68e5\" />\n     <use style=\"fill:#4575b4;fill-opacity:0.7;stroke:#4575b4;stroke-opacity:0.7;stroke-width:0.3;\" x=\"168.47375\" y=\"30.599633\" xlink:href=\"#m8636eb68e5\" />\n     <use style=\"fill:#4575b4;fill-opacity:0.7;stroke:#4575b4;stroke-opacity:0.7;stroke-width:0.3;\" x=\"168.47375\" y=\"39.003284\" xlink:href=\"#m8636eb68e5\" />\n     <use style=\"fill:#4575b4;fill-opacity:0.7;stroke:#4575b4;stroke-opacity:0.7;stroke-width:0.3;\" x=\"45.164149\" y=\"21.965477\" xlink:href=\"#m8636eb68e5\" />\n     <use style=\"fill:#4575b4;fill-opacity:0.7;stroke:#4575b4;stroke-opacity:0.7;stroke-width:0.3;\" x=\"48.082847\" y=\"35.504003\" xlink:href=\"#m8636eb68e5\" />\n     <use style=\"fill:#4575b4;fill-opacity:0.7;stroke:#4575b4;stroke-opacity:0.7;stroke-width:0.3;\" x=\"168.47375\" y=\"21.592836\" xlink:href=\"#m8636eb68e5\" />\n     <use style=\"fill:#4575b4;fill-opacity:0.7;stroke:#4575b4;stroke-opacity:0.7;stroke-width:0.3;\" x=\"38.535723\" y=\"28.380243\" xlink:href=\"#m8636eb68e5\" />\n     <use style=\"fill:#4575b4;fill-opacity:0.7;stroke:#4575b4;stroke-opacity:0.7;stroke-width:0.3;\" x=\"168.47375\" y=\"34.588602\" xlink:href=\"#m8636eb68e5\" />\n     <use style=\"fill:#4575b4;fill-opacity:0.7;stroke:#4575b4;stroke-opacity:0.7;stroke-width:0.3;\" x=\"42.640957\" y=\"28.870425\" xlink:href=\"#m8636eb68e5\" />\n     <use style=\"fill:#4575b4;fill-opacity:0.7;stroke:#4575b4;stroke-opacity:0.7;stroke-width:0.3;\" x=\"41.824183\" y=\"31.479727\" xlink:href=\"#m8636eb68e5\" />\n     <use style=\"fill:#4575b4;fill-opacity:0.7;stroke:#4575b4;stroke-opacity:0.7;stroke-width:0.3;\" x=\"34.72283\" y=\"32.837008\" xlink:href=\"#m8636eb68e5\" />\n     <use style=\"fill:#4575b4;fill-opacity:0.7;stroke:#4575b4;stroke-opacity:0.7;stroke-width:0.3;\" x=\"168.47375\" y=\"27.11028\" xlink:href=\"#m8636eb68e5\" />\n     <use style=\"fill:#4575b4;fill-opacity:0.7;stroke:#4575b4;stroke-opacity:0.7;stroke-width:0.3;\" x=\"33.154497\" y=\"41.515746\" xlink:href=\"#m8636eb68e5\" />\n     <use style=\"fill:#4575b4;fill-opacity:0.7;stroke:#4575b4;stroke-opacity:0.7;stroke-width:0.3;\" x=\"44.483765\" y=\"19.4743\" xlink:href=\"#m8636eb68e5\" />\n     <use style=\"fill:#4575b4;fill-opacity:0.7;stroke:#4575b4;stroke-opacity:0.7;stroke-width:0.3;\" x=\"33.55171\" y=\"30.177244\" xlink:href=\"#m8636eb68e5\" />\n     <use style=\"fill:#4575b4;fill-opacity:0.7;stroke:#4575b4;stroke-opacity:0.7;stroke-width:0.3;\" x=\"40.359601\" y=\"33.285492\" xlink:href=\"#m8636eb68e5\" />\n     <use style=\"fill:#4575b4;fill-opacity:0.7;stroke:#4575b4;stroke-opacity:0.7;stroke-width:0.3;\" x=\"31.127945\" y=\"59.045573\" xlink:href=\"#m8636eb68e5\" />\n     <use style=\"fill:#4575b4;fill-opacity:0.7;stroke:#4575b4;stroke-opacity:0.7;stroke-width:0.3;\" x=\"40.828121\" y=\"30.152209\" xlink:href=\"#m8636eb68e5\" />\n     <use style=\"fill:#4575b4;fill-opacity:0.7;stroke:#4575b4;stroke-opacity:0.7;stroke-width:0.3;\" x=\"32.853342\" y=\"28.151253\" xlink:href=\"#m8636eb68e5\" />\n     <use style=\"fill:#4575b4;fill-opacity:0.7;stroke:#4575b4;stroke-opacity:0.7;stroke-width:0.3;\" x=\"28.97375\" y=\"30.792374\" xlink:href=\"#m8636eb68e5\" />\n     <use style=\"fill:#4575b4;fill-opacity:0.7;stroke:#4575b4;stroke-opacity:0.7;stroke-width:0.3;\" x=\"38.922745\" y=\"26.695338\" xlink:href=\"#m8636eb68e5\" />\n     <use style=\"fill:#4575b4;fill-opacity:0.7;stroke:#4575b4;stroke-opacity:0.7;stroke-width:0.3;\" x=\"28.97375\" y=\"34.021657\" xlink:href=\"#m8636eb68e5\" />\n     <use style=\"fill:#4575b4;fill-opacity:0.7;stroke:#4575b4;stroke-opacity:0.7;stroke-width:0.3;\" x=\"43.311056\" y=\"41.127282\" xlink:href=\"#m8636eb68e5\" />\n     <use style=\"fill:#4575b4;fill-opacity:0.7;stroke:#4575b4;stroke-opacity:0.7;stroke-width:0.3;\" x=\"74.976737\" y=\"35.439899\" xlink:href=\"#m8636eb68e5\" />\n     <use style=\"fill:#4575b4;fill-opacity:0.7;stroke:#4575b4;stroke-opacity:0.7;stroke-width:0.3;\" x=\"37.276003\" y=\"21.367131\" xlink:href=\"#m8636eb68e5\" />\n     <use style=\"fill:#4575b4;fill-opacity:0.7;stroke:#4575b4;stroke-opacity:0.7;stroke-width:0.3;\" x=\"56.352569\" y=\"29.041374\" xlink:href=\"#m8636eb68e5\" />\n     <use style=\"fill:#4575b4;fill-opacity:0.7;stroke:#4575b4;stroke-opacity:0.7;stroke-width:0.3;\" x=\"56.552531\" y=\"41.012718\" xlink:href=\"#m8636eb68e5\" />\n     <use style=\"fill:#4575b4;fill-opacity:0.7;stroke:#4575b4;stroke-opacity:0.7;stroke-width:0.3;\" x=\"44.590596\" y=\"26.111022\" xlink:href=\"#m8636eb68e5\" />\n     <use style=\"fill:#4575b4;fill-opacity:0.7;stroke:#4575b4;stroke-opacity:0.7;stroke-width:0.3;\" x=\"50.062799\" y=\"23.627804\" xlink:href=\"#m8636eb68e5\" />\n     <use style=\"fill:#4575b4;fill-opacity:0.7;stroke:#4575b4;stroke-opacity:0.7;stroke-width:0.3;\" x=\"168.47375\" y=\"30.224282\" xlink:href=\"#m8636eb68e5\" />\n     <use style=\"fill:#4575b4;fill-opacity:0.7;stroke:#4575b4;stroke-opacity:0.7;stroke-width:0.3;\" x=\"42.774889\" y=\"37.035875\" xlink:href=\"#m8636eb68e5\" />\n     <use style=\"fill:#4575b4;fill-opacity:0.7;stroke:#4575b4;stroke-opacity:0.7;stroke-width:0.3;\" x=\"46.05279\" y=\"29.973013\" xlink:href=\"#m8636eb68e5\" />\n     <use style=\"fill:#4575b4;fill-opacity:0.7;stroke:#4575b4;stroke-opacity:0.7;stroke-width:0.3;\" x=\"31.076605\" y=\"30.494903\" xlink:href=\"#m8636eb68e5\" />\n     <use style=\"fill:#4575b4;fill-opacity:0.7;stroke:#4575b4;stroke-opacity:0.7;stroke-width:0.3;\" x=\"60.000452\" y=\"39.158238\" xlink:href=\"#m8636eb68e5\" />\n     <use style=\"fill:#4575b4;fill-opacity:0.7;stroke:#4575b4;stroke-opacity:0.7;stroke-width:0.3;\" x=\"68.543945\" y=\"28.136026\" xlink:href=\"#m8636eb68e5\" />\n     <use style=\"fill:#4575b4;fill-opacity:0.7;stroke:#4575b4;stroke-opacity:0.7;stroke-width:0.3;\" x=\"35.768408\" y=\"37.547637\" xlink:href=\"#m8636eb68e5\" />\n     <use style=\"fill:#4575b4;fill-opacity:0.7;stroke:#4575b4;stroke-opacity:0.7;stroke-width:0.3;\" x=\"70.393008\" y=\"34.742658\" xlink:href=\"#m8636eb68e5\" />\n     <use style=\"fill:#4575b4;fill-opacity:0.7;stroke:#4575b4;stroke-opacity:0.7;stroke-width:0.3;\" x=\"45.624867\" y=\"28.04251\" xlink:href=\"#m8636eb68e5\" />\n     <use style=\"fill:#4575b4;fill-opacity:0.7;stroke:#4575b4;stroke-opacity:0.7;stroke-width:0.3;\" x=\"28.97375\" y=\"13.421347\" xlink:href=\"#m8636eb68e5\" />\n     <use style=\"fill:#4575b4;fill-opacity:0.7;stroke:#4575b4;stroke-opacity:0.7;stroke-width:0.3;\" x=\"168.47375\" y=\"33.974998\" xlink:href=\"#m8636eb68e5\" />\n     <use style=\"fill:#4575b4;fill-opacity:0.7;stroke:#4575b4;stroke-opacity:0.7;stroke-width:0.3;\" x=\"61.696964\" y=\"35.616382\" xlink:href=\"#m8636eb68e5\" />\n     <use style=\"fill:#4575b4;fill-opacity:0.7;stroke:#4575b4;stroke-opacity:0.7;stroke-width:0.3;\" x=\"68.21475\" y=\"36.20957\" xlink:href=\"#m8636eb68e5\" />\n     <use style=\"fill:#4575b4;fill-opacity:0.7;stroke:#4575b4;stroke-opacity:0.7;stroke-width:0.3;\" x=\"35.913257\" y=\"29.860944\" xlink:href=\"#m8636eb68e5\" />\n     <use style=\"fill:#4575b4;fill-opacity:0.7;stroke:#4575b4;stroke-opacity:0.7;stroke-width:0.3;\" x=\"62.330196\" y=\"33.603893\" xlink:href=\"#m8636eb68e5\" />\n     <use style=\"fill:#4575b4;fill-opacity:0.7;stroke:#4575b4;stroke-opacity:0.7;stroke-width:0.3;\" x=\"49.619087\" y=\"31.026879\" xlink:href=\"#m8636eb68e5\" />\n     <use style=\"fill:#4575b4;fill-opacity:0.7;stroke:#4575b4;stroke-opacity:0.7;stroke-width:0.3;\" x=\"28.97375\" y=\"28.732262\" xlink:href=\"#m8636eb68e5\" />\n     <use style=\"fill:#4575b4;fill-opacity:0.7;stroke:#4575b4;stroke-opacity:0.7;stroke-width:0.3;\" x=\"35.791183\" y=\"34.258404\" xlink:href=\"#m8636eb68e5\" />\n     <use style=\"fill:#4575b4;fill-opacity:0.7;stroke:#4575b4;stroke-opacity:0.7;stroke-width:0.3;\" x=\"168.47375\" y=\"22.095515\" xlink:href=\"#m8636eb68e5\" />\n     <use style=\"fill:#4575b4;fill-opacity:0.7;stroke:#4575b4;stroke-opacity:0.7;stroke-width:0.3;\" x=\"36.256469\" y=\"29.100365\" xlink:href=\"#m8636eb68e5\" />\n     <use style=\"fill:#4575b4;fill-opacity:0.7;stroke:#4575b4;stroke-opacity:0.7;stroke-width:0.3;\" x=\"168.47375\" y=\"33.118386\" xlink:href=\"#m8636eb68e5\" />\n     <use style=\"fill:#4575b4;fill-opacity:0.7;stroke:#4575b4;stroke-opacity:0.7;stroke-width:0.3;\" x=\"168.47375\" y=\"30.373135\" xlink:href=\"#m8636eb68e5\" />\n     <use style=\"fill:#4575b4;fill-opacity:0.7;stroke:#4575b4;stroke-opacity:0.7;stroke-width:0.3;\" x=\"168.47375\" y=\"33.521114\" xlink:href=\"#m8636eb68e5\" />\n     <use style=\"fill:#4575b4;fill-opacity:0.7;stroke:#4575b4;stroke-opacity:0.7;stroke-width:0.3;\" x=\"81.715729\" y=\"31.561911\" xlink:href=\"#m8636eb68e5\" />\n     <use style=\"fill:#4575b4;fill-opacity:0.7;stroke:#4575b4;stroke-opacity:0.7;stroke-width:0.3;\" x=\"30.36875\" y=\"30.084442\" xlink:href=\"#m8636eb68e5\" />\n     <use style=\"fill:#4575b4;fill-opacity:0.7;stroke:#4575b4;stroke-opacity:0.7;stroke-width:0.3;\" x=\"30.36875\" y=\"45.89407\" xlink:href=\"#m8636eb68e5\" />\n     <use style=\"fill:#4575b4;fill-opacity:0.7;stroke:#4575b4;stroke-opacity:0.7;stroke-width:0.3;\" x=\"31.999133\" y=\"33.972058\" xlink:href=\"#m8636eb68e5\" />\n     <use style=\"fill:#4575b4;fill-opacity:0.7;stroke:#4575b4;stroke-opacity:0.7;stroke-width:0.3;\" x=\"44.495813\" y=\"28.829394\" xlink:href=\"#m8636eb68e5\" />\n     <use style=\"fill:#4575b4;fill-opacity:0.7;stroke:#4575b4;stroke-opacity:0.7;stroke-width:0.3;\" x=\"28.97375\" y=\"29.516721\" xlink:href=\"#m8636eb68e5\" />\n     <use style=\"fill:#4575b4;fill-opacity:0.7;stroke:#4575b4;stroke-opacity:0.7;stroke-width:0.3;\" x=\"46.572358\" y=\"31.833649\" xlink:href=\"#m8636eb68e5\" />\n     <use style=\"fill:#4575b4;fill-opacity:0.7;stroke:#4575b4;stroke-opacity:0.7;stroke-width:0.3;\" x=\"28.97375\" y=\"31.669609\" xlink:href=\"#m8636eb68e5\" />\n     <use style=\"fill:#4575b4;fill-opacity:0.7;stroke:#4575b4;stroke-opacity:0.7;stroke-width:0.3;\" x=\"47.05826\" y=\"27.452506\" xlink:href=\"#m8636eb68e5\" />\n     <use style=\"fill:#4575b4;fill-opacity:0.7;stroke:#4575b4;stroke-opacity:0.7;stroke-width:0.3;\" x=\"39.36225\" y=\"36.788164\" xlink:href=\"#m8636eb68e5\" />\n     <use style=\"fill:#4575b4;fill-opacity:0.7;stroke:#4575b4;stroke-opacity:0.7;stroke-width:0.3;\" x=\"40.321274\" y=\"25.788881\" xlink:href=\"#m8636eb68e5\" />\n     <use style=\"fill:#4575b4;fill-opacity:0.7;stroke:#4575b4;stroke-opacity:0.7;stroke-width:0.3;\" x=\"28.97375\" y=\"27.889913\" xlink:href=\"#m8636eb68e5\" />\n     <use style=\"fill:#4575b4;fill-opacity:0.7;stroke:#4575b4;stroke-opacity:0.7;stroke-width:0.3;\" x=\"28.97375\" y=\"27.309052\" xlink:href=\"#m8636eb68e5\" />\n     <use style=\"fill:#4575b4;fill-opacity:0.7;stroke:#4575b4;stroke-opacity:0.7;stroke-width:0.3;\" x=\"35.033368\" y=\"38.030868\" xlink:href=\"#m8636eb68e5\" />\n     <use style=\"fill:#4575b4;fill-opacity:0.7;stroke:#4575b4;stroke-opacity:0.7;stroke-width:0.3;\" x=\"65.853024\" y=\"32.781774\" xlink:href=\"#m8636eb68e5\" />\n     <use style=\"fill:#4575b4;fill-opacity:0.7;stroke:#4575b4;stroke-opacity:0.7;stroke-width:0.3;\" x=\"168.47375\" y=\"32.750172\" xlink:href=\"#m8636eb68e5\" />\n     <use style=\"fill:#4575b4;fill-opacity:0.7;stroke:#4575b4;stroke-opacity:0.7;stroke-width:0.3;\" x=\"168.47375\" y=\"25.598885\" xlink:href=\"#m8636eb68e5\" />\n     <use style=\"fill:#4575b4;fill-opacity:0.7;stroke:#4575b4;stroke-opacity:0.7;stroke-width:0.3;\" x=\"36.686319\" y=\"30.865289\" xlink:href=\"#m8636eb68e5\" />\n     <use style=\"fill:#4575b4;fill-opacity:0.7;stroke:#4575b4;stroke-opacity:0.7;stroke-width:0.3;\" x=\"47.103478\" y=\"33.831601\" xlink:href=\"#m8636eb68e5\" />\n     <use style=\"fill:#4575b4;fill-opacity:0.7;stroke:#4575b4;stroke-opacity:0.7;stroke-width:0.3;\" x=\"46.662141\" y=\"22.434542\" xlink:href=\"#m8636eb68e5\" />\n     <use style=\"fill:#4575b4;fill-opacity:0.7;stroke:#4575b4;stroke-opacity:0.7;stroke-width:0.3;\" x=\"39.57906\" y=\"30.349238\" xlink:href=\"#m8636eb68e5\" />\n     <use style=\"fill:#4575b4;fill-opacity:0.7;stroke:#4575b4;stroke-opacity:0.7;stroke-width:0.3;\" x=\"28.97375\" y=\"29.682095\" xlink:href=\"#m8636eb68e5\" />\n     <use style=\"fill:#4575b4;fill-opacity:0.7;stroke:#4575b4;stroke-opacity:0.7;stroke-width:0.3;\" x=\"168.47375\" y=\"34.40001\" xlink:href=\"#m8636eb68e5\" />\n     <use style=\"fill:#4575b4;fill-opacity:0.7;stroke:#4575b4;stroke-opacity:0.7;stroke-width:0.3;\" x=\"168.47375\" y=\"29.48783\" xlink:href=\"#m8636eb68e5\" />\n     <use style=\"fill:#4575b4;fill-opacity:0.7;stroke:#4575b4;stroke-opacity:0.7;stroke-width:0.3;\" x=\"34.024831\" y=\"28.081494\" xlink:href=\"#m8636eb68e5\" />\n     <use style=\"fill:#4575b4;fill-opacity:0.7;stroke:#4575b4;stroke-opacity:0.7;stroke-width:0.3;\" x=\"47.545262\" y=\"14.476677\" xlink:href=\"#m8636eb68e5\" />\n     <use style=\"fill:#4575b4;fill-opacity:0.7;stroke:#4575b4;stroke-opacity:0.7;stroke-width:0.3;\" x=\"47.215733\" y=\"25.692214\" xlink:href=\"#m8636eb68e5\" />\n     <use style=\"fill:#4575b4;fill-opacity:0.7;stroke:#4575b4;stroke-opacity:0.7;stroke-width:0.3;\" x=\"65.398242\" y=\"27.197408\" xlink:href=\"#m8636eb68e5\" />\n     <use style=\"fill:#4575b4;fill-opacity:0.7;stroke:#4575b4;stroke-opacity:0.7;stroke-width:0.3;\" x=\"30.36875\" y=\"33.872403\" xlink:href=\"#m8636eb68e5\" />\n     <use style=\"fill:#4575b4;fill-opacity:0.7;stroke:#4575b4;stroke-opacity:0.7;stroke-width:0.3;\" x=\"37.00508\" y=\"29.978374\" xlink:href=\"#m8636eb68e5\" />\n     <use style=\"fill:#4575b4;fill-opacity:0.7;stroke:#4575b4;stroke-opacity:0.7;stroke-width:0.3;\" x=\"47.921263\" y=\"30.838031\" xlink:href=\"#m8636eb68e5\" />\n     <use style=\"fill:#4575b4;fill-opacity:0.7;stroke:#4575b4;stroke-opacity:0.7;stroke-width:0.3;\" x=\"48.949735\" y=\"22.402908\" xlink:href=\"#m8636eb68e5\" />\n     <use style=\"fill:#4575b4;fill-opacity:0.7;stroke:#4575b4;stroke-opacity:0.7;stroke-width:0.3;\" x=\"28.97375\" y=\"33.217301\" xlink:href=\"#m8636eb68e5\" />\n     <use style=\"fill:#4575b4;fill-opacity:0.7;stroke:#4575b4;stroke-opacity:0.7;stroke-width:0.3;\" x=\"47.939798\" y=\"27.679854\" xlink:href=\"#m8636eb68e5\" />\n     <use style=\"fill:#4575b4;fill-opacity:0.7;stroke:#4575b4;stroke-opacity:0.7;stroke-width:0.3;\" x=\"46.336378\" y=\"30.131971\" xlink:href=\"#m8636eb68e5\" />\n     <use style=\"fill:#4575b4;fill-opacity:0.7;stroke:#4575b4;stroke-opacity:0.7;stroke-width:0.3;\" x=\"32.368371\" y=\"23.641567\" xlink:href=\"#m8636eb68e5\" />\n     <use style=\"fill:#4575b4;fill-opacity:0.7;stroke:#4575b4;stroke-opacity:0.7;stroke-width:0.3;\" x=\"30.36875\" y=\"27.788991\" xlink:href=\"#m8636eb68e5\" />\n    </g>\n   </g>\n   <g id=\"patch_3\">\n    <path d=\"M 70.24296 59.796  L 67.73196 65.7756  L 72.75396 65.7756  z \" style=\"fill:#444443;\" />\n   </g>\n   <g id=\"matplotlib.axis_1\">\n    <g id=\"xtick_1\">\n     <g id=\"line2d_1\">\n      <defs>\n       <path d=\"M 0 0  L 0 3.5  \" id=\"mb6e4368c4f\" style=\"stroke:#444443;stroke-width:0.3;\" />\n      </defs>\n      <g>\n       <use style=\"fill:#444443;stroke:#444443;stroke-width:0.3;\" x=\"28.97375\" y=\"59.796\" xlink:href=\"#mb6e4368c4f\" />\n      </g>\n     </g>\n     <g id=\"text_1\">\n      \n      <defs>\n       <path d=\"M 31.78125 66.40625  Q 24.171875 66.40625 20.328125 58.90625  Q 16.5 51.421875 16.5 36.375  Q 16.5 21.390625 20.328125 13.890625  Q 24.171875 6.390625 31.78125 6.390625  Q 39.453125 6.390625 43.28125 13.890625  Q 47.125 21.390625 47.125 36.375  Q 47.125 51.421875 43.28125 58.90625  Q 39.453125 66.40625 31.78125 66.40625  z M 31.78125 74.21875  Q 44.046875 74.21875 50.515625 64.515625  Q 56.984375 54.828125 56.984375 36.375  Q 56.984375 17.96875 50.515625 8.265625  Q 44.046875 -1.421875 31.78125 -1.421875  Q 19.53125 -1.421875 13.0625 8.265625  Q 6.59375 17.96875 6.59375 36.375  Q 6.59375 54.828125 13.0625 64.515625  Q 19.53125 74.21875 31.78125 74.21875  z \" id=\"DejaVuSans-48\" />\n       <path d=\"M 10.6875 12.40625  L 21 12.40625  L 21 0  L 10.6875 0  z \" id=\"DejaVuSans-46\" />\n      </defs>\n      <g style=\"fill:#444443;\" transform=\"translate(20.0675 72.87475)scale(0.08 -0.08)\">\n       <use xlink:href=\"#DejaVuSans-48\" />\n       <use x=\"63.623047\" xlink:href=\"#DejaVuSans-46\" />\n       <use x=\"95.410156\" xlink:href=\"#DejaVuSans-48\" />\n       <use x=\"159.033203\" xlink:href=\"#DejaVuSans-48\" />\n      </g>\n     </g>\n    </g>\n    <g id=\"xtick_2\">\n     <g id=\"line2d_2\">\n      <g>\n       <use style=\"fill:#444443;stroke:#444443;stroke-width:0.3;\" x=\"168.47375\" y=\"59.796\" xlink:href=\"#mb6e4368c4f\" />\n      </g>\n     </g>\n     <g id=\"text_2\">\n      \n      <defs>\n       <path d=\"M 12.40625 8.296875  L 28.515625 8.296875  L 28.515625 63.921875  L 10.984375 60.40625  L 10.984375 69.390625  L 28.421875 72.90625  L 38.28125 72.90625  L 38.28125 8.296875  L 54.390625 8.296875  L 54.390625 0  L 12.40625 0  z \" id=\"DejaVuSans-49\" />\n      </defs>\n      <g style=\"fill:#444443;\" transform=\"translate(157.0225 72.87475)scale(0.08 -0.08)\">\n       <use xlink:href=\"#DejaVuSans-49\" />\n       <use x=\"63.623047\" xlink:href=\"#DejaVuSans-48\" />\n       <use x=\"127.246094\" xlink:href=\"#DejaVuSans-46\" />\n       <use x=\"159.033203\" xlink:href=\"#DejaVuSans-48\" />\n       <use x=\"222.65625\" xlink:href=\"#DejaVuSans-48\" />\n      </g>\n     </g>\n    </g>\n    <g id=\"xtick_3\">\n     <g id=\"line2d_3\">\n      <g>\n       <use style=\"fill:#444443;stroke:#444443;stroke-width:0.3;\" x=\"70.24296\" y=\"59.796\" xlink:href=\"#mb6e4368c4f\" />\n      </g>\n     </g>\n     <g id=\"text_3\">\n      \n      <defs>\n       <path d=\"M 19.1875 8.296875  L 53.609375 8.296875  L 53.609375 0  L 7.328125 0  L 7.328125 8.296875  Q 12.9375 14.109375 22.625 23.890625  Q 32.328125 33.6875 34.8125 36.53125  Q 39.546875 41.84375 41.421875 45.53125  Q 43.3125 49.21875 43.3125 52.78125  Q 43.3125 58.59375 39.234375 62.25  Q 35.15625 65.921875 28.609375 65.921875  Q 23.96875 65.921875 18.8125 64.3125  Q 13.671875 62.703125 7.8125 59.421875  L 7.8125 69.390625  Q 13.765625 71.78125 18.9375 73  Q 24.125 74.21875 28.421875 74.21875  Q 39.75 74.21875 46.484375 68.546875  Q 53.21875 62.890625 53.21875 53.421875  Q 53.21875 48.921875 51.53125 44.890625  Q 49.859375 40.875 45.40625 35.40625  Q 44.1875 33.984375 37.640625 27.21875  Q 31.109375 20.453125 19.1875 8.296875  z \" id=\"DejaVuSans-50\" />\n       <path d=\"M 10.984375 1.515625  L 10.984375 10.5  Q 14.703125 8.734375 18.5 7.8125  Q 22.3125 6.890625 25.984375 6.890625  Q 35.75 6.890625 40.890625 13.453125  Q 46.046875 20.015625 46.78125 33.40625  Q 43.953125 29.203125 39.59375 26.953125  Q 35.25 24.703125 29.984375 24.703125  Q 19.046875 24.703125 12.671875 31.3125  Q 6.296875 37.9375 6.296875 49.421875  Q 6.296875 60.640625 12.9375 67.421875  Q 19.578125 74.21875 30.609375 74.21875  Q 43.265625 74.21875 49.921875 64.515625  Q 56.59375 54.828125 56.59375 36.375  Q 56.59375 19.140625 48.40625 8.859375  Q 40.234375 -1.421875 26.421875 -1.421875  Q 22.703125 -1.421875 18.890625 -0.6875  Q 15.09375 0.046875 10.984375 1.515625  z M 30.609375 32.421875  Q 37.25 32.421875 41.125 36.953125  Q 45.015625 41.5 45.015625 49.421875  Q 45.015625 57.28125 41.125 61.84375  Q 37.25 66.40625 30.609375 66.40625  Q 23.96875 66.40625 20.09375 61.84375  Q 16.21875 57.28125 16.21875 49.421875  Q 16.21875 41.5 20.09375 36.953125  Q 23.96875 32.421875 30.609375 32.421875  z \" id=\"DejaVuSans-57\" />\n       <path d=\"M 33.015625 40.375  Q 26.375 40.375 22.484375 35.828125  Q 18.609375 31.296875 18.609375 23.390625  Q 18.609375 15.53125 22.484375 10.953125  Q 26.375 6.390625 33.015625 6.390625  Q 39.65625 6.390625 43.53125 10.953125  Q 47.40625 15.53125 47.40625 23.390625  Q 47.40625 31.296875 43.53125 35.828125  Q 39.65625 40.375 33.015625 40.375  z M 52.59375 71.296875  L 52.59375 62.3125  Q 48.875 64.0625 45.09375 64.984375  Q 41.3125 65.921875 37.59375 65.921875  Q 27.828125 65.921875 22.671875 59.328125  Q 17.53125 52.734375 16.796875 39.40625  Q 19.671875 43.65625 24.015625 45.921875  Q 28.375 48.1875 33.59375 48.1875  Q 44.578125 48.1875 50.953125 41.515625  Q 57.328125 34.859375 57.328125 23.390625  Q 57.328125 12.15625 50.6875 5.359375  Q 44.046875 -1.421875 33.015625 -1.421875  Q 20.359375 -1.421875 13.671875 8.265625  Q 6.984375 17.96875 6.984375 36.375  Q 6.984375 53.65625 15.1875 63.9375  Q 23.390625 74.21875 37.203125 74.21875  Q 40.921875 74.21875 44.703125 73.484375  Q 48.484375 72.75 52.59375 71.296875  z \" id=\"DejaVuSans-54\" />\n      </defs>\n      <g style=\"fill:#444443;\" transform=\"translate(61.33671 72.87475)scale(0.08 -0.08)\">\n       <use xlink:href=\"#DejaVuSans-50\" />\n       <use x=\"63.623047\" xlink:href=\"#DejaVuSans-46\" />\n       <use x=\"95.410156\" xlink:href=\"#DejaVuSans-57\" />\n       <use x=\"159.033203\" xlink:href=\"#DejaVuSans-54\" />\n      </g>\n     </g>\n    </g>\n    <g id=\"text_4\">\n     \n     <defs>\n      <path d=\"M 9.8125 72.90625  L 19.671875 72.90625  L 19.671875 43.015625  L 55.515625 43.015625  L 55.515625 72.90625  L 65.375 72.90625  L 65.375 0  L 55.515625 0  L 55.515625 34.71875  L 19.671875 34.71875  L 19.671875 0  L 9.8125 0  z \" id=\"DejaVuSans-72\" />\n      <path id=\"DejaVuSans-32\" />\n      <path d=\"M 19.671875 34.8125  L 19.671875 8.109375  L 35.5 8.109375  Q 43.453125 8.109375 47.28125 11.40625  Q 51.125 14.703125 51.125 21.484375  Q 51.125 28.328125 47.28125 31.5625  Q 43.453125 34.8125 35.5 34.8125  z M 19.671875 64.796875  L 19.671875 42.828125  L 34.28125 42.828125  Q 41.5 42.828125 45.03125 45.53125  Q 48.578125 48.25 48.578125 53.8125  Q 48.578125 59.328125 45.03125 62.0625  Q 41.5 64.796875 34.28125 64.796875  z M 9.8125 72.90625  L 35.015625 72.90625  Q 46.296875 72.90625 52.390625 68.21875  Q 58.5 63.53125 58.5 54.890625  Q 58.5 48.1875 55.375 44.234375  Q 52.25 40.28125 46.1875 39.3125  Q 53.46875 37.75 57.5 32.78125  Q 61.53125 27.828125 61.53125 20.40625  Q 61.53125 10.640625 54.890625 5.3125  Q 48.25 0 35.984375 0  L 9.8125 0  z \" id=\"DejaVuSans-66\" />\n     </defs>\n     <g style=\"fill:#444443;\" transform=\"translate(89.944063 86.136937)scale(0.1 -0.1)\">\n      <use xlink:href=\"#DejaVuSans-72\" />\n      <use x=\"75.195312\" xlink:href=\"#DejaVuSans-32\" />\n      <use x=\"106.982422\" xlink:href=\"#DejaVuSans-66\" />\n     </g>\n    </g>\n   </g>\n   <g id=\"matplotlib.axis_2\">\n    <g id=\"ytick_1\">\n     <g id=\"line2d_4\">\n      <defs>\n       <path d=\"M 0 0  L -3.5 0  \" id=\"md4e90036cc\" style=\"stroke:#444443;stroke-width:0.3;\" />\n      </defs>\n      <g>\n       <use style=\"fill:#444443;stroke:#444443;stroke-width:0.3;\" x=\"28.97375\" y=\"58.654943\" xlink:href=\"#md4e90036cc\" />\n      </g>\n     </g>\n     <g id=\"text_5\">\n      \n      <defs>\n       <path d=\"M 10.59375 35.5  L 73.1875 35.5  L 73.1875 27.203125  L 10.59375 27.203125  z \" id=\"DejaVuSans-8722\" />\n      </defs>\n      <g style=\"fill:#444443;\" transform=\"translate(0 61.694318)scale(0.08 -0.08)\">\n       <use xlink:href=\"#DejaVuSans-8722\" />\n       <use x=\"83.789062\" xlink:href=\"#DejaVuSans-49\" />\n       <use x=\"147.412109\" xlink:href=\"#DejaVuSans-48\" />\n       <use x=\"211.035156\" xlink:href=\"#DejaVuSans-48\" />\n      </g>\n     </g>\n    </g>\n    <g id=\"ytick_2\">\n     <g id=\"line2d_5\">\n      <g>\n       <use style=\"fill:#444443;stroke:#444443;stroke-width:0.3;\" x=\"28.97375\" y=\"34.031334\" xlink:href=\"#md4e90036cc\" />\n      </g>\n     </g>\n     <g id=\"text_6\">\n      \n      <g style=\"fill:#444443;\" transform=\"translate(16.88375 37.070709)scale(0.08 -0.08)\">\n       <use xlink:href=\"#DejaVuSans-48\" />\n      </g>\n     </g>\n    </g>\n    <g id=\"ytick_3\">\n     <g id=\"line2d_6\">\n      <g>\n       <use style=\"fill:#444443;stroke:#444443;stroke-width:0.3;\" x=\"28.97375\" y=\"9.407725\" xlink:href=\"#md4e90036cc\" />\n      </g>\n     </g>\n     <g id=\"text_7\">\n      \n      <g style=\"fill:#444443;\" transform=\"translate(6.70375 12.4471)scale(0.08 -0.08)\">\n       <use xlink:href=\"#DejaVuSans-49\" />\n       <use x=\"63.623047\" xlink:href=\"#DejaVuSans-48\" />\n       <use x=\"127.246094\" xlink:href=\"#DejaVuSans-48\" />\n      </g>\n     </g>\n    </g>\n   </g>\n   <g id=\"line2d_7\">\n    <path clip-path=\"url(#p01d74db712)\" d=\"M 28.97375 29.759786  L 70.24296 29.759786  \" style=\"fill:none;stroke:#444443;stroke-dasharray:3.7,1.6;stroke-dashoffset:0;\" />\n   </g>\n   <g id=\"line2d_8\">\n    <path clip-path=\"url(#p01d74db712)\" d=\"M 70.24296 59.796  L 70.24296 -0  \" style=\"fill:none;stroke:#444443;stroke-dasharray:3.7,1.6;stroke-dashoffset:0;\" />\n   </g>\n   <g id=\"line2d_9\">\n    <path clip-path=\"url(#p01d74db712)\" d=\"M 70.24296 32.585526  L 168.47375 32.585526  \" style=\"fill:none;stroke:#444443;stroke-dasharray:3.7,1.6;stroke-dashoffset:0;\" />\n   </g>\n   <g id=\"patch_4\">\n    <path d=\"M 28.97375 59.796  L 28.97375 -0  \" style=\"fill:none;stroke:#000000;stroke-linecap:square;stroke-linejoin:miter;stroke-width:0.3;\" />\n   </g>\n   <g id=\"patch_5\">\n    <path d=\"M 28.97375 59.796  L 168.47375 59.796  \" style=\"fill:none;stroke:#000000;stroke-linecap:square;stroke-linejoin:miter;stroke-width:0.3;\" />\n   </g>\n  </g>\n </g>\n <defs>\n  <clipPath id=\"p01d74db712\">\n   <rect height=\"59.796\" width=\"139.5\" x=\"28.97375\" y=\"-0\" />\n  </clipPath>\n </defs>\n</svg></g>\n\n<g class=\"edge\" id=\"edge4\">\n<title>node1-&gt;node3</title>\n<path d=\"M321.0545,-123.222C325.2117,-124.0483 329.401,-124.881 333.5775,-125.7111\" fill=\"none\" stroke=\"#444443\" stroke-width=\".3\" />\n<polygon fill=\"#444443\" points=\"333.5519,-127.1333 337.7481,-126.54 334.0978,-124.387 333.5519,-127.1333\" stroke=\"#444443\" stroke-width=\".3\" />\n</g>\n\n<g class=\"edge\" id=\"edge5\">\n<title>node1-&gt;leaf4</title>\n<path d=\"M321.0545,-87.667C335.6675,-83.3103 350.6786,-78.8349 364.1296,-74.8247\" fill=\"none\" stroke=\"#444443\" stroke-width=\".3\" />\n<polygon fill=\"#444443\" points=\"364.8185,-76.0803 368.2517,-73.5958 364.0185,-73.397 364.8185,-76.0803\" stroke=\"#444443\" stroke-width=\".3\" />\n</g>\n\n<g class=\"node\" id=\"node7\">\n<title>leaf2</title>\n<polygon fill=\"none\" points=\"291.5,-58 207.5,-58 207.5,0 291.5,0 291.5,-58\" stroke=\"#444443\" stroke-width=\"0\" />\n<svg height=\"50px\" preserveAspectRatio=\"xMinYMin meet\" version=\"1.1\" viewBox=\"0 0 101.65 66.113937\" width=\"76px\" x=\"211.5\" y=\"-54\">\n <defs>\n  <style type=\"text/css\">\n*{stroke-linecap:butt;stroke-linejoin:round;}\n  </style>\n </defs>\n <g id=\"figure_1\">\n  <g id=\"patch_1\">\n   <path d=\"M -0 66.113937  L 101.65 66.113937  L 101.65 0  L -0 0  z \" style=\"fill:#ffffff;\" />\n  </g>\n  <g id=\"axes_1\">\n   <g id=\"patch_2\">\n    <path d=\"M 29.4 43.488  L 71.25 43.488  L 71.25 -0  L 29.4 -0  z \" style=\"fill:#ffffff;\" />\n   </g>\n   <g id=\"PathCollection_1\">\n    <defs>\n     <path d=\"M 0 1.118034  C 0.296506 1.118034 0.580908 1.000231 0.790569 0.790569  C 1.000231 0.580908 1.118034 0.296506 1.118034 0  C 1.118034 -0.296506 1.000231 -0.580908 0.790569 -0.790569  C 0.580908 -1.000231 0.296506 -1.118034 0 -1.118034  C -0.296506 -1.118034 -0.580908 -1.000231 -0.790569 -0.790569  C -1.000231 -0.580908 -1.118034 -0.296506 -1.118034 0  C -1.118034 0.296506 -1.000231 0.580908 -0.790569 0.790569  C -0.580908 1.000231 -0.296506 1.118034 0 1.118034  z \" id=\"m6390b61826\" style=\"stroke:#4575b4;stroke-opacity:0.7;stroke-width:0.3;\" />\n    </defs>\n    <g clip-path=\"url(#p591933d865)\">\n     <use style=\"fill:#4575b4;fill-opacity:0.7;stroke:#4575b4;stroke-opacity:0.7;stroke-width:0.3;\" x=\"54.863458\" y=\"20.293159\" xlink:href=\"#m6390b61826\" />\n     <use style=\"fill:#4575b4;fill-opacity:0.7;stroke:#4575b4;stroke-opacity:0.7;stroke-width:0.3;\" x=\"48.279849\" y=\"21.447057\" xlink:href=\"#m6390b61826\" />\n     <use style=\"fill:#4575b4;fill-opacity:0.7;stroke:#4575b4;stroke-opacity:0.7;stroke-width:0.3;\" x=\"52.01401\" y=\"5.990113\" xlink:href=\"#m6390b61826\" />\n     <use style=\"fill:#4575b4;fill-opacity:0.7;stroke:#4575b4;stroke-opacity:0.7;stroke-width:0.3;\" x=\"45.091961\" y=\"24.311111\" xlink:href=\"#m6390b61826\" />\n     <use style=\"fill:#4575b4;fill-opacity:0.7;stroke:#4575b4;stroke-opacity:0.7;stroke-width:0.3;\" x=\"46.376169\" y=\"26.260394\" xlink:href=\"#m6390b61826\" />\n     <use style=\"fill:#4575b4;fill-opacity:0.7;stroke:#4575b4;stroke-opacity:0.7;stroke-width:0.3;\" x=\"55.129673\" y=\"24.647333\" xlink:href=\"#m6390b61826\" />\n     <use style=\"fill:#4575b4;fill-opacity:0.7;stroke:#4575b4;stroke-opacity:0.7;stroke-width:0.3;\" x=\"49.162232\" y=\"24.012746\" xlink:href=\"#m6390b61826\" />\n     <use style=\"fill:#4575b4;fill-opacity:0.7;stroke:#4575b4;stroke-opacity:0.7;stroke-width:0.3;\" x=\"55.190566\" y=\"26.594944\" xlink:href=\"#m6390b61826\" />\n     <use style=\"fill:#4575b4;fill-opacity:0.7;stroke:#4575b4;stroke-opacity:0.7;stroke-width:0.3;\" x=\"50.063084\" y=\"29.237675\" xlink:href=\"#m6390b61826\" />\n     <use style=\"fill:#4575b4;fill-opacity:0.7;stroke:#4575b4;stroke-opacity:0.7;stroke-width:0.3;\" x=\"44.158326\" y=\"23.029092\" xlink:href=\"#m6390b61826\" />\n     <use style=\"fill:#4575b4;fill-opacity:0.7;stroke:#4575b4;stroke-opacity:0.7;stroke-width:0.3;\" x=\"53.311642\" y=\"32.249862\" xlink:href=\"#m6390b61826\" />\n     <use style=\"fill:#4575b4;fill-opacity:0.7;stroke:#4575b4;stroke-opacity:0.7;stroke-width:0.3;\" x=\"48.350041\" y=\"24.506981\" xlink:href=\"#m6390b61826\" />\n     <use style=\"fill:#4575b4;fill-opacity:0.7;stroke:#4575b4;stroke-opacity:0.7;stroke-width:0.3;\" x=\"52.66421\" y=\"25.020245\" xlink:href=\"#m6390b61826\" />\n     <use style=\"fill:#4575b4;fill-opacity:0.7;stroke:#4575b4;stroke-opacity:0.7;stroke-width:0.3;\" x=\"50.409406\" y=\"23.60102\" xlink:href=\"#m6390b61826\" />\n     <use style=\"fill:#4575b4;fill-opacity:0.7;stroke:#4575b4;stroke-opacity:0.7;stroke-width:0.3;\" x=\"45.15864\" y=\"22.547908\" xlink:href=\"#m6390b61826\" />\n     <use style=\"fill:#4575b4;fill-opacity:0.7;stroke:#4575b4;stroke-opacity:0.7;stroke-width:0.3;\" x=\"50.875059\" y=\"23.678507\" xlink:href=\"#m6390b61826\" />\n     <use style=\"fill:#4575b4;fill-opacity:0.7;stroke:#4575b4;stroke-opacity:0.7;stroke-width:0.3;\" x=\"57.677955\" y=\"20.815584\" xlink:href=\"#m6390b61826\" />\n     <use style=\"fill:#4575b4;fill-opacity:0.7;stroke:#4575b4;stroke-opacity:0.7;stroke-width:0.3;\" x=\"51.975519\" y=\"23.989586\" xlink:href=\"#m6390b61826\" />\n     <use style=\"fill:#4575b4;fill-opacity:0.7;stroke:#4575b4;stroke-opacity:0.7;stroke-width:0.3;\" x=\"50.132431\" y=\"21.405802\" xlink:href=\"#m6390b61826\" />\n     <use style=\"fill:#4575b4;fill-opacity:0.7;stroke:#4575b4;stroke-opacity:0.7;stroke-width:0.3;\" x=\"53.92525\" y=\"28.167843\" xlink:href=\"#m6390b61826\" />\n     <use style=\"fill:#4575b4;fill-opacity:0.7;stroke:#4575b4;stroke-opacity:0.7;stroke-width:0.3;\" x=\"51.030318\" y=\"24.826277\" xlink:href=\"#m6390b61826\" />\n     <use style=\"fill:#4575b4;fill-opacity:0.7;stroke:#4575b4;stroke-opacity:0.7;stroke-width:0.3;\" x=\"51.026521\" y=\"28.794907\" xlink:href=\"#m6390b61826\" />\n     <use style=\"fill:#4575b4;fill-opacity:0.7;stroke:#4575b4;stroke-opacity:0.7;stroke-width:0.3;\" x=\"46.670239\" y=\"20.673636\" xlink:href=\"#m6390b61826\" />\n     <use style=\"fill:#4575b4;fill-opacity:0.7;stroke:#4575b4;stroke-opacity:0.7;stroke-width:0.3;\" x=\"51.107923\" y=\"22.933082\" xlink:href=\"#m6390b61826\" />\n     <use style=\"fill:#4575b4;fill-opacity:0.7;stroke:#4575b4;stroke-opacity:0.7;stroke-width:0.3;\" x=\"53.791665\" y=\"19.312111\" xlink:href=\"#m6390b61826\" />\n     <use style=\"fill:#4575b4;fill-opacity:0.7;stroke:#4575b4;stroke-opacity:0.7;stroke-width:0.3;\" x=\"47.525864\" y=\"26.516477\" xlink:href=\"#m6390b61826\" />\n     <use style=\"fill:#4575b4;fill-opacity:0.7;stroke:#4575b4;stroke-opacity:0.7;stroke-width:0.3;\" x=\"55.094212\" y=\"18.504742\" xlink:href=\"#m6390b61826\" />\n     <use style=\"fill:#4575b4;fill-opacity:0.7;stroke:#4575b4;stroke-opacity:0.7;stroke-width:0.3;\" x=\"50.017968\" y=\"13.219002\" xlink:href=\"#m6390b61826\" />\n     <use style=\"fill:#4575b4;fill-opacity:0.7;stroke:#4575b4;stroke-opacity:0.7;stroke-width:0.3;\" x=\"47.352748\" y=\"21.378065\" xlink:href=\"#m6390b61826\" />\n     <use style=\"fill:#4575b4;fill-opacity:0.7;stroke:#4575b4;stroke-opacity:0.7;stroke-width:0.3;\" x=\"53.665072\" y=\"24.045202\" xlink:href=\"#m6390b61826\" />\n     <use style=\"fill:#4575b4;fill-opacity:0.7;stroke:#4575b4;stroke-opacity:0.7;stroke-width:0.3;\" x=\"49.364813\" y=\"29.66791\" xlink:href=\"#m6390b61826\" />\n     <use style=\"fill:#4575b4;fill-opacity:0.7;stroke:#4575b4;stroke-opacity:0.7;stroke-width:0.3;\" x=\"52.867856\" y=\"9.41523\" xlink:href=\"#m6390b61826\" />\n     <use style=\"fill:#4575b4;fill-opacity:0.7;stroke:#4575b4;stroke-opacity:0.7;stroke-width:0.3;\" x=\"49.348192\" y=\"22.147138\" xlink:href=\"#m6390b61826\" />\n     <use style=\"fill:#4575b4;fill-opacity:0.7;stroke:#4575b4;stroke-opacity:0.7;stroke-width:0.3;\" x=\"50.124702\" y=\"24.170257\" xlink:href=\"#m6390b61826\" />\n     <use style=\"fill:#4575b4;fill-opacity:0.7;stroke:#4575b4;stroke-opacity:0.7;stroke-width:0.3;\" x=\"51.97744\" y=\"23.187153\" xlink:href=\"#m6390b61826\" />\n     <use style=\"fill:#4575b4;fill-opacity:0.7;stroke:#4575b4;stroke-opacity:0.7;stroke-width:0.3;\" x=\"51.298923\" y=\"23.966389\" xlink:href=\"#m6390b61826\" />\n     <use style=\"fill:#4575b4;fill-opacity:0.7;stroke:#4575b4;stroke-opacity:0.7;stroke-width:0.3;\" x=\"43.64396\" y=\"29.048799\" xlink:href=\"#m6390b61826\" />\n     <use style=\"fill:#4575b4;fill-opacity:0.7;stroke:#4575b4;stroke-opacity:0.7;stroke-width:0.3;\" x=\"46.571076\" y=\"29.799486\" xlink:href=\"#m6390b61826\" />\n     <use style=\"fill:#4575b4;fill-opacity:0.7;stroke:#4575b4;stroke-opacity:0.7;stroke-width:0.3;\" x=\"53.436665\" y=\"23.370339\" xlink:href=\"#m6390b61826\" />\n     <use style=\"fill:#4575b4;fill-opacity:0.7;stroke:#4575b4;stroke-opacity:0.7;stroke-width:0.3;\" x=\"49.882607\" y=\"22.326339\" xlink:href=\"#m6390b61826\" />\n     <use style=\"fill:#4575b4;fill-opacity:0.7;stroke:#4575b4;stroke-opacity:0.7;stroke-width:0.3;\" x=\"48.571548\" y=\"22.188554\" xlink:href=\"#m6390b61826\" />\n     <use style=\"fill:#4575b4;fill-opacity:0.7;stroke:#4575b4;stroke-opacity:0.7;stroke-width:0.3;\" x=\"45.776494\" y=\"25.157655\" xlink:href=\"#m6390b61826\" />\n     <use style=\"fill:#4575b4;fill-opacity:0.7;stroke:#4575b4;stroke-opacity:0.7;stroke-width:0.3;\" x=\"46.710043\" y=\"25.552742\" xlink:href=\"#m6390b61826\" />\n     <use style=\"fill:#4575b4;fill-opacity:0.7;stroke:#4575b4;stroke-opacity:0.7;stroke-width:0.3;\" x=\"43.556018\" y=\"16.66981\" xlink:href=\"#m6390b61826\" />\n     <use style=\"fill:#4575b4;fill-opacity:0.7;stroke:#4575b4;stroke-opacity:0.7;stroke-width:0.3;\" x=\"49.985912\" y=\"28.079556\" xlink:href=\"#m6390b61826\" />\n     <use style=\"fill:#4575b4;fill-opacity:0.7;stroke:#4575b4;stroke-opacity:0.7;stroke-width:0.3;\" x=\"48.321431\" y=\"24.441165\" xlink:href=\"#m6390b61826\" />\n     <use style=\"fill:#4575b4;fill-opacity:0.7;stroke:#4575b4;stroke-opacity:0.7;stroke-width:0.3;\" x=\"47.088864\" y=\"29.643596\" xlink:href=\"#m6390b61826\" />\n     <use style=\"fill:#4575b4;fill-opacity:0.7;stroke:#4575b4;stroke-opacity:0.7;stroke-width:0.3;\" x=\"50.096923\" y=\"23.72167\" xlink:href=\"#m6390b61826\" />\n     <use style=\"fill:#4575b4;fill-opacity:0.7;stroke:#4575b4;stroke-opacity:0.7;stroke-width:0.3;\" x=\"51.543574\" y=\"24.60058\" xlink:href=\"#m6390b61826\" />\n     <use style=\"fill:#4575b4;fill-opacity:0.7;stroke:#4575b4;stroke-opacity:0.7;stroke-width:0.3;\" x=\"57.333027\" y=\"25.8384\" xlink:href=\"#m6390b61826\" />\n     <use style=\"fill:#4575b4;fill-opacity:0.7;stroke:#4575b4;stroke-opacity:0.7;stroke-width:0.3;\" x=\"45.263214\" y=\"25.067669\" xlink:href=\"#m6390b61826\" />\n     <use style=\"fill:#4575b4;fill-opacity:0.7;stroke:#4575b4;stroke-opacity:0.7;stroke-width:0.3;\" x=\"54.206608\" y=\"27.120038\" xlink:href=\"#m6390b61826\" />\n     <use style=\"fill:#4575b4;fill-opacity:0.7;stroke:#4575b4;stroke-opacity:0.7;stroke-width:0.3;\" x=\"53.582944\" y=\"23.003104\" xlink:href=\"#m6390b61826\" />\n     <use style=\"fill:#4575b4;fill-opacity:0.7;stroke:#4575b4;stroke-opacity:0.7;stroke-width:0.3;\" x=\"47.716598\" y=\"23.289922\" xlink:href=\"#m6390b61826\" />\n     <use style=\"fill:#4575b4;fill-opacity:0.7;stroke:#4575b4;stroke-opacity:0.7;stroke-width:0.3;\" x=\"51.005434\" y=\"27.675419\" xlink:href=\"#m6390b61826\" />\n     <use style=\"fill:#4575b4;fill-opacity:0.7;stroke:#4575b4;stroke-opacity:0.7;stroke-width:0.3;\" x=\"48.792844\" y=\"22.713334\" xlink:href=\"#m6390b61826\" />\n     <use style=\"fill:#4575b4;fill-opacity:0.7;stroke:#4575b4;stroke-opacity:0.7;stroke-width:0.3;\" x=\"50.946685\" y=\"26.185858\" xlink:href=\"#m6390b61826\" />\n     <use style=\"fill:#4575b4;fill-opacity:0.7;stroke:#4575b4;stroke-opacity:0.7;stroke-width:0.3;\" x=\"55.377571\" y=\"29.220166\" xlink:href=\"#m6390b61826\" />\n     <use style=\"fill:#4575b4;fill-opacity:0.7;stroke:#4575b4;stroke-opacity:0.7;stroke-width:0.3;\" x=\"52.35257\" y=\"27.204952\" xlink:href=\"#m6390b61826\" />\n     <use style=\"fill:#4575b4;fill-opacity:0.7;stroke:#4575b4;stroke-opacity:0.7;stroke-width:0.3;\" x=\"52.027821\" y=\"25.092207\" xlink:href=\"#m6390b61826\" />\n     <use style=\"fill:#4575b4;fill-opacity:0.7;stroke:#4575b4;stroke-opacity:0.7;stroke-width:0.3;\" x=\"48.884324\" y=\"20.672746\" xlink:href=\"#m6390b61826\" />\n     <use style=\"fill:#4575b4;fill-opacity:0.7;stroke:#4575b4;stroke-opacity:0.7;stroke-width:0.3;\" x=\"45.356378\" y=\"27.408875\" xlink:href=\"#m6390b61826\" />\n     <use style=\"fill:#4575b4;fill-opacity:0.7;stroke:#4575b4;stroke-opacity:0.7;stroke-width:0.3;\" x=\"49.627048\" y=\"24.714962\" xlink:href=\"#m6390b61826\" />\n     <use style=\"fill:#4575b4;fill-opacity:0.7;stroke:#4575b4;stroke-opacity:0.7;stroke-width:0.3;\" x=\"54.364724\" y=\"31.878753\" xlink:href=\"#m6390b61826\" />\n     <use style=\"fill:#4575b4;fill-opacity:0.7;stroke:#4575b4;stroke-opacity:0.7;stroke-width:0.3;\" x=\"45.212042\" y=\"27.819239\" xlink:href=\"#m6390b61826\" />\n     <use style=\"fill:#4575b4;fill-opacity:0.7;stroke:#4575b4;stroke-opacity:0.7;stroke-width:0.3;\" x=\"46.792561\" y=\"22.771625\" xlink:href=\"#m6390b61826\" />\n     <use style=\"fill:#4575b4;fill-opacity:0.7;stroke:#4575b4;stroke-opacity:0.7;stroke-width:0.3;\" x=\"50.747744\" y=\"34.507892\" xlink:href=\"#m6390b61826\" />\n     <use style=\"fill:#4575b4;fill-opacity:0.7;stroke:#4575b4;stroke-opacity:0.7;stroke-width:0.3;\" x=\"47.028376\" y=\"22.816678\" xlink:href=\"#m6390b61826\" />\n     <use style=\"fill:#4575b4;fill-opacity:0.7;stroke:#4575b4;stroke-opacity:0.7;stroke-width:0.3;\" x=\"47.671631\" y=\"25.32511\" xlink:href=\"#m6390b61826\" />\n     <use style=\"fill:#4575b4;fill-opacity:0.7;stroke:#4575b4;stroke-opacity:0.7;stroke-width:0.3;\" x=\"48.906792\" y=\"21.125407\" xlink:href=\"#m6390b61826\" />\n     <use style=\"fill:#4575b4;fill-opacity:0.7;stroke:#4575b4;stroke-opacity:0.7;stroke-width:0.3;\" x=\"45.752913\" y=\"18.849311\" xlink:href=\"#m6390b61826\" />\n     <use style=\"fill:#4575b4;fill-opacity:0.7;stroke:#4575b4;stroke-opacity:0.7;stroke-width:0.3;\" x=\"47.06364\" y=\"24.003195\" xlink:href=\"#m6390b61826\" />\n     <use style=\"fill:#4575b4;fill-opacity:0.7;stroke:#4575b4;stroke-opacity:0.7;stroke-width:0.3;\" x=\"52.680077\" y=\"27.693897\" xlink:href=\"#m6390b61826\" />\n     <use style=\"fill:#4575b4;fill-opacity:0.7;stroke:#4575b4;stroke-opacity:0.7;stroke-width:0.3;\" x=\"45.947926\" y=\"26.072604\" xlink:href=\"#m6390b61826\" />\n     <use style=\"fill:#4575b4;fill-opacity:0.7;stroke:#4575b4;stroke-opacity:0.7;stroke-width:0.3;\" x=\"44.975324\" y=\"23.340781\" xlink:href=\"#m6390b61826\" />\n     <use style=\"fill:#4575b4;fill-opacity:0.7;stroke:#4575b4;stroke-opacity:0.7;stroke-width:0.3;\" x=\"48.215676\" y=\"19.577581\" xlink:href=\"#m6390b61826\" />\n     <use style=\"fill:#4575b4;fill-opacity:0.7;stroke:#4575b4;stroke-opacity:0.7;stroke-width:0.3;\" x=\"52.775587\" y=\"25.393622\" xlink:href=\"#m6390b61826\" />\n     <use style=\"fill:#4575b4;fill-opacity:0.7;stroke:#4575b4;stroke-opacity:0.7;stroke-width:0.3;\" x=\"49.665706\" y=\"23.018309\" xlink:href=\"#m6390b61826\" />\n     <use style=\"fill:#4575b4;fill-opacity:0.7;stroke:#4575b4;stroke-opacity:0.7;stroke-width:0.3;\" x=\"48.769583\" y=\"18.077908\" xlink:href=\"#m6390b61826\" />\n     <use style=\"fill:#4575b4;fill-opacity:0.7;stroke:#4575b4;stroke-opacity:0.7;stroke-width:0.3;\" x=\"50.473513\" y=\"23.819877\" xlink:href=\"#m6390b61826\" />\n     <use style=\"fill:#4575b4;fill-opacity:0.7;stroke:#4575b4;stroke-opacity:0.7;stroke-width:0.3;\" x=\"44.480372\" y=\"26.178029\" xlink:href=\"#m6390b61826\" />\n     <use style=\"fill:#4575b4;fill-opacity:0.7;stroke:#4575b4;stroke-opacity:0.7;stroke-width:0.3;\" x=\"51.981275\" y=\"24.820937\" xlink:href=\"#m6390b61826\" />\n     <use style=\"fill:#4575b4;fill-opacity:0.7;stroke:#4575b4;stroke-opacity:0.7;stroke-width:0.3;\" x=\"51.60874\" y=\"24.016603\" xlink:href=\"#m6390b61826\" />\n     <use style=\"fill:#4575b4;fill-opacity:0.7;stroke:#4575b4;stroke-opacity:0.7;stroke-width:0.3;\" x=\"48.954635\" y=\"16.59506\" xlink:href=\"#m6390b61826\" />\n     <use style=\"fill:#4575b4;fill-opacity:0.7;stroke:#4575b4;stroke-opacity:0.7;stroke-width:0.3;\" x=\"53.692835\" y=\"22.440585\" xlink:href=\"#m6390b61826\" />\n     <use style=\"fill:#4575b4;fill-opacity:0.7;stroke:#4575b4;stroke-opacity:0.7;stroke-width:0.3;\" x=\"46.550143\" y=\"22.035159\" xlink:href=\"#m6390b61826\" />\n     <use style=\"fill:#4575b4;fill-opacity:0.7;stroke:#4575b4;stroke-opacity:0.7;stroke-width:0.3;\" x=\"54.101239\" y=\"23.726194\" xlink:href=\"#m6390b61826\" />\n     <use style=\"fill:#4575b4;fill-opacity:0.7;stroke:#4575b4;stroke-opacity:0.7;stroke-width:0.3;\" x=\"50.842245\" y=\"15.236591\" xlink:href=\"#m6390b61826\" />\n     <use style=\"fill:#4575b4;fill-opacity:0.7;stroke:#4575b4;stroke-opacity:0.7;stroke-width:0.3;\" x=\"49.198222\" y=\"28.899171\" xlink:href=\"#m6390b61826\" />\n     <use style=\"fill:#4575b4;fill-opacity:0.7;stroke:#4575b4;stroke-opacity:0.7;stroke-width:0.3;\" x=\"50.258463\" y=\"26.967602\" xlink:href=\"#m6390b61826\" />\n     <use style=\"fill:#4575b4;fill-opacity:0.7;stroke:#4575b4;stroke-opacity:0.7;stroke-width:0.3;\" x=\"49.965878\" y=\"17.722676\" xlink:href=\"#m6390b61826\" />\n     <use style=\"fill:#4575b4;fill-opacity:0.7;stroke:#4575b4;stroke-opacity:0.7;stroke-width:0.3;\" x=\"54.410507\" y=\"30.202006\" xlink:href=\"#m6390b61826\" />\n     <use style=\"fill:#4575b4;fill-opacity:0.7;stroke:#4575b4;stroke-opacity:0.7;stroke-width:0.3;\" x=\"46.720278\" y=\"26.891063\" xlink:href=\"#m6390b61826\" />\n     <use style=\"fill:#4575b4;fill-opacity:0.7;stroke:#4575b4;stroke-opacity:0.7;stroke-width:0.3;\" x=\"47.772086\" y=\"26.44437\" xlink:href=\"#m6390b61826\" />\n     <use style=\"fill:#4575b4;fill-opacity:0.7;stroke:#4575b4;stroke-opacity:0.7;stroke-width:0.3;\" x=\"53.794542\" y=\"25.069561\" xlink:href=\"#m6390b61826\" />\n     <use style=\"fill:#4575b4;fill-opacity:0.7;stroke:#4575b4;stroke-opacity:0.7;stroke-width:0.3;\" x=\"48.331149\" y=\"24.091659\" xlink:href=\"#m6390b61826\" />\n     <use style=\"fill:#4575b4;fill-opacity:0.7;stroke:#4575b4;stroke-opacity:0.7;stroke-width:0.3;\" x=\"53.339985\" y=\"22.504407\" xlink:href=\"#m6390b61826\" />\n     <use style=\"fill:#4575b4;fill-opacity:0.7;stroke:#4575b4;stroke-opacity:0.7;stroke-width:0.3;\" x=\"56.014712\" y=\"32.303017\" xlink:href=\"#m6390b61826\" />\n     <use style=\"fill:#4575b4;fill-opacity:0.7;stroke:#4575b4;stroke-opacity:0.7;stroke-width:0.3;\" x=\"48.97979\" y=\"26.033036\" xlink:href=\"#m6390b61826\" />\n     <use style=\"fill:#4575b4;fill-opacity:0.7;stroke:#4575b4;stroke-opacity:0.7;stroke-width:0.3;\" x=\"52.606201\" y=\"21.754047\" xlink:href=\"#m6390b61826\" />\n     <use style=\"fill:#4575b4;fill-opacity:0.7;stroke:#4575b4;stroke-opacity:0.7;stroke-width:0.3;\" x=\"46.462438\" y=\"20.917711\" xlink:href=\"#m6390b61826\" />\n     <use style=\"fill:#4575b4;fill-opacity:0.7;stroke:#4575b4;stroke-opacity:0.7;stroke-width:0.3;\" x=\"52.851847\" y=\"26.528551\" xlink:href=\"#m6390b61826\" />\n     <use style=\"fill:#4575b4;fill-opacity:0.7;stroke:#4575b4;stroke-opacity:0.7;stroke-width:0.3;\" x=\"50.992672\" y=\"23.08257\" xlink:href=\"#m6390b61826\" />\n     <use style=\"fill:#4575b4;fill-opacity:0.7;stroke:#4575b4;stroke-opacity:0.7;stroke-width:0.3;\" x=\"51.908732\" y=\"27.014181\" xlink:href=\"#m6390b61826\" />\n     <use style=\"fill:#4575b4;fill-opacity:0.7;stroke:#4575b4;stroke-opacity:0.7;stroke-width:0.3;\" x=\"48.163625\" y=\"19.704721\" xlink:href=\"#m6390b61826\" />\n     <use style=\"fill:#4575b4;fill-opacity:0.7;stroke:#4575b4;stroke-opacity:0.7;stroke-width:0.3;\" x=\"44.763693\" y=\"26.389328\" xlink:href=\"#m6390b61826\" />\n     <use style=\"fill:#4575b4;fill-opacity:0.7;stroke:#4575b4;stroke-opacity:0.7;stroke-width:0.3;\" x=\"52.009888\" y=\"22.284323\" xlink:href=\"#m6390b61826\" />\n     <use style=\"fill:#4575b4;fill-opacity:0.7;stroke:#4575b4;stroke-opacity:0.7;stroke-width:0.3;\" x=\"43.416726\" y=\"25.969833\" xlink:href=\"#m6390b61826\" />\n     <use style=\"fill:#4575b4;fill-opacity:0.7;stroke:#4575b4;stroke-opacity:0.7;stroke-width:0.3;\" x=\"49.262511\" y=\"19.794953\" xlink:href=\"#m6390b61826\" />\n     <use style=\"fill:#4575b4;fill-opacity:0.7;stroke:#4575b4;stroke-opacity:0.7;stroke-width:0.3;\" x=\"53.476077\" y=\"24.187893\" xlink:href=\"#m6390b61826\" />\n     <use style=\"fill:#4575b4;fill-opacity:0.7;stroke:#4575b4;stroke-opacity:0.7;stroke-width:0.3;\" x=\"50.967474\" y=\"24.411869\" xlink:href=\"#m6390b61826\" />\n     <use style=\"fill:#4575b4;fill-opacity:0.7;stroke:#4575b4;stroke-opacity:0.7;stroke-width:0.3;\" x=\"56.848051\" y=\"25.083106\" xlink:href=\"#m6390b61826\" />\n     <use style=\"fill:#4575b4;fill-opacity:0.7;stroke:#4575b4;stroke-opacity:0.7;stroke-width:0.3;\" x=\"53.757065\" y=\"23.554982\" xlink:href=\"#m6390b61826\" />\n     <use style=\"fill:#4575b4;fill-opacity:0.7;stroke:#4575b4;stroke-opacity:0.7;stroke-width:0.3;\" x=\"48.135748\" y=\"24.792444\" xlink:href=\"#m6390b61826\" />\n     <use style=\"fill:#4575b4;fill-opacity:0.7;stroke:#4575b4;stroke-opacity:0.7;stroke-width:0.3;\" x=\"50.416445\" y=\"22.787567\" xlink:href=\"#m6390b61826\" />\n     <use style=\"fill:#4575b4;fill-opacity:0.7;stroke:#4575b4;stroke-opacity:0.7;stroke-width:0.3;\" x=\"50.166403\" y=\"26.81776\" xlink:href=\"#m6390b61826\" />\n     <use style=\"fill:#4575b4;fill-opacity:0.7;stroke:#4575b4;stroke-opacity:0.7;stroke-width:0.3;\" x=\"45.027872\" y=\"26.884385\" xlink:href=\"#m6390b61826\" />\n     <use style=\"fill:#4575b4;fill-opacity:0.7;stroke:#4575b4;stroke-opacity:0.7;stroke-width:0.3;\" x=\"47.176544\" y=\"10.027788\" xlink:href=\"#m6390b61826\" />\n     <use style=\"fill:#4575b4;fill-opacity:0.7;stroke:#4575b4;stroke-opacity:0.7;stroke-width:0.3;\" x=\"48.447572\" y=\"23.852154\" xlink:href=\"#m6390b61826\" />\n     <use style=\"fill:#4575b4;fill-opacity:0.7;stroke:#4575b4;stroke-opacity:0.7;stroke-width:0.3;\" x=\"43.507734\" y=\"21.283662\" xlink:href=\"#m6390b61826\" />\n     <use style=\"fill:#4575b4;fill-opacity:0.7;stroke:#4575b4;stroke-opacity:0.7;stroke-width:0.3;\" x=\"50.484008\" y=\"24.879508\" xlink:href=\"#m6390b61826\" />\n    </g>\n   </g>\n   <g id=\"matplotlib.axis_1\" />\n   <g id=\"matplotlib.axis_2\">\n    <g id=\"ytick_1\">\n     <g id=\"line2d_1\">\n      <defs>\n       <path d=\"M 0 0  L -3.5 0  \" id=\"m30cfbbb17f\" style=\"stroke:#444443;stroke-width:0.3;\" />\n      </defs>\n      <g>\n       <use style=\"fill:#444443;stroke:#444443;stroke-width:0.3;\" x=\"29.4\" y=\"42.65814\" xlink:href=\"#m30cfbbb17f\" />\n      </g>\n     </g>\n     <g id=\"text_1\">\n      \n      <defs>\n       <path d=\"M 10.59375 35.5  L 73.1875 35.5  L 73.1875 27.203125  L 10.59375 27.203125  z \" id=\"DejaVuSans-8722\" />\n       <path d=\"M 12.40625 8.296875  L 28.515625 8.296875  L 28.515625 63.921875  L 10.984375 60.40625  L 10.984375 69.390625  L 28.421875 72.90625  L 38.28125 72.90625  L 38.28125 8.296875  L 54.390625 8.296875  L 54.390625 0  L 12.40625 0  z \" id=\"DejaVuSans-49\" />\n       <path d=\"M 31.78125 66.40625  Q 24.171875 66.40625 20.328125 58.90625  Q 16.5 51.421875 16.5 36.375  Q 16.5 21.390625 20.328125 13.890625  Q 24.171875 6.390625 31.78125 6.390625  Q 39.453125 6.390625 43.28125 13.890625  Q 47.125 21.390625 47.125 36.375  Q 47.125 51.421875 43.28125 58.90625  Q 39.453125 66.40625 31.78125 66.40625  z M 31.78125 74.21875  Q 44.046875 74.21875 50.515625 64.515625  Q 56.984375 54.828125 56.984375 36.375  Q 56.984375 17.96875 50.515625 8.265625  Q 44.046875 -1.421875 31.78125 -1.421875  Q 19.53125 -1.421875 13.0625 8.265625  Q 6.59375 17.96875 6.59375 36.375  Q 6.59375 54.828125 13.0625 64.515625  Q 19.53125 74.21875 31.78125 74.21875  z \" id=\"DejaVuSans-48\" />\n      </defs>\n      <g style=\"fill:#444443;\" transform=\"translate(0.42625 45.697515)scale(0.08 -0.08)\">\n       <use xlink:href=\"#DejaVuSans-8722\" />\n       <use x=\"83.789062\" xlink:href=\"#DejaVuSans-49\" />\n       <use x=\"147.412109\" xlink:href=\"#DejaVuSans-48\" />\n       <use x=\"211.035156\" xlink:href=\"#DejaVuSans-48\" />\n      </g>\n     </g>\n    </g>\n    <g id=\"ytick_2\">\n     <g id=\"line2d_2\">\n      <g>\n       <use style=\"fill:#444443;stroke:#444443;stroke-width:0.3;\" x=\"29.4\" y=\"24.750061\" xlink:href=\"#m30cfbbb17f\" />\n      </g>\n     </g>\n     <g id=\"text_2\">\n      \n      <g style=\"fill:#444443;\" transform=\"translate(17.31 27.789436)scale(0.08 -0.08)\">\n       <use xlink:href=\"#DejaVuSans-48\" />\n      </g>\n     </g>\n    </g>\n    <g id=\"ytick_3\">\n     <g id=\"line2d_3\">\n      <g>\n       <use style=\"fill:#444443;stroke:#444443;stroke-width:0.3;\" x=\"29.4\" y=\"6.841982\" xlink:href=\"#m30cfbbb17f\" />\n      </g>\n     </g>\n     <g id=\"text_3\">\n      \n      <g style=\"fill:#444443;\" transform=\"translate(7.13 9.881357)scale(0.08 -0.08)\">\n       <use xlink:href=\"#DejaVuSans-49\" />\n       <use x=\"63.623047\" xlink:href=\"#DejaVuSans-48\" />\n       <use x=\"127.246094\" xlink:href=\"#DejaVuSans-48\" />\n      </g>\n     </g>\n    </g>\n   </g>\n   <g id=\"line2d_4\">\n    <path clip-path=\"url(#p591933d865)\" d=\"M 29.4 23.922689  L 102.65 23.922689  \" style=\"fill:none;stroke:#444443;stroke-dasharray:3.7,1.6;stroke-dashoffset:0;\" />\n   </g>\n   <g id=\"patch_3\">\n    <path d=\"M 29.4 43.488  L 29.4 -0  \" style=\"fill:none;stroke:#000000;stroke-linecap:square;stroke-linejoin:miter;stroke-width:0.3;\" />\n   </g>\n   <g id=\"text_4\">\n    \n    <defs>\n     <path d=\"M 53.515625 70.515625  L 53.515625 60.890625  Q 47.90625 63.578125 42.921875 64.890625  Q 37.9375 66.21875 33.296875 66.21875  Q 25.25 66.21875 20.875 63.09375  Q 16.5 59.96875 16.5 54.203125  Q 16.5 49.359375 19.40625 46.890625  Q 22.3125 44.4375 30.421875 42.921875  L 36.375 41.703125  Q 47.40625 39.59375 52.65625 34.296875  Q 57.90625 29 57.90625 20.125  Q 57.90625 9.515625 50.796875 4.046875  Q 43.703125 -1.421875 29.984375 -1.421875  Q 24.8125 -1.421875 18.96875 -0.25  Q 13.140625 0.921875 6.890625 3.21875  L 6.890625 13.375  Q 12.890625 10.015625 18.65625 8.296875  Q 24.421875 6.59375 29.984375 6.59375  Q 38.421875 6.59375 43.015625 9.90625  Q 47.609375 13.234375 47.609375 19.390625  Q 47.609375 24.75 44.3125 27.78125  Q 41.015625 30.8125 33.5 32.328125  L 27.484375 33.5  Q 16.453125 35.6875 11.515625 40.375  Q 6.59375 45.0625 6.59375 53.421875  Q 6.59375 63.09375 13.40625 68.65625  Q 20.21875 74.21875 32.171875 74.21875  Q 37.3125 74.21875 42.625 73.28125  Q 47.953125 72.359375 53.515625 70.515625  z \" id=\"DejaVuSans-83\" />\n     <path d=\"M 32.171875 -5.078125  Q 28.375 -14.84375 24.75 -17.8125  Q 21.140625 -20.796875 15.09375 -20.796875  L 7.90625 -20.796875  L 7.90625 -13.28125  L 13.1875 -13.28125  Q 16.890625 -13.28125 18.9375 -11.515625  Q 21 -9.765625 23.484375 -3.21875  L 25.09375 0.875  L 2.984375 54.6875  L 12.5 54.6875  L 29.59375 11.921875  L 46.6875 54.6875  L 56.203125 54.6875  z \" id=\"DejaVuSans-121\" />\n     <path d=\"M 54.890625 33.015625  L 54.890625 0  L 45.90625 0  L 45.90625 32.71875  Q 45.90625 40.484375 42.875 44.328125  Q 39.84375 48.1875 33.796875 48.1875  Q 26.515625 48.1875 22.3125 43.546875  Q 18.109375 38.921875 18.109375 30.90625  L 18.109375 0  L 9.078125 0  L 9.078125 54.6875  L 18.109375 54.6875  L 18.109375 46.1875  Q 21.34375 51.125 25.703125 53.5625  Q 30.078125 56 35.796875 56  Q 45.21875 56 50.046875 50.171875  Q 54.890625 44.34375 54.890625 33.015625  z \" id=\"DejaVuSans-110\" />\n     <path d=\"M 56.203125 29.59375  L 56.203125 25.203125  L 14.890625 25.203125  Q 15.484375 15.921875 20.484375 11.0625  Q 25.484375 6.203125 34.421875 6.203125  Q 39.59375 6.203125 44.453125 7.46875  Q 49.3125 8.734375 54.109375 11.28125  L 54.109375 2.78125  Q 49.265625 0.734375 44.1875 -0.34375  Q 39.109375 -1.421875 33.890625 -1.421875  Q 20.796875 -1.421875 13.15625 6.1875  Q 5.515625 13.8125 5.515625 26.8125  Q 5.515625 40.234375 12.765625 48.109375  Q 20.015625 56 32.328125 56  Q 43.359375 56 49.78125 48.890625  Q 56.203125 41.796875 56.203125 29.59375  z M 47.21875 32.234375  Q 47.125 39.59375 43.09375 43.984375  Q 39.0625 48.390625 32.421875 48.390625  Q 24.90625 48.390625 20.390625 44.140625  Q 15.875 39.890625 15.1875 32.171875  z \" id=\"DejaVuSans-101\" />\n     <path d=\"M 41.109375 46.296875  Q 39.59375 47.171875 37.8125 47.578125  Q 36.03125 48 33.890625 48  Q 26.265625 48 22.1875 43.046875  Q 18.109375 38.09375 18.109375 28.8125  L 18.109375 0  L 9.078125 0  L 9.078125 54.6875  L 18.109375 54.6875  L 18.109375 46.1875  Q 20.953125 51.171875 25.484375 53.578125  Q 30.03125 56 36.53125 56  Q 37.453125 56 38.578125 55.875  Q 39.703125 55.765625 41.0625 55.515625  z \" id=\"DejaVuSans-114\" />\n     <path d=\"M 45.40625 27.984375  Q 45.40625 37.75 41.375 43.109375  Q 37.359375 48.484375 30.078125 48.484375  Q 22.859375 48.484375 18.828125 43.109375  Q 14.796875 37.75 14.796875 27.984375  Q 14.796875 18.265625 18.828125 12.890625  Q 22.859375 7.515625 30.078125 7.515625  Q 37.359375 7.515625 41.375 12.890625  Q 45.40625 18.265625 45.40625 27.984375  z M 54.390625 6.78125  Q 54.390625 -7.171875 48.1875 -13.984375  Q 42 -20.796875 29.203125 -20.796875  Q 24.46875 -20.796875 20.265625 -20.09375  Q 16.0625 -19.390625 12.109375 -17.921875  L 12.109375 -9.1875  Q 16.0625 -11.328125 19.921875 -12.34375  Q 23.78125 -13.375 27.78125 -13.375  Q 36.625 -13.375 41.015625 -8.765625  Q 45.40625 -4.15625 45.40625 5.171875  L 45.40625 9.625  Q 42.625 4.78125 38.28125 2.390625  Q 33.9375 0 27.875 0  Q 17.828125 0 11.671875 7.65625  Q 5.515625 15.328125 5.515625 27.984375  Q 5.515625 40.671875 11.671875 48.328125  Q 17.828125 56 27.875 56  Q 33.9375 56 38.28125 53.609375  Q 42.625 51.21875 45.40625 46.390625  L 45.40625 54.6875  L 54.390625 54.6875  z \" id=\"DejaVuSans-103\" />\n     <path id=\"DejaVuSans-32\" />\n     <path d=\"M 44.28125 53.078125  L 44.28125 44.578125  Q 40.484375 46.53125 36.375 47.5  Q 32.28125 48.484375 27.875 48.484375  Q 21.1875 48.484375 17.84375 46.4375  Q 14.5 44.390625 14.5 40.28125  Q 14.5 37.15625 16.890625 35.375  Q 19.28125 33.59375 26.515625 31.984375  L 29.59375 31.296875  Q 39.15625 29.25 43.1875 25.515625  Q 47.21875 21.78125 47.21875 15.09375  Q 47.21875 7.46875 41.1875 3.015625  Q 35.15625 -1.421875 24.609375 -1.421875  Q 20.21875 -1.421875 15.453125 -0.5625  Q 10.6875 0.296875 5.421875 2  L 5.421875 11.28125  Q 10.40625 8.6875 15.234375 7.390625  Q 20.0625 6.109375 24.8125 6.109375  Q 31.15625 6.109375 34.5625 8.28125  Q 37.984375 10.453125 37.984375 14.40625  Q 37.984375 18.0625 35.515625 20.015625  Q 33.0625 21.96875 24.703125 23.78125  L 21.578125 24.515625  Q 13.234375 26.265625 9.515625 29.90625  Q 5.8125 33.546875 5.8125 39.890625  Q 5.8125 47.609375 11.28125 51.796875  Q 16.75 56 26.8125 56  Q 31.78125 56 36.171875 55.265625  Q 40.578125 54.546875 44.28125 53.078125  z \" id=\"DejaVuSans-115\" />\n     <path d=\"M 48.78125 52.59375  L 48.78125 44.1875  Q 44.96875 46.296875 41.140625 47.34375  Q 37.3125 48.390625 33.40625 48.390625  Q 24.65625 48.390625 19.8125 42.84375  Q 14.984375 37.3125 14.984375 27.296875  Q 14.984375 17.28125 19.8125 11.734375  Q 24.65625 6.203125 33.40625 6.203125  Q 37.3125 6.203125 41.140625 7.25  Q 44.96875 8.296875 48.78125 10.40625  L 48.78125 2.09375  Q 45.015625 0.34375 40.984375 -0.53125  Q 36.96875 -1.421875 32.421875 -1.421875  Q 20.0625 -1.421875 12.78125 6.34375  Q 5.515625 14.109375 5.515625 27.296875  Q 5.515625 40.671875 12.859375 48.328125  Q 20.21875 56 33.015625 56  Q 37.15625 56 41.109375 55.140625  Q 45.0625 54.296875 48.78125 52.59375  z \" id=\"DejaVuSans-99\" />\n     <path d=\"M 30.609375 48.390625  Q 23.390625 48.390625 19.1875 42.75  Q 14.984375 37.109375 14.984375 27.296875  Q 14.984375 17.484375 19.15625 11.84375  Q 23.34375 6.203125 30.609375 6.203125  Q 37.796875 6.203125 41.984375 11.859375  Q 46.1875 17.53125 46.1875 27.296875  Q 46.1875 37.015625 41.984375 42.703125  Q 37.796875 48.390625 30.609375 48.390625  z M 30.609375 56  Q 42.328125 56 49.015625 48.375  Q 55.71875 40.765625 55.71875 27.296875  Q 55.71875 13.875 49.015625 6.21875  Q 42.328125 -1.421875 30.609375 -1.421875  Q 18.84375 -1.421875 12.171875 6.21875  Q 5.515625 13.875 5.515625 27.296875  Q 5.515625 40.765625 12.171875 48.375  Q 18.84375 56 30.609375 56  z \" id=\"DejaVuSans-111\" />\n     <path d=\"M 10.59375 45.40625  L 73.1875 45.40625  L 73.1875 37.203125  L 10.59375 37.203125  z M 10.59375 25.484375  L 73.1875 25.484375  L 73.1875 17.1875  L 10.59375 17.1875  z \" id=\"DejaVuSans-61\" />\n     <path d=\"M 37.796875 64.3125  L 12.890625 25.390625  L 37.796875 25.390625  z M 35.203125 72.90625  L 47.609375 72.90625  L 47.609375 25.390625  L 58.015625 25.390625  L 58.015625 17.1875  L 47.609375 17.1875  L 47.609375 0  L 37.796875 0  L 37.796875 17.1875  L 4.890625 17.1875  L 4.890625 26.703125  z \" id=\"DejaVuSans-52\" />\n     <path d=\"M 10.6875 12.40625  L 21 12.40625  L 21 0  L 10.6875 0  z \" id=\"DejaVuSans-46\" />\n     <path d=\"M 33.015625 40.375  Q 26.375 40.375 22.484375 35.828125  Q 18.609375 31.296875 18.609375 23.390625  Q 18.609375 15.53125 22.484375 10.953125  Q 26.375 6.390625 33.015625 6.390625  Q 39.65625 6.390625 43.53125 10.953125  Q 47.40625 15.53125 47.40625 23.390625  Q 47.40625 31.296875 43.53125 35.828125  Q 39.65625 40.375 33.015625 40.375  z M 52.59375 71.296875  L 52.59375 62.3125  Q 48.875 64.0625 45.09375 64.984375  Q 41.3125 65.921875 37.59375 65.921875  Q 27.828125 65.921875 22.671875 59.328125  Q 17.53125 52.734375 16.796875 39.40625  Q 19.671875 43.65625 24.015625 45.921875  Q 28.375 48.1875 33.59375 48.1875  Q 44.578125 48.1875 50.953125 41.515625  Q 57.328125 34.859375 57.328125 23.390625  Q 57.328125 12.15625 50.6875 5.359375  Q 44.046875 -1.421875 33.015625 -1.421875  Q 20.359375 -1.421875 13.671875 8.265625  Q 6.984375 17.96875 6.984375 36.375  Q 6.984375 53.65625 15.1875 63.9375  Q 23.390625 74.21875 37.203125 74.21875  Q 40.921875 74.21875 44.703125 73.484375  Q 48.484375 72.75 52.59375 71.296875  z \" id=\"DejaVuSans-54\" />\n     <path d=\"M 19.1875 8.296875  L 53.609375 8.296875  L 53.609375 0  L 7.328125 0  L 7.328125 8.296875  Q 12.9375 14.109375 22.625 23.890625  Q 32.328125 33.6875 34.8125 36.53125  Q 39.546875 41.84375 41.421875 45.53125  Q 43.3125 49.21875 43.3125 52.78125  Q 43.3125 58.59375 39.234375 62.25  Q 35.15625 65.921875 28.609375 65.921875  Q 23.96875 65.921875 18.8125 64.3125  Q 13.671875 62.703125 7.8125 59.421875  L 7.8125 69.390625  Q 13.765625 71.78125 18.9375 73  Q 24.125 74.21875 28.421875 74.21875  Q 39.75 74.21875 46.484375 68.546875  Q 53.21875 62.890625 53.21875 53.421875  Q 53.21875 48.921875 51.53125 44.890625  Q 49.859375 40.875 45.40625 35.40625  Q 44.1875 33.984375 37.640625 27.21875  Q 31.109375 20.453125 19.1875 8.296875  z \" id=\"DejaVuSans-50\" />\n    </defs>\n    <g style=\"fill:#444443;\" transform=\"translate(0 52.836437)scale(0.1 -0.1)\">\n     <use xlink:href=\"#DejaVuSans-83\" />\n     <use x=\"63.476562\" xlink:href=\"#DejaVuSans-121\" />\n     <use x=\"122.65625\" xlink:href=\"#DejaVuSans-110\" />\n     <use x=\"186.035156\" xlink:href=\"#DejaVuSans-101\" />\n     <use x=\"247.558594\" xlink:href=\"#DejaVuSans-114\" />\n     <use x=\"286.921875\" xlink:href=\"#DejaVuSans-103\" />\n     <use x=\"350.398438\" xlink:href=\"#DejaVuSans-121\" />\n     <use x=\"409.578125\" xlink:href=\"#DejaVuSans-32\" />\n     <use x=\"441.365234\" xlink:href=\"#DejaVuSans-115\" />\n     <use x=\"493.464844\" xlink:href=\"#DejaVuSans-99\" />\n     <use x=\"548.445312\" xlink:href=\"#DejaVuSans-111\" />\n     <use x=\"609.626953\" xlink:href=\"#DejaVuSans-114\" />\n     <use x=\"648.490234\" xlink:href=\"#DejaVuSans-101\" />\n     <use x=\"710.013672\" xlink:href=\"#DejaVuSans-61\" />\n     <use x=\"793.802734\" xlink:href=\"#DejaVuSans-52\" />\n     <use x=\"857.425781\" xlink:href=\"#DejaVuSans-46\" />\n     <use x=\"889.212891\" xlink:href=\"#DejaVuSans-54\" />\n     <use x=\"952.835938\" xlink:href=\"#DejaVuSans-50\" />\n    </g>\n    \n    <g style=\"fill:#444443;\" transform=\"translate(33.922656 64.03425)scale(0.1 -0.1)\">\n     <use xlink:href=\"#DejaVuSans-110\" />\n     <use x=\"63.378906\" xlink:href=\"#DejaVuSans-61\" />\n     <use x=\"147.167969\" xlink:href=\"#DejaVuSans-49\" />\n     <use x=\"210.791016\" xlink:href=\"#DejaVuSans-50\" />\n     <use x=\"274.414062\" xlink:href=\"#DejaVuSans-49\" />\n    </g>\n   </g>\n  </g>\n </g>\n <defs>\n  <clipPath id=\"p591933d865\">\n   <rect height=\"43.488\" width=\"41.85\" x=\"29.4\" y=\"-0\" />\n  </clipPath>\n </defs>\n</svg></g>\n\n\n<g class=\"node\" id=\"node3\">\n<title>node0</title>\n<svg height=\"70px\" preserveAspectRatio=\"xMinYMin meet\" version=\"1.1\" viewBox=\"0 0 193.603125 93.820969\" width=\"145px\" x=\"4.5\" y=\"-103\">\n <defs>\n  <style type=\"text/css\">\n*{stroke-linecap:butt;stroke-linejoin:round;}\n  </style>\n </defs>\n <g id=\"figure_1\">\n  <g id=\"patch_1\">\n   <path d=\"M 0 93.820969  L 193.603125 93.820969  L 193.603125 -0  L 0 -0  z \" style=\"fill:#ffffff;\" />\n  </g>\n  <g id=\"axes_1\">\n   <g id=\"patch_2\">\n    <path d=\"M 42.651875 65.400344  L 182.151875 65.400344  L 182.151875 5.604344  L 42.651875 5.604344  z \" style=\"fill:#ffffff;\" />\n   </g>\n   <g id=\"PathCollection_1\">\n    <defs>\n     <path d=\"M 0 1.118034  C 0.296506 1.118034 0.580908 1.000231 0.790569 0.790569  C 1.000231 0.580908 1.118034 0.296506 1.118034 0  C 1.118034 -0.296506 1.000231 -0.580908 0.790569 -0.790569  C 0.580908 -1.000231 0.296506 -1.118034 0 -1.118034  C -0.296506 -1.118034 -0.580908 -1.000231 -0.790569 -0.790569  C -1.000231 -0.580908 -1.118034 -0.296506 -1.118034 0  C -1.118034 0.296506 -1.000231 0.580908 -0.790569 0.790569  C -0.580908 1.000231 -0.296506 1.118034 0 1.118034  z \" id=\"ma5109590b9\" style=\"stroke:#4575b4;stroke-opacity:0.7;stroke-width:0.3;\" />\n    </defs>\n    <g clip-path=\"url(#p387d65e1e1)\">\n     <use style=\"fill:#4575b4;fill-opacity:0.7;stroke:#4575b4;stroke-opacity:0.7;stroke-width:0.3;\" x=\"120.282669\" y=\"33.230466\" xlink:href=\"#ma5109590b9\" />\n     <use style=\"fill:#4575b4;fill-opacity:0.7;stroke:#4575b4;stroke-opacity:0.7;stroke-width:0.3;\" x=\"71.646082\" y=\"34.397098\" xlink:href=\"#ma5109590b9\" />\n     <use style=\"fill:#4575b4;fill-opacity:0.7;stroke:#4575b4;stroke-opacity:0.7;stroke-width:0.3;\" x=\"42.651875\" y=\"39.914649\" xlink:href=\"#ma5109590b9\" />\n     <use style=\"fill:#4575b4;fill-opacity:0.7;stroke:#4575b4;stroke-opacity:0.7;stroke-width:0.3;\" x=\"182.151875\" y=\"33.507438\" xlink:href=\"#ma5109590b9\" />\n     <use style=\"fill:#4575b4;fill-opacity:0.7;stroke:#4575b4;stroke-opacity:0.7;stroke-width:0.3;\" x=\"103.675244\" y=\"37.326903\" xlink:href=\"#ma5109590b9\" />\n     <use style=\"fill:#4575b4;fill-opacity:0.7;stroke:#4575b4;stroke-opacity:0.7;stroke-width:0.3;\" x=\"78.464683\" y=\"40.371427\" xlink:href=\"#ma5109590b9\" />\n     <use style=\"fill:#4575b4;fill-opacity:0.7;stroke:#4575b4;stroke-opacity:0.7;stroke-width:0.3;\" x=\"42.651875\" y=\"41.861352\" xlink:href=\"#ma5109590b9\" />\n     <use style=\"fill:#4575b4;fill-opacity:0.7;stroke:#4575b4;stroke-opacity:0.7;stroke-width:0.3;\" x=\"63.440308\" y=\"50.726179\" xlink:href=\"#ma5109590b9\" />\n     <use style=\"fill:#4575b4;fill-opacity:0.7;stroke:#4575b4;stroke-opacity:0.7;stroke-width:0.3;\" x=\"42.651875\" y=\"36.547166\" xlink:href=\"#ma5109590b9\" />\n     <use style=\"fill:#4575b4;fill-opacity:0.7;stroke:#4575b4;stroke-opacity:0.7;stroke-width:0.3;\" x=\"44.555831\" y=\"44.513747\" xlink:href=\"#ma5109590b9\" />\n     <use style=\"fill:#4575b4;fill-opacity:0.7;stroke:#4575b4;stroke-opacity:0.7;stroke-width:0.3;\" x=\"170.839989\" y=\"35.094047\" xlink:href=\"#ma5109590b9\" />\n     <use style=\"fill:#4575b4;fill-opacity:0.7;stroke:#4575b4;stroke-opacity:0.7;stroke-width:0.3;\" x=\"144.299824\" y=\"40.211714\" xlink:href=\"#ma5109590b9\" />\n     <use style=\"fill:#4575b4;fill-opacity:0.7;stroke:#4575b4;stroke-opacity:0.7;stroke-width:0.3;\" x=\"157.052326\" y=\"13.840749\" xlink:href=\"#ma5109590b9\" />\n     <use style=\"fill:#4575b4;fill-opacity:0.7;stroke:#4575b4;stroke-opacity:0.7;stroke-width:0.3;\" x=\"182.151875\" y=\"39.032121\" xlink:href=\"#ma5109590b9\" />\n     <use style=\"fill:#4575b4;fill-opacity:0.7;stroke:#4575b4;stroke-opacity:0.7;stroke-width:0.3;\" x=\"63.80457\" y=\"26.352816\" xlink:href=\"#ma5109590b9\" />\n     <use style=\"fill:#4575b4;fill-opacity:0.7;stroke:#4575b4;stroke-opacity:0.7;stroke-width:0.3;\" x=\"91.290372\" y=\"32.29681\" xlink:href=\"#ma5109590b9\" />\n     <use style=\"fill:#4575b4;fill-opacity:0.7;stroke:#4575b4;stroke-opacity:0.7;stroke-width:0.3;\" x=\"182.151875\" y=\"41.712386\" xlink:href=\"#ma5109590b9\" />\n     <use style=\"fill:#4575b4;fill-opacity:0.7;stroke:#4575b4;stroke-opacity:0.7;stroke-width:0.3;\" x=\"111.622195\" y=\"58.904349\" xlink:href=\"#ma5109590b9\" />\n     <use style=\"fill:#4575b4;fill-opacity:0.7;stroke:#4575b4;stroke-opacity:0.7;stroke-width:0.3;\" x=\"136.152274\" y=\"35.593618\" xlink:href=\"#ma5109590b9\" />\n     <use style=\"fill:#4575b4;fill-opacity:0.7;stroke:#4575b4;stroke-opacity:0.7;stroke-width:0.3;\" x=\"42.651875\" y=\"35.127141\" xlink:href=\"#ma5109590b9\" />\n     <use style=\"fill:#4575b4;fill-opacity:0.7;stroke:#4575b4;stroke-opacity:0.7;stroke-width:0.3;\" x=\"51.551651\" y=\"35.811456\" xlink:href=\"#ma5109590b9\" />\n     <use style=\"fill:#4575b4;fill-opacity:0.7;stroke:#4575b4;stroke-opacity:0.7;stroke-width:0.3;\" x=\"99.566709\" y=\"36.735039\" xlink:href=\"#ma5109590b9\" />\n     <use style=\"fill:#4575b4;fill-opacity:0.7;stroke:#4575b4;stroke-opacity:0.7;stroke-width:0.3;\" x=\"42.651875\" y=\"43.06303\" xlink:href=\"#ma5109590b9\" />\n     <use style=\"fill:#4575b4;fill-opacity:0.7;stroke:#4575b4;stroke-opacity:0.7;stroke-width:0.3;\" x=\"142.670859\" y=\"34.583708\" xlink:href=\"#ma5109590b9\" />\n     <use style=\"fill:#4575b4;fill-opacity:0.7;stroke:#4575b4;stroke-opacity:0.7;stroke-width:0.3;\" x=\"165.345048\" y=\"39.494427\" xlink:href=\"#ma5109590b9\" />\n     <use style=\"fill:#4575b4;fill-opacity:0.7;stroke:#4575b4;stroke-opacity:0.7;stroke-width:0.3;\" x=\"106.484103\" y=\"37.75333\" xlink:href=\"#ma5109590b9\" />\n     <use style=\"fill:#4575b4;fill-opacity:0.7;stroke:#4575b4;stroke-opacity:0.7;stroke-width:0.3;\" x=\"182.151875\" y=\"38.62187\" xlink:href=\"#ma5109590b9\" />\n     <use style=\"fill:#4575b4;fill-opacity:0.7;stroke:#4575b4;stroke-opacity:0.7;stroke-width:0.3;\" x=\"182.151875\" y=\"42.172392\" xlink:href=\"#ma5109590b9\" />\n     <use style=\"fill:#4575b4;fill-opacity:0.7;stroke:#4575b4;stroke-opacity:0.7;stroke-width:0.3;\" x=\"155.083871\" y=\"45.806147\" xlink:href=\"#ma5109590b9\" />\n     <use style=\"fill:#4575b4;fill-opacity:0.7;stroke:#4575b4;stroke-opacity:0.7;stroke-width:0.3;\" x=\"42.651875\" y=\"37.718428\" xlink:href=\"#ma5109590b9\" />\n     <use style=\"fill:#4575b4;fill-opacity:0.7;stroke:#4575b4;stroke-opacity:0.7;stroke-width:0.3;\" x=\"93.917556\" y=\"29.149564\" xlink:href=\"#ma5109590b9\" />\n     <use style=\"fill:#4575b4;fill-opacity:0.7;stroke:#4575b4;stroke-opacity:0.7;stroke-width:0.3;\" x=\"120.581275\" y=\"35.3873\" xlink:href=\"#ma5109590b9\" />\n     <use style=\"fill:#4575b4;fill-opacity:0.7;stroke:#4575b4;stroke-opacity:0.7;stroke-width:0.3;\" x=\"75.972629\" y=\"43.277935\" xlink:href=\"#ma5109590b9\" />\n     <use style=\"fill:#4575b4;fill-opacity:0.7;stroke:#4575b4;stroke-opacity:0.7;stroke-width:0.3;\" x=\"54.752276\" y=\"35.405433\" xlink:href=\"#ma5109590b9\" />\n     <use style=\"fill:#4575b4;fill-opacity:0.7;stroke:#4575b4;stroke-opacity:0.7;stroke-width:0.3;\" x=\"88.584463\" y=\"25.28132\" xlink:href=\"#ma5109590b9\" />\n     <use style=\"fill:#4575b4;fill-opacity:0.7;stroke:#4575b4;stroke-opacity:0.7;stroke-width:0.3;\" x=\"66.110812\" y=\"43.406158\" xlink:href=\"#ma5109590b9\" />\n     <use style=\"fill:#4575b4;fill-opacity:0.7;stroke:#4575b4;stroke-opacity:0.7;stroke-width:0.3;\" x=\"42.651875\" y=\"31.551309\" xlink:href=\"#ma5109590b9\" />\n     <use style=\"fill:#4575b4;fill-opacity:0.7;stroke:#4575b4;stroke-opacity:0.7;stroke-width:0.3;\" x=\"131.436768\" y=\"38.063268\" xlink:href=\"#ma5109590b9\" />\n     <use style=\"fill:#4575b4;fill-opacity:0.7;stroke:#4575b4;stroke-opacity:0.7;stroke-width:0.3;\" x=\"59.803489\" y=\"23.163478\" xlink:href=\"#ma5109590b9\" />\n     <use style=\"fill:#4575b4;fill-opacity:0.7;stroke:#4575b4;stroke-opacity:0.7;stroke-width:0.3;\" x=\"127.048422\" y=\"44.236791\" xlink:href=\"#ma5109590b9\" />\n     <use style=\"fill:#4575b4;fill-opacity:0.7;stroke:#4575b4;stroke-opacity:0.7;stroke-width:0.3;\" x=\"148.942825\" y=\"38.226639\" xlink:href=\"#ma5109590b9\" />\n     <use style=\"fill:#4575b4;fill-opacity:0.7;stroke:#4575b4;stroke-opacity:0.7;stroke-width:0.3;\" x=\"86.965717\" y=\"38.411805\" xlink:href=\"#ma5109590b9\" />\n     <use style=\"fill:#4575b4;fill-opacity:0.7;stroke:#4575b4;stroke-opacity:0.7;stroke-width:0.3;\" x=\"173.274512\" y=\"37.269345\" xlink:href=\"#ma5109590b9\" />\n     <use style=\"fill:#4575b4;fill-opacity:0.7;stroke:#4575b4;stroke-opacity:0.7;stroke-width:0.3;\" x=\"51.352086\" y=\"39.395715\" xlink:href=\"#ma5109590b9\" />\n     <use style=\"fill:#4575b4;fill-opacity:0.7;stroke:#4575b4;stroke-opacity:0.7;stroke-width:0.3;\" x=\"182.151875\" y=\"49.947905\" xlink:href=\"#ma5109590b9\" />\n     <use style=\"fill:#4575b4;fill-opacity:0.7;stroke:#4575b4;stroke-opacity:0.7;stroke-width:0.3;\" x=\"109.828029\" y=\"28.430554\" xlink:href=\"#ma5109590b9\" />\n     <use style=\"fill:#4575b4;fill-opacity:0.7;stroke:#4575b4;stroke-opacity:0.7;stroke-width:0.3;\" x=\"102.359066\" y=\"32.518223\" xlink:href=\"#ma5109590b9\" />\n     <use style=\"fill:#4575b4;fill-opacity:0.7;stroke:#4575b4;stroke-opacity:0.7;stroke-width:0.3;\" x=\"66.190108\" y=\"36.973991\" xlink:href=\"#ma5109590b9\" />\n     <use style=\"fill:#4575b4;fill-opacity:0.7;stroke:#4575b4;stroke-opacity:0.7;stroke-width:0.3;\" x=\"103.009971\" y=\"23.147482\" xlink:href=\"#ma5109590b9\" />\n     <use style=\"fill:#4575b4;fill-opacity:0.7;stroke:#4575b4;stroke-opacity:0.7;stroke-width:0.3;\" x=\"132.808082\" y=\"37.035043\" xlink:href=\"#ma5109590b9\" />\n     <use style=\"fill:#4575b4;fill-opacity:0.7;stroke:#4575b4;stroke-opacity:0.7;stroke-width:0.3;\" x=\"94.12767\" y=\"30.874987\" xlink:href=\"#ma5109590b9\" />\n     <use style=\"fill:#4575b4;fill-opacity:0.7;stroke:#4575b4;stroke-opacity:0.7;stroke-width:0.3;\" x=\"47.493543\" y=\"39.439075\" xlink:href=\"#ma5109590b9\" />\n     <use style=\"fill:#4575b4;fill-opacity:0.7;stroke:#4575b4;stroke-opacity:0.7;stroke-width:0.3;\" x=\"182.151875\" y=\"39.301442\" xlink:href=\"#ma5109590b9\" />\n     <use style=\"fill:#4575b4;fill-opacity:0.7;stroke:#4575b4;stroke-opacity:0.7;stroke-width:0.3;\" x=\"74.262045\" y=\"40.243526\" xlink:href=\"#ma5109590b9\" />\n     <use style=\"fill:#4575b4;fill-opacity:0.7;stroke:#4575b4;stroke-opacity:0.7;stroke-width:0.3;\" x=\"53.265599\" y=\"35.697641\" xlink:href=\"#ma5109590b9\" />\n     <use style=\"fill:#4575b4;fill-opacity:0.7;stroke:#4575b4;stroke-opacity:0.7;stroke-width:0.3;\" x=\"51.226937\" y=\"21.862371\" xlink:href=\"#ma5109590b9\" />\n     <use style=\"fill:#4575b4;fill-opacity:0.7;stroke:#4575b4;stroke-opacity:0.7;stroke-width:0.3;\" x=\"54.241272\" y=\"51.237975\" xlink:href=\"#ma5109590b9\" />\n     <use style=\"fill:#4575b4;fill-opacity:0.7;stroke:#4575b4;stroke-opacity:0.7;stroke-width:0.3;\" x=\"182.151875\" y=\"40.00718\" xlink:href=\"#ma5109590b9\" />\n     <use style=\"fill:#4575b4;fill-opacity:0.7;stroke:#4575b4;stroke-opacity:0.7;stroke-width:0.3;\" x=\"151.605609\" y=\"42.098174\" xlink:href=\"#ma5109590b9\" />\n     <use style=\"fill:#4575b4;fill-opacity:0.7;stroke:#4575b4;stroke-opacity:0.7;stroke-width:0.3;\" x=\"49.859288\" y=\"32.50994\" xlink:href=\"#ma5109590b9\" />\n     <use style=\"fill:#4575b4;fill-opacity:0.7;stroke:#4575b4;stroke-opacity:0.7;stroke-width:0.3;\" x=\"128.760797\" y=\"33.423296\" xlink:href=\"#ma5109590b9\" />\n     <use style=\"fill:#4575b4;fill-opacity:0.7;stroke:#4575b4;stroke-opacity:0.7;stroke-width:0.3;\" x=\"76.019503\" y=\"40.087643\" xlink:href=\"#ma5109590b9\" />\n     <use style=\"fill:#4575b4;fill-opacity:0.7;stroke:#4575b4;stroke-opacity:0.7;stroke-width:0.3;\" x=\"173.716452\" y=\"38.055747\" xlink:href=\"#ma5109590b9\" />\n     <use style=\"fill:#4575b4;fill-opacity:0.7;stroke:#4575b4;stroke-opacity:0.7;stroke-width:0.3;\" x=\"158.637666\" y=\"36.607717\" xlink:href=\"#ma5109590b9\" />\n     <use style=\"fill:#4575b4;fill-opacity:0.7;stroke:#4575b4;stroke-opacity:0.7;stroke-width:0.3;\" x=\"164.016918\" y=\"38.16229\" xlink:href=\"#ma5109590b9\" />\n     <use style=\"fill:#4575b4;fill-opacity:0.7;stroke:#4575b4;stroke-opacity:0.7;stroke-width:0.3;\" x=\"60.903691\" y=\"41.941654\" xlink:href=\"#ma5109590b9\" />\n     <use style=\"fill:#4575b4;fill-opacity:0.7;stroke:#4575b4;stroke-opacity:0.7;stroke-width:0.3;\" x=\"182.151875\" y=\"34.225772\" xlink:href=\"#ma5109590b9\" />\n     <use style=\"fill:#4575b4;fill-opacity:0.7;stroke:#4575b4;stroke-opacity:0.7;stroke-width:0.3;\" x=\"42.651875\" y=\"27.760782\" xlink:href=\"#ma5109590b9\" />\n     <use style=\"fill:#4575b4;fill-opacity:0.7;stroke:#4575b4;stroke-opacity:0.7;stroke-width:0.3;\" x=\"52.904851\" y=\"38.461154\" xlink:href=\"#ma5109590b9\" />\n     <use style=\"fill:#4575b4;fill-opacity:0.7;stroke:#4575b4;stroke-opacity:0.7;stroke-width:0.3;\" x=\"88.494657\" y=\"27.243945\" xlink:href=\"#ma5109590b9\" />\n     <use style=\"fill:#4575b4;fill-opacity:0.7;stroke:#4575b4;stroke-opacity:0.7;stroke-width:0.3;\" x=\"146.996549\" y=\"34.218378\" xlink:href=\"#ma5109590b9\" />\n     <use style=\"fill:#4575b4;fill-opacity:0.7;stroke:#4575b4;stroke-opacity:0.7;stroke-width:0.3;\" x=\"62.250807\" y=\"37.896288\" xlink:href=\"#ma5109590b9\" />\n     <use style=\"fill:#4575b4;fill-opacity:0.7;stroke:#4575b4;stroke-opacity:0.7;stroke-width:0.3;\" x=\"118.955683\" y=\"24.757735\" xlink:href=\"#ma5109590b9\" />\n     <use style=\"fill:#4575b4;fill-opacity:0.7;stroke:#4575b4;stroke-opacity:0.7;stroke-width:0.3;\" x=\"182.151875\" y=\"38.590025\" xlink:href=\"#ma5109590b9\" />\n     <use style=\"fill:#4575b4;fill-opacity:0.7;stroke:#4575b4;stroke-opacity:0.7;stroke-width:0.3;\" x=\"42.651875\" y=\"43.749121\" xlink:href=\"#ma5109590b9\" />\n     <use style=\"fill:#4575b4;fill-opacity:0.7;stroke:#4575b4;stroke-opacity:0.7;stroke-width:0.3;\" x=\"95.024513\" y=\"30.793004\" xlink:href=\"#ma5109590b9\" />\n     <use style=\"fill:#4575b4;fill-opacity:0.7;stroke:#4575b4;stroke-opacity:0.7;stroke-width:0.3;\" x=\"74.152313\" y=\"36.637921\" xlink:href=\"#ma5109590b9\" />\n     <use style=\"fill:#4575b4;fill-opacity:0.7;stroke:#4575b4;stroke-opacity:0.7;stroke-width:0.3;\" x=\"163.480617\" y=\"35.037322\" xlink:href=\"#ma5109590b9\" />\n     <use style=\"fill:#4575b4;fill-opacity:0.7;stroke:#4575b4;stroke-opacity:0.7;stroke-width:0.3;\" x=\"48.128048\" y=\"28.775886\" xlink:href=\"#ma5109590b9\" />\n     <use style=\"fill:#4575b4;fill-opacity:0.7;stroke:#4575b4;stroke-opacity:0.7;stroke-width:0.3;\" x=\"182.151875\" y=\"44.335128\" xlink:href=\"#ma5109590b9\" />\n     <use style=\"fill:#4575b4;fill-opacity:0.7;stroke:#4575b4;stroke-opacity:0.7;stroke-width:0.3;\" x=\"182.151875\" y=\"39.740474\" xlink:href=\"#ma5109590b9\" />\n     <use style=\"fill:#4575b4;fill-opacity:0.7;stroke:#4575b4;stroke-opacity:0.7;stroke-width:0.3;\" x=\"166.083055\" y=\"45.197341\" xlink:href=\"#ma5109590b9\" />\n     <use style=\"fill:#4575b4;fill-opacity:0.7;stroke:#4575b4;stroke-opacity:0.7;stroke-width:0.3;\" x=\"182.151875\" y=\"34.030593\" xlink:href=\"#ma5109590b9\" />\n     <use style=\"fill:#4575b4;fill-opacity:0.7;stroke:#4575b4;stroke-opacity:0.7;stroke-width:0.3;\" x=\"87.168243\" y=\"31.581994\" xlink:href=\"#ma5109590b9\" />\n     <use style=\"fill:#4575b4;fill-opacity:0.7;stroke:#4575b4;stroke-opacity:0.7;stroke-width:0.3;\" x=\"42.651875\" y=\"37.894699\" xlink:href=\"#ma5109590b9\" />\n     <use style=\"fill:#4575b4;fill-opacity:0.7;stroke:#4575b4;stroke-opacity:0.7;stroke-width:0.3;\" x=\"65.076852\" y=\"42.289539\" xlink:href=\"#ma5109590b9\" />\n     <use style=\"fill:#4575b4;fill-opacity:0.7;stroke:#4575b4;stroke-opacity:0.7;stroke-width:0.3;\" x=\"149.624669\" y=\"38.593926\" xlink:href=\"#ma5109590b9\" />\n     <use style=\"fill:#4575b4;fill-opacity:0.7;stroke:#4575b4;stroke-opacity:0.7;stroke-width:0.3;\" x=\"131.519028\" y=\"31.864142\" xlink:href=\"#ma5109590b9\" />\n     <use style=\"fill:#4575b4;fill-opacity:0.7;stroke:#4575b4;stroke-opacity:0.7;stroke-width:0.3;\" x=\"182.151875\" y=\"37.137332\" xlink:href=\"#ma5109590b9\" />\n     <use style=\"fill:#4575b4;fill-opacity:0.7;stroke:#4575b4;stroke-opacity:0.7;stroke-width:0.3;\" x=\"57.99628\" y=\"38.438377\" xlink:href=\"#ma5109590b9\" />\n     <use style=\"fill:#4575b4;fill-opacity:0.7;stroke:#4575b4;stroke-opacity:0.7;stroke-width:0.3;\" x=\"182.151875\" y=\"32.158497\" xlink:href=\"#ma5109590b9\" />\n     <use style=\"fill:#4575b4;fill-opacity:0.7;stroke:#4575b4;stroke-opacity:0.7;stroke-width:0.3;\" x=\"182.151875\" y=\"42.0645\" xlink:href=\"#ma5109590b9\" />\n     <use style=\"fill:#4575b4;fill-opacity:0.7;stroke:#4575b4;stroke-opacity:0.7;stroke-width:0.3;\" x=\"42.651875\" y=\"45.159977\" xlink:href=\"#ma5109590b9\" />\n     <use style=\"fill:#4575b4;fill-opacity:0.7;stroke:#4575b4;stroke-opacity:0.7;stroke-width:0.3;\" x=\"172.177527\" y=\"31.048364\" xlink:href=\"#ma5109590b9\" />\n     <use style=\"fill:#4575b4;fill-opacity:0.7;stroke:#4575b4;stroke-opacity:0.7;stroke-width:0.3;\" x=\"113.796896\" y=\"16.766168\" xlink:href=\"#ma5109590b9\" />\n     <use style=\"fill:#4575b4;fill-opacity:0.7;stroke:#4575b4;stroke-opacity:0.7;stroke-width:0.3;\" x=\"166.528145\" y=\"23.780472\" xlink:href=\"#ma5109590b9\" />\n     <use style=\"fill:#4575b4;fill-opacity:0.7;stroke:#4575b4;stroke-opacity:0.7;stroke-width:0.3;\" x=\"42.651875\" y=\"31.091497\" xlink:href=\"#ma5109590b9\" />\n     <use style=\"fill:#4575b4;fill-opacity:0.7;stroke:#4575b4;stroke-opacity:0.7;stroke-width:0.3;\" x=\"59.195156\" y=\"25.820545\" xlink:href=\"#ma5109590b9\" />\n     <use style=\"fill:#4575b4;fill-opacity:0.7;stroke:#4575b4;stroke-opacity:0.7;stroke-width:0.3;\" x=\"170.836817\" y=\"34.999183\" xlink:href=\"#ma5109590b9\" />\n     <use style=\"fill:#4575b4;fill-opacity:0.7;stroke:#4575b4;stroke-opacity:0.7;stroke-width:0.3;\" x=\"89.218445\" y=\"36.424791\" xlink:href=\"#ma5109590b9\" />\n     <use style=\"fill:#4575b4;fill-opacity:0.7;stroke:#4575b4;stroke-opacity:0.7;stroke-width:0.3;\" x=\"116.027351\" y=\"38.842778\" xlink:href=\"#ma5109590b9\" />\n     <use style=\"fill:#4575b4;fill-opacity:0.7;stroke:#4575b4;stroke-opacity:0.7;stroke-width:0.3;\" x=\"160.947943\" y=\"38.666497\" xlink:href=\"#ma5109590b9\" />\n     <use style=\"fill:#4575b4;fill-opacity:0.7;stroke:#4575b4;stroke-opacity:0.7;stroke-width:0.3;\" x=\"165.692052\" y=\"46.39772\" xlink:href=\"#ma5109590b9\" />\n     <use style=\"fill:#4575b4;fill-opacity:0.7;stroke:#4575b4;stroke-opacity:0.7;stroke-width:0.3;\" x=\"42.651875\" y=\"46.109835\" xlink:href=\"#ma5109590b9\" />\n     <use style=\"fill:#4575b4;fill-opacity:0.7;stroke:#4575b4;stroke-opacity:0.7;stroke-width:0.3;\" x=\"131.802286\" y=\"45.577938\" xlink:href=\"#ma5109590b9\" />\n     <use style=\"fill:#4575b4;fill-opacity:0.7;stroke:#4575b4;stroke-opacity:0.7;stroke-width:0.3;\" x=\"61.609017\" y=\"38.126201\" xlink:href=\"#ma5109590b9\" />\n     <use style=\"fill:#4575b4;fill-opacity:0.7;stroke:#4575b4;stroke-opacity:0.7;stroke-width:0.3;\" x=\"113.343547\" y=\"36.405526\" xlink:href=\"#ma5109590b9\" />\n     <use style=\"fill:#4575b4;fill-opacity:0.7;stroke:#4575b4;stroke-opacity:0.7;stroke-width:0.3;\" x=\"57.877345\" y=\"32.779078\" xlink:href=\"#ma5109590b9\" />\n     <use style=\"fill:#4575b4;fill-opacity:0.7;stroke:#4575b4;stroke-opacity:0.7;stroke-width:0.3;\" x=\"182.151875\" y=\"18.550284\" xlink:href=\"#ma5109590b9\" />\n     <use style=\"fill:#4575b4;fill-opacity:0.7;stroke:#4575b4;stroke-opacity:0.7;stroke-width:0.3;\" x=\"169.317986\" y=\"36.056658\" xlink:href=\"#ma5109590b9\" />\n     <use style=\"fill:#4575b4;fill-opacity:0.7;stroke:#4575b4;stroke-opacity:0.7;stroke-width:0.3;\" x=\"45.093833\" y=\"28.967107\" xlink:href=\"#ma5109590b9\" />\n     <use style=\"fill:#4575b4;fill-opacity:0.7;stroke:#4575b4;stroke-opacity:0.7;stroke-width:0.3;\" x=\"161.50603\" y=\"38.838448\" xlink:href=\"#ma5109590b9\" />\n     <use style=\"fill:#4575b4;fill-opacity:0.7;stroke:#4575b4;stroke-opacity:0.7;stroke-width:0.3;\" x=\"118.399427\" y=\"29.871368\" xlink:href=\"#ma5109590b9\" />\n     <use style=\"fill:#4575b4;fill-opacity:0.7;stroke:#4575b4;stroke-opacity:0.7;stroke-width:0.3;\" x=\"46.190747\" y=\"41.347898\" xlink:href=\"#ma5109590b9\" />\n     <use style=\"fill:#4575b4;fill-opacity:0.7;stroke:#4575b4;stroke-opacity:0.7;stroke-width:0.3;\" x=\"93.240394\" y=\"35.528194\" xlink:href=\"#ma5109590b9\" />\n     <use style=\"fill:#4575b4;fill-opacity:0.7;stroke:#4575b4;stroke-opacity:0.7;stroke-width:0.3;\" x=\"83.107293\" y=\"36.354611\" xlink:href=\"#ma5109590b9\" />\n     <use style=\"fill:#4575b4;fill-opacity:0.7;stroke:#4575b4;stroke-opacity:0.7;stroke-width:0.3;\" x=\"144.644509\" y=\"34.794085\" xlink:href=\"#ma5109590b9\" />\n     <use style=\"fill:#4575b4;fill-opacity:0.7;stroke:#4575b4;stroke-opacity:0.7;stroke-width:0.3;\" x=\"113.071341\" y=\"38.650037\" xlink:href=\"#ma5109590b9\" />\n     <use style=\"fill:#4575b4;fill-opacity:0.7;stroke:#4575b4;stroke-opacity:0.7;stroke-width:0.3;\" x=\"42.651875\" y=\"44.549341\" xlink:href=\"#ma5109590b9\" />\n     <use style=\"fill:#4575b4;fill-opacity:0.7;stroke:#4575b4;stroke-opacity:0.7;stroke-width:0.3;\" x=\"57.105126\" y=\"31.960107\" xlink:href=\"#ma5109590b9\" />\n     <use style=\"fill:#4575b4;fill-opacity:0.7;stroke:#4575b4;stroke-opacity:0.7;stroke-width:0.3;\" x=\"174.61882\" y=\"37.486679\" xlink:href=\"#ma5109590b9\" />\n     <use style=\"fill:#4575b4;fill-opacity:0.7;stroke:#4575b4;stroke-opacity:0.7;stroke-width:0.3;\" x=\"128.065495\" y=\"18.202339\" xlink:href=\"#ma5109590b9\" />\n     <use style=\"fill:#4575b4;fill-opacity:0.7;stroke:#4575b4;stroke-opacity:0.7;stroke-width:0.3;\" x=\"142.555372\" y=\"34.209151\" xlink:href=\"#ma5109590b9\" />\n     <use style=\"fill:#4575b4;fill-opacity:0.7;stroke:#4575b4;stroke-opacity:0.7;stroke-width:0.3;\" x=\"92.074996\" y=\"30.723197\" xlink:href=\"#ma5109590b9\" />\n     <use style=\"fill:#4575b4;fill-opacity:0.7;stroke:#4575b4;stroke-opacity:0.7;stroke-width:0.3;\" x=\"137.563419\" y=\"22.651226\" xlink:href=\"#ma5109590b9\" />\n     <use style=\"fill:#4575b4;fill-opacity:0.7;stroke:#4575b4;stroke-opacity:0.7;stroke-width:0.3;\" x=\"42.651875\" y=\"35.124817\" xlink:href=\"#ma5109590b9\" />\n     <use style=\"fill:#4575b4;fill-opacity:0.7;stroke:#4575b4;stroke-opacity:0.7;stroke-width:0.3;\" x=\"141.974838\" y=\"37.01481\" xlink:href=\"#ma5109590b9\" />\n     <use style=\"fill:#4575b4;fill-opacity:0.7;stroke:#4575b4;stroke-opacity:0.7;stroke-width:0.3;\" x=\"161.330133\" y=\"38.558129\" xlink:href=\"#ma5109590b9\" />\n     <use style=\"fill:#4575b4;fill-opacity:0.7;stroke:#4575b4;stroke-opacity:0.7;stroke-width:0.3;\" x=\"61.917665\" y=\"34.230584\" xlink:href=\"#ma5109590b9\" />\n     <use style=\"fill:#4575b4;fill-opacity:0.7;stroke:#4575b4;stroke-opacity:0.7;stroke-width:0.3;\" x=\"111.371212\" y=\"26.432737\" xlink:href=\"#ma5109590b9\" />\n     <use style=\"fill:#4575b4;fill-opacity:0.7;stroke:#4575b4;stroke-opacity:0.7;stroke-width:0.3;\" x=\"42.651875\" y=\"35.987414\" xlink:href=\"#ma5109590b9\" />\n     <use style=\"fill:#4575b4;fill-opacity:0.7;stroke:#4575b4;stroke-opacity:0.7;stroke-width:0.3;\" x=\"53.694617\" y=\"32.198769\" xlink:href=\"#ma5109590b9\" />\n     <use style=\"fill:#4575b4;fill-opacity:0.7;stroke:#4575b4;stroke-opacity:0.7;stroke-width:0.3;\" x=\"59.251085\" y=\"37.90511\" xlink:href=\"#ma5109590b9\" />\n     <use style=\"fill:#4575b4;fill-opacity:0.7;stroke:#4575b4;stroke-opacity:0.7;stroke-width:0.3;\" x=\"42.651875\" y=\"39.543132\" xlink:href=\"#ma5109590b9\" />\n     <use style=\"fill:#4575b4;fill-opacity:0.7;stroke:#4575b4;stroke-opacity:0.7;stroke-width:0.3;\" x=\"69.5494\" y=\"38.562852\" xlink:href=\"#ma5109590b9\" />\n     <use style=\"fill:#4575b4;fill-opacity:0.7;stroke:#4575b4;stroke-opacity:0.7;stroke-width:0.3;\" x=\"108.467981\" y=\"35.525465\" xlink:href=\"#ma5109590b9\" />\n     <use style=\"fill:#4575b4;fill-opacity:0.7;stroke:#4575b4;stroke-opacity:0.7;stroke-width:0.3;\" x=\"47.796992\" y=\"18.848532\" xlink:href=\"#ma5109590b9\" />\n     <use style=\"fill:#4575b4;fill-opacity:0.7;stroke:#4575b4;stroke-opacity:0.7;stroke-width:0.3;\" x=\"73.343509\" y=\"39.889657\" xlink:href=\"#ma5109590b9\" />\n     <use style=\"fill:#4575b4;fill-opacity:0.7;stroke:#4575b4;stroke-opacity:0.7;stroke-width:0.3;\" x=\"128.24682\" y=\"43.254925\" xlink:href=\"#ma5109590b9\" />\n     <use style=\"fill:#4575b4;fill-opacity:0.7;stroke:#4575b4;stroke-opacity:0.7;stroke-width:0.3;\" x=\"66.057642\" y=\"45.75834\" xlink:href=\"#ma5109590b9\" />\n     <use style=\"fill:#4575b4;fill-opacity:0.7;stroke:#4575b4;stroke-opacity:0.7;stroke-width:0.3;\" x=\"57.291705\" y=\"39.409671\" xlink:href=\"#ma5109590b9\" />\n     <use style=\"fill:#4575b4;fill-opacity:0.7;stroke:#4575b4;stroke-opacity:0.7;stroke-width:0.3;\" x=\"59.810165\" y=\"39.789383\" xlink:href=\"#ma5109590b9\" />\n     <use style=\"fill:#4575b4;fill-opacity:0.7;stroke:#4575b4;stroke-opacity:0.7;stroke-width:0.3;\" x=\"42.651875\" y=\"36.320168\" xlink:href=\"#ma5109590b9\" />\n     <use style=\"fill:#4575b4;fill-opacity:0.7;stroke:#4575b4;stroke-opacity:0.7;stroke-width:0.3;\" x=\"64.777479\" y=\"39.267205\" xlink:href=\"#ma5109590b9\" />\n     <use style=\"fill:#4575b4;fill-opacity:0.7;stroke:#4575b4;stroke-opacity:0.7;stroke-width:0.3;\" x=\"103.480376\" y=\"38.519181\" xlink:href=\"#ma5109590b9\" />\n     <use style=\"fill:#4575b4;fill-opacity:0.7;stroke:#4575b4;stroke-opacity:0.7;stroke-width:0.3;\" x=\"142.183196\" y=\"32.019007\" xlink:href=\"#ma5109590b9\" />\n     <use style=\"fill:#4575b4;fill-opacity:0.7;stroke:#4575b4;stroke-opacity:0.7;stroke-width:0.3;\" x=\"121.966148\" y=\"31.264141\" xlink:href=\"#ma5109590b9\" />\n     <use style=\"fill:#4575b4;fill-opacity:0.7;stroke:#4575b4;stroke-opacity:0.7;stroke-width:0.3;\" x=\"146.997975\" y=\"22.942292\" xlink:href=\"#ma5109590b9\" />\n     <use style=\"fill:#4575b4;fill-opacity:0.7;stroke:#4575b4;stroke-opacity:0.7;stroke-width:0.3;\" x=\"118.687975\" y=\"35.914329\" xlink:href=\"#ma5109590b9\" />\n     <use style=\"fill:#4575b4;fill-opacity:0.7;stroke:#4575b4;stroke-opacity:0.7;stroke-width:0.3;\" x=\"60.956399\" y=\"39.197423\" xlink:href=\"#ma5109590b9\" />\n     <use style=\"fill:#4575b4;fill-opacity:0.7;stroke:#4575b4;stroke-opacity:0.7;stroke-width:0.3;\" x=\"42.728251\" y=\"28.998091\" xlink:href=\"#ma5109590b9\" />\n     <use style=\"fill:#4575b4;fill-opacity:0.7;stroke:#4575b4;stroke-opacity:0.7;stroke-width:0.3;\" x=\"174.346263\" y=\"45.546442\" xlink:href=\"#ma5109590b9\" />\n     <use style=\"fill:#4575b4;fill-opacity:0.7;stroke:#4575b4;stroke-opacity:0.7;stroke-width:0.3;\" x=\"141.764469\" y=\"27.629738\" xlink:href=\"#ma5109590b9\" />\n     <use style=\"fill:#4575b4;fill-opacity:0.7;stroke:#4575b4;stroke-opacity:0.7;stroke-width:0.3;\" x=\"125.96373\" y=\"37.594069\" xlink:href=\"#ma5109590b9\" />\n     <use style=\"fill:#4575b4;fill-opacity:0.7;stroke:#4575b4;stroke-opacity:0.7;stroke-width:0.3;\" x=\"99.115583\" y=\"33.788078\" xlink:href=\"#ma5109590b9\" />\n     <use style=\"fill:#4575b4;fill-opacity:0.7;stroke:#4575b4;stroke-opacity:0.7;stroke-width:0.3;\" x=\"152.531316\" y=\"34.249073\" xlink:href=\"#ma5109590b9\" />\n     <use style=\"fill:#4575b4;fill-opacity:0.7;stroke:#4575b4;stroke-opacity:0.7;stroke-width:0.3;\" x=\"95.229721\" y=\"38.018481\" xlink:href=\"#ma5109590b9\" />\n     <use style=\"fill:#4575b4;fill-opacity:0.7;stroke:#4575b4;stroke-opacity:0.7;stroke-width:0.3;\" x=\"42.651875\" y=\"38.896611\" xlink:href=\"#ma5109590b9\" />\n     <use style=\"fill:#4575b4;fill-opacity:0.7;stroke:#4575b4;stroke-opacity:0.7;stroke-width:0.3;\" x=\"77.553397\" y=\"32.537814\" xlink:href=\"#ma5109590b9\" />\n     <use style=\"fill:#4575b4;fill-opacity:0.7;stroke:#4575b4;stroke-opacity:0.7;stroke-width:0.3;\" x=\"148.348349\" y=\"40.673059\" xlink:href=\"#ma5109590b9\" />\n     <use style=\"fill:#4575b4;fill-opacity:0.7;stroke:#4575b4;stroke-opacity:0.7;stroke-width:0.3;\" x=\"62.9627\" y=\"46.683381\" xlink:href=\"#ma5109590b9\" />\n     <use style=\"fill:#4575b4;fill-opacity:0.7;stroke:#4575b4;stroke-opacity:0.7;stroke-width:0.3;\" x=\"182.151875\" y=\"46.578637\" xlink:href=\"#ma5109590b9\" />\n     <use style=\"fill:#4575b4;fill-opacity:0.7;stroke:#4575b4;stroke-opacity:0.7;stroke-width:0.3;\" x=\"182.151875\" y=\"37.73856\" xlink:href=\"#ma5109590b9\" />\n     <use style=\"fill:#4575b4;fill-opacity:0.7;stroke:#4575b4;stroke-opacity:0.7;stroke-width:0.3;\" x=\"76.835862\" y=\"30.778176\" xlink:href=\"#ma5109590b9\" />\n     <use style=\"fill:#4575b4;fill-opacity:0.7;stroke:#4575b4;stroke-opacity:0.7;stroke-width:0.3;\" x=\"51.149256\" y=\"24.034986\" xlink:href=\"#ma5109590b9\" />\n     <use style=\"fill:#4575b4;fill-opacity:0.7;stroke:#4575b4;stroke-opacity:0.7;stroke-width:0.3;\" x=\"107.702286\" y=\"30.348741\" xlink:href=\"#ma5109590b9\" />\n     <use style=\"fill:#4575b4;fill-opacity:0.7;stroke:#4575b4;stroke-opacity:0.7;stroke-width:0.3;\" x=\"42.651875\" y=\"35.698476\" xlink:href=\"#ma5109590b9\" />\n     <use style=\"fill:#4575b4;fill-opacity:0.7;stroke:#4575b4;stroke-opacity:0.7;stroke-width:0.3;\" x=\"72.400922\" y=\"32.49389\" xlink:href=\"#ma5109590b9\" />\n     <use style=\"fill:#4575b4;fill-opacity:0.7;stroke:#4575b4;stroke-opacity:0.7;stroke-width:0.3;\" x=\"62.812202\" y=\"32.938144\" xlink:href=\"#ma5109590b9\" />\n     <use style=\"fill:#4575b4;fill-opacity:0.7;stroke:#4575b4;stroke-opacity:0.7;stroke-width:0.3;\" x=\"182.151875\" y=\"36.303059\" xlink:href=\"#ma5109590b9\" />\n     <use style=\"fill:#4575b4;fill-opacity:0.7;stroke:#4575b4;stroke-opacity:0.7;stroke-width:0.3;\" x=\"46.76395\" y=\"41.025311\" xlink:href=\"#ma5109590b9\" />\n     <use style=\"fill:#4575b4;fill-opacity:0.7;stroke:#4575b4;stroke-opacity:0.7;stroke-width:0.3;\" x=\"109.890142\" y=\"38.836988\" xlink:href=\"#ma5109590b9\" />\n     <use style=\"fill:#4575b4;fill-opacity:0.7;stroke:#4575b4;stroke-opacity:0.7;stroke-width:0.3;\" x=\"126.351316\" y=\"39.852297\" xlink:href=\"#ma5109590b9\" />\n     <use style=\"fill:#4575b4;fill-opacity:0.7;stroke:#4575b4;stroke-opacity:0.7;stroke-width:0.3;\" x=\"70.632549\" y=\"33.907822\" xlink:href=\"#ma5109590b9\" />\n     <use style=\"fill:#4575b4;fill-opacity:0.7;stroke:#4575b4;stroke-opacity:0.7;stroke-width:0.3;\" x=\"141.919559\" y=\"35.738792\" xlink:href=\"#ma5109590b9\" />\n     <use style=\"fill:#4575b4;fill-opacity:0.7;stroke:#4575b4;stroke-opacity:0.7;stroke-width:0.3;\" x=\"75.931366\" y=\"37.842649\" xlink:href=\"#ma5109590b9\" />\n     <use style=\"fill:#4575b4;fill-opacity:0.7;stroke:#4575b4;stroke-opacity:0.7;stroke-width:0.3;\" x=\"49.304716\" y=\"36.864214\" xlink:href=\"#ma5109590b9\" />\n     <use style=\"fill:#4575b4;fill-opacity:0.7;stroke:#4575b4;stroke-opacity:0.7;stroke-width:0.3;\" x=\"182.151875\" y=\"36.113605\" xlink:href=\"#ma5109590b9\" />\n     <use style=\"fill:#4575b4;fill-opacity:0.7;stroke:#4575b4;stroke-opacity:0.7;stroke-width:0.3;\" x=\"169.457058\" y=\"40.19612\" xlink:href=\"#ma5109590b9\" />\n     <use style=\"fill:#4575b4;fill-opacity:0.7;stroke:#4575b4;stroke-opacity:0.7;stroke-width:0.3;\" x=\"123.173081\" y=\"41.102933\" xlink:href=\"#ma5109590b9\" />\n     <use style=\"fill:#4575b4;fill-opacity:0.7;stroke:#4575b4;stroke-opacity:0.7;stroke-width:0.3;\" x=\"156.214584\" y=\"40.739364\" xlink:href=\"#ma5109590b9\" />\n     <use style=\"fill:#4575b4;fill-opacity:0.7;stroke:#4575b4;stroke-opacity:0.7;stroke-width:0.3;\" x=\"42.651875\" y=\"37.491681\" xlink:href=\"#ma5109590b9\" />\n     <use style=\"fill:#4575b4;fill-opacity:0.7;stroke:#4575b4;stroke-opacity:0.7;stroke-width:0.3;\" x=\"59.159792\" y=\"31.994184\" xlink:href=\"#ma5109590b9\" />\n     <use style=\"fill:#4575b4;fill-opacity:0.7;stroke:#4575b4;stroke-opacity:0.7;stroke-width:0.3;\" x=\"74.21392\" y=\"39.545385\" xlink:href=\"#ma5109590b9\" />\n     <use style=\"fill:#4575b4;fill-opacity:0.7;stroke:#4575b4;stroke-opacity:0.7;stroke-width:0.3;\" x=\"98.590234\" y=\"39.279877\" xlink:href=\"#ma5109590b9\" />\n     <use style=\"fill:#4575b4;fill-opacity:0.7;stroke:#4575b4;stroke-opacity:0.7;stroke-width:0.3;\" x=\"110.961217\" y=\"26.835013\" xlink:href=\"#ma5109590b9\" />\n     <use style=\"fill:#4575b4;fill-opacity:0.7;stroke:#4575b4;stroke-opacity:0.7;stroke-width:0.3;\" x=\"50.140262\" y=\"40.859032\" xlink:href=\"#ma5109590b9\" />\n     <use style=\"fill:#4575b4;fill-opacity:0.7;stroke:#4575b4;stroke-opacity:0.7;stroke-width:0.3;\" x=\"169.863887\" y=\"28.525333\" xlink:href=\"#ma5109590b9\" />\n     <use style=\"fill:#4575b4;fill-opacity:0.7;stroke:#4575b4;stroke-opacity:0.7;stroke-width:0.3;\" x=\"163.456946\" y=\"44.213734\" xlink:href=\"#ma5109590b9\" />\n     <use style=\"fill:#4575b4;fill-opacity:0.7;stroke:#4575b4;stroke-opacity:0.7;stroke-width:0.3;\" x=\"105.938069\" y=\"38.233412\" xlink:href=\"#ma5109590b9\" />\n     <use style=\"fill:#4575b4;fill-opacity:0.7;stroke:#4575b4;stroke-opacity:0.7;stroke-width:0.3;\" x=\"182.151875\" y=\"39.210945\" xlink:href=\"#ma5109590b9\" />\n     <use style=\"fill:#4575b4;fill-opacity:0.7;stroke:#4575b4;stroke-opacity:0.7;stroke-width:0.3;\" x=\"112.483251\" y=\"37.994484\" xlink:href=\"#ma5109590b9\" />\n     <use style=\"fill:#4575b4;fill-opacity:0.7;stroke:#4575b4;stroke-opacity:0.7;stroke-width:0.3;\" x=\"146.997964\" y=\"45.71127\" xlink:href=\"#ma5109590b9\" />\n     <use style=\"fill:#4575b4;fill-opacity:0.7;stroke:#4575b4;stroke-opacity:0.7;stroke-width:0.3;\" x=\"182.151875\" y=\"46.364288\" xlink:href=\"#ma5109590b9\" />\n     <use style=\"fill:#4575b4;fill-opacity:0.7;stroke:#4575b4;stroke-opacity:0.7;stroke-width:0.3;\" x=\"42.651875\" y=\"38.108456\" xlink:href=\"#ma5109590b9\" />\n     <use style=\"fill:#4575b4;fill-opacity:0.7;stroke:#4575b4;stroke-opacity:0.7;stroke-width:0.3;\" x=\"182.151875\" y=\"38.22164\" xlink:href=\"#ma5109590b9\" />\n     <use style=\"fill:#4575b4;fill-opacity:0.7;stroke:#4575b4;stroke-opacity:0.7;stroke-width:0.3;\" x=\"116.644576\" y=\"28.45588\" xlink:href=\"#ma5109590b9\" />\n     <use style=\"fill:#4575b4;fill-opacity:0.7;stroke:#4575b4;stroke-opacity:0.7;stroke-width:0.3;\" x=\"79.550323\" y=\"31.707215\" xlink:href=\"#ma5109590b9\" />\n     <use style=\"fill:#4575b4;fill-opacity:0.7;stroke:#4575b4;stroke-opacity:0.7;stroke-width:0.3;\" x=\"52.591877\" y=\"36.263698\" xlink:href=\"#ma5109590b9\" />\n     <use style=\"fill:#4575b4;fill-opacity:0.7;stroke:#4575b4;stroke-opacity:0.7;stroke-width:0.3;\" x=\"182.151875\" y=\"39.430142\" xlink:href=\"#ma5109590b9\" />\n     <use style=\"fill:#4575b4;fill-opacity:0.7;stroke:#4575b4;stroke-opacity:0.7;stroke-width:0.3;\" x=\"42.651875\" y=\"50.124717\" xlink:href=\"#ma5109590b9\" />\n     <use style=\"fill:#4575b4;fill-opacity:0.7;stroke:#4575b4;stroke-opacity:0.7;stroke-width:0.3;\" x=\"70.797146\" y=\"38.986731\" xlink:href=\"#ma5109590b9\" />\n     <use style=\"fill:#4575b4;fill-opacity:0.7;stroke:#4575b4;stroke-opacity:0.7;stroke-width:0.3;\" x=\"42.651875\" y=\"43.468426\" xlink:href=\"#ma5109590b9\" />\n     <use style=\"fill:#4575b4;fill-opacity:0.7;stroke:#4575b4;stroke-opacity:0.7;stroke-width:0.3;\" x=\"75.824635\" y=\"35.156045\" xlink:href=\"#ma5109590b9\" />\n     <use style=\"fill:#4575b4;fill-opacity:0.7;stroke:#4575b4;stroke-opacity:0.7;stroke-width:0.3;\" x=\"108.432454\" y=\"30.094032\" xlink:href=\"#ma5109590b9\" />\n     <use style=\"fill:#4575b4;fill-opacity:0.7;stroke:#4575b4;stroke-opacity:0.7;stroke-width:0.3;\" x=\"54.832769\" y=\"37.369352\" xlink:href=\"#ma5109590b9\" />\n     <use style=\"fill:#4575b4;fill-opacity:0.7;stroke:#4575b4;stroke-opacity:0.7;stroke-width:0.3;\" x=\"159.705149\" y=\"41.132144\" xlink:href=\"#ma5109590b9\" />\n     <use style=\"fill:#4575b4;fill-opacity:0.7;stroke:#4575b4;stroke-opacity:0.7;stroke-width:0.3;\" x=\"162.342656\" y=\"40.072389\" xlink:href=\"#ma5109590b9\" />\n     <use style=\"fill:#4575b4;fill-opacity:0.7;stroke:#4575b4;stroke-opacity:0.7;stroke-width:0.3;\" x=\"42.651875\" y=\"37.929806\" xlink:href=\"#ma5109590b9\" />\n     <use style=\"fill:#4575b4;fill-opacity:0.7;stroke:#4575b4;stroke-opacity:0.7;stroke-width:0.3;\" x=\"42.651875\" y=\"26.332236\" xlink:href=\"#ma5109590b9\" />\n     <use style=\"fill:#4575b4;fill-opacity:0.7;stroke:#4575b4;stroke-opacity:0.7;stroke-width:0.3;\" x=\"102.075957\" y=\"30.608509\" xlink:href=\"#ma5109590b9\" />\n     <use style=\"fill:#4575b4;fill-opacity:0.7;stroke:#4575b4;stroke-opacity:0.7;stroke-width:0.3;\" x=\"182.151875\" y=\"42.894396\" xlink:href=\"#ma5109590b9\" />\n     <use style=\"fill:#4575b4;fill-opacity:0.7;stroke:#4575b4;stroke-opacity:0.7;stroke-width:0.3;\" x=\"155.18135\" y=\"37.233612\" xlink:href=\"#ma5109590b9\" />\n     <use style=\"fill:#4575b4;fill-opacity:0.7;stroke:#4575b4;stroke-opacity:0.7;stroke-width:0.3;\" x=\"45.790238\" y=\"31.892513\" xlink:href=\"#ma5109590b9\" />\n     <use style=\"fill:#4575b4;fill-opacity:0.7;stroke:#4575b4;stroke-opacity:0.7;stroke-width:0.3;\" x=\"42.651875\" y=\"34.696009\" xlink:href=\"#ma5109590b9\" />\n     <use style=\"fill:#4575b4;fill-opacity:0.7;stroke:#4575b4;stroke-opacity:0.7;stroke-width:0.3;\" x=\"170.991726\" y=\"37.627987\" xlink:href=\"#ma5109590b9\" />\n     <use style=\"fill:#4575b4;fill-opacity:0.7;stroke:#4575b4;stroke-opacity:0.7;stroke-width:0.3;\" x=\"165.970154\" y=\"43.658045\" xlink:href=\"#ma5109590b9\" />\n     <use style=\"fill:#4575b4;fill-opacity:0.7;stroke:#4575b4;stroke-opacity:0.7;stroke-width:0.3;\" x=\"135.488331\" y=\"39.423704\" xlink:href=\"#ma5109590b9\" />\n     <use style=\"fill:#4575b4;fill-opacity:0.7;stroke:#4575b4;stroke-opacity:0.7;stroke-width:0.3;\" x=\"182.151875\" y=\"36.835178\" xlink:href=\"#ma5109590b9\" />\n     <use style=\"fill:#4575b4;fill-opacity:0.7;stroke:#4575b4;stroke-opacity:0.7;stroke-width:0.3;\" x=\"42.651875\" y=\"26.569125\" xlink:href=\"#ma5109590b9\" />\n     <use style=\"fill:#4575b4;fill-opacity:0.7;stroke:#4575b4;stroke-opacity:0.7;stroke-width:0.3;\" x=\"71.622354\" y=\"32.443183\" xlink:href=\"#ma5109590b9\" />\n     <use style=\"fill:#4575b4;fill-opacity:0.7;stroke:#4575b4;stroke-opacity:0.7;stroke-width:0.3;\" x=\"110.963233\" y=\"32.654355\" xlink:href=\"#ma5109590b9\" />\n     <use style=\"fill:#4575b4;fill-opacity:0.7;stroke:#4575b4;stroke-opacity:0.7;stroke-width:0.3;\" x=\"59.352342\" y=\"31.648252\" xlink:href=\"#ma5109590b9\" />\n     <use style=\"fill:#4575b4;fill-opacity:0.7;stroke:#4575b4;stroke-opacity:0.7;stroke-width:0.3;\" x=\"48.906655\" y=\"36.749658\" xlink:href=\"#ma5109590b9\" />\n     <use style=\"fill:#4575b4;fill-opacity:0.7;stroke:#4575b4;stroke-opacity:0.7;stroke-width:0.3;\" x=\"182.151875\" y=\"41.609899\" xlink:href=\"#ma5109590b9\" />\n     <use style=\"fill:#4575b4;fill-opacity:0.7;stroke:#4575b4;stroke-opacity:0.7;stroke-width:0.3;\" x=\"119.098087\" y=\"31.023993\" xlink:href=\"#ma5109590b9\" />\n     <use style=\"fill:#4575b4;fill-opacity:0.7;stroke:#4575b4;stroke-opacity:0.7;stroke-width:0.3;\" x=\"54.077113\" y=\"24.72392\" xlink:href=\"#ma5109590b9\" />\n     <use style=\"fill:#4575b4;fill-opacity:0.7;stroke:#4575b4;stroke-opacity:0.7;stroke-width:0.3;\" x=\"182.151875\" y=\"45.782073\" xlink:href=\"#ma5109590b9\" />\n     <use style=\"fill:#4575b4;fill-opacity:0.7;stroke:#4575b4;stroke-opacity:0.7;stroke-width:0.3;\" x=\"155.540732\" y=\"43.011153\" xlink:href=\"#ma5109590b9\" />\n     <use style=\"fill:#4575b4;fill-opacity:0.7;stroke:#4575b4;stroke-opacity:0.7;stroke-width:0.3;\" x=\"42.651875\" y=\"26.93594\" xlink:href=\"#ma5109590b9\" />\n     <use style=\"fill:#4575b4;fill-opacity:0.7;stroke:#4575b4;stroke-opacity:0.7;stroke-width:0.3;\" x=\"167.074642\" y=\"40.106129\" xlink:href=\"#ma5109590b9\" />\n     <use style=\"fill:#4575b4;fill-opacity:0.7;stroke:#4575b4;stroke-opacity:0.7;stroke-width:0.3;\" x=\"42.651875\" y=\"48.643302\" xlink:href=\"#ma5109590b9\" />\n     <use style=\"fill:#4575b4;fill-opacity:0.7;stroke:#4575b4;stroke-opacity:0.7;stroke-width:0.3;\" x=\"161.649168\" y=\"34.029369\" xlink:href=\"#ma5109590b9\" />\n     <use style=\"fill:#4575b4;fill-opacity:0.7;stroke:#4575b4;stroke-opacity:0.7;stroke-width:0.3;\" x=\"106.283323\" y=\"33.379545\" xlink:href=\"#ma5109590b9\" />\n     <use style=\"fill:#4575b4;fill-opacity:0.7;stroke:#4575b4;stroke-opacity:0.7;stroke-width:0.3;\" x=\"182.151875\" y=\"43.291547\" xlink:href=\"#ma5109590b9\" />\n     <use style=\"fill:#4575b4;fill-opacity:0.7;stroke:#4575b4;stroke-opacity:0.7;stroke-width:0.3;\" x=\"172.66603\" y=\"39.587417\" xlink:href=\"#ma5109590b9\" />\n     <use style=\"fill:#4575b4;fill-opacity:0.7;stroke:#4575b4;stroke-opacity:0.7;stroke-width:0.3;\" x=\"54.576035\" y=\"35.877396\" xlink:href=\"#ma5109590b9\" />\n     <use style=\"fill:#4575b4;fill-opacity:0.7;stroke:#4575b4;stroke-opacity:0.7;stroke-width:0.3;\" x=\"143.143526\" y=\"36.308777\" xlink:href=\"#ma5109590b9\" />\n     <use style=\"fill:#4575b4;fill-opacity:0.7;stroke:#4575b4;stroke-opacity:0.7;stroke-width:0.3;\" x=\"59.779195\" y=\"39.21123\" xlink:href=\"#ma5109590b9\" />\n     <use style=\"fill:#4575b4;fill-opacity:0.7;stroke:#4575b4;stroke-opacity:0.7;stroke-width:0.3;\" x=\"113.934989\" y=\"42.993013\" xlink:href=\"#ma5109590b9\" />\n     <use style=\"fill:#4575b4;fill-opacity:0.7;stroke:#4575b4;stroke-opacity:0.7;stroke-width:0.3;\" x=\"182.151875\" y=\"49.43763\" xlink:href=\"#ma5109590b9\" />\n     <use style=\"fill:#4575b4;fill-opacity:0.7;stroke:#4575b4;stroke-opacity:0.7;stroke-width:0.3;\" x=\"151.366897\" y=\"38.73767\" xlink:href=\"#ma5109590b9\" />\n     <use style=\"fill:#4575b4;fill-opacity:0.7;stroke:#4575b4;stroke-opacity:0.7;stroke-width:0.3;\" x=\"182.151875\" y=\"43.855797\" xlink:href=\"#ma5109590b9\" />\n     <use style=\"fill:#4575b4;fill-opacity:0.7;stroke:#4575b4;stroke-opacity:0.7;stroke-width:0.3;\" x=\"42.651875\" y=\"27.67222\" xlink:href=\"#ma5109590b9\" />\n     <use style=\"fill:#4575b4;fill-opacity:0.7;stroke:#4575b4;stroke-opacity:0.7;stroke-width:0.3;\" x=\"123.54897\" y=\"41.143784\" xlink:href=\"#ma5109590b9\" />\n     <use style=\"fill:#4575b4;fill-opacity:0.7;stroke:#4575b4;stroke-opacity:0.7;stroke-width:0.3;\" x=\"78.921071\" y=\"36.326171\" xlink:href=\"#ma5109590b9\" />\n     <use style=\"fill:#4575b4;fill-opacity:0.7;stroke:#4575b4;stroke-opacity:0.7;stroke-width:0.3;\" x=\"42.651875\" y=\"37.574742\" xlink:href=\"#ma5109590b9\" />\n     <use style=\"fill:#4575b4;fill-opacity:0.7;stroke:#4575b4;stroke-opacity:0.7;stroke-width:0.3;\" x=\"78.664179\" y=\"44.835507\" xlink:href=\"#ma5109590b9\" />\n     <use style=\"fill:#4575b4;fill-opacity:0.7;stroke:#4575b4;stroke-opacity:0.7;stroke-width:0.3;\" x=\"131.375954\" y=\"38.212219\" xlink:href=\"#ma5109590b9\" />\n     <use style=\"fill:#4575b4;fill-opacity:0.7;stroke:#4575b4;stroke-opacity:0.7;stroke-width:0.3;\" x=\"133.605264\" y=\"34.06543\" xlink:href=\"#ma5109590b9\" />\n     <use style=\"fill:#4575b4;fill-opacity:0.7;stroke:#4575b4;stroke-opacity:0.7;stroke-width:0.3;\" x=\"89.051382\" y=\"39.364209\" xlink:href=\"#ma5109590b9\" />\n     <use style=\"fill:#4575b4;fill-opacity:0.7;stroke:#4575b4;stroke-opacity:0.7;stroke-width:0.3;\" x=\"137.175886\" y=\"39.992027\" xlink:href=\"#ma5109590b9\" />\n     <use style=\"fill:#4575b4;fill-opacity:0.7;stroke:#4575b4;stroke-opacity:0.7;stroke-width:0.3;\" x=\"182.151875\" y=\"36.915328\" xlink:href=\"#ma5109590b9\" />\n     <use style=\"fill:#4575b4;fill-opacity:0.7;stroke:#4575b4;stroke-opacity:0.7;stroke-width:0.3;\" x=\"64.795455\" y=\"31.804668\" xlink:href=\"#ma5109590b9\" />\n     <use style=\"fill:#4575b4;fill-opacity:0.7;stroke:#4575b4;stroke-opacity:0.7;stroke-width:0.3;\" x=\"62.380356\" y=\"32.890867\" xlink:href=\"#ma5109590b9\" />\n     <use style=\"fill:#4575b4;fill-opacity:0.7;stroke:#4575b4;stroke-opacity:0.7;stroke-width:0.3;\" x=\"137.860189\" y=\"37.242641\" xlink:href=\"#ma5109590b9\" />\n     <use style=\"fill:#4575b4;fill-opacity:0.7;stroke:#4575b4;stroke-opacity:0.7;stroke-width:0.3;\" x=\"42.651875\" y=\"35.751904\" xlink:href=\"#ma5109590b9\" />\n     <use style=\"fill:#4575b4;fill-opacity:0.7;stroke:#4575b4;stroke-opacity:0.7;stroke-width:0.3;\" x=\"106.728664\" y=\"32.920615\" xlink:href=\"#ma5109590b9\" />\n     <use style=\"fill:#4575b4;fill-opacity:0.7;stroke:#4575b4;stroke-opacity:0.7;stroke-width:0.3;\" x=\"133.296702\" y=\"36.802392\" xlink:href=\"#ma5109590b9\" />\n     <use style=\"fill:#4575b4;fill-opacity:0.7;stroke:#4575b4;stroke-opacity:0.7;stroke-width:0.3;\" x=\"42.651875\" y=\"38.55167\" xlink:href=\"#ma5109590b9\" />\n     <use style=\"fill:#4575b4;fill-opacity:0.7;stroke:#4575b4;stroke-opacity:0.7;stroke-width:0.3;\" x=\"133.06577\" y=\"32.11565\" xlink:href=\"#ma5109590b9\" />\n     <use style=\"fill:#4575b4;fill-opacity:0.7;stroke:#4575b4;stroke-opacity:0.7;stroke-width:0.3;\" x=\"69.352358\" y=\"38.992867\" xlink:href=\"#ma5109590b9\" />\n     <use style=\"fill:#4575b4;fill-opacity:0.7;stroke:#4575b4;stroke-opacity:0.7;stroke-width:0.3;\" x=\"53.302988\" y=\"32.719605\" xlink:href=\"#ma5109590b9\" />\n     <use style=\"fill:#4575b4;fill-opacity:0.7;stroke:#4575b4;stroke-opacity:0.7;stroke-width:0.3;\" x=\"145.344627\" y=\"36.114066\" xlink:href=\"#ma5109590b9\" />\n     <use style=\"fill:#4575b4;fill-opacity:0.7;stroke:#4575b4;stroke-opacity:0.7;stroke-width:0.3;\" x=\"99.002321\" y=\"38.81656\" xlink:href=\"#ma5109590b9\" />\n     <use style=\"fill:#4575b4;fill-opacity:0.7;stroke:#4575b4;stroke-opacity:0.7;stroke-width:0.3;\" x=\"59.395323\" y=\"32.632346\" xlink:href=\"#ma5109590b9\" />\n     <use style=\"fill:#4575b4;fill-opacity:0.7;stroke:#4575b4;stroke-opacity:0.7;stroke-width:0.3;\" x=\"182.151875\" y=\"53.052696\" xlink:href=\"#ma5109590b9\" />\n     <use style=\"fill:#4575b4;fill-opacity:0.7;stroke:#4575b4;stroke-opacity:0.7;stroke-width:0.3;\" x=\"165.41195\" y=\"36.977276\" xlink:href=\"#ma5109590b9\" />\n     <use style=\"fill:#4575b4;fill-opacity:0.7;stroke:#4575b4;stroke-opacity:0.7;stroke-width:0.3;\" x=\"42.651875\" y=\"34.327763\" xlink:href=\"#ma5109590b9\" />\n     <use style=\"fill:#4575b4;fill-opacity:0.7;stroke:#4575b4;stroke-opacity:0.7;stroke-width:0.3;\" x=\"150.764045\" y=\"44.021359\" xlink:href=\"#ma5109590b9\" />\n     <use style=\"fill:#4575b4;fill-opacity:0.7;stroke:#4575b4;stroke-opacity:0.7;stroke-width:0.3;\" x=\"42.651875\" y=\"30.049675\" xlink:href=\"#ma5109590b9\" />\n     <use style=\"fill:#4575b4;fill-opacity:0.7;stroke:#4575b4;stroke-opacity:0.7;stroke-width:0.3;\" x=\"42.651875\" y=\"41.065339\" xlink:href=\"#ma5109590b9\" />\n     <use style=\"fill:#4575b4;fill-opacity:0.7;stroke:#4575b4;stroke-opacity:0.7;stroke-width:0.3;\" x=\"160.461164\" y=\"40.426369\" xlink:href=\"#ma5109590b9\" />\n     <use style=\"fill:#4575b4;fill-opacity:0.7;stroke:#4575b4;stroke-opacity:0.7;stroke-width:0.3;\" x=\"45.066363\" y=\"44.032536\" xlink:href=\"#ma5109590b9\" />\n     <use style=\"fill:#4575b4;fill-opacity:0.7;stroke:#4575b4;stroke-opacity:0.7;stroke-width:0.3;\" x=\"42.651875\" y=\"41.240325\" xlink:href=\"#ma5109590b9\" />\n     <use style=\"fill:#4575b4;fill-opacity:0.7;stroke:#4575b4;stroke-opacity:0.7;stroke-width:0.3;\" x=\"173.514491\" y=\"34.651778\" xlink:href=\"#ma5109590b9\" />\n     <use style=\"fill:#4575b4;fill-opacity:0.7;stroke:#4575b4;stroke-opacity:0.7;stroke-width:0.3;\" x=\"79.61788\" y=\"19.690776\" xlink:href=\"#ma5109590b9\" />\n     <use style=\"fill:#4575b4;fill-opacity:0.7;stroke:#4575b4;stroke-opacity:0.7;stroke-width:0.3;\" x=\"52.312333\" y=\"36.096573\" xlink:href=\"#ma5109590b9\" />\n     <use style=\"fill:#4575b4;fill-opacity:0.7;stroke:#4575b4;stroke-opacity:0.7;stroke-width:0.3;\" x=\"182.151875\" y=\"31.522147\" xlink:href=\"#ma5109590b9\" />\n     <use style=\"fill:#4575b4;fill-opacity:0.7;stroke:#4575b4;stroke-opacity:0.7;stroke-width:0.3;\" x=\"182.151875\" y=\"38.608737\" xlink:href=\"#ma5109590b9\" />\n     <use style=\"fill:#4575b4;fill-opacity:0.7;stroke:#4575b4;stroke-opacity:0.7;stroke-width:0.3;\" x=\"59.048671\" y=\"37.338838\" xlink:href=\"#ma5109590b9\" />\n     <use style=\"fill:#4575b4;fill-opacity:0.7;stroke:#4575b4;stroke-opacity:0.7;stroke-width:0.3;\" x=\"110.377602\" y=\"26.813809\" xlink:href=\"#ma5109590b9\" />\n     <use style=\"fill:#4575b4;fill-opacity:0.7;stroke:#4575b4;stroke-opacity:0.7;stroke-width:0.3;\" x=\"45.292676\" y=\"34.551434\" xlink:href=\"#ma5109590b9\" />\n     <use style=\"fill:#4575b4;fill-opacity:0.7;stroke:#4575b4;stroke-opacity:0.7;stroke-width:0.3;\" x=\"113.36611\" y=\"47.739339\" xlink:href=\"#ma5109590b9\" />\n     <use style=\"fill:#4575b4;fill-opacity:0.7;stroke:#4575b4;stroke-opacity:0.7;stroke-width:0.3;\" x=\"42.651875\" y=\"28.189922\" xlink:href=\"#ma5109590b9\" />\n     <use style=\"fill:#4575b4;fill-opacity:0.7;stroke:#4575b4;stroke-opacity:0.7;stroke-width:0.3;\" x=\"60.132131\" y=\"35.667125\" xlink:href=\"#ma5109590b9\" />\n     <use style=\"fill:#4575b4;fill-opacity:0.7;stroke:#4575b4;stroke-opacity:0.7;stroke-width:0.3;\" x=\"42.651875\" y=\"35.296609\" xlink:href=\"#ma5109590b9\" />\n     <use style=\"fill:#4575b4;fill-opacity:0.7;stroke:#4575b4;stroke-opacity:0.7;stroke-width:0.3;\" x=\"182.151875\" y=\"43.683452\" xlink:href=\"#ma5109590b9\" />\n     <use style=\"fill:#4575b4;fill-opacity:0.7;stroke:#4575b4;stroke-opacity:0.7;stroke-width:0.3;\" x=\"123.283491\" y=\"39.716323\" xlink:href=\"#ma5109590b9\" />\n     <use style=\"fill:#4575b4;fill-opacity:0.7;stroke:#4575b4;stroke-opacity:0.7;stroke-width:0.3;\" x=\"58.828321\" y=\"42.729592\" xlink:href=\"#ma5109590b9\" />\n     <use style=\"fill:#4575b4;fill-opacity:0.7;stroke:#4575b4;stroke-opacity:0.7;stroke-width:0.3;\" x=\"111.601372\" y=\"24.363644\" xlink:href=\"#ma5109590b9\" />\n     <use style=\"fill:#4575b4;fill-opacity:0.7;stroke:#4575b4;stroke-opacity:0.7;stroke-width:0.3;\" x=\"174.758254\" y=\"41.454174\" xlink:href=\"#ma5109590b9\" />\n     <use style=\"fill:#4575b4;fill-opacity:0.7;stroke:#4575b4;stroke-opacity:0.7;stroke-width:0.3;\" x=\"48.435506\" y=\"40.303126\" xlink:href=\"#ma5109590b9\" />\n     <use style=\"fill:#4575b4;fill-opacity:0.7;stroke:#4575b4;stroke-opacity:0.7;stroke-width:0.3;\" x=\"111.859949\" y=\"40.557358\" xlink:href=\"#ma5109590b9\" />\n     <use style=\"fill:#4575b4;fill-opacity:0.7;stroke:#4575b4;stroke-opacity:0.7;stroke-width:0.3;\" x=\"89.747397\" y=\"35.336083\" xlink:href=\"#ma5109590b9\" />\n     <use style=\"fill:#4575b4;fill-opacity:0.7;stroke:#4575b4;stroke-opacity:0.7;stroke-width:0.3;\" x=\"182.151875\" y=\"37.697918\" xlink:href=\"#ma5109590b9\" />\n     <use style=\"fill:#4575b4;fill-opacity:0.7;stroke:#4575b4;stroke-opacity:0.7;stroke-width:0.3;\" x=\"60.074182\" y=\"43.611337\" xlink:href=\"#ma5109590b9\" />\n     <use style=\"fill:#4575b4;fill-opacity:0.7;stroke:#4575b4;stroke-opacity:0.7;stroke-width:0.3;\" x=\"132.467942\" y=\"34.208669\" xlink:href=\"#ma5109590b9\" />\n     <use style=\"fill:#4575b4;fill-opacity:0.7;stroke:#4575b4;stroke-opacity:0.7;stroke-width:0.3;\" x=\"79.843612\" y=\"35.728613\" xlink:href=\"#ma5109590b9\" />\n     <use style=\"fill:#4575b4;fill-opacity:0.7;stroke:#4575b4;stroke-opacity:0.7;stroke-width:0.3;\" x=\"182.151875\" y=\"32.523518\" xlink:href=\"#ma5109590b9\" />\n     <use style=\"fill:#4575b4;fill-opacity:0.7;stroke:#4575b4;stroke-opacity:0.7;stroke-width:0.3;\" x=\"147.207089\" y=\"39.203063\" xlink:href=\"#ma5109590b9\" />\n     <use style=\"fill:#4575b4;fill-opacity:0.7;stroke:#4575b4;stroke-opacity:0.7;stroke-width:0.3;\" x=\"57.835446\" y=\"47.531563\" xlink:href=\"#ma5109590b9\" />\n     <use style=\"fill:#4575b4;fill-opacity:0.7;stroke:#4575b4;stroke-opacity:0.7;stroke-width:0.3;\" x=\"63.017512\" y=\"42.364451\" xlink:href=\"#ma5109590b9\" />\n     <use style=\"fill:#4575b4;fill-opacity:0.7;stroke:#4575b4;stroke-opacity:0.7;stroke-width:0.3;\" x=\"90.375665\" y=\"43.447378\" xlink:href=\"#ma5109590b9\" />\n     <use style=\"fill:#4575b4;fill-opacity:0.7;stroke:#4575b4;stroke-opacity:0.7;stroke-width:0.3;\" x=\"44.909052\" y=\"29.605118\" xlink:href=\"#ma5109590b9\" />\n     <use style=\"fill:#4575b4;fill-opacity:0.7;stroke:#4575b4;stroke-opacity:0.7;stroke-width:0.3;\" x=\"142.563822\" y=\"34.93231\" xlink:href=\"#ma5109590b9\" />\n     <use style=\"fill:#4575b4;fill-opacity:0.7;stroke:#4575b4;stroke-opacity:0.7;stroke-width:0.3;\" x=\"77.93588\" y=\"41.682053\" xlink:href=\"#ma5109590b9\" />\n     <use style=\"fill:#4575b4;fill-opacity:0.7;stroke:#4575b4;stroke-opacity:0.7;stroke-width:0.3;\" x=\"182.151875\" y=\"40.520574\" xlink:href=\"#ma5109590b9\" />\n     <use style=\"fill:#4575b4;fill-opacity:0.7;stroke:#4575b4;stroke-opacity:0.7;stroke-width:0.3;\" x=\"152.857503\" y=\"40.278174\" xlink:href=\"#ma5109590b9\" />\n     <use style=\"fill:#4575b4;fill-opacity:0.7;stroke:#4575b4;stroke-opacity:0.7;stroke-width:0.3;\" x=\"96.915866\" y=\"38.010599\" xlink:href=\"#ma5109590b9\" />\n     <use style=\"fill:#4575b4;fill-opacity:0.7;stroke:#4575b4;stroke-opacity:0.7;stroke-width:0.3;\" x=\"42.651875\" y=\"37.066714\" xlink:href=\"#ma5109590b9\" />\n     <use style=\"fill:#4575b4;fill-opacity:0.7;stroke:#4575b4;stroke-opacity:0.7;stroke-width:0.3;\" x=\"84.484091\" y=\"41.048683\" xlink:href=\"#ma5109590b9\" />\n     <use style=\"fill:#4575b4;fill-opacity:0.7;stroke:#4575b4;stroke-opacity:0.7;stroke-width:0.3;\" x=\"182.151875\" y=\"37.254518\" xlink:href=\"#ma5109590b9\" />\n     <use style=\"fill:#4575b4;fill-opacity:0.7;stroke:#4575b4;stroke-opacity:0.7;stroke-width:0.3;\" x=\"70.536972\" y=\"37.062789\" xlink:href=\"#ma5109590b9\" />\n     <use style=\"fill:#4575b4;fill-opacity:0.7;stroke:#4575b4;stroke-opacity:0.7;stroke-width:0.3;\" x=\"182.151875\" y=\"30.461468\" xlink:href=\"#ma5109590b9\" />\n     <use style=\"fill:#4575b4;fill-opacity:0.7;stroke:#4575b4;stroke-opacity:0.7;stroke-width:0.3;\" x=\"63.622869\" y=\"33.241842\" xlink:href=\"#ma5109590b9\" />\n     <use style=\"fill:#4575b4;fill-opacity:0.7;stroke:#4575b4;stroke-opacity:0.7;stroke-width:0.3;\" x=\"66.470253\" y=\"42.03985\" xlink:href=\"#ma5109590b9\" />\n     <use style=\"fill:#4575b4;fill-opacity:0.7;stroke:#4575b4;stroke-opacity:0.7;stroke-width:0.3;\" x=\"49.548829\" y=\"37.21643\" xlink:href=\"#ma5109590b9\" />\n     <use style=\"fill:#4575b4;fill-opacity:0.7;stroke:#4575b4;stroke-opacity:0.7;stroke-width:0.3;\" x=\"52.821972\" y=\"35.582388\" xlink:href=\"#ma5109590b9\" />\n     <use style=\"fill:#4575b4;fill-opacity:0.7;stroke:#4575b4;stroke-opacity:0.7;stroke-width:0.3;\" x=\"58.679338\" y=\"37.178913\" xlink:href=\"#ma5109590b9\" />\n     <use style=\"fill:#4575b4;fill-opacity:0.7;stroke:#4575b4;stroke-opacity:0.7;stroke-width:0.3;\" x=\"42.651875\" y=\"34.104417\" xlink:href=\"#ma5109590b9\" />\n     <use style=\"fill:#4575b4;fill-opacity:0.7;stroke:#4575b4;stroke-opacity:0.7;stroke-width:0.3;\" x=\"111.42373\" y=\"44.776417\" xlink:href=\"#ma5109590b9\" />\n     <use style=\"fill:#4575b4;fill-opacity:0.7;stroke:#4575b4;stroke-opacity:0.7;stroke-width:0.3;\" x=\"114.102835\" y=\"35.372127\" xlink:href=\"#ma5109590b9\" />\n     <use style=\"fill:#4575b4;fill-opacity:0.7;stroke:#4575b4;stroke-opacity:0.7;stroke-width:0.3;\" x=\"95.25569\" y=\"31.260235\" xlink:href=\"#ma5109590b9\" />\n     <use style=\"fill:#4575b4;fill-opacity:0.7;stroke:#4575b4;stroke-opacity:0.7;stroke-width:0.3;\" x=\"95.49214\" y=\"27.325838\" xlink:href=\"#ma5109590b9\" />\n     <use style=\"fill:#4575b4;fill-opacity:0.7;stroke:#4575b4;stroke-opacity:0.7;stroke-width:0.3;\" x=\"42.651875\" y=\"36.896434\" xlink:href=\"#ma5109590b9\" />\n     <use style=\"fill:#4575b4;fill-opacity:0.7;stroke:#4575b4;stroke-opacity:0.7;stroke-width:0.3;\" x=\"60.896368\" y=\"41.32499\" xlink:href=\"#ma5109590b9\" />\n     <use style=\"fill:#4575b4;fill-opacity:0.7;stroke:#4575b4;stroke-opacity:0.7;stroke-width:0.3;\" x=\"124.399357\" y=\"46.143813\" xlink:href=\"#ma5109590b9\" />\n     <use style=\"fill:#4575b4;fill-opacity:0.7;stroke:#4575b4;stroke-opacity:0.7;stroke-width:0.3;\" x=\"171.545173\" y=\"38.356675\" xlink:href=\"#ma5109590b9\" />\n     <use style=\"fill:#4575b4;fill-opacity:0.7;stroke:#4575b4;stroke-opacity:0.7;stroke-width:0.3;\" x=\"129.860634\" y=\"36.24824\" xlink:href=\"#ma5109590b9\" />\n     <use style=\"fill:#4575b4;fill-opacity:0.7;stroke:#4575b4;stroke-opacity:0.7;stroke-width:0.3;\" x=\"77.823775\" y=\"41.722783\" xlink:href=\"#ma5109590b9\" />\n     <use style=\"fill:#4575b4;fill-opacity:0.7;stroke:#4575b4;stroke-opacity:0.7;stroke-width:0.3;\" x=\"75.067218\" y=\"25.475844\" xlink:href=\"#ma5109590b9\" />\n     <use style=\"fill:#4575b4;fill-opacity:0.7;stroke:#4575b4;stroke-opacity:0.7;stroke-width:0.3;\" x=\"99.752386\" y=\"19.465353\" xlink:href=\"#ma5109590b9\" />\n     <use style=\"fill:#4575b4;fill-opacity:0.7;stroke:#4575b4;stroke-opacity:0.7;stroke-width:0.3;\" x=\"114.624826\" y=\"38.993163\" xlink:href=\"#ma5109590b9\" />\n     <use style=\"fill:#4575b4;fill-opacity:0.7;stroke:#4575b4;stroke-opacity:0.7;stroke-width:0.3;\" x=\"146.579215\" y=\"31.103683\" xlink:href=\"#ma5109590b9\" />\n     <use style=\"fill:#4575b4;fill-opacity:0.7;stroke:#4575b4;stroke-opacity:0.7;stroke-width:0.3;\" x=\"54.507953\" y=\"33.831755\" xlink:href=\"#ma5109590b9\" />\n     <use style=\"fill:#4575b4;fill-opacity:0.7;stroke:#4575b4;stroke-opacity:0.7;stroke-width:0.3;\" x=\"57.850788\" y=\"42.0971\" xlink:href=\"#ma5109590b9\" />\n     <use style=\"fill:#4575b4;fill-opacity:0.7;stroke:#4575b4;stroke-opacity:0.7;stroke-width:0.3;\" x=\"155.129561\" y=\"41.599133\" xlink:href=\"#ma5109590b9\" />\n     <use style=\"fill:#4575b4;fill-opacity:0.7;stroke:#4575b4;stroke-opacity:0.7;stroke-width:0.3;\" x=\"128.861331\" y=\"42.404824\" xlink:href=\"#ma5109590b9\" />\n     <use style=\"fill:#4575b4;fill-opacity:0.7;stroke:#4575b4;stroke-opacity:0.7;stroke-width:0.3;\" x=\"74.903733\" y=\"36.16282\" xlink:href=\"#ma5109590b9\" />\n     <use style=\"fill:#4575b4;fill-opacity:0.7;stroke:#4575b4;stroke-opacity:0.7;stroke-width:0.3;\" x=\"82.037232\" y=\"40.469007\" xlink:href=\"#ma5109590b9\" />\n     <use style=\"fill:#4575b4;fill-opacity:0.7;stroke:#4575b4;stroke-opacity:0.7;stroke-width:0.3;\" x=\"149.434872\" y=\"37.180724\" xlink:href=\"#ma5109590b9\" />\n     <use style=\"fill:#4575b4;fill-opacity:0.7;stroke:#4575b4;stroke-opacity:0.7;stroke-width:0.3;\" x=\"182.151875\" y=\"39.733132\" xlink:href=\"#ma5109590b9\" />\n     <use style=\"fill:#4575b4;fill-opacity:0.7;stroke:#4575b4;stroke-opacity:0.7;stroke-width:0.3;\" x=\"122.46159\" y=\"31.698444\" xlink:href=\"#ma5109590b9\" />\n     <use style=\"fill:#4575b4;fill-opacity:0.7;stroke:#4575b4;stroke-opacity:0.7;stroke-width:0.3;\" x=\"42.651875\" y=\"36.860666\" xlink:href=\"#ma5109590b9\" />\n     <use style=\"fill:#4575b4;fill-opacity:0.7;stroke:#4575b4;stroke-opacity:0.7;stroke-width:0.3;\" x=\"111.745888\" y=\"36.134232\" xlink:href=\"#ma5109590b9\" />\n     <use style=\"fill:#4575b4;fill-opacity:0.7;stroke:#4575b4;stroke-opacity:0.7;stroke-width:0.3;\" x=\"81.298974\" y=\"53.009553\" xlink:href=\"#ma5109590b9\" />\n     <use style=\"fill:#4575b4;fill-opacity:0.7;stroke:#4575b4;stroke-opacity:0.7;stroke-width:0.3;\" x=\"140.204002\" y=\"35.90444\" xlink:href=\"#ma5109590b9\" />\n     <use style=\"fill:#4575b4;fill-opacity:0.7;stroke:#4575b4;stroke-opacity:0.7;stroke-width:0.3;\" x=\"79.027869\" y=\"34.566597\" xlink:href=\"#ma5109590b9\" />\n     <use style=\"fill:#4575b4;fill-opacity:0.7;stroke:#4575b4;stroke-opacity:0.7;stroke-width:0.3;\" x=\"100.113695\" y=\"21.163218\" xlink:href=\"#ma5109590b9\" />\n     <use style=\"fill:#4575b4;fill-opacity:0.7;stroke:#4575b4;stroke-opacity:0.7;stroke-width:0.3;\" x=\"154.38917\" y=\"16.669621\" xlink:href=\"#ma5109590b9\" />\n     <use style=\"fill:#4575b4;fill-opacity:0.7;stroke:#4575b4;stroke-opacity:0.7;stroke-width:0.3;\" x=\"110.494324\" y=\"40.420506\" xlink:href=\"#ma5109590b9\" />\n     <use style=\"fill:#4575b4;fill-opacity:0.7;stroke:#4575b4;stroke-opacity:0.7;stroke-width:0.3;\" x=\"168.89797\" y=\"38.627173\" xlink:href=\"#ma5109590b9\" />\n     <use style=\"fill:#4575b4;fill-opacity:0.7;stroke:#4575b4;stroke-opacity:0.7;stroke-width:0.3;\" x=\"166.736961\" y=\"28.422552\" xlink:href=\"#ma5109590b9\" />\n     <use style=\"fill:#4575b4;fill-opacity:0.7;stroke:#4575b4;stroke-opacity:0.7;stroke-width:0.3;\" x=\"56.088375\" y=\"29.33674\" xlink:href=\"#ma5109590b9\" />\n     <use style=\"fill:#4575b4;fill-opacity:0.7;stroke:#4575b4;stroke-opacity:0.7;stroke-width:0.3;\" x=\"160.276444\" y=\"36.460148\" xlink:href=\"#ma5109590b9\" />\n     <use style=\"fill:#4575b4;fill-opacity:0.7;stroke:#4575b4;stroke-opacity:0.7;stroke-width:0.3;\" x=\"85.790048\" y=\"33.222914\" xlink:href=\"#ma5109590b9\" />\n     <use style=\"fill:#4575b4;fill-opacity:0.7;stroke:#4575b4;stroke-opacity:0.7;stroke-width:0.3;\" x=\"49.449171\" y=\"39.73944\" xlink:href=\"#ma5109590b9\" />\n     <use style=\"fill:#4575b4;fill-opacity:0.7;stroke:#4575b4;stroke-opacity:0.7;stroke-width:0.3;\" x=\"61.792064\" y=\"38.905534\" xlink:href=\"#ma5109590b9\" />\n     <use style=\"fill:#4575b4;fill-opacity:0.7;stroke:#4575b4;stroke-opacity:0.7;stroke-width:0.3;\" x=\"163.825759\" y=\"35.902687\" xlink:href=\"#ma5109590b9\" />\n     <use style=\"fill:#4575b4;fill-opacity:0.7;stroke:#4575b4;stroke-opacity:0.7;stroke-width:0.3;\" x=\"111.73169\" y=\"34.686428\" xlink:href=\"#ma5109590b9\" />\n     <use style=\"fill:#4575b4;fill-opacity:0.7;stroke:#4575b4;stroke-opacity:0.7;stroke-width:0.3;\" x=\"173.503113\" y=\"38.22786\" xlink:href=\"#ma5109590b9\" />\n     <use style=\"fill:#4575b4;fill-opacity:0.7;stroke:#4575b4;stroke-opacity:0.7;stroke-width:0.3;\" x=\"182.151875\" y=\"26.554656\" xlink:href=\"#ma5109590b9\" />\n     <use style=\"fill:#4575b4;fill-opacity:0.7;stroke:#4575b4;stroke-opacity:0.7;stroke-width:0.3;\" x=\"157.083585\" y=\"45.340704\" xlink:href=\"#ma5109590b9\" />\n     <use style=\"fill:#4575b4;fill-opacity:0.7;stroke:#4575b4;stroke-opacity:0.7;stroke-width:0.3;\" x=\"45.165434\" y=\"33.123686\" xlink:href=\"#ma5109590b9\" />\n     <use style=\"fill:#4575b4;fill-opacity:0.7;stroke:#4575b4;stroke-opacity:0.7;stroke-width:0.3;\" x=\"65.781778\" y=\"29.250104\" xlink:href=\"#ma5109590b9\" />\n     <use style=\"fill:#4575b4;fill-opacity:0.7;stroke:#4575b4;stroke-opacity:0.7;stroke-width:0.3;\" x=\"139.463909\" y=\"38.375698\" xlink:href=\"#ma5109590b9\" />\n     <use style=\"fill:#4575b4;fill-opacity:0.7;stroke:#4575b4;stroke-opacity:0.7;stroke-width:0.3;\" x=\"50.598855\" y=\"47.287787\" xlink:href=\"#ma5109590b9\" />\n     <use style=\"fill:#4575b4;fill-opacity:0.7;stroke:#4575b4;stroke-opacity:0.7;stroke-width:0.3;\" x=\"159.966775\" y=\"42.684797\" xlink:href=\"#ma5109590b9\" />\n     <use style=\"fill:#4575b4;fill-opacity:0.7;stroke:#4575b4;stroke-opacity:0.7;stroke-width:0.3;\" x=\"153.255605\" y=\"42.76098\" xlink:href=\"#ma5109590b9\" />\n     <use style=\"fill:#4575b4;fill-opacity:0.7;stroke:#4575b4;stroke-opacity:0.7;stroke-width:0.3;\" x=\"182.151875\" y=\"29.973024\" xlink:href=\"#ma5109590b9\" />\n     <use style=\"fill:#4575b4;fill-opacity:0.7;stroke:#4575b4;stroke-opacity:0.7;stroke-width:0.3;\" x=\"64.128365\" y=\"36.439085\" xlink:href=\"#ma5109590b9\" />\n     <use style=\"fill:#4575b4;fill-opacity:0.7;stroke:#4575b4;stroke-opacity:0.7;stroke-width:0.3;\" x=\"166.704074\" y=\"47.132102\" xlink:href=\"#ma5109590b9\" />\n     <use style=\"fill:#4575b4;fill-opacity:0.7;stroke:#4575b4;stroke-opacity:0.7;stroke-width:0.3;\" x=\"161.969608\" y=\"42.579556\" xlink:href=\"#ma5109590b9\" />\n     <use style=\"fill:#4575b4;fill-opacity:0.7;stroke:#4575b4;stroke-opacity:0.7;stroke-width:0.3;\" x=\"42.651875\" y=\"36.135577\" xlink:href=\"#ma5109590b9\" />\n     <use style=\"fill:#4575b4;fill-opacity:0.7;stroke:#4575b4;stroke-opacity:0.7;stroke-width:0.3;\" x=\"135.000296\" y=\"34.111078\" xlink:href=\"#ma5109590b9\" />\n     <use style=\"fill:#4575b4;fill-opacity:0.7;stroke:#4575b4;stroke-opacity:0.7;stroke-width:0.3;\" x=\"42.651875\" y=\"31.49493\" xlink:href=\"#ma5109590b9\" />\n     <use style=\"fill:#4575b4;fill-opacity:0.7;stroke:#4575b4;stroke-opacity:0.7;stroke-width:0.3;\" x=\"51.36648\" y=\"31.78265\" xlink:href=\"#ma5109590b9\" />\n     <use style=\"fill:#4575b4;fill-opacity:0.7;stroke:#4575b4;stroke-opacity:0.7;stroke-width:0.3;\" x=\"67.674012\" y=\"37.778898\" xlink:href=\"#ma5109590b9\" />\n     <use style=\"fill:#4575b4;fill-opacity:0.7;stroke:#4575b4;stroke-opacity:0.7;stroke-width:0.3;\" x=\"42.651875\" y=\"38.349904\" xlink:href=\"#ma5109590b9\" />\n     <use style=\"fill:#4575b4;fill-opacity:0.7;stroke:#4575b4;stroke-opacity:0.7;stroke-width:0.3;\" x=\"45.658051\" y=\"39.911613\" xlink:href=\"#ma5109590b9\" />\n     <use style=\"fill:#4575b4;fill-opacity:0.7;stroke:#4575b4;stroke-opacity:0.7;stroke-width:0.3;\" x=\"147.632266\" y=\"35.030681\" xlink:href=\"#ma5109590b9\" />\n     <use style=\"fill:#4575b4;fill-opacity:0.7;stroke:#4575b4;stroke-opacity:0.7;stroke-width:0.3;\" x=\"113.578677\" y=\"6.595548\" xlink:href=\"#ma5109590b9\" />\n     <use style=\"fill:#4575b4;fill-opacity:0.7;stroke:#4575b4;stroke-opacity:0.7;stroke-width:0.3;\" x=\"171.689183\" y=\"41.965353\" xlink:href=\"#ma5109590b9\" />\n     <use style=\"fill:#4575b4;fill-opacity:0.7;stroke:#4575b4;stroke-opacity:0.7;stroke-width:0.3;\" x=\"53.518699\" y=\"35.375281\" xlink:href=\"#ma5109590b9\" />\n     <use style=\"fill:#4575b4;fill-opacity:0.7;stroke:#4575b4;stroke-opacity:0.7;stroke-width:0.3;\" x=\"42.651875\" y=\"36.203976\" xlink:href=\"#ma5109590b9\" />\n     <use style=\"fill:#4575b4;fill-opacity:0.7;stroke:#4575b4;stroke-opacity:0.7;stroke-width:0.3;\" x=\"51.526465\" y=\"44.607627\" xlink:href=\"#ma5109590b9\" />\n     <use style=\"fill:#4575b4;fill-opacity:0.7;stroke:#4575b4;stroke-opacity:0.7;stroke-width:0.3;\" x=\"128.437574\" y=\"27.569821\" xlink:href=\"#ma5109590b9\" />\n     <use style=\"fill:#4575b4;fill-opacity:0.7;stroke:#4575b4;stroke-opacity:0.7;stroke-width:0.3;\" x=\"141.832307\" y=\"41.108346\" xlink:href=\"#ma5109590b9\" />\n     <use style=\"fill:#4575b4;fill-opacity:0.7;stroke:#4575b4;stroke-opacity:0.7;stroke-width:0.3;\" x=\"129.580106\" y=\"27.19718\" xlink:href=\"#ma5109590b9\" />\n     <use style=\"fill:#4575b4;fill-opacity:0.7;stroke:#4575b4;stroke-opacity:0.7;stroke-width:0.3;\" x=\"75.393344\" y=\"33.984586\" xlink:href=\"#ma5109590b9\" />\n     <use style=\"fill:#4575b4;fill-opacity:0.7;stroke:#4575b4;stroke-opacity:0.7;stroke-width:0.3;\" x=\"163.154185\" y=\"40.074991\" xlink:href=\"#ma5109590b9\" />\n     <use style=\"fill:#4575b4;fill-opacity:0.7;stroke:#4575b4;stroke-opacity:0.7;stroke-width:0.3;\" x=\"142.591845\" y=\"40.192946\" xlink:href=\"#ma5109590b9\" />\n     <use style=\"fill:#4575b4;fill-opacity:0.7;stroke:#4575b4;stroke-opacity:0.7;stroke-width:0.3;\" x=\"42.651875\" y=\"34.474768\" xlink:href=\"#ma5109590b9\" />\n     <use style=\"fill:#4575b4;fill-opacity:0.7;stroke:#4575b4;stroke-opacity:0.7;stroke-width:0.3;\" x=\"102.936406\" y=\"37.084071\" xlink:href=\"#ma5109590b9\" />\n     <use style=\"fill:#4575b4;fill-opacity:0.7;stroke:#4575b4;stroke-opacity:0.7;stroke-width:0.3;\" x=\"162.073388\" y=\"38.730375\" xlink:href=\"#ma5109590b9\" />\n     <use style=\"fill:#4575b4;fill-opacity:0.7;stroke:#4575b4;stroke-opacity:0.7;stroke-width:0.3;\" x=\"47.747617\" y=\"38.441352\" xlink:href=\"#ma5109590b9\" />\n     <use style=\"fill:#4575b4;fill-opacity:0.7;stroke:#4575b4;stroke-opacity:0.7;stroke-width:0.3;\" x=\"43.047355\" y=\"32.714624\" xlink:href=\"#ma5109590b9\" />\n     <use style=\"fill:#4575b4;fill-opacity:0.7;stroke:#4575b4;stroke-opacity:0.7;stroke-width:0.3;\" x=\"42.651875\" y=\"47.12009\" xlink:href=\"#ma5109590b9\" />\n     <use style=\"fill:#4575b4;fill-opacity:0.7;stroke:#4575b4;stroke-opacity:0.7;stroke-width:0.3;\" x=\"182.151875\" y=\"36.547904\" xlink:href=\"#ma5109590b9\" />\n     <use style=\"fill:#4575b4;fill-opacity:0.7;stroke:#4575b4;stroke-opacity:0.7;stroke-width:0.3;\" x=\"42.651875\" y=\"25.078643\" xlink:href=\"#ma5109590b9\" />\n     <use style=\"fill:#4575b4;fill-opacity:0.7;stroke:#4575b4;stroke-opacity:0.7;stroke-width:0.3;\" x=\"53.128016\" y=\"35.781588\" xlink:href=\"#ma5109590b9\" />\n     <use style=\"fill:#4575b4;fill-opacity:0.7;stroke:#4575b4;stroke-opacity:0.7;stroke-width:0.3;\" x=\"182.151875\" y=\"50.020993\" xlink:href=\"#ma5109590b9\" />\n     <use style=\"fill:#4575b4;fill-opacity:0.7;stroke:#4575b4;stroke-opacity:0.7;stroke-width:0.3;\" x=\"182.151875\" y=\"41.399769\" xlink:href=\"#ma5109590b9\" />\n     <use style=\"fill:#4575b4;fill-opacity:0.7;stroke:#4575b4;stroke-opacity:0.7;stroke-width:0.3;\" x=\"42.651875\" y=\"38.889836\" xlink:href=\"#ma5109590b9\" />\n     <use style=\"fill:#4575b4;fill-opacity:0.7;stroke:#4575b4;stroke-opacity:0.7;stroke-width:0.3;\" x=\"42.651875\" y=\"64.649917\" xlink:href=\"#ma5109590b9\" />\n     <use style=\"fill:#4575b4;fill-opacity:0.7;stroke:#4575b4;stroke-opacity:0.7;stroke-width:0.3;\" x=\"79.480864\" y=\"35.756553\" xlink:href=\"#ma5109590b9\" />\n     <use style=\"fill:#4575b4;fill-opacity:0.7;stroke:#4575b4;stroke-opacity:0.7;stroke-width:0.3;\" x=\"42.651875\" y=\"33.755597\" xlink:href=\"#ma5109590b9\" />\n     <use style=\"fill:#4575b4;fill-opacity:0.7;stroke:#4575b4;stroke-opacity:0.7;stroke-width:0.3;\" x=\"65.193731\" y=\"36.396718\" xlink:href=\"#ma5109590b9\" />\n     <use style=\"fill:#4575b4;fill-opacity:0.7;stroke:#4575b4;stroke-opacity:0.7;stroke-width:0.3;\" x=\"158.05428\" y=\"35.516158\" xlink:href=\"#ma5109590b9\" />\n     <use style=\"fill:#4575b4;fill-opacity:0.7;stroke:#4575b4;stroke-opacity:0.7;stroke-width:0.3;\" x=\"111.930331\" y=\"32.299681\" xlink:href=\"#ma5109590b9\" />\n     <use style=\"fill:#4575b4;fill-opacity:0.7;stroke:#4575b4;stroke-opacity:0.7;stroke-width:0.3;\" x=\"162.064054\" y=\"34.366196\" xlink:href=\"#ma5109590b9\" />\n     <use style=\"fill:#4575b4;fill-opacity:0.7;stroke:#4575b4;stroke-opacity:0.7;stroke-width:0.3;\" x=\"47.818374\" y=\"39.626\" xlink:href=\"#ma5109590b9\" />\n     <use style=\"fill:#4575b4;fill-opacity:0.7;stroke:#4575b4;stroke-opacity:0.7;stroke-width:0.3;\" x=\"42.651875\" y=\"46.731625\" xlink:href=\"#ma5109590b9\" />\n     <use style=\"fill:#4575b4;fill-opacity:0.7;stroke:#4575b4;stroke-opacity:0.7;stroke-width:0.3;\" x=\"174.200145\" y=\"42.081102\" xlink:href=\"#ma5109590b9\" />\n     <use style=\"fill:#4575b4;fill-opacity:0.7;stroke:#4575b4;stroke-opacity:0.7;stroke-width:0.3;\" x=\"116.229073\" y=\"41.044242\" xlink:href=\"#ma5109590b9\" />\n     <use style=\"fill:#4575b4;fill-opacity:0.7;stroke:#4575b4;stroke-opacity:0.7;stroke-width:0.3;\" x=\"107.177915\" y=\"26.971474\" xlink:href=\"#ma5109590b9\" />\n     <use style=\"fill:#4575b4;fill-opacity:0.7;stroke:#4575b4;stroke-opacity:0.7;stroke-width:0.3;\" x=\"131.838392\" y=\"34.645718\" xlink:href=\"#ma5109590b9\" />\n     <use style=\"fill:#4575b4;fill-opacity:0.7;stroke:#4575b4;stroke-opacity:0.7;stroke-width:0.3;\" x=\"116.901237\" y=\"46.617062\" xlink:href=\"#ma5109590b9\" />\n     <use style=\"fill:#4575b4;fill-opacity:0.7;stroke:#4575b4;stroke-opacity:0.7;stroke-width:0.3;\" x=\"100.585601\" y=\"31.715366\" xlink:href=\"#ma5109590b9\" />\n     <use style=\"fill:#4575b4;fill-opacity:0.7;stroke:#4575b4;stroke-opacity:0.7;stroke-width:0.3;\" x=\"42.651875\" y=\"29.232148\" xlink:href=\"#ma5109590b9\" />\n     <use style=\"fill:#4575b4;fill-opacity:0.7;stroke:#4575b4;stroke-opacity:0.7;stroke-width:0.3;\" x=\"182.151875\" y=\"37.342877\" xlink:href=\"#ma5109590b9\" />\n     <use style=\"fill:#4575b4;fill-opacity:0.7;stroke:#4575b4;stroke-opacity:0.7;stroke-width:0.3;\" x=\"182.151875\" y=\"42.748843\" xlink:href=\"#ma5109590b9\" />\n     <use style=\"fill:#4575b4;fill-opacity:0.7;stroke:#4575b4;stroke-opacity:0.7;stroke-width:0.3;\" x=\"64.254357\" y=\"35.828626\" xlink:href=\"#ma5109590b9\" />\n     <use style=\"fill:#4575b4;fill-opacity:0.7;stroke:#4575b4;stroke-opacity:0.7;stroke-width:0.3;\" x=\"92.805495\" y=\"42.640218\" xlink:href=\"#ma5109590b9\" />\n     <use style=\"fill:#4575b4;fill-opacity:0.7;stroke:#4575b4;stroke-opacity:0.7;stroke-width:0.3;\" x=\"144.006801\" y=\"35.577357\" xlink:href=\"#ma5109590b9\" />\n     <use style=\"fill:#4575b4;fill-opacity:0.7;stroke:#4575b4;stroke-opacity:0.7;stroke-width:0.3;\" x=\"172.114063\" y=\"32.698335\" xlink:href=\"#ma5109590b9\" />\n     <use style=\"fill:#4575b4;fill-opacity:0.7;stroke:#4575b4;stroke-opacity:0.7;stroke-width:0.3;\" x=\"66.079085\" y=\"36.099247\" xlink:href=\"#ma5109590b9\" />\n     <use style=\"fill:#4575b4;fill-opacity:0.7;stroke:#4575b4;stroke-opacity:0.7;stroke-width:0.3;\" x=\"145.041663\" y=\"44.762582\" xlink:href=\"#ma5109590b9\" />\n     <use style=\"fill:#4575b4;fill-opacity:0.7;stroke:#4575b4;stroke-opacity:0.7;stroke-width:0.3;\" x=\"103.727629\" y=\"33.740369\" xlink:href=\"#ma5109590b9\" />\n     <use style=\"fill:#4575b4;fill-opacity:0.7;stroke:#4575b4;stroke-opacity:0.7;stroke-width:0.3;\" x=\"42.651875\" y=\"43.151981\" xlink:href=\"#ma5109590b9\" />\n     <use style=\"fill:#4575b4;fill-opacity:0.7;stroke:#4575b4;stroke-opacity:0.7;stroke-width:0.3;\" x=\"93.815441\" y=\"40.347002\" xlink:href=\"#ma5109590b9\" />\n     <use style=\"fill:#4575b4;fill-opacity:0.7;stroke:#4575b4;stroke-opacity:0.7;stroke-width:0.3;\" x=\"45.777326\" y=\"33.646854\" xlink:href=\"#ma5109590b9\" />\n     <use style=\"fill:#4575b4;fill-opacity:0.7;stroke:#4575b4;stroke-opacity:0.7;stroke-width:0.3;\" x=\"105.970844\" y=\"19.025691\" xlink:href=\"#ma5109590b9\" />\n     <use style=\"fill:#4575b4;fill-opacity:0.7;stroke:#4575b4;stroke-opacity:0.7;stroke-width:0.3;\" x=\"174.340324\" y=\"41.889669\" xlink:href=\"#ma5109590b9\" />\n     <use style=\"fill:#4575b4;fill-opacity:0.7;stroke:#4575b4;stroke-opacity:0.7;stroke-width:0.3;\" x=\"75.852166\" y=\"39.579341\" xlink:href=\"#ma5109590b9\" />\n     <use style=\"fill:#4575b4;fill-opacity:0.7;stroke:#4575b4;stroke-opacity:0.7;stroke-width:0.3;\" x=\"42.651875\" y=\"41.220725\" xlink:href=\"#ma5109590b9\" />\n     <use style=\"fill:#4575b4;fill-opacity:0.7;stroke:#4575b4;stroke-opacity:0.7;stroke-width:0.3;\" x=\"103.474171\" y=\"41.813914\" xlink:href=\"#ma5109590b9\" />\n     <use style=\"fill:#4575b4;fill-opacity:0.7;stroke:#4575b4;stroke-opacity:0.7;stroke-width:0.3;\" x=\"61.730263\" y=\"35.465288\" xlink:href=\"#ma5109590b9\" />\n     <use style=\"fill:#4575b4;fill-opacity:0.7;stroke:#4575b4;stroke-opacity:0.7;stroke-width:0.3;\" x=\"79.201972\" y=\"39.208237\" xlink:href=\"#ma5109590b9\" />\n     <use style=\"fill:#4575b4;fill-opacity:0.7;stroke:#4575b4;stroke-opacity:0.7;stroke-width:0.3;\" x=\"42.651875\" y=\"36.631223\" xlink:href=\"#ma5109590b9\" />\n     <use style=\"fill:#4575b4;fill-opacity:0.7;stroke:#4575b4;stroke-opacity:0.7;stroke-width:0.3;\" x=\"160.166853\" y=\"36.245287\" xlink:href=\"#ma5109590b9\" />\n     <use style=\"fill:#4575b4;fill-opacity:0.7;stroke:#4575b4;stroke-opacity:0.7;stroke-width:0.3;\" x=\"59.770871\" y=\"34.336605\" xlink:href=\"#ma5109590b9\" />\n     <use style=\"fill:#4575b4;fill-opacity:0.7;stroke:#4575b4;stroke-opacity:0.7;stroke-width:0.3;\" x=\"96.854929\" y=\"39.862748\" xlink:href=\"#ma5109590b9\" />\n     <use style=\"fill:#4575b4;fill-opacity:0.7;stroke:#4575b4;stroke-opacity:0.7;stroke-width:0.3;\" x=\"42.651875\" y=\"27.699859\" xlink:href=\"#ma5109590b9\" />\n     <use style=\"fill:#4575b4;fill-opacity:0.7;stroke:#4575b4;stroke-opacity:0.7;stroke-width:0.3;\" x=\"42.651875\" y=\"34.704709\" xlink:href=\"#ma5109590b9\" />\n     <use style=\"fill:#4575b4;fill-opacity:0.7;stroke:#4575b4;stroke-opacity:0.7;stroke-width:0.3;\" x=\"61.765232\" y=\"38.722729\" xlink:href=\"#ma5109590b9\" />\n     <use style=\"fill:#4575b4;fill-opacity:0.7;stroke:#4575b4;stroke-opacity:0.7;stroke-width:0.3;\" x=\"109.282713\" y=\"35.977478\" xlink:href=\"#ma5109590b9\" />\n     <use style=\"fill:#4575b4;fill-opacity:0.7;stroke:#4575b4;stroke-opacity:0.7;stroke-width:0.3;\" x=\"45.682417\" y=\"39.125458\" xlink:href=\"#ma5109590b9\" />\n     <use style=\"fill:#4575b4;fill-opacity:0.7;stroke:#4575b4;stroke-opacity:0.7;stroke-width:0.3;\" x=\"166.806907\" y=\"41.312864\" xlink:href=\"#ma5109590b9\" />\n     <use style=\"fill:#4575b4;fill-opacity:0.7;stroke:#4575b4;stroke-opacity:0.7;stroke-width:0.3;\" x=\"60.4238\" y=\"37.166255\" xlink:href=\"#ma5109590b9\" />\n     <use style=\"fill:#4575b4;fill-opacity:0.7;stroke:#4575b4;stroke-opacity:0.7;stroke-width:0.3;\" x=\"42.651875\" y=\"35.688786\" xlink:href=\"#ma5109590b9\" />\n     <use style=\"fill:#4575b4;fill-opacity:0.7;stroke:#4575b4;stroke-opacity:0.7;stroke-width:0.3;\" x=\"50.308703\" y=\"51.498414\" xlink:href=\"#ma5109590b9\" />\n     <use style=\"fill:#4575b4;fill-opacity:0.7;stroke:#4575b4;stroke-opacity:0.7;stroke-width:0.3;\" x=\"182.151875\" y=\"32.822404\" xlink:href=\"#ma5109590b9\" />\n     <use style=\"fill:#4575b4;fill-opacity:0.7;stroke:#4575b4;stroke-opacity:0.7;stroke-width:0.3;\" x=\"42.651875\" y=\"39.576401\" xlink:href=\"#ma5109590b9\" />\n     <use style=\"fill:#4575b4;fill-opacity:0.7;stroke:#4575b4;stroke-opacity:0.7;stroke-width:0.3;\" x=\"157.459868\" y=\"38.862696\" xlink:href=\"#ma5109590b9\" />\n     <use style=\"fill:#4575b4;fill-opacity:0.7;stroke:#4575b4;stroke-opacity:0.7;stroke-width:0.3;\" x=\"49.271038\" y=\"34.433738\" xlink:href=\"#ma5109590b9\" />\n     <use style=\"fill:#4575b4;fill-opacity:0.7;stroke:#4575b4;stroke-opacity:0.7;stroke-width:0.3;\" x=\"148.439762\" y=\"35.121064\" xlink:href=\"#ma5109590b9\" />\n     <use style=\"fill:#4575b4;fill-opacity:0.7;stroke:#4575b4;stroke-opacity:0.7;stroke-width:0.3;\" x=\"150.749805\" y=\"37.437993\" xlink:href=\"#ma5109590b9\" />\n     <use style=\"fill:#4575b4;fill-opacity:0.7;stroke:#4575b4;stroke-opacity:0.7;stroke-width:0.3;\" x=\"90.472431\" y=\"37.273953\" xlink:href=\"#ma5109590b9\" />\n     <use style=\"fill:#4575b4;fill-opacity:0.7;stroke:#4575b4;stroke-opacity:0.7;stroke-width:0.3;\" x=\"42.651875\" y=\"33.05685\" xlink:href=\"#ma5109590b9\" />\n     <use style=\"fill:#4575b4;fill-opacity:0.7;stroke:#4575b4;stroke-opacity:0.7;stroke-width:0.3;\" x=\"42.651875\" y=\"42.392507\" xlink:href=\"#ma5109590b9\" />\n     <use style=\"fill:#4575b4;fill-opacity:0.7;stroke:#4575b4;stroke-opacity:0.7;stroke-width:0.3;\" x=\"72.510531\" y=\"31.393224\" xlink:href=\"#ma5109590b9\" />\n     <use style=\"fill:#4575b4;fill-opacity:0.7;stroke:#4575b4;stroke-opacity:0.7;stroke-width:0.3;\" x=\"92.894768\" y=\"33.494256\" xlink:href=\"#ma5109590b9\" />\n     <use style=\"fill:#4575b4;fill-opacity:0.7;stroke:#4575b4;stroke-opacity:0.7;stroke-width:0.3;\" x=\"138.209056\" y=\"32.913395\" xlink:href=\"#ma5109590b9\" />\n     <use style=\"fill:#4575b4;fill-opacity:0.7;stroke:#4575b4;stroke-opacity:0.7;stroke-width:0.3;\" x=\"138.625463\" y=\"43.635212\" xlink:href=\"#ma5109590b9\" />\n     <use style=\"fill:#4575b4;fill-opacity:0.7;stroke:#4575b4;stroke-opacity:0.7;stroke-width:0.3;\" x=\"73.843629\" y=\"38.386118\" xlink:href=\"#ma5109590b9\" />\n     <use style=\"fill:#4575b4;fill-opacity:0.7;stroke:#4575b4;stroke-opacity:0.7;stroke-width:0.3;\" x=\"182.151875\" y=\"39.170664\" xlink:href=\"#ma5109590b9\" />\n     <use style=\"fill:#4575b4;fill-opacity:0.7;stroke:#4575b4;stroke-opacity:0.7;stroke-width:0.3;\" x=\"76.461957\" y=\"38.354516\" xlink:href=\"#ma5109590b9\" />\n     <use style=\"fill:#4575b4;fill-opacity:0.7;stroke:#4575b4;stroke-opacity:0.7;stroke-width:0.3;\" x=\"128.311258\" y=\"31.203229\" xlink:href=\"#ma5109590b9\" />\n     <use style=\"fill:#4575b4;fill-opacity:0.7;stroke:#4575b4;stroke-opacity:0.7;stroke-width:0.3;\" x=\"71.194239\" y=\"36.469633\" xlink:href=\"#ma5109590b9\" />\n     <use style=\"fill:#4575b4;fill-opacity:0.7;stroke:#4575b4;stroke-opacity:0.7;stroke-width:0.3;\" x=\"172.941482\" y=\"40.093615\" xlink:href=\"#ma5109590b9\" />\n     <use style=\"fill:#4575b4;fill-opacity:0.7;stroke:#4575b4;stroke-opacity:0.7;stroke-width:0.3;\" x=\"165.090499\" y=\"37.992443\" xlink:href=\"#ma5109590b9\" />\n     <use style=\"fill:#4575b4;fill-opacity:0.7;stroke:#4575b4;stroke-opacity:0.7;stroke-width:0.3;\" x=\"98.311488\" y=\"39.435944\" xlink:href=\"#ma5109590b9\" />\n     <use style=\"fill:#4575b4;fill-opacity:0.7;stroke:#4575b4;stroke-opacity:0.7;stroke-width:0.3;\" x=\"42.651875\" y=\"28.038886\" xlink:href=\"#ma5109590b9\" />\n     <use style=\"fill:#4575b4;fill-opacity:0.7;stroke:#4575b4;stroke-opacity:0.7;stroke-width:0.3;\" x=\"182.151875\" y=\"39.693954\" xlink:href=\"#ma5109590b9\" />\n     <use style=\"fill:#4575b4;fill-opacity:0.7;stroke:#4575b4;stroke-opacity:0.7;stroke-width:0.3;\" x=\"42.651875\" y=\"35.953581\" xlink:href=\"#ma5109590b9\" />\n     <use style=\"fill:#4575b4;fill-opacity:0.7;stroke:#4575b4;stroke-opacity:0.7;stroke-width:0.3;\" x=\"79.619708\" y=\"35.286439\" xlink:href=\"#ma5109590b9\" />\n     <use style=\"fill:#4575b4;fill-opacity:0.7;stroke:#4575b4;stroke-opacity:0.7;stroke-width:0.3;\" x=\"174.897815\" y=\"36.937248\" xlink:href=\"#ma5109590b9\" />\n     <use style=\"fill:#4575b4;fill-opacity:0.7;stroke:#4575b4;stroke-opacity:0.7;stroke-width:0.3;\" x=\"117.29314\" y=\"40.004354\" xlink:href=\"#ma5109590b9\" />\n     <use style=\"fill:#4575b4;fill-opacity:0.7;stroke:#4575b4;stroke-opacity:0.7;stroke-width:0.3;\" x=\"52.714115\" y=\"35.092173\" xlink:href=\"#ma5109590b9\" />\n     <use style=\"fill:#4575b4;fill-opacity:0.7;stroke:#4575b4;stroke-opacity:0.7;stroke-width:0.3;\" x=\"50.462407\" y=\"33.685838\" xlink:href=\"#ma5109590b9\" />\n     <use style=\"fill:#4575b4;fill-opacity:0.7;stroke:#4575b4;stroke-opacity:0.7;stroke-width:0.3;\" x=\"182.151875\" y=\"42.478764\" xlink:href=\"#ma5109590b9\" />\n     <use style=\"fill:#4575b4;fill-opacity:0.7;stroke:#4575b4;stroke-opacity:0.7;stroke-width:0.3;\" x=\"182.151875\" y=\"42.570373\" xlink:href=\"#ma5109590b9\" />\n     <use style=\"fill:#4575b4;fill-opacity:0.7;stroke:#4575b4;stroke-opacity:0.7;stroke-width:0.3;\" x=\"59.987054\" y=\"20.08102\" xlink:href=\"#ma5109590b9\" />\n     <use style=\"fill:#4575b4;fill-opacity:0.7;stroke:#4575b4;stroke-opacity:0.7;stroke-width:0.3;\" x=\"166.248575\" y=\"19.392552\" xlink:href=\"#ma5109590b9\" />\n     <use style=\"fill:#4575b4;fill-opacity:0.7;stroke:#4575b4;stroke-opacity:0.7;stroke-width:0.3;\" x=\"59.720743\" y=\"31.296558\" xlink:href=\"#ma5109590b9\" />\n     <use style=\"fill:#4575b4;fill-opacity:0.7;stroke:#4575b4;stroke-opacity:0.7;stroke-width:0.3;\" x=\"182.151875\" y=\"38.401055\" xlink:href=\"#ma5109590b9\" />\n     <use style=\"fill:#4575b4;fill-opacity:0.7;stroke:#4575b4;stroke-opacity:0.7;stroke-width:0.3;\" x=\"151.828005\" y=\"32.801752\" xlink:href=\"#ma5109590b9\" />\n     <use style=\"fill:#4575b4;fill-opacity:0.7;stroke:#4575b4;stroke-opacity:0.7;stroke-width:0.3;\" x=\"42.651875\" y=\"39.476746\" xlink:href=\"#ma5109590b9\" />\n     <use style=\"fill:#4575b4;fill-opacity:0.7;stroke:#4575b4;stroke-opacity:0.7;stroke-width:0.3;\" x=\"141.040681\" y=\"35.582718\" xlink:href=\"#ma5109590b9\" />\n     <use style=\"fill:#4575b4;fill-opacity:0.7;stroke:#4575b4;stroke-opacity:0.7;stroke-width:0.3;\" x=\"42.651875\" y=\"36.442375\" xlink:href=\"#ma5109590b9\" />\n     <use style=\"fill:#4575b4;fill-opacity:0.7;stroke:#4575b4;stroke-opacity:0.7;stroke-width:0.3;\" x=\"42.651875\" y=\"28.007252\" xlink:href=\"#ma5109590b9\" />\n     <use style=\"fill:#4575b4;fill-opacity:0.7;stroke:#4575b4;stroke-opacity:0.7;stroke-width:0.3;\" x=\"162.953692\" y=\"34.869379\" xlink:href=\"#ma5109590b9\" />\n     <use style=\"fill:#4575b4;fill-opacity:0.7;stroke:#4575b4;stroke-opacity:0.7;stroke-width:0.3;\" x=\"68.320396\" y=\"38.821645\" xlink:href=\"#ma5109590b9\" />\n     <use style=\"fill:#4575b4;fill-opacity:0.7;stroke:#4575b4;stroke-opacity:0.7;stroke-width:0.3;\" x=\"51.958342\" y=\"33.284197\" xlink:href=\"#ma5109590b9\" />\n     <use style=\"fill:#4575b4;fill-opacity:0.7;stroke:#4575b4;stroke-opacity:0.7;stroke-width:0.3;\" x=\"182.151875\" y=\"39.813667\" xlink:href=\"#ma5109590b9\" />\n     <use style=\"fill:#4575b4;fill-opacity:0.7;stroke:#4575b4;stroke-opacity:0.7;stroke-width:0.3;\" x=\"82.430751\" y=\"35.736315\" xlink:href=\"#ma5109590b9\" />\n     <use style=\"fill:#4575b4;fill-opacity:0.7;stroke:#4575b4;stroke-opacity:0.7;stroke-width:0.3;\" x=\"42.651875\" y=\"29.245911\" xlink:href=\"#ma5109590b9\" />\n     <use style=\"fill:#4575b4;fill-opacity:0.7;stroke:#4575b4;stroke-opacity:0.7;stroke-width:0.3;\" x=\"42.651875\" y=\"33.393334\" xlink:href=\"#ma5109590b9\" />\n    </g>\n   </g>\n   <g id=\"patch_3\">\n    <path d=\"M 155.051771 65.400344  L 152.540771 71.379944  L 157.562771 71.379944  z \" style=\"fill:#444443;\" />\n   </g>\n   <g id=\"matplotlib.axis_1\">\n    <g id=\"xtick_1\">\n     <g id=\"line2d_1\">\n      <defs>\n       <path d=\"M 0 0  L 0 3.5  \" id=\"mfb52a7c735\" style=\"stroke:#444443;stroke-width:0.3;\" />\n      </defs>\n      <g>\n       <use style=\"fill:#444443;stroke:#444443;stroke-width:0.3;\" x=\"42.651875\" y=\"65.400344\" xlink:href=\"#mfb52a7c735\" />\n      </g>\n     </g>\n     <g id=\"text_1\">\n      \n      <defs>\n       <path d=\"M 31.78125 66.40625  Q 24.171875 66.40625 20.328125 58.90625  Q 16.5 51.421875 16.5 36.375  Q 16.5 21.390625 20.328125 13.890625  Q 24.171875 6.390625 31.78125 6.390625  Q 39.453125 6.390625 43.28125 13.890625  Q 47.125 21.390625 47.125 36.375  Q 47.125 51.421875 43.28125 58.90625  Q 39.453125 66.40625 31.78125 66.40625  z M 31.78125 74.21875  Q 44.046875 74.21875 50.515625 64.515625  Q 56.984375 54.828125 56.984375 36.375  Q 56.984375 17.96875 50.515625 8.265625  Q 44.046875 -1.421875 31.78125 -1.421875  Q 19.53125 -1.421875 13.0625 8.265625  Q 6.59375 17.96875 6.59375 36.375  Q 6.59375 54.828125 13.0625 64.515625  Q 19.53125 74.21875 31.78125 74.21875  z \" id=\"DejaVuSans-48\" />\n       <path d=\"M 10.6875 12.40625  L 21 12.40625  L 21 0  L 10.6875 0  z \" id=\"DejaVuSans-46\" />\n      </defs>\n      <g style=\"fill:#444443;\" transform=\"translate(36.290625 78.479094)scale(0.08 -0.08)\">\n       <use xlink:href=\"#DejaVuSans-48\" />\n       <use x=\"63.623047\" xlink:href=\"#DejaVuSans-46\" />\n       <use x=\"95.410156\" xlink:href=\"#DejaVuSans-48\" />\n      </g>\n     </g>\n    </g>\n    <g id=\"xtick_2\">\n     <g id=\"line2d_2\">\n      <g>\n       <use style=\"fill:#444443;stroke:#444443;stroke-width:0.3;\" x=\"182.151875\" y=\"65.400344\" xlink:href=\"#mfb52a7c735\" />\n      </g>\n     </g>\n     <g id=\"text_2\">\n      \n      <defs>\n       <path d=\"M 12.40625 8.296875  L 28.515625 8.296875  L 28.515625 63.921875  L 10.984375 60.40625  L 10.984375 69.390625  L 28.421875 72.90625  L 38.28125 72.90625  L 38.28125 8.296875  L 54.390625 8.296875  L 54.390625 0  L 12.40625 0  z \" id=\"DejaVuSans-49\" />\n      </defs>\n      <g style=\"fill:#444443;\" transform=\"translate(170.700625 78.479094)scale(0.08 -0.08)\">\n       <use xlink:href=\"#DejaVuSans-49\" />\n       <use x=\"63.623047\" xlink:href=\"#DejaVuSans-48\" />\n       <use x=\"127.246094\" xlink:href=\"#DejaVuSans-48\" />\n       <use x=\"190.869141\" xlink:href=\"#DejaVuSans-46\" />\n       <use x=\"222.65625\" xlink:href=\"#DejaVuSans-48\" />\n      </g>\n     </g>\n    </g>\n    <g id=\"xtick_3\">\n     <g id=\"line2d_3\">\n      <g>\n       <use style=\"fill:#444443;stroke:#444443;stroke-width:0.3;\" x=\"155.051771\" y=\"65.400344\" xlink:href=\"#mfb52a7c735\" />\n      </g>\n     </g>\n     <g id=\"text_3\">\n      \n      <defs>\n       <path d=\"M 31.78125 34.625  Q 24.75 34.625 20.71875 30.859375  Q 16.703125 27.09375 16.703125 20.515625  Q 16.703125 13.921875 20.71875 10.15625  Q 24.75 6.390625 31.78125 6.390625  Q 38.8125 6.390625 42.859375 10.171875  Q 46.921875 13.96875 46.921875 20.515625  Q 46.921875 27.09375 42.890625 30.859375  Q 38.875 34.625 31.78125 34.625  z M 21.921875 38.8125  Q 15.578125 40.375 12.03125 44.71875  Q 8.5 49.078125 8.5 55.328125  Q 8.5 64.0625 14.71875 69.140625  Q 20.953125 74.21875 31.78125 74.21875  Q 42.671875 74.21875 48.875 69.140625  Q 55.078125 64.0625 55.078125 55.328125  Q 55.078125 49.078125 51.53125 44.71875  Q 48 40.375 41.703125 38.8125  Q 48.828125 37.15625 52.796875 32.3125  Q 56.78125 27.484375 56.78125 20.515625  Q 56.78125 9.90625 50.3125 4.234375  Q 43.84375 -1.421875 31.78125 -1.421875  Q 19.734375 -1.421875 13.25 4.234375  Q 6.78125 9.90625 6.78125 20.515625  Q 6.78125 27.484375 10.78125 32.3125  Q 14.796875 37.15625 21.921875 38.8125  z M 18.3125 54.390625  Q 18.3125 48.734375 21.84375 45.5625  Q 25.390625 42.390625 31.78125 42.390625  Q 38.140625 42.390625 41.71875 45.5625  Q 45.3125 48.734375 45.3125 54.390625  Q 45.3125 60.0625 41.71875 63.234375  Q 38.140625 66.40625 31.78125 66.40625  Q 25.390625 66.40625 21.84375 63.234375  Q 18.3125 60.0625 18.3125 54.390625  z \" id=\"DejaVuSans-56\" />\n       <path d=\"M 33.015625 40.375  Q 26.375 40.375 22.484375 35.828125  Q 18.609375 31.296875 18.609375 23.390625  Q 18.609375 15.53125 22.484375 10.953125  Q 26.375 6.390625 33.015625 6.390625  Q 39.65625 6.390625 43.53125 10.953125  Q 47.40625 15.53125 47.40625 23.390625  Q 47.40625 31.296875 43.53125 35.828125  Q 39.65625 40.375 33.015625 40.375  z M 52.59375 71.296875  L 52.59375 62.3125  Q 48.875 64.0625 45.09375 64.984375  Q 41.3125 65.921875 37.59375 65.921875  Q 27.828125 65.921875 22.671875 59.328125  Q 17.53125 52.734375 16.796875 39.40625  Q 19.671875 43.65625 24.015625 45.921875  Q 28.375 48.1875 33.59375 48.1875  Q 44.578125 48.1875 50.953125 41.515625  Q 57.328125 34.859375 57.328125 23.390625  Q 57.328125 12.15625 50.6875 5.359375  Q 44.046875 -1.421875 33.015625 -1.421875  Q 20.359375 -1.421875 13.671875 8.265625  Q 6.984375 17.96875 6.984375 36.375  Q 6.984375 53.65625 15.1875 63.9375  Q 23.390625 74.21875 37.203125 74.21875  Q 40.921875 74.21875 44.703125 73.484375  Q 48.484375 72.75 52.59375 71.296875  z \" id=\"DejaVuSans-54\" />\n      </defs>\n      <g style=\"fill:#444443;\" transform=\"translate(146.145521 78.479094)scale(0.08 -0.08)\">\n       <use xlink:href=\"#DejaVuSans-56\" />\n       <use x=\"63.623047\" xlink:href=\"#DejaVuSans-48\" />\n       <use x=\"127.246094\" xlink:href=\"#DejaVuSans-46\" />\n       <use x=\"159.033203\" xlink:href=\"#DejaVuSans-54\" />\n      </g>\n     </g>\n    </g>\n    <g id=\"text_4\">\n     \n     <defs>\n      <path d=\"M 9.8125 72.90625  L 55.90625 72.90625  L 55.90625 64.59375  L 19.671875 64.59375  L 19.671875 43.015625  L 54.390625 43.015625  L 54.390625 34.71875  L 19.671875 34.71875  L 19.671875 8.296875  L 56.78125 8.296875  L 56.78125 0  L 9.8125 0  z \" id=\"DejaVuSans-69\" />\n      <path d=\"M 9.421875 54.6875  L 18.40625 54.6875  L 18.40625 0  L 9.421875 0  z M 9.421875 75.984375  L 18.40625 75.984375  L 18.40625 64.59375  L 9.421875 64.59375  z \" id=\"DejaVuSans-105\" />\n      <path d=\"M 54.890625 33.015625  L 54.890625 0  L 45.90625 0  L 45.90625 32.71875  Q 45.90625 40.484375 42.875 44.328125  Q 39.84375 48.1875 33.796875 48.1875  Q 26.515625 48.1875 22.3125 43.546875  Q 18.109375 38.921875 18.109375 30.90625  L 18.109375 0  L 9.078125 0  L 9.078125 54.6875  L 18.109375 54.6875  L 18.109375 46.1875  Q 21.34375 51.125 25.703125 53.5625  Q 30.078125 56 35.796875 56  Q 45.21875 56 50.046875 50.171875  Q 54.890625 44.34375 54.890625 33.015625  z \" id=\"DejaVuSans-110\" />\n      <path d=\"M 37.109375 75.984375  L 37.109375 68.5  L 28.515625 68.5  Q 23.6875 68.5 21.796875 66.546875  Q 19.921875 64.59375 19.921875 59.515625  L 19.921875 54.6875  L 34.71875 54.6875  L 34.71875 47.703125  L 19.921875 47.703125  L 19.921875 0  L 10.890625 0  L 10.890625 47.703125  L 2.296875 47.703125  L 2.296875 54.6875  L 10.890625 54.6875  L 10.890625 58.5  Q 10.890625 67.625 15.140625 71.796875  Q 19.390625 75.984375 28.609375 75.984375  z \" id=\"DejaVuSans-102\" />\n      <path id=\"DejaVuSans-32\" />\n      <path d=\"M 34.1875 63.1875  L 20.796875 26.90625  L 47.609375 26.90625  z M 28.609375 72.90625  L 39.796875 72.90625  L 67.578125 0  L 57.328125 0  L 50.6875 18.703125  L 17.828125 18.703125  L 11.1875 0  L 0.78125 0  z \" id=\"DejaVuSans-65\" />\n     </defs>\n     <g style=\"fill:#444443;\" transform=\"translate(97.915156 91.741281)scale(0.1 -0.1)\">\n      <use xlink:href=\"#DejaVuSans-69\" />\n      <use x=\"63.183594\" xlink:href=\"#DejaVuSans-105\" />\n      <use x=\"90.966797\" xlink:href=\"#DejaVuSans-110\" />\n      <use x=\"154.345703\" xlink:href=\"#DejaVuSans-102\" />\n      <use x=\"189.550781\" xlink:href=\"#DejaVuSans-32\" />\n      <use x=\"221.337891\" xlink:href=\"#DejaVuSans-65\" />\n     </g>\n    </g>\n   </g>\n   <g id=\"matplotlib.axis_2\">\n    <g id=\"ytick_1\">\n     <g id=\"line2d_4\">\n      <defs>\n       <path d=\"M 0 0  L -3.5 0  \" id=\"me35ea66649\" style=\"stroke:#444443;stroke-width:0.3;\" />\n      </defs>\n      <g>\n       <use style=\"fill:#444443;stroke:#444443;stroke-width:0.3;\" x=\"42.651875\" y=\"64.259287\" xlink:href=\"#me35ea66649\" />\n      </g>\n     </g>\n     <g id=\"text_5\">\n      \n      <defs>\n       <path d=\"M 10.59375 35.5  L 73.1875 35.5  L 73.1875 27.203125  L 10.59375 27.203125  z \" id=\"DejaVuSans-8722\" />\n      </defs>\n      <g style=\"fill:#444443;\" transform=\"translate(13.678125 67.298662)scale(0.08 -0.08)\">\n       <use xlink:href=\"#DejaVuSans-8722\" />\n       <use x=\"83.789062\" xlink:href=\"#DejaVuSans-49\" />\n       <use x=\"147.412109\" xlink:href=\"#DejaVuSans-48\" />\n       <use x=\"211.035156\" xlink:href=\"#DejaVuSans-48\" />\n      </g>\n     </g>\n    </g>\n    <g id=\"ytick_2\">\n     <g id=\"line2d_5\">\n      <g>\n       <use style=\"fill:#444443;stroke:#444443;stroke-width:0.3;\" x=\"42.651875\" y=\"39.635678\" xlink:href=\"#me35ea66649\" />\n      </g>\n     </g>\n     <g id=\"text_6\">\n      \n      <g style=\"fill:#444443;\" transform=\"translate(30.561875 42.675053)scale(0.08 -0.08)\">\n       <use xlink:href=\"#DejaVuSans-48\" />\n      </g>\n     </g>\n    </g>\n    <g id=\"ytick_3\">\n     <g id=\"line2d_6\">\n      <g>\n       <use style=\"fill:#444443;stroke:#444443;stroke-width:0.3;\" x=\"42.651875\" y=\"15.012068\" xlink:href=\"#me35ea66649\" />\n      </g>\n     </g>\n     <g id=\"text_7\">\n      \n      <g style=\"fill:#444443;\" transform=\"translate(20.381875 18.051443)scale(0.08 -0.08)\">\n       <use xlink:href=\"#DejaVuSans-49\" />\n       <use x=\"63.623047\" xlink:href=\"#DejaVuSans-48\" />\n       <use x=\"127.246094\" xlink:href=\"#DejaVuSans-48\" />\n      </g>\n     </g>\n    </g>\n    <g id=\"text_8\">\n     \n     <defs>\n      <path d=\"M 53.515625 70.515625  L 53.515625 60.890625  Q 47.90625 63.578125 42.921875 64.890625  Q 37.9375 66.21875 33.296875 66.21875  Q 25.25 66.21875 20.875 63.09375  Q 16.5 59.96875 16.5 54.203125  Q 16.5 49.359375 19.40625 46.890625  Q 22.3125 44.4375 30.421875 42.921875  L 36.375 41.703125  Q 47.40625 39.59375 52.65625 34.296875  Q 57.90625 29 57.90625 20.125  Q 57.90625 9.515625 50.796875 4.046875  Q 43.703125 -1.421875 29.984375 -1.421875  Q 24.8125 -1.421875 18.96875 -0.25  Q 13.140625 0.921875 6.890625 3.21875  L 6.890625 13.375  Q 12.890625 10.015625 18.65625 8.296875  Q 24.421875 6.59375 29.984375 6.59375  Q 38.421875 6.59375 43.015625 9.90625  Q 47.609375 13.234375 47.609375 19.390625  Q 47.609375 24.75 44.3125 27.78125  Q 41.015625 30.8125 33.5 32.328125  L 27.484375 33.5  Q 16.453125 35.6875 11.515625 40.375  Q 6.59375 45.0625 6.59375 53.421875  Q 6.59375 63.09375 13.40625 68.65625  Q 20.21875 74.21875 32.171875 74.21875  Q 37.3125 74.21875 42.625 73.28125  Q 47.953125 72.359375 53.515625 70.515625  z \" id=\"DejaVuSans-83\" />\n      <path d=\"M 32.171875 -5.078125  Q 28.375 -14.84375 24.75 -17.8125  Q 21.140625 -20.796875 15.09375 -20.796875  L 7.90625 -20.796875  L 7.90625 -13.28125  L 13.1875 -13.28125  Q 16.890625 -13.28125 18.9375 -11.515625  Q 21 -9.765625 23.484375 -3.21875  L 25.09375 0.875  L 2.984375 54.6875  L 12.5 54.6875  L 29.59375 11.921875  L 46.6875 54.6875  L 56.203125 54.6875  z \" id=\"DejaVuSans-121\" />\n      <path d=\"M 56.203125 29.59375  L 56.203125 25.203125  L 14.890625 25.203125  Q 15.484375 15.921875 20.484375 11.0625  Q 25.484375 6.203125 34.421875 6.203125  Q 39.59375 6.203125 44.453125 7.46875  Q 49.3125 8.734375 54.109375 11.28125  L 54.109375 2.78125  Q 49.265625 0.734375 44.1875 -0.34375  Q 39.109375 -1.421875 33.890625 -1.421875  Q 20.796875 -1.421875 13.15625 6.1875  Q 5.515625 13.8125 5.515625 26.8125  Q 5.515625 40.234375 12.765625 48.109375  Q 20.015625 56 32.328125 56  Q 43.359375 56 49.78125 48.890625  Q 56.203125 41.796875 56.203125 29.59375  z M 47.21875 32.234375  Q 47.125 39.59375 43.09375 43.984375  Q 39.0625 48.390625 32.421875 48.390625  Q 24.90625 48.390625 20.390625 44.140625  Q 15.875 39.890625 15.1875 32.171875  z \" id=\"DejaVuSans-101\" />\n      <path d=\"M 41.109375 46.296875  Q 39.59375 47.171875 37.8125 47.578125  Q 36.03125 48 33.890625 48  Q 26.265625 48 22.1875 43.046875  Q 18.109375 38.09375 18.109375 28.8125  L 18.109375 0  L 9.078125 0  L 9.078125 54.6875  L 18.109375 54.6875  L 18.109375 46.1875  Q 20.953125 51.171875 25.484375 53.578125  Q 30.03125 56 36.53125 56  Q 37.453125 56 38.578125 55.875  Q 39.703125 55.765625 41.0625 55.515625  z \" id=\"DejaVuSans-114\" />\n      <path d=\"M 45.40625 27.984375  Q 45.40625 37.75 41.375 43.109375  Q 37.359375 48.484375 30.078125 48.484375  Q 22.859375 48.484375 18.828125 43.109375  Q 14.796875 37.75 14.796875 27.984375  Q 14.796875 18.265625 18.828125 12.890625  Q 22.859375 7.515625 30.078125 7.515625  Q 37.359375 7.515625 41.375 12.890625  Q 45.40625 18.265625 45.40625 27.984375  z M 54.390625 6.78125  Q 54.390625 -7.171875 48.1875 -13.984375  Q 42 -20.796875 29.203125 -20.796875  Q 24.46875 -20.796875 20.265625 -20.09375  Q 16.0625 -19.390625 12.109375 -17.921875  L 12.109375 -9.1875  Q 16.0625 -11.328125 19.921875 -12.34375  Q 23.78125 -13.375 27.78125 -13.375  Q 36.625 -13.375 41.015625 -8.765625  Q 45.40625 -4.15625 45.40625 5.171875  L 45.40625 9.625  Q 42.625 4.78125 38.28125 2.390625  Q 33.9375 0 27.875 0  Q 17.828125 0 11.671875 7.65625  Q 5.515625 15.328125 5.515625 27.984375  Q 5.515625 40.671875 11.671875 48.328125  Q 17.828125 56 27.875 56  Q 33.9375 56 38.28125 53.609375  Q 42.625 51.21875 45.40625 46.390625  L 45.40625 54.6875  L 54.390625 54.6875  z \" id=\"DejaVuSans-103\" />\n      <path d=\"M 44.28125 53.078125  L 44.28125 44.578125  Q 40.484375 46.53125 36.375 47.5  Q 32.28125 48.484375 27.875 48.484375  Q 21.1875 48.484375 17.84375 46.4375  Q 14.5 44.390625 14.5 40.28125  Q 14.5 37.15625 16.890625 35.375  Q 19.28125 33.59375 26.515625 31.984375  L 29.59375 31.296875  Q 39.15625 29.25 43.1875 25.515625  Q 47.21875 21.78125 47.21875 15.09375  Q 47.21875 7.46875 41.1875 3.015625  Q 35.15625 -1.421875 24.609375 -1.421875  Q 20.21875 -1.421875 15.453125 -0.5625  Q 10.6875 0.296875 5.421875 2  L 5.421875 11.28125  Q 10.40625 8.6875 15.234375 7.390625  Q 20.0625 6.109375 24.8125 6.109375  Q 31.15625 6.109375 34.5625 8.28125  Q 37.984375 10.453125 37.984375 14.40625  Q 37.984375 18.0625 35.515625 20.015625  Q 33.0625 21.96875 24.703125 23.78125  L 21.578125 24.515625  Q 13.234375 26.265625 9.515625 29.90625  Q 5.8125 33.546875 5.8125 39.890625  Q 5.8125 47.609375 11.28125 51.796875  Q 16.75 56 26.8125 56  Q 31.78125 56 36.171875 55.265625  Q 40.578125 54.546875 44.28125 53.078125  z \" id=\"DejaVuSans-115\" />\n      <path d=\"M 48.78125 52.59375  L 48.78125 44.1875  Q 44.96875 46.296875 41.140625 47.34375  Q 37.3125 48.390625 33.40625 48.390625  Q 24.65625 48.390625 19.8125 42.84375  Q 14.984375 37.3125 14.984375 27.296875  Q 14.984375 17.28125 19.8125 11.734375  Q 24.65625 6.203125 33.40625 6.203125  Q 37.3125 6.203125 41.140625 7.25  Q 44.96875 8.296875 48.78125 10.40625  L 48.78125 2.09375  Q 45.015625 0.34375 40.984375 -0.53125  Q 36.96875 -1.421875 32.421875 -1.421875  Q 20.0625 -1.421875 12.78125 6.34375  Q 5.515625 14.109375 5.515625 27.296875  Q 5.515625 40.671875 12.859375 48.328125  Q 20.21875 56 33.015625 56  Q 37.15625 56 41.109375 55.140625  Q 45.0625 54.296875 48.78125 52.59375  z \" id=\"DejaVuSans-99\" />\n      <path d=\"M 30.609375 48.390625  Q 23.390625 48.390625 19.1875 42.75  Q 14.984375 37.109375 14.984375 27.296875  Q 14.984375 17.484375 19.15625 11.84375  Q 23.34375 6.203125 30.609375 6.203125  Q 37.796875 6.203125 41.984375 11.859375  Q 46.1875 17.53125 46.1875 27.296875  Q 46.1875 37.015625 41.984375 42.703125  Q 37.796875 48.390625 30.609375 48.390625  z M 30.609375 56  Q 42.328125 56 49.015625 48.375  Q 55.71875 40.765625 55.71875 27.296875  Q 55.71875 13.875 49.015625 6.21875  Q 42.328125 -1.421875 30.609375 -1.421875  Q 18.84375 -1.421875 12.171875 6.21875  Q 5.515625 13.875 5.515625 27.296875  Q 5.515625 40.765625 12.171875 48.375  Q 18.84375 56 30.609375 56  z \" id=\"DejaVuSans-111\" />\n     </defs>\n     <g style=\"fill:#444443;\" transform=\"translate(7.598438 71.004687)rotate(-90)scale(0.1 -0.1)\">\n      <use xlink:href=\"#DejaVuSans-83\" />\n      <use x=\"63.476562\" xlink:href=\"#DejaVuSans-121\" />\n      <use x=\"122.65625\" xlink:href=\"#DejaVuSans-110\" />\n      <use x=\"186.035156\" xlink:href=\"#DejaVuSans-101\" />\n      <use x=\"247.558594\" xlink:href=\"#DejaVuSans-114\" />\n      <use x=\"286.921875\" xlink:href=\"#DejaVuSans-103\" />\n      <use x=\"350.398438\" xlink:href=\"#DejaVuSans-121\" />\n      <use x=\"409.578125\" xlink:href=\"#DejaVuSans-32\" />\n      <use x=\"441.365234\" xlink:href=\"#DejaVuSans-115\" />\n      <use x=\"493.464844\" xlink:href=\"#DejaVuSans-99\" />\n      <use x=\"548.445312\" xlink:href=\"#DejaVuSans-111\" />\n      <use x=\"609.626953\" xlink:href=\"#DejaVuSans-114\" />\n      <use x=\"648.490234\" xlink:href=\"#DejaVuSans-101\" />\n     </g>\n    </g>\n   </g>\n   <g id=\"line2d_7\">\n    <path clip-path=\"url(#p387d65e1e1)\" d=\"M 42.651875 35.975503  L 155.051771 35.975503  \" style=\"fill:none;stroke:#444443;stroke-dasharray:3.7,1.6;stroke-dashoffset:0;\" />\n   </g>\n   <g id=\"line2d_8\">\n    <path clip-path=\"url(#p387d65e1e1)\" d=\"M 155.051771 65.400344  L 155.051771 5.604344  \" style=\"fill:none;stroke:#444443;stroke-dasharray:3.7,1.6;stroke-dashoffset:0;\" />\n   </g>\n   <g id=\"line2d_9\">\n    <path clip-path=\"url(#p387d65e1e1)\" d=\"M 155.051771 38.498041  L 182.151875 38.498041  \" style=\"fill:none;stroke:#444443;stroke-dasharray:3.7,1.6;stroke-dashoffset:0;\" />\n   </g>\n   <g id=\"patch_4\">\n    <path d=\"M 42.651875 65.400344  L 42.651875 5.604344  \" style=\"fill:none;stroke:#000000;stroke-linecap:square;stroke-linejoin:miter;stroke-width:0.3;\" />\n   </g>\n   <g id=\"patch_5\">\n    <path d=\"M 42.651875 65.400344  L 182.151875 65.400344  \" style=\"fill:none;stroke:#000000;stroke-linecap:square;stroke-linejoin:miter;stroke-width:0.3;\" />\n   </g>\n  </g>\n </g>\n <defs>\n  <clipPath id=\"p387d65e1e1\">\n   <rect height=\"59.796\" width=\"139.5\" x=\"42.651875\" y=\"5.604344\" />\n  </clipPath>\n </defs>\n</svg></g>\n\n<g class=\"edge\" id=\"edge7\">\n<title>node0-&gt;node1</title>\n<path d=\"M153.1358,-86.1622C159.9468,-87.7764 166.8404,-89.4101 173.6448,-91.0227\" fill=\"none\" stroke=\"#444443\" stroke-width=\".3\" />\n<polygon fill=\"#444443\" points=\"173.6533,-92.4635 177.8684,-92.0237 174.2991,-89.739 173.6533,-92.4635\" stroke=\"#444443\" stroke-width=\".3\" />\n<text fill=\"#000000\" font-family=\"Times,serif\" font-size=\"14.00\" text-anchor=\"start\" x=\"161.5\" y=\"-92.8\">&#8804;</text>\n</g>\n\n<g class=\"edge\" id=\"edge8\">\n<title>node0-&gt;leaf2</title>\n<path d=\"M153.1358,-50.7237C170.154,-46.8872 187.6883,-42.9344 203.0572,-39.4698\" fill=\"none\" stroke=\"#444443\" stroke-width=\".3\" />\n<polygon fill=\"#444443\" points=\"203.7383,-40.7514 207.3324,-38.506 203.1224,-38.02 203.7383,-40.7514\" stroke=\"#444443\" stroke-width=\".3\" />\n<text fill=\"#000000\" font-family=\"Times,serif\" font-size=\"14.00\" text-anchor=\"start\" x=\"161\" y=\"-52.8\">&gt;</text>\n</g>\n\n</g>\n</svg>"
          },
          "metadata": {},
          "execution_count": 36
        }
      ]
    },
    {
      "cell_type": "markdown",
      "source": [
        "Let's now have the decision tree algorithm build a bigger tree. Here, we are not passing in any stopping criteria such as max_leaf_nodes:\n"
      ],
      "metadata": {
        "id": "rC--Kb_ufxUX"
      }
    },
    {
      "cell_type": "code",
      "source": [
        "m = DecisionTreeRegressor()\n",
        "m.fit(xs, y);\n"
      ],
      "metadata": {
        "id": "eHN2f2X1cAfC"
      },
      "execution_count": null,
      "outputs": []
    },
    {
      "cell_type": "code",
      "source": [
        "# In the training set\n",
        "m_rmse(m, xs, y)"
      ],
      "metadata": {
        "colab": {
          "base_uri": "https://localhost:8080/"
        },
        "id": "QIHx4KFqcAiT",
        "outputId": "eefe72ff-aae9-469f-d5e4-b756771886c9"
      },
      "execution_count": null,
      "outputs": [
        {
          "output_type": "execute_result",
          "data": {
            "text/plain": [
              "0.0"
            ]
          },
          "metadata": {},
          "execution_count": 38
        }
      ]
    },
    {
      "cell_type": "markdown",
      "source": [
        "This just means that the model fits well in the training dataset, but we have to check how well it generalizes over unseen data:"
      ],
      "metadata": {
        "id": "MVw3CJtSgBvH"
      }
    },
    {
      "cell_type": "code",
      "source": [
        "m_rmse(m, valid_xs, valid_y)\n"
      ],
      "metadata": {
        "colab": {
          "base_uri": "https://localhost:8080/"
        },
        "id": "pnZboV44cAoM",
        "outputId": "ead8f6eb-97fa-4a60-c23c-23a57534cc57"
      },
      "execution_count": null,
      "outputs": [
        {
          "output_type": "execute_result",
          "data": {
            "text/plain": [
              "36.81299"
            ]
          },
          "metadata": {},
          "execution_count": 39
        }
      ]
    },
    {
      "cell_type": "markdown",
      "source": [
        "Now we will check for overfitting:"
      ],
      "metadata": {
        "id": "hG5fJ9sogiSL"
      }
    },
    {
      "cell_type": "code",
      "source": [
        "m.get_n_leaves(), len(xs)"
      ],
      "metadata": {
        "colab": {
          "base_uri": "https://localhost:8080/"
        },
        "id": "OW1lrAwXcAuZ",
        "outputId": "c6d18ec5-d06f-4d07-e7d2-f14b980c54ca"
      },
      "execution_count": null,
      "outputs": [
        {
          "output_type": "execute_result",
          "data": {
            "text/plain": [
              "(1795, 1795)"
            ]
          },
          "metadata": {},
          "execution_count": 40
        }
      ]
    },
    {
      "cell_type": "markdown",
      "source": [
        "We see that it has as many leafs as datapoints, let's see what happens if we restrict the model."
      ],
      "metadata": {
        "id": "CZPZh1WBguJU"
      }
    },
    {
      "cell_type": "code",
      "source": [
        "m = DecisionTreeRegressor(min_samples_leaf=25)\n",
        "m.fit(to.train.xs, to.train.y)\n",
        "m_rmse(m, xs, y), m_rmse(m, valid_xs, valid_y)"
      ],
      "metadata": {
        "colab": {
          "base_uri": "https://localhost:8080/"
        },
        "id": "SF5qLstWcAw_",
        "outputId": "abd2e4b6-b197-478b-efab-69df027448fd"
      },
      "execution_count": null,
      "outputs": [
        {
          "output_type": "execute_result",
          "data": {
            "text/plain": [
              "(23.997595, 28.145969)"
            ]
          },
          "metadata": {},
          "execution_count": 63
        }
      ]
    },
    {
      "cell_type": "code",
      "source": [
        "m.get_n_leaves()\n"
      ],
      "metadata": {
        "colab": {
          "base_uri": "https://localhost:8080/"
        },
        "id": "0QXfnHkbhHwU",
        "outputId": "8320ff43-082b-42f6-da3a-b30453ee0946"
      },
      "execution_count": null,
      "outputs": [
        {
          "output_type": "execute_result",
          "data": {
            "text/plain": [
              "55"
            ]
          },
          "metadata": {},
          "execution_count": 64
        }
      ]
    },
    {
      "cell_type": "markdown",
      "source": [
        "**The RMSE is almost the same as the baseline model. That's not good, let's try some hyperparameter tuning.**"
      ],
      "metadata": {
        "id": "TFMbvDPUg_Fa"
      }
    },
    {
      "cell_type": "code",
      "source": [
        "leafs = np.arange(500)+1\n",
        "error_list = list()\n",
        "for n_leafs in leafs:\n",
        "  m = DecisionTreeRegressor(min_samples_leaf=n_leafs)\n",
        "  m.fit(to.train.xs, to.train.y)\n",
        "  error_list.append( m_rmse(m, valid_xs, valid_y) )"
      ],
      "metadata": {
        "id": "gEVR96chkHCj"
      },
      "execution_count": null,
      "outputs": []
    },
    {
      "cell_type": "code",
      "source": [
        "error_list = np.asarray(error_list)\n",
        "best_error = min(error_list)\n",
        "best_leaf = leafs[error_list== min(error_list)][0]\n",
        "print(f\"Best number of leafs = {best_leaf} \\n Error = {best_error}\")"
      ],
      "metadata": {
        "colab": {
          "base_uri": "https://localhost:8080/"
        },
        "id": "7i8sS2cdlIa2",
        "outputId": "98842fe2-2fa6-490e-8938-11767947b333"
      },
      "execution_count": null,
      "outputs": [
        {
          "output_type": "stream",
          "name": "stdout",
          "text": [
            "Best number of leafs = 152 \n",
            " Error = 27.38495\n"
          ]
        }
      ]
    },
    {
      "cell_type": "markdown",
      "source": [
        "Let's check our metric"
      ],
      "metadata": {
        "id": "jjR0Rqz_mRWZ"
      }
    },
    {
      "cell_type": "code",
      "source": [
        "m = DecisionTreeRegressor(min_samples_leaf = best_leaf)\n",
        "m.fit(to.train.xs, to.train.y)\n",
        "y_pred = m.predict(valid_xs)\n",
        "print(test_df.shape)\n",
        "weighted_pear, pear_weights_df = weighted_pearson(test_df, y_pred)\n",
        "print(\"Weighted Pearson: \", weighted_pear)\n",
        "print(pear_weights_df)\n"
      ],
      "metadata": {
        "colab": {
          "base_uri": "https://localhost:8080/"
        },
        "id": "1jLesdi6PLNT",
        "outputId": "0ac84925-d9ea-476f-a7df-658cf26fe1be"
      },
      "execution_count": null,
      "outputs": [
        {
          "output_type": "stream",
          "name": "stdout",
          "text": [
            "(1089, 13)\n",
            "Weighted Pearson:  nan\n",
            "      Combination ID  n_cl  Pearson coefficient\n",
            "0          EGFR.FGFR     6             0.391300\n",
            "1        FASN.MTOR_1     7            -0.124258\n",
            "2         IAP.IGFR_3     3            -0.863058\n",
            "3        FGFR.MTOR_3     5             0.560462\n",
            "4         IAP.PIK3CB    10             0.462958\n",
            "..               ...   ...                  ...\n",
            "162   Cisplatin.FGFR     3            -0.974069\n",
            "163      HSP90.PIK3C     3             0.903799\n",
            "164  ATM.Gemcitabine     3             0.279843\n",
            "165     ATR_4.HDAC_4     3             0.982505\n",
            "166   BCL2.CSNK2A1_2     6            -0.523300\n",
            "\n",
            "[167 rows x 3 columns]\n"
          ]
        },
        {
          "output_type": "stream",
          "name": "stderr",
          "text": [
            "/usr/local/lib/python3.7/dist-packages/numpy/lib/function_base.py:2691: RuntimeWarning: invalid value encountered in true_divide\n",
            "  c /= stddev[:, None]\n",
            "/usr/local/lib/python3.7/dist-packages/numpy/lib/function_base.py:2692: RuntimeWarning: invalid value encountered in true_divide\n",
            "  c /= stddev[None, :]\n"
          ]
        }
      ]
    },
    {
      "cell_type": "markdown",
      "source": [
        "For some drug combination we obtain NaN's. My hypothesis is that for some drug pairs the predicted value is the same for all cell lines."
      ],
      "metadata": {
        "id": "3L-HgaoBR3Hc"
      }
    },
    {
      "cell_type": "code",
      "source": [
        "check_nan = pear_weights_df[\"Pearson coefficient\"].isnull()\n",
        "combination_index = np.arange(pear_weights_df.shape[0], dtype = int)\n",
        "nan_combinations = pear_weights_df.iloc[combination_index[check_nan]]\n",
        "nan_combinations"
      ],
      "metadata": {
        "colab": {
          "base_uri": "https://localhost:8080/",
          "height": 238
        },
        "id": "EwWXYZ4vP8mA",
        "outputId": "7f6fe659-1e03-4dd4-bed1-d554cc09bde1"
      },
      "execution_count": null,
      "outputs": [
        {
          "output_type": "execute_result",
          "data": {
            "text/html": [
              "\n",
              "  <div id=\"df-729abda9-ad50-4be8-a902-4396ec67d92f\">\n",
              "    <div class=\"colab-df-container\">\n",
              "      <div>\n",
              "<style scoped>\n",
              "    .dataframe tbody tr th:only-of-type {\n",
              "        vertical-align: middle;\n",
              "    }\n",
              "\n",
              "    .dataframe tbody tr th {\n",
              "        vertical-align: top;\n",
              "    }\n",
              "\n",
              "    .dataframe thead th {\n",
              "        text-align: right;\n",
              "    }\n",
              "</style>\n",
              "<table border=\"1\" class=\"dataframe\">\n",
              "  <thead>\n",
              "    <tr style=\"text-align: right;\">\n",
              "      <th></th>\n",
              "      <th>Combination ID</th>\n",
              "      <th>n_cl</th>\n",
              "      <th>Pearson coefficient</th>\n",
              "    </tr>\n",
              "  </thead>\n",
              "  <tbody>\n",
              "    <tr>\n",
              "      <th>54</th>\n",
              "      <td>ALK.CSNK2A1_2</td>\n",
              "      <td>6</td>\n",
              "      <td>NaN</td>\n",
              "    </tr>\n",
              "    <tr>\n",
              "      <th>96</th>\n",
              "      <td>MTOR_1.TNKS_PARP6</td>\n",
              "      <td>7</td>\n",
              "      <td>NaN</td>\n",
              "    </tr>\n",
              "    <tr>\n",
              "      <th>133</th>\n",
              "      <td>Cisplatin.PIK3C</td>\n",
              "      <td>3</td>\n",
              "      <td>NaN</td>\n",
              "    </tr>\n",
              "    <tr>\n",
              "      <th>138</th>\n",
              "      <td>AKT.Cisplatin</td>\n",
              "      <td>3</td>\n",
              "      <td>NaN</td>\n",
              "    </tr>\n",
              "    <tr>\n",
              "      <th>148</th>\n",
              "      <td>AKT.Chloroquine</td>\n",
              "      <td>5</td>\n",
              "      <td>NaN</td>\n",
              "    </tr>\n",
              "    <tr>\n",
              "      <th>157</th>\n",
              "      <td>MTOR_1.SLC16A4</td>\n",
              "      <td>7</td>\n",
              "      <td>NaN</td>\n",
              "    </tr>\n",
              "  </tbody>\n",
              "</table>\n",
              "</div>\n",
              "      <button class=\"colab-df-convert\" onclick=\"convertToInteractive('df-729abda9-ad50-4be8-a902-4396ec67d92f')\"\n",
              "              title=\"Convert this dataframe to an interactive table.\"\n",
              "              style=\"display:none;\">\n",
              "        \n",
              "  <svg xmlns=\"http://www.w3.org/2000/svg\" height=\"24px\"viewBox=\"0 0 24 24\"\n",
              "       width=\"24px\">\n",
              "    <path d=\"M0 0h24v24H0V0z\" fill=\"none\"/>\n",
              "    <path d=\"M18.56 5.44l.94 2.06.94-2.06 2.06-.94-2.06-.94-.94-2.06-.94 2.06-2.06.94zm-11 1L8.5 8.5l.94-2.06 2.06-.94-2.06-.94L8.5 2.5l-.94 2.06-2.06.94zm10 10l.94 2.06.94-2.06 2.06-.94-2.06-.94-.94-2.06-.94 2.06-2.06.94z\"/><path d=\"M17.41 7.96l-1.37-1.37c-.4-.4-.92-.59-1.43-.59-.52 0-1.04.2-1.43.59L10.3 9.45l-7.72 7.72c-.78.78-.78 2.05 0 2.83L4 21.41c.39.39.9.59 1.41.59.51 0 1.02-.2 1.41-.59l7.78-7.78 2.81-2.81c.8-.78.8-2.07 0-2.86zM5.41 20L4 18.59l7.72-7.72 1.47 1.35L5.41 20z\"/>\n",
              "  </svg>\n",
              "      </button>\n",
              "      \n",
              "  <style>\n",
              "    .colab-df-container {\n",
              "      display:flex;\n",
              "      flex-wrap:wrap;\n",
              "      gap: 12px;\n",
              "    }\n",
              "\n",
              "    .colab-df-convert {\n",
              "      background-color: #E8F0FE;\n",
              "      border: none;\n",
              "      border-radius: 50%;\n",
              "      cursor: pointer;\n",
              "      display: none;\n",
              "      fill: #1967D2;\n",
              "      height: 32px;\n",
              "      padding: 0 0 0 0;\n",
              "      width: 32px;\n",
              "    }\n",
              "\n",
              "    .colab-df-convert:hover {\n",
              "      background-color: #E2EBFA;\n",
              "      box-shadow: 0px 1px 2px rgba(60, 64, 67, 0.3), 0px 1px 3px 1px rgba(60, 64, 67, 0.15);\n",
              "      fill: #174EA6;\n",
              "    }\n",
              "\n",
              "    [theme=dark] .colab-df-convert {\n",
              "      background-color: #3B4455;\n",
              "      fill: #D2E3FC;\n",
              "    }\n",
              "\n",
              "    [theme=dark] .colab-df-convert:hover {\n",
              "      background-color: #434B5C;\n",
              "      box-shadow: 0px 1px 3px 1px rgba(0, 0, 0, 0.15);\n",
              "      filter: drop-shadow(0px 1px 2px rgba(0, 0, 0, 0.3));\n",
              "      fill: #FFFFFF;\n",
              "    }\n",
              "  </style>\n",
              "\n",
              "      <script>\n",
              "        const buttonEl =\n",
              "          document.querySelector('#df-729abda9-ad50-4be8-a902-4396ec67d92f button.colab-df-convert');\n",
              "        buttonEl.style.display =\n",
              "          google.colab.kernel.accessAllowed ? 'block' : 'none';\n",
              "\n",
              "        async function convertToInteractive(key) {\n",
              "          const element = document.querySelector('#df-729abda9-ad50-4be8-a902-4396ec67d92f');\n",
              "          const dataTable =\n",
              "            await google.colab.kernel.invokeFunction('convertToInteractive',\n",
              "                                                     [key], {});\n",
              "          if (!dataTable) return;\n",
              "\n",
              "          const docLinkHtml = 'Like what you see? Visit the ' +\n",
              "            '<a target=\"_blank\" href=https://colab.research.google.com/notebooks/data_table.ipynb>data table notebook</a>'\n",
              "            + ' to learn more about interactive tables.';\n",
              "          element.innerHTML = '';\n",
              "          dataTable['output_type'] = 'display_data';\n",
              "          await google.colab.output.renderOutput(dataTable, element);\n",
              "          const docLink = document.createElement('div');\n",
              "          docLink.innerHTML = docLinkHtml;\n",
              "          element.appendChild(docLink);\n",
              "        }\n",
              "      </script>\n",
              "    </div>\n",
              "  </div>\n",
              "  "
            ],
            "text/plain": [
              "        Combination ID  n_cl  Pearson coefficient\n",
              "54       ALK.CSNK2A1_2     6                  NaN\n",
              "96   MTOR_1.TNKS_PARP6     7                  NaN\n",
              "133    Cisplatin.PIK3C     3                  NaN\n",
              "138      AKT.Cisplatin     3                  NaN\n",
              "148    AKT.Chloroquine     5                  NaN\n",
              "157     MTOR_1.SLC16A4     7                  NaN"
            ]
          },
          "metadata": {},
          "execution_count": 46
        }
      ]
    },
    {
      "cell_type": "markdown",
      "source": [
        "These are the drug combinations that have a NaN Pearson correlation. We pick the first one and check for the predicted values."
      ],
      "metadata": {
        "id": "u3afK6hneB6i"
      }
    },
    {
      "cell_type": "code",
      "source": [
        "nan_mask = test_df[\"Combination ID\"] == \"ALK.CSNK2A1_2\"\n",
        "ALK_CSNK2A1_2_df = test_df[nan_mask]\n",
        "ALK_CSNK2A1_2_df"
      ],
      "metadata": {
        "colab": {
          "base_uri": "https://localhost:8080/",
          "height": 267
        },
        "id": "0CHXopsddEvN",
        "outputId": "9ff87b07-4409-4ca2-9f33-fa0f74d7cb6d"
      },
      "execution_count": null,
      "outputs": [
        {
          "output_type": "execute_result",
          "data": {
            "text/html": [
              "\n",
              "  <div id=\"df-5ec62d00-5736-47f0-afc1-9a5e05966209\">\n",
              "    <div class=\"colab-df-container\">\n",
              "      <div>\n",
              "<style scoped>\n",
              "    .dataframe tbody tr th:only-of-type {\n",
              "        vertical-align: middle;\n",
              "    }\n",
              "\n",
              "    .dataframe tbody tr th {\n",
              "        vertical-align: top;\n",
              "    }\n",
              "\n",
              "    .dataframe thead th {\n",
              "        text-align: right;\n",
              "    }\n",
              "</style>\n",
              "<table border=\"1\" class=\"dataframe\">\n",
              "  <thead>\n",
              "    <tr style=\"text-align: right;\">\n",
              "      <th></th>\n",
              "      <th>Cell line name</th>\n",
              "      <th>Compound A</th>\n",
              "      <th>Compound B</th>\n",
              "      <th>Max. conc. A</th>\n",
              "      <th>...</th>\n",
              "      <th>H B</th>\n",
              "      <th>Einf B</th>\n",
              "      <th>Synergy score</th>\n",
              "      <th>Combination ID</th>\n",
              "    </tr>\n",
              "  </thead>\n",
              "  <tbody>\n",
              "    <tr>\n",
              "      <th>217</th>\n",
              "      <td>NCI-H1563</td>\n",
              "      <td>CSNK2A1_2</td>\n",
              "      <td>ALK</td>\n",
              "      <td>0.03</td>\n",
              "      <td>...</td>\n",
              "      <td>1.831949</td>\n",
              "      <td>1.578234</td>\n",
              "      <td>5.147264</td>\n",
              "      <td>ALK.CSNK2A1_2</td>\n",
              "    </tr>\n",
              "    <tr>\n",
              "      <th>272</th>\n",
              "      <td>NCI-H522</td>\n",
              "      <td>CSNK2A1_2</td>\n",
              "      <td>ALK</td>\n",
              "      <td>0.03</td>\n",
              "      <td>...</td>\n",
              "      <td>1.652920</td>\n",
              "      <td>0.000000</td>\n",
              "      <td>-15.121200</td>\n",
              "      <td>ALK.CSNK2A1_2</td>\n",
              "    </tr>\n",
              "    <tr>\n",
              "      <th>1386</th>\n",
              "      <td>NCI-H2085</td>\n",
              "      <td>CSNK2A1_2</td>\n",
              "      <td>ALK</td>\n",
              "      <td>0.03</td>\n",
              "      <td>...</td>\n",
              "      <td>1.161107</td>\n",
              "      <td>0.000000</td>\n",
              "      <td>9.019851</td>\n",
              "      <td>ALK.CSNK2A1_2</td>\n",
              "    </tr>\n",
              "    <tr>\n",
              "      <th>1633</th>\n",
              "      <td>SW900</td>\n",
              "      <td>CSNK2A1_2</td>\n",
              "      <td>ALK</td>\n",
              "      <td>0.01</td>\n",
              "      <td>...</td>\n",
              "      <td>0.685584</td>\n",
              "      <td>0.000000</td>\n",
              "      <td>15.030920</td>\n",
              "      <td>ALK.CSNK2A1_2</td>\n",
              "    </tr>\n",
              "    <tr>\n",
              "      <th>3290</th>\n",
              "      <td>NCI-H2291</td>\n",
              "      <td>CSNK2A1_2</td>\n",
              "      <td>ALK</td>\n",
              "      <td>0.01</td>\n",
              "      <td>...</td>\n",
              "      <td>0.796128</td>\n",
              "      <td>0.000000</td>\n",
              "      <td>16.914830</td>\n",
              "      <td>ALK.CSNK2A1_2</td>\n",
              "    </tr>\n",
              "    <tr>\n",
              "      <th>3331</th>\n",
              "      <td>NCI-H838</td>\n",
              "      <td>CSNK2A1_2</td>\n",
              "      <td>ALK</td>\n",
              "      <td>0.10</td>\n",
              "      <td>...</td>\n",
              "      <td>1.619777</td>\n",
              "      <td>0.000000</td>\n",
              "      <td>16.545240</td>\n",
              "      <td>ALK.CSNK2A1_2</td>\n",
              "    </tr>\n",
              "  </tbody>\n",
              "</table>\n",
              "<p>6 rows × 13 columns</p>\n",
              "</div>\n",
              "      <button class=\"colab-df-convert\" onclick=\"convertToInteractive('df-5ec62d00-5736-47f0-afc1-9a5e05966209')\"\n",
              "              title=\"Convert this dataframe to an interactive table.\"\n",
              "              style=\"display:none;\">\n",
              "        \n",
              "  <svg xmlns=\"http://www.w3.org/2000/svg\" height=\"24px\"viewBox=\"0 0 24 24\"\n",
              "       width=\"24px\">\n",
              "    <path d=\"M0 0h24v24H0V0z\" fill=\"none\"/>\n",
              "    <path d=\"M18.56 5.44l.94 2.06.94-2.06 2.06-.94-2.06-.94-.94-2.06-.94 2.06-2.06.94zm-11 1L8.5 8.5l.94-2.06 2.06-.94-2.06-.94L8.5 2.5l-.94 2.06-2.06.94zm10 10l.94 2.06.94-2.06 2.06-.94-2.06-.94-.94-2.06-.94 2.06-2.06.94z\"/><path d=\"M17.41 7.96l-1.37-1.37c-.4-.4-.92-.59-1.43-.59-.52 0-1.04.2-1.43.59L10.3 9.45l-7.72 7.72c-.78.78-.78 2.05 0 2.83L4 21.41c.39.39.9.59 1.41.59.51 0 1.02-.2 1.41-.59l7.78-7.78 2.81-2.81c.8-.78.8-2.07 0-2.86zM5.41 20L4 18.59l7.72-7.72 1.47 1.35L5.41 20z\"/>\n",
              "  </svg>\n",
              "      </button>\n",
              "      \n",
              "  <style>\n",
              "    .colab-df-container {\n",
              "      display:flex;\n",
              "      flex-wrap:wrap;\n",
              "      gap: 12px;\n",
              "    }\n",
              "\n",
              "    .colab-df-convert {\n",
              "      background-color: #E8F0FE;\n",
              "      border: none;\n",
              "      border-radius: 50%;\n",
              "      cursor: pointer;\n",
              "      display: none;\n",
              "      fill: #1967D2;\n",
              "      height: 32px;\n",
              "      padding: 0 0 0 0;\n",
              "      width: 32px;\n",
              "    }\n",
              "\n",
              "    .colab-df-convert:hover {\n",
              "      background-color: #E2EBFA;\n",
              "      box-shadow: 0px 1px 2px rgba(60, 64, 67, 0.3), 0px 1px 3px 1px rgba(60, 64, 67, 0.15);\n",
              "      fill: #174EA6;\n",
              "    }\n",
              "\n",
              "    [theme=dark] .colab-df-convert {\n",
              "      background-color: #3B4455;\n",
              "      fill: #D2E3FC;\n",
              "    }\n",
              "\n",
              "    [theme=dark] .colab-df-convert:hover {\n",
              "      background-color: #434B5C;\n",
              "      box-shadow: 0px 1px 3px 1px rgba(0, 0, 0, 0.15);\n",
              "      filter: drop-shadow(0px 1px 2px rgba(0, 0, 0, 0.3));\n",
              "      fill: #FFFFFF;\n",
              "    }\n",
              "  </style>\n",
              "\n",
              "      <script>\n",
              "        const buttonEl =\n",
              "          document.querySelector('#df-5ec62d00-5736-47f0-afc1-9a5e05966209 button.colab-df-convert');\n",
              "        buttonEl.style.display =\n",
              "          google.colab.kernel.accessAllowed ? 'block' : 'none';\n",
              "\n",
              "        async function convertToInteractive(key) {\n",
              "          const element = document.querySelector('#df-5ec62d00-5736-47f0-afc1-9a5e05966209');\n",
              "          const dataTable =\n",
              "            await google.colab.kernel.invokeFunction('convertToInteractive',\n",
              "                                                     [key], {});\n",
              "          if (!dataTable) return;\n",
              "\n",
              "          const docLinkHtml = 'Like what you see? Visit the ' +\n",
              "            '<a target=\"_blank\" href=https://colab.research.google.com/notebooks/data_table.ipynb>data table notebook</a>'\n",
              "            + ' to learn more about interactive tables.';\n",
              "          element.innerHTML = '';\n",
              "          dataTable['output_type'] = 'display_data';\n",
              "          await google.colab.output.renderOutput(dataTable, element);\n",
              "          const docLink = document.createElement('div');\n",
              "          docLink.innerHTML = docLinkHtml;\n",
              "          element.appendChild(docLink);\n",
              "        }\n",
              "      </script>\n",
              "    </div>\n",
              "  </div>\n",
              "  "
            ],
            "text/plain": [
              "     Cell line name Compound A Compound B  Max. conc. A  ...       H B  \\\n",
              "217       NCI-H1563  CSNK2A1_2        ALK          0.03  ...  1.831949   \n",
              "272        NCI-H522  CSNK2A1_2        ALK          0.03  ...  1.652920   \n",
              "1386      NCI-H2085  CSNK2A1_2        ALK          0.03  ...  1.161107   \n",
              "1633          SW900  CSNK2A1_2        ALK          0.01  ...  0.685584   \n",
              "3290      NCI-H2291  CSNK2A1_2        ALK          0.01  ...  0.796128   \n",
              "3331       NCI-H838  CSNK2A1_2        ALK          0.10  ...  1.619777   \n",
              "\n",
              "        Einf B  Synergy score  Combination ID  \n",
              "217   1.578234       5.147264   ALK.CSNK2A1_2  \n",
              "272   0.000000     -15.121200   ALK.CSNK2A1_2  \n",
              "1386  0.000000       9.019851   ALK.CSNK2A1_2  \n",
              "1633  0.000000      15.030920   ALK.CSNK2A1_2  \n",
              "3290  0.000000      16.914830   ALK.CSNK2A1_2  \n",
              "3331  0.000000      16.545240   ALK.CSNK2A1_2  \n",
              "\n",
              "[6 rows x 13 columns]"
            ]
          },
          "metadata": {},
          "execution_count": 47
        }
      ]
    },
    {
      "cell_type": "code",
      "source": [
        "y_pred_ALK_CSNK2A1_2 = y_pred[nan_mask]\n",
        "y_pred_ALK_CSNK2A1_2"
      ],
      "metadata": {
        "colab": {
          "base_uri": "https://localhost:8080/"
        },
        "id": "31UqvKYkfc-q",
        "outputId": "e9af6e77-fe63-4395-fb97-1be4f5c97007"
      },
      "execution_count": null,
      "outputs": [
        {
          "output_type": "execute_result",
          "data": {
            "text/plain": [
              "array([21.05977048, 21.05977048, 21.05977048, 21.05977048, 21.05977048, 21.05977048])"
            ]
          },
          "metadata": {},
          "execution_count": 48
        }
      ]
    },
    {
      "cell_type": "markdown",
      "source": [
        "Just as I imagined. We are predicting the same values over and over. That's why our metric fails."
      ],
      "metadata": {
        "id": "6i2ZTkuLfoTO"
      }
    },
    {
      "cell_type": "code",
      "source": [
        "plt.plot(y_pred_ALK_CSNK2A1_2 , ALK_CSNK2A1_2_df[\"Synergy score\"] , \"bo\")\n",
        "plt.ylabel(\"Experimental Synergy\", fontsize = 15)\n",
        "plt.xlabel(\"Predicted Synergy\", fontsize = 15)\n",
        "plt.savefig(\"predicted_experimental_synergy_decision_tree_nan.eps\", format = 'eps', dpi=300)\n"
      ],
      "metadata": {
        "colab": {
          "base_uri": "https://localhost:8080/",
          "height": 287
        },
        "id": "aC5PITsxfvvT",
        "outputId": "fc8697cf-7ea0-47e3-bcc3-7f35039cf2b8"
      },
      "execution_count": null,
      "outputs": [
        {
          "output_type": "display_data",
          "data": {
            "image/png": "[encoded data removed]",
            "text/plain": [
              "<Figure size 432x288 with 1 Axes>"
            ]
          },
          "metadata": {
            "needs_background": "light"
          }
        }
      ]
    },
    {
      "cell_type": "markdown",
      "source": [
        "Now with our metric function that takes nan's into account:\n"
      ],
      "metadata": {
        "id": "Wx1SnAoqgO5u"
      }
    },
    {
      "cell_type": "code",
      "source": [
        "weighted_pear, pear_weights_df = nan_weighted_pearson(test_df, y_pred)\n",
        "print(\"Weighted Pearson: \", weighted_pear)\n",
        "print(pear_weights_df)"
      ],
      "metadata": {
        "id": "35Pt-Inej7lt",
        "outputId": "888e71d6-ac10-46ac-cdf6-08edbcb45dc6",
        "colab": {
          "base_uri": "https://localhost:8080/"
        }
      },
      "execution_count": null,
      "outputs": [
        {
          "output_type": "stream",
          "name": "stdout",
          "text": [
            "Weighted Pearson:  0.11147801629765684\n",
            "      Combination ID  n_cl  Pearson coefficient\n",
            "0          EGFR.FGFR     6             0.391300\n",
            "1        FASN.MTOR_1     7            -0.124258\n",
            "2         IAP.IGFR_3     3            -0.863058\n",
            "3        FGFR.MTOR_3     5             0.560462\n",
            "4         IAP.PIK3CB    10             0.462958\n",
            "..               ...   ...                  ...\n",
            "162   Cisplatin.FGFR     3            -0.974069\n",
            "163      HSP90.PIK3C     3             0.903799\n",
            "164  ATM.Gemcitabine     3             0.279843\n",
            "165     ATR_4.HDAC_4     3             0.982505\n",
            "166   BCL2.CSNK2A1_2     6            -0.523300\n",
            "\n",
            "[167 rows x 3 columns]\n"
          ]
        },
        {
          "output_type": "stream",
          "name": "stderr",
          "text": [
            "/usr/local/lib/python3.7/dist-packages/numpy/lib/function_base.py:2691: RuntimeWarning: invalid value encountered in true_divide\n",
            "  c /= stddev[:, None]\n",
            "/usr/local/lib/python3.7/dist-packages/numpy/lib/function_base.py:2692: RuntimeWarning: invalid value encountered in true_divide\n",
            "  c /= stddev[None, :]\n"
          ]
        }
      ]
    },
    {
      "cell_type": "markdown",
      "source": [
        "Just to make sure we check for the previous rows of pear_weights_df where there were nan's."
      ],
      "metadata": {
        "id": "95Xyrl99kRs8"
      }
    },
    {
      "cell_type": "code",
      "source": [
        "nan_combinations = pear_weights_df.iloc[combination_index[check_nan]]\n",
        "nan_combinations"
      ],
      "metadata": {
        "id": "08KuIvskkaJ9",
        "outputId": "ac22275b-0a30-485e-cd17-d964c0baa4e6",
        "colab": {
          "base_uri": "https://localhost:8080/",
          "height": 238
        }
      },
      "execution_count": null,
      "outputs": [
        {
          "output_type": "execute_result",
          "data": {
            "text/html": [
              "\n",
              "  <div id=\"df-15c5efe6-2bdd-42ce-8a18-fb4d3cf3a598\">\n",
              "    <div class=\"colab-df-container\">\n",
              "      <div>\n",
              "<style scoped>\n",
              "    .dataframe tbody tr th:only-of-type {\n",
              "        vertical-align: middle;\n",
              "    }\n",
              "\n",
              "    .dataframe tbody tr th {\n",
              "        vertical-align: top;\n",
              "    }\n",
              "\n",
              "    .dataframe thead th {\n",
              "        text-align: right;\n",
              "    }\n",
              "</style>\n",
              "<table border=\"1\" class=\"dataframe\">\n",
              "  <thead>\n",
              "    <tr style=\"text-align: right;\">\n",
              "      <th></th>\n",
              "      <th>Combination ID</th>\n",
              "      <th>n_cl</th>\n",
              "      <th>Pearson coefficient</th>\n",
              "    </tr>\n",
              "  </thead>\n",
              "  <tbody>\n",
              "    <tr>\n",
              "      <th>54</th>\n",
              "      <td>ALK.CSNK2A1_2</td>\n",
              "      <td>6</td>\n",
              "      <td>0.0</td>\n",
              "    </tr>\n",
              "    <tr>\n",
              "      <th>96</th>\n",
              "      <td>MTOR_1.TNKS_PARP6</td>\n",
              "      <td>7</td>\n",
              "      <td>0.0</td>\n",
              "    </tr>\n",
              "    <tr>\n",
              "      <th>133</th>\n",
              "      <td>Cisplatin.PIK3C</td>\n",
              "      <td>3</td>\n",
              "      <td>0.0</td>\n",
              "    </tr>\n",
              "    <tr>\n",
              "      <th>138</th>\n",
              "      <td>AKT.Cisplatin</td>\n",
              "      <td>3</td>\n",
              "      <td>0.0</td>\n",
              "    </tr>\n",
              "    <tr>\n",
              "      <th>148</th>\n",
              "      <td>AKT.Chloroquine</td>\n",
              "      <td>5</td>\n",
              "      <td>0.0</td>\n",
              "    </tr>\n",
              "    <tr>\n",
              "      <th>157</th>\n",
              "      <td>MTOR_1.SLC16A4</td>\n",
              "      <td>7</td>\n",
              "      <td>0.0</td>\n",
              "    </tr>\n",
              "  </tbody>\n",
              "</table>\n",
              "</div>\n",
              "      <button class=\"colab-df-convert\" onclick=\"convertToInteractive('df-15c5efe6-2bdd-42ce-8a18-fb4d3cf3a598')\"\n",
              "              title=\"Convert this dataframe to an interactive table.\"\n",
              "              style=\"display:none;\">\n",
              "        \n",
              "  <svg xmlns=\"http://www.w3.org/2000/svg\" height=\"24px\"viewBox=\"0 0 24 24\"\n",
              "       width=\"24px\">\n",
              "    <path d=\"M0 0h24v24H0V0z\" fill=\"none\"/>\n",
              "    <path d=\"M18.56 5.44l.94 2.06.94-2.06 2.06-.94-2.06-.94-.94-2.06-.94 2.06-2.06.94zm-11 1L8.5 8.5l.94-2.06 2.06-.94-2.06-.94L8.5 2.5l-.94 2.06-2.06.94zm10 10l.94 2.06.94-2.06 2.06-.94-2.06-.94-.94-2.06-.94 2.06-2.06.94z\"/><path d=\"M17.41 7.96l-1.37-1.37c-.4-.4-.92-.59-1.43-.59-.52 0-1.04.2-1.43.59L10.3 9.45l-7.72 7.72c-.78.78-.78 2.05 0 2.83L4 21.41c.39.39.9.59 1.41.59.51 0 1.02-.2 1.41-.59l7.78-7.78 2.81-2.81c.8-.78.8-2.07 0-2.86zM5.41 20L4 18.59l7.72-7.72 1.47 1.35L5.41 20z\"/>\n",
              "  </svg>\n",
              "      </button>\n",
              "      \n",
              "  <style>\n",
              "    .colab-df-container {\n",
              "      display:flex;\n",
              "      flex-wrap:wrap;\n",
              "      gap: 12px;\n",
              "    }\n",
              "\n",
              "    .colab-df-convert {\n",
              "      background-color: #E8F0FE;\n",
              "      border: none;\n",
              "      border-radius: 50%;\n",
              "      cursor: pointer;\n",
              "      display: none;\n",
              "      fill: #1967D2;\n",
              "      height: 32px;\n",
              "      padding: 0 0 0 0;\n",
              "      width: 32px;\n",
              "    }\n",
              "\n",
              "    .colab-df-convert:hover {\n",
              "      background-color: #E2EBFA;\n",
              "      box-shadow: 0px 1px 2px rgba(60, 64, 67, 0.3), 0px 1px 3px 1px rgba(60, 64, 67, 0.15);\n",
              "      fill: #174EA6;\n",
              "    }\n",
              "\n",
              "    [theme=dark] .colab-df-convert {\n",
              "      background-color: #3B4455;\n",
              "      fill: #D2E3FC;\n",
              "    }\n",
              "\n",
              "    [theme=dark] .colab-df-convert:hover {\n",
              "      background-color: #434B5C;\n",
              "      box-shadow: 0px 1px 3px 1px rgba(0, 0, 0, 0.15);\n",
              "      filter: drop-shadow(0px 1px 2px rgba(0, 0, 0, 0.3));\n",
              "      fill: #FFFFFF;\n",
              "    }\n",
              "  </style>\n",
              "\n",
              "      <script>\n",
              "        const buttonEl =\n",
              "          document.querySelector('#df-15c5efe6-2bdd-42ce-8a18-fb4d3cf3a598 button.colab-df-convert');\n",
              "        buttonEl.style.display =\n",
              "          google.colab.kernel.accessAllowed ? 'block' : 'none';\n",
              "\n",
              "        async function convertToInteractive(key) {\n",
              "          const element = document.querySelector('#df-15c5efe6-2bdd-42ce-8a18-fb4d3cf3a598');\n",
              "          const dataTable =\n",
              "            await google.colab.kernel.invokeFunction('convertToInteractive',\n",
              "                                                     [key], {});\n",
              "          if (!dataTable) return;\n",
              "\n",
              "          const docLinkHtml = 'Like what you see? Visit the ' +\n",
              "            '<a target=\"_blank\" href=https://colab.research.google.com/notebooks/data_table.ipynb>data table notebook</a>'\n",
              "            + ' to learn more about interactive tables.';\n",
              "          element.innerHTML = '';\n",
              "          dataTable['output_type'] = 'display_data';\n",
              "          await google.colab.output.renderOutput(dataTable, element);\n",
              "          const docLink = document.createElement('div');\n",
              "          docLink.innerHTML = docLinkHtml;\n",
              "          element.appendChild(docLink);\n",
              "        }\n",
              "      </script>\n",
              "    </div>\n",
              "  </div>\n",
              "  "
            ],
            "text/plain": [
              "        Combination ID  n_cl  Pearson coefficient\n",
              "54       ALK.CSNK2A1_2     6                  0.0\n",
              "96   MTOR_1.TNKS_PARP6     7                  0.0\n",
              "133    Cisplatin.PIK3C     3                  0.0\n",
              "138      AKT.Cisplatin     3                  0.0\n",
              "148    AKT.Chloroquine     5                  0.0\n",
              "157     MTOR_1.SLC16A4     7                  0.0"
            ]
          },
          "metadata": {},
          "execution_count": 69
        }
      ]
    },
    {
      "cell_type": "markdown",
      "source": [
        "The function works."
      ],
      "metadata": {
        "id": "dPaAEGt7kgG7"
      }
    },
    {
      "cell_type": "markdown",
      "source": [
        "# Random Forest"
      ],
      "metadata": {
        "id": "wAj2SSjumfVE"
      }
    },
    {
      "cell_type": "code",
      "source": [
        "def rf(xs, y, n_estimators=100, max_samples=300,\n",
        "       max_features=0.5, min_samples_leaf=5, **kwargs):\n",
        "    return RandomForestRegressor(n_jobs=-1, n_estimators=n_estimators,\n",
        "        max_samples=max_samples, max_features=max_features,\n",
        "        min_samples_leaf=min_samples_leaf, random_state = 42 ,oob_score=True).fit(xs, y)"
      ],
      "metadata": {
        "id": "sQBJ2ilNmW7R"
      },
      "execution_count": null,
      "outputs": []
    },
    {
      "cell_type": "code",
      "source": [
        "m = rf(xs, y);\n",
        "m_rmse(m, xs, y), m_rmse(m, valid_xs, valid_y)\n"
      ],
      "metadata": {
        "colab": {
          "base_uri": "https://localhost:8080/"
        },
        "id": "hYtae3lHmkqG",
        "outputId": "14b4185f-d6ac-4fc6-ce06-67b832266bf9"
      },
      "execution_count": null,
      "outputs": [
        {
          "output_type": "execute_result",
          "data": {
            "text/plain": [
              "(24.374761, 26.497797)"
            ]
          },
          "metadata": {},
          "execution_count": 60
        }
      ]
    },
    {
      "cell_type": "markdown",
      "source": [
        "A little better than the Tree regressor, but not that great."
      ],
      "metadata": {
        "id": "tp8zQ3qimuk5"
      }
    },
    {
      "cell_type": "code",
      "source": [
        "y_pred = m.predict(valid_xs)\n",
        "weighted_pear, pear_weights_df = weighted_pearson(test_df, y_pred)\n",
        "print(\"Weighted Pearson: \", weighted_pear)\n",
        "print(pear_weights_df)"
      ],
      "metadata": {
        "id": "LT36jmUWOIue",
        "outputId": "1c216970-e990-4f4b-c59a-13afd5d4becd",
        "colab": {
          "base_uri": "https://localhost:8080/"
        }
      },
      "execution_count": null,
      "outputs": [
        {
          "output_type": "stream",
          "name": "stdout",
          "text": [
            "Weighted Pearson:  0.16706360356491573\n",
            "      Combination ID  n_cl  Pearson coefficient\n",
            "0          EGFR.FGFR     6             0.429530\n",
            "1        FASN.MTOR_1     7            -0.013100\n",
            "2         IAP.IGFR_3     3             0.884104\n",
            "3        FGFR.MTOR_3     5             0.914940\n",
            "4         IAP.PIK3CB    10             0.398945\n",
            "..               ...   ...                  ...\n",
            "162   Cisplatin.FGFR     3            -0.755894\n",
            "163      HSP90.PIK3C     3             0.304881\n",
            "164  ATM.Gemcitabine     3            -0.278453\n",
            "165     ATR_4.HDAC_4     3             0.999990\n",
            "166   BCL2.CSNK2A1_2     6            -0.554555\n",
            "\n",
            "[167 rows x 3 columns]\n"
          ]
        }
      ]
    },
    {
      "cell_type": "markdown",
      "source": [
        "We see that Random Forest gives better prediction than Decision Trees. \n",
        "\n",
        "Let's try to obtain meaningful info. For example, let's order drug combinations from highest to lowest correlation"
      ],
      "metadata": {
        "id": "pODZ5XD7Q6lF"
      }
    },
    {
      "cell_type": "code",
      "source": [
        "ordered_df = pear_weights_df.sort_values(by = \"Pearson coefficient\",\n",
        "                                         ascending = False)\n",
        "print(ordered_df)"
      ],
      "metadata": {
        "id": "TKvr1J5oQ5sL",
        "outputId": "f25fe45a-c26f-418f-b8cb-e97638b074ca",
        "colab": {
          "base_uri": "https://localhost:8080/"
        }
      },
      "execution_count": null,
      "outputs": [
        {
          "output_type": "stream",
          "name": "stdout",
          "text": [
            "        Combination ID  n_cl  Pearson coefficient\n",
            "165       ATR_4.HDAC_4     3             0.999990\n",
            "31            FGFR.WNT     3             0.999920\n",
            "8    Gemcitabine.PARP1     3             0.999857\n",
            "156  EG5.PIK3CB_PIK3CD     3             0.998560\n",
            "151        MAP2K_1.TKI     3             0.998325\n",
            "..                 ...   ...                  ...\n",
            "145  AKT_1.Chloroquine     5            -0.803913\n",
            "148    AKT.Chloroquine     5            -0.807129\n",
            "77            IAP.SN38     3            -0.971769\n",
            "65      IGFR_4.MAP2K_1     3            -0.992857\n",
            "85      IGFR_3.MAP2K_1     3            -0.996501\n",
            "\n",
            "[167 rows x 3 columns]\n"
          ]
        }
      ]
    },
    {
      "cell_type": "markdown",
      "source": [
        "Now the most uncorrelated:"
      ],
      "metadata": {
        "id": "PFKEZaW2SfS6"
      }
    },
    {
      "cell_type": "code",
      "source": [
        "ordered_df[\"abs Pearson\"] = np.abs(ordered_df[\"Pearson coefficient\"])\n",
        "ordered_df = ordered_df.sort_values(by =\"abs Pearson\",\n",
        "                                         ascending = True)\n",
        "ordered_df.head(10)"
      ],
      "metadata": {
        "id": "WRMCLSt7ShRt",
        "outputId": "0803211e-e8bb-46b0-c999-24cacd943e2b",
        "colab": {
          "base_uri": "https://localhost:8080/",
          "height": 363
        }
      },
      "execution_count": null,
      "outputs": [
        {
          "output_type": "execute_result",
          "data": {
            "text/html": [
              "\n",
              "  <div id=\"df-a342960f-39e6-4cfd-87a6-52c9a05445d1\">\n",
              "    <div class=\"colab-df-container\">\n",
              "      <div>\n",
              "<style scoped>\n",
              "    .dataframe tbody tr th:only-of-type {\n",
              "        vertical-align: middle;\n",
              "    }\n",
              "\n",
              "    .dataframe tbody tr th {\n",
              "        vertical-align: top;\n",
              "    }\n",
              "\n",
              "    .dataframe thead th {\n",
              "        text-align: right;\n",
              "    }\n",
              "</style>\n",
              "<table border=\"1\" class=\"dataframe\">\n",
              "  <thead>\n",
              "    <tr style=\"text-align: right;\">\n",
              "      <th></th>\n",
              "      <th>Combination ID</th>\n",
              "      <th>n_cl</th>\n",
              "      <th>Pearson coefficient</th>\n",
              "      <th>abs Pearson</th>\n",
              "    </tr>\n",
              "  </thead>\n",
              "  <tbody>\n",
              "    <tr>\n",
              "      <th>123</th>\n",
              "      <td>BCL2.MAP2K_1</td>\n",
              "      <td>3</td>\n",
              "      <td>0.005340</td>\n",
              "      <td>0.005340</td>\n",
              "    </tr>\n",
              "    <tr>\n",
              "      <th>122</th>\n",
              "      <td>FGFR.SLC16A4</td>\n",
              "      <td>6</td>\n",
              "      <td>-0.008699</td>\n",
              "      <td>0.008699</td>\n",
              "    </tr>\n",
              "    <tr>\n",
              "      <th>20</th>\n",
              "      <td>FGFR.TNKS_PARP6</td>\n",
              "      <td>7</td>\n",
              "      <td>-0.009324</td>\n",
              "      <td>0.009324</td>\n",
              "    </tr>\n",
              "    <tr>\n",
              "      <th>107</th>\n",
              "      <td>CarboTaxol.CSNK2A1_2</td>\n",
              "      <td>5</td>\n",
              "      <td>-0.009835</td>\n",
              "      <td>0.009835</td>\n",
              "    </tr>\n",
              "    <tr>\n",
              "      <th>1</th>\n",
              "      <td>FASN.MTOR_1</td>\n",
              "      <td>7</td>\n",
              "      <td>-0.013100</td>\n",
              "      <td>0.013100</td>\n",
              "    </tr>\n",
              "    <tr>\n",
              "      <th>137</th>\n",
              "      <td>AKT.HDAC_4</td>\n",
              "      <td>5</td>\n",
              "      <td>-0.015835</td>\n",
              "      <td>0.015835</td>\n",
              "    </tr>\n",
              "    <tr>\n",
              "      <th>117</th>\n",
              "      <td>ADAM17.BCL2_BCL2L1</td>\n",
              "      <td>7</td>\n",
              "      <td>0.022154</td>\n",
              "      <td>0.022154</td>\n",
              "    </tr>\n",
              "    <tr>\n",
              "      <th>13</th>\n",
              "      <td>ADAM17.PIK3CB_PIK3CD</td>\n",
              "      <td>8</td>\n",
              "      <td>-0.025216</td>\n",
              "      <td>0.025216</td>\n",
              "    </tr>\n",
              "    <tr>\n",
              "      <th>118</th>\n",
              "      <td>AKT.ATR_4</td>\n",
              "      <td>10</td>\n",
              "      <td>-0.027071</td>\n",
              "      <td>0.027071</td>\n",
              "    </tr>\n",
              "    <tr>\n",
              "      <th>149</th>\n",
              "      <td>Cisplatin.PARP1</td>\n",
              "      <td>3</td>\n",
              "      <td>0.028164</td>\n",
              "      <td>0.028164</td>\n",
              "    </tr>\n",
              "  </tbody>\n",
              "</table>\n",
              "</div>\n",
              "      <button class=\"colab-df-convert\" onclick=\"convertToInteractive('df-a342960f-39e6-4cfd-87a6-52c9a05445d1')\"\n",
              "              title=\"Convert this dataframe to an interactive table.\"\n",
              "              style=\"display:none;\">\n",
              "        \n",
              "  <svg xmlns=\"http://www.w3.org/2000/svg\" height=\"24px\"viewBox=\"0 0 24 24\"\n",
              "       width=\"24px\">\n",
              "    <path d=\"M0 0h24v24H0V0z\" fill=\"none\"/>\n",
              "    <path d=\"M18.56 5.44l.94 2.06.94-2.06 2.06-.94-2.06-.94-.94-2.06-.94 2.06-2.06.94zm-11 1L8.5 8.5l.94-2.06 2.06-.94-2.06-.94L8.5 2.5l-.94 2.06-2.06.94zm10 10l.94 2.06.94-2.06 2.06-.94-2.06-.94-.94-2.06-.94 2.06-2.06.94z\"/><path d=\"M17.41 7.96l-1.37-1.37c-.4-.4-.92-.59-1.43-.59-.52 0-1.04.2-1.43.59L10.3 9.45l-7.72 7.72c-.78.78-.78 2.05 0 2.83L4 21.41c.39.39.9.59 1.41.59.51 0 1.02-.2 1.41-.59l7.78-7.78 2.81-2.81c.8-.78.8-2.07 0-2.86zM5.41 20L4 18.59l7.72-7.72 1.47 1.35L5.41 20z\"/>\n",
              "  </svg>\n",
              "      </button>\n",
              "      \n",
              "  <style>\n",
              "    .colab-df-container {\n",
              "      display:flex;\n",
              "      flex-wrap:wrap;\n",
              "      gap: 12px;\n",
              "    }\n",
              "\n",
              "    .colab-df-convert {\n",
              "      background-color: #E8F0FE;\n",
              "      border: none;\n",
              "      border-radius: 50%;\n",
              "      cursor: pointer;\n",
              "      display: none;\n",
              "      fill: #1967D2;\n",
              "      height: 32px;\n",
              "      padding: 0 0 0 0;\n",
              "      width: 32px;\n",
              "    }\n",
              "\n",
              "    .colab-df-convert:hover {\n",
              "      background-color: #E2EBFA;\n",
              "      box-shadow: 0px 1px 2px rgba(60, 64, 67, 0.3), 0px 1px 3px 1px rgba(60, 64, 67, 0.15);\n",
              "      fill: #174EA6;\n",
              "    }\n",
              "\n",
              "    [theme=dark] .colab-df-convert {\n",
              "      background-color: #3B4455;\n",
              "      fill: #D2E3FC;\n",
              "    }\n",
              "\n",
              "    [theme=dark] .colab-df-convert:hover {\n",
              "      background-color: #434B5C;\n",
              "      box-shadow: 0px 1px 3px 1px rgba(0, 0, 0, 0.15);\n",
              "      filter: drop-shadow(0px 1px 2px rgba(0, 0, 0, 0.3));\n",
              "      fill: #FFFFFF;\n",
              "    }\n",
              "  </style>\n",
              "\n",
              "      <script>\n",
              "        const buttonEl =\n",
              "          document.querySelector('#df-a342960f-39e6-4cfd-87a6-52c9a05445d1 button.colab-df-convert');\n",
              "        buttonEl.style.display =\n",
              "          google.colab.kernel.accessAllowed ? 'block' : 'none';\n",
              "\n",
              "        async function convertToInteractive(key) {\n",
              "          const element = document.querySelector('#df-a342960f-39e6-4cfd-87a6-52c9a05445d1');\n",
              "          const dataTable =\n",
              "            await google.colab.kernel.invokeFunction('convertToInteractive',\n",
              "                                                     [key], {});\n",
              "          if (!dataTable) return;\n",
              "\n",
              "          const docLinkHtml = 'Like what you see? Visit the ' +\n",
              "            '<a target=\"_blank\" href=https://colab.research.google.com/notebooks/data_table.ipynb>data table notebook</a>'\n",
              "            + ' to learn more about interactive tables.';\n",
              "          element.innerHTML = '';\n",
              "          dataTable['output_type'] = 'display_data';\n",
              "          await google.colab.output.renderOutput(dataTable, element);\n",
              "          const docLink = document.createElement('div');\n",
              "          docLink.innerHTML = docLinkHtml;\n",
              "          element.appendChild(docLink);\n",
              "        }\n",
              "      </script>\n",
              "    </div>\n",
              "  </div>\n",
              "  "
            ],
            "text/plain": [
              "           Combination ID  n_cl  Pearson coefficient  abs Pearson\n",
              "123          BCL2.MAP2K_1     3             0.005340     0.005340\n",
              "122          FGFR.SLC16A4     6            -0.008699     0.008699\n",
              "20        FGFR.TNKS_PARP6     7            -0.009324     0.009324\n",
              "107  CarboTaxol.CSNK2A1_2     5            -0.009835     0.009835\n",
              "1             FASN.MTOR_1     7            -0.013100     0.013100\n",
              "137            AKT.HDAC_4     5            -0.015835     0.015835\n",
              "117    ADAM17.BCL2_BCL2L1     7             0.022154     0.022154\n",
              "13   ADAM17.PIK3CB_PIK3CD     8            -0.025216     0.025216\n",
              "118             AKT.ATR_4    10            -0.027071     0.027071\n",
              "149       Cisplatin.PARP1     3             0.028164     0.028164"
            ]
          },
          "metadata": {},
          "execution_count": 54
        }
      ]
    },
    {
      "cell_type": "code",
      "source": [
        "sns.histplot(data = ordered_df[\"Pearson coefficient\"], bins = 10)\n",
        "plt.savefig(\"pearson_random_forest.eps\", format = 'eps', dpi=300)\n"
      ],
      "metadata": {
        "id": "msWcS-3CT66x",
        "outputId": "af0c382a-bf17-41aa-b853-e5760f5c2dfd",
        "colab": {
          "base_uri": "https://localhost:8080/",
          "height": 458
        }
      },
      "execution_count": null,
      "outputs": [
        {
          "output_type": "stream",
          "name": "stderr",
          "text": [
            "The PostScript backend does not support transparency; partially transparent artists will be rendered opaque.\n",
            "The PostScript backend does not support transparency; partially transparent artists will be rendered opaque.\n",
            "The PostScript backend does not support transparency; partially transparent artists will be rendered opaque.\n",
            "The PostScript backend does not support transparency; partially transparent artists will be rendered opaque.\n",
            "The PostScript backend does not support transparency; partially transparent artists will be rendered opaque.\n",
            "The PostScript backend does not support transparency; partially transparent artists will be rendered opaque.\n",
            "The PostScript backend does not support transparency; partially transparent artists will be rendered opaque.\n",
            "The PostScript backend does not support transparency; partially transparent artists will be rendered opaque.\n",
            "The PostScript backend does not support transparency; partially transparent artists will be rendered opaque.\n",
            "The PostScript backend does not support transparency; partially transparent artists will be rendered opaque.\n"
          ]
        },
        {
          "output_type": "display_data",
          "data": {
            "image/png": "[encoded data removed]",
            "text/plain": [
              "<Figure size 432x288 with 1 Axes>"
            ]
          },
          "metadata": {
            "needs_background": "light"
          }
        }
      ]
    },
    {
      "cell_type": "markdown",
      "source": [
        "Let's try to do a bit of hyperparameter tuning to check for the best hyperparameters for random forest. "
      ],
      "metadata": {
        "id": "3e70Tq81k2pF"
      }
    },
    {
      "cell_type": "code",
      "source": [
        "def rf_training(xs, y, test_df, n_estimators=100, max_samples=300,\n",
        "       max_features=0.5, min_samples_leaf=5, random_state = 42, **kwargs):\n",
        "   m = RandomForestRegressor(n_jobs=-1, n_estimators=n_estimators,\n",
        "        max_samples=max_samples, max_features=max_features,\n",
        "        min_samples_leaf=min_samples_leaf,random_state = random_state , \n",
        "        oob_score=True)\n",
        "   m.fit(xs, y)      \n",
        "   y_pred = m.predict(valid_xs)\n",
        "   weighted_pear = wpc_score(test_df, y_pred)\n",
        "   return weighted_pear"
      ],
      "metadata": {
        "id": "4aQWHQbIVxiJ"
      },
      "execution_count": null,
      "outputs": []
    },
    {
      "cell_type": "markdown",
      "source": [
        "Let's try our function and see if it reproduces previous results."
      ],
      "metadata": {
        "id": "5hrT19Z9mQdL"
      }
    },
    {
      "cell_type": "code",
      "source": [
        "rf_training(xs, y, test_df)"
      ],
      "metadata": {
        "id": "4xFq4WjQmYqf",
        "outputId": "4e84bf4b-f175-4677-e424-03d0b915bd2b",
        "colab": {
          "base_uri": "https://localhost:8080/"
        }
      },
      "execution_count": null,
      "outputs": [
        {
          "output_type": "execute_result",
          "data": {
            "text/plain": [
              "0.186327856782357"
            ]
          },
          "metadata": {},
          "execution_count": 102
        }
      ]
    },
    {
      "cell_type": "markdown",
      "source": [
        "Close enough, the small difference can be explained by the fact that we didn't fix the random seed. Let's try some hyperparameter tuning."
      ],
      "metadata": {
        "id": "micGOe7ympVn"
      }
    },
    {
      "cell_type": "markdown",
      "source": [
        "# Tabular learner fastai\n",
        "As next model we will try a Tabular Learner from FastAI. \n",
        "First thing we have to do is normalize the data. We create another TabularPandas object:\n"
      ],
      "metadata": {
        "id": "Ka6jDNBWuGLn"
      }
    },
    {
      "cell_type": "code",
      "source": [
        "procs_nn = [Categorify, FillMissing, Normalize]\n",
        "\n",
        "to_nn = TabularPandas(df_nocomb, procs, cat, cont, y_names=dep_var, \n",
        "                      splits=splits)"
      ],
      "metadata": {
        "id": "bjOxq4hJwG4n"
      },
      "execution_count": null,
      "outputs": []
    },
    {
      "cell_type": "markdown",
      "source": [
        "Now we create our dataloader and check for the maximum and minimum of our data. This is useful as we will limit the output interval of our model"
      ],
      "metadata": {
        "id": "aXiIhTp-wdcJ"
      }
    },
    {
      "cell_type": "code",
      "source": [
        "dls = to_nn.dataloaders(1024)\n",
        "y = to_nn.train.y\n",
        "y.min(),y.max()"
      ],
      "metadata": {
        "id": "UA1Hz-q7wduJ",
        "outputId": "584174e2-d7bc-450f-8177-2ee66696dc22",
        "colab": {
          "base_uri": "https://localhost:8080/"
        }
      },
      "execution_count": null,
      "outputs": [
        {
          "output_type": "execute_result",
          "data": {
            "text/plain": [
              "(-178.6540985107422, 237.37640380859375)"
            ]
          },
          "metadata": {},
          "execution_count": 37
        }
      ]
    },
    {
      "cell_type": "markdown",
      "source": [
        "We create our learner and look for an optimal learning rate with lr_find."
      ],
      "metadata": {
        "id": "V2ZX93Nvw6Wo"
      }
    },
    {
      "cell_type": "code",
      "source": [
        "learn = tabular_learner(dls, y_range=(y.min(),y.max()), layers=[200,50, 20],\n",
        "                        n_out=1, loss_func=F.mse_loss)\n",
        "learn.lr_find()\n"
      ],
      "metadata": {
        "id": "YjrM0YvhwvAS",
        "outputId": "b39f9789-2caf-4c1a-d391-4b72fc9e5098",
        "colab": {
          "base_uri": "https://localhost:8080/",
          "height": 306
        }
      },
      "execution_count": null,
      "outputs": [
        {
          "output_type": "display_data",
          "data": {
            "text/plain": [
              "<IPython.core.display.HTML object>"
            ],
            "text/html": [
              "\n",
              "<style>\n",
              "    /* Turns off some styling */\n",
              "    progress {\n",
              "        /* gets rid of default border in Firefox and Opera. */\n",
              "        border: none;\n",
              "        /* Needs to be in here for Safari polyfill so background images work as expected. */\n",
              "        background-size: auto;\n",
              "    }\n",
              "    .progress-bar-interrupted, .progress-bar-interrupted::-webkit-progress-bar {\n",
              "        background: #F44336;\n",
              "    }\n",
              "</style>\n"
            ]
          },
          "metadata": {}
        },
        {
          "output_type": "display_data",
          "data": {
            "text/plain": [
              "<IPython.core.display.HTML object>"
            ],
            "text/html": [
              ""
            ]
          },
          "metadata": {}
        },
        {
          "output_type": "execute_result",
          "data": {
            "text/plain": [
              "SuggestedLRs(valley=0.0010000000474974513)"
            ]
          },
          "metadata": {},
          "execution_count": 38
        },
        {
          "output_type": "display_data",
          "data": {
            "text/plain": [
              "<Figure size 432x288 with 1 Axes>"
            ],
            "image/png": "[encoded data removed]"
          },
          "metadata": {
            "needs_background": "light"
          }
        }
      ]
    },
    {
      "cell_type": "markdown",
      "source": [
        "Now we finetune our learner by a few epochs.\n",
        "\n"
      ],
      "metadata": {
        "id": "8aYR-o7kxBpl"
      }
    },
    {
      "cell_type": "code",
      "source": [
        "learn.fit_one_cycle(50, 1e-3)\n"
      ],
      "metadata": {
        "id": "S-GNRx1zxCXl",
        "outputId": "0a2b8b0a-fe1f-491f-c42b-21b40d149c36",
        "colab": {
          "base_uri": "https://localhost:8080/",
          "height": 1000
        }
      },
      "execution_count": null,
      "outputs": [
        {
          "output_type": "display_data",
          "data": {
            "text/plain": [
              "<IPython.core.display.HTML object>"
            ],
            "text/html": [
              "\n",
              "<style>\n",
              "    /* Turns off some styling */\n",
              "    progress {\n",
              "        /* gets rid of default border in Firefox and Opera. */\n",
              "        border: none;\n",
              "        /* Needs to be in here for Safari polyfill so background images work as expected. */\n",
              "        background-size: auto;\n",
              "    }\n",
              "    .progress-bar-interrupted, .progress-bar-interrupted::-webkit-progress-bar {\n",
              "        background: #F44336;\n",
              "    }\n",
              "</style>\n"
            ]
          },
          "metadata": {}
        },
        {
          "output_type": "display_data",
          "data": {
            "text/plain": [
              "<IPython.core.display.HTML object>"
            ],
            "text/html": [
              "<table border=\"1\" class=\"dataframe\">\n",
              "  <thead>\n",
              "    <tr style=\"text-align: left;\">\n",
              "      <th>epoch</th>\n",
              "      <th>train_loss</th>\n",
              "      <th>valid_loss</th>\n",
              "      <th>time</th>\n",
              "    </tr>\n",
              "  </thead>\n",
              "  <tbody>\n",
              "    <tr>\n",
              "      <td>0</td>\n",
              "      <td>4117.541504</td>\n",
              "      <td>1458.527344</td>\n",
              "      <td>00:00</td>\n",
              "    </tr>\n",
              "    <tr>\n",
              "      <td>1</td>\n",
              "      <td>4028.859131</td>\n",
              "      <td>1391.474365</td>\n",
              "      <td>00:00</td>\n",
              "    </tr>\n",
              "    <tr>\n",
              "      <td>2</td>\n",
              "      <td>3947.213135</td>\n",
              "      <td>1327.601074</td>\n",
              "      <td>00:00</td>\n",
              "    </tr>\n",
              "    <tr>\n",
              "      <td>3</td>\n",
              "      <td>3866.347656</td>\n",
              "      <td>1264.543091</td>\n",
              "      <td>00:00</td>\n",
              "    </tr>\n",
              "    <tr>\n",
              "      <td>4</td>\n",
              "      <td>3689.180908</td>\n",
              "      <td>1205.392090</td>\n",
              "      <td>00:00</td>\n",
              "    </tr>\n",
              "    <tr>\n",
              "      <td>5</td>\n",
              "      <td>3536.247314</td>\n",
              "      <td>1150.564453</td>\n",
              "      <td>00:00</td>\n",
              "    </tr>\n",
              "    <tr>\n",
              "      <td>6</td>\n",
              "      <td>3368.241211</td>\n",
              "      <td>1101.905273</td>\n",
              "      <td>00:00</td>\n",
              "    </tr>\n",
              "    <tr>\n",
              "      <td>7</td>\n",
              "      <td>3209.256348</td>\n",
              "      <td>1057.416626</td>\n",
              "      <td>00:00</td>\n",
              "    </tr>\n",
              "    <tr>\n",
              "      <td>8</td>\n",
              "      <td>3061.905518</td>\n",
              "      <td>1017.447632</td>\n",
              "      <td>00:00</td>\n",
              "    </tr>\n",
              "    <tr>\n",
              "      <td>9</td>\n",
              "      <td>2943.799072</td>\n",
              "      <td>981.191895</td>\n",
              "      <td>00:00</td>\n",
              "    </tr>\n",
              "    <tr>\n",
              "      <td>10</td>\n",
              "      <td>2835.016602</td>\n",
              "      <td>947.961792</td>\n",
              "      <td>00:00</td>\n",
              "    </tr>\n",
              "    <tr>\n",
              "      <td>11</td>\n",
              "      <td>2735.687988</td>\n",
              "      <td>916.820862</td>\n",
              "      <td>00:00</td>\n",
              "    </tr>\n",
              "    <tr>\n",
              "      <td>12</td>\n",
              "      <td>2637.875244</td>\n",
              "      <td>891.913513</td>\n",
              "      <td>00:00</td>\n",
              "    </tr>\n",
              "    <tr>\n",
              "      <td>13</td>\n",
              "      <td>2542.011719</td>\n",
              "      <td>870.113892</td>\n",
              "      <td>00:00</td>\n",
              "    </tr>\n",
              "    <tr>\n",
              "      <td>14</td>\n",
              "      <td>2459.287842</td>\n",
              "      <td>851.854675</td>\n",
              "      <td>00:00</td>\n",
              "    </tr>\n",
              "    <tr>\n",
              "      <td>15</td>\n",
              "      <td>2378.488525</td>\n",
              "      <td>835.453003</td>\n",
              "      <td>00:00</td>\n",
              "    </tr>\n",
              "    <tr>\n",
              "      <td>16</td>\n",
              "      <td>2303.067383</td>\n",
              "      <td>819.791138</td>\n",
              "      <td>00:00</td>\n",
              "    </tr>\n",
              "    <tr>\n",
              "      <td>17</td>\n",
              "      <td>2236.330078</td>\n",
              "      <td>804.899170</td>\n",
              "      <td>00:00</td>\n",
              "    </tr>\n",
              "    <tr>\n",
              "      <td>18</td>\n",
              "      <td>2173.187744</td>\n",
              "      <td>791.548706</td>\n",
              "      <td>00:00</td>\n",
              "    </tr>\n",
              "    <tr>\n",
              "      <td>19</td>\n",
              "      <td>2117.660645</td>\n",
              "      <td>780.775940</td>\n",
              "      <td>00:00</td>\n",
              "    </tr>\n",
              "    <tr>\n",
              "      <td>20</td>\n",
              "      <td>2055.722900</td>\n",
              "      <td>772.528748</td>\n",
              "      <td>00:00</td>\n",
              "    </tr>\n",
              "    <tr>\n",
              "      <td>21</td>\n",
              "      <td>2000.897949</td>\n",
              "      <td>768.079773</td>\n",
              "      <td>00:00</td>\n",
              "    </tr>\n",
              "    <tr>\n",
              "      <td>22</td>\n",
              "      <td>1950.218140</td>\n",
              "      <td>765.699646</td>\n",
              "      <td>00:00</td>\n",
              "    </tr>\n",
              "    <tr>\n",
              "      <td>23</td>\n",
              "      <td>1902.858887</td>\n",
              "      <td>764.587708</td>\n",
              "      <td>00:00</td>\n",
              "    </tr>\n",
              "    <tr>\n",
              "      <td>24</td>\n",
              "      <td>1861.331421</td>\n",
              "      <td>764.160034</td>\n",
              "      <td>00:00</td>\n",
              "    </tr>\n",
              "    <tr>\n",
              "      <td>25</td>\n",
              "      <td>1820.628662</td>\n",
              "      <td>763.796753</td>\n",
              "      <td>00:00</td>\n",
              "    </tr>\n",
              "    <tr>\n",
              "      <td>26</td>\n",
              "      <td>1778.303955</td>\n",
              "      <td>763.625610</td>\n",
              "      <td>00:00</td>\n",
              "    </tr>\n",
              "    <tr>\n",
              "      <td>27</td>\n",
              "      <td>1742.350220</td>\n",
              "      <td>764.127502</td>\n",
              "      <td>00:00</td>\n",
              "    </tr>\n",
              "    <tr>\n",
              "      <td>28</td>\n",
              "      <td>1707.649536</td>\n",
              "      <td>765.162354</td>\n",
              "      <td>00:00</td>\n",
              "    </tr>\n",
              "    <tr>\n",
              "      <td>29</td>\n",
              "      <td>1676.274658</td>\n",
              "      <td>767.092773</td>\n",
              "      <td>00:00</td>\n",
              "    </tr>\n",
              "    <tr>\n",
              "      <td>30</td>\n",
              "      <td>1642.064941</td>\n",
              "      <td>769.334106</td>\n",
              "      <td>00:00</td>\n",
              "    </tr>\n",
              "    <tr>\n",
              "      <td>31</td>\n",
              "      <td>1608.245850</td>\n",
              "      <td>772.432434</td>\n",
              "      <td>00:00</td>\n",
              "    </tr>\n",
              "    <tr>\n",
              "      <td>32</td>\n",
              "      <td>1577.738159</td>\n",
              "      <td>775.717407</td>\n",
              "      <td>00:00</td>\n",
              "    </tr>\n",
              "    <tr>\n",
              "      <td>33</td>\n",
              "      <td>1548.277344</td>\n",
              "      <td>779.197449</td>\n",
              "      <td>00:00</td>\n",
              "    </tr>\n",
              "    <tr>\n",
              "      <td>34</td>\n",
              "      <td>1519.872559</td>\n",
              "      <td>783.867188</td>\n",
              "      <td>00:00</td>\n",
              "    </tr>\n",
              "    <tr>\n",
              "      <td>35</td>\n",
              "      <td>1492.310303</td>\n",
              "      <td>787.453918</td>\n",
              "      <td>00:00</td>\n",
              "    </tr>\n",
              "    <tr>\n",
              "      <td>36</td>\n",
              "      <td>1466.580200</td>\n",
              "      <td>792.119446</td>\n",
              "      <td>00:00</td>\n",
              "    </tr>\n",
              "    <tr>\n",
              "      <td>37</td>\n",
              "      <td>1441.598755</td>\n",
              "      <td>796.859497</td>\n",
              "      <td>00:00</td>\n",
              "    </tr>\n",
              "    <tr>\n",
              "      <td>38</td>\n",
              "      <td>1419.685913</td>\n",
              "      <td>801.774109</td>\n",
              "      <td>00:00</td>\n",
              "    </tr>\n",
              "    <tr>\n",
              "      <td>39</td>\n",
              "      <td>1397.410156</td>\n",
              "      <td>808.022461</td>\n",
              "      <td>00:00</td>\n",
              "    </tr>\n",
              "    <tr>\n",
              "      <td>40</td>\n",
              "      <td>1376.837646</td>\n",
              "      <td>814.164001</td>\n",
              "      <td>00:00</td>\n",
              "    </tr>\n",
              "    <tr>\n",
              "      <td>41</td>\n",
              "      <td>1356.423340</td>\n",
              "      <td>820.877686</td>\n",
              "      <td>00:00</td>\n",
              "    </tr>\n",
              "    <tr>\n",
              "      <td>42</td>\n",
              "      <td>1338.662231</td>\n",
              "      <td>828.393738</td>\n",
              "      <td>00:00</td>\n",
              "    </tr>\n",
              "    <tr>\n",
              "      <td>43</td>\n",
              "      <td>1318.217529</td>\n",
              "      <td>836.400513</td>\n",
              "      <td>00:00</td>\n",
              "    </tr>\n",
              "    <tr>\n",
              "      <td>44</td>\n",
              "      <td>1299.216064</td>\n",
              "      <td>844.778625</td>\n",
              "      <td>00:00</td>\n",
              "    </tr>\n",
              "    <tr>\n",
              "      <td>45</td>\n",
              "      <td>1283.620728</td>\n",
              "      <td>854.816101</td>\n",
              "      <td>00:00</td>\n",
              "    </tr>\n",
              "    <tr>\n",
              "      <td>46</td>\n",
              "      <td>1266.894653</td>\n",
              "      <td>866.399048</td>\n",
              "      <td>00:00</td>\n",
              "    </tr>\n",
              "    <tr>\n",
              "      <td>47</td>\n",
              "      <td>1251.654053</td>\n",
              "      <td>877.284546</td>\n",
              "      <td>00:00</td>\n",
              "    </tr>\n",
              "    <tr>\n",
              "      <td>48</td>\n",
              "      <td>1236.254272</td>\n",
              "      <td>887.564148</td>\n",
              "      <td>00:00</td>\n",
              "    </tr>\n",
              "    <tr>\n",
              "      <td>49</td>\n",
              "      <td>1223.613892</td>\n",
              "      <td>899.587708</td>\n",
              "      <td>00:00</td>\n",
              "    </tr>\n",
              "  </tbody>\n",
              "</table>"
            ]
          },
          "metadata": {}
        }
      ]
    },
    {
      "cell_type": "markdown",
      "source": [
        "Lastly, we obtain our predictions and compute the WPC metric. Since the FastAI learner outputs a tensor, we have to Flatten it.\n"
      ],
      "metadata": {
        "id": "dbixBTvgxP3U"
      }
    },
    {
      "cell_type": "code",
      "source": [
        "y_pred, targs = learn.get_preds()\n",
        "y_pred = np.asarray(y_pred[:,0])\n",
        "wpc_score(test_df, y_pred)\n"
      ],
      "metadata": {
        "id": "HSax3LJBxVoX",
        "outputId": "a6d16743-ac2c-46a5-f6ef-322b0c3530de",
        "colab": {
          "base_uri": "https://localhost:8080/",
          "height": 34
        }
      },
      "execution_count": null,
      "outputs": [
        {
          "output_type": "display_data",
          "data": {
            "text/plain": [
              "<IPython.core.display.HTML object>"
            ],
            "text/html": [
              "\n",
              "<style>\n",
              "    /* Turns off some styling */\n",
              "    progress {\n",
              "        /* gets rid of default border in Firefox and Opera. */\n",
              "        border: none;\n",
              "        /* Needs to be in here for Safari polyfill so background images work as expected. */\n",
              "        background-size: auto;\n",
              "    }\n",
              "    .progress-bar-interrupted, .progress-bar-interrupted::-webkit-progress-bar {\n",
              "        background: #F44336;\n",
              "    }\n",
              "</style>\n"
            ]
          },
          "metadata": {}
        },
        {
          "output_type": "display_data",
          "data": {
            "text/plain": [
              "<IPython.core.display.HTML object>"
            ],
            "text/html": [
              ""
            ]
          },
          "metadata": {}
        },
        {
          "output_type": "execute_result",
          "data": {
            "text/plain": [
              "0.10968063703535985"
            ]
          },
          "metadata": {},
          "execution_count": 40
        }
      ]
    },
    {
      "cell_type": "code",
      "source": [
        "weighted_pear, pear_weights_df = nan_weighted_pearson(test_df, y_pred)\n",
        "print(\"Weighted Pearson: \", weighted_pear)\n",
        "print(pear_weights_df)"
      ],
      "metadata": {
        "id": "QgL2xzGo2I2U",
        "outputId": "6880ff41-c861-4d32-a79e-f396907d6972",
        "colab": {
          "base_uri": "https://localhost:8080/"
        }
      },
      "execution_count": null,
      "outputs": [
        {
          "output_type": "stream",
          "name": "stdout",
          "text": [
            "Weighted Pearson:  0.10968063703535985\n",
            "      Combination ID  n_cl  Pearson coefficient\n",
            "0          EGFR.FGFR     6             0.727809\n",
            "1        FASN.MTOR_1     7             0.467770\n",
            "2         IAP.IGFR_3     3            -0.944783\n",
            "3        FGFR.MTOR_3     5             0.505273\n",
            "4         IAP.PIK3CB    10             0.643841\n",
            "..               ...   ...                  ...\n",
            "162   Cisplatin.FGFR     3             0.678983\n",
            "163      HSP90.PIK3C     3            -0.456856\n",
            "164  ATM.Gemcitabine     3             0.647182\n",
            "165     ATR_4.HDAC_4     3             0.328268\n",
            "166   BCL2.CSNK2A1_2     6             0.292057\n",
            "\n",
            "[167 rows x 3 columns]\n"
          ]
        }
      ]
    },
    {
      "cell_type": "code",
      "source": [
        "sns.histplot(data = pear_weights_df[\"Pearson coefficient\"], bins = 10)\n",
        "plt.savefig(\"pearson_tabular_learner.eps\", format = 'eps', dpi=300)"
      ],
      "metadata": {
        "id": "lYQZQUVN3QYz",
        "outputId": "2a23065a-e321-499b-9caa-57b846ee3fa6",
        "colab": {
          "base_uri": "https://localhost:8080/",
          "height": 458
        }
      },
      "execution_count": null,
      "outputs": [
        {
          "output_type": "stream",
          "name": "stderr",
          "text": [
            "The PostScript backend does not support transparency; partially transparent artists will be rendered opaque.\n",
            "The PostScript backend does not support transparency; partially transparent artists will be rendered opaque.\n",
            "The PostScript backend does not support transparency; partially transparent artists will be rendered opaque.\n",
            "The PostScript backend does not support transparency; partially transparent artists will be rendered opaque.\n",
            "The PostScript backend does not support transparency; partially transparent artists will be rendered opaque.\n",
            "The PostScript backend does not support transparency; partially transparent artists will be rendered opaque.\n",
            "The PostScript backend does not support transparency; partially transparent artists will be rendered opaque.\n",
            "The PostScript backend does not support transparency; partially transparent artists will be rendered opaque.\n",
            "The PostScript backend does not support transparency; partially transparent artists will be rendered opaque.\n",
            "The PostScript backend does not support transparency; partially transparent artists will be rendered opaque.\n"
          ]
        },
        {
          "output_type": "display_data",
          "data": {
            "text/plain": [
              "<Figure size 432x288 with 1 Axes>"
            ],
            "image/png": "[encoded data removed]"
          },
          "metadata": {
            "needs_background": "light"
          }
        }
      ]
    },
    {
      "cell_type": "markdown",
      "source": [
        "# Ensemble: Tabular Learner + Random Forest.\n",
        "\n",
        "We will average predictions between Tabular Learner and Random Forest to create a superior model."
      ],
      "metadata": {
        "id": "q40KDbpj4gOp"
      }
    },
    {
      "cell_type": "code",
      "source": [
        "def rf(xs, y, n_estimators=100, max_samples=300, min_samples_leaf=5, **kwargs):\n",
        "    return RandomForestRegressor(n_jobs=-1, n_estimators=n_estimators,\n",
        "        max_samples=max_samples, \n",
        "        min_samples_leaf=min_samples_leaf, random_state = 42 ,oob_score=True).fit(xs, y)"
      ],
      "metadata": {
        "id": "L20y7CSKiu-M"
      },
      "execution_count": null,
      "outputs": []
    },
    {
      "cell_type": "code",
      "source": [
        "\"Random Forest\"\n",
        "m_rf_min = rf(xs_min, y_min);\n",
        "\"We take the two permutations and average\"\n",
        "y_pred_rf_1_min = m_rf_min.predict(valid_xs_min)\n",
        "y_pred_rf_2_min = m_rf_min.predict(valid_xs_min_perm)\n",
        "y_pred_rf_min = (y_pred_rf_1_min + y_pred_rf_2_min)/2\n",
        "wpc_rf = wpc_score(test_df_min, y_pred_rf_min)\n"
      ],
      "metadata": {
        "id": "aHQPJUo9-X9i"
      },
      "execution_count": null,
      "outputs": []
    },
    {
      "cell_type": "markdown",
      "source": [
        "Let's see if performance increases when we use pearson correlation coefficient as metric and EarlyStopping and SaveModelCallback callbacks"
      ],
      "metadata": {
        "id": "77C3qHBWL_hv"
      }
    },
    {
      "cell_type": "code",
      "source": [
        "\"Tabular learner\"\n",
        "procs = [Categorify, FillMissing]\n",
        "cont,cat = cont_cat_split(df_nocomb_min, 1, dep_var=dep_var)\n",
        "\n",
        "\"For some reason the prediction improves when I don't normalize\"\n",
        "\"so I will use procs instead of procs_nn\"\n",
        "\n",
        "to_nn = TabularPandas(df_nocomb_min, procs, cat, cont, y_names=dep_var, \n",
        "                      splits=splits_min)\n",
        "dls = to_nn.dataloaders(1024)\n",
        "y = to_nn.train.y\n",
        "y.min(),y.max()\n",
        "\n",
        "callbacks = [EarlyStoppingCallback(\n",
        "    monitor='pearsonr',\n",
        "    min_delta=0.01, patience=20), SaveModelCallback(monitor='pearsonr')]\n",
        "\n",
        "\n",
        "learn = tabular_learner(dls, y_range=(y_min.min(),y_min.max()), layers=[30,20, 10],\n",
        "                        n_out=1, loss_func=F.mse_loss, \n",
        "                        metrics = PearsonCorrCoef(), cbs = callbacks)\n",
        "#learn.lr_find()\n"
      ],
      "metadata": {
        "id": "NPoY4i3p-5M5"
      },
      "execution_count": null,
      "outputs": []
    },
    {
      "cell_type": "code",
      "source": [
        ""
      ],
      "metadata": {
        "id": "J-zSJQ65CyCD"
      },
      "execution_count": null,
      "outputs": []
    },
    {
      "cell_type": "code",
      "source": [
        "learn.fit(n_epoch = 300, lr = 0.001)\n",
        "learn.recorder.plot_loss()"
      ],
      "metadata": {
        "colab": {
          "base_uri": "https://localhost:8080/",
          "height": 1000
        },
        "id": "LDMgtYcP_JHc",
        "outputId": "0cac9c9c-ae14-4f8a-b69f-40e42f50b22c"
      },
      "execution_count": null,
      "outputs": [
        {
          "output_type": "display_data",
          "data": {
            "text/plain": [
              "<IPython.core.display.HTML object>"
            ],
            "text/html": [
              "\n",
              "<style>\n",
              "    /* Turns off some styling */\n",
              "    progress {\n",
              "        /* gets rid of default border in Firefox and Opera. */\n",
              "        border: none;\n",
              "        /* Needs to be in here for Safari polyfill so background images work as expected. */\n",
              "        background-size: auto;\n",
              "    }\n",
              "    .progress-bar-interrupted, .progress-bar-interrupted::-webkit-progress-bar {\n",
              "        background: #F44336;\n",
              "    }\n",
              "</style>\n"
            ]
          },
          "metadata": {}
        },
        {
          "output_type": "display_data",
          "data": {
            "text/plain": [
              "<IPython.core.display.HTML object>"
            ],
            "text/html": [
              "<table border=\"1\" class=\"dataframe\">\n",
              "  <thead>\n",
              "    <tr style=\"text-align: left;\">\n",
              "      <th>epoch</th>\n",
              "      <th>train_loss</th>\n",
              "      <th>valid_loss</th>\n",
              "      <th>pearsonr</th>\n",
              "      <th>time</th>\n",
              "    </tr>\n",
              "  </thead>\n",
              "  <tbody>\n",
              "    <tr>\n",
              "      <td>0</td>\n",
              "      <td>11855375.000000</td>\n",
              "      <td>10630134.000000</td>\n",
              "      <td>-0.067766</td>\n",
              "      <td>00:00</td>\n",
              "    </tr>\n",
              "    <tr>\n",
              "      <td>1</td>\n",
              "      <td>11632953.000000</td>\n",
              "      <td>10075652.000000</td>\n",
              "      <td>-0.031760</td>\n",
              "      <td>00:00</td>\n",
              "    </tr>\n",
              "    <tr>\n",
              "      <td>2</td>\n",
              "      <td>11494843.000000</td>\n",
              "      <td>9650265.000000</td>\n",
              "      <td>-0.022863</td>\n",
              "      <td>00:00</td>\n",
              "    </tr>\n",
              "    <tr>\n",
              "      <td>3</td>\n",
              "      <td>11386603.000000</td>\n",
              "      <td>9328603.000000</td>\n",
              "      <td>-0.011955</td>\n",
              "      <td>00:00</td>\n",
              "    </tr>\n",
              "    <tr>\n",
              "      <td>4</td>\n",
              "      <td>11292000.000000</td>\n",
              "      <td>9111551.000000</td>\n",
              "      <td>-0.002277</td>\n",
              "      <td>00:00</td>\n",
              "    </tr>\n",
              "    <tr>\n",
              "      <td>5</td>\n",
              "      <td>11205901.000000</td>\n",
              "      <td>8968085.000000</td>\n",
              "      <td>0.002082</td>\n",
              "      <td>00:00</td>\n",
              "    </tr>\n",
              "    <tr>\n",
              "      <td>6</td>\n",
              "      <td>11123179.000000</td>\n",
              "      <td>8884365.000000</td>\n",
              "      <td>-0.001030</td>\n",
              "      <td>00:00</td>\n",
              "    </tr>\n",
              "    <tr>\n",
              "      <td>7</td>\n",
              "      <td>11042612.000000</td>\n",
              "      <td>8809093.000000</td>\n",
              "      <td>-0.008286</td>\n",
              "      <td>00:00</td>\n",
              "    </tr>\n",
              "    <tr>\n",
              "      <td>8</td>\n",
              "      <td>10961743.000000</td>\n",
              "      <td>8732026.000000</td>\n",
              "      <td>-0.017352</td>\n",
              "      <td>00:00</td>\n",
              "    </tr>\n",
              "    <tr>\n",
              "      <td>9</td>\n",
              "      <td>10879628.000000</td>\n",
              "      <td>8651625.000000</td>\n",
              "      <td>-0.024402</td>\n",
              "      <td>00:00</td>\n",
              "    </tr>\n",
              "    <tr>\n",
              "      <td>10</td>\n",
              "      <td>10796093.000000</td>\n",
              "      <td>8555123.000000</td>\n",
              "      <td>-0.030019</td>\n",
              "      <td>00:00</td>\n",
              "    </tr>\n",
              "    <tr>\n",
              "      <td>11</td>\n",
              "      <td>10709556.000000</td>\n",
              "      <td>8433283.000000</td>\n",
              "      <td>-0.036739</td>\n",
              "      <td>00:00</td>\n",
              "    </tr>\n",
              "    <tr>\n",
              "      <td>12</td>\n",
              "      <td>10619701.000000</td>\n",
              "      <td>8319983.500000</td>\n",
              "      <td>-0.037343</td>\n",
              "      <td>00:00</td>\n",
              "    </tr>\n",
              "    <tr>\n",
              "      <td>13</td>\n",
              "      <td>10526652.000000</td>\n",
              "      <td>8181168.000000</td>\n",
              "      <td>-0.038476</td>\n",
              "      <td>00:00</td>\n",
              "    </tr>\n",
              "    <tr>\n",
              "      <td>14</td>\n",
              "      <td>10429760.000000</td>\n",
              "      <td>8056235.500000</td>\n",
              "      <td>-0.041312</td>\n",
              "      <td>00:00</td>\n",
              "    </tr>\n",
              "    <tr>\n",
              "      <td>15</td>\n",
              "      <td>10329240.000000</td>\n",
              "      <td>7951807.500000</td>\n",
              "      <td>-0.038139</td>\n",
              "      <td>00:00</td>\n",
              "    </tr>\n",
              "    <tr>\n",
              "      <td>16</td>\n",
              "      <td>10224792.000000</td>\n",
              "      <td>7818538.500000</td>\n",
              "      <td>-0.033147</td>\n",
              "      <td>00:00</td>\n",
              "    </tr>\n",
              "    <tr>\n",
              "      <td>17</td>\n",
              "      <td>10116210.000000</td>\n",
              "      <td>7697280.500000</td>\n",
              "      <td>-0.029948</td>\n",
              "      <td>00:00</td>\n",
              "    </tr>\n",
              "    <tr>\n",
              "      <td>18</td>\n",
              "      <td>10003576.000000</td>\n",
              "      <td>7545211.000000</td>\n",
              "      <td>-0.031109</td>\n",
              "      <td>00:00</td>\n",
              "    </tr>\n",
              "    <tr>\n",
              "      <td>19</td>\n",
              "      <td>9886705.000000</td>\n",
              "      <td>7402062.500000</td>\n",
              "      <td>-0.034500</td>\n",
              "      <td>00:00</td>\n",
              "    </tr>\n",
              "    <tr>\n",
              "      <td>20</td>\n",
              "      <td>9765410.000000</td>\n",
              "      <td>7296720.500000</td>\n",
              "      <td>-0.031470</td>\n",
              "      <td>00:00</td>\n",
              "    </tr>\n",
              "    <tr>\n",
              "      <td>21</td>\n",
              "      <td>9640108.000000</td>\n",
              "      <td>7185254.500000</td>\n",
              "      <td>-0.027831</td>\n",
              "      <td>00:00</td>\n",
              "    </tr>\n",
              "    <tr>\n",
              "      <td>22</td>\n",
              "      <td>9510480.000000</td>\n",
              "      <td>7126325.500000</td>\n",
              "      <td>-0.019009</td>\n",
              "      <td>00:00</td>\n",
              "    </tr>\n",
              "    <tr>\n",
              "      <td>23</td>\n",
              "      <td>9376741.000000</td>\n",
              "      <td>7091398.500000</td>\n",
              "      <td>-0.011952</td>\n",
              "      <td>00:00</td>\n",
              "    </tr>\n",
              "    <tr>\n",
              "      <td>24</td>\n",
              "      <td>9239133.000000</td>\n",
              "      <td>7037664.500000</td>\n",
              "      <td>-0.002598</td>\n",
              "      <td>00:00</td>\n",
              "    </tr>\n",
              "    <tr>\n",
              "      <td>25</td>\n",
              "      <td>9097599.000000</td>\n",
              "      <td>6987233.000000</td>\n",
              "      <td>0.009107</td>\n",
              "      <td>00:00</td>\n",
              "    </tr>\n",
              "  </tbody>\n",
              "</table>"
            ]
          },
          "metadata": {}
        },
        {
          "output_type": "stream",
          "name": "stdout",
          "text": [
            "Better model found at epoch 0 with pearsonr value: -0.06776563367279943.\n",
            "Better model found at epoch 1 with pearsonr value: -0.03175962547671991.\n",
            "Better model found at epoch 2 with pearsonr value: -0.02286277082621248.\n",
            "Better model found at epoch 3 with pearsonr value: -0.011954986027126017.\n",
            "Better model found at epoch 4 with pearsonr value: -0.002277110785100211.\n",
            "Better model found at epoch 5 with pearsonr value: 0.002081566584063742.\n",
            "Better model found at epoch 25 with pearsonr value: 0.009107008970722582.\n",
            "No improvement since epoch 5: early stopping\n"
          ]
        },
        {
          "output_type": "display_data",
          "data": {
            "text/plain": [
              "<Figure size 432x288 with 1 Axes>"
            ],
            "image/png": "[encoded data removed]"
          },
          "metadata": {
            "needs_background": "light"
          }
        }
      ]
    },
    {
      "cell_type": "code",
      "source": [
        "y_pred_nn_1, targs = learn.get_preds()\n",
        "y_pred_nn_1 = np.asarray(y_pred_nn_1[:,0])\n",
        "\n",
        "\n",
        "wpc_tl = wpc_score(test_df_min, y_pred_nn_1)"
      ],
      "metadata": {
        "colab": {
          "base_uri": "https://localhost:8080/",
          "height": 17
        },
        "id": "u-6_UF2KAbh5",
        "outputId": "0472e052-c0cb-4461-a858-abd4960c620f"
      },
      "execution_count": null,
      "outputs": [
        {
          "output_type": "display_data",
          "data": {
            "text/plain": [
              "<IPython.core.display.HTML object>"
            ],
            "text/html": [
              "\n",
              "<style>\n",
              "    /* Turns off some styling */\n",
              "    progress {\n",
              "        /* gets rid of default border in Firefox and Opera. */\n",
              "        border: none;\n",
              "        /* Needs to be in here for Safari polyfill so background images work as expected. */\n",
              "        background-size: auto;\n",
              "    }\n",
              "    .progress-bar-interrupted, .progress-bar-interrupted::-webkit-progress-bar {\n",
              "        background: #F44336;\n",
              "    }\n",
              "</style>\n"
            ]
          },
          "metadata": {}
        },
        {
          "output_type": "display_data",
          "data": {
            "text/plain": [
              "<IPython.core.display.HTML object>"
            ],
            "text/html": [
              ""
            ]
          },
          "metadata": {}
        }
      ]
    },
    {
      "cell_type": "markdown",
      "source": [
        "let's save this learner and try to optimise it \n",
        "more.\n",
        "We have now included the LB set in the test set so we save in again with a different name"
      ],
      "metadata": {
        "id": "Q-wFo8BlVJ8T"
      }
    },
    {
      "cell_type": "code",
      "source": [
        "learn.save(\"/content/gdrive/MyDrive/archivos_tfm/tabular_model_commutative_lb.pth\")"
      ],
      "metadata": {
        "colab": {
          "base_uri": "https://localhost:8080/"
        },
        "id": "gUix4ge0VJT3",
        "outputId": "f6ac5642-af8d-429c-ded1-03e094a66539"
      },
      "execution_count": null,
      "outputs": [
        {
          "output_type": "execute_result",
          "data": {
            "text/plain": [
              "Path('/content/gdrive/MyDrive/archivos_tfm/tabular_model_commutative_lb.pth.pth')"
            ]
          },
          "metadata": {},
          "execution_count": 58
        }
      ]
    },
    {
      "cell_type": "code",
      "source": [
        "\"And load it\"\n",
        "learn.load(\"/content/gdrive/MyDrive/archivos_tfm/tabular_model_commutative_lb.pth\")\n",
        "y_pred_nn_1, targs = learn.get_preds()\n",
        "y_pred_nn_1 = np.asarray(y_pred_nn_1[:,0])\n",
        "\n",
        "\n",
        "wpc_score(test_df, y_pred_nn_1)"
      ],
      "metadata": {
        "id": "fD0qjK8Op178",
        "outputId": "fbac9a63-3cc8-427d-b814-87613a320b6c",
        "colab": {
          "base_uri": "https://localhost:8080/",
          "height": 35
        }
      },
      "execution_count": null,
      "outputs": [
        {
          "output_type": "display_data",
          "data": {
            "text/plain": [
              "<IPython.core.display.HTML object>"
            ],
            "text/html": [
              "\n",
              "<style>\n",
              "    /* Turns off some styling */\n",
              "    progress {\n",
              "        /* gets rid of default border in Firefox and Opera. */\n",
              "        border: none;\n",
              "        /* Needs to be in here for Safari polyfill so background images work as expected. */\n",
              "        background-size: auto;\n",
              "    }\n",
              "    .progress-bar-interrupted, .progress-bar-interrupted::-webkit-progress-bar {\n",
              "        background: #F44336;\n",
              "    }\n",
              "</style>\n"
            ]
          },
          "metadata": {}
        },
        {
          "output_type": "display_data",
          "data": {
            "text/plain": [
              "<IPython.core.display.HTML object>"
            ],
            "text/html": [
              ""
            ]
          },
          "metadata": {}
        },
        {
          "output_type": "execute_result",
          "data": {
            "text/plain": [
              "0.22061368126847658"
            ]
          },
          "metadata": {},
          "execution_count": 59
        }
      ]
    },
    {
      "cell_type": "code",
      "source": [
        "valid_xs_perm_nn = to_nn.valid.xs.copy()\n",
        "\n",
        "valid_xs_perm_nn[[ 'Compound A', 'Compound B', \n",
        "                         'Max. conc. A',\n",
        "                         'Max. conc. B', \n",
        "                         'IC50 A', 'H A', \n",
        "                         'Einf A', 'IC50 B', \n",
        "                         'H B', 'Einf B']] = to_nn.valid.xs[[ 'Compound B', 'Compound A', \n",
        "                         'Max. conc. B',\n",
        "                         'Max. conc. A', \n",
        "                         'IC50 B', 'H B', \n",
        "                         'Einf B', 'IC50 A', \n",
        "                         'H A', 'Einf A']]\n",
        "valid_xs_perm_nn"
      ],
      "metadata": {
        "id": "Hhmh42psqv2b",
        "outputId": "e2fd130f-e5ef-44c0-a6b9-78aeb0f586b3",
        "colab": {
          "base_uri": "https://localhost:8080/",
          "height": 244
        }
      },
      "execution_count": null,
      "outputs": [
        {
          "output_type": "error",
          "ename": "NameError",
          "evalue": "ignored",
          "traceback": [
            "\u001b[0;31m---------------------------------------------------------------------------\u001b[0m",
            "\u001b[0;31mNameError\u001b[0m                                 Traceback (most recent call last)",
            "\u001b[0;32m<ipython-input-48-270d0f6ab7a0>\u001b[0m in \u001b[0;36m<module>\u001b[0;34m()\u001b[0m\n\u001b[0;32m----> 1\u001b[0;31m \u001b[0mvalid_xs_perm_nn\u001b[0m \u001b[0;34m=\u001b[0m \u001b[0mto_nn\u001b[0m\u001b[0;34m.\u001b[0m\u001b[0mvalid\u001b[0m\u001b[0;34m.\u001b[0m\u001b[0mxs\u001b[0m\u001b[0;34m.\u001b[0m\u001b[0mcopy\u001b[0m\u001b[0;34m(\u001b[0m\u001b[0;34m)\u001b[0m\u001b[0;34m\u001b[0m\u001b[0;34m\u001b[0m\u001b[0m\n\u001b[0m\u001b[1;32m      2\u001b[0m \u001b[0;34m\u001b[0m\u001b[0m\n\u001b[1;32m      3\u001b[0m valid_xs_perm_nn[[ 'Compound A', 'Compound B', \n\u001b[1;32m      4\u001b[0m                          \u001b[0;34m'Max. conc. A'\u001b[0m\u001b[0;34m,\u001b[0m\u001b[0;34m\u001b[0m\u001b[0;34m\u001b[0m\u001b[0m\n\u001b[1;32m      5\u001b[0m                          \u001b[0;34m'Max. conc. B'\u001b[0m\u001b[0;34m,\u001b[0m\u001b[0;34m\u001b[0m\u001b[0;34m\u001b[0m\u001b[0m\n",
            "\u001b[0;31mNameError\u001b[0m: name 'to_nn' is not defined"
          ]
        }
      ]
    },
    {
      "cell_type": "code",
      "source": [
        "y_pred_nn_2, targs = learn.predict(valid_xs_perm_nn)\n",
        "y_pred_nn_2 = np.asarray(y_pred_nn_2[:,0])\n",
        "\n",
        "\n",
        "wpc_score(test_df, y_pred_nn_2)"
      ],
      "metadata": {
        "id": "XIh18nmCr1JT",
        "outputId": "bd949fb8-e440-4c4e-ff97-ac91ba0a7061",
        "colab": {
          "base_uri": "https://localhost:8080/",
          "height": 380
        }
      },
      "execution_count": null,
      "outputs": [
        {
          "output_type": "error",
          "ename": "AttributeError",
          "evalue": "ignored",
          "traceback": [
            "\u001b[0;31m---------------------------------------------------------------------------\u001b[0m",
            "\u001b[0;31mAttributeError\u001b[0m                            Traceback (most recent call last)",
            "\u001b[0;32m<ipython-input-78-c0a6ce7a45a8>\u001b[0m in \u001b[0;36m<module>\u001b[0;34m()\u001b[0m\n\u001b[0;32m----> 1\u001b[0;31m \u001b[0my_pred_nn_2\u001b[0m\u001b[0;34m,\u001b[0m \u001b[0mtargs\u001b[0m \u001b[0;34m=\u001b[0m \u001b[0mlearn\u001b[0m\u001b[0;34m.\u001b[0m\u001b[0mpredict\u001b[0m\u001b[0;34m(\u001b[0m\u001b[0mvalid_xs_perm_nn\u001b[0m\u001b[0;34m)\u001b[0m\u001b[0;34m\u001b[0m\u001b[0;34m\u001b[0m\u001b[0m\n\u001b[0m\u001b[1;32m      2\u001b[0m \u001b[0my_pred_nn_2\u001b[0m \u001b[0;34m=\u001b[0m \u001b[0mnp\u001b[0m\u001b[0;34m.\u001b[0m\u001b[0masarray\u001b[0m\u001b[0;34m(\u001b[0m\u001b[0my_pred_nn_2\u001b[0m\u001b[0;34m[\u001b[0m\u001b[0;34m:\u001b[0m\u001b[0;34m,\u001b[0m\u001b[0;36m0\u001b[0m\u001b[0;34m]\u001b[0m\u001b[0;34m)\u001b[0m\u001b[0;34m\u001b[0m\u001b[0;34m\u001b[0m\u001b[0m\n\u001b[1;32m      3\u001b[0m \u001b[0;34m\u001b[0m\u001b[0m\n\u001b[1;32m      4\u001b[0m \u001b[0;34m\u001b[0m\u001b[0m\n\u001b[1;32m      5\u001b[0m \u001b[0mwpc_score\u001b[0m\u001b[0;34m(\u001b[0m\u001b[0mtest_df\u001b[0m\u001b[0;34m,\u001b[0m \u001b[0my_pred_nn_2\u001b[0m\u001b[0;34m)\u001b[0m\u001b[0;34m\u001b[0m\u001b[0;34m\u001b[0m\u001b[0m\n",
            "\u001b[0;32m/usr/local/lib/python3.7/dist-packages/fastai/tabular/learner.py\u001b[0m in \u001b[0;36mpredict\u001b[0;34m(self, row)\u001b[0m\n\u001b[1;32m     13\u001b[0m     \u001b[0;32mdef\u001b[0m \u001b[0mpredict\u001b[0m\u001b[0;34m(\u001b[0m\u001b[0mself\u001b[0m\u001b[0;34m,\u001b[0m \u001b[0mrow\u001b[0m\u001b[0;34m)\u001b[0m\u001b[0;34m:\u001b[0m\u001b[0;34m\u001b[0m\u001b[0;34m\u001b[0m\u001b[0m\n\u001b[1;32m     14\u001b[0m         \u001b[0;34m\"Predict on a Pandas Series\"\u001b[0m\u001b[0;34m\u001b[0m\u001b[0;34m\u001b[0m\u001b[0m\n\u001b[0;32m---> 15\u001b[0;31m         \u001b[0mdl\u001b[0m \u001b[0;34m=\u001b[0m \u001b[0mself\u001b[0m\u001b[0;34m.\u001b[0m\u001b[0mdls\u001b[0m\u001b[0;34m.\u001b[0m\u001b[0mtest_dl\u001b[0m\u001b[0;34m(\u001b[0m\u001b[0mrow\u001b[0m\u001b[0;34m.\u001b[0m\u001b[0mto_frame\u001b[0m\u001b[0;34m(\u001b[0m\u001b[0;34m)\u001b[0m\u001b[0;34m.\u001b[0m\u001b[0mT\u001b[0m\u001b[0;34m)\u001b[0m\u001b[0;34m\u001b[0m\u001b[0;34m\u001b[0m\u001b[0m\n\u001b[0m\u001b[1;32m     16\u001b[0m         \u001b[0mdl\u001b[0m\u001b[0;34m.\u001b[0m\u001b[0mdataset\u001b[0m\u001b[0;34m.\u001b[0m\u001b[0mconts\u001b[0m \u001b[0;34m=\u001b[0m \u001b[0mdl\u001b[0m\u001b[0;34m.\u001b[0m\u001b[0mdataset\u001b[0m\u001b[0;34m.\u001b[0m\u001b[0mconts\u001b[0m\u001b[0;34m.\u001b[0m\u001b[0mastype\u001b[0m\u001b[0;34m(\u001b[0m\u001b[0mnp\u001b[0m\u001b[0;34m.\u001b[0m\u001b[0mfloat32\u001b[0m\u001b[0;34m)\u001b[0m\u001b[0;34m\u001b[0m\u001b[0;34m\u001b[0m\u001b[0m\n\u001b[1;32m     17\u001b[0m         \u001b[0minp\u001b[0m\u001b[0;34m,\u001b[0m\u001b[0mpreds\u001b[0m\u001b[0;34m,\u001b[0m\u001b[0m_\u001b[0m\u001b[0;34m,\u001b[0m\u001b[0mdec_preds\u001b[0m \u001b[0;34m=\u001b[0m \u001b[0mself\u001b[0m\u001b[0;34m.\u001b[0m\u001b[0mget_preds\u001b[0m\u001b[0;34m(\u001b[0m\u001b[0mdl\u001b[0m\u001b[0;34m=\u001b[0m\u001b[0mdl\u001b[0m\u001b[0;34m,\u001b[0m \u001b[0mwith_input\u001b[0m\u001b[0;34m=\u001b[0m\u001b[0;32mTrue\u001b[0m\u001b[0;34m,\u001b[0m \u001b[0mwith_decoded\u001b[0m\u001b[0;34m=\u001b[0m\u001b[0;32mTrue\u001b[0m\u001b[0;34m)\u001b[0m\u001b[0;34m\u001b[0m\u001b[0;34m\u001b[0m\u001b[0m\n",
            "\u001b[0;32m/usr/local/lib/python3.7/dist-packages/pandas/core/generic.py\u001b[0m in \u001b[0;36m__getattr__\u001b[0;34m(self, name)\u001b[0m\n\u001b[1;32m   5485\u001b[0m         ):\n\u001b[1;32m   5486\u001b[0m             \u001b[0;32mreturn\u001b[0m \u001b[0mself\u001b[0m\u001b[0;34m[\u001b[0m\u001b[0mname\u001b[0m\u001b[0;34m]\u001b[0m\u001b[0;34m\u001b[0m\u001b[0;34m\u001b[0m\u001b[0m\n\u001b[0;32m-> 5487\u001b[0;31m         \u001b[0;32mreturn\u001b[0m \u001b[0mobject\u001b[0m\u001b[0;34m.\u001b[0m\u001b[0m__getattribute__\u001b[0m\u001b[0;34m(\u001b[0m\u001b[0mself\u001b[0m\u001b[0;34m,\u001b[0m \u001b[0mname\u001b[0m\u001b[0;34m)\u001b[0m\u001b[0;34m\u001b[0m\u001b[0;34m\u001b[0m\u001b[0m\n\u001b[0m\u001b[1;32m   5488\u001b[0m \u001b[0;34m\u001b[0m\u001b[0m\n\u001b[1;32m   5489\u001b[0m     \u001b[0;32mdef\u001b[0m \u001b[0m__setattr__\u001b[0m\u001b[0;34m(\u001b[0m\u001b[0mself\u001b[0m\u001b[0;34m,\u001b[0m \u001b[0mname\u001b[0m\u001b[0;34m:\u001b[0m \u001b[0mstr\u001b[0m\u001b[0;34m,\u001b[0m \u001b[0mvalue\u001b[0m\u001b[0;34m)\u001b[0m \u001b[0;34m->\u001b[0m \u001b[0;32mNone\u001b[0m\u001b[0;34m:\u001b[0m\u001b[0;34m\u001b[0m\u001b[0;34m\u001b[0m\u001b[0m\n",
            "\u001b[0;31mAttributeError\u001b[0m: 'DataFrame' object has no attribute 'to_frame'"
          ]
        }
      ]
    },
    {
      "cell_type": "markdown",
      "source": [
        "I have not been able to use valid_xs_perm_nn to predict something in the tabular learner."
      ],
      "metadata": {
        "id": "gu9rqspPtwRh"
      }
    },
    {
      "cell_type": "markdown",
      "source": [
        "All together:"
      ],
      "metadata": {
        "id": "EtCn2gjPBaUZ"
      }
    },
    {
      "cell_type": "code",
      "source": [
        "y_pred_avg = (y_pred_rf_min + y_pred_nn_1 )/ 2\n",
        "wpc_score(test_df_min, y_pred_rf_min)"
      ],
      "metadata": {
        "colab": {
          "base_uri": "https://localhost:8080/"
        },
        "id": "VxUhWS1mBcvq",
        "outputId": "468fa37e-b35a-4922-9985-f3a488b7341a"
      },
      "execution_count": null,
      "outputs": [
        {
          "output_type": "execute_result",
          "data": {
            "text/plain": [
              "0.04210829732193617"
            ]
          },
          "metadata": {},
          "execution_count": 56
        }
      ]
    },
    {
      "cell_type": "markdown",
      "source": [
        "# XGBOOST\n",
        "\n",
        "Out of curiosity, let's try XGBoost and ensemble it."
      ],
      "metadata": {
        "id": "D23J3qatHjzi"
      }
    },
    {
      "cell_type": "code",
      "source": [
        "m_xgb = XGBRegressor(n_estimators=200, max_depth=7, eta=0.1, \n",
        "                     subsample=0.7, colsample_bytree=0.8, random_state = 42)\n",
        "m_xgb.fit(xs_min, y_min)\n",
        "y_pred_xgb_1 = m_xgb.predict(valid_xs_min)\n",
        "y_pred_xgb_2 = m_xgb.predict(valid_xs_min_perm)\n",
        "y_pred_xgb = (y_pred_xgb_1 + y_pred_xgb_2)\n",
        "wpc_xgb = wpc_score(test_df_min, y_pred_xgb)\n"
      ],
      "metadata": {
        "colab": {
          "base_uri": "https://localhost:8080/"
        },
        "id": "MVPmiO6dHsrs",
        "outputId": "4613852a-23d1-4dd9-d77a-164e6adfad5f"
      },
      "execution_count": null,
      "outputs": [
        {
          "output_type": "stream",
          "name": "stdout",
          "text": [
            "[09:34:52] WARNING: /workspace/src/objective/regression_obj.cu:152: reg:linear is now deprecated in favor of reg:squarederror.\n"
          ]
        }
      ]
    },
    {
      "cell_type": "markdown",
      "source": [
        "Now we ensemble RF, XGBoost and Tabular Learner."
      ],
      "metadata": {
        "id": "j7Sz0PR2EdXr"
      }
    },
    {
      "cell_type": "code",
      "source": [
        "y_pred_avg = (y_pred_rf_min + y_pred_nn_1 + y_pred_xgb)/ 3\n",
        "wpc_score(test_df_min, y_pred_avg)"
      ],
      "metadata": {
        "colab": {
          "base_uri": "https://localhost:8080/"
        },
        "id": "8TF45oemIsm8",
        "outputId": "bb232911-6ccf-4632-8b59-a2736a06426b"
      },
      "execution_count": null,
      "outputs": [
        {
          "output_type": "execute_result",
          "data": {
            "text/plain": [
              "0.015715949291313685"
            ]
          },
          "metadata": {},
          "execution_count": 59
        }
      ]
    },
    {
      "cell_type": "markdown",
      "source": [
        "And only Random Forest and XGBoost"
      ],
      "metadata": {
        "id": "mqY_UQK1yCam"
      }
    },
    {
      "cell_type": "code",
      "source": [
        "y_pred_avg = (y_pred_rf_min +  y_pred_xgb)/ 2\n",
        "wpc_score(test_df_min, y_pred_avg)"
      ],
      "metadata": {
        "id": "q8qptDBUyBv_",
        "outputId": "d1f5fe55-9c1d-468a-9a0a-3be820a3278d",
        "colab": {
          "base_uri": "https://localhost:8080/"
        }
      },
      "execution_count": null,
      "outputs": [
        {
          "output_type": "execute_result",
          "data": {
            "text/plain": [
              "0.07769654601443739"
            ]
          },
          "metadata": {},
          "execution_count": 60
        }
      ]
    },
    {
      "cell_type": "markdown",
      "source": [
        ""
      ],
      "metadata": {
        "id": "mn2UXjkKYRtk"
      }
    },
    {
      "cell_type": "markdown",
      "source": [
        "# Support Vector Regressor"
      ],
      "metadata": {
        "id": "t2MFnBUFKM3M"
      }
    },
    {
      "cell_type": "code",
      "source": [
        "procs_nn = [Categorify, FillMissing, Normalize]\n",
        "\n",
        "to_nn = TabularPandas(df_nocomb_min, procs_nn, cat, cont, y_names=dep_var, \n",
        "                      splits=splits_min)\n"
      ],
      "metadata": {
        "id": "wAqfFr0_KNQM"
      },
      "execution_count": null,
      "outputs": []
    },
    {
      "cell_type": "code",
      "source": [
        "m_SVR = SVR(kernel=\"linear\")\n",
        "m_SVR.fit(to_nn.train.xs, to_nn.train.y)\n",
        "y_pred_SVR = m_SVR.predict(to_nn.valid.xs)\n",
        "\n",
        "wpc_score(test_df_min, y_pred_SVR)"
      ],
      "metadata": {
        "colab": {
          "base_uri": "https://localhost:8080/"
        },
        "id": "m2dG4R9kL4wR",
        "outputId": "61b25973-aea9-4c59-9a0d-2f46ce300f85"
      },
      "execution_count": null,
      "outputs": [
        {
          "output_type": "execute_result",
          "data": {
            "text/plain": [
              "0.034569902157049075"
            ]
          },
          "metadata": {},
          "execution_count": 63
        }
      ]
    },
    {
      "cell_type": "markdown",
      "source": [
        "With both permutations"
      ],
      "metadata": {
        "id": "7msa9vC9uyFT"
      }
    },
    {
      "cell_type": "code",
      "source": [
        "m_SVR = SVR(kernel=\"linear\")\n",
        "m_SVR.fit(xs_min, y_min)\n",
        "y_pred_SVR_1 = m_SVR.predict(valid_xs_min)\n",
        "y_pred_SVR_2 = m_SVR.predict(valid_xs_min_perm)\n",
        "y_pred_SVR = (y_pred_SVR_1 + y_pred_SVR_2)/2\n",
        "\n",
        "wpc_svr = wpc_score(test_df_min, y_pred_SVR)"
      ],
      "metadata": {
        "id": "H3kkBSGguxPi"
      },
      "execution_count": null,
      "outputs": []
    },
    {
      "cell_type": "markdown",
      "source": [
        "Now we ensemble the 4 of them:\n",
        "Random Forest + XGBoost + Neural Networks + SVM"
      ],
      "metadata": {
        "id": "xAAge-wFNxwy"
      }
    },
    {
      "cell_type": "code",
      "source": [
        "y_pred_avg = (y_pred_rf_min + y_pred_nn_1 + y_pred_xgb + y_pred_SVR)/ 4\n",
        "wpc_score(test_df_min, y_pred_avg)"
      ],
      "metadata": {
        "colab": {
          "base_uri": "https://localhost:8080/"
        },
        "id": "pPTMw5XeNzvZ",
        "outputId": "bf7421b0-d08a-42c1-a42c-1a4df29bdd05"
      },
      "execution_count": null,
      "outputs": [
        {
          "output_type": "execute_result",
          "data": {
            "text/plain": [
              "0.016096785641785398"
            ]
          },
          "metadata": {},
          "execution_count": 67
        }
      ]
    },
    {
      "cell_type": "code",
      "source": [
        "\"Only the best models\"\n",
        "y_pred_avg = (y_pred_rf_min  + y_pred_xgb + y_pred_SVR)/ 3\n",
        "wpc_score(test_df_min, y_pred_avg)"
      ],
      "metadata": {
        "colab": {
          "base_uri": "https://localhost:8080/"
        },
        "id": "lqIr93JRlhF2",
        "outputId": "0cd9281e-e3a6-4f9f-e994-2b89cc1f5e1e"
      },
      "execution_count": null,
      "outputs": [
        {
          "output_type": "execute_result",
          "data": {
            "text/plain": [
              "0.09359673810006441"
            ]
          },
          "metadata": {},
          "execution_count": 76
        }
      ]
    },
    {
      "cell_type": "markdown",
      "source": [
        "## Evaluation table"
      ],
      "metadata": {
        "id": "SoqpHaP7nWvx"
      }
    },
    {
      "cell_type": "code",
      "source": [
        "\"We create a table\"\n",
        "wpc_table = pd.DataFrame()\n",
        "wpc_table[\"Models\"] = [\"Random Forest\", \"Tabular Learner\", \"XGBoost\", \"SVR\"]\n",
        "wpc_table[\"WPC\"] = [wpc_rf, wpc_tl, wpc_xgb, wpc_svr]\n",
        "print(wpc_table)"
      ],
      "metadata": {
        "colab": {
          "base_uri": "https://localhost:8080/"
        },
        "id": "dL4C5hrVmYTd",
        "outputId": "4bceadfc-4846-4edf-94f0-1bd5248b1390"
      },
      "execution_count": null,
      "outputs": [
        {
          "output_type": "stream",
          "name": "stdout",
          "text": [
            "            Models       WPC\n",
            "0    Random Forest  0.062230\n",
            "1  Tabular Learner -0.009188\n",
            "2          XGBoost  0.067531\n",
            "3              SVR  0.051047\n"
          ]
        }
      ]
    },
    {
      "cell_type": "markdown",
      "source": [
        "# Pipeline: training and evaluating all models\n",
        "We are going to automate the process of obtaining this tables, thus making the training automatic.\n"
      ],
      "metadata": {
        "id": "B4RoTjdrn2Pr"
      }
    },
    {
      "cell_type": "code",
      "source": [
        "def rf(xs, y, n_estimators=100, max_samples=300, min_samples_leaf=5, **kwargs):\n",
        "    return RandomForestRegressor(n_jobs=-1, n_estimators=n_estimators,\n",
        "        max_samples=max_samples, \n",
        "        min_samples_leaf=min_samples_leaf, random_state = 42 ,oob_score=True).fit(xs, y)\n",
        "\n",
        "\n",
        "def training_pipeline(xs,y, valid_xs,valid_y, valid_xs_perm, \n",
        "                      test_df, df_nocomb, splits, dep_var,tl_layers):\n",
        "  \"Random Forest\"\n",
        "  m_rf = rf(xs, y);\n",
        "  \"We take the two permutations and average\"\n",
        "  y_pred_rf_1 = m_rf.predict(valid_xs)\n",
        "  y_pred_rf_2 = m_rf.predict(valid_xs_perm)\n",
        "  y_pred_rf = (y_pred_rf_1 + y_pred_rf_2)/2\n",
        "  wpc_rf = wpc_score(test_df_min, y_pred_rf)\n",
        "\n",
        "  \"Tabular learner\"\n",
        "  procs = [Categorify, FillMissing]\n",
        "  cont,cat = cont_cat_split(df_nocomb_min, 1, dep_var=dep_var)\n",
        "\n",
        "  \"For some reason the prediction improves when I don't normalize\"\n",
        "  \"so I will use procs instead of procs_nn\"\n",
        "\n",
        "  to_nn = TabularPandas(df_nocomb_min, procs, cat, cont, y_names=dep_var, \n",
        "                        splits=splits)\n",
        "  dls = to_nn.dataloaders(1024)\n",
        "  y = to_nn.train.y\n",
        "  y.min(),y.max()\n",
        "\n",
        "  callbacks = [EarlyStoppingCallback(\n",
        "      monitor='pearsonr',\n",
        "      min_delta=0.01, patience=20), SaveModelCallback(monitor='pearsonr')]\n",
        "\n",
        "\n",
        "  learn = tabular_learner(dls, y_range=(y_min.min(),y_min.max()), layers=tl_layers,\n",
        "                          n_out=1, loss_func=F.mse_loss, \n",
        "                          metrics = PearsonCorrCoef(), cbs = callbacks)\n",
        "\n",
        "  learn.fit(n_epoch = 300, lr = 0.001)\n",
        "  learn.recorder.plot_loss()\n",
        "\n",
        "  wpc_tl = wpc_score(test_df, y_pred_nn_1)\n",
        "  \n",
        "  \"XGBoost\"\n",
        "  m_xgb = XGBRegressor(n_estimators=200, max_depth=7, eta=0.1, \n",
        "                      subsample=0.7, colsample_bytree=0.8, random_state = 42)\n",
        "  m_xgb.fit(xs, y)\n",
        "  y_pred_xgb_1 = m_xgb.predict(valid_xs)\n",
        "  y_pred_xgb_2 = m_xgb.predict(valid_xs_perm)\n",
        "  y_pred_xgb = (y_pred_xgb_1 + y_pred_xgb_2)\n",
        "  wpc_xgb = wpc_score(test_df, y_pred_xgb)\n",
        "  \n",
        "  \n",
        "  \"SVR\"\n",
        "  m_SVR = SVR(kernel=\"linear\")\n",
        "  m_SVR.fit(xs, y)\n",
        "  y_pred_SVR_1 = m_SVR.predict(valid_xs)\n",
        "  y_pred_SVR_2 = m_SVR.predict(valid_xs_perm)\n",
        "  y_pred_SVR = (y_pred_SVR_1 + y_pred_SVR_2)/2\n",
        "  wpc_svr = wpc_score(test_df_min, y_pred_SVR)\n",
        "  \n",
        "  \"We create the table\"\n",
        "  wpc_table = pd.DataFrame()\n",
        "  wpc_table[\"Models\"] = [\"Random Forest\", \"Tabular Learner\", \"XGBoost\", \"SVR\"]\n",
        "  wpc_table[\"WPC\"] = [wpc_rf, wpc_tl, wpc_xgb, wpc_svr]\n",
        "  \n",
        "  return wpc_table"
      ],
      "metadata": {
        "id": "EzyfvrHWn1pw"
      },
      "execution_count": null,
      "outputs": []
    },
    {
      "cell_type": "markdown",
      "source": [
        "Minimum model"
      ],
      "metadata": {
        "id": "OsYuCRscyshu"
      }
    },
    {
      "cell_type": "code",
      "source": [
        "dep_var = \"Synergy score\"\n",
        "tl_layers = [30,20, 10]\n",
        "minimum_wpc_table = training_pipeline(xs_min,y_min, \n",
        "                                      valid_xs_min,valid_y_min, valid_xs_min_perm, \n",
        "                      test_df_min, df_nocomb_min, splits_min, dep_var,tl_layers)\n",
        "print(minimum_wpc_table)"
      ],
      "metadata": {
        "colab": {
          "base_uri": "https://localhost:8080/",
          "height": 1000
        },
        "id": "L6qYKCIeo1sN",
        "outputId": "ad0daf8d-8fbd-4e88-ffb8-f144e0143b82"
      },
      "execution_count": null,
      "outputs": [
        {
          "output_type": "display_data",
          "data": {
            "text/plain": [
              "<IPython.core.display.HTML object>"
            ],
            "text/html": [
              "\n",
              "<style>\n",
              "    /* Turns off some styling */\n",
              "    progress {\n",
              "        /* gets rid of default border in Firefox and Opera. */\n",
              "        border: none;\n",
              "        /* Needs to be in here for Safari polyfill so background images work as expected. */\n",
              "        background-size: auto;\n",
              "    }\n",
              "    .progress-bar-interrupted, .progress-bar-interrupted::-webkit-progress-bar {\n",
              "        background: #F44336;\n",
              "    }\n",
              "</style>\n"
            ]
          },
          "metadata": {}
        },
        {
          "output_type": "display_data",
          "data": {
            "text/plain": [
              "<IPython.core.display.HTML object>"
            ],
            "text/html": [
              "<table border=\"1\" class=\"dataframe\">\n",
              "  <thead>\n",
              "    <tr style=\"text-align: left;\">\n",
              "      <th>epoch</th>\n",
              "      <th>train_loss</th>\n",
              "      <th>valid_loss</th>\n",
              "      <th>pearsonr</th>\n",
              "      <th>time</th>\n",
              "    </tr>\n",
              "  </thead>\n",
              "  <tbody>\n",
              "    <tr>\n",
              "      <td>0</td>\n",
              "      <td>7427856.000000</td>\n",
              "      <td>6121844.000000</td>\n",
              "      <td>-0.004290</td>\n",
              "      <td>00:00</td>\n",
              "    </tr>\n",
              "    <tr>\n",
              "      <td>1</td>\n",
              "      <td>7039033.000000</td>\n",
              "      <td>5933629.500000</td>\n",
              "      <td>-0.001989</td>\n",
              "      <td>00:00</td>\n",
              "    </tr>\n",
              "    <tr>\n",
              "      <td>2</td>\n",
              "      <td>6803165.000000</td>\n",
              "      <td>5787025.000000</td>\n",
              "      <td>-0.029390</td>\n",
              "      <td>00:00</td>\n",
              "    </tr>\n",
              "    <tr>\n",
              "      <td>3</td>\n",
              "      <td>6636890.000000</td>\n",
              "      <td>5656240.000000</td>\n",
              "      <td>-0.039782</td>\n",
              "      <td>00:00</td>\n",
              "    </tr>\n",
              "    <tr>\n",
              "      <td>4</td>\n",
              "      <td>6508533.500000</td>\n",
              "      <td>5528045.000000</td>\n",
              "      <td>-0.045982</td>\n",
              "      <td>00:00</td>\n",
              "    </tr>\n",
              "    <tr>\n",
              "      <td>5</td>\n",
              "      <td>6400265.500000</td>\n",
              "      <td>5399822.500000</td>\n",
              "      <td>-0.049715</td>\n",
              "      <td>00:00</td>\n",
              "    </tr>\n",
              "    <tr>\n",
              "      <td>6</td>\n",
              "      <td>6304300.000000</td>\n",
              "      <td>5274616.000000</td>\n",
              "      <td>-0.061371</td>\n",
              "      <td>00:00</td>\n",
              "    </tr>\n",
              "    <tr>\n",
              "      <td>7</td>\n",
              "      <td>6216430.000000</td>\n",
              "      <td>5156236.000000</td>\n",
              "      <td>-0.070022</td>\n",
              "      <td>00:00</td>\n",
              "    </tr>\n",
              "    <tr>\n",
              "      <td>8</td>\n",
              "      <td>6134023.000000</td>\n",
              "      <td>5041392.000000</td>\n",
              "      <td>-0.069553</td>\n",
              "      <td>00:00</td>\n",
              "    </tr>\n",
              "    <tr>\n",
              "      <td>9</td>\n",
              "      <td>6054042.500000</td>\n",
              "      <td>4932302.500000</td>\n",
              "      <td>-0.063331</td>\n",
              "      <td>00:00</td>\n",
              "    </tr>\n",
              "    <tr>\n",
              "      <td>10</td>\n",
              "      <td>5976281.500000</td>\n",
              "      <td>4816679.500000</td>\n",
              "      <td>-0.060609</td>\n",
              "      <td>00:00</td>\n",
              "    </tr>\n",
              "    <tr>\n",
              "      <td>11</td>\n",
              "      <td>5899383.000000</td>\n",
              "      <td>4697981.000000</td>\n",
              "      <td>-0.057398</td>\n",
              "      <td>00:00</td>\n",
              "    </tr>\n",
              "    <tr>\n",
              "      <td>12</td>\n",
              "      <td>5822391.000000</td>\n",
              "      <td>4592096.000000</td>\n",
              "      <td>-0.054339</td>\n",
              "      <td>00:00</td>\n",
              "    </tr>\n",
              "    <tr>\n",
              "      <td>13</td>\n",
              "      <td>5745649.500000</td>\n",
              "      <td>4506349.000000</td>\n",
              "      <td>-0.051263</td>\n",
              "      <td>00:00</td>\n",
              "    </tr>\n",
              "    <tr>\n",
              "      <td>14</td>\n",
              "      <td>5668070.500000</td>\n",
              "      <td>4430160.000000</td>\n",
              "      <td>-0.051101</td>\n",
              "      <td>00:00</td>\n",
              "    </tr>\n",
              "    <tr>\n",
              "      <td>15</td>\n",
              "      <td>5589400.000000</td>\n",
              "      <td>4366467.500000</td>\n",
              "      <td>-0.049668</td>\n",
              "      <td>00:00</td>\n",
              "    </tr>\n",
              "    <tr>\n",
              "      <td>16</td>\n",
              "      <td>5509392.000000</td>\n",
              "      <td>4310496.500000</td>\n",
              "      <td>-0.048745</td>\n",
              "      <td>00:00</td>\n",
              "    </tr>\n",
              "    <tr>\n",
              "      <td>17</td>\n",
              "      <td>5428067.500000</td>\n",
              "      <td>4268867.500000</td>\n",
              "      <td>-0.052247</td>\n",
              "      <td>00:00</td>\n",
              "    </tr>\n",
              "    <tr>\n",
              "      <td>18</td>\n",
              "      <td>5344974.500000</td>\n",
              "      <td>4220602.500000</td>\n",
              "      <td>-0.053519</td>\n",
              "      <td>00:00</td>\n",
              "    </tr>\n",
              "    <tr>\n",
              "      <td>19</td>\n",
              "      <td>5260263.500000</td>\n",
              "      <td>4157295.750000</td>\n",
              "      <td>-0.053784</td>\n",
              "      <td>00:00</td>\n",
              "    </tr>\n",
              "    <tr>\n",
              "      <td>20</td>\n",
              "      <td>5173997.000000</td>\n",
              "      <td>4093423.000000</td>\n",
              "      <td>-0.055352</td>\n",
              "      <td>00:00</td>\n",
              "    </tr>\n",
              "  </tbody>\n",
              "</table>"
            ]
          },
          "metadata": {}
        },
        {
          "output_type": "stream",
          "name": "stdout",
          "text": [
            "Better model found at epoch 0 with pearsonr value: -0.004289724500490042.\n",
            "Better model found at epoch 1 with pearsonr value: -0.0019894358950744034.\n",
            "No improvement since epoch 0: early stopping\n",
            "[09:48:15] WARNING: /workspace/src/objective/regression_obj.cu:152: reg:linear is now deprecated in favor of reg:squarederror.\n",
            "            Models       WPC\n",
            "0    Random Forest  0.062230\n",
            "1  Tabular Learner -0.009188\n",
            "2          XGBoost  0.067531\n",
            "3              SVR  0.051047\n"
          ]
        },
        {
          "output_type": "display_data",
          "data": {
            "text/plain": [
              "<Figure size 432x288 with 1 Axes>"
            ],
            "image/png": "[encoded data removed]"
          },
          "metadata": {
            "needs_background": "light"
          }
        }
      ]
    },
    {
      "cell_type": "markdown",
      "source": [
        "Now minimum model + fingerprints"
      ],
      "metadata": {
        "id": "L16ryOKiym5T"
      }
    },
    {
      "cell_type": "code",
      "source": [
        "dep_var = \"Synergy score\"\n",
        "tl_layers = [40,20, 10]\n",
        "m_sm_wpc_table = training_pipeline(xs_min_sm,\n",
        "                                      y_min_sm, valid_xs_min_sm,valid_y_min_sm,\n",
        "                                   valid_xs_min_sm_perm, \n",
        "                                   test_df_min_sm, df_nocomb_min_sm, splits_min_sm, \n",
        "                                   dep_var, tl_layers)\n",
        "print(m_sm_wpc_table)\n"
      ],
      "metadata": {
        "id": "DUBlCL4NywwP",
        "outputId": "da9c3178-e4ab-410b-c702-6639891f274c",
        "colab": {
          "base_uri": "https://localhost:8080/",
          "height": 1000
        }
      },
      "execution_count": null,
      "outputs": [
        {
          "output_type": "display_data",
          "data": {
            "text/plain": [
              "<IPython.core.display.HTML object>"
            ],
            "text/html": [
              "\n",
              "<style>\n",
              "    /* Turns off some styling */\n",
              "    progress {\n",
              "        /* gets rid of default border in Firefox and Opera. */\n",
              "        border: none;\n",
              "        /* Needs to be in here for Safari polyfill so background images work as expected. */\n",
              "        background-size: auto;\n",
              "    }\n",
              "    .progress-bar-interrupted, .progress-bar-interrupted::-webkit-progress-bar {\n",
              "        background: #F44336;\n",
              "    }\n",
              "</style>\n"
            ]
          },
          "metadata": {}
        },
        {
          "output_type": "display_data",
          "data": {
            "text/plain": [
              "<IPython.core.display.HTML object>"
            ],
            "text/html": [
              "<table border=\"1\" class=\"dataframe\">\n",
              "  <thead>\n",
              "    <tr style=\"text-align: left;\">\n",
              "      <th>epoch</th>\n",
              "      <th>train_loss</th>\n",
              "      <th>valid_loss</th>\n",
              "      <th>pearsonr</th>\n",
              "      <th>time</th>\n",
              "    </tr>\n",
              "  </thead>\n",
              "  <tbody>\n",
              "    <tr>\n",
              "      <td>0</td>\n",
              "      <td>11690695.000000</td>\n",
              "      <td>10603497.000000</td>\n",
              "      <td>-0.005506</td>\n",
              "      <td>00:00</td>\n",
              "    </tr>\n",
              "    <tr>\n",
              "      <td>1</td>\n",
              "      <td>11492490.000000</td>\n",
              "      <td>9997728.000000</td>\n",
              "      <td>-0.012428</td>\n",
              "      <td>00:00</td>\n",
              "    </tr>\n",
              "    <tr>\n",
              "      <td>2</td>\n",
              "      <td>11355583.000000</td>\n",
              "      <td>9508422.000000</td>\n",
              "      <td>-0.019397</td>\n",
              "      <td>00:00</td>\n",
              "    </tr>\n",
              "    <tr>\n",
              "      <td>3</td>\n",
              "      <td>11236638.000000</td>\n",
              "      <td>9150866.000000</td>\n",
              "      <td>-0.026639</td>\n",
              "      <td>00:00</td>\n",
              "    </tr>\n",
              "    <tr>\n",
              "      <td>4</td>\n",
              "      <td>11122178.000000</td>\n",
              "      <td>8910170.000000</td>\n",
              "      <td>-0.034406</td>\n",
              "      <td>00:00</td>\n",
              "    </tr>\n",
              "    <tr>\n",
              "      <td>5</td>\n",
              "      <td>11008238.000000</td>\n",
              "      <td>8783273.000000</td>\n",
              "      <td>-0.036182</td>\n",
              "      <td>00:00</td>\n",
              "    </tr>\n",
              "    <tr>\n",
              "      <td>6</td>\n",
              "      <td>10895348.000000</td>\n",
              "      <td>8695080.000000</td>\n",
              "      <td>-0.044653</td>\n",
              "      <td>00:00</td>\n",
              "    </tr>\n",
              "    <tr>\n",
              "      <td>7</td>\n",
              "      <td>10783995.000000</td>\n",
              "      <td>8625837.000000</td>\n",
              "      <td>-0.040249</td>\n",
              "      <td>00:00</td>\n",
              "    </tr>\n",
              "    <tr>\n",
              "      <td>8</td>\n",
              "      <td>10673104.000000</td>\n",
              "      <td>8555714.000000</td>\n",
              "      <td>-0.033983</td>\n",
              "      <td>00:00</td>\n",
              "    </tr>\n",
              "    <tr>\n",
              "      <td>9</td>\n",
              "      <td>10562469.000000</td>\n",
              "      <td>8460882.000000</td>\n",
              "      <td>-0.024361</td>\n",
              "      <td>00:00</td>\n",
              "    </tr>\n",
              "    <tr>\n",
              "      <td>10</td>\n",
              "      <td>10450239.000000</td>\n",
              "      <td>8319660.000000</td>\n",
              "      <td>-0.015973</td>\n",
              "      <td>00:00</td>\n",
              "    </tr>\n",
              "    <tr>\n",
              "      <td>11</td>\n",
              "      <td>10337291.000000</td>\n",
              "      <td>8132806.500000</td>\n",
              "      <td>-0.011914</td>\n",
              "      <td>00:00</td>\n",
              "    </tr>\n",
              "    <tr>\n",
              "      <td>12</td>\n",
              "      <td>10222725.000000</td>\n",
              "      <td>7937147.000000</td>\n",
              "      <td>-0.009346</td>\n",
              "      <td>00:00</td>\n",
              "    </tr>\n",
              "    <tr>\n",
              "      <td>13</td>\n",
              "      <td>10106409.000000</td>\n",
              "      <td>7789558.000000</td>\n",
              "      <td>-0.005467</td>\n",
              "      <td>00:00</td>\n",
              "    </tr>\n",
              "    <tr>\n",
              "      <td>14</td>\n",
              "      <td>9987611.000000</td>\n",
              "      <td>7677869.000000</td>\n",
              "      <td>-0.002474</td>\n",
              "      <td>00:00</td>\n",
              "    </tr>\n",
              "    <tr>\n",
              "      <td>15</td>\n",
              "      <td>9864966.000000</td>\n",
              "      <td>7612259.500000</td>\n",
              "      <td>-0.000649</td>\n",
              "      <td>00:00</td>\n",
              "    </tr>\n",
              "    <tr>\n",
              "      <td>16</td>\n",
              "      <td>9739873.000000</td>\n",
              "      <td>7556446.500000</td>\n",
              "      <td>-0.000303</td>\n",
              "      <td>00:00</td>\n",
              "    </tr>\n",
              "    <tr>\n",
              "      <td>17</td>\n",
              "      <td>9614505.000000</td>\n",
              "      <td>7516879.000000</td>\n",
              "      <td>-0.001854</td>\n",
              "      <td>00:00</td>\n",
              "    </tr>\n",
              "    <tr>\n",
              "      <td>18</td>\n",
              "      <td>9483590.000000</td>\n",
              "      <td>7420511.000000</td>\n",
              "      <td>-0.003974</td>\n",
              "      <td>00:00</td>\n",
              "    </tr>\n",
              "    <tr>\n",
              "      <td>19</td>\n",
              "      <td>9350447.000000</td>\n",
              "      <td>7344991.000000</td>\n",
              "      <td>-0.006201</td>\n",
              "      <td>00:00</td>\n",
              "    </tr>\n",
              "    <tr>\n",
              "      <td>20</td>\n",
              "      <td>9213462.000000</td>\n",
              "      <td>7254158.500000</td>\n",
              "      <td>-0.008030</td>\n",
              "      <td>00:00</td>\n",
              "    </tr>\n",
              "  </tbody>\n",
              "</table>"
            ]
          },
          "metadata": {}
        },
        {
          "output_type": "stream",
          "name": "stdout",
          "text": [
            "Better model found at epoch 0 with pearsonr value: -0.0055064916968683994.\n",
            "Better model found at epoch 13 with pearsonr value: -0.0054666985657164735.\n",
            "Better model found at epoch 14 with pearsonr value: -0.00247442571613115.\n",
            "Better model found at epoch 15 with pearsonr value: -0.0006491277964667144.\n",
            "Better model found at epoch 16 with pearsonr value: -0.0003027717438139044.\n",
            "No improvement since epoch 0: early stopping\n",
            "[11:16:22] WARNING: /workspace/src/objective/regression_obj.cu:152: reg:linear is now deprecated in favor of reg:squarederror.\n",
            "            Models       WPC\n",
            "0    Random Forest  0.030568\n",
            "1  Tabular Learner -0.023227\n",
            "2          XGBoost  0.027203\n",
            "3              SVR -0.021975\n"
          ]
        },
        {
          "output_type": "display_data",
          "data": {
            "text/plain": [
              "<Figure size 432x288 with 1 Axes>"
            ],
            "image/png": "[encoded data removed]"
          },
          "metadata": {
            "needs_background": "light"
          }
        }
      ]
    },
    {
      "cell_type": "markdown",
      "source": [
        "Something is wrong, later we'll see what to do. Maybe we should restrict the dataset to combinations where we have the smiles."
      ],
      "metadata": {
        "id": "_IvgZ1gD-_Fv"
      }
    },
    {
      "cell_type": "markdown",
      "source": [
        "# What makes drugs predictable?\n",
        "These has the sufficient accuracy to start studying what makes a drug be predictable. For that we are going to add our y_pred to our DataFrame of valid_xs"
      ],
      "metadata": {
        "id": "tz91YiVE8_5a"
      }
    },
    {
      "cell_type": "markdown",
      "source": [
        "First we export y_pred of our current best model. Which uses an ensemble and commutativity.\n"
      ],
      "metadata": {
        "id": "-GmkAtyMAT3S"
      }
    },
    {
      "cell_type": "code",
      "source": [
        "\n",
        "np.savetxt(\"/content/gdrive/MyDrive/archivos_tfm/y_pred_current_best_lb.txt\", y_pred_avg)\n"
      ],
      "metadata": {
        "id": "KszPTJiV_S-9"
      },
      "execution_count": null,
      "outputs": []
    },
    {
      "cell_type": "markdown",
      "source": [
        "Now we see how good are the predictions for every drug pair."
      ],
      "metadata": {
        "id": "KfTDYwUIAXRh"
      }
    },
    {
      "cell_type": "code",
      "source": [
        "weighted_pear, pear_weights_df = nan_weighted_pearson(test_df, y_pred_avg)\n"
      ],
      "metadata": {
        "id": "g9wqfaVOAK8k"
      },
      "execution_count": null,
      "outputs": []
    },
    {
      "cell_type": "code",
      "source": [
        "pear_weights_df_ordered = pear_weights_df.sort_values(\"Pearson coefficient\", \n",
        "                                                      axis = 0, ascending = False)\n",
        "pear_weights_df_ordered"
      ],
      "metadata": {
        "id": "iRR8ixijBLiv",
        "outputId": "2bb0ac93-dce0-4340-b651-55c75ab7793d",
        "colab": {
          "base_uri": "https://localhost:8080/",
          "height": 423
        }
      },
      "execution_count": null,
      "outputs": [
        {
          "output_type": "execute_result",
          "data": {
            "text/plain": [
              "      Combination ID  n_cl  Pearson coefficient\n",
              "75     PIK3C.TNFSF10     5             0.989832\n",
              "131       IAP.IGFR_4     5             0.958138\n",
              "91      ATR_4.HDAC_4     5             0.918519\n",
              "6      ERBB.PIK3CA_4    10             0.901655\n",
              "11          FGFR.WNT     5             0.888264\n",
              "..               ...   ...                  ...\n",
              "161  Cisplatin.PARP1     5            -0.518792\n",
              "127     MAP2K_1.PTK2     5            -0.522854\n",
              "157  Cisplatin.PIK3C     5            -0.652726\n",
              "66     HSP90.MAP2K_1     7            -0.705411\n",
              "3     IGFR_4.MAP2K_1     5            -0.757527\n",
              "\n",
              "[167 rows x 3 columns]"
            ],
            "text/html": [
              "\n",
              "  <div id=\"df-e5afde8f-4d69-46bd-a5e8-2d33f6bd3776\">\n",
              "    <div class=\"colab-df-container\">\n",
              "      <div>\n",
              "<style scoped>\n",
              "    .dataframe tbody tr th:only-of-type {\n",
              "        vertical-align: middle;\n",
              "    }\n",
              "\n",
              "    .dataframe tbody tr th {\n",
              "        vertical-align: top;\n",
              "    }\n",
              "\n",
              "    .dataframe thead th {\n",
              "        text-align: right;\n",
              "    }\n",
              "</style>\n",
              "<table border=\"1\" class=\"dataframe\">\n",
              "  <thead>\n",
              "    <tr style=\"text-align: right;\">\n",
              "      <th></th>\n",
              "      <th>Combination ID</th>\n",
              "      <th>n_cl</th>\n",
              "      <th>Pearson coefficient</th>\n",
              "    </tr>\n",
              "  </thead>\n",
              "  <tbody>\n",
              "    <tr>\n",
              "      <th>75</th>\n",
              "      <td>PIK3C.TNFSF10</td>\n",
              "      <td>5</td>\n",
              "      <td>0.989832</td>\n",
              "    </tr>\n",
              "    <tr>\n",
              "      <th>131</th>\n",
              "      <td>IAP.IGFR_4</td>\n",
              "      <td>5</td>\n",
              "      <td>0.958138</td>\n",
              "    </tr>\n",
              "    <tr>\n",
              "      <th>91</th>\n",
              "      <td>ATR_4.HDAC_4</td>\n",
              "      <td>5</td>\n",
              "      <td>0.918519</td>\n",
              "    </tr>\n",
              "    <tr>\n",
              "      <th>6</th>\n",
              "      <td>ERBB.PIK3CA_4</td>\n",
              "      <td>10</td>\n",
              "      <td>0.901655</td>\n",
              "    </tr>\n",
              "    <tr>\n",
              "      <th>11</th>\n",
              "      <td>FGFR.WNT</td>\n",
              "      <td>5</td>\n",
              "      <td>0.888264</td>\n",
              "    </tr>\n",
              "    <tr>\n",
              "      <th>...</th>\n",
              "      <td>...</td>\n",
              "      <td>...</td>\n",
              "      <td>...</td>\n",
              "    </tr>\n",
              "    <tr>\n",
              "      <th>161</th>\n",
              "      <td>Cisplatin.PARP1</td>\n",
              "      <td>5</td>\n",
              "      <td>-0.518792</td>\n",
              "    </tr>\n",
              "    <tr>\n",
              "      <th>127</th>\n",
              "      <td>MAP2K_1.PTK2</td>\n",
              "      <td>5</td>\n",
              "      <td>-0.522854</td>\n",
              "    </tr>\n",
              "    <tr>\n",
              "      <th>157</th>\n",
              "      <td>Cisplatin.PIK3C</td>\n",
              "      <td>5</td>\n",
              "      <td>-0.652726</td>\n",
              "    </tr>\n",
              "    <tr>\n",
              "      <th>66</th>\n",
              "      <td>HSP90.MAP2K_1</td>\n",
              "      <td>7</td>\n",
              "      <td>-0.705411</td>\n",
              "    </tr>\n",
              "    <tr>\n",
              "      <th>3</th>\n",
              "      <td>IGFR_4.MAP2K_1</td>\n",
              "      <td>5</td>\n",
              "      <td>-0.757527</td>\n",
              "    </tr>\n",
              "  </tbody>\n",
              "</table>\n",
              "<p>167 rows × 3 columns</p>\n",
              "</div>\n",
              "      <button class=\"colab-df-convert\" onclick=\"convertToInteractive('df-e5afde8f-4d69-46bd-a5e8-2d33f6bd3776')\"\n",
              "              title=\"Convert this dataframe to an interactive table.\"\n",
              "              style=\"display:none;\">\n",
              "        \n",
              "  <svg xmlns=\"http://www.w3.org/2000/svg\" height=\"24px\"viewBox=\"0 0 24 24\"\n",
              "       width=\"24px\">\n",
              "    <path d=\"M0 0h24v24H0V0z\" fill=\"none\"/>\n",
              "    <path d=\"M18.56 5.44l.94 2.06.94-2.06 2.06-.94-2.06-.94-.94-2.06-.94 2.06-2.06.94zm-11 1L8.5 8.5l.94-2.06 2.06-.94-2.06-.94L8.5 2.5l-.94 2.06-2.06.94zm10 10l.94 2.06.94-2.06 2.06-.94-2.06-.94-.94-2.06-.94 2.06-2.06.94z\"/><path d=\"M17.41 7.96l-1.37-1.37c-.4-.4-.92-.59-1.43-.59-.52 0-1.04.2-1.43.59L10.3 9.45l-7.72 7.72c-.78.78-.78 2.05 0 2.83L4 21.41c.39.39.9.59 1.41.59.51 0 1.02-.2 1.41-.59l7.78-7.78 2.81-2.81c.8-.78.8-2.07 0-2.86zM5.41 20L4 18.59l7.72-7.72 1.47 1.35L5.41 20z\"/>\n",
              "  </svg>\n",
              "      </button>\n",
              "      \n",
              "  <style>\n",
              "    .colab-df-container {\n",
              "      display:flex;\n",
              "      flex-wrap:wrap;\n",
              "      gap: 12px;\n",
              "    }\n",
              "\n",
              "    .colab-df-convert {\n",
              "      background-color: #E8F0FE;\n",
              "      border: none;\n",
              "      border-radius: 50%;\n",
              "      cursor: pointer;\n",
              "      display: none;\n",
              "      fill: #1967D2;\n",
              "      height: 32px;\n",
              "      padding: 0 0 0 0;\n",
              "      width: 32px;\n",
              "    }\n",
              "\n",
              "    .colab-df-convert:hover {\n",
              "      background-color: #E2EBFA;\n",
              "      box-shadow: 0px 1px 2px rgba(60, 64, 67, 0.3), 0px 1px 3px 1px rgba(60, 64, 67, 0.15);\n",
              "      fill: #174EA6;\n",
              "    }\n",
              "\n",
              "    [theme=dark] .colab-df-convert {\n",
              "      background-color: #3B4455;\n",
              "      fill: #D2E3FC;\n",
              "    }\n",
              "\n",
              "    [theme=dark] .colab-df-convert:hover {\n",
              "      background-color: #434B5C;\n",
              "      box-shadow: 0px 1px 3px 1px rgba(0, 0, 0, 0.15);\n",
              "      filter: drop-shadow(0px 1px 2px rgba(0, 0, 0, 0.3));\n",
              "      fill: #FFFFFF;\n",
              "    }\n",
              "  </style>\n",
              "\n",
              "      <script>\n",
              "        const buttonEl =\n",
              "          document.querySelector('#df-e5afde8f-4d69-46bd-a5e8-2d33f6bd3776 button.colab-df-convert');\n",
              "        buttonEl.style.display =\n",
              "          google.colab.kernel.accessAllowed ? 'block' : 'none';\n",
              "\n",
              "        async function convertToInteractive(key) {\n",
              "          const element = document.querySelector('#df-e5afde8f-4d69-46bd-a5e8-2d33f6bd3776');\n",
              "          const dataTable =\n",
              "            await google.colab.kernel.invokeFunction('convertToInteractive',\n",
              "                                                     [key], {});\n",
              "          if (!dataTable) return;\n",
              "\n",
              "          const docLinkHtml = 'Like what you see? Visit the ' +\n",
              "            '<a target=\"_blank\" href=https://colab.research.google.com/notebooks/data_table.ipynb>data table notebook</a>'\n",
              "            + ' to learn more about interactive tables.';\n",
              "          element.innerHTML = '';\n",
              "          dataTable['output_type'] = 'display_data';\n",
              "          await google.colab.output.renderOutput(dataTable, element);\n",
              "          const docLink = document.createElement('div');\n",
              "          docLink.innerHTML = docLinkHtml;\n",
              "          element.appendChild(docLink);\n",
              "        }\n",
              "      </script>\n",
              "    </div>\n",
              "  </div>\n",
              "  "
            ]
          },
          "metadata": {},
          "execution_count": 70
        }
      ]
    },
    {
      "cell_type": "code",
      "source": [
        "sns.histplot(data = pear_weights_df_ordered[\"Pearson coefficient\"], bins = 10)\n"
      ],
      "metadata": {
        "id": "G42rlQTQDHEu",
        "outputId": "e49315e9-f5ab-428e-d53f-c3355b887c56",
        "colab": {
          "base_uri": "https://localhost:8080/",
          "height": 303
        }
      },
      "execution_count": null,
      "outputs": [
        {
          "output_type": "execute_result",
          "data": {
            "text/plain": [
              "<matplotlib.axes._subplots.AxesSubplot at 0x7fd1aeea23d0>"
            ]
          },
          "metadata": {},
          "execution_count": 71
        },
        {
          "output_type": "display_data",
          "data": {
            "text/plain": [
              "<Figure size 432x288 with 1 Axes>"
            ],
            "image/png": "[encoded data removed]"
          },
          "metadata": {
            "needs_background": "light"
          }
        }
      ]
    },
    {
      "cell_type": "markdown",
      "source": [
        "We export the DatFrame to later analyze it."
      ],
      "metadata": {
        "id": "vYcmR56cEeVf"
      }
    },
    {
      "cell_type": "code",
      "source": [
        "pear_weights_df_ordered.to_csv(\"/content/gdrive/MyDrive/archivos_tfm/Drug_comb_Pearson_test_set_lb.csv\")"
      ],
      "metadata": {
        "id": "XzvCTep4EU8I"
      },
      "execution_count": null,
      "outputs": []
    }
  ]
}