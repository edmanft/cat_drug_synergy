{
  "nbformat": 4,
  "nbformat_minor": 0,
  "metadata": {
    "colab": {
      "name": "Drug_pair_analysis.ipynb",
      "provenance": [],
      "toc_visible": true,
      "mount_file_id": "https://github.com/edmanft/Drug_Synergy/blob/main/Drug_pair_analysis.ipynb",
      "authorship_tag": "ABX9TyND2CibGrSjjAmC9koNE5Eb",
      "include_colab_link": true
    },
    "kernelspec": {
      "name": "python3",
      "display_name": "Python 3"
    },
    "language_info": {
      "name": "python"
    }
  },
  "cells": [
    {
      "cell_type": "markdown",
      "metadata": {
        "id": "view-in-github",
        "colab_type": "text"
      },
      "source": [
        "<a href=\"https://colab.research.google.com/github/edmanft/Drug_Synergy/blob/main/Drug_pair_analysis.ipynb\" target=\"_parent\"><img src=\"https://colab.research.google.com/assets/colab-badge.svg\" alt=\"Open In Colab\"/></a>"
      ]
    },
    {
      "cell_type": "markdown",
      "source": [
        "# Creating DataFrames for good and badly predicted drugs"
      ],
      "metadata": {
        "id": "JeGwy7HhXboy"
      }
    },
    {
      "cell_type": "markdown",
      "source": [
        "We are going to check for differences in drug pairs that are highly predictable or that are not."
      ],
      "metadata": {
        "id": "WflsQjVkFPkb"
      }
    },
    {
      "cell_type": "code",
      "execution_count": 1,
      "metadata": {
        "id": "dKmqdY7nFKo7"
      },
      "outputs": [],
      "source": [
        "import numpy as np\n",
        "import pandas as pd\n",
        "import matplotlib.pyplot as plt\n",
        "import seaborn as sns\n",
        "import scipy \n",
        "from scipy import stats"
      ]
    },
    {
      "cell_type": "markdown",
      "source": [
        "We import our dataset and the DatFrame with the Pearson score of the drug pairs. drug_comb_commutative has the training set commutative but not the test set. "
      ],
      "metadata": {
        "id": "cU5l7Fx2Flw1"
      }
    },
    {
      "cell_type": "code",
      "source": [
        "path = \"/content/drive/MyDrive/archivos_tfm/drug_comb_commutative.csv\"\n",
        "\n",
        "df_drug_comb = pd.read_csv(path, index_col = 0)"
      ],
      "metadata": {
        "id": "HIFNoXakFvAK"
      },
      "execution_count": 2,
      "outputs": []
    },
    {
      "cell_type": "code",
      "source": [
        "df_drug_comb.columns"
      ],
      "metadata": {
        "colab": {
          "base_uri": "https://localhost:8080/"
        },
        "id": "BJhqd0NQSWNd",
        "outputId": "269b8d91-f643-4a5c-d8a0-1ce68c4be2c6"
      },
      "execution_count": 3,
      "outputs": [
        {
          "output_type": "execute_result",
          "data": {
            "text/plain": [
              "Index(['Cell line name', 'Compound A', 'Compound B', 'Max. conc. A',\n",
              "       'Max. conc. B', 'IC50 A', 'H A', 'Einf A', 'IC50 B', 'H B', 'Einf B',\n",
              "       'Synergy score', 'QA', 'Combination ID', 'Challenge', 'Dataset'],\n",
              "      dtype='object')"
            ]
          },
          "metadata": {},
          "execution_count": 3
        }
      ]
    },
    {
      "cell_type": "code",
      "source": [
        "drug_pair_pc = pd.read_csv(\"/content/drive/MyDrive/archivos_tfm/Drug_comb_Pearson_test_set_lb.csv\", index_col = 0)"
      ],
      "metadata": {
        "id": "NYVxTHeJIA0d"
      },
      "execution_count": 4,
      "outputs": []
    },
    {
      "cell_type": "code",
      "source": [
        "drug_pair_pc"
      ],
      "metadata": {
        "id": "mup0vILNII1a",
        "outputId": "2200bcc8-2434-4182-9866-41b2517c1035",
        "colab": {
          "base_uri": "https://localhost:8080/",
          "height": 0
        }
      },
      "execution_count": 5,
      "outputs": [
        {
          "output_type": "execute_result",
          "data": {
            "text/plain": [
              "      Combination ID  n_cl  Pearson coefficient\n",
              "75     PIK3C.TNFSF10     5             0.989832\n",
              "131       IAP.IGFR_4     5             0.958138\n",
              "91      ATR_4.HDAC_4     5             0.918519\n",
              "6      ERBB.PIK3CA_4    10             0.901655\n",
              "11          FGFR.WNT     5             0.888264\n",
              "..               ...   ...                  ...\n",
              "161  Cisplatin.PARP1     5            -0.518792\n",
              "127     MAP2K_1.PTK2     5            -0.522854\n",
              "157  Cisplatin.PIK3C     5            -0.652726\n",
              "66     HSP90.MAP2K_1     7            -0.705411\n",
              "3     IGFR_4.MAP2K_1     5            -0.757527\n",
              "\n",
              "[167 rows x 3 columns]"
            ],
            "text/html": [
              "\n",
              "  <div id=\"df-7e52deef-2618-4944-859a-eafc6f223718\">\n",
              "    <div class=\"colab-df-container\">\n",
              "      <div>\n",
              "<style scoped>\n",
              "    .dataframe tbody tr th:only-of-type {\n",
              "        vertical-align: middle;\n",
              "    }\n",
              "\n",
              "    .dataframe tbody tr th {\n",
              "        vertical-align: top;\n",
              "    }\n",
              "\n",
              "    .dataframe thead th {\n",
              "        text-align: right;\n",
              "    }\n",
              "</style>\n",
              "<table border=\"1\" class=\"dataframe\">\n",
              "  <thead>\n",
              "    <tr style=\"text-align: right;\">\n",
              "      <th></th>\n",
              "      <th>Combination ID</th>\n",
              "      <th>n_cl</th>\n",
              "      <th>Pearson coefficient</th>\n",
              "    </tr>\n",
              "  </thead>\n",
              "  <tbody>\n",
              "    <tr>\n",
              "      <th>75</th>\n",
              "      <td>PIK3C.TNFSF10</td>\n",
              "      <td>5</td>\n",
              "      <td>0.989832</td>\n",
              "    </tr>\n",
              "    <tr>\n",
              "      <th>131</th>\n",
              "      <td>IAP.IGFR_4</td>\n",
              "      <td>5</td>\n",
              "      <td>0.958138</td>\n",
              "    </tr>\n",
              "    <tr>\n",
              "      <th>91</th>\n",
              "      <td>ATR_4.HDAC_4</td>\n",
              "      <td>5</td>\n",
              "      <td>0.918519</td>\n",
              "    </tr>\n",
              "    <tr>\n",
              "      <th>6</th>\n",
              "      <td>ERBB.PIK3CA_4</td>\n",
              "      <td>10</td>\n",
              "      <td>0.901655</td>\n",
              "    </tr>\n",
              "    <tr>\n",
              "      <th>11</th>\n",
              "      <td>FGFR.WNT</td>\n",
              "      <td>5</td>\n",
              "      <td>0.888264</td>\n",
              "    </tr>\n",
              "    <tr>\n",
              "      <th>...</th>\n",
              "      <td>...</td>\n",
              "      <td>...</td>\n",
              "      <td>...</td>\n",
              "    </tr>\n",
              "    <tr>\n",
              "      <th>161</th>\n",
              "      <td>Cisplatin.PARP1</td>\n",
              "      <td>5</td>\n",
              "      <td>-0.518792</td>\n",
              "    </tr>\n",
              "    <tr>\n",
              "      <th>127</th>\n",
              "      <td>MAP2K_1.PTK2</td>\n",
              "      <td>5</td>\n",
              "      <td>-0.522854</td>\n",
              "    </tr>\n",
              "    <tr>\n",
              "      <th>157</th>\n",
              "      <td>Cisplatin.PIK3C</td>\n",
              "      <td>5</td>\n",
              "      <td>-0.652726</td>\n",
              "    </tr>\n",
              "    <tr>\n",
              "      <th>66</th>\n",
              "      <td>HSP90.MAP2K_1</td>\n",
              "      <td>7</td>\n",
              "      <td>-0.705411</td>\n",
              "    </tr>\n",
              "    <tr>\n",
              "      <th>3</th>\n",
              "      <td>IGFR_4.MAP2K_1</td>\n",
              "      <td>5</td>\n",
              "      <td>-0.757527</td>\n",
              "    </tr>\n",
              "  </tbody>\n",
              "</table>\n",
              "<p>167 rows × 3 columns</p>\n",
              "</div>\n",
              "      <button class=\"colab-df-convert\" onclick=\"convertToInteractive('df-7e52deef-2618-4944-859a-eafc6f223718')\"\n",
              "              title=\"Convert this dataframe to an interactive table.\"\n",
              "              style=\"display:none;\">\n",
              "        \n",
              "  <svg xmlns=\"http://www.w3.org/2000/svg\" height=\"24px\"viewBox=\"0 0 24 24\"\n",
              "       width=\"24px\">\n",
              "    <path d=\"M0 0h24v24H0V0z\" fill=\"none\"/>\n",
              "    <path d=\"M18.56 5.44l.94 2.06.94-2.06 2.06-.94-2.06-.94-.94-2.06-.94 2.06-2.06.94zm-11 1L8.5 8.5l.94-2.06 2.06-.94-2.06-.94L8.5 2.5l-.94 2.06-2.06.94zm10 10l.94 2.06.94-2.06 2.06-.94-2.06-.94-.94-2.06-.94 2.06-2.06.94z\"/><path d=\"M17.41 7.96l-1.37-1.37c-.4-.4-.92-.59-1.43-.59-.52 0-1.04.2-1.43.59L10.3 9.45l-7.72 7.72c-.78.78-.78 2.05 0 2.83L4 21.41c.39.39.9.59 1.41.59.51 0 1.02-.2 1.41-.59l7.78-7.78 2.81-2.81c.8-.78.8-2.07 0-2.86zM5.41 20L4 18.59l7.72-7.72 1.47 1.35L5.41 20z\"/>\n",
              "  </svg>\n",
              "      </button>\n",
              "      \n",
              "  <style>\n",
              "    .colab-df-container {\n",
              "      display:flex;\n",
              "      flex-wrap:wrap;\n",
              "      gap: 12px;\n",
              "    }\n",
              "\n",
              "    .colab-df-convert {\n",
              "      background-color: #E8F0FE;\n",
              "      border: none;\n",
              "      border-radius: 50%;\n",
              "      cursor: pointer;\n",
              "      display: none;\n",
              "      fill: #1967D2;\n",
              "      height: 32px;\n",
              "      padding: 0 0 0 0;\n",
              "      width: 32px;\n",
              "    }\n",
              "\n",
              "    .colab-df-convert:hover {\n",
              "      background-color: #E2EBFA;\n",
              "      box-shadow: 0px 1px 2px rgba(60, 64, 67, 0.3), 0px 1px 3px 1px rgba(60, 64, 67, 0.15);\n",
              "      fill: #174EA6;\n",
              "    }\n",
              "\n",
              "    [theme=dark] .colab-df-convert {\n",
              "      background-color: #3B4455;\n",
              "      fill: #D2E3FC;\n",
              "    }\n",
              "\n",
              "    [theme=dark] .colab-df-convert:hover {\n",
              "      background-color: #434B5C;\n",
              "      box-shadow: 0px 1px 3px 1px rgba(0, 0, 0, 0.15);\n",
              "      filter: drop-shadow(0px 1px 2px rgba(0, 0, 0, 0.3));\n",
              "      fill: #FFFFFF;\n",
              "    }\n",
              "  </style>\n",
              "\n",
              "      <script>\n",
              "        const buttonEl =\n",
              "          document.querySelector('#df-7e52deef-2618-4944-859a-eafc6f223718 button.colab-df-convert');\n",
              "        buttonEl.style.display =\n",
              "          google.colab.kernel.accessAllowed ? 'block' : 'none';\n",
              "\n",
              "        async function convertToInteractive(key) {\n",
              "          const element = document.querySelector('#df-7e52deef-2618-4944-859a-eafc6f223718');\n",
              "          const dataTable =\n",
              "            await google.colab.kernel.invokeFunction('convertToInteractive',\n",
              "                                                     [key], {});\n",
              "          if (!dataTable) return;\n",
              "\n",
              "          const docLinkHtml = 'Like what you see? Visit the ' +\n",
              "            '<a target=\"_blank\" href=https://colab.research.google.com/notebooks/data_table.ipynb>data table notebook</a>'\n",
              "            + ' to learn more about interactive tables.';\n",
              "          element.innerHTML = '';\n",
              "          dataTable['output_type'] = 'display_data';\n",
              "          await google.colab.output.renderOutput(dataTable, element);\n",
              "          const docLink = document.createElement('div');\n",
              "          docLink.innerHTML = docLinkHtml;\n",
              "          element.appendChild(docLink);\n",
              "        }\n",
              "      </script>\n",
              "    </div>\n",
              "  </div>\n",
              "  "
            ]
          },
          "metadata": {},
          "execution_count": 5
        }
      ]
    },
    {
      "cell_type": "code",
      "source": [
        "good_drugs = drug_pair_pc[drug_pair_pc[\"Pearson coefficient\"] >= 0.5]\n",
        "good_drugs"
      ],
      "metadata": {
        "colab": {
          "base_uri": "https://localhost:8080/",
          "height": 0
        },
        "id": "NImjLp2kPRP5",
        "outputId": "fbcdf862-9ba3-48ed-b161-bb9993d0acfc"
      },
      "execution_count": 6,
      "outputs": [
        {
          "output_type": "execute_result",
          "data": {
            "text/plain": [
              "               Combination ID  n_cl  Pearson coefficient\n",
              "75              PIK3C.TNFSF10     5             0.989832\n",
              "131                IAP.IGFR_4     5             0.958138\n",
              "91               ATR_4.HDAC_4     5             0.918519\n",
              "6               ERBB.PIK3CA_4    10             0.901655\n",
              "11                   FGFR.WNT     5             0.888264\n",
              "101           ATM.Gemcitabine     5             0.886713\n",
              "15           ERBB.Gemcitabine     5             0.873768\n",
              "48           PIK3C_2.PIK3CA_4    11             0.866581\n",
              "39               ALK_2.MTOR_1    10             0.837335\n",
              "25              ESR1_1.MTOR_1     8             0.807843\n",
              "123         EG5.PIK3CB_PIK3CD     5             0.795532\n",
              "151   BCL2_BCL2L1_BCL2L2.FGFR     8             0.786970\n",
              "27              AKT_SGK.PIK3C    11             0.781874\n",
              "104                 IAP.PIK3C    21             0.757157\n",
              "18               ESR1_1.PIK3C     8             0.756110\n",
              "162          BCL2.Oxaliplatin     5             0.753907\n",
              "22               HDAC_4.PARP1     7             0.748726\n",
              "40               MAP2K_1.PIM1    15             0.740919\n",
              "165           BCL2_BCL2L1.IAP     5             0.737704\n",
              "124              IAP.PIK3CA_3    10             0.735657\n",
              "136                IAP.TOP2_2    10             0.718399\n",
              "26                 PIK3C.PIM1    15             0.708931\n",
              "16               AKT_1.ESR1_1     8             0.700679\n",
              "146                  AKT.EGFR    11             0.693565\n",
              "132             AKT_1.PIK3C_2    10             0.691854\n",
              "63        PARP1.PIK3CB_PIK3CD    16             0.687046\n",
              "114                  IAP.PTK2     5             0.676538\n",
              "81            BCL2.CarboTaxol     9             0.672399\n",
              "71         CSNK2A1_2.PIK3CA_3    10             0.667302\n",
              "36                FGFR.MTOR_3     7             0.656215\n",
              "60               AKT_1.EGFR_2     8             0.648774\n",
              "42                    IAP.TNF     8             0.646565\n",
              "38             MAP2K_1.PIP5K1     9             0.643079\n",
              "166                   IAP.JAK     5             0.639868\n",
              "149            Cisplatin.FGFR     5             0.636731\n",
              "93         BCL2L1.Vinorelbine     9             0.628173\n",
              "56             ADAM17.MAP2K_1    10             0.625994\n",
              "156         CSNK2A1_2.TNFSF10     9             0.622142\n",
              "142      BCL2_BCL2L1.PIK3CA_4    11             0.619696\n",
              "153                 IAP.PARP1     9             0.601744\n",
              "87      CSNK2A1_2.Gemcitabine     8             0.590585\n",
              "141               AKT_1.PIK3C    16             0.585990\n",
              "55   PIK3CB_PIK3CD.TNKS_PARP6    10             0.575602\n",
              "35         BCL2_2.Vinorelbine    10             0.558346\n",
              "89    BCL2_BCL2L1.Gemcitabine     5             0.557889\n",
              "30                  ALK.PIK3C     9             0.547899\n",
              "51          AKT_1.BCL2_BCL2L1    11             0.547508\n",
              "5                ERBB.MAP2K_1    14             0.541106\n",
              "130          BCL2_BCL2L1.EGFR    11             0.537663\n",
              "144           MAP2K_1.SLC16A4    11             0.529975\n",
              "107           MTOR_1.PIK3CA_4    11             0.529235\n",
              "47                ERBB.MTOR_1    18             0.515322\n",
              "110         BCL2L1.CarboTaxol     8             0.506464\n",
              "88            AKT_SGK.MAP2K_1    11             0.501841\n",
              "12               AKT.ALK_IGFR    11             0.501668"
            ],
            "text/html": [
              "\n",
              "  <div id=\"df-fd550c74-5c6b-44ac-8ecb-4fd611131481\">\n",
              "    <div class=\"colab-df-container\">\n",
              "      <div>\n",
              "<style scoped>\n",
              "    .dataframe tbody tr th:only-of-type {\n",
              "        vertical-align: middle;\n",
              "    }\n",
              "\n",
              "    .dataframe tbody tr th {\n",
              "        vertical-align: top;\n",
              "    }\n",
              "\n",
              "    .dataframe thead th {\n",
              "        text-align: right;\n",
              "    }\n",
              "</style>\n",
              "<table border=\"1\" class=\"dataframe\">\n",
              "  <thead>\n",
              "    <tr style=\"text-align: right;\">\n",
              "      <th></th>\n",
              "      <th>Combination ID</th>\n",
              "      <th>n_cl</th>\n",
              "      <th>Pearson coefficient</th>\n",
              "    </tr>\n",
              "  </thead>\n",
              "  <tbody>\n",
              "    <tr>\n",
              "      <th>75</th>\n",
              "      <td>PIK3C.TNFSF10</td>\n",
              "      <td>5</td>\n",
              "      <td>0.989832</td>\n",
              "    </tr>\n",
              "    <tr>\n",
              "      <th>131</th>\n",
              "      <td>IAP.IGFR_4</td>\n",
              "      <td>5</td>\n",
              "      <td>0.958138</td>\n",
              "    </tr>\n",
              "    <tr>\n",
              "      <th>91</th>\n",
              "      <td>ATR_4.HDAC_4</td>\n",
              "      <td>5</td>\n",
              "      <td>0.918519</td>\n",
              "    </tr>\n",
              "    <tr>\n",
              "      <th>6</th>\n",
              "      <td>ERBB.PIK3CA_4</td>\n",
              "      <td>10</td>\n",
              "      <td>0.901655</td>\n",
              "    </tr>\n",
              "    <tr>\n",
              "      <th>11</th>\n",
              "      <td>FGFR.WNT</td>\n",
              "      <td>5</td>\n",
              "      <td>0.888264</td>\n",
              "    </tr>\n",
              "    <tr>\n",
              "      <th>101</th>\n",
              "      <td>ATM.Gemcitabine</td>\n",
              "      <td>5</td>\n",
              "      <td>0.886713</td>\n",
              "    </tr>\n",
              "    <tr>\n",
              "      <th>15</th>\n",
              "      <td>ERBB.Gemcitabine</td>\n",
              "      <td>5</td>\n",
              "      <td>0.873768</td>\n",
              "    </tr>\n",
              "    <tr>\n",
              "      <th>48</th>\n",
              "      <td>PIK3C_2.PIK3CA_4</td>\n",
              "      <td>11</td>\n",
              "      <td>0.866581</td>\n",
              "    </tr>\n",
              "    <tr>\n",
              "      <th>39</th>\n",
              "      <td>ALK_2.MTOR_1</td>\n",
              "      <td>10</td>\n",
              "      <td>0.837335</td>\n",
              "    </tr>\n",
              "    <tr>\n",
              "      <th>25</th>\n",
              "      <td>ESR1_1.MTOR_1</td>\n",
              "      <td>8</td>\n",
              "      <td>0.807843</td>\n",
              "    </tr>\n",
              "    <tr>\n",
              "      <th>123</th>\n",
              "      <td>EG5.PIK3CB_PIK3CD</td>\n",
              "      <td>5</td>\n",
              "      <td>0.795532</td>\n",
              "    </tr>\n",
              "    <tr>\n",
              "      <th>151</th>\n",
              "      <td>BCL2_BCL2L1_BCL2L2.FGFR</td>\n",
              "      <td>8</td>\n",
              "      <td>0.786970</td>\n",
              "    </tr>\n",
              "    <tr>\n",
              "      <th>27</th>\n",
              "      <td>AKT_SGK.PIK3C</td>\n",
              "      <td>11</td>\n",
              "      <td>0.781874</td>\n",
              "    </tr>\n",
              "    <tr>\n",
              "      <th>104</th>\n",
              "      <td>IAP.PIK3C</td>\n",
              "      <td>21</td>\n",
              "      <td>0.757157</td>\n",
              "    </tr>\n",
              "    <tr>\n",
              "      <th>18</th>\n",
              "      <td>ESR1_1.PIK3C</td>\n",
              "      <td>8</td>\n",
              "      <td>0.756110</td>\n",
              "    </tr>\n",
              "    <tr>\n",
              "      <th>162</th>\n",
              "      <td>BCL2.Oxaliplatin</td>\n",
              "      <td>5</td>\n",
              "      <td>0.753907</td>\n",
              "    </tr>\n",
              "    <tr>\n",
              "      <th>22</th>\n",
              "      <td>HDAC_4.PARP1</td>\n",
              "      <td>7</td>\n",
              "      <td>0.748726</td>\n",
              "    </tr>\n",
              "    <tr>\n",
              "      <th>40</th>\n",
              "      <td>MAP2K_1.PIM1</td>\n",
              "      <td>15</td>\n",
              "      <td>0.740919</td>\n",
              "    </tr>\n",
              "    <tr>\n",
              "      <th>165</th>\n",
              "      <td>BCL2_BCL2L1.IAP</td>\n",
              "      <td>5</td>\n",
              "      <td>0.737704</td>\n",
              "    </tr>\n",
              "    <tr>\n",
              "      <th>124</th>\n",
              "      <td>IAP.PIK3CA_3</td>\n",
              "      <td>10</td>\n",
              "      <td>0.735657</td>\n",
              "    </tr>\n",
              "    <tr>\n",
              "      <th>136</th>\n",
              "      <td>IAP.TOP2_2</td>\n",
              "      <td>10</td>\n",
              "      <td>0.718399</td>\n",
              "    </tr>\n",
              "    <tr>\n",
              "      <th>26</th>\n",
              "      <td>PIK3C.PIM1</td>\n",
              "      <td>15</td>\n",
              "      <td>0.708931</td>\n",
              "    </tr>\n",
              "    <tr>\n",
              "      <th>16</th>\n",
              "      <td>AKT_1.ESR1_1</td>\n",
              "      <td>8</td>\n",
              "      <td>0.700679</td>\n",
              "    </tr>\n",
              "    <tr>\n",
              "      <th>146</th>\n",
              "      <td>AKT.EGFR</td>\n",
              "      <td>11</td>\n",
              "      <td>0.693565</td>\n",
              "    </tr>\n",
              "    <tr>\n",
              "      <th>132</th>\n",
              "      <td>AKT_1.PIK3C_2</td>\n",
              "      <td>10</td>\n",
              "      <td>0.691854</td>\n",
              "    </tr>\n",
              "    <tr>\n",
              "      <th>63</th>\n",
              "      <td>PARP1.PIK3CB_PIK3CD</td>\n",
              "      <td>16</td>\n",
              "      <td>0.687046</td>\n",
              "    </tr>\n",
              "    <tr>\n",
              "      <th>114</th>\n",
              "      <td>IAP.PTK2</td>\n",
              "      <td>5</td>\n",
              "      <td>0.676538</td>\n",
              "    </tr>\n",
              "    <tr>\n",
              "      <th>81</th>\n",
              "      <td>BCL2.CarboTaxol</td>\n",
              "      <td>9</td>\n",
              "      <td>0.672399</td>\n",
              "    </tr>\n",
              "    <tr>\n",
              "      <th>71</th>\n",
              "      <td>CSNK2A1_2.PIK3CA_3</td>\n",
              "      <td>10</td>\n",
              "      <td>0.667302</td>\n",
              "    </tr>\n",
              "    <tr>\n",
              "      <th>36</th>\n",
              "      <td>FGFR.MTOR_3</td>\n",
              "      <td>7</td>\n",
              "      <td>0.656215</td>\n",
              "    </tr>\n",
              "    <tr>\n",
              "      <th>60</th>\n",
              "      <td>AKT_1.EGFR_2</td>\n",
              "      <td>8</td>\n",
              "      <td>0.648774</td>\n",
              "    </tr>\n",
              "    <tr>\n",
              "      <th>42</th>\n",
              "      <td>IAP.TNF</td>\n",
              "      <td>8</td>\n",
              "      <td>0.646565</td>\n",
              "    </tr>\n",
              "    <tr>\n",
              "      <th>38</th>\n",
              "      <td>MAP2K_1.PIP5K1</td>\n",
              "      <td>9</td>\n",
              "      <td>0.643079</td>\n",
              "    </tr>\n",
              "    <tr>\n",
              "      <th>166</th>\n",
              "      <td>IAP.JAK</td>\n",
              "      <td>5</td>\n",
              "      <td>0.639868</td>\n",
              "    </tr>\n",
              "    <tr>\n",
              "      <th>149</th>\n",
              "      <td>Cisplatin.FGFR</td>\n",
              "      <td>5</td>\n",
              "      <td>0.636731</td>\n",
              "    </tr>\n",
              "    <tr>\n",
              "      <th>93</th>\n",
              "      <td>BCL2L1.Vinorelbine</td>\n",
              "      <td>9</td>\n",
              "      <td>0.628173</td>\n",
              "    </tr>\n",
              "    <tr>\n",
              "      <th>56</th>\n",
              "      <td>ADAM17.MAP2K_1</td>\n",
              "      <td>10</td>\n",
              "      <td>0.625994</td>\n",
              "    </tr>\n",
              "    <tr>\n",
              "      <th>156</th>\n",
              "      <td>CSNK2A1_2.TNFSF10</td>\n",
              "      <td>9</td>\n",
              "      <td>0.622142</td>\n",
              "    </tr>\n",
              "    <tr>\n",
              "      <th>142</th>\n",
              "      <td>BCL2_BCL2L1.PIK3CA_4</td>\n",
              "      <td>11</td>\n",
              "      <td>0.619696</td>\n",
              "    </tr>\n",
              "    <tr>\n",
              "      <th>153</th>\n",
              "      <td>IAP.PARP1</td>\n",
              "      <td>9</td>\n",
              "      <td>0.601744</td>\n",
              "    </tr>\n",
              "    <tr>\n",
              "      <th>87</th>\n",
              "      <td>CSNK2A1_2.Gemcitabine</td>\n",
              "      <td>8</td>\n",
              "      <td>0.590585</td>\n",
              "    </tr>\n",
              "    <tr>\n",
              "      <th>141</th>\n",
              "      <td>AKT_1.PIK3C</td>\n",
              "      <td>16</td>\n",
              "      <td>0.585990</td>\n",
              "    </tr>\n",
              "    <tr>\n",
              "      <th>55</th>\n",
              "      <td>PIK3CB_PIK3CD.TNKS_PARP6</td>\n",
              "      <td>10</td>\n",
              "      <td>0.575602</td>\n",
              "    </tr>\n",
              "    <tr>\n",
              "      <th>35</th>\n",
              "      <td>BCL2_2.Vinorelbine</td>\n",
              "      <td>10</td>\n",
              "      <td>0.558346</td>\n",
              "    </tr>\n",
              "    <tr>\n",
              "      <th>89</th>\n",
              "      <td>BCL2_BCL2L1.Gemcitabine</td>\n",
              "      <td>5</td>\n",
              "      <td>0.557889</td>\n",
              "    </tr>\n",
              "    <tr>\n",
              "      <th>30</th>\n",
              "      <td>ALK.PIK3C</td>\n",
              "      <td>9</td>\n",
              "      <td>0.547899</td>\n",
              "    </tr>\n",
              "    <tr>\n",
              "      <th>51</th>\n",
              "      <td>AKT_1.BCL2_BCL2L1</td>\n",
              "      <td>11</td>\n",
              "      <td>0.547508</td>\n",
              "    </tr>\n",
              "    <tr>\n",
              "      <th>5</th>\n",
              "      <td>ERBB.MAP2K_1</td>\n",
              "      <td>14</td>\n",
              "      <td>0.541106</td>\n",
              "    </tr>\n",
              "    <tr>\n",
              "      <th>130</th>\n",
              "      <td>BCL2_BCL2L1.EGFR</td>\n",
              "      <td>11</td>\n",
              "      <td>0.537663</td>\n",
              "    </tr>\n",
              "    <tr>\n",
              "      <th>144</th>\n",
              "      <td>MAP2K_1.SLC16A4</td>\n",
              "      <td>11</td>\n",
              "      <td>0.529975</td>\n",
              "    </tr>\n",
              "    <tr>\n",
              "      <th>107</th>\n",
              "      <td>MTOR_1.PIK3CA_4</td>\n",
              "      <td>11</td>\n",
              "      <td>0.529235</td>\n",
              "    </tr>\n",
              "    <tr>\n",
              "      <th>47</th>\n",
              "      <td>ERBB.MTOR_1</td>\n",
              "      <td>18</td>\n",
              "      <td>0.515322</td>\n",
              "    </tr>\n",
              "    <tr>\n",
              "      <th>110</th>\n",
              "      <td>BCL2L1.CarboTaxol</td>\n",
              "      <td>8</td>\n",
              "      <td>0.506464</td>\n",
              "    </tr>\n",
              "    <tr>\n",
              "      <th>88</th>\n",
              "      <td>AKT_SGK.MAP2K_1</td>\n",
              "      <td>11</td>\n",
              "      <td>0.501841</td>\n",
              "    </tr>\n",
              "    <tr>\n",
              "      <th>12</th>\n",
              "      <td>AKT.ALK_IGFR</td>\n",
              "      <td>11</td>\n",
              "      <td>0.501668</td>\n",
              "    </tr>\n",
              "  </tbody>\n",
              "</table>\n",
              "</div>\n",
              "      <button class=\"colab-df-convert\" onclick=\"convertToInteractive('df-fd550c74-5c6b-44ac-8ecb-4fd611131481')\"\n",
              "              title=\"Convert this dataframe to an interactive table.\"\n",
              "              style=\"display:none;\">\n",
              "        \n",
              "  <svg xmlns=\"http://www.w3.org/2000/svg\" height=\"24px\"viewBox=\"0 0 24 24\"\n",
              "       width=\"24px\">\n",
              "    <path d=\"M0 0h24v24H0V0z\" fill=\"none\"/>\n",
              "    <path d=\"M18.56 5.44l.94 2.06.94-2.06 2.06-.94-2.06-.94-.94-2.06-.94 2.06-2.06.94zm-11 1L8.5 8.5l.94-2.06 2.06-.94-2.06-.94L8.5 2.5l-.94 2.06-2.06.94zm10 10l.94 2.06.94-2.06 2.06-.94-2.06-.94-.94-2.06-.94 2.06-2.06.94z\"/><path d=\"M17.41 7.96l-1.37-1.37c-.4-.4-.92-.59-1.43-.59-.52 0-1.04.2-1.43.59L10.3 9.45l-7.72 7.72c-.78.78-.78 2.05 0 2.83L4 21.41c.39.39.9.59 1.41.59.51 0 1.02-.2 1.41-.59l7.78-7.78 2.81-2.81c.8-.78.8-2.07 0-2.86zM5.41 20L4 18.59l7.72-7.72 1.47 1.35L5.41 20z\"/>\n",
              "  </svg>\n",
              "      </button>\n",
              "      \n",
              "  <style>\n",
              "    .colab-df-container {\n",
              "      display:flex;\n",
              "      flex-wrap:wrap;\n",
              "      gap: 12px;\n",
              "    }\n",
              "\n",
              "    .colab-df-convert {\n",
              "      background-color: #E8F0FE;\n",
              "      border: none;\n",
              "      border-radius: 50%;\n",
              "      cursor: pointer;\n",
              "      display: none;\n",
              "      fill: #1967D2;\n",
              "      height: 32px;\n",
              "      padding: 0 0 0 0;\n",
              "      width: 32px;\n",
              "    }\n",
              "\n",
              "    .colab-df-convert:hover {\n",
              "      background-color: #E2EBFA;\n",
              "      box-shadow: 0px 1px 2px rgba(60, 64, 67, 0.3), 0px 1px 3px 1px rgba(60, 64, 67, 0.15);\n",
              "      fill: #174EA6;\n",
              "    }\n",
              "\n",
              "    [theme=dark] .colab-df-convert {\n",
              "      background-color: #3B4455;\n",
              "      fill: #D2E3FC;\n",
              "    }\n",
              "\n",
              "    [theme=dark] .colab-df-convert:hover {\n",
              "      background-color: #434B5C;\n",
              "      box-shadow: 0px 1px 3px 1px rgba(0, 0, 0, 0.15);\n",
              "      filter: drop-shadow(0px 1px 2px rgba(0, 0, 0, 0.3));\n",
              "      fill: #FFFFFF;\n",
              "    }\n",
              "  </style>\n",
              "\n",
              "      <script>\n",
              "        const buttonEl =\n",
              "          document.querySelector('#df-fd550c74-5c6b-44ac-8ecb-4fd611131481 button.colab-df-convert');\n",
              "        buttonEl.style.display =\n",
              "          google.colab.kernel.accessAllowed ? 'block' : 'none';\n",
              "\n",
              "        async function convertToInteractive(key) {\n",
              "          const element = document.querySelector('#df-fd550c74-5c6b-44ac-8ecb-4fd611131481');\n",
              "          const dataTable =\n",
              "            await google.colab.kernel.invokeFunction('convertToInteractive',\n",
              "                                                     [key], {});\n",
              "          if (!dataTable) return;\n",
              "\n",
              "          const docLinkHtml = 'Like what you see? Visit the ' +\n",
              "            '<a target=\"_blank\" href=https://colab.research.google.com/notebooks/data_table.ipynb>data table notebook</a>'\n",
              "            + ' to learn more about interactive tables.';\n",
              "          element.innerHTML = '';\n",
              "          dataTable['output_type'] = 'display_data';\n",
              "          await google.colab.output.renderOutput(dataTable, element);\n",
              "          const docLink = document.createElement('div');\n",
              "          docLink.innerHTML = docLinkHtml;\n",
              "          element.appendChild(docLink);\n",
              "        }\n",
              "      </script>\n",
              "    </div>\n",
              "  </div>\n",
              "  "
            ]
          },
          "metadata": {},
          "execution_count": 6
        }
      ]
    },
    {
      "cell_type": "code",
      "source": [
        "bad_drugs = drug_pair_pc[drug_pair_pc[\"Pearson coefficient\"] <= 0]\n",
        "bad_drugs"
      ],
      "metadata": {
        "colab": {
          "base_uri": "https://localhost:8080/",
          "height": 0
        },
        "id": "mtnddv05Pfj2",
        "outputId": "3d3e0912-de98-4239-bcfb-5ca8ce9c60fb"
      },
      "execution_count": 7,
      "outputs": [
        {
          "output_type": "execute_result",
          "data": {
            "text/plain": [
              "            Combination ID  n_cl  Pearson coefficient\n",
              "121             IGFR_3.TKI     5            -0.007218\n",
              "112              EGFR.FGFR     9            -0.020846\n",
              "108          ALK.CSNK2A1_2     9            -0.024204\n",
              "31             ESR1.MTOR_1    11            -0.028845\n",
              "74       ATR_4.BCL2_BCL2L1    15            -0.029755\n",
              "96               ERBB.FGFR    18            -0.049443\n",
              "100          MAP2K_3.PIK3C     9            -0.052614\n",
              "23             FASN.MTOR_1    11            -0.067047\n",
              "128               JAK.MTOR     5            -0.084840\n",
              "95             PARP1.PIK3C    16            -0.097514\n",
              "98       FGFR.Proteasome_2     8            -0.098510\n",
              "79   PIK3CB_PIK3CD.SLC16A4    10            -0.152098\n",
              "7               ADAM17.AKT    10            -0.165140\n",
              "163       Cisplatin.HDAC_4     5            -0.186444\n",
              "150        AKT.Chloroquine     8            -0.223746\n",
              "129   ADAM17.PIK3CB_PIK3CD    12            -0.225576\n",
              "139          AKT.Cisplatin     5            -0.256900\n",
              "152             AKT.BCL2L1     8            -0.289260\n",
              "49        BCL2_BCL2L1.PIM1    16            -0.298325\n",
              "52              AKT_1.ESR1    11            -0.300824\n",
              "105            MAP2K_1.TKI     5            -0.361322\n",
              "134        BRAF_M2.MAP2K_1    19            -0.450401\n",
              "118   PIK3CB_PIK3CD.PIP5K1     9            -0.464284\n",
              "122          ESR1_3.MTOR_1     9            -0.479621\n",
              "161        Cisplatin.PARP1     5            -0.518792\n",
              "127           MAP2K_1.PTK2     5            -0.522854\n",
              "157        Cisplatin.PIK3C     5            -0.652726\n",
              "66           HSP90.MAP2K_1     7            -0.705411\n",
              "3           IGFR_4.MAP2K_1     5            -0.757527"
            ],
            "text/html": [
              "\n",
              "  <div id=\"df-a47038e7-d746-4add-8de2-10231fd75b71\">\n",
              "    <div class=\"colab-df-container\">\n",
              "      <div>\n",
              "<style scoped>\n",
              "    .dataframe tbody tr th:only-of-type {\n",
              "        vertical-align: middle;\n",
              "    }\n",
              "\n",
              "    .dataframe tbody tr th {\n",
              "        vertical-align: top;\n",
              "    }\n",
              "\n",
              "    .dataframe thead th {\n",
              "        text-align: right;\n",
              "    }\n",
              "</style>\n",
              "<table border=\"1\" class=\"dataframe\">\n",
              "  <thead>\n",
              "    <tr style=\"text-align: right;\">\n",
              "      <th></th>\n",
              "      <th>Combination ID</th>\n",
              "      <th>n_cl</th>\n",
              "      <th>Pearson coefficient</th>\n",
              "    </tr>\n",
              "  </thead>\n",
              "  <tbody>\n",
              "    <tr>\n",
              "      <th>121</th>\n",
              "      <td>IGFR_3.TKI</td>\n",
              "      <td>5</td>\n",
              "      <td>-0.007218</td>\n",
              "    </tr>\n",
              "    <tr>\n",
              "      <th>112</th>\n",
              "      <td>EGFR.FGFR</td>\n",
              "      <td>9</td>\n",
              "      <td>-0.020846</td>\n",
              "    </tr>\n",
              "    <tr>\n",
              "      <th>108</th>\n",
              "      <td>ALK.CSNK2A1_2</td>\n",
              "      <td>9</td>\n",
              "      <td>-0.024204</td>\n",
              "    </tr>\n",
              "    <tr>\n",
              "      <th>31</th>\n",
              "      <td>ESR1.MTOR_1</td>\n",
              "      <td>11</td>\n",
              "      <td>-0.028845</td>\n",
              "    </tr>\n",
              "    <tr>\n",
              "      <th>74</th>\n",
              "      <td>ATR_4.BCL2_BCL2L1</td>\n",
              "      <td>15</td>\n",
              "      <td>-0.029755</td>\n",
              "    </tr>\n",
              "    <tr>\n",
              "      <th>96</th>\n",
              "      <td>ERBB.FGFR</td>\n",
              "      <td>18</td>\n",
              "      <td>-0.049443</td>\n",
              "    </tr>\n",
              "    <tr>\n",
              "      <th>100</th>\n",
              "      <td>MAP2K_3.PIK3C</td>\n",
              "      <td>9</td>\n",
              "      <td>-0.052614</td>\n",
              "    </tr>\n",
              "    <tr>\n",
              "      <th>23</th>\n",
              "      <td>FASN.MTOR_1</td>\n",
              "      <td>11</td>\n",
              "      <td>-0.067047</td>\n",
              "    </tr>\n",
              "    <tr>\n",
              "      <th>128</th>\n",
              "      <td>JAK.MTOR</td>\n",
              "      <td>5</td>\n",
              "      <td>-0.084840</td>\n",
              "    </tr>\n",
              "    <tr>\n",
              "      <th>95</th>\n",
              "      <td>PARP1.PIK3C</td>\n",
              "      <td>16</td>\n",
              "      <td>-0.097514</td>\n",
              "    </tr>\n",
              "    <tr>\n",
              "      <th>98</th>\n",
              "      <td>FGFR.Proteasome_2</td>\n",
              "      <td>8</td>\n",
              "      <td>-0.098510</td>\n",
              "    </tr>\n",
              "    <tr>\n",
              "      <th>79</th>\n",
              "      <td>PIK3CB_PIK3CD.SLC16A4</td>\n",
              "      <td>10</td>\n",
              "      <td>-0.152098</td>\n",
              "    </tr>\n",
              "    <tr>\n",
              "      <th>7</th>\n",
              "      <td>ADAM17.AKT</td>\n",
              "      <td>10</td>\n",
              "      <td>-0.165140</td>\n",
              "    </tr>\n",
              "    <tr>\n",
              "      <th>163</th>\n",
              "      <td>Cisplatin.HDAC_4</td>\n",
              "      <td>5</td>\n",
              "      <td>-0.186444</td>\n",
              "    </tr>\n",
              "    <tr>\n",
              "      <th>150</th>\n",
              "      <td>AKT.Chloroquine</td>\n",
              "      <td>8</td>\n",
              "      <td>-0.223746</td>\n",
              "    </tr>\n",
              "    <tr>\n",
              "      <th>129</th>\n",
              "      <td>ADAM17.PIK3CB_PIK3CD</td>\n",
              "      <td>12</td>\n",
              "      <td>-0.225576</td>\n",
              "    </tr>\n",
              "    <tr>\n",
              "      <th>139</th>\n",
              "      <td>AKT.Cisplatin</td>\n",
              "      <td>5</td>\n",
              "      <td>-0.256900</td>\n",
              "    </tr>\n",
              "    <tr>\n",
              "      <th>152</th>\n",
              "      <td>AKT.BCL2L1</td>\n",
              "      <td>8</td>\n",
              "      <td>-0.289260</td>\n",
              "    </tr>\n",
              "    <tr>\n",
              "      <th>49</th>\n",
              "      <td>BCL2_BCL2L1.PIM1</td>\n",
              "      <td>16</td>\n",
              "      <td>-0.298325</td>\n",
              "    </tr>\n",
              "    <tr>\n",
              "      <th>52</th>\n",
              "      <td>AKT_1.ESR1</td>\n",
              "      <td>11</td>\n",
              "      <td>-0.300824</td>\n",
              "    </tr>\n",
              "    <tr>\n",
              "      <th>105</th>\n",
              "      <td>MAP2K_1.TKI</td>\n",
              "      <td>5</td>\n",
              "      <td>-0.361322</td>\n",
              "    </tr>\n",
              "    <tr>\n",
              "      <th>134</th>\n",
              "      <td>BRAF_M2.MAP2K_1</td>\n",
              "      <td>19</td>\n",
              "      <td>-0.450401</td>\n",
              "    </tr>\n",
              "    <tr>\n",
              "      <th>118</th>\n",
              "      <td>PIK3CB_PIK3CD.PIP5K1</td>\n",
              "      <td>9</td>\n",
              "      <td>-0.464284</td>\n",
              "    </tr>\n",
              "    <tr>\n",
              "      <th>122</th>\n",
              "      <td>ESR1_3.MTOR_1</td>\n",
              "      <td>9</td>\n",
              "      <td>-0.479621</td>\n",
              "    </tr>\n",
              "    <tr>\n",
              "      <th>161</th>\n",
              "      <td>Cisplatin.PARP1</td>\n",
              "      <td>5</td>\n",
              "      <td>-0.518792</td>\n",
              "    </tr>\n",
              "    <tr>\n",
              "      <th>127</th>\n",
              "      <td>MAP2K_1.PTK2</td>\n",
              "      <td>5</td>\n",
              "      <td>-0.522854</td>\n",
              "    </tr>\n",
              "    <tr>\n",
              "      <th>157</th>\n",
              "      <td>Cisplatin.PIK3C</td>\n",
              "      <td>5</td>\n",
              "      <td>-0.652726</td>\n",
              "    </tr>\n",
              "    <tr>\n",
              "      <th>66</th>\n",
              "      <td>HSP90.MAP2K_1</td>\n",
              "      <td>7</td>\n",
              "      <td>-0.705411</td>\n",
              "    </tr>\n",
              "    <tr>\n",
              "      <th>3</th>\n",
              "      <td>IGFR_4.MAP2K_1</td>\n",
              "      <td>5</td>\n",
              "      <td>-0.757527</td>\n",
              "    </tr>\n",
              "  </tbody>\n",
              "</table>\n",
              "</div>\n",
              "      <button class=\"colab-df-convert\" onclick=\"convertToInteractive('df-a47038e7-d746-4add-8de2-10231fd75b71')\"\n",
              "              title=\"Convert this dataframe to an interactive table.\"\n",
              "              style=\"display:none;\">\n",
              "        \n",
              "  <svg xmlns=\"http://www.w3.org/2000/svg\" height=\"24px\"viewBox=\"0 0 24 24\"\n",
              "       width=\"24px\">\n",
              "    <path d=\"M0 0h24v24H0V0z\" fill=\"none\"/>\n",
              "    <path d=\"M18.56 5.44l.94 2.06.94-2.06 2.06-.94-2.06-.94-.94-2.06-.94 2.06-2.06.94zm-11 1L8.5 8.5l.94-2.06 2.06-.94-2.06-.94L8.5 2.5l-.94 2.06-2.06.94zm10 10l.94 2.06.94-2.06 2.06-.94-2.06-.94-.94-2.06-.94 2.06-2.06.94z\"/><path d=\"M17.41 7.96l-1.37-1.37c-.4-.4-.92-.59-1.43-.59-.52 0-1.04.2-1.43.59L10.3 9.45l-7.72 7.72c-.78.78-.78 2.05 0 2.83L4 21.41c.39.39.9.59 1.41.59.51 0 1.02-.2 1.41-.59l7.78-7.78 2.81-2.81c.8-.78.8-2.07 0-2.86zM5.41 20L4 18.59l7.72-7.72 1.47 1.35L5.41 20z\"/>\n",
              "  </svg>\n",
              "      </button>\n",
              "      \n",
              "  <style>\n",
              "    .colab-df-container {\n",
              "      display:flex;\n",
              "      flex-wrap:wrap;\n",
              "      gap: 12px;\n",
              "    }\n",
              "\n",
              "    .colab-df-convert {\n",
              "      background-color: #E8F0FE;\n",
              "      border: none;\n",
              "      border-radius: 50%;\n",
              "      cursor: pointer;\n",
              "      display: none;\n",
              "      fill: #1967D2;\n",
              "      height: 32px;\n",
              "      padding: 0 0 0 0;\n",
              "      width: 32px;\n",
              "    }\n",
              "\n",
              "    .colab-df-convert:hover {\n",
              "      background-color: #E2EBFA;\n",
              "      box-shadow: 0px 1px 2px rgba(60, 64, 67, 0.3), 0px 1px 3px 1px rgba(60, 64, 67, 0.15);\n",
              "      fill: #174EA6;\n",
              "    }\n",
              "\n",
              "    [theme=dark] .colab-df-convert {\n",
              "      background-color: #3B4455;\n",
              "      fill: #D2E3FC;\n",
              "    }\n",
              "\n",
              "    [theme=dark] .colab-df-convert:hover {\n",
              "      background-color: #434B5C;\n",
              "      box-shadow: 0px 1px 3px 1px rgba(0, 0, 0, 0.15);\n",
              "      filter: drop-shadow(0px 1px 2px rgba(0, 0, 0, 0.3));\n",
              "      fill: #FFFFFF;\n",
              "    }\n",
              "  </style>\n",
              "\n",
              "      <script>\n",
              "        const buttonEl =\n",
              "          document.querySelector('#df-a47038e7-d746-4add-8de2-10231fd75b71 button.colab-df-convert');\n",
              "        buttonEl.style.display =\n",
              "          google.colab.kernel.accessAllowed ? 'block' : 'none';\n",
              "\n",
              "        async function convertToInteractive(key) {\n",
              "          const element = document.querySelector('#df-a47038e7-d746-4add-8de2-10231fd75b71');\n",
              "          const dataTable =\n",
              "            await google.colab.kernel.invokeFunction('convertToInteractive',\n",
              "                                                     [key], {});\n",
              "          if (!dataTable) return;\n",
              "\n",
              "          const docLinkHtml = 'Like what you see? Visit the ' +\n",
              "            '<a target=\"_blank\" href=https://colab.research.google.com/notebooks/data_table.ipynb>data table notebook</a>'\n",
              "            + ' to learn more about interactive tables.';\n",
              "          element.innerHTML = '';\n",
              "          dataTable['output_type'] = 'display_data';\n",
              "          await google.colab.output.renderOutput(dataTable, element);\n",
              "          const docLink = document.createElement('div');\n",
              "          docLink.innerHTML = docLinkHtml;\n",
              "          element.appendChild(docLink);\n",
              "        }\n",
              "      </script>\n",
              "    </div>\n",
              "  </div>\n",
              "  "
            ]
          },
          "metadata": {},
          "execution_count": 7
        }
      ]
    },
    {
      "cell_type": "markdown",
      "source": [
        "Now we want to create DataFrames of monotherapy information of the drugs that yield synergy to later check the p values of each feature and see if the null hypothesis is true."
      ],
      "metadata": {
        "id": "zKRH7wcHQBHh"
      }
    },
    {
      "cell_type": "code",
      "source": [
        "dataset_size = df_drug_comb.shape[0]\n",
        "complete_list = np.arange(dataset_size, dtype = int)\n",
        "mask_train = df_drug_comb[\"Dataset\"]==\"train\"\n",
        "\n",
        "test_idx = complete_list[~mask_train]\n",
        "\n",
        "test_df = df_drug_comb.iloc[test_idx]\n"
      ],
      "metadata": {
        "id": "sZxprHAaQwT5"
      },
      "execution_count": 8,
      "outputs": []
    },
    {
      "cell_type": "code",
      "source": [
        "test_df"
      ],
      "metadata": {
        "colab": {
          "base_uri": "https://localhost:8080/",
          "height": 0
        },
        "id": "9munUZWdSdMV",
        "outputId": "698a19ad-97a3-4e20-d954-fd1417bcec39"
      },
      "execution_count": 9,
      "outputs": [
        {
          "output_type": "execute_result",
          "data": {
            "text/plain": [
              "     Cell line name   Compound A Compound B  Max. conc. A  Max. conc. B  \\\n",
              "2199         BT-549          AKT     ADAM17          1.00          75.0   \n",
              "2200        CAL-148          AKT     ADAM17          1.00          75.0   \n",
              "2201          HCC38          AKT     ADAM17          1.00          75.0   \n",
              "2202          BT-20  BCL2_BCL2L1     ADAM17          1.00          75.0   \n",
              "2203        HCC1143  BCL2_BCL2L1     ADAM17          1.00          75.0   \n",
              "...             ...          ...        ...           ...           ...   \n",
              "3874         Calu-6  Vinorelbine     BCL2_2          0.03           3.0   \n",
              "3875      NCI-H1563  Vinorelbine     BCL2_2          0.03           3.0   \n",
              "3876      NCI-H2085  Vinorelbine     BCL2_2          3.00           3.0   \n",
              "3877        NCI-H23  Vinorelbine     BCL2_2          0.10           3.0   \n",
              "3878       NCI-H520  Vinorelbine     BCL2_2          0.01           3.0   \n",
              "\n",
              "        IC50 A        H A     Einf A   IC50 B       H B      Einf B  \\\n",
              "2199  0.184408   1.737511  59.575233   1.0000  0.000000  100.000000   \n",
              "2200  0.153391   1.754123   1.100779   1.0000  0.000000  100.000000   \n",
              "2201  1.000000  10.000000  64.400080   1.0000  0.000000  100.000000   \n",
              "2202  1.000000   1.161731  39.164587  75.0000  0.965792   70.915033   \n",
              "2203  0.115309  10.000000  57.198795   0.0075  0.100000   80.128089   \n",
              "...        ...        ...        ...      ...       ...         ...   \n",
              "3874  0.015602   2.583210  36.854102   1.0000  0.000000  100.000000   \n",
              "3875  0.030000   0.110001  29.776107   0.0003  0.100000   88.601043   \n",
              "3876  0.003088   0.241204  28.470279   1.0000  0.000000  100.000000   \n",
              "3877  0.030085  10.000000  15.199403   1.0000  0.000000  100.000000   \n",
              "3878  0.003225  10.000000  80.099724   1.0000  0.000000  100.000000   \n",
              "\n",
              "      Synergy score  QA      Combination ID Challenge Dataset  \n",
              "2199       7.398240   1          ADAM17.AKT       ch1      LB  \n",
              "2200      12.686340   1          ADAM17.AKT       ch1      LB  \n",
              "2201      -4.351590   1          ADAM17.AKT       ch1      LB  \n",
              "2202      -1.297886   1  ADAM17.BCL2_BCL2L1       ch1      LB  \n",
              "2203       3.369319   1  ADAM17.BCL2_BCL2L1       ch1      LB  \n",
              "...             ...  ..                 ...       ...     ...  \n",
              "3874      12.384880   1  BCL2_2.Vinorelbine       ch1    test  \n",
              "3875    -115.750900   1  BCL2_2.Vinorelbine       ch1    test  \n",
              "3876      -8.649973   1  BCL2_2.Vinorelbine       ch1    test  \n",
              "3877      31.952940   1  BCL2_2.Vinorelbine       ch1    test  \n",
              "3878      -5.421790   1  BCL2_2.Vinorelbine       ch1    test  \n",
              "\n",
              "[1680 rows x 16 columns]"
            ],
            "text/html": [
              "\n",
              "  <div id=\"df-9e9b1eaa-2f0b-4b1f-9bf0-dc1e2da54a92\">\n",
              "    <div class=\"colab-df-container\">\n",
              "      <div>\n",
              "<style scoped>\n",
              "    .dataframe tbody tr th:only-of-type {\n",
              "        vertical-align: middle;\n",
              "    }\n",
              "\n",
              "    .dataframe tbody tr th {\n",
              "        vertical-align: top;\n",
              "    }\n",
              "\n",
              "    .dataframe thead th {\n",
              "        text-align: right;\n",
              "    }\n",
              "</style>\n",
              "<table border=\"1\" class=\"dataframe\">\n",
              "  <thead>\n",
              "    <tr style=\"text-align: right;\">\n",
              "      <th></th>\n",
              "      <th>Cell line name</th>\n",
              "      <th>Compound A</th>\n",
              "      <th>Compound B</th>\n",
              "      <th>Max. conc. A</th>\n",
              "      <th>Max. conc. B</th>\n",
              "      <th>IC50 A</th>\n",
              "      <th>H A</th>\n",
              "      <th>Einf A</th>\n",
              "      <th>IC50 B</th>\n",
              "      <th>H B</th>\n",
              "      <th>Einf B</th>\n",
              "      <th>Synergy score</th>\n",
              "      <th>QA</th>\n",
              "      <th>Combination ID</th>\n",
              "      <th>Challenge</th>\n",
              "      <th>Dataset</th>\n",
              "    </tr>\n",
              "  </thead>\n",
              "  <tbody>\n",
              "    <tr>\n",
              "      <th>2199</th>\n",
              "      <td>BT-549</td>\n",
              "      <td>AKT</td>\n",
              "      <td>ADAM17</td>\n",
              "      <td>1.00</td>\n",
              "      <td>75.0</td>\n",
              "      <td>0.184408</td>\n",
              "      <td>1.737511</td>\n",
              "      <td>59.575233</td>\n",
              "      <td>1.0000</td>\n",
              "      <td>0.000000</td>\n",
              "      <td>100.000000</td>\n",
              "      <td>7.398240</td>\n",
              "      <td>1</td>\n",
              "      <td>ADAM17.AKT</td>\n",
              "      <td>ch1</td>\n",
              "      <td>LB</td>\n",
              "    </tr>\n",
              "    <tr>\n",
              "      <th>2200</th>\n",
              "      <td>CAL-148</td>\n",
              "      <td>AKT</td>\n",
              "      <td>ADAM17</td>\n",
              "      <td>1.00</td>\n",
              "      <td>75.0</td>\n",
              "      <td>0.153391</td>\n",
              "      <td>1.754123</td>\n",
              "      <td>1.100779</td>\n",
              "      <td>1.0000</td>\n",
              "      <td>0.000000</td>\n",
              "      <td>100.000000</td>\n",
              "      <td>12.686340</td>\n",
              "      <td>1</td>\n",
              "      <td>ADAM17.AKT</td>\n",
              "      <td>ch1</td>\n",
              "      <td>LB</td>\n",
              "    </tr>\n",
              "    <tr>\n",
              "      <th>2201</th>\n",
              "      <td>HCC38</td>\n",
              "      <td>AKT</td>\n",
              "      <td>ADAM17</td>\n",
              "      <td>1.00</td>\n",
              "      <td>75.0</td>\n",
              "      <td>1.000000</td>\n",
              "      <td>10.000000</td>\n",
              "      <td>64.400080</td>\n",
              "      <td>1.0000</td>\n",
              "      <td>0.000000</td>\n",
              "      <td>100.000000</td>\n",
              "      <td>-4.351590</td>\n",
              "      <td>1</td>\n",
              "      <td>ADAM17.AKT</td>\n",
              "      <td>ch1</td>\n",
              "      <td>LB</td>\n",
              "    </tr>\n",
              "    <tr>\n",
              "      <th>2202</th>\n",
              "      <td>BT-20</td>\n",
              "      <td>BCL2_BCL2L1</td>\n",
              "      <td>ADAM17</td>\n",
              "      <td>1.00</td>\n",
              "      <td>75.0</td>\n",
              "      <td>1.000000</td>\n",
              "      <td>1.161731</td>\n",
              "      <td>39.164587</td>\n",
              "      <td>75.0000</td>\n",
              "      <td>0.965792</td>\n",
              "      <td>70.915033</td>\n",
              "      <td>-1.297886</td>\n",
              "      <td>1</td>\n",
              "      <td>ADAM17.BCL2_BCL2L1</td>\n",
              "      <td>ch1</td>\n",
              "      <td>LB</td>\n",
              "    </tr>\n",
              "    <tr>\n",
              "      <th>2203</th>\n",
              "      <td>HCC1143</td>\n",
              "      <td>BCL2_BCL2L1</td>\n",
              "      <td>ADAM17</td>\n",
              "      <td>1.00</td>\n",
              "      <td>75.0</td>\n",
              "      <td>0.115309</td>\n",
              "      <td>10.000000</td>\n",
              "      <td>57.198795</td>\n",
              "      <td>0.0075</td>\n",
              "      <td>0.100000</td>\n",
              "      <td>80.128089</td>\n",
              "      <td>3.369319</td>\n",
              "      <td>1</td>\n",
              "      <td>ADAM17.BCL2_BCL2L1</td>\n",
              "      <td>ch1</td>\n",
              "      <td>LB</td>\n",
              "    </tr>\n",
              "    <tr>\n",
              "      <th>...</th>\n",
              "      <td>...</td>\n",
              "      <td>...</td>\n",
              "      <td>...</td>\n",
              "      <td>...</td>\n",
              "      <td>...</td>\n",
              "      <td>...</td>\n",
              "      <td>...</td>\n",
              "      <td>...</td>\n",
              "      <td>...</td>\n",
              "      <td>...</td>\n",
              "      <td>...</td>\n",
              "      <td>...</td>\n",
              "      <td>...</td>\n",
              "      <td>...</td>\n",
              "      <td>...</td>\n",
              "      <td>...</td>\n",
              "    </tr>\n",
              "    <tr>\n",
              "      <th>3874</th>\n",
              "      <td>Calu-6</td>\n",
              "      <td>Vinorelbine</td>\n",
              "      <td>BCL2_2</td>\n",
              "      <td>0.03</td>\n",
              "      <td>3.0</td>\n",
              "      <td>0.015602</td>\n",
              "      <td>2.583210</td>\n",
              "      <td>36.854102</td>\n",
              "      <td>1.0000</td>\n",
              "      <td>0.000000</td>\n",
              "      <td>100.000000</td>\n",
              "      <td>12.384880</td>\n",
              "      <td>1</td>\n",
              "      <td>BCL2_2.Vinorelbine</td>\n",
              "      <td>ch1</td>\n",
              "      <td>test</td>\n",
              "    </tr>\n",
              "    <tr>\n",
              "      <th>3875</th>\n",
              "      <td>NCI-H1563</td>\n",
              "      <td>Vinorelbine</td>\n",
              "      <td>BCL2_2</td>\n",
              "      <td>0.03</td>\n",
              "      <td>3.0</td>\n",
              "      <td>0.030000</td>\n",
              "      <td>0.110001</td>\n",
              "      <td>29.776107</td>\n",
              "      <td>0.0003</td>\n",
              "      <td>0.100000</td>\n",
              "      <td>88.601043</td>\n",
              "      <td>-115.750900</td>\n",
              "      <td>1</td>\n",
              "      <td>BCL2_2.Vinorelbine</td>\n",
              "      <td>ch1</td>\n",
              "      <td>test</td>\n",
              "    </tr>\n",
              "    <tr>\n",
              "      <th>3876</th>\n",
              "      <td>NCI-H2085</td>\n",
              "      <td>Vinorelbine</td>\n",
              "      <td>BCL2_2</td>\n",
              "      <td>3.00</td>\n",
              "      <td>3.0</td>\n",
              "      <td>0.003088</td>\n",
              "      <td>0.241204</td>\n",
              "      <td>28.470279</td>\n",
              "      <td>1.0000</td>\n",
              "      <td>0.000000</td>\n",
              "      <td>100.000000</td>\n",
              "      <td>-8.649973</td>\n",
              "      <td>1</td>\n",
              "      <td>BCL2_2.Vinorelbine</td>\n",
              "      <td>ch1</td>\n",
              "      <td>test</td>\n",
              "    </tr>\n",
              "    <tr>\n",
              "      <th>3877</th>\n",
              "      <td>NCI-H23</td>\n",
              "      <td>Vinorelbine</td>\n",
              "      <td>BCL2_2</td>\n",
              "      <td>0.10</td>\n",
              "      <td>3.0</td>\n",
              "      <td>0.030085</td>\n",
              "      <td>10.000000</td>\n",
              "      <td>15.199403</td>\n",
              "      <td>1.0000</td>\n",
              "      <td>0.000000</td>\n",
              "      <td>100.000000</td>\n",
              "      <td>31.952940</td>\n",
              "      <td>1</td>\n",
              "      <td>BCL2_2.Vinorelbine</td>\n",
              "      <td>ch1</td>\n",
              "      <td>test</td>\n",
              "    </tr>\n",
              "    <tr>\n",
              "      <th>3878</th>\n",
              "      <td>NCI-H520</td>\n",
              "      <td>Vinorelbine</td>\n",
              "      <td>BCL2_2</td>\n",
              "      <td>0.01</td>\n",
              "      <td>3.0</td>\n",
              "      <td>0.003225</td>\n",
              "      <td>10.000000</td>\n",
              "      <td>80.099724</td>\n",
              "      <td>1.0000</td>\n",
              "      <td>0.000000</td>\n",
              "      <td>100.000000</td>\n",
              "      <td>-5.421790</td>\n",
              "      <td>1</td>\n",
              "      <td>BCL2_2.Vinorelbine</td>\n",
              "      <td>ch1</td>\n",
              "      <td>test</td>\n",
              "    </tr>\n",
              "  </tbody>\n",
              "</table>\n",
              "<p>1680 rows × 16 columns</p>\n",
              "</div>\n",
              "      <button class=\"colab-df-convert\" onclick=\"convertToInteractive('df-9e9b1eaa-2f0b-4b1f-9bf0-dc1e2da54a92')\"\n",
              "              title=\"Convert this dataframe to an interactive table.\"\n",
              "              style=\"display:none;\">\n",
              "        \n",
              "  <svg xmlns=\"http://www.w3.org/2000/svg\" height=\"24px\"viewBox=\"0 0 24 24\"\n",
              "       width=\"24px\">\n",
              "    <path d=\"M0 0h24v24H0V0z\" fill=\"none\"/>\n",
              "    <path d=\"M18.56 5.44l.94 2.06.94-2.06 2.06-.94-2.06-.94-.94-2.06-.94 2.06-2.06.94zm-11 1L8.5 8.5l.94-2.06 2.06-.94-2.06-.94L8.5 2.5l-.94 2.06-2.06.94zm10 10l.94 2.06.94-2.06 2.06-.94-2.06-.94-.94-2.06-.94 2.06-2.06.94z\"/><path d=\"M17.41 7.96l-1.37-1.37c-.4-.4-.92-.59-1.43-.59-.52 0-1.04.2-1.43.59L10.3 9.45l-7.72 7.72c-.78.78-.78 2.05 0 2.83L4 21.41c.39.39.9.59 1.41.59.51 0 1.02-.2 1.41-.59l7.78-7.78 2.81-2.81c.8-.78.8-2.07 0-2.86zM5.41 20L4 18.59l7.72-7.72 1.47 1.35L5.41 20z\"/>\n",
              "  </svg>\n",
              "      </button>\n",
              "      \n",
              "  <style>\n",
              "    .colab-df-container {\n",
              "      display:flex;\n",
              "      flex-wrap:wrap;\n",
              "      gap: 12px;\n",
              "    }\n",
              "\n",
              "    .colab-df-convert {\n",
              "      background-color: #E8F0FE;\n",
              "      border: none;\n",
              "      border-radius: 50%;\n",
              "      cursor: pointer;\n",
              "      display: none;\n",
              "      fill: #1967D2;\n",
              "      height: 32px;\n",
              "      padding: 0 0 0 0;\n",
              "      width: 32px;\n",
              "    }\n",
              "\n",
              "    .colab-df-convert:hover {\n",
              "      background-color: #E2EBFA;\n",
              "      box-shadow: 0px 1px 2px rgba(60, 64, 67, 0.3), 0px 1px 3px 1px rgba(60, 64, 67, 0.15);\n",
              "      fill: #174EA6;\n",
              "    }\n",
              "\n",
              "    [theme=dark] .colab-df-convert {\n",
              "      background-color: #3B4455;\n",
              "      fill: #D2E3FC;\n",
              "    }\n",
              "\n",
              "    [theme=dark] .colab-df-convert:hover {\n",
              "      background-color: #434B5C;\n",
              "      box-shadow: 0px 1px 3px 1px rgba(0, 0, 0, 0.15);\n",
              "      filter: drop-shadow(0px 1px 2px rgba(0, 0, 0, 0.3));\n",
              "      fill: #FFFFFF;\n",
              "    }\n",
              "  </style>\n",
              "\n",
              "      <script>\n",
              "        const buttonEl =\n",
              "          document.querySelector('#df-9e9b1eaa-2f0b-4b1f-9bf0-dc1e2da54a92 button.colab-df-convert');\n",
              "        buttonEl.style.display =\n",
              "          google.colab.kernel.accessAllowed ? 'block' : 'none';\n",
              "\n",
              "        async function convertToInteractive(key) {\n",
              "          const element = document.querySelector('#df-9e9b1eaa-2f0b-4b1f-9bf0-dc1e2da54a92');\n",
              "          const dataTable =\n",
              "            await google.colab.kernel.invokeFunction('convertToInteractive',\n",
              "                                                     [key], {});\n",
              "          if (!dataTable) return;\n",
              "\n",
              "          const docLinkHtml = 'Like what you see? Visit the ' +\n",
              "            '<a target=\"_blank\" href=https://colab.research.google.com/notebooks/data_table.ipynb>data table notebook</a>'\n",
              "            + ' to learn more about interactive tables.';\n",
              "          element.innerHTML = '';\n",
              "          dataTable['output_type'] = 'display_data';\n",
              "          await google.colab.output.renderOutput(dataTable, element);\n",
              "          const docLink = document.createElement('div');\n",
              "          docLink.innerHTML = docLinkHtml;\n",
              "          element.appendChild(docLink);\n",
              "        }\n",
              "      </script>\n",
              "    </div>\n",
              "  </div>\n",
              "  "
            ]
          },
          "metadata": {},
          "execution_count": 9
        }
      ]
    },
    {
      "cell_type": "code",
      "source": [
        "valid_xs_perm = pd.DataFrame()\n",
        "valid_xs_perm[['Cell line name', 'Compound A', \n",
        "               'Compound B', 'Max. conc. A',\n",
        "       'Max. conc. B', 'IC50 A', \n",
        "       'H A', 'Einf A', \n",
        "       'IC50 B', 'H B', 'Einf B',\n",
        "       'Synergy score', 'QA', \n",
        "       'Combination ID', 'Challenge', 'Dataset']] = test_df[['Cell line name', 'Compound B', \n",
        "               'Compound A', 'Max. conc. B',\n",
        "       'Max. conc. A', 'IC50 B', \n",
        "       'H B', 'Einf B', \n",
        "       'IC50 A', 'H A', 'Einf A','Synergy score', 'QA', \n",
        "       'Combination ID', 'Challenge', 'Dataset']]\n",
        "\n",
        "      "
      ],
      "metadata": {
        "id": "Re0_x61dSlWI"
      },
      "execution_count": 10,
      "outputs": []
    },
    {
      "cell_type": "code",
      "source": [
        "commutative_df = pd.concat([test_df, valid_xs_perm])\n",
        "commutative_df"
      ],
      "metadata": {
        "colab": {
          "base_uri": "https://localhost:8080/",
          "height": 0
        },
        "id": "ejU3OdD7Sr6o",
        "outputId": "6314fa3c-caae-4f59-9f86-8e1b70c9d6e2"
      },
      "execution_count": 11,
      "outputs": [
        {
          "output_type": "execute_result",
          "data": {
            "text/plain": [
              "     Cell line name   Compound A   Compound B  Max. conc. A  Max. conc. B  \\\n",
              "2199         BT-549          AKT       ADAM17           1.0         75.00   \n",
              "2200        CAL-148          AKT       ADAM17           1.0         75.00   \n",
              "2201          HCC38          AKT       ADAM17           1.0         75.00   \n",
              "2202          BT-20  BCL2_BCL2L1       ADAM17           1.0         75.00   \n",
              "2203        HCC1143  BCL2_BCL2L1       ADAM17           1.0         75.00   \n",
              "...             ...          ...          ...           ...           ...   \n",
              "3874         Calu-6       BCL2_2  Vinorelbine           3.0          0.03   \n",
              "3875      NCI-H1563       BCL2_2  Vinorelbine           3.0          0.03   \n",
              "3876      NCI-H2085       BCL2_2  Vinorelbine           3.0          3.00   \n",
              "3877        NCI-H23       BCL2_2  Vinorelbine           3.0          0.10   \n",
              "3878       NCI-H520       BCL2_2  Vinorelbine           3.0          0.01   \n",
              "\n",
              "        IC50 A        H A      Einf A     IC50 B        H B      Einf B  \\\n",
              "2199  0.184408   1.737511   59.575233   1.000000   0.000000  100.000000   \n",
              "2200  0.153391   1.754123    1.100779   1.000000   0.000000  100.000000   \n",
              "2201  1.000000  10.000000   64.400080   1.000000   0.000000  100.000000   \n",
              "2202  1.000000   1.161731   39.164587  75.000000   0.965792   70.915033   \n",
              "2203  0.115309  10.000000   57.198795   0.007500   0.100000   80.128089   \n",
              "...        ...        ...         ...        ...        ...         ...   \n",
              "3874  1.000000   0.000000  100.000000   0.015602   2.583210   36.854102   \n",
              "3875  0.000300   0.100000   88.601043   0.030000   0.110001   29.776107   \n",
              "3876  1.000000   0.000000  100.000000   0.003088   0.241204   28.470279   \n",
              "3877  1.000000   0.000000  100.000000   0.030085  10.000000   15.199403   \n",
              "3878  1.000000   0.000000  100.000000   0.003225  10.000000   80.099724   \n",
              "\n",
              "      Synergy score  QA      Combination ID Challenge Dataset  \n",
              "2199       7.398240   1          ADAM17.AKT       ch1      LB  \n",
              "2200      12.686340   1          ADAM17.AKT       ch1      LB  \n",
              "2201      -4.351590   1          ADAM17.AKT       ch1      LB  \n",
              "2202      -1.297886   1  ADAM17.BCL2_BCL2L1       ch1      LB  \n",
              "2203       3.369319   1  ADAM17.BCL2_BCL2L1       ch1      LB  \n",
              "...             ...  ..                 ...       ...     ...  \n",
              "3874      12.384880   1  BCL2_2.Vinorelbine       ch1    test  \n",
              "3875    -115.750900   1  BCL2_2.Vinorelbine       ch1    test  \n",
              "3876      -8.649973   1  BCL2_2.Vinorelbine       ch1    test  \n",
              "3877      31.952940   1  BCL2_2.Vinorelbine       ch1    test  \n",
              "3878      -5.421790   1  BCL2_2.Vinorelbine       ch1    test  \n",
              "\n",
              "[3360 rows x 16 columns]"
            ],
            "text/html": [
              "\n",
              "  <div id=\"df-7a85ae84-e9e7-465e-a7d7-20daad414b19\">\n",
              "    <div class=\"colab-df-container\">\n",
              "      <div>\n",
              "<style scoped>\n",
              "    .dataframe tbody tr th:only-of-type {\n",
              "        vertical-align: middle;\n",
              "    }\n",
              "\n",
              "    .dataframe tbody tr th {\n",
              "        vertical-align: top;\n",
              "    }\n",
              "\n",
              "    .dataframe thead th {\n",
              "        text-align: right;\n",
              "    }\n",
              "</style>\n",
              "<table border=\"1\" class=\"dataframe\">\n",
              "  <thead>\n",
              "    <tr style=\"text-align: right;\">\n",
              "      <th></th>\n",
              "      <th>Cell line name</th>\n",
              "      <th>Compound A</th>\n",
              "      <th>Compound B</th>\n",
              "      <th>Max. conc. A</th>\n",
              "      <th>Max. conc. B</th>\n",
              "      <th>IC50 A</th>\n",
              "      <th>H A</th>\n",
              "      <th>Einf A</th>\n",
              "      <th>IC50 B</th>\n",
              "      <th>H B</th>\n",
              "      <th>Einf B</th>\n",
              "      <th>Synergy score</th>\n",
              "      <th>QA</th>\n",
              "      <th>Combination ID</th>\n",
              "      <th>Challenge</th>\n",
              "      <th>Dataset</th>\n",
              "    </tr>\n",
              "  </thead>\n",
              "  <tbody>\n",
              "    <tr>\n",
              "      <th>2199</th>\n",
              "      <td>BT-549</td>\n",
              "      <td>AKT</td>\n",
              "      <td>ADAM17</td>\n",
              "      <td>1.0</td>\n",
              "      <td>75.00</td>\n",
              "      <td>0.184408</td>\n",
              "      <td>1.737511</td>\n",
              "      <td>59.575233</td>\n",
              "      <td>1.000000</td>\n",
              "      <td>0.000000</td>\n",
              "      <td>100.000000</td>\n",
              "      <td>7.398240</td>\n",
              "      <td>1</td>\n",
              "      <td>ADAM17.AKT</td>\n",
              "      <td>ch1</td>\n",
              "      <td>LB</td>\n",
              "    </tr>\n",
              "    <tr>\n",
              "      <th>2200</th>\n",
              "      <td>CAL-148</td>\n",
              "      <td>AKT</td>\n",
              "      <td>ADAM17</td>\n",
              "      <td>1.0</td>\n",
              "      <td>75.00</td>\n",
              "      <td>0.153391</td>\n",
              "      <td>1.754123</td>\n",
              "      <td>1.100779</td>\n",
              "      <td>1.000000</td>\n",
              "      <td>0.000000</td>\n",
              "      <td>100.000000</td>\n",
              "      <td>12.686340</td>\n",
              "      <td>1</td>\n",
              "      <td>ADAM17.AKT</td>\n",
              "      <td>ch1</td>\n",
              "      <td>LB</td>\n",
              "    </tr>\n",
              "    <tr>\n",
              "      <th>2201</th>\n",
              "      <td>HCC38</td>\n",
              "      <td>AKT</td>\n",
              "      <td>ADAM17</td>\n",
              "      <td>1.0</td>\n",
              "      <td>75.00</td>\n",
              "      <td>1.000000</td>\n",
              "      <td>10.000000</td>\n",
              "      <td>64.400080</td>\n",
              "      <td>1.000000</td>\n",
              "      <td>0.000000</td>\n",
              "      <td>100.000000</td>\n",
              "      <td>-4.351590</td>\n",
              "      <td>1</td>\n",
              "      <td>ADAM17.AKT</td>\n",
              "      <td>ch1</td>\n",
              "      <td>LB</td>\n",
              "    </tr>\n",
              "    <tr>\n",
              "      <th>2202</th>\n",
              "      <td>BT-20</td>\n",
              "      <td>BCL2_BCL2L1</td>\n",
              "      <td>ADAM17</td>\n",
              "      <td>1.0</td>\n",
              "      <td>75.00</td>\n",
              "      <td>1.000000</td>\n",
              "      <td>1.161731</td>\n",
              "      <td>39.164587</td>\n",
              "      <td>75.000000</td>\n",
              "      <td>0.965792</td>\n",
              "      <td>70.915033</td>\n",
              "      <td>-1.297886</td>\n",
              "      <td>1</td>\n",
              "      <td>ADAM17.BCL2_BCL2L1</td>\n",
              "      <td>ch1</td>\n",
              "      <td>LB</td>\n",
              "    </tr>\n",
              "    <tr>\n",
              "      <th>2203</th>\n",
              "      <td>HCC1143</td>\n",
              "      <td>BCL2_BCL2L1</td>\n",
              "      <td>ADAM17</td>\n",
              "      <td>1.0</td>\n",
              "      <td>75.00</td>\n",
              "      <td>0.115309</td>\n",
              "      <td>10.000000</td>\n",
              "      <td>57.198795</td>\n",
              "      <td>0.007500</td>\n",
              "      <td>0.100000</td>\n",
              "      <td>80.128089</td>\n",
              "      <td>3.369319</td>\n",
              "      <td>1</td>\n",
              "      <td>ADAM17.BCL2_BCL2L1</td>\n",
              "      <td>ch1</td>\n",
              "      <td>LB</td>\n",
              "    </tr>\n",
              "    <tr>\n",
              "      <th>...</th>\n",
              "      <td>...</td>\n",
              "      <td>...</td>\n",
              "      <td>...</td>\n",
              "      <td>...</td>\n",
              "      <td>...</td>\n",
              "      <td>...</td>\n",
              "      <td>...</td>\n",
              "      <td>...</td>\n",
              "      <td>...</td>\n",
              "      <td>...</td>\n",
              "      <td>...</td>\n",
              "      <td>...</td>\n",
              "      <td>...</td>\n",
              "      <td>...</td>\n",
              "      <td>...</td>\n",
              "      <td>...</td>\n",
              "    </tr>\n",
              "    <tr>\n",
              "      <th>3874</th>\n",
              "      <td>Calu-6</td>\n",
              "      <td>BCL2_2</td>\n",
              "      <td>Vinorelbine</td>\n",
              "      <td>3.0</td>\n",
              "      <td>0.03</td>\n",
              "      <td>1.000000</td>\n",
              "      <td>0.000000</td>\n",
              "      <td>100.000000</td>\n",
              "      <td>0.015602</td>\n",
              "      <td>2.583210</td>\n",
              "      <td>36.854102</td>\n",
              "      <td>12.384880</td>\n",
              "      <td>1</td>\n",
              "      <td>BCL2_2.Vinorelbine</td>\n",
              "      <td>ch1</td>\n",
              "      <td>test</td>\n",
              "    </tr>\n",
              "    <tr>\n",
              "      <th>3875</th>\n",
              "      <td>NCI-H1563</td>\n",
              "      <td>BCL2_2</td>\n",
              "      <td>Vinorelbine</td>\n",
              "      <td>3.0</td>\n",
              "      <td>0.03</td>\n",
              "      <td>0.000300</td>\n",
              "      <td>0.100000</td>\n",
              "      <td>88.601043</td>\n",
              "      <td>0.030000</td>\n",
              "      <td>0.110001</td>\n",
              "      <td>29.776107</td>\n",
              "      <td>-115.750900</td>\n",
              "      <td>1</td>\n",
              "      <td>BCL2_2.Vinorelbine</td>\n",
              "      <td>ch1</td>\n",
              "      <td>test</td>\n",
              "    </tr>\n",
              "    <tr>\n",
              "      <th>3876</th>\n",
              "      <td>NCI-H2085</td>\n",
              "      <td>BCL2_2</td>\n",
              "      <td>Vinorelbine</td>\n",
              "      <td>3.0</td>\n",
              "      <td>3.00</td>\n",
              "      <td>1.000000</td>\n",
              "      <td>0.000000</td>\n",
              "      <td>100.000000</td>\n",
              "      <td>0.003088</td>\n",
              "      <td>0.241204</td>\n",
              "      <td>28.470279</td>\n",
              "      <td>-8.649973</td>\n",
              "      <td>1</td>\n",
              "      <td>BCL2_2.Vinorelbine</td>\n",
              "      <td>ch1</td>\n",
              "      <td>test</td>\n",
              "    </tr>\n",
              "    <tr>\n",
              "      <th>3877</th>\n",
              "      <td>NCI-H23</td>\n",
              "      <td>BCL2_2</td>\n",
              "      <td>Vinorelbine</td>\n",
              "      <td>3.0</td>\n",
              "      <td>0.10</td>\n",
              "      <td>1.000000</td>\n",
              "      <td>0.000000</td>\n",
              "      <td>100.000000</td>\n",
              "      <td>0.030085</td>\n",
              "      <td>10.000000</td>\n",
              "      <td>15.199403</td>\n",
              "      <td>31.952940</td>\n",
              "      <td>1</td>\n",
              "      <td>BCL2_2.Vinorelbine</td>\n",
              "      <td>ch1</td>\n",
              "      <td>test</td>\n",
              "    </tr>\n",
              "    <tr>\n",
              "      <th>3878</th>\n",
              "      <td>NCI-H520</td>\n",
              "      <td>BCL2_2</td>\n",
              "      <td>Vinorelbine</td>\n",
              "      <td>3.0</td>\n",
              "      <td>0.01</td>\n",
              "      <td>1.000000</td>\n",
              "      <td>0.000000</td>\n",
              "      <td>100.000000</td>\n",
              "      <td>0.003225</td>\n",
              "      <td>10.000000</td>\n",
              "      <td>80.099724</td>\n",
              "      <td>-5.421790</td>\n",
              "      <td>1</td>\n",
              "      <td>BCL2_2.Vinorelbine</td>\n",
              "      <td>ch1</td>\n",
              "      <td>test</td>\n",
              "    </tr>\n",
              "  </tbody>\n",
              "</table>\n",
              "<p>3360 rows × 16 columns</p>\n",
              "</div>\n",
              "      <button class=\"colab-df-convert\" onclick=\"convertToInteractive('df-7a85ae84-e9e7-465e-a7d7-20daad414b19')\"\n",
              "              title=\"Convert this dataframe to an interactive table.\"\n",
              "              style=\"display:none;\">\n",
              "        \n",
              "  <svg xmlns=\"http://www.w3.org/2000/svg\" height=\"24px\"viewBox=\"0 0 24 24\"\n",
              "       width=\"24px\">\n",
              "    <path d=\"M0 0h24v24H0V0z\" fill=\"none\"/>\n",
              "    <path d=\"M18.56 5.44l.94 2.06.94-2.06 2.06-.94-2.06-.94-.94-2.06-.94 2.06-2.06.94zm-11 1L8.5 8.5l.94-2.06 2.06-.94-2.06-.94L8.5 2.5l-.94 2.06-2.06.94zm10 10l.94 2.06.94-2.06 2.06-.94-2.06-.94-.94-2.06-.94 2.06-2.06.94z\"/><path d=\"M17.41 7.96l-1.37-1.37c-.4-.4-.92-.59-1.43-.59-.52 0-1.04.2-1.43.59L10.3 9.45l-7.72 7.72c-.78.78-.78 2.05 0 2.83L4 21.41c.39.39.9.59 1.41.59.51 0 1.02-.2 1.41-.59l7.78-7.78 2.81-2.81c.8-.78.8-2.07 0-2.86zM5.41 20L4 18.59l7.72-7.72 1.47 1.35L5.41 20z\"/>\n",
              "  </svg>\n",
              "      </button>\n",
              "      \n",
              "  <style>\n",
              "    .colab-df-container {\n",
              "      display:flex;\n",
              "      flex-wrap:wrap;\n",
              "      gap: 12px;\n",
              "    }\n",
              "\n",
              "    .colab-df-convert {\n",
              "      background-color: #E8F0FE;\n",
              "      border: none;\n",
              "      border-radius: 50%;\n",
              "      cursor: pointer;\n",
              "      display: none;\n",
              "      fill: #1967D2;\n",
              "      height: 32px;\n",
              "      padding: 0 0 0 0;\n",
              "      width: 32px;\n",
              "    }\n",
              "\n",
              "    .colab-df-convert:hover {\n",
              "      background-color: #E2EBFA;\n",
              "      box-shadow: 0px 1px 2px rgba(60, 64, 67, 0.3), 0px 1px 3px 1px rgba(60, 64, 67, 0.15);\n",
              "      fill: #174EA6;\n",
              "    }\n",
              "\n",
              "    [theme=dark] .colab-df-convert {\n",
              "      background-color: #3B4455;\n",
              "      fill: #D2E3FC;\n",
              "    }\n",
              "\n",
              "    [theme=dark] .colab-df-convert:hover {\n",
              "      background-color: #434B5C;\n",
              "      box-shadow: 0px 1px 3px 1px rgba(0, 0, 0, 0.15);\n",
              "      filter: drop-shadow(0px 1px 2px rgba(0, 0, 0, 0.3));\n",
              "      fill: #FFFFFF;\n",
              "    }\n",
              "  </style>\n",
              "\n",
              "      <script>\n",
              "        const buttonEl =\n",
              "          document.querySelector('#df-7a85ae84-e9e7-465e-a7d7-20daad414b19 button.colab-df-convert');\n",
              "        buttonEl.style.display =\n",
              "          google.colab.kernel.accessAllowed ? 'block' : 'none';\n",
              "\n",
              "        async function convertToInteractive(key) {\n",
              "          const element = document.querySelector('#df-7a85ae84-e9e7-465e-a7d7-20daad414b19');\n",
              "          const dataTable =\n",
              "            await google.colab.kernel.invokeFunction('convertToInteractive',\n",
              "                                                     [key], {});\n",
              "          if (!dataTable) return;\n",
              "\n",
              "          const docLinkHtml = 'Like what you see? Visit the ' +\n",
              "            '<a target=\"_blank\" href=https://colab.research.google.com/notebooks/data_table.ipynb>data table notebook</a>'\n",
              "            + ' to learn more about interactive tables.';\n",
              "          element.innerHTML = '';\n",
              "          dataTable['output_type'] = 'display_data';\n",
              "          await google.colab.output.renderOutput(dataTable, element);\n",
              "          const docLink = document.createElement('div');\n",
              "          docLink.innerHTML = docLinkHtml;\n",
              "          element.appendChild(docLink);\n",
              "        }\n",
              "      </script>\n",
              "    </div>\n",
              "  </div>\n",
              "  "
            ]
          },
          "metadata": {},
          "execution_count": 11
        }
      ]
    },
    {
      "cell_type": "markdown",
      "source": [
        "Now we have our commutative test set which has account for the fact that the drug pair AB is the same as BA. Now we only have to check for the p values of the features of drug A for example. mono_df is conmutative"
      ],
      "metadata": {
        "id": "A5rGDamAShOx"
      }
    },
    {
      "cell_type": "code",
      "source": [
        "mono_df = commutative_df[['Max. conc. A','IC50 A', 'H A', 'Einf A','Combination ID']]\n",
        "mono_df\n"
      ],
      "metadata": {
        "colab": {
          "base_uri": "https://localhost:8080/",
          "height": 0
        },
        "id": "9tEdBhE9Sgwz",
        "outputId": "220d1f2d-0b70-4ff5-98f3-57b734db17b9"
      },
      "execution_count": 12,
      "outputs": [
        {
          "output_type": "execute_result",
          "data": {
            "text/plain": [
              "      Max. conc. A    IC50 A        H A      Einf A      Combination ID\n",
              "2199           1.0  0.184408   1.737511   59.575233          ADAM17.AKT\n",
              "2200           1.0  0.153391   1.754123    1.100779          ADAM17.AKT\n",
              "2201           1.0  1.000000  10.000000   64.400080          ADAM17.AKT\n",
              "2202           1.0  1.000000   1.161731   39.164587  ADAM17.BCL2_BCL2L1\n",
              "2203           1.0  0.115309  10.000000   57.198795  ADAM17.BCL2_BCL2L1\n",
              "...            ...       ...        ...         ...                 ...\n",
              "3874           3.0  1.000000   0.000000  100.000000  BCL2_2.Vinorelbine\n",
              "3875           3.0  0.000300   0.100000   88.601043  BCL2_2.Vinorelbine\n",
              "3876           3.0  1.000000   0.000000  100.000000  BCL2_2.Vinorelbine\n",
              "3877           3.0  1.000000   0.000000  100.000000  BCL2_2.Vinorelbine\n",
              "3878           3.0  1.000000   0.000000  100.000000  BCL2_2.Vinorelbine\n",
              "\n",
              "[3360 rows x 5 columns]"
            ],
            "text/html": [
              "\n",
              "  <div id=\"df-4a3ed225-7233-4fda-a682-e50056489ff9\">\n",
              "    <div class=\"colab-df-container\">\n",
              "      <div>\n",
              "<style scoped>\n",
              "    .dataframe tbody tr th:only-of-type {\n",
              "        vertical-align: middle;\n",
              "    }\n",
              "\n",
              "    .dataframe tbody tr th {\n",
              "        vertical-align: top;\n",
              "    }\n",
              "\n",
              "    .dataframe thead th {\n",
              "        text-align: right;\n",
              "    }\n",
              "</style>\n",
              "<table border=\"1\" class=\"dataframe\">\n",
              "  <thead>\n",
              "    <tr style=\"text-align: right;\">\n",
              "      <th></th>\n",
              "      <th>Max. conc. A</th>\n",
              "      <th>IC50 A</th>\n",
              "      <th>H A</th>\n",
              "      <th>Einf A</th>\n",
              "      <th>Combination ID</th>\n",
              "    </tr>\n",
              "  </thead>\n",
              "  <tbody>\n",
              "    <tr>\n",
              "      <th>2199</th>\n",
              "      <td>1.0</td>\n",
              "      <td>0.184408</td>\n",
              "      <td>1.737511</td>\n",
              "      <td>59.575233</td>\n",
              "      <td>ADAM17.AKT</td>\n",
              "    </tr>\n",
              "    <tr>\n",
              "      <th>2200</th>\n",
              "      <td>1.0</td>\n",
              "      <td>0.153391</td>\n",
              "      <td>1.754123</td>\n",
              "      <td>1.100779</td>\n",
              "      <td>ADAM17.AKT</td>\n",
              "    </tr>\n",
              "    <tr>\n",
              "      <th>2201</th>\n",
              "      <td>1.0</td>\n",
              "      <td>1.000000</td>\n",
              "      <td>10.000000</td>\n",
              "      <td>64.400080</td>\n",
              "      <td>ADAM17.AKT</td>\n",
              "    </tr>\n",
              "    <tr>\n",
              "      <th>2202</th>\n",
              "      <td>1.0</td>\n",
              "      <td>1.000000</td>\n",
              "      <td>1.161731</td>\n",
              "      <td>39.164587</td>\n",
              "      <td>ADAM17.BCL2_BCL2L1</td>\n",
              "    </tr>\n",
              "    <tr>\n",
              "      <th>2203</th>\n",
              "      <td>1.0</td>\n",
              "      <td>0.115309</td>\n",
              "      <td>10.000000</td>\n",
              "      <td>57.198795</td>\n",
              "      <td>ADAM17.BCL2_BCL2L1</td>\n",
              "    </tr>\n",
              "    <tr>\n",
              "      <th>...</th>\n",
              "      <td>...</td>\n",
              "      <td>...</td>\n",
              "      <td>...</td>\n",
              "      <td>...</td>\n",
              "      <td>...</td>\n",
              "    </tr>\n",
              "    <tr>\n",
              "      <th>3874</th>\n",
              "      <td>3.0</td>\n",
              "      <td>1.000000</td>\n",
              "      <td>0.000000</td>\n",
              "      <td>100.000000</td>\n",
              "      <td>BCL2_2.Vinorelbine</td>\n",
              "    </tr>\n",
              "    <tr>\n",
              "      <th>3875</th>\n",
              "      <td>3.0</td>\n",
              "      <td>0.000300</td>\n",
              "      <td>0.100000</td>\n",
              "      <td>88.601043</td>\n",
              "      <td>BCL2_2.Vinorelbine</td>\n",
              "    </tr>\n",
              "    <tr>\n",
              "      <th>3876</th>\n",
              "      <td>3.0</td>\n",
              "      <td>1.000000</td>\n",
              "      <td>0.000000</td>\n",
              "      <td>100.000000</td>\n",
              "      <td>BCL2_2.Vinorelbine</td>\n",
              "    </tr>\n",
              "    <tr>\n",
              "      <th>3877</th>\n",
              "      <td>3.0</td>\n",
              "      <td>1.000000</td>\n",
              "      <td>0.000000</td>\n",
              "      <td>100.000000</td>\n",
              "      <td>BCL2_2.Vinorelbine</td>\n",
              "    </tr>\n",
              "    <tr>\n",
              "      <th>3878</th>\n",
              "      <td>3.0</td>\n",
              "      <td>1.000000</td>\n",
              "      <td>0.000000</td>\n",
              "      <td>100.000000</td>\n",
              "      <td>BCL2_2.Vinorelbine</td>\n",
              "    </tr>\n",
              "  </tbody>\n",
              "</table>\n",
              "<p>3360 rows × 5 columns</p>\n",
              "</div>\n",
              "      <button class=\"colab-df-convert\" onclick=\"convertToInteractive('df-4a3ed225-7233-4fda-a682-e50056489ff9')\"\n",
              "              title=\"Convert this dataframe to an interactive table.\"\n",
              "              style=\"display:none;\">\n",
              "        \n",
              "  <svg xmlns=\"http://www.w3.org/2000/svg\" height=\"24px\"viewBox=\"0 0 24 24\"\n",
              "       width=\"24px\">\n",
              "    <path d=\"M0 0h24v24H0V0z\" fill=\"none\"/>\n",
              "    <path d=\"M18.56 5.44l.94 2.06.94-2.06 2.06-.94-2.06-.94-.94-2.06-.94 2.06-2.06.94zm-11 1L8.5 8.5l.94-2.06 2.06-.94-2.06-.94L8.5 2.5l-.94 2.06-2.06.94zm10 10l.94 2.06.94-2.06 2.06-.94-2.06-.94-.94-2.06-.94 2.06-2.06.94z\"/><path d=\"M17.41 7.96l-1.37-1.37c-.4-.4-.92-.59-1.43-.59-.52 0-1.04.2-1.43.59L10.3 9.45l-7.72 7.72c-.78.78-.78 2.05 0 2.83L4 21.41c.39.39.9.59 1.41.59.51 0 1.02-.2 1.41-.59l7.78-7.78 2.81-2.81c.8-.78.8-2.07 0-2.86zM5.41 20L4 18.59l7.72-7.72 1.47 1.35L5.41 20z\"/>\n",
              "  </svg>\n",
              "      </button>\n",
              "      \n",
              "  <style>\n",
              "    .colab-df-container {\n",
              "      display:flex;\n",
              "      flex-wrap:wrap;\n",
              "      gap: 12px;\n",
              "    }\n",
              "\n",
              "    .colab-df-convert {\n",
              "      background-color: #E8F0FE;\n",
              "      border: none;\n",
              "      border-radius: 50%;\n",
              "      cursor: pointer;\n",
              "      display: none;\n",
              "      fill: #1967D2;\n",
              "      height: 32px;\n",
              "      padding: 0 0 0 0;\n",
              "      width: 32px;\n",
              "    }\n",
              "\n",
              "    .colab-df-convert:hover {\n",
              "      background-color: #E2EBFA;\n",
              "      box-shadow: 0px 1px 2px rgba(60, 64, 67, 0.3), 0px 1px 3px 1px rgba(60, 64, 67, 0.15);\n",
              "      fill: #174EA6;\n",
              "    }\n",
              "\n",
              "    [theme=dark] .colab-df-convert {\n",
              "      background-color: #3B4455;\n",
              "      fill: #D2E3FC;\n",
              "    }\n",
              "\n",
              "    [theme=dark] .colab-df-convert:hover {\n",
              "      background-color: #434B5C;\n",
              "      box-shadow: 0px 1px 3px 1px rgba(0, 0, 0, 0.15);\n",
              "      filter: drop-shadow(0px 1px 2px rgba(0, 0, 0, 0.3));\n",
              "      fill: #FFFFFF;\n",
              "    }\n",
              "  </style>\n",
              "\n",
              "      <script>\n",
              "        const buttonEl =\n",
              "          document.querySelector('#df-4a3ed225-7233-4fda-a682-e50056489ff9 button.colab-df-convert');\n",
              "        buttonEl.style.display =\n",
              "          google.colab.kernel.accessAllowed ? 'block' : 'none';\n",
              "\n",
              "        async function convertToInteractive(key) {\n",
              "          const element = document.querySelector('#df-4a3ed225-7233-4fda-a682-e50056489ff9');\n",
              "          const dataTable =\n",
              "            await google.colab.kernel.invokeFunction('convertToInteractive',\n",
              "                                                     [key], {});\n",
              "          if (!dataTable) return;\n",
              "\n",
              "          const docLinkHtml = 'Like what you see? Visit the ' +\n",
              "            '<a target=\"_blank\" href=https://colab.research.google.com/notebooks/data_table.ipynb>data table notebook</a>'\n",
              "            + ' to learn more about interactive tables.';\n",
              "          element.innerHTML = '';\n",
              "          dataTable['output_type'] = 'display_data';\n",
              "          await google.colab.output.renderOutput(dataTable, element);\n",
              "          const docLink = document.createElement('div');\n",
              "          docLink.innerHTML = docLinkHtml;\n",
              "          element.appendChild(docLink);\n",
              "        }\n",
              "      </script>\n",
              "    </div>\n",
              "  </div>\n",
              "  "
            ]
          },
          "metadata": {},
          "execution_count": 12
        }
      ]
    },
    {
      "cell_type": "code",
      "source": [
        "good_drugs_mono = mono_df[mono_df[\"Combination ID\"].isin(good_drugs[\"Combination ID\"])]\n",
        "good_drugs_mono"
      ],
      "metadata": {
        "colab": {
          "base_uri": "https://localhost:8080/",
          "height": 0
        },
        "id": "jwhhGdrtV8So",
        "outputId": "bd2695e3-9140-4b49-b2ae-219589c98750"
      },
      "execution_count": 13,
      "outputs": [
        {
          "output_type": "execute_result",
          "data": {
            "text/plain": [
              "      Max. conc. A    IC50 A        H A      Einf A      Combination ID\n",
              "2210           1.0  0.264716  10.000000   91.899118      ADAM17.MAP2K_1\n",
              "2211           1.0  1.000000   0.000000  100.000000      ADAM17.MAP2K_1\n",
              "2212           1.0  0.389677   0.393738   27.511524      ADAM17.MAP2K_1\n",
              "2251           1.0  0.323371   1.107121   34.431833         AKT_1.PIK3C\n",
              "2252           1.0  0.839257   0.739553    0.000000         AKT_1.PIK3C\n",
              "...            ...       ...        ...         ...                 ...\n",
              "3874           3.0  1.000000   0.000000  100.000000  BCL2_2.Vinorelbine\n",
              "3875           3.0  0.000300   0.100000   88.601043  BCL2_2.Vinorelbine\n",
              "3876           3.0  1.000000   0.000000  100.000000  BCL2_2.Vinorelbine\n",
              "3877           3.0  1.000000   0.000000  100.000000  BCL2_2.Vinorelbine\n",
              "3878           3.0  1.000000   0.000000  100.000000  BCL2_2.Vinorelbine\n",
              "\n",
              "[1024 rows x 5 columns]"
            ],
            "text/html": [
              "\n",
              "  <div id=\"df-4c13bcb6-d216-4850-9cbe-ac050ec85334\">\n",
              "    <div class=\"colab-df-container\">\n",
              "      <div>\n",
              "<style scoped>\n",
              "    .dataframe tbody tr th:only-of-type {\n",
              "        vertical-align: middle;\n",
              "    }\n",
              "\n",
              "    .dataframe tbody tr th {\n",
              "        vertical-align: top;\n",
              "    }\n",
              "\n",
              "    .dataframe thead th {\n",
              "        text-align: right;\n",
              "    }\n",
              "</style>\n",
              "<table border=\"1\" class=\"dataframe\">\n",
              "  <thead>\n",
              "    <tr style=\"text-align: right;\">\n",
              "      <th></th>\n",
              "      <th>Max. conc. A</th>\n",
              "      <th>IC50 A</th>\n",
              "      <th>H A</th>\n",
              "      <th>Einf A</th>\n",
              "      <th>Combination ID</th>\n",
              "    </tr>\n",
              "  </thead>\n",
              "  <tbody>\n",
              "    <tr>\n",
              "      <th>2210</th>\n",
              "      <td>1.0</td>\n",
              "      <td>0.264716</td>\n",
              "      <td>10.000000</td>\n",
              "      <td>91.899118</td>\n",
              "      <td>ADAM17.MAP2K_1</td>\n",
              "    </tr>\n",
              "    <tr>\n",
              "      <th>2211</th>\n",
              "      <td>1.0</td>\n",
              "      <td>1.000000</td>\n",
              "      <td>0.000000</td>\n",
              "      <td>100.000000</td>\n",
              "      <td>ADAM17.MAP2K_1</td>\n",
              "    </tr>\n",
              "    <tr>\n",
              "      <th>2212</th>\n",
              "      <td>1.0</td>\n",
              "      <td>0.389677</td>\n",
              "      <td>0.393738</td>\n",
              "      <td>27.511524</td>\n",
              "      <td>ADAM17.MAP2K_1</td>\n",
              "    </tr>\n",
              "    <tr>\n",
              "      <th>2251</th>\n",
              "      <td>1.0</td>\n",
              "      <td>0.323371</td>\n",
              "      <td>1.107121</td>\n",
              "      <td>34.431833</td>\n",
              "      <td>AKT_1.PIK3C</td>\n",
              "    </tr>\n",
              "    <tr>\n",
              "      <th>2252</th>\n",
              "      <td>1.0</td>\n",
              "      <td>0.839257</td>\n",
              "      <td>0.739553</td>\n",
              "      <td>0.000000</td>\n",
              "      <td>AKT_1.PIK3C</td>\n",
              "    </tr>\n",
              "    <tr>\n",
              "      <th>...</th>\n",
              "      <td>...</td>\n",
              "      <td>...</td>\n",
              "      <td>...</td>\n",
              "      <td>...</td>\n",
              "      <td>...</td>\n",
              "    </tr>\n",
              "    <tr>\n",
              "      <th>3874</th>\n",
              "      <td>3.0</td>\n",
              "      <td>1.000000</td>\n",
              "      <td>0.000000</td>\n",
              "      <td>100.000000</td>\n",
              "      <td>BCL2_2.Vinorelbine</td>\n",
              "    </tr>\n",
              "    <tr>\n",
              "      <th>3875</th>\n",
              "      <td>3.0</td>\n",
              "      <td>0.000300</td>\n",
              "      <td>0.100000</td>\n",
              "      <td>88.601043</td>\n",
              "      <td>BCL2_2.Vinorelbine</td>\n",
              "    </tr>\n",
              "    <tr>\n",
              "      <th>3876</th>\n",
              "      <td>3.0</td>\n",
              "      <td>1.000000</td>\n",
              "      <td>0.000000</td>\n",
              "      <td>100.000000</td>\n",
              "      <td>BCL2_2.Vinorelbine</td>\n",
              "    </tr>\n",
              "    <tr>\n",
              "      <th>3877</th>\n",
              "      <td>3.0</td>\n",
              "      <td>1.000000</td>\n",
              "      <td>0.000000</td>\n",
              "      <td>100.000000</td>\n",
              "      <td>BCL2_2.Vinorelbine</td>\n",
              "    </tr>\n",
              "    <tr>\n",
              "      <th>3878</th>\n",
              "      <td>3.0</td>\n",
              "      <td>1.000000</td>\n",
              "      <td>0.000000</td>\n",
              "      <td>100.000000</td>\n",
              "      <td>BCL2_2.Vinorelbine</td>\n",
              "    </tr>\n",
              "  </tbody>\n",
              "</table>\n",
              "<p>1024 rows × 5 columns</p>\n",
              "</div>\n",
              "      <button class=\"colab-df-convert\" onclick=\"convertToInteractive('df-4c13bcb6-d216-4850-9cbe-ac050ec85334')\"\n",
              "              title=\"Convert this dataframe to an interactive table.\"\n",
              "              style=\"display:none;\">\n",
              "        \n",
              "  <svg xmlns=\"http://www.w3.org/2000/svg\" height=\"24px\"viewBox=\"0 0 24 24\"\n",
              "       width=\"24px\">\n",
              "    <path d=\"M0 0h24v24H0V0z\" fill=\"none\"/>\n",
              "    <path d=\"M18.56 5.44l.94 2.06.94-2.06 2.06-.94-2.06-.94-.94-2.06-.94 2.06-2.06.94zm-11 1L8.5 8.5l.94-2.06 2.06-.94-2.06-.94L8.5 2.5l-.94 2.06-2.06.94zm10 10l.94 2.06.94-2.06 2.06-.94-2.06-.94-.94-2.06-.94 2.06-2.06.94z\"/><path d=\"M17.41 7.96l-1.37-1.37c-.4-.4-.92-.59-1.43-.59-.52 0-1.04.2-1.43.59L10.3 9.45l-7.72 7.72c-.78.78-.78 2.05 0 2.83L4 21.41c.39.39.9.59 1.41.59.51 0 1.02-.2 1.41-.59l7.78-7.78 2.81-2.81c.8-.78.8-2.07 0-2.86zM5.41 20L4 18.59l7.72-7.72 1.47 1.35L5.41 20z\"/>\n",
              "  </svg>\n",
              "      </button>\n",
              "      \n",
              "  <style>\n",
              "    .colab-df-container {\n",
              "      display:flex;\n",
              "      flex-wrap:wrap;\n",
              "      gap: 12px;\n",
              "    }\n",
              "\n",
              "    .colab-df-convert {\n",
              "      background-color: #E8F0FE;\n",
              "      border: none;\n",
              "      border-radius: 50%;\n",
              "      cursor: pointer;\n",
              "      display: none;\n",
              "      fill: #1967D2;\n",
              "      height: 32px;\n",
              "      padding: 0 0 0 0;\n",
              "      width: 32px;\n",
              "    }\n",
              "\n",
              "    .colab-df-convert:hover {\n",
              "      background-color: #E2EBFA;\n",
              "      box-shadow: 0px 1px 2px rgba(60, 64, 67, 0.3), 0px 1px 3px 1px rgba(60, 64, 67, 0.15);\n",
              "      fill: #174EA6;\n",
              "    }\n",
              "\n",
              "    [theme=dark] .colab-df-convert {\n",
              "      background-color: #3B4455;\n",
              "      fill: #D2E3FC;\n",
              "    }\n",
              "\n",
              "    [theme=dark] .colab-df-convert:hover {\n",
              "      background-color: #434B5C;\n",
              "      box-shadow: 0px 1px 3px 1px rgba(0, 0, 0, 0.15);\n",
              "      filter: drop-shadow(0px 1px 2px rgba(0, 0, 0, 0.3));\n",
              "      fill: #FFFFFF;\n",
              "    }\n",
              "  </style>\n",
              "\n",
              "      <script>\n",
              "        const buttonEl =\n",
              "          document.querySelector('#df-4c13bcb6-d216-4850-9cbe-ac050ec85334 button.colab-df-convert');\n",
              "        buttonEl.style.display =\n",
              "          google.colab.kernel.accessAllowed ? 'block' : 'none';\n",
              "\n",
              "        async function convertToInteractive(key) {\n",
              "          const element = document.querySelector('#df-4c13bcb6-d216-4850-9cbe-ac050ec85334');\n",
              "          const dataTable =\n",
              "            await google.colab.kernel.invokeFunction('convertToInteractive',\n",
              "                                                     [key], {});\n",
              "          if (!dataTable) return;\n",
              "\n",
              "          const docLinkHtml = 'Like what you see? Visit the ' +\n",
              "            '<a target=\"_blank\" href=https://colab.research.google.com/notebooks/data_table.ipynb>data table notebook</a>'\n",
              "            + ' to learn more about interactive tables.';\n",
              "          element.innerHTML = '';\n",
              "          dataTable['output_type'] = 'display_data';\n",
              "          await google.colab.output.renderOutput(dataTable, element);\n",
              "          const docLink = document.createElement('div');\n",
              "          docLink.innerHTML = docLinkHtml;\n",
              "          element.appendChild(docLink);\n",
              "        }\n",
              "      </script>\n",
              "    </div>\n",
              "  </div>\n",
              "  "
            ]
          },
          "metadata": {},
          "execution_count": 13
        }
      ]
    },
    {
      "cell_type": "code",
      "source": [
        "bad_drugs_mono = mono_df[mono_df[\"Combination ID\"].isin(bad_drugs[\"Combination ID\"])]\n",
        "bad_drugs_mono"
      ],
      "metadata": {
        "colab": {
          "base_uri": "https://localhost:8080/",
          "height": 0
        },
        "id": "Ks64qSkZXRPM",
        "outputId": "7650f956-424c-41a5-bbaa-dce10510c65e"
      },
      "execution_count": 14,
      "outputs": [
        {
          "output_type": "execute_result",
          "data": {
            "text/plain": [
              "      Max. conc. A    IC50 A        H A     Einf A         Combination ID\n",
              "2199           1.0  0.184408   1.737511  59.575233             ADAM17.AKT\n",
              "2200           1.0  0.153391   1.754123   1.100779             ADAM17.AKT\n",
              "2201           1.0  1.000000  10.000000  64.400080             ADAM17.AKT\n",
              "2220           1.0  0.566041   0.449959   0.000000   ADAM17.PIK3CB_PIK3CD\n",
              "2221           1.0  0.152699   3.681096  67.937059   ADAM17.PIK3CB_PIK3CD\n",
              "...            ...       ...        ...        ...                    ...\n",
              "3815           1.0  0.339304  10.000000  82.299638  PIK3CB_PIK3CD.SLC16A4\n",
              "3816           1.0  0.484442   1.135582   0.000000  PIK3CB_PIK3CD.SLC16A4\n",
              "3817          10.0  0.544158   1.301300  25.918793             IGFR_3.TKI\n",
              "3818          10.0  0.461310   0.432489   0.000000             IGFR_3.TKI\n",
              "3819           3.0  0.048993  10.000000  91.850797             IGFR_3.TKI\n",
              "\n",
              "[540 rows x 5 columns]"
            ],
            "text/html": [
              "\n",
              "  <div id=\"df-57c72e2d-0b8e-4fd9-b77a-2ed721314b46\">\n",
              "    <div class=\"colab-df-container\">\n",
              "      <div>\n",
              "<style scoped>\n",
              "    .dataframe tbody tr th:only-of-type {\n",
              "        vertical-align: middle;\n",
              "    }\n",
              "\n",
              "    .dataframe tbody tr th {\n",
              "        vertical-align: top;\n",
              "    }\n",
              "\n",
              "    .dataframe thead th {\n",
              "        text-align: right;\n",
              "    }\n",
              "</style>\n",
              "<table border=\"1\" class=\"dataframe\">\n",
              "  <thead>\n",
              "    <tr style=\"text-align: right;\">\n",
              "      <th></th>\n",
              "      <th>Max. conc. A</th>\n",
              "      <th>IC50 A</th>\n",
              "      <th>H A</th>\n",
              "      <th>Einf A</th>\n",
              "      <th>Combination ID</th>\n",
              "    </tr>\n",
              "  </thead>\n",
              "  <tbody>\n",
              "    <tr>\n",
              "      <th>2199</th>\n",
              "      <td>1.0</td>\n",
              "      <td>0.184408</td>\n",
              "      <td>1.737511</td>\n",
              "      <td>59.575233</td>\n",
              "      <td>ADAM17.AKT</td>\n",
              "    </tr>\n",
              "    <tr>\n",
              "      <th>2200</th>\n",
              "      <td>1.0</td>\n",
              "      <td>0.153391</td>\n",
              "      <td>1.754123</td>\n",
              "      <td>1.100779</td>\n",
              "      <td>ADAM17.AKT</td>\n",
              "    </tr>\n",
              "    <tr>\n",
              "      <th>2201</th>\n",
              "      <td>1.0</td>\n",
              "      <td>1.000000</td>\n",
              "      <td>10.000000</td>\n",
              "      <td>64.400080</td>\n",
              "      <td>ADAM17.AKT</td>\n",
              "    </tr>\n",
              "    <tr>\n",
              "      <th>2220</th>\n",
              "      <td>1.0</td>\n",
              "      <td>0.566041</td>\n",
              "      <td>0.449959</td>\n",
              "      <td>0.000000</td>\n",
              "      <td>ADAM17.PIK3CB_PIK3CD</td>\n",
              "    </tr>\n",
              "    <tr>\n",
              "      <th>2221</th>\n",
              "      <td>1.0</td>\n",
              "      <td>0.152699</td>\n",
              "      <td>3.681096</td>\n",
              "      <td>67.937059</td>\n",
              "      <td>ADAM17.PIK3CB_PIK3CD</td>\n",
              "    </tr>\n",
              "    <tr>\n",
              "      <th>...</th>\n",
              "      <td>...</td>\n",
              "      <td>...</td>\n",
              "      <td>...</td>\n",
              "      <td>...</td>\n",
              "      <td>...</td>\n",
              "    </tr>\n",
              "    <tr>\n",
              "      <th>3815</th>\n",
              "      <td>1.0</td>\n",
              "      <td>0.339304</td>\n",
              "      <td>10.000000</td>\n",
              "      <td>82.299638</td>\n",
              "      <td>PIK3CB_PIK3CD.SLC16A4</td>\n",
              "    </tr>\n",
              "    <tr>\n",
              "      <th>3816</th>\n",
              "      <td>1.0</td>\n",
              "      <td>0.484442</td>\n",
              "      <td>1.135582</td>\n",
              "      <td>0.000000</td>\n",
              "      <td>PIK3CB_PIK3CD.SLC16A4</td>\n",
              "    </tr>\n",
              "    <tr>\n",
              "      <th>3817</th>\n",
              "      <td>10.0</td>\n",
              "      <td>0.544158</td>\n",
              "      <td>1.301300</td>\n",
              "      <td>25.918793</td>\n",
              "      <td>IGFR_3.TKI</td>\n",
              "    </tr>\n",
              "    <tr>\n",
              "      <th>3818</th>\n",
              "      <td>10.0</td>\n",
              "      <td>0.461310</td>\n",
              "      <td>0.432489</td>\n",
              "      <td>0.000000</td>\n",
              "      <td>IGFR_3.TKI</td>\n",
              "    </tr>\n",
              "    <tr>\n",
              "      <th>3819</th>\n",
              "      <td>3.0</td>\n",
              "      <td>0.048993</td>\n",
              "      <td>10.000000</td>\n",
              "      <td>91.850797</td>\n",
              "      <td>IGFR_3.TKI</td>\n",
              "    </tr>\n",
              "  </tbody>\n",
              "</table>\n",
              "<p>540 rows × 5 columns</p>\n",
              "</div>\n",
              "      <button class=\"colab-df-convert\" onclick=\"convertToInteractive('df-57c72e2d-0b8e-4fd9-b77a-2ed721314b46')\"\n",
              "              title=\"Convert this dataframe to an interactive table.\"\n",
              "              style=\"display:none;\">\n",
              "        \n",
              "  <svg xmlns=\"http://www.w3.org/2000/svg\" height=\"24px\"viewBox=\"0 0 24 24\"\n",
              "       width=\"24px\">\n",
              "    <path d=\"M0 0h24v24H0V0z\" fill=\"none\"/>\n",
              "    <path d=\"M18.56 5.44l.94 2.06.94-2.06 2.06-.94-2.06-.94-.94-2.06-.94 2.06-2.06.94zm-11 1L8.5 8.5l.94-2.06 2.06-.94-2.06-.94L8.5 2.5l-.94 2.06-2.06.94zm10 10l.94 2.06.94-2.06 2.06-.94-2.06-.94-.94-2.06-.94 2.06-2.06.94z\"/><path d=\"M17.41 7.96l-1.37-1.37c-.4-.4-.92-.59-1.43-.59-.52 0-1.04.2-1.43.59L10.3 9.45l-7.72 7.72c-.78.78-.78 2.05 0 2.83L4 21.41c.39.39.9.59 1.41.59.51 0 1.02-.2 1.41-.59l7.78-7.78 2.81-2.81c.8-.78.8-2.07 0-2.86zM5.41 20L4 18.59l7.72-7.72 1.47 1.35L5.41 20z\"/>\n",
              "  </svg>\n",
              "      </button>\n",
              "      \n",
              "  <style>\n",
              "    .colab-df-container {\n",
              "      display:flex;\n",
              "      flex-wrap:wrap;\n",
              "      gap: 12px;\n",
              "    }\n",
              "\n",
              "    .colab-df-convert {\n",
              "      background-color: #E8F0FE;\n",
              "      border: none;\n",
              "      border-radius: 50%;\n",
              "      cursor: pointer;\n",
              "      display: none;\n",
              "      fill: #1967D2;\n",
              "      height: 32px;\n",
              "      padding: 0 0 0 0;\n",
              "      width: 32px;\n",
              "    }\n",
              "\n",
              "    .colab-df-convert:hover {\n",
              "      background-color: #E2EBFA;\n",
              "      box-shadow: 0px 1px 2px rgba(60, 64, 67, 0.3), 0px 1px 3px 1px rgba(60, 64, 67, 0.15);\n",
              "      fill: #174EA6;\n",
              "    }\n",
              "\n",
              "    [theme=dark] .colab-df-convert {\n",
              "      background-color: #3B4455;\n",
              "      fill: #D2E3FC;\n",
              "    }\n",
              "\n",
              "    [theme=dark] .colab-df-convert:hover {\n",
              "      background-color: #434B5C;\n",
              "      box-shadow: 0px 1px 3px 1px rgba(0, 0, 0, 0.15);\n",
              "      filter: drop-shadow(0px 1px 2px rgba(0, 0, 0, 0.3));\n",
              "      fill: #FFFFFF;\n",
              "    }\n",
              "  </style>\n",
              "\n",
              "      <script>\n",
              "        const buttonEl =\n",
              "          document.querySelector('#df-57c72e2d-0b8e-4fd9-b77a-2ed721314b46 button.colab-df-convert');\n",
              "        buttonEl.style.display =\n",
              "          google.colab.kernel.accessAllowed ? 'block' : 'none';\n",
              "\n",
              "        async function convertToInteractive(key) {\n",
              "          const element = document.querySelector('#df-57c72e2d-0b8e-4fd9-b77a-2ed721314b46');\n",
              "          const dataTable =\n",
              "            await google.colab.kernel.invokeFunction('convertToInteractive',\n",
              "                                                     [key], {});\n",
              "          if (!dataTable) return;\n",
              "\n",
              "          const docLinkHtml = 'Like what you see? Visit the ' +\n",
              "            '<a target=\"_blank\" href=https://colab.research.google.com/notebooks/data_table.ipynb>data table notebook</a>'\n",
              "            + ' to learn more about interactive tables.';\n",
              "          element.innerHTML = '';\n",
              "          dataTable['output_type'] = 'display_data';\n",
              "          await google.colab.output.renderOutput(dataTable, element);\n",
              "          const docLink = document.createElement('div');\n",
              "          docLink.innerHTML = docLinkHtml;\n",
              "          element.appendChild(docLink);\n",
              "        }\n",
              "      </script>\n",
              "    </div>\n",
              "  </div>\n",
              "  "
            ]
          },
          "metadata": {},
          "execution_count": 14
        }
      ]
    },
    {
      "cell_type": "markdown",
      "source": [
        "# Analysis of good and bad drugs"
      ],
      "metadata": {
        "id": "75vMYYOMXjoO"
      }
    },
    {
      "cell_type": "code",
      "source": [
        "fig1, ax1 = plt.subplots()\n",
        "ax1.set_title('Basic Plot')\n",
        "data = [good_drugs_mono[\"Max. conc. A\"],bad_drugs_mono[\"Max. conc. A\"]]\n",
        "labels = [\"Good\",\"Bad\"]\n",
        "ax1.boxplot(data, labels =labels)"
      ],
      "metadata": {
        "colab": {
          "base_uri": "https://localhost:8080/",
          "height": 596
        },
        "id": "EbEsVl8CXtRI",
        "outputId": "b6adb2ad-f9e7-4b28-8e7c-71fd25ec5182"
      },
      "execution_count": null,
      "outputs": [
        {
          "output_type": "stream",
          "name": "stderr",
          "text": [
            "/usr/local/lib/python3.7/dist-packages/matplotlib/cbook/__init__.py:1376: VisibleDeprecationWarning: Creating an ndarray from ragged nested sequences (which is a list-or-tuple of lists-or-tuples-or ndarrays with different lengths or shapes) is deprecated. If you meant to do this, you must specify 'dtype=object' when creating the ndarray.\n",
            "  X = np.atleast_1d(X.T if isinstance(X, np.ndarray) else np.asarray(X))\n"
          ]
        },
        {
          "output_type": "execute_result",
          "data": {
            "text/plain": [
              "{'boxes': [<matplotlib.lines.Line2D at 0x7ff180fe6d10>,\n",
              "  <matplotlib.lines.Line2D at 0x7ff180f82510>],\n",
              " 'caps': [<matplotlib.lines.Line2D at 0x7ff180ff0dd0>,\n",
              "  <matplotlib.lines.Line2D at 0x7ff180f7a350>,\n",
              "  <matplotlib.lines.Line2D at 0x7ff180f8a4d0>,\n",
              "  <matplotlib.lines.Line2D at 0x7ff180f8aa10>],\n",
              " 'fliers': [<matplotlib.lines.Line2D at 0x7ff180f7ae10>,\n",
              "  <matplotlib.lines.Line2D at 0x7ff180f914d0>],\n",
              " 'means': [],\n",
              " 'medians': [<matplotlib.lines.Line2D at 0x7ff180f7a8d0>,\n",
              "  <matplotlib.lines.Line2D at 0x7ff180f8af50>],\n",
              " 'whiskers': [<matplotlib.lines.Line2D at 0x7ff180ff0350>,\n",
              "  <matplotlib.lines.Line2D at 0x7ff180ff0890>,\n",
              "  <matplotlib.lines.Line2D at 0x7ff180f82a50>,\n",
              "  <matplotlib.lines.Line2D at 0x7ff180f82f50>]}"
            ]
          },
          "metadata": {},
          "execution_count": 17
        },
        {
          "output_type": "display_data",
          "data": {
            "text/plain": [
              "<Figure size 432x288 with 1 Axes>"
            ],
            "image/png": "[encoded data removed]"
          },
          "metadata": {
            "needs_background": "light"
          }
        }
      ]
    },
    {
      "cell_type": "code",
      "source": [
        "def boxplot_feature(feature, good_drugs_mono, bad_drugs_mono):\n",
        "  fig1, ax1 = plt.subplots()\n",
        "  ax1.set_title(feature)\n",
        "  data = [good_drugs_mono[feature],bad_drugs_mono[feature]]\n",
        "  labels = [\"Good\",\"Bad\"]\n",
        "  ax1.boxplot(data, labels =labels)\n",
        "\n",
        "for feature in ['Max. conc. A', 'IC50 A', 'H A', 'Einf A']:\n",
        "  boxplot_feature(feature, good_drugs_mono, bad_drugs_mono)"
      ],
      "metadata": {
        "colab": {
          "base_uri": "https://localhost:8080/",
          "height": 1000
        },
        "id": "uMcrQbpoYlpA",
        "outputId": "01fde416-05e2-47bc-b662-2346440e9539"
      },
      "execution_count": null,
      "outputs": [
        {
          "output_type": "stream",
          "name": "stderr",
          "text": [
            "/usr/local/lib/python3.7/dist-packages/matplotlib/cbook/__init__.py:1376: VisibleDeprecationWarning: Creating an ndarray from ragged nested sequences (which is a list-or-tuple of lists-or-tuples-or ndarrays with different lengths or shapes) is deprecated. If you meant to do this, you must specify 'dtype=object' when creating the ndarray.\n",
            "  X = np.atleast_1d(X.T if isinstance(X, np.ndarray) else np.asarray(X))\n",
            "/usr/local/lib/python3.7/dist-packages/matplotlib/cbook/__init__.py:1376: VisibleDeprecationWarning: Creating an ndarray from ragged nested sequences (which is a list-or-tuple of lists-or-tuples-or ndarrays with different lengths or shapes) is deprecated. If you meant to do this, you must specify 'dtype=object' when creating the ndarray.\n",
            "  X = np.atleast_1d(X.T if isinstance(X, np.ndarray) else np.asarray(X))\n",
            "/usr/local/lib/python3.7/dist-packages/matplotlib/cbook/__init__.py:1376: VisibleDeprecationWarning: Creating an ndarray from ragged nested sequences (which is a list-or-tuple of lists-or-tuples-or ndarrays with different lengths or shapes) is deprecated. If you meant to do this, you must specify 'dtype=object' when creating the ndarray.\n",
            "  X = np.atleast_1d(X.T if isinstance(X, np.ndarray) else np.asarray(X))\n",
            "/usr/local/lib/python3.7/dist-packages/matplotlib/cbook/__init__.py:1376: VisibleDeprecationWarning: Creating an ndarray from ragged nested sequences (which is a list-or-tuple of lists-or-tuples-or ndarrays with different lengths or shapes) is deprecated. If you meant to do this, you must specify 'dtype=object' when creating the ndarray.\n",
            "  X = np.atleast_1d(X.T if isinstance(X, np.ndarray) else np.asarray(X))\n"
          ]
        },
        {
          "output_type": "display_data",
          "data": {
            "text/plain": [
              "<Figure size 432x288 with 1 Axes>"
            ],
            "image/png": "[encoded data removed]"
          },
          "metadata": {
            "needs_background": "light"
          }
        },
        {
          "output_type": "display_data",
          "data": {
            "text/plain": [
              "<Figure size 432x288 with 1 Axes>"
            ],
            "image/png": "[encoded data removed]"
          },
          "metadata": {
            "needs_background": "light"
          }
        },
        {
          "output_type": "display_data",
          "data": {
            "text/plain": [
              "<Figure size 432x288 with 1 Axes>"
            ],
            "image/png": "[encoded data removed]"
          },
          "metadata": {
            "needs_background": "light"
          }
        },
        {
          "output_type": "display_data",
          "data": {
            "text/plain": [
              "<Figure size 432x288 with 1 Axes>"
            ],
            "image/png": "[encoded data removed]"
          },
          "metadata": {
            "needs_background": "light"
          }
        }
      ]
    },
    {
      "cell_type": "code",
      "source": [
        "feature = 'Max. conc. A'\n",
        "xA, xB = np.random.normal(1, 0.1, len(good_drugs_mono[feature])), np.random.normal(3, 0.1, len(bad_drugs_mono[feature]))\n",
        "\n",
        "plt.scatter(xA, good_drugs_mono[feature])\n",
        "plt.scatter(xB, bad_drugs_mono[feature])\n",
        "plt.show()"
      ],
      "metadata": {
        "colab": {
          "base_uri": "https://localhost:8080/",
          "height": 265
        },
        "id": "jOGVZhdsb741",
        "outputId": "3b7c38a3-82a9-4a96-fcd0-77762ccc8cfa"
      },
      "execution_count": null,
      "outputs": [
        {
          "output_type": "display_data",
          "data": {
            "text/plain": [
              "<Figure size 432x288 with 1 Axes>"
            ],
            "image/png": "[encoded data removed]"
          },
          "metadata": {
            "needs_background": "light"
          }
        }
      ]
    },
    {
      "cell_type": "code",
      "source": [
        "def scatterplot_feature(feature, good_drugs_mono, bad_drugs_mono):\n",
        "  xA, xB = np.random.normal(1, 0.1, len(good_drugs_mono[feature])), np.random.normal(3, 0.1, len(bad_drugs_mono[feature]))\n",
        "\n",
        "  plt.scatter(xA, good_drugs_mono[feature])\n",
        "  plt.scatter(xB, bad_drugs_mono[feature])\n",
        "  plt.legend([\"Good\", \"Bad\"])\n",
        "  plt.title(feature)\n",
        "  plt.show()\n",
        "\n",
        "for feature in ['Max. conc. A', 'IC50 A', 'H A', 'Einf A']:\n",
        "  scatterplot_feature(feature, good_drugs_mono, bad_drugs_mono)"
      ],
      "metadata": {
        "colab": {
          "base_uri": "https://localhost:8080/",
          "height": 1000
        },
        "id": "4xYw24BudWo9",
        "outputId": "18607960-978a-4661-c5cf-2dd42b4ac392"
      },
      "execution_count": null,
      "outputs": [
        {
          "output_type": "display_data",
          "data": {
            "text/plain": [
              "<Figure size 432x288 with 1 Axes>"
            ],
            "image/png": "[encoded data removed]"
          },
          "metadata": {
            "needs_background": "light"
          }
        },
        {
          "output_type": "display_data",
          "data": {
            "text/plain": [
              "<Figure size 432x288 with 1 Axes>"
            ],
            "image/png": "[encoded data removed]"
          },
          "metadata": {
            "needs_background": "light"
          }
        },
        {
          "output_type": "display_data",
          "data": {
            "text/plain": [
              "<Figure size 432x288 with 1 Axes>"
            ],
            "image/png": "[encoded data removed]"
          },
          "metadata": {
            "needs_background": "light"
          }
        },
        {
          "output_type": "display_data",
          "data": {
            "text/plain": [
              "<Figure size 432x288 with 1 Axes>"
            ],
            "image/png": "[encoded data removed]"
          },
          "metadata": {
            "needs_background": "light"
          }
        }
      ]
    },
    {
      "cell_type": "markdown",
      "source": [
        "# Automating thresholds"
      ],
      "metadata": {
        "id": "_bUwSOuPd9eW"
      }
    },
    {
      "cell_type": "code",
      "source": [
        "\"up_thres is the threshold for highly predictable drugs\"\n",
        "\"low_thres for the lowly predictable drugs\" \n",
        "def good_bad_split(drug_pair_pc, up_thres, low_thres):\n",
        "  good_drugs = drug_pair_pc[drug_pair_pc[\"Pearson coefficient\"] >= up_thres]\n",
        "  bad_drugs = drug_pair_pc[drug_pair_pc[\"Pearson coefficient\"] <= low_thres]\n",
        "  good_drugs_mono = mono_df[mono_df[\"Combination ID\"].isin(good_drugs[\"Combination ID\"])]\n",
        "  bad_drugs_mono = mono_df[mono_df[\"Combination ID\"].isin(bad_drugs[\"Combination ID\"])]\n",
        "\n",
        "  return good_drugs_mono, bad_drugs_mono\n",
        "\n",
        "good_drugs_mono, bad_drugs_mono = good_bad_split(drug_pair_pc, up_thres = 0.9, low_thres = -0.8)\n"
      ],
      "metadata": {
        "id": "LwnaOcfeeAaD"
      },
      "execution_count": null,
      "outputs": []
    },
    {
      "cell_type": "code",
      "source": [
        "\n",
        "for feature in ['Max. conc. A', 'IC50 A', 'H A', 'Einf A']:\n",
        "  \n",
        "  boxplot_feature(feature, good_drugs_mono, bad_drugs_mono)\n",
        "plt.show() \n",
        "for feature in ['Max. conc. A', 'IC50 A', 'H A', 'Einf A']:\n",
        "  scatterplot_feature(feature, good_drugs_mono, bad_drugs_mono)"
      ],
      "metadata": {
        "colab": {
          "base_uri": "https://localhost:8080/",
          "height": 1000
        },
        "id": "WZCfXqcmfJLh",
        "outputId": "2d212548-a473-4492-c11e-3593a36a7086"
      },
      "execution_count": null,
      "outputs": [
        {
          "output_type": "stream",
          "name": "stderr",
          "text": [
            "/usr/local/lib/python3.7/dist-packages/matplotlib/cbook/__init__.py:1376: VisibleDeprecationWarning: Creating an ndarray from ragged nested sequences (which is a list-or-tuple of lists-or-tuples-or ndarrays with different lengths or shapes) is deprecated. If you meant to do this, you must specify 'dtype=object' when creating the ndarray.\n",
            "  X = np.atleast_1d(X.T if isinstance(X, np.ndarray) else np.asarray(X))\n",
            "/usr/local/lib/python3.7/dist-packages/matplotlib/cbook/__init__.py:1376: VisibleDeprecationWarning: Creating an ndarray from ragged nested sequences (which is a list-or-tuple of lists-or-tuples-or ndarrays with different lengths or shapes) is deprecated. If you meant to do this, you must specify 'dtype=object' when creating the ndarray.\n",
            "  X = np.atleast_1d(X.T if isinstance(X, np.ndarray) else np.asarray(X))\n",
            "/usr/local/lib/python3.7/dist-packages/matplotlib/cbook/__init__.py:1376: VisibleDeprecationWarning: Creating an ndarray from ragged nested sequences (which is a list-or-tuple of lists-or-tuples-or ndarrays with different lengths or shapes) is deprecated. If you meant to do this, you must specify 'dtype=object' when creating the ndarray.\n",
            "  X = np.atleast_1d(X.T if isinstance(X, np.ndarray) else np.asarray(X))\n",
            "/usr/local/lib/python3.7/dist-packages/matplotlib/cbook/__init__.py:1376: VisibleDeprecationWarning: Creating an ndarray from ragged nested sequences (which is a list-or-tuple of lists-or-tuples-or ndarrays with different lengths or shapes) is deprecated. If you meant to do this, you must specify 'dtype=object' when creating the ndarray.\n",
            "  X = np.atleast_1d(X.T if isinstance(X, np.ndarray) else np.asarray(X))\n"
          ]
        },
        {
          "output_type": "display_data",
          "data": {
            "text/plain": [
              "<Figure size 432x288 with 1 Axes>"
            ],
            "image/png": "[encoded data removed]"
          },
          "metadata": {
            "needs_background": "light"
          }
        },
        {
          "output_type": "display_data",
          "data": {
            "text/plain": [
              "<Figure size 432x288 with 1 Axes>"
            ],
            "image/png": "[encoded data removed]"
          },
          "metadata": {
            "needs_background": "light"
          }
        },
        {
          "output_type": "display_data",
          "data": {
            "text/plain": [
              "<Figure size 432x288 with 1 Axes>"
            ],
            "image/png": "[encoded data removed]"
          },
          "metadata": {
            "needs_background": "light"
          }
        },
        {
          "output_type": "display_data",
          "data": {
            "text/plain": [
              "<Figure size 432x288 with 1 Axes>"
            ],
            "image/png": "[encoded data removed]"
          },
          "metadata": {
            "needs_background": "light"
          }
        },
        {
          "output_type": "display_data",
          "data": {
            "text/plain": [
              "<Figure size 432x288 with 1 Axes>"
            ],
            "image/png": "[encoded data removed]"
          },
          "metadata": {
            "needs_background": "light"
          }
        },
        {
          "output_type": "display_data",
          "data": {
            "text/plain": [
              "<Figure size 432x288 with 1 Axes>"
            ],
            "image/png": "[encoded data removed]"
          },
          "metadata": {
            "needs_background": "light"
          }
        },
        {
          "output_type": "display_data",
          "data": {
            "text/plain": [
              "<Figure size 432x288 with 1 Axes>"
            ],
            "image/png": "[encoded data removed]"
          },
          "metadata": {
            "needs_background": "light"
          }
        },
        {
          "output_type": "display_data",
          "data": {
            "text/plain": [
              "<Figure size 432x288 with 1 Axes>"
            ],
            "image/png": "[encoded data removed]"
          },
          "metadata": {
            "needs_background": "light"
          }
        }
      ]
    },
    {
      "cell_type": "markdown",
      "source": [
        "We don't see much difference after playing with the threshold, meaning that it is not only a matter of monotherapy features, of each drugs, interaction has to be taken into account."
      ],
      "metadata": {
        "id": "gTYeKkrXgHT9"
      }
    },
    {
      "cell_type": "markdown",
      "source": [
        "# Checking abs(diff)\n",
        "We were unable to see significant differences between the values of monotherapy features of good and bad predicted drugs. We will now try with more complex features such as the absolute value of the difference of each monotherapy value between the drug pair and its mean.\n",
        "\n",
        "For that matter we have now to create a diff_df and av_df that are not commutative, because we don't want to overcount."
      ],
      "metadata": {
        "id": "oLI3pvG2AcqO"
      }
    },
    {
      "cell_type": "code",
      "source": [
        "test_df.columns"
      ],
      "metadata": {
        "colab": {
          "base_uri": "https://localhost:8080/"
        },
        "id": "CAoBsK_pBIfW",
        "outputId": "61d3be4a-cc02-4fd6-b7de-a7206218eb69"
      },
      "execution_count": null,
      "outputs": [
        {
          "output_type": "execute_result",
          "data": {
            "text/plain": [
              "Index(['Cell line name', 'Compound A', 'Compound B', 'Max. conc. A',\n",
              "       'Max. conc. B', 'IC50 A', 'H A', 'Einf A', 'IC50 B', 'H B', 'Einf B',\n",
              "       'Synergy score', 'QA', 'Combination ID', 'Challenge', 'Dataset'],\n",
              "      dtype='object')"
            ]
          },
          "metadata": {},
          "execution_count": 29
        }
      ]
    },
    {
      "cell_type": "code",
      "source": [
        "diff_df = pd.DataFrame()\n",
        "diff_df[\"diff_Max conc\"] = np.abs(test_df['Max. conc. A'] -test_df['Max. conc. B'] )\n",
        "diff_df[\"diff_IC50\"] = np.abs(test_df['IC50 A'] -test_df['IC50 B'] )\n",
        "diff_df[\"diff_'H\"] = np.abs(test_df['H A'] -test_df['H B'] )\n",
        "diff_df[\"diff_Einf\"] = np.abs(test_df['Einf A'] -test_df['Einf B'] )\n",
        "diff_df['Combination ID'] = test_df['Combination ID']"
      ],
      "metadata": {
        "id": "vheo9UdHB5Rl"
      },
      "execution_count": null,
      "outputs": []
    },
    {
      "cell_type": "markdown",
      "source": [
        "We modify good_bad_split so that we can generalize for every DataFrame of feautres"
      ],
      "metadata": {
        "id": "Yen4R04YElOE"
      }
    },
    {
      "cell_type": "code",
      "source": [
        "\"up_thres is the threshold for highly predictable drugs\"\n",
        "\"low_thres for the lowly predictable drugs\" \n",
        "\n",
        "def good_bad_split(drug_pair_pc, up_thres, low_thres, feature_df):\n",
        "  good_drugs = drug_pair_pc[drug_pair_pc[\"Pearson coefficient\"] >= up_thres]\n",
        "  bad_drugs = drug_pair_pc[drug_pair_pc[\"Pearson coefficient\"] <= low_thres]\n",
        "  good_drugs_feat = feature_df[feature_df[\"Combination ID\"].isin(good_drugs[\"Combination ID\"])]\n",
        "  bad_drugs_feat = feature_df[feature_df[\"Combination ID\"].isin(bad_drugs[\"Combination ID\"])]\n",
        "\n",
        "  return good_drugs_feat, bad_drugs_feat\n",
        "\n",
        "good_drugs_diff, bad_drugs_diff = good_bad_split(drug_pair_pc,\n",
        "                                                 up_thres = 0.5, \n",
        "                                                 low_thres = 0, \n",
        "                                                 feature_df = diff_df)\n",
        "\n",
        "for feature in [\"diff_Max conc\", \"diff_IC50\", \"diff_'H\", \"diff_Einf\"]:\n",
        "  \n",
        "  boxplot_feature(feature, good_drugs_diff, bad_drugs_diff)\n",
        "plt.show() \n",
        "for feature in [\"diff_Max conc\", \"diff_IC50\", \"diff_'H\", \"diff_Einf\"]:\n",
        "  scatterplot_feature(feature, good_drugs_diff, bad_drugs_diff)"
      ],
      "metadata": {
        "colab": {
          "base_uri": "https://localhost:8080/",
          "height": 1000
        },
        "id": "zWmJKHxiDQd-",
        "outputId": "8f41dcf9-2440-4769-fab4-f634db347f48"
      },
      "execution_count": null,
      "outputs": [
        {
          "output_type": "stream",
          "name": "stderr",
          "text": [
            "/usr/local/lib/python3.7/dist-packages/matplotlib/cbook/__init__.py:1376: VisibleDeprecationWarning: Creating an ndarray from ragged nested sequences (which is a list-or-tuple of lists-or-tuples-or ndarrays with different lengths or shapes) is deprecated. If you meant to do this, you must specify 'dtype=object' when creating the ndarray.\n",
            "  X = np.atleast_1d(X.T if isinstance(X, np.ndarray) else np.asarray(X))\n",
            "/usr/local/lib/python3.7/dist-packages/matplotlib/cbook/__init__.py:1376: VisibleDeprecationWarning: Creating an ndarray from ragged nested sequences (which is a list-or-tuple of lists-or-tuples-or ndarrays with different lengths or shapes) is deprecated. If you meant to do this, you must specify 'dtype=object' when creating the ndarray.\n",
            "  X = np.atleast_1d(X.T if isinstance(X, np.ndarray) else np.asarray(X))\n",
            "/usr/local/lib/python3.7/dist-packages/matplotlib/cbook/__init__.py:1376: VisibleDeprecationWarning: Creating an ndarray from ragged nested sequences (which is a list-or-tuple of lists-or-tuples-or ndarrays with different lengths or shapes) is deprecated. If you meant to do this, you must specify 'dtype=object' when creating the ndarray.\n",
            "  X = np.atleast_1d(X.T if isinstance(X, np.ndarray) else np.asarray(X))\n",
            "/usr/local/lib/python3.7/dist-packages/matplotlib/cbook/__init__.py:1376: VisibleDeprecationWarning: Creating an ndarray from ragged nested sequences (which is a list-or-tuple of lists-or-tuples-or ndarrays with different lengths or shapes) is deprecated. If you meant to do this, you must specify 'dtype=object' when creating the ndarray.\n",
            "  X = np.atleast_1d(X.T if isinstance(X, np.ndarray) else np.asarray(X))\n"
          ]
        },
        {
          "output_type": "display_data",
          "data": {
            "text/plain": [
              "<Figure size 432x288 with 1 Axes>"
            ],
            "image/png": "[encoded data removed]"
          },
          "metadata": {
            "needs_background": "light"
          }
        },
        {
          "output_type": "display_data",
          "data": {
            "text/plain": [
              "<Figure size 432x288 with 1 Axes>"
            ],
            "image/png": "[encoded data removed]"
          },
          "metadata": {
            "needs_background": "light"
          }
        },
        {
          "output_type": "display_data",
          "data": {
            "text/plain": [
              "<Figure size 432x288 with 1 Axes>"
            ],
            "image/png": "[encoded data removed]"
          },
          "metadata": {
            "needs_background": "light"
          }
        },
        {
          "output_type": "display_data",
          "data": {
            "text/plain": [
              "<Figure size 432x288 with 1 Axes>"
            ],
            "image/png": "[encoded data removed]"
          },
          "metadata": {
            "needs_background": "light"
          }
        },
        {
          "output_type": "display_data",
          "data": {
            "text/plain": [
              "<Figure size 432x288 with 1 Axes>"
            ],
            "image/png": "[encoded data removed]"
          },
          "metadata": {
            "needs_background": "light"
          }
        },
        {
          "output_type": "display_data",
          "data": {
            "text/plain": [
              "<Figure size 432x288 with 1 Axes>"
            ],
            "image/png": "[encoded data removed]"
          },
          "metadata": {
            "needs_background": "light"
          }
        },
        {
          "output_type": "display_data",
          "data": {
            "text/plain": [
              "<Figure size 432x288 with 1 Axes>"
            ],
            "image/png": "[encoded data removed]"
          },
          "metadata": {
            "needs_background": "light"
          }
        },
        {
          "output_type": "display_data",
          "data": {
            "text/plain": [
              "<Figure size 432x288 with 1 Axes>"
            ],
            "image/png": "[encoded data removed]"
          },
          "metadata": {
            "needs_background": "light"
          }
        }
      ]
    },
    {
      "cell_type": "code",
      "source": [
        "test_df.head(10)"
      ],
      "metadata": {
        "colab": {
          "base_uri": "https://localhost:8080/",
          "height": 496
        },
        "id": "qSuJr9MQFYLn",
        "outputId": "d83ae271-b2e1-456b-8f76-52cfbba65698"
      },
      "execution_count": null,
      "outputs": [
        {
          "output_type": "execute_result",
          "data": {
            "text/plain": [
              "     Cell line name   Compound A Compound B  Max. conc. A  Max. conc. B  \\\n",
              "2790         CAMA-1          AKT     ADAM17           1.0          75.0   \n",
              "2791        HCC1395          AKT     ADAM17           1.0          75.0   \n",
              "2792       Hs-578-T          AKT     ADAM17           1.0          75.0   \n",
              "2793     MDA-MB-157          AKT     ADAM17           1.0          75.0   \n",
              "2794     MDA-MB-468          AKT     ADAM17           1.0          75.0   \n",
              "2795        MFM-223          AKT     ADAM17           1.0          75.0   \n",
              "2796        CAL-120  BCL2_BCL2L1     ADAM17           1.0          75.0   \n",
              "2797         CAL-51  BCL2_BCL2L1     ADAM17           1.0          75.0   \n",
              "2798        HCC1187  BCL2_BCL2L1     ADAM17           1.0          75.0   \n",
              "2799        HCC1428  BCL2_BCL2L1     ADAM17           1.0          75.0   \n",
              "\n",
              "        IC50 A       H A      Einf A     IC50 B        H B      Einf B  \\\n",
              "2790  0.126186  0.993706    3.688533   1.000000   0.000000  100.000000   \n",
              "2791  0.910569  0.552451    0.000000  10.905410   0.239641   82.740876   \n",
              "2792  1.000000  0.258989   17.701706   0.540880   4.851464   73.495692   \n",
              "2793  1.000000  0.215696    5.095356   0.010219   0.227937   52.121460   \n",
              "2794  0.509420  0.941494   26.827759   7.328496  10.000000   94.799897   \n",
              "2795  0.226297  1.952148   17.477798   1.000000   0.000000  100.000000   \n",
              "2796  0.094510  1.532679   44.192363   1.000000   0.000000  100.000000   \n",
              "2797  1.000000  0.528524   75.608577  75.000000   0.543599   83.527073   \n",
              "2798  1.000000  0.000000  100.000000  75.000000  10.000000    7.400386   \n",
              "2799  0.107897  1.263608    9.386941   1.000000   0.000000  100.000000   \n",
              "\n",
              "      Synergy score  QA      Combination ID Challenge Dataset  \n",
              "2790      -6.972573   1          ADAM17.AKT       ch1    test  \n",
              "2791      -2.669625   1          ADAM17.AKT       ch1    test  \n",
              "2792      11.609180   1          ADAM17.AKT       ch1    test  \n",
              "2793      37.900300   1          ADAM17.AKT       ch1    test  \n",
              "2794      29.504740   1          ADAM17.AKT       ch1    test  \n",
              "2795      38.850700   1          ADAM17.AKT       ch1    test  \n",
              "2796     -29.224590   1  ADAM17.BCL2_BCL2L1       ch1    test  \n",
              "2797       6.826433   1  ADAM17.BCL2_BCL2L1       ch1    test  \n",
              "2798     -21.932110   1  ADAM17.BCL2_BCL2L1       ch1    test  \n",
              "2799       4.883253   1  ADAM17.BCL2_BCL2L1       ch1    test  "
            ],
            "text/html": [
              "\n",
              "  <div id=\"df-b5f0b020-8392-45f1-b2a6-f70f8ad8c16e\">\n",
              "    <div class=\"colab-df-container\">\n",
              "      <div>\n",
              "<style scoped>\n",
              "    .dataframe tbody tr th:only-of-type {\n",
              "        vertical-align: middle;\n",
              "    }\n",
              "\n",
              "    .dataframe tbody tr th {\n",
              "        vertical-align: top;\n",
              "    }\n",
              "\n",
              "    .dataframe thead th {\n",
              "        text-align: right;\n",
              "    }\n",
              "</style>\n",
              "<table border=\"1\" class=\"dataframe\">\n",
              "  <thead>\n",
              "    <tr style=\"text-align: right;\">\n",
              "      <th></th>\n",
              "      <th>Cell line name</th>\n",
              "      <th>Compound A</th>\n",
              "      <th>Compound B</th>\n",
              "      <th>Max. conc. A</th>\n",
              "      <th>Max. conc. B</th>\n",
              "      <th>IC50 A</th>\n",
              "      <th>H A</th>\n",
              "      <th>Einf A</th>\n",
              "      <th>IC50 B</th>\n",
              "      <th>H B</th>\n",
              "      <th>Einf B</th>\n",
              "      <th>Synergy score</th>\n",
              "      <th>QA</th>\n",
              "      <th>Combination ID</th>\n",
              "      <th>Challenge</th>\n",
              "      <th>Dataset</th>\n",
              "    </tr>\n",
              "  </thead>\n",
              "  <tbody>\n",
              "    <tr>\n",
              "      <th>2790</th>\n",
              "      <td>CAMA-1</td>\n",
              "      <td>AKT</td>\n",
              "      <td>ADAM17</td>\n",
              "      <td>1.0</td>\n",
              "      <td>75.0</td>\n",
              "      <td>0.126186</td>\n",
              "      <td>0.993706</td>\n",
              "      <td>3.688533</td>\n",
              "      <td>1.000000</td>\n",
              "      <td>0.000000</td>\n",
              "      <td>100.000000</td>\n",
              "      <td>-6.972573</td>\n",
              "      <td>1</td>\n",
              "      <td>ADAM17.AKT</td>\n",
              "      <td>ch1</td>\n",
              "      <td>test</td>\n",
              "    </tr>\n",
              "    <tr>\n",
              "      <th>2791</th>\n",
              "      <td>HCC1395</td>\n",
              "      <td>AKT</td>\n",
              "      <td>ADAM17</td>\n",
              "      <td>1.0</td>\n",
              "      <td>75.0</td>\n",
              "      <td>0.910569</td>\n",
              "      <td>0.552451</td>\n",
              "      <td>0.000000</td>\n",
              "      <td>10.905410</td>\n",
              "      <td>0.239641</td>\n",
              "      <td>82.740876</td>\n",
              "      <td>-2.669625</td>\n",
              "      <td>1</td>\n",
              "      <td>ADAM17.AKT</td>\n",
              "      <td>ch1</td>\n",
              "      <td>test</td>\n",
              "    </tr>\n",
              "    <tr>\n",
              "      <th>2792</th>\n",
              "      <td>Hs-578-T</td>\n",
              "      <td>AKT</td>\n",
              "      <td>ADAM17</td>\n",
              "      <td>1.0</td>\n",
              "      <td>75.0</td>\n",
              "      <td>1.000000</td>\n",
              "      <td>0.258989</td>\n",
              "      <td>17.701706</td>\n",
              "      <td>0.540880</td>\n",
              "      <td>4.851464</td>\n",
              "      <td>73.495692</td>\n",
              "      <td>11.609180</td>\n",
              "      <td>1</td>\n",
              "      <td>ADAM17.AKT</td>\n",
              "      <td>ch1</td>\n",
              "      <td>test</td>\n",
              "    </tr>\n",
              "    <tr>\n",
              "      <th>2793</th>\n",
              "      <td>MDA-MB-157</td>\n",
              "      <td>AKT</td>\n",
              "      <td>ADAM17</td>\n",
              "      <td>1.0</td>\n",
              "      <td>75.0</td>\n",
              "      <td>1.000000</td>\n",
              "      <td>0.215696</td>\n",
              "      <td>5.095356</td>\n",
              "      <td>0.010219</td>\n",
              "      <td>0.227937</td>\n",
              "      <td>52.121460</td>\n",
              "      <td>37.900300</td>\n",
              "      <td>1</td>\n",
              "      <td>ADAM17.AKT</td>\n",
              "      <td>ch1</td>\n",
              "      <td>test</td>\n",
              "    </tr>\n",
              "    <tr>\n",
              "      <th>2794</th>\n",
              "      <td>MDA-MB-468</td>\n",
              "      <td>AKT</td>\n",
              "      <td>ADAM17</td>\n",
              "      <td>1.0</td>\n",
              "      <td>75.0</td>\n",
              "      <td>0.509420</td>\n",
              "      <td>0.941494</td>\n",
              "      <td>26.827759</td>\n",
              "      <td>7.328496</td>\n",
              "      <td>10.000000</td>\n",
              "      <td>94.799897</td>\n",
              "      <td>29.504740</td>\n",
              "      <td>1</td>\n",
              "      <td>ADAM17.AKT</td>\n",
              "      <td>ch1</td>\n",
              "      <td>test</td>\n",
              "    </tr>\n",
              "    <tr>\n",
              "      <th>2795</th>\n",
              "      <td>MFM-223</td>\n",
              "      <td>AKT</td>\n",
              "      <td>ADAM17</td>\n",
              "      <td>1.0</td>\n",
              "      <td>75.0</td>\n",
              "      <td>0.226297</td>\n",
              "      <td>1.952148</td>\n",
              "      <td>17.477798</td>\n",
              "      <td>1.000000</td>\n",
              "      <td>0.000000</td>\n",
              "      <td>100.000000</td>\n",
              "      <td>38.850700</td>\n",
              "      <td>1</td>\n",
              "      <td>ADAM17.AKT</td>\n",
              "      <td>ch1</td>\n",
              "      <td>test</td>\n",
              "    </tr>\n",
              "    <tr>\n",
              "      <th>2796</th>\n",
              "      <td>CAL-120</td>\n",
              "      <td>BCL2_BCL2L1</td>\n",
              "      <td>ADAM17</td>\n",
              "      <td>1.0</td>\n",
              "      <td>75.0</td>\n",
              "      <td>0.094510</td>\n",
              "      <td>1.532679</td>\n",
              "      <td>44.192363</td>\n",
              "      <td>1.000000</td>\n",
              "      <td>0.000000</td>\n",
              "      <td>100.000000</td>\n",
              "      <td>-29.224590</td>\n",
              "      <td>1</td>\n",
              "      <td>ADAM17.BCL2_BCL2L1</td>\n",
              "      <td>ch1</td>\n",
              "      <td>test</td>\n",
              "    </tr>\n",
              "    <tr>\n",
              "      <th>2797</th>\n",
              "      <td>CAL-51</td>\n",
              "      <td>BCL2_BCL2L1</td>\n",
              "      <td>ADAM17</td>\n",
              "      <td>1.0</td>\n",
              "      <td>75.0</td>\n",
              "      <td>1.000000</td>\n",
              "      <td>0.528524</td>\n",
              "      <td>75.608577</td>\n",
              "      <td>75.000000</td>\n",
              "      <td>0.543599</td>\n",
              "      <td>83.527073</td>\n",
              "      <td>6.826433</td>\n",
              "      <td>1</td>\n",
              "      <td>ADAM17.BCL2_BCL2L1</td>\n",
              "      <td>ch1</td>\n",
              "      <td>test</td>\n",
              "    </tr>\n",
              "    <tr>\n",
              "      <th>2798</th>\n",
              "      <td>HCC1187</td>\n",
              "      <td>BCL2_BCL2L1</td>\n",
              "      <td>ADAM17</td>\n",
              "      <td>1.0</td>\n",
              "      <td>75.0</td>\n",
              "      <td>1.000000</td>\n",
              "      <td>0.000000</td>\n",
              "      <td>100.000000</td>\n",
              "      <td>75.000000</td>\n",
              "      <td>10.000000</td>\n",
              "      <td>7.400386</td>\n",
              "      <td>-21.932110</td>\n",
              "      <td>1</td>\n",
              "      <td>ADAM17.BCL2_BCL2L1</td>\n",
              "      <td>ch1</td>\n",
              "      <td>test</td>\n",
              "    </tr>\n",
              "    <tr>\n",
              "      <th>2799</th>\n",
              "      <td>HCC1428</td>\n",
              "      <td>BCL2_BCL2L1</td>\n",
              "      <td>ADAM17</td>\n",
              "      <td>1.0</td>\n",
              "      <td>75.0</td>\n",
              "      <td>0.107897</td>\n",
              "      <td>1.263608</td>\n",
              "      <td>9.386941</td>\n",
              "      <td>1.000000</td>\n",
              "      <td>0.000000</td>\n",
              "      <td>100.000000</td>\n",
              "      <td>4.883253</td>\n",
              "      <td>1</td>\n",
              "      <td>ADAM17.BCL2_BCL2L1</td>\n",
              "      <td>ch1</td>\n",
              "      <td>test</td>\n",
              "    </tr>\n",
              "  </tbody>\n",
              "</table>\n",
              "</div>\n",
              "      <button class=\"colab-df-convert\" onclick=\"convertToInteractive('df-b5f0b020-8392-45f1-b2a6-f70f8ad8c16e')\"\n",
              "              title=\"Convert this dataframe to an interactive table.\"\n",
              "              style=\"display:none;\">\n",
              "        \n",
              "  <svg xmlns=\"http://www.w3.org/2000/svg\" height=\"24px\"viewBox=\"0 0 24 24\"\n",
              "       width=\"24px\">\n",
              "    <path d=\"M0 0h24v24H0V0z\" fill=\"none\"/>\n",
              "    <path d=\"M18.56 5.44l.94 2.06.94-2.06 2.06-.94-2.06-.94-.94-2.06-.94 2.06-2.06.94zm-11 1L8.5 8.5l.94-2.06 2.06-.94-2.06-.94L8.5 2.5l-.94 2.06-2.06.94zm10 10l.94 2.06.94-2.06 2.06-.94-2.06-.94-.94-2.06-.94 2.06-2.06.94z\"/><path d=\"M17.41 7.96l-1.37-1.37c-.4-.4-.92-.59-1.43-.59-.52 0-1.04.2-1.43.59L10.3 9.45l-7.72 7.72c-.78.78-.78 2.05 0 2.83L4 21.41c.39.39.9.59 1.41.59.51 0 1.02-.2 1.41-.59l7.78-7.78 2.81-2.81c.8-.78.8-2.07 0-2.86zM5.41 20L4 18.59l7.72-7.72 1.47 1.35L5.41 20z\"/>\n",
              "  </svg>\n",
              "      </button>\n",
              "      \n",
              "  <style>\n",
              "    .colab-df-container {\n",
              "      display:flex;\n",
              "      flex-wrap:wrap;\n",
              "      gap: 12px;\n",
              "    }\n",
              "\n",
              "    .colab-df-convert {\n",
              "      background-color: #E8F0FE;\n",
              "      border: none;\n",
              "      border-radius: 50%;\n",
              "      cursor: pointer;\n",
              "      display: none;\n",
              "      fill: #1967D2;\n",
              "      height: 32px;\n",
              "      padding: 0 0 0 0;\n",
              "      width: 32px;\n",
              "    }\n",
              "\n",
              "    .colab-df-convert:hover {\n",
              "      background-color: #E2EBFA;\n",
              "      box-shadow: 0px 1px 2px rgba(60, 64, 67, 0.3), 0px 1px 3px 1px rgba(60, 64, 67, 0.15);\n",
              "      fill: #174EA6;\n",
              "    }\n",
              "\n",
              "    [theme=dark] .colab-df-convert {\n",
              "      background-color: #3B4455;\n",
              "      fill: #D2E3FC;\n",
              "    }\n",
              "\n",
              "    [theme=dark] .colab-df-convert:hover {\n",
              "      background-color: #434B5C;\n",
              "      box-shadow: 0px 1px 3px 1px rgba(0, 0, 0, 0.15);\n",
              "      filter: drop-shadow(0px 1px 2px rgba(0, 0, 0, 0.3));\n",
              "      fill: #FFFFFF;\n",
              "    }\n",
              "  </style>\n",
              "\n",
              "      <script>\n",
              "        const buttonEl =\n",
              "          document.querySelector('#df-b5f0b020-8392-45f1-b2a6-f70f8ad8c16e button.colab-df-convert');\n",
              "        buttonEl.style.display =\n",
              "          google.colab.kernel.accessAllowed ? 'block' : 'none';\n",
              "\n",
              "        async function convertToInteractive(key) {\n",
              "          const element = document.querySelector('#df-b5f0b020-8392-45f1-b2a6-f70f8ad8c16e');\n",
              "          const dataTable =\n",
              "            await google.colab.kernel.invokeFunction('convertToInteractive',\n",
              "                                                     [key], {});\n",
              "          if (!dataTable) return;\n",
              "\n",
              "          const docLinkHtml = 'Like what you see? Visit the ' +\n",
              "            '<a target=\"_blank\" href=https://colab.research.google.com/notebooks/data_table.ipynb>data table notebook</a>'\n",
              "            + ' to learn more about interactive tables.';\n",
              "          element.innerHTML = '';\n",
              "          dataTable['output_type'] = 'display_data';\n",
              "          await google.colab.output.renderOutput(dataTable, element);\n",
              "          const docLink = document.createElement('div');\n",
              "          docLink.innerHTML = docLinkHtml;\n",
              "          element.appendChild(docLink);\n",
              "        }\n",
              "      </script>\n",
              "    </div>\n",
              "  </div>\n",
              "  "
            ]
          },
          "metadata": {},
          "execution_count": 37
        }
      ]
    },
    {
      "cell_type": "code",
      "source": [
        "diff_df.head(10)"
      ],
      "metadata": {
        "colab": {
          "base_uri": "https://localhost:8080/",
          "height": 363
        },
        "id": "yifcN3i3FeNW",
        "outputId": "d16e0c59-8c51-4f5c-b6db-cca53eec0404"
      },
      "execution_count": null,
      "outputs": [
        {
          "output_type": "execute_result",
          "data": {
            "text/plain": [
              "      diff_Max conc  diff_IC50    diff_'H  diff_Einf      Combination ID\n",
              "2790           74.0   0.873814   0.993706  96.311467          ADAM17.AKT\n",
              "2791           74.0   9.994841   0.312809  82.740876          ADAM17.AKT\n",
              "2792           74.0   0.459120   4.592476  55.793987          ADAM17.AKT\n",
              "2793           74.0   0.989781   0.012240  47.026104          ADAM17.AKT\n",
              "2794           74.0   6.819075   9.058506  67.972138          ADAM17.AKT\n",
              "2795           74.0   0.773703   1.952148  82.522202          ADAM17.AKT\n",
              "2796           74.0   0.905490   1.532679  55.807637  ADAM17.BCL2_BCL2L1\n",
              "2797           74.0  74.000000   0.015076   7.918496  ADAM17.BCL2_BCL2L1\n",
              "2798           74.0  74.000000  10.000000  92.599614  ADAM17.BCL2_BCL2L1\n",
              "2799           74.0   0.892103   1.263608  90.613059  ADAM17.BCL2_BCL2L1"
            ],
            "text/html": [
              "\n",
              "  <div id=\"df-364c98f1-2351-4623-8a3b-3056b967529d\">\n",
              "    <div class=\"colab-df-container\">\n",
              "      <div>\n",
              "<style scoped>\n",
              "    .dataframe tbody tr th:only-of-type {\n",
              "        vertical-align: middle;\n",
              "    }\n",
              "\n",
              "    .dataframe tbody tr th {\n",
              "        vertical-align: top;\n",
              "    }\n",
              "\n",
              "    .dataframe thead th {\n",
              "        text-align: right;\n",
              "    }\n",
              "</style>\n",
              "<table border=\"1\" class=\"dataframe\">\n",
              "  <thead>\n",
              "    <tr style=\"text-align: right;\">\n",
              "      <th></th>\n",
              "      <th>diff_Max conc</th>\n",
              "      <th>diff_IC50</th>\n",
              "      <th>diff_'H</th>\n",
              "      <th>diff_Einf</th>\n",
              "      <th>Combination ID</th>\n",
              "    </tr>\n",
              "  </thead>\n",
              "  <tbody>\n",
              "    <tr>\n",
              "      <th>2790</th>\n",
              "      <td>74.0</td>\n",
              "      <td>0.873814</td>\n",
              "      <td>0.993706</td>\n",
              "      <td>96.311467</td>\n",
              "      <td>ADAM17.AKT</td>\n",
              "    </tr>\n",
              "    <tr>\n",
              "      <th>2791</th>\n",
              "      <td>74.0</td>\n",
              "      <td>9.994841</td>\n",
              "      <td>0.312809</td>\n",
              "      <td>82.740876</td>\n",
              "      <td>ADAM17.AKT</td>\n",
              "    </tr>\n",
              "    <tr>\n",
              "      <th>2792</th>\n",
              "      <td>74.0</td>\n",
              "      <td>0.459120</td>\n",
              "      <td>4.592476</td>\n",
              "      <td>55.793987</td>\n",
              "      <td>ADAM17.AKT</td>\n",
              "    </tr>\n",
              "    <tr>\n",
              "      <th>2793</th>\n",
              "      <td>74.0</td>\n",
              "      <td>0.989781</td>\n",
              "      <td>0.012240</td>\n",
              "      <td>47.026104</td>\n",
              "      <td>ADAM17.AKT</td>\n",
              "    </tr>\n",
              "    <tr>\n",
              "      <th>2794</th>\n",
              "      <td>74.0</td>\n",
              "      <td>6.819075</td>\n",
              "      <td>9.058506</td>\n",
              "      <td>67.972138</td>\n",
              "      <td>ADAM17.AKT</td>\n",
              "    </tr>\n",
              "    <tr>\n",
              "      <th>2795</th>\n",
              "      <td>74.0</td>\n",
              "      <td>0.773703</td>\n",
              "      <td>1.952148</td>\n",
              "      <td>82.522202</td>\n",
              "      <td>ADAM17.AKT</td>\n",
              "    </tr>\n",
              "    <tr>\n",
              "      <th>2796</th>\n",
              "      <td>74.0</td>\n",
              "      <td>0.905490</td>\n",
              "      <td>1.532679</td>\n",
              "      <td>55.807637</td>\n",
              "      <td>ADAM17.BCL2_BCL2L1</td>\n",
              "    </tr>\n",
              "    <tr>\n",
              "      <th>2797</th>\n",
              "      <td>74.0</td>\n",
              "      <td>74.000000</td>\n",
              "      <td>0.015076</td>\n",
              "      <td>7.918496</td>\n",
              "      <td>ADAM17.BCL2_BCL2L1</td>\n",
              "    </tr>\n",
              "    <tr>\n",
              "      <th>2798</th>\n",
              "      <td>74.0</td>\n",
              "      <td>74.000000</td>\n",
              "      <td>10.000000</td>\n",
              "      <td>92.599614</td>\n",
              "      <td>ADAM17.BCL2_BCL2L1</td>\n",
              "    </tr>\n",
              "    <tr>\n",
              "      <th>2799</th>\n",
              "      <td>74.0</td>\n",
              "      <td>0.892103</td>\n",
              "      <td>1.263608</td>\n",
              "      <td>90.613059</td>\n",
              "      <td>ADAM17.BCL2_BCL2L1</td>\n",
              "    </tr>\n",
              "  </tbody>\n",
              "</table>\n",
              "</div>\n",
              "      <button class=\"colab-df-convert\" onclick=\"convertToInteractive('df-364c98f1-2351-4623-8a3b-3056b967529d')\"\n",
              "              title=\"Convert this dataframe to an interactive table.\"\n",
              "              style=\"display:none;\">\n",
              "        \n",
              "  <svg xmlns=\"http://www.w3.org/2000/svg\" height=\"24px\"viewBox=\"0 0 24 24\"\n",
              "       width=\"24px\">\n",
              "    <path d=\"M0 0h24v24H0V0z\" fill=\"none\"/>\n",
              "    <path d=\"M18.56 5.44l.94 2.06.94-2.06 2.06-.94-2.06-.94-.94-2.06-.94 2.06-2.06.94zm-11 1L8.5 8.5l.94-2.06 2.06-.94-2.06-.94L8.5 2.5l-.94 2.06-2.06.94zm10 10l.94 2.06.94-2.06 2.06-.94-2.06-.94-.94-2.06-.94 2.06-2.06.94z\"/><path d=\"M17.41 7.96l-1.37-1.37c-.4-.4-.92-.59-1.43-.59-.52 0-1.04.2-1.43.59L10.3 9.45l-7.72 7.72c-.78.78-.78 2.05 0 2.83L4 21.41c.39.39.9.59 1.41.59.51 0 1.02-.2 1.41-.59l7.78-7.78 2.81-2.81c.8-.78.8-2.07 0-2.86zM5.41 20L4 18.59l7.72-7.72 1.47 1.35L5.41 20z\"/>\n",
              "  </svg>\n",
              "      </button>\n",
              "      \n",
              "  <style>\n",
              "    .colab-df-container {\n",
              "      display:flex;\n",
              "      flex-wrap:wrap;\n",
              "      gap: 12px;\n",
              "    }\n",
              "\n",
              "    .colab-df-convert {\n",
              "      background-color: #E8F0FE;\n",
              "      border: none;\n",
              "      border-radius: 50%;\n",
              "      cursor: pointer;\n",
              "      display: none;\n",
              "      fill: #1967D2;\n",
              "      height: 32px;\n",
              "      padding: 0 0 0 0;\n",
              "      width: 32px;\n",
              "    }\n",
              "\n",
              "    .colab-df-convert:hover {\n",
              "      background-color: #E2EBFA;\n",
              "      box-shadow: 0px 1px 2px rgba(60, 64, 67, 0.3), 0px 1px 3px 1px rgba(60, 64, 67, 0.15);\n",
              "      fill: #174EA6;\n",
              "    }\n",
              "\n",
              "    [theme=dark] .colab-df-convert {\n",
              "      background-color: #3B4455;\n",
              "      fill: #D2E3FC;\n",
              "    }\n",
              "\n",
              "    [theme=dark] .colab-df-convert:hover {\n",
              "      background-color: #434B5C;\n",
              "      box-shadow: 0px 1px 3px 1px rgba(0, 0, 0, 0.15);\n",
              "      filter: drop-shadow(0px 1px 2px rgba(0, 0, 0, 0.3));\n",
              "      fill: #FFFFFF;\n",
              "    }\n",
              "  </style>\n",
              "\n",
              "      <script>\n",
              "        const buttonEl =\n",
              "          document.querySelector('#df-364c98f1-2351-4623-8a3b-3056b967529d button.colab-df-convert');\n",
              "        buttonEl.style.display =\n",
              "          google.colab.kernel.accessAllowed ? 'block' : 'none';\n",
              "\n",
              "        async function convertToInteractive(key) {\n",
              "          const element = document.querySelector('#df-364c98f1-2351-4623-8a3b-3056b967529d');\n",
              "          const dataTable =\n",
              "            await google.colab.kernel.invokeFunction('convertToInteractive',\n",
              "                                                     [key], {});\n",
              "          if (!dataTable) return;\n",
              "\n",
              "          const docLinkHtml = 'Like what you see? Visit the ' +\n",
              "            '<a target=\"_blank\" href=https://colab.research.google.com/notebooks/data_table.ipynb>data table notebook</a>'\n",
              "            + ' to learn more about interactive tables.';\n",
              "          element.innerHTML = '';\n",
              "          dataTable['output_type'] = 'display_data';\n",
              "          await google.colab.output.renderOutput(dataTable, element);\n",
              "          const docLink = document.createElement('div');\n",
              "          docLink.innerHTML = docLinkHtml;\n",
              "          element.appendChild(docLink);\n",
              "        }\n",
              "      </script>\n",
              "    </div>\n",
              "  </div>\n",
              "  "
            ]
          },
          "metadata": {},
          "execution_count": 38
        }
      ]
    },
    {
      "cell_type": "markdown",
      "source": [
        "We don't see anything, again.\n",
        "We try averages next:"
      ],
      "metadata": {
        "id": "MIHP1-fmGy_Z"
      }
    },
    {
      "cell_type": "code",
      "source": [
        "av_df = pd.DataFrame()\n",
        "av_df[\"av_Max conc\"] = (test_df['Max. conc. A'] +test_df['Max. conc. B'])/2\n",
        "av_df[\"av_IC50\"] = (test_df['IC50 A'] +test_df['IC50 B'] )/2\n",
        "av_df[\"av_'H\"] = (test_df['H A'] +test_df['H B'] )/2\n",
        "av_df[\"av_Einf\"] = (test_df['Einf A'] +test_df['Einf B'] )/2\n",
        "av_df['Combination ID'] = test_df['Combination ID']"
      ],
      "metadata": {
        "id": "teBWTGcKGu5A"
      },
      "execution_count": null,
      "outputs": []
    },
    {
      "cell_type": "code",
      "source": [
        "\"up_thres is the threshold for highly predictable drugs\"\n",
        "\"low_thres for the lowly predictable drugs\" \n",
        "\n",
        "def good_bad_split(drug_pair_pc, up_thres, low_thres, feature_df):\n",
        "  good_drugs = drug_pair_pc[drug_pair_pc[\"Pearson coefficient\"] >= up_thres]\n",
        "  bad_drugs = drug_pair_pc[drug_pair_pc[\"Pearson coefficient\"] <= low_thres]\n",
        "  good_drugs_feat = feature_df[feature_df[\"Combination ID\"].isin(good_drugs[\"Combination ID\"])]\n",
        "  bad_drugs_feat = feature_df[feature_df[\"Combination ID\"].isin(bad_drugs[\"Combination ID\"])]\n",
        "\n",
        "  return good_drugs_feat, bad_drugs_feat\n",
        "\n",
        "good_drugs_av, bad_drugs_av = good_bad_split(drug_pair_pc,\n",
        "                                                 up_thres = 0.5, \n",
        "                                                 low_thres = 0, \n",
        "                                                 feature_df = av_df)\n",
        "\n",
        "for feature in [\"av_Max conc\", \"av_IC50\", \"av_'H\", \"av_Einf\"]:\n",
        "  \n",
        "  boxplot_feature(feature, good_drugs_av, bad_drugs_av)\n",
        "plt.show() \n",
        "for feature in [\"av_Max conc\", \"av_IC50\", \"av_'H\", \"av_Einf\"]:\n",
        "  scatterplot_feature(feature, good_drugs_av, bad_drugs_av)"
      ],
      "metadata": {
        "colab": {
          "base_uri": "https://localhost:8080/",
          "height": 1000
        },
        "id": "6bkKM5SZOylv",
        "outputId": "00daf6c1-10aa-46aa-bb1f-b8b861d5446f"
      },
      "execution_count": null,
      "outputs": [
        {
          "output_type": "stream",
          "name": "stderr",
          "text": [
            "/usr/local/lib/python3.7/dist-packages/matplotlib/cbook/__init__.py:1376: VisibleDeprecationWarning: Creating an ndarray from ragged nested sequences (which is a list-or-tuple of lists-or-tuples-or ndarrays with different lengths or shapes) is deprecated. If you meant to do this, you must specify 'dtype=object' when creating the ndarray.\n",
            "  X = np.atleast_1d(X.T if isinstance(X, np.ndarray) else np.asarray(X))\n",
            "/usr/local/lib/python3.7/dist-packages/matplotlib/cbook/__init__.py:1376: VisibleDeprecationWarning: Creating an ndarray from ragged nested sequences (which is a list-or-tuple of lists-or-tuples-or ndarrays with different lengths or shapes) is deprecated. If you meant to do this, you must specify 'dtype=object' when creating the ndarray.\n",
            "  X = np.atleast_1d(X.T if isinstance(X, np.ndarray) else np.asarray(X))\n",
            "/usr/local/lib/python3.7/dist-packages/matplotlib/cbook/__init__.py:1376: VisibleDeprecationWarning: Creating an ndarray from ragged nested sequences (which is a list-or-tuple of lists-or-tuples-or ndarrays with different lengths or shapes) is deprecated. If you meant to do this, you must specify 'dtype=object' when creating the ndarray.\n",
            "  X = np.atleast_1d(X.T if isinstance(X, np.ndarray) else np.asarray(X))\n",
            "/usr/local/lib/python3.7/dist-packages/matplotlib/cbook/__init__.py:1376: VisibleDeprecationWarning: Creating an ndarray from ragged nested sequences (which is a list-or-tuple of lists-or-tuples-or ndarrays with different lengths or shapes) is deprecated. If you meant to do this, you must specify 'dtype=object' when creating the ndarray.\n",
            "  X = np.atleast_1d(X.T if isinstance(X, np.ndarray) else np.asarray(X))\n"
          ]
        },
        {
          "output_type": "display_data",
          "data": {
            "text/plain": [
              "<Figure size 432x288 with 1 Axes>"
            ],
            "image/png": "[encoded data removed]"
          },
          "metadata": {
            "needs_background": "light"
          }
        },
        {
          "output_type": "display_data",
          "data": {
            "text/plain": [
              "<Figure size 432x288 with 1 Axes>"
            ],
            "image/png": "[encoded data removed]"
          },
          "metadata": {
            "needs_background": "light"
          }
        },
        {
          "output_type": "display_data",
          "data": {
            "text/plain": [
              "<Figure size 432x288 with 1 Axes>"
            ],
            "image/png": "[encoded data removed]"
          },
          "metadata": {
            "needs_background": "light"
          }
        },
        {
          "output_type": "display_data",
          "data": {
            "text/plain": [
              "<Figure size 432x288 with 1 Axes>"
            ],
            "image/png": "[encoded data removed]"
          },
          "metadata": {
            "needs_background": "light"
          }
        },
        {
          "output_type": "display_data",
          "data": {
            "text/plain": [
              "<Figure size 432x288 with 1 Axes>"
            ],
            "image/png": "[encoded data removed]"
          },
          "metadata": {
            "needs_background": "light"
          }
        },
        {
          "output_type": "display_data",
          "data": {
            "text/plain": [
              "<Figure size 432x288 with 1 Axes>"
            ],
            "image/png": "[encoded data removed]"
          },
          "metadata": {
            "needs_background": "light"
          }
        },
        {
          "output_type": "display_data",
          "data": {
            "text/plain": [
              "<Figure size 432x288 with 1 Axes>"
            ],
            "image/png": "[encoded data removed]"
          },
          "metadata": {
            "needs_background": "light"
          }
        },
        {
          "output_type": "display_data",
          "data": {
            "text/plain": [
              "<Figure size 432x288 with 1 Axes>"
            ],
            "image/png": "[encoded data removed]"
          },
          "metadata": {
            "needs_background": "light"
          }
        }
      ]
    },
    {
      "cell_type": "markdown",
      "source": [
        "# Distribution of WPC and plots\n",
        "\n",
        "We are going to do some statistics, we can do:\n",
        "\n",
        "1.   Histogram of WPC with and without low number of cell lines. Check if there is a difference and a suitable threshold for good and bad combinations\n",
        "2.   Notched Boxplot for WPC depending on n_cl. \n",
        "\n",
        "3.   Rank plot where we rank predicted and true synergy score. Then throw a theoretical dotted line y = x and then calculate Spearman rank correlation. Or check if that's what we should check.\n",
        "\n",
        "4.   We can do some statistics with the predicted and expected synergy using Notched Boxplot, we can check the WPC for cell lines depending of tissue of origin, that's interesting.\n",
        "\n",
        "\n",
        "\n"
      ],
      "metadata": {
        "id": "mOw3U0s0srWG"
      }
    },
    {
      "cell_type": "code",
      "source": [
        "\"Without restriction of cell line\"\n",
        "sns.histplot(drug_pair_pc[\"Pearson coefficient\"])"
      ],
      "metadata": {
        "id": "f3iB_qHGvqpq",
        "outputId": "cc8ee55e-79db-4277-c0bc-ac6647b40a64",
        "colab": {
          "base_uri": "https://localhost:8080/",
          "height": 297
        }
      },
      "execution_count": 15,
      "outputs": [
        {
          "output_type": "execute_result",
          "data": {
            "text/plain": [
              "<matplotlib.axes._subplots.AxesSubplot at 0x7fd274210490>"
            ]
          },
          "metadata": {},
          "execution_count": 15
        },
        {
          "output_type": "display_data",
          "data": {
            "text/plain": [
              "<Figure size 432x288 with 1 Axes>"
            ],
            "image/png": "[encoded data removed]"
          },
          "metadata": {
            "needs_background": "light"
          }
        }
      ]
    },
    {
      "cell_type": "code",
      "source": [
        "sns.histplot(drug_pair_pc[\"n_cl\"], bins=4)"
      ],
      "metadata": {
        "id": "42a7ukp7wEUs",
        "outputId": "e8c73158-a287-4647-d38c-08c4be5bafa7",
        "colab": {
          "base_uri": "https://localhost:8080/",
          "height": 298
        }
      },
      "execution_count": 16,
      "outputs": [
        {
          "output_type": "execute_result",
          "data": {
            "text/plain": [
              "<matplotlib.axes._subplots.AxesSubplot at 0x7fd2740c34d0>"
            ]
          },
          "metadata": {},
          "execution_count": 16
        },
        {
          "output_type": "display_data",
          "data": {
            "text/plain": [
              "<Figure size 432x288 with 1 Axes>"
            ],
            "image/png": "[encoded data removed]"
          },
          "metadata": {
            "needs_background": "light"
          }
        }
      ]
    },
    {
      "cell_type": "code",
      "source": [
        "sns.set(style=\"darkgrid\")\n",
        "notched = sns.boxplot(x=drug_pair_pc[\"n_cl\"], y=drug_pair_pc[\"Pearson coefficient\"], notch=True)\n",
        "sns.stripplot(x=drug_pair_pc[\"n_cl\"], y=drug_pair_pc[\"Pearson coefficient\"],\n",
        "              size=4, color=\".3\", linewidth=0)\n",
        "notched.set(xlabel = \"Number of cell lines\", ylabel=\"Pearson Correlation\")\n",
        "\n",
        "fig = notched.get_figure()\n",
        "plt.xlabel(\"Number of cell lines\", fontsize = 15)\n",
        "plt.ylabel(\"Pearson Correlation\", fontsize = 15)\n",
        "plt.xticks(fontsize = 13)\n",
        "plt.yticks(fontsize = 13)\n",
        "plt.axhline(0.32, linestyle = \"--\", color = \"red\")\n",
        "fig.savefig(\"/content/drive/MyDrive/archivos_tfm/notched_box_wpc_n_cl.pdf\", bbox_inches = 'tight')\n"
      ],
      "metadata": {
        "id": "Dr9mdkVlw-Ql",
        "outputId": "cf0af45e-15b6-4619-b2db-09ec40fe5b92",
        "colab": {
          "base_uri": "https://localhost:8080/",
          "height": 290
        }
      },
      "execution_count": 31,
      "outputs": [
        {
          "output_type": "display_data",
          "data": {
            "text/plain": [
              "<Figure size 432x288 with 1 Axes>"
            ],
            "image/png": "[encoded data removed]"
          },
          "metadata": {}
        }
      ]
    },
    {
      "cell_type": "markdown",
      "source": [
        "Now that we have added the LB dataset we see that we have a minimum of 5 cell lines per drug pair. Not bad.\n",
        "\n",
        "Now we do the rank plot for predicted and expected synergy on the test set. We use the test set that included the LB split."
      ],
      "metadata": {
        "id": "z3rdUduYwP18"
      }
    },
    {
      "cell_type": "code",
      "source": [
        "y_pred = np.loadtxt(\"/content/drive/MyDrive/archivos_tfm/y_pred_current_best_lb.txt\")\n"
      ],
      "metadata": {
        "id": "jnF75vstwMGe"
      },
      "execution_count": 18,
      "outputs": []
    },
    {
      "cell_type": "markdown",
      "source": [
        "We add the observed synergy to a copy of the test_df dataframe"
      ],
      "metadata": {
        "id": "O77N4dA321N-"
      }
    },
    {
      "cell_type": "code",
      "source": [
        "pred_obs = test_df.copy()\n",
        "pred_obs.columns = ['Cell line name', 'Compound A', 'Compound B', 'Max. conc. A',\n",
        "       'Max. conc. B', 'IC50 A', 'H A', 'Einf A', 'IC50 B', 'H B', 'Einf B',\n",
        "       'Experimental synergy score', 'QA', 'Combination ID', 'Challenge', 'Dataset']\n",
        "pred_obs[\"Predicted synergy score\"] = y_pred"
      ],
      "metadata": {
        "id": "Z22Hm5n32kve"
      },
      "execution_count": 19,
      "outputs": []
    },
    {
      "cell_type": "code",
      "source": [
        "pred_obs.columns"
      ],
      "metadata": {
        "id": "HsiwCcuq3FE2",
        "outputId": "fb01b329-f10e-4991-a396-1b1918972021",
        "colab": {
          "base_uri": "https://localhost:8080/"
        }
      },
      "execution_count": 20,
      "outputs": [
        {
          "output_type": "execute_result",
          "data": {
            "text/plain": [
              "Index(['Cell line name', 'Compound A', 'Compound B', 'Max. conc. A',\n",
              "       'Max. conc. B', 'IC50 A', 'H A', 'Einf A', 'IC50 B', 'H B', 'Einf B',\n",
              "       'Experimental synergy score', 'QA', 'Combination ID', 'Challenge',\n",
              "       'Dataset', 'Predicted synergy score'],\n",
              "      dtype='object')"
            ]
          },
          "metadata": {},
          "execution_count": 20
        }
      ]
    },
    {
      "cell_type": "code",
      "source": [
        "pred_obs.sort_values(by = \"Experimental synergy score\", inplace = True)\n",
        "plt.plot(pred_obs[\"Experimental synergy score\"], \n",
        "                pred_obs['Predicted synergy score'], \"bo\")\n",
        "plt.show()\n",
        "print(stats.spearmanr(pred_obs[\"Experimental synergy score\"], \n",
        "                                               pred_obs['Predicted synergy score']))\n",
        "\n",
        "print(stats.pearsonr(pred_obs[\"Experimental synergy score\"], \n",
        "                                               pred_obs['Predicted synergy score']))"
      ],
      "metadata": {
        "colab": {
          "base_uri": "https://localhost:8080/",
          "height": 305
        },
        "id": "6Y2Y6u6XX9ux",
        "outputId": "b98601ca-55cb-4672-8ca8-e81dd2a13cad"
      },
      "execution_count": 21,
      "outputs": [
        {
          "output_type": "display_data",
          "data": {
            "text/plain": [
              "<Figure size 432x288 with 1 Axes>"
            ],
            "image/png": "[encoded data removed]"
          },
          "metadata": {}
        },
        {
          "output_type": "stream",
          "name": "stdout",
          "text": [
            "SpearmanrResult(correlation=0.000213529088450742, pvalue=0.9930221303809402)\n",
            "(-0.012611825149306338, 0.6054585997585131)\n"
          ]
        }
      ]
    },
    {
      "cell_type": "markdown",
      "source": [
        "Nothing to see, if the results were perfect we would see the points falling in the y=x line. These experiments have a lot of noise and we already knew that this was a bad metric altogether.\n",
        "\n",
        "We can also see the WPC with the rank"
      ],
      "metadata": {
        "id": "lXHIsgQbZmXO"
      }
    },
    {
      "cell_type": "code",
      "source": [
        "plt.plot(np.arange(len(drug_pair_pc)), \n",
        "         drug_pair_pc.sort_values(by = \"Pearson coefficient\")[\"Pearson coefficient\"], \"bo\")\n",
        "\n",
        "plt.xlabel(\"Rank\", fontsize = 13)\n",
        "plt.ylabel(\"Pearson Correlation\", fontsize = 13)\n",
        "plt.savefig(\"/content/drive/MyDrive/archivos_tfm/pearson_correlation_rank.pdf\")"
      ],
      "metadata": {
        "colab": {
          "base_uri": "https://localhost:8080/",
          "height": 285
        },
        "id": "R2RW07wuYXa-",
        "outputId": "7923fa2c-abbd-4cb3-bd26-37a7af4fc1b7"
      },
      "execution_count": 22,
      "outputs": [
        {
          "output_type": "display_data",
          "data": {
            "text/plain": [
              "<Figure size 432x288 with 1 Axes>"
            ],
            "image/png": "[encoded data removed]"
          },
          "metadata": {}
        }
      ]
    },
    {
      "cell_type": "code",
      "source": [
        "drug_pair_pc[\"Pearson coefficient\"]"
      ],
      "metadata": {
        "colab": {
          "base_uri": "https://localhost:8080/"
        },
        "id": "ULFGedfKaRPA",
        "outputId": "7d3dd6e7-edc4-427a-cd8a-606a52e8b273"
      },
      "execution_count": 23,
      "outputs": [
        {
          "output_type": "execute_result",
          "data": {
            "text/plain": [
              "75     0.989832\n",
              "131    0.958138\n",
              "91     0.918519\n",
              "6      0.901655\n",
              "11     0.888264\n",
              "         ...   \n",
              "161   -0.518792\n",
              "127   -0.522854\n",
              "157   -0.652726\n",
              "66    -0.705411\n",
              "3     -0.757527\n",
              "Name: Pearson coefficient, Length: 167, dtype: float64"
            ]
          },
          "metadata": {},
          "execution_count": 23
        }
      ]
    },
    {
      "cell_type": "markdown",
      "source": [
        "# GDSC Tissue descriptor and synergy\n",
        "We are going to compare the predicted and observed synergy depending on things such as gdsc descriptor, pathway, function, etc. \n",
        "For that we use the dictionaries obtained for visualizing the embeddings"
      ],
      "metadata": {
        "id": "MgfeV8gzcd0S"
      }
    },
    {
      "cell_type": "code",
      "source": [
        "path = \"/content/drive/MyDrive/archivos_tfm/saezr_nc19_DataS1_modificado.xlsx\"\n",
        "sheet_to_df_map = pd.read_excel(path, sheet_name=None)\n",
        "df_cell_lines = sheet_to_df_map[\"Cell lines\"]\n",
        "\n",
        "df_drug_port = sheet_to_df_map[\"Drug portfolio\"]\n",
        "\n",
        "gdsc_dict = dict(zip(df_cell_lines[\"Cell line name\"], df_cell_lines[\"GDSC tissue descriptor 1\"]))\n",
        "function_dict = dict(zip(df_drug_port[\"Challenge drug name\"], df_drug_port[\"Function\"]))\n",
        "pathway_dict = dict(zip(df_drug_port[\"Challenge drug name\"], df_drug_port[\"Pathway\"]))"
      ],
      "metadata": {
        "colab": {
          "base_uri": "https://localhost:8080/"
        },
        "id": "XcEHpAs1cvya",
        "outputId": "eca58898-13e9-4d04-b714-bf90b7b35644"
      },
      "execution_count": null,
      "outputs": [
        {
          "output_type": "stream",
          "name": "stderr",
          "text": [
            "/usr/local/lib/python3.7/dist-packages/openpyxl/worksheet/_reader.py:312: UserWarning: Unknown extension is not supported and will be removed\n",
            "  warn(msg)\n"
          ]
        }
      ]
    },
    {
      "cell_type": "markdown",
      "source": [
        "We create the new columns that have the additional information of drugs and cell lines"
      ],
      "metadata": {
        "id": "GEsXIs38d5lQ"
      }
    },
    {
      "cell_type": "code",
      "source": [
        "pred_obs[\"GDSC tissue descriptor 1\"] = pred_obs['Cell line name'].map(gdsc_dict)\n",
        "\n",
        "pred_obs[\"Compound A Function\"] = pred_obs['Compound A'].map(function_dict)\n",
        "pred_obs[\"Compound B Function\"] = pred_obs['Compound B'].map(function_dict)\n",
        "\n",
        "pred_obs[\"Compound A Pathway\"] = pred_obs['Compound A'].map(pathway_dict)\n",
        "pred_obs[\"Compound B Pathway\"] = pred_obs['Compound B'].map(pathway_dict)\n",
        "pred_obs.to_csv(\"/content/drive/MyDrive/archivos_tfm/pred_obs_lb.csv\")"
      ],
      "metadata": {
        "id": "knRm_mdic_pt"
      },
      "execution_count": null,
      "outputs": []
    },
    {
      "cell_type": "code",
      "source": [
        "pred_obs.columns"
      ],
      "metadata": {
        "colab": {
          "base_uri": "https://localhost:8080/"
        },
        "id": "IY679YsoiqX4",
        "outputId": "a9517269-dfe4-494e-c805-b068b0ad4115"
      },
      "execution_count": null,
      "outputs": [
        {
          "output_type": "execute_result",
          "data": {
            "text/plain": [
              "Index(['Cell line name', 'Compound A', 'Compound B', 'Max. conc. A',\n",
              "       'Max. conc. B', 'IC50 A', 'H A', 'Einf A', 'IC50 B', 'H B', 'Einf B',\n",
              "       'Experimental synergy score', 'QA', 'Combination ID', 'Challenge',\n",
              "       'Dataset', 'Predicted synergy score', 'GDSC tissue descriptor 1',\n",
              "       'Compound A Function', 'Compound B Function', 'Compound A Pathway',\n",
              "       'Compound B Pathway'],\n",
              "      dtype='object')"
            ]
          },
          "metadata": {},
          "execution_count": 55
        }
      ]
    },
    {
      "cell_type": "code",
      "source": [
        "sns.set(rc={'figure.figsize':(8.7,6.27)})\n",
        "\n",
        "notched = sns.boxplot(x=pred_obs[\"GDSC tissue descriptor 1\"], y=pred_obs['Experimental synergy score'], notch=True)\n",
        "\n",
        "fig = notched.get_figure()\n"
      ],
      "metadata": {
        "colab": {
          "base_uri": "https://localhost:8080/",
          "height": 409
        },
        "id": "qU8-1oLAdddo",
        "outputId": "63a59264-cc2d-441e-be98-e8982b81ff70"
      },
      "execution_count": null,
      "outputs": [
        {
          "output_type": "display_data",
          "data": {
            "text/plain": [
              "<Figure size 626.4x451.44 with 1 Axes>"
            ],
            "image/png": "[encoded data removed]"
          },
          "metadata": {}
        }
      ]
    },
    {
      "cell_type": "markdown",
      "source": [
        "We cap the experimental synergy to 100 for better visualization"
      ],
      "metadata": {
        "id": "bO4-RqT5j4nJ"
      }
    },
    {
      "cell_type": "code",
      "source": [
        "def capped(x):\n",
        "  if np.abs(x) <= 100:\n",
        "    return x\n",
        "  else:\n",
        "    return np.sign(x)*100\n",
        "exp_syn_cap = [capped(x) for x in pred_obs['Experimental synergy score']]\n",
        "pred_obs['Experimental synergy score capped'] = exp_syn_cap"
      ],
      "metadata": {
        "id": "ZiRBF9Odj07U"
      },
      "execution_count": null,
      "outputs": []
    },
    {
      "cell_type": "code",
      "source": [
        "sns.set_theme(style=\"ticks\")\n",
        "fig1 = plt.figure(figsize=(9, 11))\n",
        "\n",
        "\n",
        "sns.boxplot(x='Experimental synergy score capped', \n",
        "            y=\"GDSC tissue descriptor 1\", data=pred_obs,\n",
        "            whis=[0, 100], width=.6, palette=\"vlag\", notch=True)\n",
        "sns.stripplot(x='Experimental synergy score capped', y=\"GDSC tissue descriptor 1\", data=pred_obs,\n",
        "              size=4, color=\".3\", linewidth=0)\n",
        "ax.set(xlabel ='Experimental synergy score' ,ylabel=\"GDSC tissue descriptor 1\")\n",
        "#sns.despine(trim=True, left=True)\n",
        "plt.savefig(\"/content/drive/MyDrive/archivos_tfm/experimental_synergy_tissue.pdf\",\n",
        "            bbox_inches = 'tight')"
      ],
      "metadata": {
        "colab": {
          "base_uri": "https://localhost:8080/",
          "height": 665
        },
        "id": "Ns8xVOpKj9pG",
        "outputId": "c1cb996c-fb4b-4fee-d208-48a8a778e7b2"
      },
      "execution_count": null,
      "outputs": [
        {
          "output_type": "display_data",
          "data": {
            "text/plain": [
              "<Figure size 648x792 with 1 Axes>"
            ],
            "image/png": "[encoded data removed]"
          },
          "metadata": {}
        }
      ]
    },
    {
      "cell_type": "code",
      "source": [
        "sns.set_theme(style=\"ticks\")\n",
        "fig2 = plt.figure(figsize=(9, 11))\n",
        "\n",
        "\n",
        "sns.boxplot(x='Predicted synergy score', y=\"GDSC tissue descriptor 1\", data=pred_obs,\n",
        "            whis=[0, 100], width=.6, palette=\"vlag\",notch=True)\n",
        "sns.stripplot(x='Predicted synergy score', y=\"GDSC tissue descriptor 1\", data=pred_obs,\n",
        "              size=4, color=\".3\", linewidth=0)\n",
        "ax.set(xlabel ='Predicted synergy score' ,ylabel=\"GDSC tissue descriptor 1\")\n",
        "#sns.despine(trim=True, left=True)\n",
        "plt.savefig(\"/content/drive/MyDrive/archivos_tfm/predicted_synergy_tissue.pdf\",\n",
        "            bbox_inches = 'tight')"
      ],
      "metadata": {
        "colab": {
          "base_uri": "https://localhost:8080/",
          "height": 665
        },
        "id": "6NCerr0wnIed",
        "outputId": "3fb8568d-8138-4374-e9b0-1a6621aad91d"
      },
      "execution_count": null,
      "outputs": [
        {
          "output_type": "display_data",
          "data": {
            "text/plain": [
              "<Figure size 648x792 with 1 Axes>"
            ],
            "image/png": "[encoded data removed]"
          },
          "metadata": {}
        }
      ]
    },
    {
      "cell_type": "code",
      "source": [
        "plt.subplot(1, 2, 1)\n",
        "ax1 =sns.boxplot(x='Experimental synergy score capped', \n",
        "            y=\"GDSC tissue descriptor 1\", data=pred_obs,\n",
        "            whis=[0, 100], width=.6, palette=\"vlag\", notch=True)\n",
        "sns.stripplot(x='Experimental synergy score capped', y=\"GDSC tissue descriptor 1\", data=pred_obs,\n",
        "              size=4, color=\".3\", linewidth=0)\n",
        "ax1.set(xlabel ='Experimental synergy score' ,ylabel=\"GDSC tissue descriptor 1\")\n",
        "\n",
        "plt.subplot(1, 2, 2)\n",
        "ax2 = sns.boxplot(x='Predicted synergy score', y=\"GDSC tissue descriptor 1\", data=pred_obs,\n",
        "            whis=[0, 100], width=.6, palette=\"vlag\",notch=True)\n",
        "sns.stripplot(x='Predicted synergy score', y=\"GDSC tissue descriptor 1\", data=pred_obs,\n",
        "              size=4, color=\".3\", linewidth=0)\n",
        "ax2.set(xlabel ='Predicted synergy score', ylabel = \"\")\n",
        "ax2.set(yticklabels=[])\n",
        "\n",
        "plt.show()\n",
        "plt.savefig(\"/content/drive/MyDrive/archivos_tfm/predicted_observed_synergy_tissue.pdf\",\n",
        "            bbox_inches = 'tight')"
      ],
      "metadata": {
        "colab": {
          "base_uri": "https://localhost:8080/",
          "height": 426
        },
        "id": "KQty3wJVpQB8",
        "outputId": "8230e504-a8b5-4674-9fff-81294d1d82d4"
      },
      "execution_count": null,
      "outputs": [
        {
          "output_type": "display_data",
          "data": {
            "text/plain": [
              "<Figure size 626.4x451.44 with 2 Axes>"
            ],
            "image/png": "[encoded data removed]"
          },
          "metadata": {}
        },
        {
          "output_type": "display_data",
          "data": {
            "text/plain": [
              "<Figure size 626.4x451.44 with 0 Axes>"
            ]
          },
          "metadata": {}
        }
      ]
    },
    {
      "cell_type": "markdown",
      "source": [
        "We observe that we had an statistically significant difference in synergy for lung_NSCLC and urogenital_system tissues in the observed data that we don't see in the prediction of the model."
      ],
      "metadata": {
        "id": "SeCxTlq8q3V6"
      }
    },
    {
      "cell_type": "markdown",
      "source": [
        "# Pathway and function\n",
        "\n",
        "Now we should do the same by commuting the dataset and analyzing synergy by pathway and function"
      ],
      "metadata": {
        "id": "iB_8jt1rrP8-"
      }
    }
  ]
}